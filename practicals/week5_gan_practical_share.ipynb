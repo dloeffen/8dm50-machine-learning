{
  "nbformat": 4,
  "nbformat_minor": 0,
  "metadata": {
    "colab": {
      "name": "gan_practical_share.ipynb",
      "provenance": [],
      "collapsed_sections": [
        "t1rhzu_KRVfD",
        "Y9hTkVp1ESQW",
        "4hq5i_sySZL1",
        "blRfoIS4Uo8-",
        "5BGSHlx-VmVY",
        "NH_4zv4gnYhg",
        "p7MFDUeHSgQ-",
        "jmtZkf5AnW6y",
        "dEjdfhRZsUGR",
        "S8CchPs2kIVT",
        "RBALpqMLFPt2",
        "dqKCNciykQ-2",
        "VBQvHB70RjZi"
      ],
      "include_colab_link": true
    },
    "kernelspec": {
      "name": "python3",
      "display_name": "Python 3"
    },
    "accelerator": "GPU"
  },
  "cells": [
    {
      "cell_type": "markdown",
      "metadata": {
        "id": "view-in-github",
        "colab_type": "text"
      },
      "source": [
        "<a href=\"https://colab.research.google.com/github/dloeffen/8dm50-machine-learning/blob/master/week5_gan_practical_share.ipynb\" target=\"_parent\"><img src=\"https://colab.research.google.com/assets/colab-badge.svg\" alt=\"Open In Colab\"/></a>"
      ]
    },
    {
      "cell_type": "markdown",
      "metadata": {
        "id": "t1rhzu_KRVfD"
      },
      "source": [
        "# Data synthesis using generative adversarial networks (GANs)\n",
        "\n",
        "In this practical session we will build and train generative adversarial networks that are able to generate images.\n",
        "\n",
        "This is a Google Colab notebook, which is mostly the same as a Jupyter notebook. This means that you can run the code in a cell by selecting the cell and pressing Shift+Enter. We will run everything in the cloud, so you don't need a fancy computer or an expensive GPU for this exercise. We are going to use GPUs that Google Cloud provides for free. To do this, go to Edit --> Notebook settings and select GPU as Hardware accelerator. Then, in the top right of this screen select 'CONNECT' --> 'Connect to hosted runtime'\n",
        "\n",
        "We are going to import some of the packages that we will need in this exercise (by running the cell below)\n",
        "\n",
        "The documentation for key packages can be found online: <br>\n",
        "For numpy: https://docs.scipy.org/doc/numpy-dev/user/quickstart.html <br>\n",
        "For matplotlib: http://matplotlib.org/api/pyplot_api.html <br>\n",
        "For Keras: https://keras.io/ <br>\n",
        "For random: https://docs.python.org/2/library/random.html <br>"
      ]
    },
    {
      "cell_type": "code",
      "metadata": {
        "id": "HV9fYTQRRQ6J"
      },
      "source": [
        "%tensorflow_version 1.x\n",
        "import pickle\n",
        "import gzip\n",
        "import numpy as np\n",
        "\n",
        "import matplotlib.pyplot as plt\n",
        "%matplotlib inline\n",
        "from matplotlib import rc\n",
        "from matplotlib import pylab\n",
        "from IPython import display\n",
        "\n",
        "import tensorflow as tf\n",
        "import keras\n",
        "keras.backend.set_image_data_format('channels_first')\n",
        "\n",
        "import time\n",
        "import random\n",
        "from google.colab import files\n",
        "from google.colab import widgets\n",
        "random.seed(0)\n",
        "\n",
        "# Check whether we're using a GPU\n",
        "device_name = tf.test.gpu_device_name()\n",
        "if device_name != '/device:GPU:0':\n",
        "  raise SystemError('GPU device not found')\n",
        "print('Found GPU at: {}'.format(device_name))\n",
        "\n",
        "tf.logging.set_verbosity(tf.logging.ERROR)"
      ],
      "execution_count": null,
      "outputs": []
    },
    {
      "cell_type": "markdown",
      "metadata": {
        "id": "Y9hTkVp1ESQW"
      },
      "source": [
        "## Small steps\n",
        "Before moving on to generating images, we will start with a simple 1D problem. We will assume that there is a data set of real samples that are drawn from a normal distribution with a particular mean value (the black dotted line below). These samples are in the sample domain *x*. \n",
        "\n",
        "The generator network does not know anything about the distribution of the real samples in the sample domain *x*, but will try to come up with a transformation that maps random noise from a distribution *z* to samples that seem to come from the real sample distribution (the green line below). This is very similar to what we have looked at in the lecture.\n",
        "\n",
        "<img src=\"https://cs.stanford.edu/people/karpathy/gan/gan.png\">\n",
        "\n",
        "For this, we will define two neural networks that play a game:\n",
        "*   The discriminator will learn to distinguish real and fake samples in *z*\n",
        "*   The generator will generate fake samples in *z* that the discriminator cannot discriminate\n",
        "\n",
        "First, we determine the mean value of the normal distribution from which **real** samples will be drawn in the sample domain *x*. In addition, we define the dimensionality of the normal distribution *z* from which noise samples to the generator will be drawn, i.e. the latent space. This will be 1 for now."
      ]
    },
    {
      "cell_type": "code",
      "metadata": {
        "id": "rsg4CLVHgMeJ"
      },
      "source": [
        "real_mean = 8\n",
        "latent_dim = 1"
      ],
      "execution_count": 2,
      "outputs": []
    },
    {
      "cell_type": "markdown",
      "metadata": {
        "id": "2eLRuaRXgSKn"
      },
      "source": [
        "Next, we define our discriminator and generator. These are both very simple networks.\n",
        "\n",
        "**Question** How many layers does each of these networks have? \n",
        "\n",
        "**Question** Can you find out how many trainable parameters the networks have?\n",
        "\n",
        "**Question** What are the activation functions of both networks? Why are they like this? "
      ]
    },
    {
      "cell_type": "code",
      "metadata": {
        "id": "ACf058DjgZ9_"
      },
      "source": [
        "# For easier reading\n",
        "from keras.layers.core import Reshape, Dense, Dropout, Flatten\n",
        "from keras.layers.advanced_activations import LeakyReLU\n",
        "\n",
        "# The discriminator will directly classify the input value\n",
        "def get_discriminator_1D():\n",
        "  discriminator = keras.models.Sequential()\n",
        "  discriminator.add(Dense(32, input_dim=1))\n",
        "  discriminator.add(LeakyReLU())\n",
        "  discriminator.add(Dense(1, activation='sigmoid'))\n",
        "  return discriminator\n",
        "\n",
        "# The generator will transform a single input value\n",
        "def get_generator_1D():\n",
        "  generator = keras.models.Sequential()\n",
        "  generator.add(Dense(32, input_dim=1))\n",
        "  generator.add(LeakyReLU())\n",
        "  generator.add(Dense(1))\n",
        "  return generator"
      ],
      "execution_count": 3,
      "outputs": []
    },
    {
      "cell_type": "markdown",
      "metadata": {
        "id": "0QYrW32ehE3_"
      },
      "source": [
        "Now, we will define the training functions for both networks. Consider what is actually happening in a GAN and how the inputs and outputs are connected. There are three variables when training this GAN\n",
        "\n",
        "*   **z**: the noise that will be input to the generator\n",
        "*   **G_z**: the output of the generator, i.e. the samples that should approximate the real samples\n",
        "*   **D_G_z**: the discriminator's decision based on the fake sample\n",
        "\n",
        "The overall objective function of our system is as follows\n",
        "\n",
        "$V^{(D)}(D,G)=\\underset{x\\sim p_{data}}{\\mathbb{E}} [\\log{D(x)}]+\\underset{z\\sim p_z}{\\mathbb{E}} [\\log{(1-D(G(z)))}]$\n",
        "\n",
        "The generator $G$ is trying to minimize this loss, and the discriminator $D$ tries to maximize this. In other words, the discriminator wants to minimize the binary cross-entropy s.t. it predicts 1 for real samples and 0 for fake samples. At the same time, the generator tries to get the discriminator to predict 1 for fake samples.\n",
        "\n",
        "\n"
      ]
    },
    {
      "cell_type": "code",
      "metadata": {
        "id": "H30WDcfXF7tY"
      },
      "source": [
        "# Get networks\n",
        "discriminator = get_discriminator_1D()\n",
        "generator = get_generator_1D()\n",
        "\n",
        "# Configure both models for training\n",
        "discriminator.compile(loss='binary_crossentropy', optimizer=keras.optimizers.Adam(lr=0.0002, beta_1=0.5))\n",
        "generator.compile(loss='binary_crossentropy', optimizer=keras.optimizers.Adam(lr=0.0002, beta_1=0.5))\n",
        "\n",
        "# To configure the full model, we will set the 'trainable' parameter of the discriminator to False, as we don't want to optimize the discriminator when optimizing the generator\n",
        "discriminator.trainable = False\n",
        "\n",
        "# The input variable (noise) for the generator\n",
        "z = keras.layers.Input(shape=(latent_dim,))\n",
        "\n",
        "# What comes out of the generator\n",
        "G_z = generator(z)\n",
        "\n",
        "# What comes out of the discriminator when classifying the 'fake' samples\n",
        "D_G_z = discriminator(G_z)\n",
        "\n",
        "# The full GAN model\n",
        "gan = keras.models.Model(inputs=z, outputs=D_G_z)\n",
        "\n",
        "# The loss function for the GAN: this gets lower if the fake samples are classified as real\n",
        "gan.compile(loss='binary_crossentropy', optimizer=keras.optimizers.Adam(lr=0.0002, beta_1=0.5))"
      ],
      "execution_count": 4,
      "outputs": []
    },
    {
      "cell_type": "markdown",
      "metadata": {
        "id": "7MlpUJ_716Tk"
      },
      "source": [
        "The code below runs the training loop. This could take a while. The code will periodically show a plot of the current situation.\n",
        "\n",
        "**Question** Why do we set discriminator.trainable to either True or False?"
      ]
    },
    {
      "cell_type": "code",
      "metadata": {
        "id": "ynLndgse0r9V",
        "outputId": "e465f648-c852-4041-a079-22db8adf44e9",
        "colab": {
          "base_uri": "https://localhost:8080/",
          "height": 0
        }
      },
      "source": [
        "# We will store the losses here\n",
        "g_losses = []\n",
        "d_losses = []\n",
        "\n",
        "# Training loop\n",
        "n_samples = 100\n",
        "epochs = 10000\n",
        "\n",
        "grid = widgets.Grid(1, 1)\n",
        "\n",
        "for e in range(epochs):\n",
        "  # Get a random set of input noise\n",
        "  noise = np.random.normal(0, 1, size=[n_samples, latent_dim])\n",
        "\n",
        "  # Also get a sample from the 'real' distribution\n",
        "  real = np.random.normal(real_mean, 1, size=[n_samples, latent_dim])\n",
        "\n",
        "  # Generate some fake samples using the generator\n",
        "  fake = generator.predict(noise)\n",
        "\n",
        "  # Concatenate the fake and real images\n",
        "  X = np.concatenate([real, fake])\n",
        "\n",
        "  # Labels for generated and real data\n",
        "  Y_dis = np.zeros(2*n_samples)\n",
        "  \n",
        "  # Set labels for real samples to 1\n",
        "  Y_dis[:n_samples] = 1\n",
        "\n",
        "  # Train discriminator with this batch of samples\n",
        "  discriminator.trainable = True\n",
        "  d_loss = discriminator.train_on_batch(X, Y_dis)\n",
        "  d_losses.append(d_loss)\n",
        "  \n",
        "  # Train generator with a new batch of generated samples\n",
        "  # Freeze the discriminator part\n",
        "  discriminator.trainable = False \n",
        "  noise = np.random.normal(0, 1, size=[n_samples, latent_dim])\n",
        "  # From the generator's perspective, the discriminator should predict\n",
        "  # ones for all samples\n",
        "  Y_gen = np.ones(n_samples)\n",
        "  g_loss = gan.train_on_batch(noise, Y_gen)\n",
        "  g_losses.append(g_loss)\n",
        "  \n",
        "  if e % 100 == 0:\n",
        "    noise = np.random.normal(0, 1, size=[n_samples, latent_dim])\n",
        "    fake = generator.predict(noise)        \n",
        "    real = np.random.normal(real_mean, 1, size=[n_samples, latent_dim])\n",
        "    pred = discriminator.predict(np.arange(-20, 20, 0.5).reshape((80, 1)))\n",
        "    with grid.output_to(0, 0):\n",
        "      grid.clear_cell()\n",
        "      \n",
        "      # plt.clf()\n",
        "      pylab.hist((np.squeeze(fake), np.squeeze(real)), density=True, stacked=True)\n",
        "      pylab.scatter(np.arange(-20, 20, 0.5), pred, c='r')     \n",
        "      pylab.xlim(-20, 20)\n",
        "      pylab.ylim(0, 1)\n",
        "      pylab.title('Iteration {}'.format(e))\n",
        "      pylab.legend(['Discriminator', 'Fake', 'Real'])\n",
        "    time.sleep(0.5)"
      ],
      "execution_count": null,
      "outputs": [
        {
          "output_type": "display_data",
          "data": {
            "text/html": [
              "<style>\n",
              "       table#id2, #id2 > tbody > tr > th, #id2 > tbody > tr > td {\n",
              "         border: 1px solid lightgray;\n",
              "         border-collapse:collapse;\n",
              "         \n",
              "        }</style>"
            ],
            "text/plain": [
              "<IPython.core.display.HTML object>"
            ]
          },
          "metadata": {
            "tags": [
              "outputarea_id2"
            ]
          }
        },
        {
          "output_type": "display_data",
          "data": {
            "text/html": [
              "<table id=id2><tr><td id=id2-0-0></td></tr></table>"
            ],
            "text/plain": [
              "<IPython.core.display.HTML object>"
            ]
          },
          "metadata": {
            "tags": [
              "outputarea_id2"
            ]
          }
        },
        {
          "output_type": "display_data",
          "data": {
            "application/javascript": [
              "window[\"5439b1d8-06e5-11eb-b102-0242ac1c0002\"] = google.colab.output.getActiveOutputArea();\n",
              "//# sourceURL=js_5fac8269c8"
            ],
            "text/plain": [
              "<IPython.core.display.Javascript object>"
            ]
          },
          "metadata": {
            "tags": [
              "id2-0-0",
              "outputarea_id2"
            ]
          }
        },
        {
          "output_type": "display_data",
          "data": {
            "application/javascript": [
              "window[\"5439e20c-06e5-11eb-b102-0242ac1c0002\"] = document.querySelector(\"#id2-0-0\");\n",
              "//# sourceURL=js_46821ca607"
            ],
            "text/plain": [
              "<IPython.core.display.Javascript object>"
            ]
          },
          "metadata": {
            "tags": [
              "id2-0-0",
              "outputarea_id2"
            ]
          }
        },
        {
          "output_type": "display_data",
          "data": {
            "application/javascript": [
              "window[\"543a765e-06e5-11eb-b102-0242ac1c0002\"] = google.colab.output.setActiveOutputArea(window[\"5439e20c-06e5-11eb-b102-0242ac1c0002\"]);\n",
              "//# sourceURL=js_719fdbfc94"
            ],
            "text/plain": [
              "<IPython.core.display.Javascript object>"
            ]
          },
          "metadata": {
            "tags": [
              "id2-0-0",
              "outputarea_id2"
            ]
          }
        },
        {
          "output_type": "display_data",
          "data": {
            "application/javascript": [
              "window[\"54584396-06e5-11eb-b102-0242ac1c0002\"] = google.colab.output.setActiveOutputArea(window[\"5439b1d8-06e5-11eb-b102-0242ac1c0002\"]);\n",
              "//# sourceURL=js_a0564e402c"
            ],
            "text/plain": [
              "<IPython.core.display.Javascript object>"
            ]
          },
          "metadata": {
            "tags": [
              "id2-0-0",
              "outputarea_id2"
            ]
          }
        },
        {
          "output_type": "display_data",
          "data": {
            "application/javascript": [
              "window[\"5508d936-06e5-11eb-b102-0242ac1c0002\"] = google.colab.output.getActiveOutputArea();\n",
              "//# sourceURL=js_62c3063c44"
            ],
            "text/plain": [
              "<IPython.core.display.Javascript object>"
            ]
          },
          "metadata": {
            "tags": [
              "id2-0-0",
              "outputarea_id2"
            ]
          }
        },
        {
          "output_type": "display_data",
          "data": {
            "application/javascript": [
              "window[\"55092044-06e5-11eb-b102-0242ac1c0002\"] = document.querySelector(\"#id2-0-0\");\n",
              "//# sourceURL=js_4dd1ead267"
            ],
            "text/plain": [
              "<IPython.core.display.Javascript object>"
            ]
          },
          "metadata": {
            "tags": [
              "id2-0-0",
              "outputarea_id2"
            ]
          }
        },
        {
          "output_type": "display_data",
          "data": {
            "application/javascript": [
              "window[\"55095956-06e5-11eb-b102-0242ac1c0002\"] = google.colab.output.setActiveOutputArea(window[\"55092044-06e5-11eb-b102-0242ac1c0002\"]);\n",
              "//# sourceURL=js_2623a3b7ea"
            ],
            "text/plain": [
              "<IPython.core.display.Javascript object>"
            ]
          },
          "metadata": {
            "tags": [
              "id2-0-0",
              "outputarea_id2"
            ]
          }
        },
        {
          "output_type": "display_data",
          "data": {
            "application/javascript": [
              "window[\"552396ea-06e5-11eb-b102-0242ac1c0002\"] = google.colab.output.setActiveOutputArea(window[\"5508d936-06e5-11eb-b102-0242ac1c0002\"]);\n",
              "//# sourceURL=js_9c934f343c"
            ],
            "text/plain": [
              "<IPython.core.display.Javascript object>"
            ]
          },
          "metadata": {
            "tags": [
              "id2-0-0",
              "outputarea_id2"
            ]
          }
        },
        {
          "output_type": "display_data",
          "data": {
            "application/javascript": [
              "window[\"55d6d246-06e5-11eb-b102-0242ac1c0002\"] = google.colab.output.getActiveOutputArea();\n",
              "//# sourceURL=js_5be6800749"
            ],
            "text/plain": [
              "<IPython.core.display.Javascript object>"
            ]
          },
          "metadata": {
            "tags": [
              "id2-0-0",
              "outputarea_id2"
            ]
          }
        },
        {
          "output_type": "display_data",
          "data": {
            "application/javascript": [
              "window[\"55d72b9c-06e5-11eb-b102-0242ac1c0002\"] = document.querySelector(\"#id2-0-0\");\n",
              "//# sourceURL=js_a1c1238519"
            ],
            "text/plain": [
              "<IPython.core.display.Javascript object>"
            ]
          },
          "metadata": {
            "tags": [
              "id2-0-0",
              "outputarea_id2"
            ]
          }
        },
        {
          "output_type": "display_data",
          "data": {
            "application/javascript": [
              "window[\"55d7e51e-06e5-11eb-b102-0242ac1c0002\"] = google.colab.output.setActiveOutputArea(window[\"55d72b9c-06e5-11eb-b102-0242ac1c0002\"]);\n",
              "//# sourceURL=js_d39608b649"
            ],
            "text/plain": [
              "<IPython.core.display.Javascript object>"
            ]
          },
          "metadata": {
            "tags": [
              "id2-0-0",
              "outputarea_id2"
            ]
          }
        },
        {
          "output_type": "display_data",
          "data": {
            "application/javascript": [
              "window[\"55f2ace6-06e5-11eb-b102-0242ac1c0002\"] = google.colab.output.setActiveOutputArea(window[\"55d6d246-06e5-11eb-b102-0242ac1c0002\"]);\n",
              "//# sourceURL=js_76144ad7d5"
            ],
            "text/plain": [
              "<IPython.core.display.Javascript object>"
            ]
          },
          "metadata": {
            "tags": [
              "id2-0-0",
              "outputarea_id2"
            ]
          }
        },
        {
          "output_type": "display_data",
          "data": {
            "application/javascript": [
              "window[\"56a404aa-06e5-11eb-b102-0242ac1c0002\"] = google.colab.output.getActiveOutputArea();\n",
              "//# sourceURL=js_8608117090"
            ],
            "text/plain": [
              "<IPython.core.display.Javascript object>"
            ]
          },
          "metadata": {
            "tags": [
              "id2-0-0",
              "outputarea_id2"
            ]
          }
        },
        {
          "output_type": "display_data",
          "data": {
            "application/javascript": [
              "window[\"56a482fe-06e5-11eb-b102-0242ac1c0002\"] = document.querySelector(\"#id2-0-0\");\n",
              "//# sourceURL=js_820cd37b9e"
            ],
            "text/plain": [
              "<IPython.core.display.Javascript object>"
            ]
          },
          "metadata": {
            "tags": [
              "id2-0-0",
              "outputarea_id2"
            ]
          }
        },
        {
          "output_type": "display_data",
          "data": {
            "application/javascript": [
              "window[\"56a50a4e-06e5-11eb-b102-0242ac1c0002\"] = google.colab.output.setActiveOutputArea(window[\"56a482fe-06e5-11eb-b102-0242ac1c0002\"]);\n",
              "//# sourceURL=js_c070b16df2"
            ],
            "text/plain": [
              "<IPython.core.display.Javascript object>"
            ]
          },
          "metadata": {
            "tags": [
              "id2-0-0",
              "outputarea_id2"
            ]
          }
        },
        {
          "output_type": "display_data",
          "data": {
            "application/javascript": [
              "window[\"56c2aa36-06e5-11eb-b102-0242ac1c0002\"] = google.colab.output.setActiveOutputArea(window[\"56a404aa-06e5-11eb-b102-0242ac1c0002\"]);\n",
              "//# sourceURL=js_f54922f857"
            ],
            "text/plain": [
              "<IPython.core.display.Javascript object>"
            ]
          },
          "metadata": {
            "tags": [
              "id2-0-0",
              "outputarea_id2"
            ]
          }
        },
        {
          "output_type": "display_data",
          "data": {
            "application/javascript": [
              "window[\"57718d08-06e5-11eb-b102-0242ac1c0002\"] = google.colab.output.getActiveOutputArea();\n",
              "//# sourceURL=js_167185c1bb"
            ],
            "text/plain": [
              "<IPython.core.display.Javascript object>"
            ]
          },
          "metadata": {
            "tags": [
              "id2-0-0",
              "outputarea_id2"
            ]
          }
        },
        {
          "output_type": "display_data",
          "data": {
            "application/javascript": [
              "window[\"57721ade-06e5-11eb-b102-0242ac1c0002\"] = document.querySelector(\"#id2-0-0\");\n",
              "//# sourceURL=js_77a409f2b8"
            ],
            "text/plain": [
              "<IPython.core.display.Javascript object>"
            ]
          },
          "metadata": {
            "tags": [
              "id2-0-0",
              "outputarea_id2"
            ]
          }
        },
        {
          "output_type": "display_data",
          "data": {
            "application/javascript": [
              "window[\"57725666-06e5-11eb-b102-0242ac1c0002\"] = google.colab.output.setActiveOutputArea(window[\"57721ade-06e5-11eb-b102-0242ac1c0002\"]);\n",
              "//# sourceURL=js_86310d56ca"
            ],
            "text/plain": [
              "<IPython.core.display.Javascript object>"
            ]
          },
          "metadata": {
            "tags": [
              "id2-0-0",
              "outputarea_id2"
            ]
          }
        },
        {
          "output_type": "display_data",
          "data": {
            "application/javascript": [
              "window[\"578ca76e-06e5-11eb-b102-0242ac1c0002\"] = google.colab.output.setActiveOutputArea(window[\"57718d08-06e5-11eb-b102-0242ac1c0002\"]);\n",
              "//# sourceURL=js_99dfab18f9"
            ],
            "text/plain": [
              "<IPython.core.display.Javascript object>"
            ]
          },
          "metadata": {
            "tags": [
              "id2-0-0",
              "outputarea_id2"
            ]
          }
        },
        {
          "output_type": "display_data",
          "data": {
            "application/javascript": [
              "window[\"58476edc-06e5-11eb-b102-0242ac1c0002\"] = google.colab.output.getActiveOutputArea();\n",
              "//# sourceURL=js_800098c2f3"
            ],
            "text/plain": [
              "<IPython.core.display.Javascript object>"
            ]
          },
          "metadata": {
            "tags": [
              "id2-0-0",
              "outputarea_id2"
            ]
          }
        },
        {
          "output_type": "display_data",
          "data": {
            "application/javascript": [
              "window[\"5847fcf8-06e5-11eb-b102-0242ac1c0002\"] = document.querySelector(\"#id2-0-0\");\n",
              "//# sourceURL=js_5081b3d109"
            ],
            "text/plain": [
              "<IPython.core.display.Javascript object>"
            ]
          },
          "metadata": {
            "tags": [
              "id2-0-0",
              "outputarea_id2"
            ]
          }
        },
        {
          "output_type": "display_data",
          "data": {
            "application/javascript": [
              "window[\"584889de-06e5-11eb-b102-0242ac1c0002\"] = google.colab.output.setActiveOutputArea(window[\"5847fcf8-06e5-11eb-b102-0242ac1c0002\"]);\n",
              "//# sourceURL=js_9048cc79d9"
            ],
            "text/plain": [
              "<IPython.core.display.Javascript object>"
            ]
          },
          "metadata": {
            "tags": [
              "id2-0-0",
              "outputarea_id2"
            ]
          }
        },
        {
          "output_type": "display_data",
          "data": {
            "application/javascript": [
              "window[\"5863985a-06e5-11eb-b102-0242ac1c0002\"] = google.colab.output.setActiveOutputArea(window[\"58476edc-06e5-11eb-b102-0242ac1c0002\"]);\n",
              "//# sourceURL=js_c734448d6e"
            ],
            "text/plain": [
              "<IPython.core.display.Javascript object>"
            ]
          },
          "metadata": {
            "tags": [
              "id2-0-0",
              "outputarea_id2"
            ]
          }
        },
        {
          "output_type": "display_data",
          "data": {
            "application/javascript": [
              "window[\"591a99ce-06e5-11eb-b102-0242ac1c0002\"] = google.colab.output.getActiveOutputArea();\n",
              "//# sourceURL=js_ceb84af322"
            ],
            "text/plain": [
              "<IPython.core.display.Javascript object>"
            ]
          },
          "metadata": {
            "tags": [
              "id2-0-0",
              "outputarea_id2"
            ]
          }
        },
        {
          "output_type": "display_data",
          "data": {
            "application/javascript": [
              "window[\"591ae78a-06e5-11eb-b102-0242ac1c0002\"] = document.querySelector(\"#id2-0-0\");\n",
              "//# sourceURL=js_d9e76ead08"
            ],
            "text/plain": [
              "<IPython.core.display.Javascript object>"
            ]
          },
          "metadata": {
            "tags": [
              "id2-0-0",
              "outputarea_id2"
            ]
          }
        },
        {
          "output_type": "display_data",
          "data": {
            "application/javascript": [
              "window[\"591b209c-06e5-11eb-b102-0242ac1c0002\"] = google.colab.output.setActiveOutputArea(window[\"591ae78a-06e5-11eb-b102-0242ac1c0002\"]);\n",
              "//# sourceURL=js_baa1c4364c"
            ],
            "text/plain": [
              "<IPython.core.display.Javascript object>"
            ]
          },
          "metadata": {
            "tags": [
              "id2-0-0",
              "outputarea_id2"
            ]
          }
        },
        {
          "output_type": "display_data",
          "data": {
            "application/javascript": [
              "window[\"59361c62-06e5-11eb-b102-0242ac1c0002\"] = google.colab.output.setActiveOutputArea(window[\"591a99ce-06e5-11eb-b102-0242ac1c0002\"]);\n",
              "//# sourceURL=js_d75d903403"
            ],
            "text/plain": [
              "<IPython.core.display.Javascript object>"
            ]
          },
          "metadata": {
            "tags": [
              "id2-0-0",
              "outputarea_id2"
            ]
          }
        },
        {
          "output_type": "display_data",
          "data": {
            "application/javascript": [
              "window[\"59f25030-06e5-11eb-b102-0242ac1c0002\"] = google.colab.output.getActiveOutputArea();\n",
              "//# sourceURL=js_4bb7924767"
            ],
            "text/plain": [
              "<IPython.core.display.Javascript object>"
            ]
          },
          "metadata": {
            "tags": [
              "id2-0-0",
              "outputarea_id2"
            ]
          }
        },
        {
          "output_type": "display_data",
          "data": {
            "application/javascript": [
              "window[\"59f2a7e2-06e5-11eb-b102-0242ac1c0002\"] = document.querySelector(\"#id2-0-0\");\n",
              "//# sourceURL=js_2569250aaf"
            ],
            "text/plain": [
              "<IPython.core.display.Javascript object>"
            ]
          },
          "metadata": {
            "tags": [
              "id2-0-0",
              "outputarea_id2"
            ]
          }
        },
        {
          "output_type": "display_data",
          "data": {
            "application/javascript": [
              "window[\"59f2dc94-06e5-11eb-b102-0242ac1c0002\"] = google.colab.output.setActiveOutputArea(window[\"59f2a7e2-06e5-11eb-b102-0242ac1c0002\"]);\n",
              "//# sourceURL=js_1e3aab8c4e"
            ],
            "text/plain": [
              "<IPython.core.display.Javascript object>"
            ]
          },
          "metadata": {
            "tags": [
              "id2-0-0",
              "outputarea_id2"
            ]
          }
        },
        {
          "output_type": "display_data",
          "data": {
            "application/javascript": [
              "window[\"5a0f5392-06e5-11eb-b102-0242ac1c0002\"] = google.colab.output.setActiveOutputArea(window[\"59f25030-06e5-11eb-b102-0242ac1c0002\"]);\n",
              "//# sourceURL=js_4d97155cd0"
            ],
            "text/plain": [
              "<IPython.core.display.Javascript object>"
            ]
          },
          "metadata": {
            "tags": [
              "id2-0-0",
              "outputarea_id2"
            ]
          }
        },
        {
          "output_type": "display_data",
          "data": {
            "application/javascript": [
              "window[\"5ac502c8-06e5-11eb-b102-0242ac1c0002\"] = google.colab.output.getActiveOutputArea();\n",
              "//# sourceURL=js_08b2c6f0e0"
            ],
            "text/plain": [
              "<IPython.core.display.Javascript object>"
            ]
          },
          "metadata": {
            "tags": [
              "id2-0-0",
              "outputarea_id2"
            ]
          }
        },
        {
          "output_type": "display_data",
          "data": {
            "application/javascript": [
              "window[\"5ac5afa2-06e5-11eb-b102-0242ac1c0002\"] = document.querySelector(\"#id2-0-0\");\n",
              "//# sourceURL=js_a5b1a03471"
            ],
            "text/plain": [
              "<IPython.core.display.Javascript object>"
            ]
          },
          "metadata": {
            "tags": [
              "id2-0-0",
              "outputarea_id2"
            ]
          }
        },
        {
          "output_type": "display_data",
          "data": {
            "application/javascript": [
              "window[\"5ac64b42-06e5-11eb-b102-0242ac1c0002\"] = google.colab.output.setActiveOutputArea(window[\"5ac5afa2-06e5-11eb-b102-0242ac1c0002\"]);\n",
              "//# sourceURL=js_dc5102fe6d"
            ],
            "text/plain": [
              "<IPython.core.display.Javascript object>"
            ]
          },
          "metadata": {
            "tags": [
              "id2-0-0",
              "outputarea_id2"
            ]
          }
        },
        {
          "output_type": "display_data",
          "data": {
            "application/javascript": [
              "window[\"5ae1f7fc-06e5-11eb-b102-0242ac1c0002\"] = google.colab.output.setActiveOutputArea(window[\"5ac502c8-06e5-11eb-b102-0242ac1c0002\"]);\n",
              "//# sourceURL=js_72f7bae928"
            ],
            "text/plain": [
              "<IPython.core.display.Javascript object>"
            ]
          },
          "metadata": {
            "tags": [
              "id2-0-0",
              "outputarea_id2"
            ]
          }
        },
        {
          "output_type": "display_data",
          "data": {
            "application/javascript": [
              "window[\"5b903c04-06e5-11eb-b102-0242ac1c0002\"] = google.colab.output.getActiveOutputArea();\n",
              "//# sourceURL=js_6c7c584e33"
            ],
            "text/plain": [
              "<IPython.core.display.Javascript object>"
            ]
          },
          "metadata": {
            "tags": [
              "id2-0-0",
              "outputarea_id2"
            ]
          }
        },
        {
          "output_type": "display_data",
          "data": {
            "application/javascript": [
              "window[\"5b90d48e-06e5-11eb-b102-0242ac1c0002\"] = document.querySelector(\"#id2-0-0\");\n",
              "//# sourceURL=js_24446065cc"
            ],
            "text/plain": [
              "<IPython.core.display.Javascript object>"
            ]
          },
          "metadata": {
            "tags": [
              "id2-0-0",
              "outputarea_id2"
            ]
          }
        },
        {
          "output_type": "display_data",
          "data": {
            "application/javascript": [
              "window[\"5b91a760-06e5-11eb-b102-0242ac1c0002\"] = google.colab.output.setActiveOutputArea(window[\"5b90d48e-06e5-11eb-b102-0242ac1c0002\"]);\n",
              "//# sourceURL=js_ff3c5b87c9"
            ],
            "text/plain": [
              "<IPython.core.display.Javascript object>"
            ]
          },
          "metadata": {
            "tags": [
              "id2-0-0",
              "outputarea_id2"
            ]
          }
        },
        {
          "output_type": "display_data",
          "data": {
            "application/javascript": [
              "window[\"5bac1a78-06e5-11eb-b102-0242ac1c0002\"] = google.colab.output.setActiveOutputArea(window[\"5b903c04-06e5-11eb-b102-0242ac1c0002\"]);\n",
              "//# sourceURL=js_fb05192780"
            ],
            "text/plain": [
              "<IPython.core.display.Javascript object>"
            ]
          },
          "metadata": {
            "tags": [
              "id2-0-0",
              "outputarea_id2"
            ]
          }
        },
        {
          "output_type": "display_data",
          "data": {
            "application/javascript": [
              "window[\"5c5df874-06e5-11eb-b102-0242ac1c0002\"] = google.colab.output.getActiveOutputArea();\n",
              "//# sourceURL=js_e0aa4a9592"
            ],
            "text/plain": [
              "<IPython.core.display.Javascript object>"
            ]
          },
          "metadata": {
            "tags": [
              "id2-0-0",
              "outputarea_id2"
            ]
          }
        },
        {
          "output_type": "display_data",
          "data": {
            "application/javascript": [
              "window[\"5c5e4b8a-06e5-11eb-b102-0242ac1c0002\"] = document.querySelector(\"#id2-0-0\");\n",
              "//# sourceURL=js_b338e7ce0b"
            ],
            "text/plain": [
              "<IPython.core.display.Javascript object>"
            ]
          },
          "metadata": {
            "tags": [
              "id2-0-0",
              "outputarea_id2"
            ]
          }
        },
        {
          "output_type": "display_data",
          "data": {
            "application/javascript": [
              "window[\"5c5e8cda-06e5-11eb-b102-0242ac1c0002\"] = google.colab.output.setActiveOutputArea(window[\"5c5e4b8a-06e5-11eb-b102-0242ac1c0002\"]);\n",
              "//# sourceURL=js_d2dd553d81"
            ],
            "text/plain": [
              "<IPython.core.display.Javascript object>"
            ]
          },
          "metadata": {
            "tags": [
              "id2-0-0",
              "outputarea_id2"
            ]
          }
        },
        {
          "output_type": "display_data",
          "data": {
            "application/javascript": [
              "window[\"5c7909a2-06e5-11eb-b102-0242ac1c0002\"] = google.colab.output.setActiveOutputArea(window[\"5c5df874-06e5-11eb-b102-0242ac1c0002\"]);\n",
              "//# sourceURL=js_64bc6e02bd"
            ],
            "text/plain": [
              "<IPython.core.display.Javascript object>"
            ]
          },
          "metadata": {
            "tags": [
              "id2-0-0",
              "outputarea_id2"
            ]
          }
        },
        {
          "output_type": "display_data",
          "data": {
            "application/javascript": [
              "window[\"5d2e181a-06e5-11eb-b102-0242ac1c0002\"] = google.colab.output.getActiveOutputArea();\n",
              "//# sourceURL=js_b89505f198"
            ],
            "text/plain": [
              "<IPython.core.display.Javascript object>"
            ]
          },
          "metadata": {
            "tags": [
              "id2-0-0",
              "outputarea_id2"
            ]
          }
        },
        {
          "output_type": "display_data",
          "data": {
            "application/javascript": [
              "window[\"5d2e8336-06e5-11eb-b102-0242ac1c0002\"] = document.querySelector(\"#id2-0-0\");\n",
              "//# sourceURL=js_680ec250fa"
            ],
            "text/plain": [
              "<IPython.core.display.Javascript object>"
            ]
          },
          "metadata": {
            "tags": [
              "id2-0-0",
              "outputarea_id2"
            ]
          }
        },
        {
          "output_type": "display_data",
          "data": {
            "application/javascript": [
              "window[\"5d2ecd82-06e5-11eb-b102-0242ac1c0002\"] = google.colab.output.setActiveOutputArea(window[\"5d2e8336-06e5-11eb-b102-0242ac1c0002\"]);\n",
              "//# sourceURL=js_e26b10bdd8"
            ],
            "text/plain": [
              "<IPython.core.display.Javascript object>"
            ]
          },
          "metadata": {
            "tags": [
              "id2-0-0",
              "outputarea_id2"
            ]
          }
        },
        {
          "output_type": "display_data",
          "data": {
            "application/javascript": [
              "window[\"5d48d056-06e5-11eb-b102-0242ac1c0002\"] = google.colab.output.setActiveOutputArea(window[\"5d2e181a-06e5-11eb-b102-0242ac1c0002\"]);\n",
              "//# sourceURL=js_850d403d13"
            ],
            "text/plain": [
              "<IPython.core.display.Javascript object>"
            ]
          },
          "metadata": {
            "tags": [
              "id2-0-0",
              "outputarea_id2"
            ]
          }
        },
        {
          "output_type": "display_data",
          "data": {
            "application/javascript": [
              "window[\"5df63b74-06e5-11eb-b102-0242ac1c0002\"] = google.colab.output.getActiveOutputArea();\n",
              "//# sourceURL=js_8685e04b44"
            ],
            "text/plain": [
              "<IPython.core.display.Javascript object>"
            ]
          },
          "metadata": {
            "tags": [
              "id2-0-0",
              "outputarea_id2"
            ]
          }
        },
        {
          "output_type": "display_data",
          "data": {
            "application/javascript": [
              "window[\"5df69c7c-06e5-11eb-b102-0242ac1c0002\"] = document.querySelector(\"#id2-0-0\");\n",
              "//# sourceURL=js_2e342c4f1c"
            ],
            "text/plain": [
              "<IPython.core.display.Javascript object>"
            ]
          },
          "metadata": {
            "tags": [
              "id2-0-0",
              "outputarea_id2"
            ]
          }
        },
        {
          "output_type": "display_data",
          "data": {
            "application/javascript": [
              "window[\"5df6f8fc-06e5-11eb-b102-0242ac1c0002\"] = google.colab.output.setActiveOutputArea(window[\"5df69c7c-06e5-11eb-b102-0242ac1c0002\"]);\n",
              "//# sourceURL=js_5feaadbc3b"
            ],
            "text/plain": [
              "<IPython.core.display.Javascript object>"
            ]
          },
          "metadata": {
            "tags": [
              "id2-0-0",
              "outputarea_id2"
            ]
          }
        },
        {
          "output_type": "display_data",
          "data": {
            "application/javascript": [
              "window[\"5e11a9fe-06e5-11eb-b102-0242ac1c0002\"] = google.colab.output.setActiveOutputArea(window[\"5df63b74-06e5-11eb-b102-0242ac1c0002\"]);\n",
              "//# sourceURL=js_49987addfe"
            ],
            "text/plain": [
              "<IPython.core.display.Javascript object>"
            ]
          },
          "metadata": {
            "tags": [
              "id2-0-0",
              "outputarea_id2"
            ]
          }
        },
        {
          "output_type": "display_data",
          "data": {
            "application/javascript": [
              "window[\"5ec1af0c-06e5-11eb-b102-0242ac1c0002\"] = google.colab.output.getActiveOutputArea();\n",
              "//# sourceURL=js_ad834e11d2"
            ],
            "text/plain": [
              "<IPython.core.display.Javascript object>"
            ]
          },
          "metadata": {
            "tags": [
              "id2-0-0",
              "outputarea_id2"
            ]
          }
        },
        {
          "output_type": "display_data",
          "data": {
            "application/javascript": [
              "window[\"5ed39fd2-06e5-11eb-b102-0242ac1c0002\"] = document.querySelector(\"#id2-0-0\");\n",
              "//# sourceURL=js_3cab60b5cd"
            ],
            "text/plain": [
              "<IPython.core.display.Javascript object>"
            ]
          },
          "metadata": {
            "tags": [
              "id2-0-0",
              "outputarea_id2"
            ]
          }
        },
        {
          "output_type": "display_data",
          "data": {
            "application/javascript": [
              "window[\"5ed3f554-06e5-11eb-b102-0242ac1c0002\"] = google.colab.output.setActiveOutputArea(window[\"5ed39fd2-06e5-11eb-b102-0242ac1c0002\"]);\n",
              "//# sourceURL=js_f4d86683c2"
            ],
            "text/plain": [
              "<IPython.core.display.Javascript object>"
            ]
          },
          "metadata": {
            "tags": [
              "id2-0-0",
              "outputarea_id2"
            ]
          }
        },
        {
          "output_type": "display_data",
          "data": {
            "application/javascript": [
              "window[\"5eee67d6-06e5-11eb-b102-0242ac1c0002\"] = google.colab.output.setActiveOutputArea(window[\"5ec1af0c-06e5-11eb-b102-0242ac1c0002\"]);\n",
              "//# sourceURL=js_20aa5cbf04"
            ],
            "text/plain": [
              "<IPython.core.display.Javascript object>"
            ]
          },
          "metadata": {
            "tags": [
              "id2-0-0",
              "outputarea_id2"
            ]
          }
        },
        {
          "output_type": "display_data",
          "data": {
            "application/javascript": [
              "window[\"5fa20cfa-06e5-11eb-b102-0242ac1c0002\"] = google.colab.output.getActiveOutputArea();\n",
              "//# sourceURL=js_293a97e19b"
            ],
            "text/plain": [
              "<IPython.core.display.Javascript object>"
            ]
          },
          "metadata": {
            "tags": [
              "id2-0-0",
              "outputarea_id2"
            ]
          }
        },
        {
          "output_type": "display_data",
          "data": {
            "application/javascript": [
              "window[\"5fa2a3ae-06e5-11eb-b102-0242ac1c0002\"] = document.querySelector(\"#id2-0-0\");\n",
              "//# sourceURL=js_ea6799662a"
            ],
            "text/plain": [
              "<IPython.core.display.Javascript object>"
            ]
          },
          "metadata": {
            "tags": [
              "id2-0-0",
              "outputarea_id2"
            ]
          }
        },
        {
          "output_type": "display_data",
          "data": {
            "application/javascript": [
              "window[\"5fa31780-06e5-11eb-b102-0242ac1c0002\"] = google.colab.output.setActiveOutputArea(window[\"5fa2a3ae-06e5-11eb-b102-0242ac1c0002\"]);\n",
              "//# sourceURL=js_cd118636e1"
            ],
            "text/plain": [
              "<IPython.core.display.Javascript object>"
            ]
          },
          "metadata": {
            "tags": [
              "id2-0-0",
              "outputarea_id2"
            ]
          }
        },
        {
          "output_type": "display_data",
          "data": {
            "application/javascript": [
              "window[\"5fbca092-06e5-11eb-b102-0242ac1c0002\"] = google.colab.output.setActiveOutputArea(window[\"5fa20cfa-06e5-11eb-b102-0242ac1c0002\"]);\n",
              "//# sourceURL=js_c24eafcf7e"
            ],
            "text/plain": [
              "<IPython.core.display.Javascript object>"
            ]
          },
          "metadata": {
            "tags": [
              "id2-0-0",
              "outputarea_id2"
            ]
          }
        },
        {
          "output_type": "display_data",
          "data": {
            "application/javascript": [
              "window[\"606c7a76-06e5-11eb-b102-0242ac1c0002\"] = google.colab.output.getActiveOutputArea();\n",
              "//# sourceURL=js_46ad571cbc"
            ],
            "text/plain": [
              "<IPython.core.display.Javascript object>"
            ]
          },
          "metadata": {
            "tags": [
              "id2-0-0",
              "outputarea_id2"
            ]
          }
        },
        {
          "output_type": "display_data",
          "data": {
            "application/javascript": [
              "window[\"606cf03c-06e5-11eb-b102-0242ac1c0002\"] = document.querySelector(\"#id2-0-0\");\n",
              "//# sourceURL=js_a0b1375c86"
            ],
            "text/plain": [
              "<IPython.core.display.Javascript object>"
            ]
          },
          "metadata": {
            "tags": [
              "id2-0-0",
              "outputarea_id2"
            ]
          }
        },
        {
          "output_type": "display_data",
          "data": {
            "application/javascript": [
              "window[\"606d3c22-06e5-11eb-b102-0242ac1c0002\"] = google.colab.output.setActiveOutputArea(window[\"606cf03c-06e5-11eb-b102-0242ac1c0002\"]);\n",
              "//# sourceURL=js_af41800d57"
            ],
            "text/plain": [
              "<IPython.core.display.Javascript object>"
            ]
          },
          "metadata": {
            "tags": [
              "id2-0-0",
              "outputarea_id2"
            ]
          }
        },
        {
          "output_type": "display_data",
          "data": {
            "application/javascript": [
              "window[\"6087c97a-06e5-11eb-b102-0242ac1c0002\"] = google.colab.output.setActiveOutputArea(window[\"606c7a76-06e5-11eb-b102-0242ac1c0002\"]);\n",
              "//# sourceURL=js_4fb0d54359"
            ],
            "text/plain": [
              "<IPython.core.display.Javascript object>"
            ]
          },
          "metadata": {
            "tags": [
              "id2-0-0",
              "outputarea_id2"
            ]
          }
        },
        {
          "output_type": "display_data",
          "data": {
            "application/javascript": [
              "window[\"613a9d70-06e5-11eb-b102-0242ac1c0002\"] = google.colab.output.getActiveOutputArea();\n",
              "//# sourceURL=js_88bcd4aae0"
            ],
            "text/plain": [
              "<IPython.core.display.Javascript object>"
            ]
          },
          "metadata": {
            "tags": [
              "id2-0-0",
              "outputarea_id2"
            ]
          }
        },
        {
          "output_type": "display_data",
          "data": {
            "application/javascript": [
              "window[\"613afc16-06e5-11eb-b102-0242ac1c0002\"] = document.querySelector(\"#id2-0-0\");\n",
              "//# sourceURL=js_cd5ef98edd"
            ],
            "text/plain": [
              "<IPython.core.display.Javascript object>"
            ]
          },
          "metadata": {
            "tags": [
              "id2-0-0",
              "outputarea_id2"
            ]
          }
        },
        {
          "output_type": "display_data",
          "data": {
            "application/javascript": [
              "window[\"613b3532-06e5-11eb-b102-0242ac1c0002\"] = google.colab.output.setActiveOutputArea(window[\"613afc16-06e5-11eb-b102-0242ac1c0002\"]);\n",
              "//# sourceURL=js_92b95e638d"
            ],
            "text/plain": [
              "<IPython.core.display.Javascript object>"
            ]
          },
          "metadata": {
            "tags": [
              "id2-0-0",
              "outputarea_id2"
            ]
          }
        },
        {
          "output_type": "display_data",
          "data": {
            "application/javascript": [
              "window[\"6155b1aa-06e5-11eb-b102-0242ac1c0002\"] = google.colab.output.setActiveOutputArea(window[\"613a9d70-06e5-11eb-b102-0242ac1c0002\"]);\n",
              "//# sourceURL=js_589dd6909e"
            ],
            "text/plain": [
              "<IPython.core.display.Javascript object>"
            ]
          },
          "metadata": {
            "tags": [
              "id2-0-0",
              "outputarea_id2"
            ]
          }
        },
        {
          "output_type": "display_data",
          "data": {
            "application/javascript": [
              "window[\"6203f9a4-06e5-11eb-b102-0242ac1c0002\"] = google.colab.output.getActiveOutputArea();\n",
              "//# sourceURL=js_0ae83d1475"
            ],
            "text/plain": [
              "<IPython.core.display.Javascript object>"
            ]
          },
          "metadata": {
            "tags": [
              "id2-0-0",
              "outputarea_id2"
            ]
          }
        },
        {
          "output_type": "display_data",
          "data": {
            "application/javascript": [
              "window[\"620491fc-06e5-11eb-b102-0242ac1c0002\"] = document.querySelector(\"#id2-0-0\");\n",
              "//# sourceURL=js_d71c596903"
            ],
            "text/plain": [
              "<IPython.core.display.Javascript object>"
            ]
          },
          "metadata": {
            "tags": [
              "id2-0-0",
              "outputarea_id2"
            ]
          }
        },
        {
          "output_type": "display_data",
          "data": {
            "application/javascript": [
              "window[\"620511e0-06e5-11eb-b102-0242ac1c0002\"] = google.colab.output.setActiveOutputArea(window[\"620491fc-06e5-11eb-b102-0242ac1c0002\"]);\n",
              "//# sourceURL=js_18c4485186"
            ],
            "text/plain": [
              "<IPython.core.display.Javascript object>"
            ]
          },
          "metadata": {
            "tags": [
              "id2-0-0",
              "outputarea_id2"
            ]
          }
        },
        {
          "output_type": "display_data",
          "data": {
            "application/javascript": [
              "window[\"621ed2d8-06e5-11eb-b102-0242ac1c0002\"] = google.colab.output.setActiveOutputArea(window[\"6203f9a4-06e5-11eb-b102-0242ac1c0002\"]);\n",
              "//# sourceURL=js_3a7acf94c3"
            ],
            "text/plain": [
              "<IPython.core.display.Javascript object>"
            ]
          },
          "metadata": {
            "tags": [
              "id2-0-0",
              "outputarea_id2"
            ]
          }
        },
        {
          "output_type": "display_data",
          "data": {
            "application/javascript": [
              "window[\"62ccc226-06e5-11eb-b102-0242ac1c0002\"] = google.colab.output.getActiveOutputArea();\n",
              "//# sourceURL=js_34311ea656"
            ],
            "text/plain": [
              "<IPython.core.display.Javascript object>"
            ]
          },
          "metadata": {
            "tags": [
              "id2-0-0",
              "outputarea_id2"
            ]
          }
        },
        {
          "output_type": "display_data",
          "data": {
            "application/javascript": [
              "window[\"62cd2892-06e5-11eb-b102-0242ac1c0002\"] = document.querySelector(\"#id2-0-0\");\n",
              "//# sourceURL=js_9fb7c17517"
            ],
            "text/plain": [
              "<IPython.core.display.Javascript object>"
            ]
          },
          "metadata": {
            "tags": [
              "id2-0-0",
              "outputarea_id2"
            ]
          }
        },
        {
          "output_type": "display_data",
          "data": {
            "application/javascript": [
              "window[\"62cd77b6-06e5-11eb-b102-0242ac1c0002\"] = google.colab.output.setActiveOutputArea(window[\"62cd2892-06e5-11eb-b102-0242ac1c0002\"]);\n",
              "//# sourceURL=js_0cd0370c8d"
            ],
            "text/plain": [
              "<IPython.core.display.Javascript object>"
            ]
          },
          "metadata": {
            "tags": [
              "id2-0-0",
              "outputarea_id2"
            ]
          }
        },
        {
          "output_type": "display_data",
          "data": {
            "application/javascript": [
              "window[\"62e65dbc-06e5-11eb-b102-0242ac1c0002\"] = google.colab.output.setActiveOutputArea(window[\"62ccc226-06e5-11eb-b102-0242ac1c0002\"]);\n",
              "//# sourceURL=js_da68c328f3"
            ],
            "text/plain": [
              "<IPython.core.display.Javascript object>"
            ]
          },
          "metadata": {
            "tags": [
              "id2-0-0",
              "outputarea_id2"
            ]
          }
        },
        {
          "output_type": "display_data",
          "data": {
            "application/javascript": [
              "window[\"639576a8-06e5-11eb-b102-0242ac1c0002\"] = google.colab.output.getActiveOutputArea();\n",
              "//# sourceURL=js_f331680ebf"
            ],
            "text/plain": [
              "<IPython.core.display.Javascript object>"
            ]
          },
          "metadata": {
            "tags": [
              "id2-0-0",
              "outputarea_id2"
            ]
          }
        },
        {
          "output_type": "display_data",
          "data": {
            "application/javascript": [
              "window[\"63960258-06e5-11eb-b102-0242ac1c0002\"] = document.querySelector(\"#id2-0-0\");\n",
              "//# sourceURL=js_184628b468"
            ],
            "text/plain": [
              "<IPython.core.display.Javascript object>"
            ]
          },
          "metadata": {
            "tags": [
              "id2-0-0",
              "outputarea_id2"
            ]
          }
        },
        {
          "output_type": "display_data",
          "data": {
            "application/javascript": [
              "window[\"6396c97c-06e5-11eb-b102-0242ac1c0002\"] = google.colab.output.setActiveOutputArea(window[\"63960258-06e5-11eb-b102-0242ac1c0002\"]);\n",
              "//# sourceURL=js_f254562142"
            ],
            "text/plain": [
              "<IPython.core.display.Javascript object>"
            ]
          },
          "metadata": {
            "tags": [
              "id2-0-0",
              "outputarea_id2"
            ]
          }
        },
        {
          "output_type": "display_data",
          "data": {
            "application/javascript": [
              "window[\"63b1b3e0-06e5-11eb-b102-0242ac1c0002\"] = google.colab.output.setActiveOutputArea(window[\"639576a8-06e5-11eb-b102-0242ac1c0002\"]);\n",
              "//# sourceURL=js_13b7cf8325"
            ],
            "text/plain": [
              "<IPython.core.display.Javascript object>"
            ]
          },
          "metadata": {
            "tags": [
              "id2-0-0",
              "outputarea_id2"
            ]
          }
        },
        {
          "output_type": "display_data",
          "data": {
            "application/javascript": [
              "window[\"646142d8-06e5-11eb-b102-0242ac1c0002\"] = google.colab.output.getActiveOutputArea();\n",
              "//# sourceURL=js_ae1306e383"
            ],
            "text/plain": [
              "<IPython.core.display.Javascript object>"
            ]
          },
          "metadata": {
            "tags": [
              "id2-0-0",
              "outputarea_id2"
            ]
          }
        },
        {
          "output_type": "display_data",
          "data": {
            "application/javascript": [
              "window[\"6461e792-06e5-11eb-b102-0242ac1c0002\"] = document.querySelector(\"#id2-0-0\");\n",
              "//# sourceURL=js_685982af10"
            ],
            "text/plain": [
              "<IPython.core.display.Javascript object>"
            ]
          },
          "metadata": {
            "tags": [
              "id2-0-0",
              "outputarea_id2"
            ]
          }
        },
        {
          "output_type": "display_data",
          "data": {
            "application/javascript": [
              "window[\"64625650-06e5-11eb-b102-0242ac1c0002\"] = google.colab.output.setActiveOutputArea(window[\"6461e792-06e5-11eb-b102-0242ac1c0002\"]);\n",
              "//# sourceURL=js_ff03828b32"
            ],
            "text/plain": [
              "<IPython.core.display.Javascript object>"
            ]
          },
          "metadata": {
            "tags": [
              "id2-0-0",
              "outputarea_id2"
            ]
          }
        },
        {
          "output_type": "display_data",
          "data": {
            "application/javascript": [
              "window[\"647c8584-06e5-11eb-b102-0242ac1c0002\"] = google.colab.output.setActiveOutputArea(window[\"646142d8-06e5-11eb-b102-0242ac1c0002\"]);\n",
              "//# sourceURL=js_3fbd22f4a9"
            ],
            "text/plain": [
              "<IPython.core.display.Javascript object>"
            ]
          },
          "metadata": {
            "tags": [
              "id2-0-0",
              "outputarea_id2"
            ]
          }
        },
        {
          "output_type": "display_data",
          "data": {
            "application/javascript": [
              "window[\"6530b946-06e5-11eb-b102-0242ac1c0002\"] = google.colab.output.getActiveOutputArea();\n",
              "//# sourceURL=js_948b51c718"
            ],
            "text/plain": [
              "<IPython.core.display.Javascript object>"
            ]
          },
          "metadata": {
            "tags": [
              "id2-0-0",
              "outputarea_id2"
            ]
          }
        },
        {
          "output_type": "display_data",
          "data": {
            "application/javascript": [
              "window[\"6530fd70-06e5-11eb-b102-0242ac1c0002\"] = document.querySelector(\"#id2-0-0\");\n",
              "//# sourceURL=js_21e38c7ab0"
            ],
            "text/plain": [
              "<IPython.core.display.Javascript object>"
            ]
          },
          "metadata": {
            "tags": [
              "id2-0-0",
              "outputarea_id2"
            ]
          }
        },
        {
          "output_type": "display_data",
          "data": {
            "application/javascript": [
              "window[\"65313af6-06e5-11eb-b102-0242ac1c0002\"] = google.colab.output.setActiveOutputArea(window[\"6530fd70-06e5-11eb-b102-0242ac1c0002\"]);\n",
              "//# sourceURL=js_c0408d3c51"
            ],
            "text/plain": [
              "<IPython.core.display.Javascript object>"
            ]
          },
          "metadata": {
            "tags": [
              "id2-0-0",
              "outputarea_id2"
            ]
          }
        },
        {
          "output_type": "display_data",
          "data": {
            "application/javascript": [
              "window[\"654c15ec-06e5-11eb-b102-0242ac1c0002\"] = google.colab.output.setActiveOutputArea(window[\"6530b946-06e5-11eb-b102-0242ac1c0002\"]);\n",
              "//# sourceURL=js_1e5bab1f19"
            ],
            "text/plain": [
              "<IPython.core.display.Javascript object>"
            ]
          },
          "metadata": {
            "tags": [
              "id2-0-0",
              "outputarea_id2"
            ]
          }
        },
        {
          "output_type": "display_data",
          "data": {
            "application/javascript": [
              "window[\"660bc1a8-06e5-11eb-b102-0242ac1c0002\"] = google.colab.output.getActiveOutputArea();\n",
              "//# sourceURL=js_1fef61fc32"
            ],
            "text/plain": [
              "<IPython.core.display.Javascript object>"
            ]
          },
          "metadata": {
            "tags": [
              "id2-0-0",
              "outputarea_id2"
            ]
          }
        },
        {
          "output_type": "display_data",
          "data": {
            "application/javascript": [
              "window[\"660c0730-06e5-11eb-b102-0242ac1c0002\"] = document.querySelector(\"#id2-0-0\");\n",
              "//# sourceURL=js_4ef4e05cd0"
            ],
            "text/plain": [
              "<IPython.core.display.Javascript object>"
            ]
          },
          "metadata": {
            "tags": [
              "id2-0-0",
              "outputarea_id2"
            ]
          }
        },
        {
          "output_type": "display_data",
          "data": {
            "application/javascript": [
              "window[\"660c4010-06e5-11eb-b102-0242ac1c0002\"] = google.colab.output.setActiveOutputArea(window[\"660c0730-06e5-11eb-b102-0242ac1c0002\"]);\n",
              "//# sourceURL=js_f02ce048af"
            ],
            "text/plain": [
              "<IPython.core.display.Javascript object>"
            ]
          },
          "metadata": {
            "tags": [
              "id2-0-0",
              "outputarea_id2"
            ]
          }
        },
        {
          "output_type": "display_data",
          "data": {
            "application/javascript": [
              "window[\"66276d68-06e5-11eb-b102-0242ac1c0002\"] = google.colab.output.setActiveOutputArea(window[\"660bc1a8-06e5-11eb-b102-0242ac1c0002\"]);\n",
              "//# sourceURL=js_ca9ad256e9"
            ],
            "text/plain": [
              "<IPython.core.display.Javascript object>"
            ]
          },
          "metadata": {
            "tags": [
              "id2-0-0",
              "outputarea_id2"
            ]
          }
        },
        {
          "output_type": "display_data",
          "data": {
            "application/javascript": [
              "window[\"66d97c38-06e5-11eb-b102-0242ac1c0002\"] = google.colab.output.getActiveOutputArea();\n",
              "//# sourceURL=js_e022d2f9cc"
            ],
            "text/plain": [
              "<IPython.core.display.Javascript object>"
            ]
          },
          "metadata": {
            "tags": [
              "id2-0-0",
              "outputarea_id2"
            ]
          }
        },
        {
          "output_type": "display_data",
          "data": {
            "application/javascript": [
              "window[\"66da054a-06e5-11eb-b102-0242ac1c0002\"] = document.querySelector(\"#id2-0-0\");\n",
              "//# sourceURL=js_7168038fba"
            ],
            "text/plain": [
              "<IPython.core.display.Javascript object>"
            ]
          },
          "metadata": {
            "tags": [
              "id2-0-0",
              "outputarea_id2"
            ]
          }
        },
        {
          "output_type": "display_data",
          "data": {
            "application/javascript": [
              "window[\"66da80ec-06e5-11eb-b102-0242ac1c0002\"] = google.colab.output.setActiveOutputArea(window[\"66da054a-06e5-11eb-b102-0242ac1c0002\"]);\n",
              "//# sourceURL=js_47c7c8037f"
            ],
            "text/plain": [
              "<IPython.core.display.Javascript object>"
            ]
          },
          "metadata": {
            "tags": [
              "id2-0-0",
              "outputarea_id2"
            ]
          }
        },
        {
          "output_type": "display_data",
          "data": {
            "application/javascript": [
              "window[\"66f4bb38-06e5-11eb-b102-0242ac1c0002\"] = google.colab.output.setActiveOutputArea(window[\"66d97c38-06e5-11eb-b102-0242ac1c0002\"]);\n",
              "//# sourceURL=js_e80b25dce1"
            ],
            "text/plain": [
              "<IPython.core.display.Javascript object>"
            ]
          },
          "metadata": {
            "tags": [
              "id2-0-0",
              "outputarea_id2"
            ]
          }
        },
        {
          "output_type": "display_data",
          "data": {
            "application/javascript": [
              "window[\"67a47e10-06e5-11eb-b102-0242ac1c0002\"] = google.colab.output.getActiveOutputArea();\n",
              "//# sourceURL=js_914295413f"
            ],
            "text/plain": [
              "<IPython.core.display.Javascript object>"
            ]
          },
          "metadata": {
            "tags": [
              "id2-0-0",
              "outputarea_id2"
            ]
          }
        },
        {
          "output_type": "display_data",
          "data": {
            "application/javascript": [
              "window[\"67a58206-06e5-11eb-b102-0242ac1c0002\"] = document.querySelector(\"#id2-0-0\");\n",
              "//# sourceURL=js_7febec389d"
            ],
            "text/plain": [
              "<IPython.core.display.Javascript object>"
            ]
          },
          "metadata": {
            "tags": [
              "id2-0-0",
              "outputarea_id2"
            ]
          }
        },
        {
          "output_type": "display_data",
          "data": {
            "application/javascript": [
              "window[\"67a6201c-06e5-11eb-b102-0242ac1c0002\"] = google.colab.output.setActiveOutputArea(window[\"67a58206-06e5-11eb-b102-0242ac1c0002\"]);\n",
              "//# sourceURL=js_55a096589d"
            ],
            "text/plain": [
              "<IPython.core.display.Javascript object>"
            ]
          },
          "metadata": {
            "tags": [
              "id2-0-0",
              "outputarea_id2"
            ]
          }
        },
        {
          "output_type": "display_data",
          "data": {
            "application/javascript": [
              "window[\"67c0ad1a-06e5-11eb-b102-0242ac1c0002\"] = google.colab.output.setActiveOutputArea(window[\"67a47e10-06e5-11eb-b102-0242ac1c0002\"]);\n",
              "//# sourceURL=js_0aff573c06"
            ],
            "text/plain": [
              "<IPython.core.display.Javascript object>"
            ]
          },
          "metadata": {
            "tags": [
              "id2-0-0",
              "outputarea_id2"
            ]
          }
        },
        {
          "output_type": "display_data",
          "data": {
            "application/javascript": [
              "window[\"6872e44e-06e5-11eb-b102-0242ac1c0002\"] = google.colab.output.getActiveOutputArea();\n",
              "//# sourceURL=js_ffa301dbbc"
            ],
            "text/plain": [
              "<IPython.core.display.Javascript object>"
            ]
          },
          "metadata": {
            "tags": [
              "id2-0-0",
              "outputarea_id2"
            ]
          }
        },
        {
          "output_type": "display_data",
          "data": {
            "application/javascript": [
              "window[\"68736a40-06e5-11eb-b102-0242ac1c0002\"] = document.querySelector(\"#id2-0-0\");\n",
              "//# sourceURL=js_6b013c934b"
            ],
            "text/plain": [
              "<IPython.core.display.Javascript object>"
            ]
          },
          "metadata": {
            "tags": [
              "id2-0-0",
              "outputarea_id2"
            ]
          }
        },
        {
          "output_type": "display_data",
          "data": {
            "application/javascript": [
              "window[\"6873bbe4-06e5-11eb-b102-0242ac1c0002\"] = google.colab.output.setActiveOutputArea(window[\"68736a40-06e5-11eb-b102-0242ac1c0002\"]);\n",
              "//# sourceURL=js_c593ecd8f2"
            ],
            "text/plain": [
              "<IPython.core.display.Javascript object>"
            ]
          },
          "metadata": {
            "tags": [
              "id2-0-0",
              "outputarea_id2"
            ]
          }
        },
        {
          "output_type": "display_data",
          "data": {
            "application/javascript": [
              "window[\"688e88c0-06e5-11eb-b102-0242ac1c0002\"] = google.colab.output.setActiveOutputArea(window[\"6872e44e-06e5-11eb-b102-0242ac1c0002\"]);\n",
              "//# sourceURL=js_d731a0df2e"
            ],
            "text/plain": [
              "<IPython.core.display.Javascript object>"
            ]
          },
          "metadata": {
            "tags": [
              "id2-0-0",
              "outputarea_id2"
            ]
          }
        },
        {
          "output_type": "display_data",
          "data": {
            "application/javascript": [
              "window[\"6941c82c-06e5-11eb-b102-0242ac1c0002\"] = google.colab.output.getActiveOutputArea();\n",
              "//# sourceURL=js_3aac888fc4"
            ],
            "text/plain": [
              "<IPython.core.display.Javascript object>"
            ]
          },
          "metadata": {
            "tags": [
              "id2-0-0",
              "outputarea_id2"
            ]
          }
        },
        {
          "output_type": "display_data",
          "data": {
            "application/javascript": [
              "window[\"69421ed0-06e5-11eb-b102-0242ac1c0002\"] = document.querySelector(\"#id2-0-0\");\n",
              "//# sourceURL=js_8eceafea61"
            ],
            "text/plain": [
              "<IPython.core.display.Javascript object>"
            ]
          },
          "metadata": {
            "tags": [
              "id2-0-0",
              "outputarea_id2"
            ]
          }
        },
        {
          "output_type": "display_data",
          "data": {
            "application/javascript": [
              "window[\"69428aa0-06e5-11eb-b102-0242ac1c0002\"] = google.colab.output.setActiveOutputArea(window[\"69421ed0-06e5-11eb-b102-0242ac1c0002\"]);\n",
              "//# sourceURL=js_9a029e3c6f"
            ],
            "text/plain": [
              "<IPython.core.display.Javascript object>"
            ]
          },
          "metadata": {
            "tags": [
              "id2-0-0",
              "outputarea_id2"
            ]
          }
        },
        {
          "output_type": "display_data",
          "data": {
            "application/javascript": [
              "window[\"695d24e6-06e5-11eb-b102-0242ac1c0002\"] = google.colab.output.setActiveOutputArea(window[\"6941c82c-06e5-11eb-b102-0242ac1c0002\"]);\n",
              "//# sourceURL=js_4e53857c08"
            ],
            "text/plain": [
              "<IPython.core.display.Javascript object>"
            ]
          },
          "metadata": {
            "tags": [
              "id2-0-0",
              "outputarea_id2"
            ]
          }
        },
        {
          "output_type": "display_data",
          "data": {
            "application/javascript": [
              "window[\"6a0d89f8-06e5-11eb-b102-0242ac1c0002\"] = google.colab.output.getActiveOutputArea();\n",
              "//# sourceURL=js_842d1a37cd"
            ],
            "text/plain": [
              "<IPython.core.display.Javascript object>"
            ]
          },
          "metadata": {
            "tags": [
              "id2-0-0",
              "outputarea_id2"
            ]
          }
        },
        {
          "output_type": "display_data",
          "data": {
            "application/javascript": [
              "window[\"6a0eab08-06e5-11eb-b102-0242ac1c0002\"] = document.querySelector(\"#id2-0-0\");\n",
              "//# sourceURL=js_fcf89a6353"
            ],
            "text/plain": [
              "<IPython.core.display.Javascript object>"
            ]
          },
          "metadata": {
            "tags": [
              "id2-0-0",
              "outputarea_id2"
            ]
          }
        },
        {
          "output_type": "display_data",
          "data": {
            "application/javascript": [
              "window[\"6a0ee8ac-06e5-11eb-b102-0242ac1c0002\"] = google.colab.output.setActiveOutputArea(window[\"6a0eab08-06e5-11eb-b102-0242ac1c0002\"]);\n",
              "//# sourceURL=js_757f70c42a"
            ],
            "text/plain": [
              "<IPython.core.display.Javascript object>"
            ]
          },
          "metadata": {
            "tags": [
              "id2-0-0",
              "outputarea_id2"
            ]
          }
        },
        {
          "output_type": "display_data",
          "data": {
            "application/javascript": [
              "window[\"6a2998a0-06e5-11eb-b102-0242ac1c0002\"] = google.colab.output.setActiveOutputArea(window[\"6a0d89f8-06e5-11eb-b102-0242ac1c0002\"]);\n",
              "//# sourceURL=js_bf22130461"
            ],
            "text/plain": [
              "<IPython.core.display.Javascript object>"
            ]
          },
          "metadata": {
            "tags": [
              "id2-0-0",
              "outputarea_id2"
            ]
          }
        },
        {
          "output_type": "display_data",
          "data": {
            "application/javascript": [
              "window[\"6ad721f0-06e5-11eb-b102-0242ac1c0002\"] = google.colab.output.getActiveOutputArea();\n",
              "//# sourceURL=js_05de9bc96c"
            ],
            "text/plain": [
              "<IPython.core.display.Javascript object>"
            ]
          },
          "metadata": {
            "tags": [
              "id2-0-0",
              "outputarea_id2"
            ]
          }
        },
        {
          "output_type": "display_data",
          "data": {
            "application/javascript": [
              "window[\"6ae9767a-06e5-11eb-b102-0242ac1c0002\"] = document.querySelector(\"#id2-0-0\");\n",
              "//# sourceURL=js_6a4807da07"
            ],
            "text/plain": [
              "<IPython.core.display.Javascript object>"
            ]
          },
          "metadata": {
            "tags": [
              "id2-0-0",
              "outputarea_id2"
            ]
          }
        },
        {
          "output_type": "display_data",
          "data": {
            "application/javascript": [
              "window[\"6aea3466-06e5-11eb-b102-0242ac1c0002\"] = google.colab.output.setActiveOutputArea(window[\"6ae9767a-06e5-11eb-b102-0242ac1c0002\"]);\n",
              "//# sourceURL=js_ff807c7bc8"
            ],
            "text/plain": [
              "<IPython.core.display.Javascript object>"
            ]
          },
          "metadata": {
            "tags": [
              "id2-0-0",
              "outputarea_id2"
            ]
          }
        },
        {
          "output_type": "display_data",
          "data": {
            "application/javascript": [
              "window[\"6b054d32-06e5-11eb-b102-0242ac1c0002\"] = google.colab.output.setActiveOutputArea(window[\"6ad721f0-06e5-11eb-b102-0242ac1c0002\"]);\n",
              "//# sourceURL=js_05dd67a108"
            ],
            "text/plain": [
              "<IPython.core.display.Javascript object>"
            ]
          },
          "metadata": {
            "tags": [
              "id2-0-0",
              "outputarea_id2"
            ]
          }
        },
        {
          "output_type": "display_data",
          "data": {
            "application/javascript": [
              "window[\"6bbfa9d4-06e5-11eb-b102-0242ac1c0002\"] = google.colab.output.getActiveOutputArea();\n",
              "//# sourceURL=js_af8be9f0ef"
            ],
            "text/plain": [
              "<IPython.core.display.Javascript object>"
            ]
          },
          "metadata": {
            "tags": [
              "id2-0-0",
              "outputarea_id2"
            ]
          }
        },
        {
          "output_type": "display_data",
          "data": {
            "application/javascript": [
              "window[\"6bc046e6-06e5-11eb-b102-0242ac1c0002\"] = document.querySelector(\"#id2-0-0\");\n",
              "//# sourceURL=js_fc1e8db0e8"
            ],
            "text/plain": [
              "<IPython.core.display.Javascript object>"
            ]
          },
          "metadata": {
            "tags": [
              "id2-0-0",
              "outputarea_id2"
            ]
          }
        },
        {
          "output_type": "display_data",
          "data": {
            "application/javascript": [
              "window[\"6bc0eca4-06e5-11eb-b102-0242ac1c0002\"] = google.colab.output.setActiveOutputArea(window[\"6bc046e6-06e5-11eb-b102-0242ac1c0002\"]);\n",
              "//# sourceURL=js_00604207e6"
            ],
            "text/plain": [
              "<IPython.core.display.Javascript object>"
            ]
          },
          "metadata": {
            "tags": [
              "id2-0-0",
              "outputarea_id2"
            ]
          }
        },
        {
          "output_type": "display_data",
          "data": {
            "application/javascript": [
              "window[\"6bdb03e6-06e5-11eb-b102-0242ac1c0002\"] = google.colab.output.setActiveOutputArea(window[\"6bbfa9d4-06e5-11eb-b102-0242ac1c0002\"]);\n",
              "//# sourceURL=js_96b9224561"
            ],
            "text/plain": [
              "<IPython.core.display.Javascript object>"
            ]
          },
          "metadata": {
            "tags": [
              "id2-0-0",
              "outputarea_id2"
            ]
          }
        },
        {
          "output_type": "display_data",
          "data": {
            "application/javascript": [
              "window[\"6c90e7d8-06e5-11eb-b102-0242ac1c0002\"] = google.colab.output.getActiveOutputArea();\n",
              "//# sourceURL=js_b6b7945c6b"
            ],
            "text/plain": [
              "<IPython.core.display.Javascript object>"
            ]
          },
          "metadata": {
            "tags": [
              "id2-0-0",
              "outputarea_id2"
            ]
          }
        },
        {
          "output_type": "display_data",
          "data": {
            "application/javascript": [
              "window[\"6c9192be-06e5-11eb-b102-0242ac1c0002\"] = document.querySelector(\"#id2-0-0\");\n",
              "//# sourceURL=js_bba4e8dcc5"
            ],
            "text/plain": [
              "<IPython.core.display.Javascript object>"
            ]
          },
          "metadata": {
            "tags": [
              "id2-0-0",
              "outputarea_id2"
            ]
          }
        },
        {
          "output_type": "display_data",
          "data": {
            "application/javascript": [
              "window[\"6c9259b0-06e5-11eb-b102-0242ac1c0002\"] = google.colab.output.setActiveOutputArea(window[\"6c9192be-06e5-11eb-b102-0242ac1c0002\"]);\n",
              "//# sourceURL=js_2d0859d9de"
            ],
            "text/plain": [
              "<IPython.core.display.Javascript object>"
            ]
          },
          "metadata": {
            "tags": [
              "id2-0-0",
              "outputarea_id2"
            ]
          }
        },
        {
          "output_type": "display_data",
          "data": {
            "application/javascript": [
              "window[\"6cb07f76-06e5-11eb-b102-0242ac1c0002\"] = google.colab.output.setActiveOutputArea(window[\"6c90e7d8-06e5-11eb-b102-0242ac1c0002\"]);\n",
              "//# sourceURL=js_1f991d57f5"
            ],
            "text/plain": [
              "<IPython.core.display.Javascript object>"
            ]
          },
          "metadata": {
            "tags": [
              "id2-0-0",
              "outputarea_id2"
            ]
          }
        },
        {
          "output_type": "display_data",
          "data": {
            "application/javascript": [
              "window[\"6d6ae3de-06e5-11eb-b102-0242ac1c0002\"] = google.colab.output.getActiveOutputArea();\n",
              "//# sourceURL=js_8588aff2f3"
            ],
            "text/plain": [
              "<IPython.core.display.Javascript object>"
            ]
          },
          "metadata": {
            "tags": [
              "id2-0-0",
              "outputarea_id2"
            ]
          }
        },
        {
          "output_type": "display_data",
          "data": {
            "application/javascript": [
              "window[\"6d6b2a2e-06e5-11eb-b102-0242ac1c0002\"] = document.querySelector(\"#id2-0-0\");\n",
              "//# sourceURL=js_d8ecbc46b0"
            ],
            "text/plain": [
              "<IPython.core.display.Javascript object>"
            ]
          },
          "metadata": {
            "tags": [
              "id2-0-0",
              "outputarea_id2"
            ]
          }
        },
        {
          "output_type": "display_data",
          "data": {
            "application/javascript": [
              "window[\"6d6b69f8-06e5-11eb-b102-0242ac1c0002\"] = google.colab.output.setActiveOutputArea(window[\"6d6b2a2e-06e5-11eb-b102-0242ac1c0002\"]);\n",
              "//# sourceURL=js_8e44c27a48"
            ],
            "text/plain": [
              "<IPython.core.display.Javascript object>"
            ]
          },
          "metadata": {
            "tags": [
              "id2-0-0",
              "outputarea_id2"
            ]
          }
        },
        {
          "output_type": "display_data",
          "data": {
            "application/javascript": [
              "window[\"6d87baf4-06e5-11eb-b102-0242ac1c0002\"] = google.colab.output.setActiveOutputArea(window[\"6d6ae3de-06e5-11eb-b102-0242ac1c0002\"]);\n",
              "//# sourceURL=js_e8cb842015"
            ],
            "text/plain": [
              "<IPython.core.display.Javascript object>"
            ]
          },
          "metadata": {
            "tags": [
              "id2-0-0",
              "outputarea_id2"
            ]
          }
        },
        {
          "output_type": "display_data",
          "data": {
            "application/javascript": [
              "window[\"6e42c79a-06e5-11eb-b102-0242ac1c0002\"] = google.colab.output.getActiveOutputArea();\n",
              "//# sourceURL=js_a8e5ac648f"
            ],
            "text/plain": [
              "<IPython.core.display.Javascript object>"
            ]
          },
          "metadata": {
            "tags": [
              "id2-0-0",
              "outputarea_id2"
            ]
          }
        },
        {
          "output_type": "display_data",
          "data": {
            "application/javascript": [
              "window[\"6e436c9a-06e5-11eb-b102-0242ac1c0002\"] = document.querySelector(\"#id2-0-0\");\n",
              "//# sourceURL=js_6f94de30f5"
            ],
            "text/plain": [
              "<IPython.core.display.Javascript object>"
            ]
          },
          "metadata": {
            "tags": [
              "id2-0-0",
              "outputarea_id2"
            ]
          }
        },
        {
          "output_type": "display_data",
          "data": {
            "application/javascript": [
              "window[\"6e43e210-06e5-11eb-b102-0242ac1c0002\"] = google.colab.output.setActiveOutputArea(window[\"6e436c9a-06e5-11eb-b102-0242ac1c0002\"]);\n",
              "//# sourceURL=js_9d9e9cf978"
            ],
            "text/plain": [
              "<IPython.core.display.Javascript object>"
            ]
          },
          "metadata": {
            "tags": [
              "id2-0-0",
              "outputarea_id2"
            ]
          }
        },
        {
          "output_type": "display_data",
          "data": {
            "application/javascript": [
              "window[\"6e5ef4d8-06e5-11eb-b102-0242ac1c0002\"] = google.colab.output.setActiveOutputArea(window[\"6e42c79a-06e5-11eb-b102-0242ac1c0002\"]);\n",
              "//# sourceURL=js_26fe350070"
            ],
            "text/plain": [
              "<IPython.core.display.Javascript object>"
            ]
          },
          "metadata": {
            "tags": [
              "id2-0-0",
              "outputarea_id2"
            ]
          }
        },
        {
          "output_type": "display_data",
          "data": {
            "application/javascript": [
              "window[\"6f18a374-06e5-11eb-b102-0242ac1c0002\"] = google.colab.output.getActiveOutputArea();\n",
              "//# sourceURL=js_788f4d5069"
            ],
            "text/plain": [
              "<IPython.core.display.Javascript object>"
            ]
          },
          "metadata": {
            "tags": [
              "id2-0-0",
              "outputarea_id2"
            ]
          }
        },
        {
          "output_type": "display_data",
          "data": {
            "application/javascript": [
              "window[\"6f1915fc-06e5-11eb-b102-0242ac1c0002\"] = document.querySelector(\"#id2-0-0\");\n",
              "//# sourceURL=js_a768c13b95"
            ],
            "text/plain": [
              "<IPython.core.display.Javascript object>"
            ]
          },
          "metadata": {
            "tags": [
              "id2-0-0",
              "outputarea_id2"
            ]
          }
        },
        {
          "output_type": "display_data",
          "data": {
            "application/javascript": [
              "window[\"6f197fec-06e5-11eb-b102-0242ac1c0002\"] = google.colab.output.setActiveOutputArea(window[\"6f1915fc-06e5-11eb-b102-0242ac1c0002\"]);\n",
              "//# sourceURL=js_88f3fad62b"
            ],
            "text/plain": [
              "<IPython.core.display.Javascript object>"
            ]
          },
          "metadata": {
            "tags": [
              "id2-0-0",
              "outputarea_id2"
            ]
          }
        },
        {
          "output_type": "display_data",
          "data": {
            "application/javascript": [
              "window[\"6f348918-06e5-11eb-b102-0242ac1c0002\"] = google.colab.output.setActiveOutputArea(window[\"6f18a374-06e5-11eb-b102-0242ac1c0002\"]);\n",
              "//# sourceURL=js_25b35b0f38"
            ],
            "text/plain": [
              "<IPython.core.display.Javascript object>"
            ]
          },
          "metadata": {
            "tags": [
              "id2-0-0",
              "outputarea_id2"
            ]
          }
        },
        {
          "output_type": "display_data",
          "data": {
            "application/javascript": [
              "window[\"6fedad08-06e5-11eb-b102-0242ac1c0002\"] = google.colab.output.getActiveOutputArea();\n",
              "//# sourceURL=js_6c7aeb730c"
            ],
            "text/plain": [
              "<IPython.core.display.Javascript object>"
            ]
          },
          "metadata": {
            "tags": [
              "id2-0-0",
              "outputarea_id2"
            ]
          }
        },
        {
          "output_type": "display_data",
          "data": {
            "application/javascript": [
              "window[\"6fee68e2-06e5-11eb-b102-0242ac1c0002\"] = document.querySelector(\"#id2-0-0\");\n",
              "//# sourceURL=js_bac0ce228b"
            ],
            "text/plain": [
              "<IPython.core.display.Javascript object>"
            ]
          },
          "metadata": {
            "tags": [
              "id2-0-0",
              "outputarea_id2"
            ]
          }
        },
        {
          "output_type": "display_data",
          "data": {
            "application/javascript": [
              "window[\"6fef3b8c-06e5-11eb-b102-0242ac1c0002\"] = google.colab.output.setActiveOutputArea(window[\"6fee68e2-06e5-11eb-b102-0242ac1c0002\"]);\n",
              "//# sourceURL=js_4b659fa1e3"
            ],
            "text/plain": [
              "<IPython.core.display.Javascript object>"
            ]
          },
          "metadata": {
            "tags": [
              "id2-0-0",
              "outputarea_id2"
            ]
          }
        },
        {
          "output_type": "display_data",
          "data": {
            "application/javascript": [
              "window[\"700b162c-06e5-11eb-b102-0242ac1c0002\"] = google.colab.output.setActiveOutputArea(window[\"6fedad08-06e5-11eb-b102-0242ac1c0002\"]);\n",
              "//# sourceURL=js_eb46e7c4de"
            ],
            "text/plain": [
              "<IPython.core.display.Javascript object>"
            ]
          },
          "metadata": {
            "tags": [
              "id2-0-0",
              "outputarea_id2"
            ]
          }
        },
        {
          "output_type": "display_data",
          "data": {
            "application/javascript": [
              "window[\"70c3f37c-06e5-11eb-b102-0242ac1c0002\"] = google.colab.output.getActiveOutputArea();\n",
              "//# sourceURL=js_08b499018a"
            ],
            "text/plain": [
              "<IPython.core.display.Javascript object>"
            ]
          },
          "metadata": {
            "tags": [
              "id2-0-0",
              "outputarea_id2"
            ]
          }
        },
        {
          "output_type": "display_data",
          "data": {
            "application/javascript": [
              "window[\"70c44796-06e5-11eb-b102-0242ac1c0002\"] = document.querySelector(\"#id2-0-0\");\n",
              "//# sourceURL=js_4b9054ea2f"
            ],
            "text/plain": [
              "<IPython.core.display.Javascript object>"
            ]
          },
          "metadata": {
            "tags": [
              "id2-0-0",
              "outputarea_id2"
            ]
          }
        },
        {
          "output_type": "display_data",
          "data": {
            "application/javascript": [
              "window[\"70c492be-06e5-11eb-b102-0242ac1c0002\"] = google.colab.output.setActiveOutputArea(window[\"70c44796-06e5-11eb-b102-0242ac1c0002\"]);\n",
              "//# sourceURL=js_788b66dc5a"
            ],
            "text/plain": [
              "<IPython.core.display.Javascript object>"
            ]
          },
          "metadata": {
            "tags": [
              "id2-0-0",
              "outputarea_id2"
            ]
          }
        },
        {
          "output_type": "display_data",
          "data": {
            "application/javascript": [
              "window[\"70e1f3e0-06e5-11eb-b102-0242ac1c0002\"] = google.colab.output.setActiveOutputArea(window[\"70c3f37c-06e5-11eb-b102-0242ac1c0002\"]);\n",
              "//# sourceURL=js_9134aac536"
            ],
            "text/plain": [
              "<IPython.core.display.Javascript object>"
            ]
          },
          "metadata": {
            "tags": [
              "id2-0-0",
              "outputarea_id2"
            ]
          }
        },
        {
          "output_type": "display_data",
          "data": {
            "application/javascript": [
              "window[\"719bc91e-06e5-11eb-b102-0242ac1c0002\"] = google.colab.output.getActiveOutputArea();\n",
              "//# sourceURL=js_67bd96ee98"
            ],
            "text/plain": [
              "<IPython.core.display.Javascript object>"
            ]
          },
          "metadata": {
            "tags": [
              "id2-0-0",
              "outputarea_id2"
            ]
          }
        },
        {
          "output_type": "display_data",
          "data": {
            "application/javascript": [
              "window[\"719c3980-06e5-11eb-b102-0242ac1c0002\"] = document.querySelector(\"#id2-0-0\");\n",
              "//# sourceURL=js_2df353d7c3"
            ],
            "text/plain": [
              "<IPython.core.display.Javascript object>"
            ]
          },
          "metadata": {
            "tags": [
              "id2-0-0",
              "outputarea_id2"
            ]
          }
        },
        {
          "output_type": "display_data",
          "data": {
            "application/javascript": [
              "window[\"719c7cba-06e5-11eb-b102-0242ac1c0002\"] = google.colab.output.setActiveOutputArea(window[\"719c3980-06e5-11eb-b102-0242ac1c0002\"]);\n",
              "//# sourceURL=js_a3d1cdac54"
            ],
            "text/plain": [
              "<IPython.core.display.Javascript object>"
            ]
          },
          "metadata": {
            "tags": [
              "id2-0-0",
              "outputarea_id2"
            ]
          }
        },
        {
          "output_type": "display_data",
          "data": {
            "application/javascript": [
              "window[\"71b7bb1a-06e5-11eb-b102-0242ac1c0002\"] = google.colab.output.setActiveOutputArea(window[\"719bc91e-06e5-11eb-b102-0242ac1c0002\"]);\n",
              "//# sourceURL=js_5a8d96419c"
            ],
            "text/plain": [
              "<IPython.core.display.Javascript object>"
            ]
          },
          "metadata": {
            "tags": [
              "id2-0-0",
              "outputarea_id2"
            ]
          }
        },
        {
          "output_type": "display_data",
          "data": {
            "application/javascript": [
              "window[\"7269daf2-06e5-11eb-b102-0242ac1c0002\"] = google.colab.output.getActiveOutputArea();\n",
              "//# sourceURL=js_f0e13ff7e1"
            ],
            "text/plain": [
              "<IPython.core.display.Javascript object>"
            ]
          },
          "metadata": {
            "tags": [
              "id2-0-0",
              "outputarea_id2"
            ]
          }
        },
        {
          "output_type": "display_data",
          "data": {
            "application/javascript": [
              "window[\"726a467c-06e5-11eb-b102-0242ac1c0002\"] = document.querySelector(\"#id2-0-0\");\n",
              "//# sourceURL=js_30b653d60b"
            ],
            "text/plain": [
              "<IPython.core.display.Javascript object>"
            ]
          },
          "metadata": {
            "tags": [
              "id2-0-0",
              "outputarea_id2"
            ]
          }
        },
        {
          "output_type": "display_data",
          "data": {
            "application/javascript": [
              "window[\"726b9518-06e5-11eb-b102-0242ac1c0002\"] = google.colab.output.setActiveOutputArea(window[\"726a467c-06e5-11eb-b102-0242ac1c0002\"]);\n",
              "//# sourceURL=js_2bdd7a9134"
            ],
            "text/plain": [
              "<IPython.core.display.Javascript object>"
            ]
          },
          "metadata": {
            "tags": [
              "id2-0-0",
              "outputarea_id2"
            ]
          }
        },
        {
          "output_type": "display_data",
          "data": {
            "application/javascript": [
              "window[\"7287114e-06e5-11eb-b102-0242ac1c0002\"] = google.colab.output.setActiveOutputArea(window[\"7269daf2-06e5-11eb-b102-0242ac1c0002\"]);\n",
              "//# sourceURL=js_89ddd03dfb"
            ],
            "text/plain": [
              "<IPython.core.display.Javascript object>"
            ]
          },
          "metadata": {
            "tags": [
              "id2-0-0",
              "outputarea_id2"
            ]
          }
        },
        {
          "output_type": "display_data",
          "data": {
            "application/javascript": [
              "window[\"7335f308-06e5-11eb-b102-0242ac1c0002\"] = google.colab.output.getActiveOutputArea();\n",
              "//# sourceURL=js_8ba4b7f34d"
            ],
            "text/plain": [
              "<IPython.core.display.Javascript object>"
            ]
          },
          "metadata": {
            "tags": [
              "id2-0-0",
              "outputarea_id2"
            ]
          }
        },
        {
          "output_type": "display_data",
          "data": {
            "application/javascript": [
              "window[\"73367e22-06e5-11eb-b102-0242ac1c0002\"] = document.querySelector(\"#id2-0-0\");\n",
              "//# sourceURL=js_e0374cf93e"
            ],
            "text/plain": [
              "<IPython.core.display.Javascript object>"
            ]
          },
          "metadata": {
            "tags": [
              "id2-0-0",
              "outputarea_id2"
            ]
          }
        },
        {
          "output_type": "display_data",
          "data": {
            "application/javascript": [
              "window[\"73371170-06e5-11eb-b102-0242ac1c0002\"] = google.colab.output.setActiveOutputArea(window[\"73367e22-06e5-11eb-b102-0242ac1c0002\"]);\n",
              "//# sourceURL=js_fae46f9882"
            ],
            "text/plain": [
              "<IPython.core.display.Javascript object>"
            ]
          },
          "metadata": {
            "tags": [
              "id2-0-0",
              "outputarea_id2"
            ]
          }
        },
        {
          "output_type": "display_data",
          "data": {
            "application/javascript": [
              "window[\"735419be-06e5-11eb-b102-0242ac1c0002\"] = google.colab.output.setActiveOutputArea(window[\"7335f308-06e5-11eb-b102-0242ac1c0002\"]);\n",
              "//# sourceURL=js_3d034fccac"
            ],
            "text/plain": [
              "<IPython.core.display.Javascript object>"
            ]
          },
          "metadata": {
            "tags": [
              "id2-0-0",
              "outputarea_id2"
            ]
          }
        },
        {
          "output_type": "display_data",
          "data": {
            "application/javascript": [
              "window[\"7407a90c-06e5-11eb-b102-0242ac1c0002\"] = google.colab.output.getActiveOutputArea();\n",
              "//# sourceURL=js_68895ce0c9"
            ],
            "text/plain": [
              "<IPython.core.display.Javascript object>"
            ]
          },
          "metadata": {
            "tags": [
              "id2-0-0",
              "outputarea_id2"
            ]
          }
        },
        {
          "output_type": "display_data",
          "data": {
            "application/javascript": [
              "window[\"7408a2da-06e5-11eb-b102-0242ac1c0002\"] = document.querySelector(\"#id2-0-0\");\n",
              "//# sourceURL=js_bb380f5e81"
            ],
            "text/plain": [
              "<IPython.core.display.Javascript object>"
            ]
          },
          "metadata": {
            "tags": [
              "id2-0-0",
              "outputarea_id2"
            ]
          }
        },
        {
          "output_type": "display_data",
          "data": {
            "application/javascript": [
              "window[\"7408ea06-06e5-11eb-b102-0242ac1c0002\"] = google.colab.output.setActiveOutputArea(window[\"7408a2da-06e5-11eb-b102-0242ac1c0002\"]);\n",
              "//# sourceURL=js_1fc74c13f5"
            ],
            "text/plain": [
              "<IPython.core.display.Javascript object>"
            ]
          },
          "metadata": {
            "tags": [
              "id2-0-0",
              "outputarea_id2"
            ]
          }
        },
        {
          "output_type": "display_data",
          "data": {
            "application/javascript": [
              "window[\"74256a50-06e5-11eb-b102-0242ac1c0002\"] = google.colab.output.setActiveOutputArea(window[\"7407a90c-06e5-11eb-b102-0242ac1c0002\"]);\n",
              "//# sourceURL=js_8c565a1fa1"
            ],
            "text/plain": [
              "<IPython.core.display.Javascript object>"
            ]
          },
          "metadata": {
            "tags": [
              "id2-0-0",
              "outputarea_id2"
            ]
          }
        },
        {
          "output_type": "display_data",
          "data": {
            "application/javascript": [
              "window[\"74d5dca0-06e5-11eb-b102-0242ac1c0002\"] = google.colab.output.getActiveOutputArea();\n",
              "//# sourceURL=js_96adcd8db2"
            ],
            "text/plain": [
              "<IPython.core.display.Javascript object>"
            ]
          },
          "metadata": {
            "tags": [
              "id2-0-0",
              "outputarea_id2"
            ]
          }
        },
        {
          "output_type": "display_data",
          "data": {
            "application/javascript": [
              "window[\"74d643a2-06e5-11eb-b102-0242ac1c0002\"] = document.querySelector(\"#id2-0-0\");\n",
              "//# sourceURL=js_5ad4ec84fd"
            ],
            "text/plain": [
              "<IPython.core.display.Javascript object>"
            ]
          },
          "metadata": {
            "tags": [
              "id2-0-0",
              "outputarea_id2"
            ]
          }
        },
        {
          "output_type": "display_data",
          "data": {
            "application/javascript": [
              "window[\"74d67ac0-06e5-11eb-b102-0242ac1c0002\"] = google.colab.output.setActiveOutputArea(window[\"74d643a2-06e5-11eb-b102-0242ac1c0002\"]);\n",
              "//# sourceURL=js_2dc7d9f400"
            ],
            "text/plain": [
              "<IPython.core.display.Javascript object>"
            ]
          },
          "metadata": {
            "tags": [
              "id2-0-0",
              "outputarea_id2"
            ]
          }
        },
        {
          "output_type": "display_data",
          "data": {
            "application/javascript": [
              "window[\"74f1d496-06e5-11eb-b102-0242ac1c0002\"] = google.colab.output.setActiveOutputArea(window[\"74d5dca0-06e5-11eb-b102-0242ac1c0002\"]);\n",
              "//# sourceURL=js_80da22044f"
            ],
            "text/plain": [
              "<IPython.core.display.Javascript object>"
            ]
          },
          "metadata": {
            "tags": [
              "id2-0-0",
              "outputarea_id2"
            ]
          }
        },
        {
          "output_type": "display_data",
          "data": {
            "application/javascript": [
              "window[\"759f1ffc-06e5-11eb-b102-0242ac1c0002\"] = google.colab.output.getActiveOutputArea();\n",
              "//# sourceURL=js_57a59fa519"
            ],
            "text/plain": [
              "<IPython.core.display.Javascript object>"
            ]
          },
          "metadata": {
            "tags": [
              "id2-0-0",
              "outputarea_id2"
            ]
          }
        },
        {
          "output_type": "display_data",
          "data": {
            "application/javascript": [
              "window[\"759f8f82-06e5-11eb-b102-0242ac1c0002\"] = document.querySelector(\"#id2-0-0\");\n",
              "//# sourceURL=js_47d119c6c9"
            ],
            "text/plain": [
              "<IPython.core.display.Javascript object>"
            ]
          },
          "metadata": {
            "tags": [
              "id2-0-0",
              "outputarea_id2"
            ]
          }
        },
        {
          "output_type": "display_data",
          "data": {
            "application/javascript": [
              "window[\"75a028b6-06e5-11eb-b102-0242ac1c0002\"] = google.colab.output.setActiveOutputArea(window[\"759f8f82-06e5-11eb-b102-0242ac1c0002\"]);\n",
              "//# sourceURL=js_abc01cb1ef"
            ],
            "text/plain": [
              "<IPython.core.display.Javascript object>"
            ]
          },
          "metadata": {
            "tags": [
              "id2-0-0",
              "outputarea_id2"
            ]
          }
        },
        {
          "output_type": "display_data",
          "data": {
            "application/javascript": [
              "window[\"75bdaaa8-06e5-11eb-b102-0242ac1c0002\"] = google.colab.output.setActiveOutputArea(window[\"759f1ffc-06e5-11eb-b102-0242ac1c0002\"]);\n",
              "//# sourceURL=js_c10a0aa061"
            ],
            "text/plain": [
              "<IPython.core.display.Javascript object>"
            ]
          },
          "metadata": {
            "tags": [
              "id2-0-0",
              "outputarea_id2"
            ]
          }
        },
        {
          "output_type": "display_data",
          "data": {
            "application/javascript": [
              "window[\"766f9b6e-06e5-11eb-b102-0242ac1c0002\"] = google.colab.output.getActiveOutputArea();\n",
              "//# sourceURL=js_295bd696d2"
            ],
            "text/plain": [
              "<IPython.core.display.Javascript object>"
            ]
          },
          "metadata": {
            "tags": [
              "id2-0-0",
              "outputarea_id2"
            ]
          }
        },
        {
          "output_type": "display_data",
          "data": {
            "application/javascript": [
              "window[\"767082a4-06e5-11eb-b102-0242ac1c0002\"] = document.querySelector(\"#id2-0-0\");\n",
              "//# sourceURL=js_697bbdde0f"
            ],
            "text/plain": [
              "<IPython.core.display.Javascript object>"
            ]
          },
          "metadata": {
            "tags": [
              "id2-0-0",
              "outputarea_id2"
            ]
          }
        },
        {
          "output_type": "display_data",
          "data": {
            "application/javascript": [
              "window[\"7670f8ce-06e5-11eb-b102-0242ac1c0002\"] = google.colab.output.setActiveOutputArea(window[\"767082a4-06e5-11eb-b102-0242ac1c0002\"]);\n",
              "//# sourceURL=js_4a43152d24"
            ],
            "text/plain": [
              "<IPython.core.display.Javascript object>"
            ]
          },
          "metadata": {
            "tags": [
              "id2-0-0",
              "outputarea_id2"
            ]
          }
        },
        {
          "output_type": "display_data",
          "data": {
            "application/javascript": [
              "window[\"768c2720-06e5-11eb-b102-0242ac1c0002\"] = google.colab.output.setActiveOutputArea(window[\"766f9b6e-06e5-11eb-b102-0242ac1c0002\"]);\n",
              "//# sourceURL=js_8a38563f9d"
            ],
            "text/plain": [
              "<IPython.core.display.Javascript object>"
            ]
          },
          "metadata": {
            "tags": [
              "id2-0-0",
              "outputarea_id2"
            ]
          }
        },
        {
          "output_type": "display_data",
          "data": {
            "application/javascript": [
              "window[\"773fbcae-06e5-11eb-b102-0242ac1c0002\"] = google.colab.output.getActiveOutputArea();\n",
              "//# sourceURL=js_f404537a70"
            ],
            "text/plain": [
              "<IPython.core.display.Javascript object>"
            ]
          },
          "metadata": {
            "tags": [
              "id2-0-0",
              "outputarea_id2"
            ]
          }
        },
        {
          "output_type": "display_data",
          "data": {
            "application/javascript": [
              "window[\"7751c46c-06e5-11eb-b102-0242ac1c0002\"] = document.querySelector(\"#id2-0-0\");\n",
              "//# sourceURL=js_4e0d62b45e"
            ],
            "text/plain": [
              "<IPython.core.display.Javascript object>"
            ]
          },
          "metadata": {
            "tags": [
              "id2-0-0",
              "outputarea_id2"
            ]
          }
        },
        {
          "output_type": "display_data",
          "data": {
            "application/javascript": [
              "window[\"77524f54-06e5-11eb-b102-0242ac1c0002\"] = google.colab.output.setActiveOutputArea(window[\"7751c46c-06e5-11eb-b102-0242ac1c0002\"]);\n",
              "//# sourceURL=js_f8d4885dbc"
            ],
            "text/plain": [
              "<IPython.core.display.Javascript object>"
            ]
          },
          "metadata": {
            "tags": [
              "id2-0-0",
              "outputarea_id2"
            ]
          }
        },
        {
          "output_type": "display_data",
          "data": {
            "application/javascript": [
              "window[\"776e8688-06e5-11eb-b102-0242ac1c0002\"] = google.colab.output.setActiveOutputArea(window[\"773fbcae-06e5-11eb-b102-0242ac1c0002\"]);\n",
              "//# sourceURL=js_2d1074f67b"
            ],
            "text/plain": [
              "<IPython.core.display.Javascript object>"
            ]
          },
          "metadata": {
            "tags": [
              "id2-0-0",
              "outputarea_id2"
            ]
          }
        },
        {
          "output_type": "display_data",
          "data": {
            "application/javascript": [
              "window[\"781e7ade-06e5-11eb-b102-0242ac1c0002\"] = google.colab.output.getActiveOutputArea();\n",
              "//# sourceURL=js_983331d911"
            ],
            "text/plain": [
              "<IPython.core.display.Javascript object>"
            ]
          },
          "metadata": {
            "tags": [
              "id2-0-0",
              "outputarea_id2"
            ]
          }
        },
        {
          "output_type": "display_data",
          "data": {
            "application/javascript": [
              "window[\"781ee064-06e5-11eb-b102-0242ac1c0002\"] = document.querySelector(\"#id2-0-0\");\n",
              "//# sourceURL=js_538dbb70af"
            ],
            "text/plain": [
              "<IPython.core.display.Javascript object>"
            ]
          },
          "metadata": {
            "tags": [
              "id2-0-0",
              "outputarea_id2"
            ]
          }
        },
        {
          "output_type": "display_data",
          "data": {
            "application/javascript": [
              "window[\"781f3596-06e5-11eb-b102-0242ac1c0002\"] = google.colab.output.setActiveOutputArea(window[\"781ee064-06e5-11eb-b102-0242ac1c0002\"]);\n",
              "//# sourceURL=js_89b5305b9a"
            ],
            "text/plain": [
              "<IPython.core.display.Javascript object>"
            ]
          },
          "metadata": {
            "tags": [
              "id2-0-0",
              "outputarea_id2"
            ]
          }
        },
        {
          "output_type": "display_data",
          "data": {
            "application/javascript": [
              "window[\"783c4438-06e5-11eb-b102-0242ac1c0002\"] = google.colab.output.setActiveOutputArea(window[\"781e7ade-06e5-11eb-b102-0242ac1c0002\"]);\n",
              "//# sourceURL=js_0b594d1fba"
            ],
            "text/plain": [
              "<IPython.core.display.Javascript object>"
            ]
          },
          "metadata": {
            "tags": [
              "id2-0-0",
              "outputarea_id2"
            ]
          }
        },
        {
          "output_type": "display_data",
          "data": {
            "application/javascript": [
              "window[\"78ee93c2-06e5-11eb-b102-0242ac1c0002\"] = google.colab.output.getActiveOutputArea();\n",
              "//# sourceURL=js_64f9bdfaa1"
            ],
            "text/plain": [
              "<IPython.core.display.Javascript object>"
            ]
          },
          "metadata": {
            "tags": [
              "id2-0-0",
              "outputarea_id2"
            ]
          }
        },
        {
          "output_type": "display_data",
          "data": {
            "application/javascript": [
              "window[\"78eefa42-06e5-11eb-b102-0242ac1c0002\"] = document.querySelector(\"#id2-0-0\");\n",
              "//# sourceURL=js_316e719744"
            ],
            "text/plain": [
              "<IPython.core.display.Javascript object>"
            ]
          },
          "metadata": {
            "tags": [
              "id2-0-0",
              "outputarea_id2"
            ]
          }
        },
        {
          "output_type": "display_data",
          "data": {
            "application/javascript": [
              "window[\"78efbb76-06e5-11eb-b102-0242ac1c0002\"] = google.colab.output.setActiveOutputArea(window[\"78eefa42-06e5-11eb-b102-0242ac1c0002\"]);\n",
              "//# sourceURL=js_f3575f69de"
            ],
            "text/plain": [
              "<IPython.core.display.Javascript object>"
            ]
          },
          "metadata": {
            "tags": [
              "id2-0-0",
              "outputarea_id2"
            ]
          }
        },
        {
          "output_type": "display_data",
          "data": {
            "application/javascript": [
              "window[\"790b57dc-06e5-11eb-b102-0242ac1c0002\"] = google.colab.output.setActiveOutputArea(window[\"78ee93c2-06e5-11eb-b102-0242ac1c0002\"]);\n",
              "//# sourceURL=js_77e873426b"
            ],
            "text/plain": [
              "<IPython.core.display.Javascript object>"
            ]
          },
          "metadata": {
            "tags": [
              "id2-0-0",
              "outputarea_id2"
            ]
          }
        },
        {
          "output_type": "display_data",
          "data": {
            "application/javascript": [
              "window[\"79bdfa18-06e5-11eb-b102-0242ac1c0002\"] = google.colab.output.getActiveOutputArea();\n",
              "//# sourceURL=js_d23f7c6e66"
            ],
            "text/plain": [
              "<IPython.core.display.Javascript object>"
            ]
          },
          "metadata": {
            "tags": [
              "id2-0-0",
              "outputarea_id2"
            ]
          }
        },
        {
          "output_type": "display_data",
          "data": {
            "application/javascript": [
              "window[\"79be457c-06e5-11eb-b102-0242ac1c0002\"] = document.querySelector(\"#id2-0-0\");\n",
              "//# sourceURL=js_a15c6235f6"
            ],
            "text/plain": [
              "<IPython.core.display.Javascript object>"
            ]
          },
          "metadata": {
            "tags": [
              "id2-0-0",
              "outputarea_id2"
            ]
          }
        },
        {
          "output_type": "display_data",
          "data": {
            "application/javascript": [
              "window[\"79be8208-06e5-11eb-b102-0242ac1c0002\"] = google.colab.output.setActiveOutputArea(window[\"79be457c-06e5-11eb-b102-0242ac1c0002\"]);\n",
              "//# sourceURL=js_dee74f4956"
            ],
            "text/plain": [
              "<IPython.core.display.Javascript object>"
            ]
          },
          "metadata": {
            "tags": [
              "id2-0-0",
              "outputarea_id2"
            ]
          }
        },
        {
          "output_type": "display_data",
          "data": {
            "application/javascript": [
              "window[\"79da1cf2-06e5-11eb-b102-0242ac1c0002\"] = google.colab.output.setActiveOutputArea(window[\"79bdfa18-06e5-11eb-b102-0242ac1c0002\"]);\n",
              "//# sourceURL=js_e1f31a76d1"
            ],
            "text/plain": [
              "<IPython.core.display.Javascript object>"
            ]
          },
          "metadata": {
            "tags": [
              "id2-0-0",
              "outputarea_id2"
            ]
          }
        },
        {
          "output_type": "display_data",
          "data": {
            "application/javascript": [
              "window[\"7a88cfb8-06e5-11eb-b102-0242ac1c0002\"] = google.colab.output.getActiveOutputArea();\n",
              "//# sourceURL=js_fc9f7705bc"
            ],
            "text/plain": [
              "<IPython.core.display.Javascript object>"
            ]
          },
          "metadata": {
            "tags": [
              "id2-0-0",
              "outputarea_id2"
            ]
          }
        },
        {
          "output_type": "display_data",
          "data": {
            "application/javascript": [
              "window[\"7a8914dc-06e5-11eb-b102-0242ac1c0002\"] = document.querySelector(\"#id2-0-0\");\n",
              "//# sourceURL=js_ad84f975eb"
            ],
            "text/plain": [
              "<IPython.core.display.Javascript object>"
            ]
          },
          "metadata": {
            "tags": [
              "id2-0-0",
              "outputarea_id2"
            ]
          }
        },
        {
          "output_type": "display_data",
          "data": {
            "application/javascript": [
              "window[\"7a894d62-06e5-11eb-b102-0242ac1c0002\"] = google.colab.output.setActiveOutputArea(window[\"7a8914dc-06e5-11eb-b102-0242ac1c0002\"]);\n",
              "//# sourceURL=js_3df17f0e0a"
            ],
            "text/plain": [
              "<IPython.core.display.Javascript object>"
            ]
          },
          "metadata": {
            "tags": [
              "id2-0-0",
              "outputarea_id2"
            ]
          }
        },
        {
          "output_type": "display_data",
          "data": {
            "application/javascript": [
              "window[\"7aa6372e-06e5-11eb-b102-0242ac1c0002\"] = google.colab.output.setActiveOutputArea(window[\"7a88cfb8-06e5-11eb-b102-0242ac1c0002\"]);\n",
              "//# sourceURL=js_ffe65a2170"
            ],
            "text/plain": [
              "<IPython.core.display.Javascript object>"
            ]
          },
          "metadata": {
            "tags": [
              "id2-0-0",
              "outputarea_id2"
            ]
          }
        },
        {
          "output_type": "display_data",
          "data": {
            "application/javascript": [
              "window[\"7b598374-06e5-11eb-b102-0242ac1c0002\"] = google.colab.output.getActiveOutputArea();\n",
              "//# sourceURL=js_380b65c56c"
            ],
            "text/plain": [
              "<IPython.core.display.Javascript object>"
            ]
          },
          "metadata": {
            "tags": [
              "id2-0-0",
              "outputarea_id2"
            ]
          }
        },
        {
          "output_type": "display_data",
          "data": {
            "application/javascript": [
              "window[\"7b5a0a4c-06e5-11eb-b102-0242ac1c0002\"] = document.querySelector(\"#id2-0-0\");\n",
              "//# sourceURL=js_8fa7023374"
            ],
            "text/plain": [
              "<IPython.core.display.Javascript object>"
            ]
          },
          "metadata": {
            "tags": [
              "id2-0-0",
              "outputarea_id2"
            ]
          }
        },
        {
          "output_type": "display_data",
          "data": {
            "application/javascript": [
              "window[\"7b5a4818-06e5-11eb-b102-0242ac1c0002\"] = google.colab.output.setActiveOutputArea(window[\"7b5a0a4c-06e5-11eb-b102-0242ac1c0002\"]);\n",
              "//# sourceURL=js_97d9de2a5e"
            ],
            "text/plain": [
              "<IPython.core.display.Javascript object>"
            ]
          },
          "metadata": {
            "tags": [
              "id2-0-0",
              "outputarea_id2"
            ]
          }
        },
        {
          "output_type": "display_data",
          "data": {
            "application/javascript": [
              "window[\"7b754af0-06e5-11eb-b102-0242ac1c0002\"] = google.colab.output.setActiveOutputArea(window[\"7b598374-06e5-11eb-b102-0242ac1c0002\"]);\n",
              "//# sourceURL=js_d104050380"
            ],
            "text/plain": [
              "<IPython.core.display.Javascript object>"
            ]
          },
          "metadata": {
            "tags": [
              "id2-0-0",
              "outputarea_id2"
            ]
          }
        },
        {
          "output_type": "display_data",
          "data": {
            "application/javascript": [
              "window[\"7c24c548-06e5-11eb-b102-0242ac1c0002\"] = google.colab.output.getActiveOutputArea();\n",
              "//# sourceURL=js_e89f3ca9f8"
            ],
            "text/plain": [
              "<IPython.core.display.Javascript object>"
            ]
          },
          "metadata": {
            "tags": [
              "id2-0-0",
              "outputarea_id2"
            ]
          }
        },
        {
          "output_type": "display_data",
          "data": {
            "application/javascript": [
              "window[\"7c252024-06e5-11eb-b102-0242ac1c0002\"] = document.querySelector(\"#id2-0-0\");\n",
              "//# sourceURL=js_6b00305e39"
            ],
            "text/plain": [
              "<IPython.core.display.Javascript object>"
            ]
          },
          "metadata": {
            "tags": [
              "id2-0-0",
              "outputarea_id2"
            ]
          }
        },
        {
          "output_type": "display_data",
          "data": {
            "application/javascript": [
              "window[\"7c257c7c-06e5-11eb-b102-0242ac1c0002\"] = google.colab.output.setActiveOutputArea(window[\"7c252024-06e5-11eb-b102-0242ac1c0002\"]);\n",
              "//# sourceURL=js_c918a1d629"
            ],
            "text/plain": [
              "<IPython.core.display.Javascript object>"
            ]
          },
          "metadata": {
            "tags": [
              "id2-0-0",
              "outputarea_id2"
            ]
          }
        },
        {
          "output_type": "display_data",
          "data": {
            "application/javascript": [
              "window[\"7c400e0c-06e5-11eb-b102-0242ac1c0002\"] = google.colab.output.setActiveOutputArea(window[\"7c24c548-06e5-11eb-b102-0242ac1c0002\"]);\n",
              "//# sourceURL=js_c3aa929e3b"
            ],
            "text/plain": [
              "<IPython.core.display.Javascript object>"
            ]
          },
          "metadata": {
            "tags": [
              "id2-0-0",
              "outputarea_id2"
            ]
          }
        },
        {
          "output_type": "display_data",
          "data": {
            "application/javascript": [
              "window[\"7cf0864c-06e5-11eb-b102-0242ac1c0002\"] = google.colab.output.getActiveOutputArea();\n",
              "//# sourceURL=js_3fb32646ba"
            ],
            "text/plain": [
              "<IPython.core.display.Javascript object>"
            ]
          },
          "metadata": {
            "tags": [
              "id2-0-0",
              "outputarea_id2"
            ]
          }
        },
        {
          "output_type": "display_data",
          "data": {
            "application/javascript": [
              "window[\"7cf0fffa-06e5-11eb-b102-0242ac1c0002\"] = document.querySelector(\"#id2-0-0\");\n",
              "//# sourceURL=js_fb1bf47ab7"
            ],
            "text/plain": [
              "<IPython.core.display.Javascript object>"
            ]
          },
          "metadata": {
            "tags": [
              "id2-0-0",
              "outputarea_id2"
            ]
          }
        },
        {
          "output_type": "display_data",
          "data": {
            "application/javascript": [
              "window[\"7cf14a46-06e5-11eb-b102-0242ac1c0002\"] = google.colab.output.setActiveOutputArea(window[\"7cf0fffa-06e5-11eb-b102-0242ac1c0002\"]);\n",
              "//# sourceURL=js_ac2a9d99a3"
            ],
            "text/plain": [
              "<IPython.core.display.Javascript object>"
            ]
          },
          "metadata": {
            "tags": [
              "id2-0-0",
              "outputarea_id2"
            ]
          }
        },
        {
          "output_type": "display_data",
          "data": {
            "application/javascript": [
              "window[\"7d0ce788-06e5-11eb-b102-0242ac1c0002\"] = google.colab.output.setActiveOutputArea(window[\"7cf0864c-06e5-11eb-b102-0242ac1c0002\"]);\n",
              "//# sourceURL=js_2cbe2759c0"
            ],
            "text/plain": [
              "<IPython.core.display.Javascript object>"
            ]
          },
          "metadata": {
            "tags": [
              "id2-0-0",
              "outputarea_id2"
            ]
          }
        },
        {
          "output_type": "display_data",
          "data": {
            "application/javascript": [
              "window[\"7dbd8534-06e5-11eb-b102-0242ac1c0002\"] = google.colab.output.getActiveOutputArea();\n",
              "//# sourceURL=js_1ba75d6b85"
            ],
            "text/plain": [
              "<IPython.core.display.Javascript object>"
            ]
          },
          "metadata": {
            "tags": [
              "id2-0-0",
              "outputarea_id2"
            ]
          }
        },
        {
          "output_type": "display_data",
          "data": {
            "application/javascript": [
              "window[\"7dbe412c-06e5-11eb-b102-0242ac1c0002\"] = document.querySelector(\"#id2-0-0\");\n",
              "//# sourceURL=js_f6c0fb5319"
            ],
            "text/plain": [
              "<IPython.core.display.Javascript object>"
            ]
          },
          "metadata": {
            "tags": [
              "id2-0-0",
              "outputarea_id2"
            ]
          }
        },
        {
          "output_type": "display_data",
          "data": {
            "application/javascript": [
              "window[\"7dbeebb8-06e5-11eb-b102-0242ac1c0002\"] = google.colab.output.setActiveOutputArea(window[\"7dbe412c-06e5-11eb-b102-0242ac1c0002\"]);\n",
              "//# sourceURL=js_069be5b791"
            ],
            "text/plain": [
              "<IPython.core.display.Javascript object>"
            ]
          },
          "metadata": {
            "tags": [
              "id2-0-0",
              "outputarea_id2"
            ]
          }
        },
        {
          "output_type": "display_data",
          "data": {
            "application/javascript": [
              "window[\"7dd98392-06e5-11eb-b102-0242ac1c0002\"] = google.colab.output.setActiveOutputArea(window[\"7dbd8534-06e5-11eb-b102-0242ac1c0002\"]);\n",
              "//# sourceURL=js_e187d4a726"
            ],
            "text/plain": [
              "<IPython.core.display.Javascript object>"
            ]
          },
          "metadata": {
            "tags": [
              "id2-0-0",
              "outputarea_id2"
            ]
          }
        },
        {
          "output_type": "display_data",
          "data": {
            "application/javascript": [
              "window[\"7e88a73c-06e5-11eb-b102-0242ac1c0002\"] = google.colab.output.getActiveOutputArea();\n",
              "//# sourceURL=js_78b5a649b9"
            ],
            "text/plain": [
              "<IPython.core.display.Javascript object>"
            ]
          },
          "metadata": {
            "tags": [
              "id2-0-0",
              "outputarea_id2"
            ]
          }
        },
        {
          "output_type": "display_data",
          "data": {
            "application/javascript": [
              "window[\"7e893e04-06e5-11eb-b102-0242ac1c0002\"] = document.querySelector(\"#id2-0-0\");\n",
              "//# sourceURL=js_6cf6ae1b3a"
            ],
            "text/plain": [
              "<IPython.core.display.Javascript object>"
            ]
          },
          "metadata": {
            "tags": [
              "id2-0-0",
              "outputarea_id2"
            ]
          }
        },
        {
          "output_type": "display_data",
          "data": {
            "application/javascript": [
              "window[\"7e89d38c-06e5-11eb-b102-0242ac1c0002\"] = google.colab.output.setActiveOutputArea(window[\"7e893e04-06e5-11eb-b102-0242ac1c0002\"]);\n",
              "//# sourceURL=js_fdd94c3941"
            ],
            "text/plain": [
              "<IPython.core.display.Javascript object>"
            ]
          },
          "metadata": {
            "tags": [
              "id2-0-0",
              "outputarea_id2"
            ]
          }
        },
        {
          "output_type": "display_data",
          "data": {
            "application/javascript": [
              "window[\"7ea3a5e6-06e5-11eb-b102-0242ac1c0002\"] = google.colab.output.setActiveOutputArea(window[\"7e88a73c-06e5-11eb-b102-0242ac1c0002\"]);\n",
              "//# sourceURL=js_3c3ac23362"
            ],
            "text/plain": [
              "<IPython.core.display.Javascript object>"
            ]
          },
          "metadata": {
            "tags": [
              "id2-0-0",
              "outputarea_id2"
            ]
          }
        },
        {
          "output_type": "display_data",
          "data": {
            "application/javascript": [
              "window[\"7f528cdc-06e5-11eb-b102-0242ac1c0002\"] = google.colab.output.getActiveOutputArea();\n",
              "//# sourceURL=js_55459c6a85"
            ],
            "text/plain": [
              "<IPython.core.display.Javascript object>"
            ]
          },
          "metadata": {
            "tags": [
              "id2-0-0",
              "outputarea_id2"
            ]
          }
        },
        {
          "output_type": "display_data",
          "data": {
            "application/javascript": [
              "window[\"7f52e29a-06e5-11eb-b102-0242ac1c0002\"] = document.querySelector(\"#id2-0-0\");\n",
              "//# sourceURL=js_cd32806fa1"
            ],
            "text/plain": [
              "<IPython.core.display.Javascript object>"
            ]
          },
          "metadata": {
            "tags": [
              "id2-0-0",
              "outputarea_id2"
            ]
          }
        },
        {
          "output_type": "display_data",
          "data": {
            "application/javascript": [
              "window[\"7f53333a-06e5-11eb-b102-0242ac1c0002\"] = google.colab.output.setActiveOutputArea(window[\"7f52e29a-06e5-11eb-b102-0242ac1c0002\"]);\n",
              "//# sourceURL=js_cc2c2189d4"
            ],
            "text/plain": [
              "<IPython.core.display.Javascript object>"
            ]
          },
          "metadata": {
            "tags": [
              "id2-0-0",
              "outputarea_id2"
            ]
          }
        },
        {
          "output_type": "display_data",
          "data": {
            "application/javascript": [
              "window[\"7f6d76a0-06e5-11eb-b102-0242ac1c0002\"] = google.colab.output.setActiveOutputArea(window[\"7f528cdc-06e5-11eb-b102-0242ac1c0002\"]);\n",
              "//# sourceURL=js_45420e2ae5"
            ],
            "text/plain": [
              "<IPython.core.display.Javascript object>"
            ]
          },
          "metadata": {
            "tags": [
              "id2-0-0",
              "outputarea_id2"
            ]
          }
        },
        {
          "output_type": "display_data",
          "data": {
            "application/javascript": [
              "window[\"802136f4-06e5-11eb-b102-0242ac1c0002\"] = google.colab.output.getActiveOutputArea();\n",
              "//# sourceURL=js_b6c326d6d1"
            ],
            "text/plain": [
              "<IPython.core.display.Javascript object>"
            ]
          },
          "metadata": {
            "tags": [
              "id2-0-0",
              "outputarea_id2"
            ]
          }
        },
        {
          "output_type": "display_data",
          "data": {
            "application/javascript": [
              "window[\"8022160a-06e5-11eb-b102-0242ac1c0002\"] = document.querySelector(\"#id2-0-0\");\n",
              "//# sourceURL=js_8c3f409b31"
            ],
            "text/plain": [
              "<IPython.core.display.Javascript object>"
            ]
          },
          "metadata": {
            "tags": [
              "id2-0-0",
              "outputarea_id2"
            ]
          }
        },
        {
          "output_type": "display_data",
          "data": {
            "application/javascript": [
              "window[\"80228158-06e5-11eb-b102-0242ac1c0002\"] = google.colab.output.setActiveOutputArea(window[\"8022160a-06e5-11eb-b102-0242ac1c0002\"]);\n",
              "//# sourceURL=js_2348050c85"
            ],
            "text/plain": [
              "<IPython.core.display.Javascript object>"
            ]
          },
          "metadata": {
            "tags": [
              "id2-0-0",
              "outputarea_id2"
            ]
          }
        },
        {
          "output_type": "display_data",
          "data": {
            "application/javascript": [
              "window[\"803d492a-06e5-11eb-b102-0242ac1c0002\"] = google.colab.output.setActiveOutputArea(window[\"802136f4-06e5-11eb-b102-0242ac1c0002\"]);\n",
              "//# sourceURL=js_420ab5c27d"
            ],
            "text/plain": [
              "<IPython.core.display.Javascript object>"
            ]
          },
          "metadata": {
            "tags": [
              "id2-0-0",
              "outputarea_id2"
            ]
          }
        },
        {
          "output_type": "display_data",
          "data": {
            "application/javascript": [
              "window[\"80ed5cc0-06e5-11eb-b102-0242ac1c0002\"] = google.colab.output.getActiveOutputArea();\n",
              "//# sourceURL=js_58854cde5e"
            ],
            "text/plain": [
              "<IPython.core.display.Javascript object>"
            ]
          },
          "metadata": {
            "tags": [
              "id2-0-0",
              "outputarea_id2"
            ]
          }
        },
        {
          "output_type": "display_data",
          "data": {
            "application/javascript": [
              "window[\"80eda626-06e5-11eb-b102-0242ac1c0002\"] = document.querySelector(\"#id2-0-0\");\n",
              "//# sourceURL=js_aa5755810b"
            ],
            "text/plain": [
              "<IPython.core.display.Javascript object>"
            ]
          },
          "metadata": {
            "tags": [
              "id2-0-0",
              "outputarea_id2"
            ]
          }
        },
        {
          "output_type": "display_data",
          "data": {
            "application/javascript": [
              "window[\"80eddf42-06e5-11eb-b102-0242ac1c0002\"] = google.colab.output.setActiveOutputArea(window[\"80eda626-06e5-11eb-b102-0242ac1c0002\"]);\n",
              "//# sourceURL=js_f707799d6e"
            ],
            "text/plain": [
              "<IPython.core.display.Javascript object>"
            ]
          },
          "metadata": {
            "tags": [
              "id2-0-0",
              "outputarea_id2"
            ]
          }
        },
        {
          "output_type": "display_data",
          "data": {
            "application/javascript": [
              "window[\"810a0294-06e5-11eb-b102-0242ac1c0002\"] = google.colab.output.setActiveOutputArea(window[\"80ed5cc0-06e5-11eb-b102-0242ac1c0002\"]);\n",
              "//# sourceURL=js_6e904e086b"
            ],
            "text/plain": [
              "<IPython.core.display.Javascript object>"
            ]
          },
          "metadata": {
            "tags": [
              "id2-0-0",
              "outputarea_id2"
            ]
          }
        },
        {
          "output_type": "display_data",
          "data": {
            "application/javascript": [
              "window[\"81ba5dba-06e5-11eb-b102-0242ac1c0002\"] = google.colab.output.getActiveOutputArea();\n",
              "//# sourceURL=js_6dbd293e64"
            ],
            "text/plain": [
              "<IPython.core.display.Javascript object>"
            ]
          },
          "metadata": {
            "tags": [
              "id2-0-0",
              "outputarea_id2"
            ]
          }
        },
        {
          "output_type": "display_data",
          "data": {
            "application/javascript": [
              "window[\"81bab350-06e5-11eb-b102-0242ac1c0002\"] = document.querySelector(\"#id2-0-0\");\n",
              "//# sourceURL=js_d9eebdad46"
            ],
            "text/plain": [
              "<IPython.core.display.Javascript object>"
            ]
          },
          "metadata": {
            "tags": [
              "id2-0-0",
              "outputarea_id2"
            ]
          }
        },
        {
          "output_type": "display_data",
          "data": {
            "application/javascript": [
              "window[\"81bb7bdc-06e5-11eb-b102-0242ac1c0002\"] = google.colab.output.setActiveOutputArea(window[\"81bab350-06e5-11eb-b102-0242ac1c0002\"]);\n",
              "//# sourceURL=js_d9cc533223"
            ],
            "text/plain": [
              "<IPython.core.display.Javascript object>"
            ]
          },
          "metadata": {
            "tags": [
              "id2-0-0",
              "outputarea_id2"
            ]
          }
        },
        {
          "output_type": "display_data",
          "data": {
            "application/javascript": [
              "window[\"81d728aa-06e5-11eb-b102-0242ac1c0002\"] = google.colab.output.setActiveOutputArea(window[\"81ba5dba-06e5-11eb-b102-0242ac1c0002\"]);\n",
              "//# sourceURL=js_91d99d3fb6"
            ],
            "text/plain": [
              "<IPython.core.display.Javascript object>"
            ]
          },
          "metadata": {
            "tags": [
              "id2-0-0",
              "outputarea_id2"
            ]
          }
        },
        {
          "output_type": "display_data",
          "data": {
            "application/javascript": [
              "window[\"828a8562-06e5-11eb-b102-0242ac1c0002\"] = google.colab.output.getActiveOutputArea();\n",
              "//# sourceURL=js_f1c27c8f8a"
            ],
            "text/plain": [
              "<IPython.core.display.Javascript object>"
            ]
          },
          "metadata": {
            "tags": [
              "id2-0-0",
              "outputarea_id2"
            ]
          }
        },
        {
          "output_type": "display_data",
          "data": {
            "application/javascript": [
              "window[\"828ae37c-06e5-11eb-b102-0242ac1c0002\"] = document.querySelector(\"#id2-0-0\");\n",
              "//# sourceURL=js_bb654bba74"
            ],
            "text/plain": [
              "<IPython.core.display.Javascript object>"
            ]
          },
          "metadata": {
            "tags": [
              "id2-0-0",
              "outputarea_id2"
            ]
          }
        },
        {
          "output_type": "display_data",
          "data": {
            "application/javascript": [
              "window[\"828b399e-06e5-11eb-b102-0242ac1c0002\"] = google.colab.output.setActiveOutputArea(window[\"828ae37c-06e5-11eb-b102-0242ac1c0002\"]);\n",
              "//# sourceURL=js_4700ba5d1e"
            ],
            "text/plain": [
              "<IPython.core.display.Javascript object>"
            ]
          },
          "metadata": {
            "tags": [
              "id2-0-0",
              "outputarea_id2"
            ]
          }
        },
        {
          "output_type": "display_data",
          "data": {
            "application/javascript": [
              "window[\"82a6c902-06e5-11eb-b102-0242ac1c0002\"] = google.colab.output.setActiveOutputArea(window[\"828a8562-06e5-11eb-b102-0242ac1c0002\"]);\n",
              "//# sourceURL=js_39b2ac3c91"
            ],
            "text/plain": [
              "<IPython.core.display.Javascript object>"
            ]
          },
          "metadata": {
            "tags": [
              "id2-0-0",
              "outputarea_id2"
            ]
          }
        },
        {
          "output_type": "display_data",
          "data": {
            "application/javascript": [
              "window[\"835ae3ba-06e5-11eb-b102-0242ac1c0002\"] = google.colab.output.getActiveOutputArea();\n",
              "//# sourceURL=js_500653e1cf"
            ],
            "text/plain": [
              "<IPython.core.display.Javascript object>"
            ]
          },
          "metadata": {
            "tags": [
              "id2-0-0",
              "outputarea_id2"
            ]
          }
        },
        {
          "output_type": "display_data",
          "data": {
            "application/javascript": [
              "window[\"836e6912-06e5-11eb-b102-0242ac1c0002\"] = document.querySelector(\"#id2-0-0\");\n",
              "//# sourceURL=js_cceed95bd5"
            ],
            "text/plain": [
              "<IPython.core.display.Javascript object>"
            ]
          },
          "metadata": {
            "tags": [
              "id2-0-0",
              "outputarea_id2"
            ]
          }
        },
        {
          "output_type": "display_data",
          "data": {
            "application/javascript": [
              "window[\"836ea634-06e5-11eb-b102-0242ac1c0002\"] = google.colab.output.setActiveOutputArea(window[\"836e6912-06e5-11eb-b102-0242ac1c0002\"]);\n",
              "//# sourceURL=js_4769a199c5"
            ],
            "text/plain": [
              "<IPython.core.display.Javascript object>"
            ]
          },
          "metadata": {
            "tags": [
              "id2-0-0",
              "outputarea_id2"
            ]
          }
        },
        {
          "output_type": "display_data",
          "data": {
            "application/javascript": [
              "window[\"838a3818-06e5-11eb-b102-0242ac1c0002\"] = google.colab.output.setActiveOutputArea(window[\"835ae3ba-06e5-11eb-b102-0242ac1c0002\"]);\n",
              "//# sourceURL=js_236b9a943e"
            ],
            "text/plain": [
              "<IPython.core.display.Javascript object>"
            ]
          },
          "metadata": {
            "tags": [
              "id2-0-0",
              "outputarea_id2"
            ]
          }
        },
        {
          "output_type": "display_data",
          "data": {
            "application/javascript": [
              "window[\"843b6da4-06e5-11eb-b102-0242ac1c0002\"] = google.colab.output.getActiveOutputArea();\n",
              "//# sourceURL=js_46729549e2"
            ],
            "text/plain": [
              "<IPython.core.display.Javascript object>"
            ]
          },
          "metadata": {
            "tags": [
              "id2-0-0",
              "outputarea_id2"
            ]
          }
        },
        {
          "output_type": "display_data",
          "data": {
            "application/javascript": [
              "window[\"843be9d2-06e5-11eb-b102-0242ac1c0002\"] = document.querySelector(\"#id2-0-0\");\n",
              "//# sourceURL=js_8996f57e60"
            ],
            "text/plain": [
              "<IPython.core.display.Javascript object>"
            ]
          },
          "metadata": {
            "tags": [
              "id2-0-0",
              "outputarea_id2"
            ]
          }
        },
        {
          "output_type": "display_data",
          "data": {
            "application/javascript": [
              "window[\"843c4c56-06e5-11eb-b102-0242ac1c0002\"] = google.colab.output.setActiveOutputArea(window[\"843be9d2-06e5-11eb-b102-0242ac1c0002\"]);\n",
              "//# sourceURL=js_e624b548b9"
            ],
            "text/plain": [
              "<IPython.core.display.Javascript object>"
            ]
          },
          "metadata": {
            "tags": [
              "id2-0-0",
              "outputarea_id2"
            ]
          }
        },
        {
          "output_type": "display_data",
          "data": {
            "application/javascript": [
              "window[\"8458ae5a-06e5-11eb-b102-0242ac1c0002\"] = google.colab.output.setActiveOutputArea(window[\"843b6da4-06e5-11eb-b102-0242ac1c0002\"]);\n",
              "//# sourceURL=js_75410f97e2"
            ],
            "text/plain": [
              "<IPython.core.display.Javascript object>"
            ]
          },
          "metadata": {
            "tags": [
              "id2-0-0",
              "outputarea_id2"
            ]
          }
        },
        {
          "output_type": "display_data",
          "data": {
            "application/javascript": [
              "window[\"8508d974-06e5-11eb-b102-0242ac1c0002\"] = google.colab.output.getActiveOutputArea();\n",
              "//# sourceURL=js_3e7715cef7"
            ],
            "text/plain": [
              "<IPython.core.display.Javascript object>"
            ]
          },
          "metadata": {
            "tags": [
              "id2-0-0",
              "outputarea_id2"
            ]
          }
        },
        {
          "output_type": "display_data",
          "data": {
            "application/javascript": [
              "window[\"850964ca-06e5-11eb-b102-0242ac1c0002\"] = document.querySelector(\"#id2-0-0\");\n",
              "//# sourceURL=js_712500a771"
            ],
            "text/plain": [
              "<IPython.core.display.Javascript object>"
            ]
          },
          "metadata": {
            "tags": [
              "id2-0-0",
              "outputarea_id2"
            ]
          }
        },
        {
          "output_type": "display_data",
          "data": {
            "application/javascript": [
              "window[\"8509d23e-06e5-11eb-b102-0242ac1c0002\"] = google.colab.output.setActiveOutputArea(window[\"850964ca-06e5-11eb-b102-0242ac1c0002\"]);\n",
              "//# sourceURL=js_dd8b18966e"
            ],
            "text/plain": [
              "<IPython.core.display.Javascript object>"
            ]
          },
          "metadata": {
            "tags": [
              "id2-0-0",
              "outputarea_id2"
            ]
          }
        },
        {
          "output_type": "display_data",
          "data": {
            "application/javascript": [
              "window[\"8524ce7c-06e5-11eb-b102-0242ac1c0002\"] = google.colab.output.setActiveOutputArea(window[\"8508d974-06e5-11eb-b102-0242ac1c0002\"]);\n",
              "//# sourceURL=js_e9319bbd9a"
            ],
            "text/plain": [
              "<IPython.core.display.Javascript object>"
            ]
          },
          "metadata": {
            "tags": [
              "id2-0-0",
              "outputarea_id2"
            ]
          }
        },
        {
          "output_type": "display_data",
          "data": {
            "application/javascript": [
              "window[\"85d6c87a-06e5-11eb-b102-0242ac1c0002\"] = google.colab.output.getActiveOutputArea();\n",
              "//# sourceURL=js_e506cf40a5"
            ],
            "text/plain": [
              "<IPython.core.display.Javascript object>"
            ]
          },
          "metadata": {
            "tags": [
              "id2-0-0",
              "outputarea_id2"
            ]
          }
        },
        {
          "output_type": "display_data",
          "data": {
            "application/javascript": [
              "window[\"85d76442-06e5-11eb-b102-0242ac1c0002\"] = document.querySelector(\"#id2-0-0\");\n",
              "//# sourceURL=js_8f8726f771"
            ],
            "text/plain": [
              "<IPython.core.display.Javascript object>"
            ]
          },
          "metadata": {
            "tags": [
              "id2-0-0",
              "outputarea_id2"
            ]
          }
        },
        {
          "output_type": "display_data",
          "data": {
            "application/javascript": [
              "window[\"85d7ea84-06e5-11eb-b102-0242ac1c0002\"] = google.colab.output.setActiveOutputArea(window[\"85d76442-06e5-11eb-b102-0242ac1c0002\"]);\n",
              "//# sourceURL=js_1542d14c13"
            ],
            "text/plain": [
              "<IPython.core.display.Javascript object>"
            ]
          },
          "metadata": {
            "tags": [
              "id2-0-0",
              "outputarea_id2"
            ]
          }
        },
        {
          "output_type": "display_data",
          "data": {
            "application/javascript": [
              "window[\"85f2523e-06e5-11eb-b102-0242ac1c0002\"] = google.colab.output.setActiveOutputArea(window[\"85d6c87a-06e5-11eb-b102-0242ac1c0002\"]);\n",
              "//# sourceURL=js_93aaaa7b8f"
            ],
            "text/plain": [
              "<IPython.core.display.Javascript object>"
            ]
          },
          "metadata": {
            "tags": [
              "id2-0-0",
              "outputarea_id2"
            ]
          }
        },
        {
          "output_type": "display_data",
          "data": {
            "application/javascript": [
              "window[\"86a5681a-06e5-11eb-b102-0242ac1c0002\"] = google.colab.output.getActiveOutputArea();\n",
              "//# sourceURL=js_4bee23119a"
            ],
            "text/plain": [
              "<IPython.core.display.Javascript object>"
            ]
          },
          "metadata": {
            "tags": [
              "id2-0-0",
              "outputarea_id2"
            ]
          }
        },
        {
          "output_type": "display_data",
          "data": {
            "application/javascript": [
              "window[\"86a61210-06e5-11eb-b102-0242ac1c0002\"] = document.querySelector(\"#id2-0-0\");\n",
              "//# sourceURL=js_7007afd1bb"
            ],
            "text/plain": [
              "<IPython.core.display.Javascript object>"
            ]
          },
          "metadata": {
            "tags": [
              "id2-0-0",
              "outputarea_id2"
            ]
          }
        },
        {
          "output_type": "display_data",
          "data": {
            "application/javascript": [
              "window[\"86a708aa-06e5-11eb-b102-0242ac1c0002\"] = google.colab.output.setActiveOutputArea(window[\"86a61210-06e5-11eb-b102-0242ac1c0002\"]);\n",
              "//# sourceURL=js_97465d4b10"
            ],
            "text/plain": [
              "<IPython.core.display.Javascript object>"
            ]
          },
          "metadata": {
            "tags": [
              "id2-0-0",
              "outputarea_id2"
            ]
          }
        },
        {
          "output_type": "display_data",
          "data": {
            "application/javascript": [
              "window[\"86c29d5e-06e5-11eb-b102-0242ac1c0002\"] = google.colab.output.setActiveOutputArea(window[\"86a5681a-06e5-11eb-b102-0242ac1c0002\"]);\n",
              "//# sourceURL=js_9573ee1827"
            ],
            "text/plain": [
              "<IPython.core.display.Javascript object>"
            ]
          },
          "metadata": {
            "tags": [
              "id2-0-0",
              "outputarea_id2"
            ]
          }
        },
        {
          "output_type": "display_data",
          "data": {
            "application/javascript": [
              "window[\"8774c362-06e5-11eb-b102-0242ac1c0002\"] = google.colab.output.getActiveOutputArea();\n",
              "//# sourceURL=js_b964ba31e1"
            ],
            "text/plain": [
              "<IPython.core.display.Javascript object>"
            ]
          },
          "metadata": {
            "tags": [
              "id2-0-0",
              "outputarea_id2"
            ]
          }
        },
        {
          "output_type": "display_data",
          "data": {
            "application/javascript": [
              "window[\"87752e74-06e5-11eb-b102-0242ac1c0002\"] = document.querySelector(\"#id2-0-0\");\n",
              "//# sourceURL=js_7b9d07e76a"
            ],
            "text/plain": [
              "<IPython.core.display.Javascript object>"
            ]
          },
          "metadata": {
            "tags": [
              "id2-0-0",
              "outputarea_id2"
            ]
          }
        },
        {
          "output_type": "display_data",
          "data": {
            "application/javascript": [
              "window[\"87756c54-06e5-11eb-b102-0242ac1c0002\"] = google.colab.output.setActiveOutputArea(window[\"87752e74-06e5-11eb-b102-0242ac1c0002\"]);\n",
              "//# sourceURL=js_ebd6fb0fc8"
            ],
            "text/plain": [
              "<IPython.core.display.Javascript object>"
            ]
          },
          "metadata": {
            "tags": [
              "id2-0-0",
              "outputarea_id2"
            ]
          }
        },
        {
          "output_type": "display_data",
          "data": {
            "application/javascript": [
              "window[\"878fdf62-06e5-11eb-b102-0242ac1c0002\"] = google.colab.output.setActiveOutputArea(window[\"8774c362-06e5-11eb-b102-0242ac1c0002\"]);\n",
              "//# sourceURL=js_f5e015d41d"
            ],
            "text/plain": [
              "<IPython.core.display.Javascript object>"
            ]
          },
          "metadata": {
            "tags": [
              "id2-0-0",
              "outputarea_id2"
            ]
          }
        },
        {
          "output_type": "display_data",
          "data": {
            "application/javascript": [
              "window[\"883f83ea-06e5-11eb-b102-0242ac1c0002\"] = google.colab.output.getActiveOutputArea();\n",
              "//# sourceURL=js_848a6a3388"
            ],
            "text/plain": [
              "<IPython.core.display.Javascript object>"
            ]
          },
          "metadata": {
            "tags": [
              "id2-0-0",
              "outputarea_id2"
            ]
          }
        },
        {
          "output_type": "display_data",
          "data": {
            "application/javascript": [
              "window[\"883fd354-06e5-11eb-b102-0242ac1c0002\"] = document.querySelector(\"#id2-0-0\");\n",
              "//# sourceURL=js_339a75d7a0"
            ],
            "text/plain": [
              "<IPython.core.display.Javascript object>"
            ]
          },
          "metadata": {
            "tags": [
              "id2-0-0",
              "outputarea_id2"
            ]
          }
        },
        {
          "output_type": "display_data",
          "data": {
            "application/javascript": [
              "window[\"88400fae-06e5-11eb-b102-0242ac1c0002\"] = google.colab.output.setActiveOutputArea(window[\"883fd354-06e5-11eb-b102-0242ac1c0002\"]);\n",
              "//# sourceURL=js_aa2efde7c8"
            ],
            "text/plain": [
              "<IPython.core.display.Javascript object>"
            ]
          },
          "metadata": {
            "tags": [
              "id2-0-0",
              "outputarea_id2"
            ]
          }
        },
        {
          "output_type": "display_data",
          "data": {
            "application/javascript": [
              "window[\"885b1b5a-06e5-11eb-b102-0242ac1c0002\"] = google.colab.output.setActiveOutputArea(window[\"883f83ea-06e5-11eb-b102-0242ac1c0002\"]);\n",
              "//# sourceURL=js_cc50890984"
            ],
            "text/plain": [
              "<IPython.core.display.Javascript object>"
            ]
          },
          "metadata": {
            "tags": [
              "id2-0-0",
              "outputarea_id2"
            ]
          }
        },
        {
          "output_type": "display_data",
          "data": {
            "application/javascript": [
              "window[\"890a62fe-06e5-11eb-b102-0242ac1c0002\"] = google.colab.output.getActiveOutputArea();\n",
              "//# sourceURL=js_24457d3fe1"
            ],
            "text/plain": [
              "<IPython.core.display.Javascript object>"
            ]
          },
          "metadata": {
            "tags": [
              "id2-0-0",
              "outputarea_id2"
            ]
          }
        },
        {
          "output_type": "display_data",
          "data": {
            "application/javascript": [
              "window[\"890b015a-06e5-11eb-b102-0242ac1c0002\"] = document.querySelector(\"#id2-0-0\");\n",
              "//# sourceURL=js_c7aae56468"
            ],
            "text/plain": [
              "<IPython.core.display.Javascript object>"
            ]
          },
          "metadata": {
            "tags": [
              "id2-0-0",
              "outputarea_id2"
            ]
          }
        },
        {
          "output_type": "display_data",
          "data": {
            "application/javascript": [
              "window[\"890bbeec-06e5-11eb-b102-0242ac1c0002\"] = google.colab.output.setActiveOutputArea(window[\"890b015a-06e5-11eb-b102-0242ac1c0002\"]);\n",
              "//# sourceURL=js_410f559748"
            ],
            "text/plain": [
              "<IPython.core.display.Javascript object>"
            ]
          },
          "metadata": {
            "tags": [
              "id2-0-0",
              "outputarea_id2"
            ]
          }
        },
        {
          "output_type": "display_data",
          "data": {
            "application/javascript": [
              "window[\"8926e2e4-06e5-11eb-b102-0242ac1c0002\"] = google.colab.output.setActiveOutputArea(window[\"890a62fe-06e5-11eb-b102-0242ac1c0002\"]);\n",
              "//# sourceURL=js_3a8bce0f16"
            ],
            "text/plain": [
              "<IPython.core.display.Javascript object>"
            ]
          },
          "metadata": {
            "tags": [
              "id2-0-0",
              "outputarea_id2"
            ]
          }
        },
        {
          "output_type": "display_data",
          "data": {
            "application/javascript": [
              "window[\"89d6ebb2-06e5-11eb-b102-0242ac1c0002\"] = google.colab.output.getActiveOutputArea();\n",
              "//# sourceURL=js_edc09a201c"
            ],
            "text/plain": [
              "<IPython.core.display.Javascript object>"
            ]
          },
          "metadata": {
            "tags": [
              "id2-0-0",
              "outputarea_id2"
            ]
          }
        },
        {
          "output_type": "display_data",
          "data": {
            "application/javascript": [
              "window[\"89d72d7a-06e5-11eb-b102-0242ac1c0002\"] = document.querySelector(\"#id2-0-0\");\n",
              "//# sourceURL=js_111e710df4"
            ],
            "text/plain": [
              "<IPython.core.display.Javascript object>"
            ]
          },
          "metadata": {
            "tags": [
              "id2-0-0",
              "outputarea_id2"
            ]
          }
        },
        {
          "output_type": "display_data",
          "data": {
            "application/javascript": [
              "window[\"89d76a1a-06e5-11eb-b102-0242ac1c0002\"] = google.colab.output.setActiveOutputArea(window[\"89d72d7a-06e5-11eb-b102-0242ac1c0002\"]);\n",
              "//# sourceURL=js_efdf5984ba"
            ],
            "text/plain": [
              "<IPython.core.display.Javascript object>"
            ]
          },
          "metadata": {
            "tags": [
              "id2-0-0",
              "outputarea_id2"
            ]
          }
        },
        {
          "output_type": "display_data",
          "data": {
            "application/javascript": [
              "window[\"89f1923c-06e5-11eb-b102-0242ac1c0002\"] = google.colab.output.setActiveOutputArea(window[\"89d6ebb2-06e5-11eb-b102-0242ac1c0002\"]);\n",
              "//# sourceURL=js_eb6448b7de"
            ],
            "text/plain": [
              "<IPython.core.display.Javascript object>"
            ]
          },
          "metadata": {
            "tags": [
              "id2-0-0",
              "outputarea_id2"
            ]
          }
        },
        {
          "output_type": "display_data",
          "data": {
            "application/javascript": [
              "window[\"8aa0cee6-06e5-11eb-b102-0242ac1c0002\"] = google.colab.output.getActiveOutputArea();\n",
              "//# sourceURL=js_2264339415"
            ],
            "text/plain": [
              "<IPython.core.display.Javascript object>"
            ]
          },
          "metadata": {
            "tags": [
              "id2-0-0",
              "outputarea_id2"
            ]
          }
        },
        {
          "output_type": "display_data",
          "data": {
            "application/javascript": [
              "window[\"8aa163e2-06e5-11eb-b102-0242ac1c0002\"] = document.querySelector(\"#id2-0-0\");\n",
              "//# sourceURL=js_3eaf2786ee"
            ],
            "text/plain": [
              "<IPython.core.display.Javascript object>"
            ]
          },
          "metadata": {
            "tags": [
              "id2-0-0",
              "outputarea_id2"
            ]
          }
        },
        {
          "output_type": "display_data",
          "data": {
            "application/javascript": [
              "window[\"8aa1dc78-06e5-11eb-b102-0242ac1c0002\"] = google.colab.output.setActiveOutputArea(window[\"8aa163e2-06e5-11eb-b102-0242ac1c0002\"]);\n",
              "//# sourceURL=js_3fc127d2c8"
            ],
            "text/plain": [
              "<IPython.core.display.Javascript object>"
            ]
          },
          "metadata": {
            "tags": [
              "id2-0-0",
              "outputarea_id2"
            ]
          }
        },
        {
          "output_type": "display_data",
          "data": {
            "application/javascript": [
              "window[\"8abc06fc-06e5-11eb-b102-0242ac1c0002\"] = google.colab.output.setActiveOutputArea(window[\"8aa0cee6-06e5-11eb-b102-0242ac1c0002\"]);\n",
              "//# sourceURL=js_491868ea0a"
            ],
            "text/plain": [
              "<IPython.core.display.Javascript object>"
            ]
          },
          "metadata": {
            "tags": [
              "id2-0-0",
              "outputarea_id2"
            ]
          }
        },
        {
          "output_type": "display_data",
          "data": {
            "application/javascript": [
              "window[\"8b6f4848-06e5-11eb-b102-0242ac1c0002\"] = google.colab.output.getActiveOutputArea();\n",
              "//# sourceURL=js_47a0ae7a09"
            ],
            "text/plain": [
              "<IPython.core.display.Javascript object>"
            ]
          },
          "metadata": {
            "tags": [
              "id2-0-0",
              "outputarea_id2"
            ]
          }
        },
        {
          "output_type": "display_data",
          "data": {
            "application/javascript": [
              "window[\"8b6f910e-06e5-11eb-b102-0242ac1c0002\"] = document.querySelector(\"#id2-0-0\");\n",
              "//# sourceURL=js_c2f5a9ed06"
            ],
            "text/plain": [
              "<IPython.core.display.Javascript object>"
            ]
          },
          "metadata": {
            "tags": [
              "id2-0-0",
              "outputarea_id2"
            ]
          }
        },
        {
          "output_type": "display_data",
          "data": {
            "application/javascript": [
              "window[\"8b6fcbce-06e5-11eb-b102-0242ac1c0002\"] = google.colab.output.setActiveOutputArea(window[\"8b6f910e-06e5-11eb-b102-0242ac1c0002\"]);\n",
              "//# sourceURL=js_710a817a1c"
            ],
            "text/plain": [
              "<IPython.core.display.Javascript object>"
            ]
          },
          "metadata": {
            "tags": [
              "id2-0-0",
              "outputarea_id2"
            ]
          }
        },
        {
          "output_type": "display_data",
          "data": {
            "application/javascript": [
              "window[\"8b8d9bcc-06e5-11eb-b102-0242ac1c0002\"] = google.colab.output.setActiveOutputArea(window[\"8b6f4848-06e5-11eb-b102-0242ac1c0002\"]);\n",
              "//# sourceURL=js_e0cdc51376"
            ],
            "text/plain": [
              "<IPython.core.display.Javascript object>"
            ]
          },
          "metadata": {
            "tags": [
              "id2-0-0",
              "outputarea_id2"
            ]
          }
        },
        {
          "output_type": "display_data",
          "data": {
            "application/javascript": [
              "window[\"8c41e5f0-06e5-11eb-b102-0242ac1c0002\"] = google.colab.output.getActiveOutputArea();\n",
              "//# sourceURL=js_3441690af3"
            ],
            "text/plain": [
              "<IPython.core.display.Javascript object>"
            ]
          },
          "metadata": {
            "tags": [
              "id2-0-0",
              "outputarea_id2"
            ]
          }
        },
        {
          "output_type": "display_data",
          "data": {
            "application/javascript": [
              "window[\"8c427506-06e5-11eb-b102-0242ac1c0002\"] = document.querySelector(\"#id2-0-0\");\n",
              "//# sourceURL=js_6c6c8c20c4"
            ],
            "text/plain": [
              "<IPython.core.display.Javascript object>"
            ]
          },
          "metadata": {
            "tags": [
              "id2-0-0",
              "outputarea_id2"
            ]
          }
        },
        {
          "output_type": "display_data",
          "data": {
            "application/javascript": [
              "window[\"8c430700-06e5-11eb-b102-0242ac1c0002\"] = google.colab.output.setActiveOutputArea(window[\"8c427506-06e5-11eb-b102-0242ac1c0002\"]);\n",
              "//# sourceURL=js_e06006fb05"
            ],
            "text/plain": [
              "<IPython.core.display.Javascript object>"
            ]
          },
          "metadata": {
            "tags": [
              "id2-0-0",
              "outputarea_id2"
            ]
          }
        },
        {
          "output_type": "display_data",
          "data": {
            "application/javascript": [
              "window[\"8c5de106-06e5-11eb-b102-0242ac1c0002\"] = google.colab.output.setActiveOutputArea(window[\"8c41e5f0-06e5-11eb-b102-0242ac1c0002\"]);\n",
              "//# sourceURL=js_02bd828d94"
            ],
            "text/plain": [
              "<IPython.core.display.Javascript object>"
            ]
          },
          "metadata": {
            "tags": [
              "id2-0-0",
              "outputarea_id2"
            ]
          }
        },
        {
          "output_type": "display_data",
          "data": {
            "application/javascript": [
              "window[\"8d1f5d5e-06e5-11eb-b102-0242ac1c0002\"] = google.colab.output.getActiveOutputArea();\n",
              "//# sourceURL=js_d699bd160d"
            ],
            "text/plain": [
              "<IPython.core.display.Javascript object>"
            ]
          },
          "metadata": {
            "tags": [
              "id2-0-0",
              "outputarea_id2"
            ]
          }
        },
        {
          "output_type": "display_data",
          "data": {
            "application/javascript": [
              "window[\"8d211a40-06e5-11eb-b102-0242ac1c0002\"] = document.querySelector(\"#id2-0-0\");\n",
              "//# sourceURL=js_e84be295e5"
            ],
            "text/plain": [
              "<IPython.core.display.Javascript object>"
            ]
          },
          "metadata": {
            "tags": [
              "id2-0-0",
              "outputarea_id2"
            ]
          }
        },
        {
          "output_type": "display_data",
          "data": {
            "application/javascript": [
              "window[\"8d216bd0-06e5-11eb-b102-0242ac1c0002\"] = google.colab.output.setActiveOutputArea(window[\"8d211a40-06e5-11eb-b102-0242ac1c0002\"]);\n",
              "//# sourceURL=js_0173688ecb"
            ],
            "text/plain": [
              "<IPython.core.display.Javascript object>"
            ]
          },
          "metadata": {
            "tags": [
              "id2-0-0",
              "outputarea_id2"
            ]
          }
        },
        {
          "output_type": "display_data",
          "data": {
            "application/javascript": [
              "window[\"8d42526e-06e5-11eb-b102-0242ac1c0002\"] = google.colab.output.setActiveOutputArea(window[\"8d1f5d5e-06e5-11eb-b102-0242ac1c0002\"]);\n",
              "//# sourceURL=js_c015edc4ac"
            ],
            "text/plain": [
              "<IPython.core.display.Javascript object>"
            ]
          },
          "metadata": {
            "tags": [
              "id2-0-0",
              "outputarea_id2"
            ]
          }
        },
        {
          "output_type": "display_data",
          "data": {
            "application/javascript": [
              "window[\"8df26780-06e5-11eb-b102-0242ac1c0002\"] = google.colab.output.getActiveOutputArea();\n",
              "//# sourceURL=js_6f15761323"
            ],
            "text/plain": [
              "<IPython.core.display.Javascript object>"
            ]
          },
          "metadata": {
            "tags": [
              "id2-0-0",
              "outputarea_id2"
            ]
          }
        },
        {
          "output_type": "display_data",
          "data": {
            "application/javascript": [
              "window[\"8df2ce50-06e5-11eb-b102-0242ac1c0002\"] = document.querySelector(\"#id2-0-0\");\n",
              "//# sourceURL=js_8aa15e2de4"
            ],
            "text/plain": [
              "<IPython.core.display.Javascript object>"
            ]
          },
          "metadata": {
            "tags": [
              "id2-0-0",
              "outputarea_id2"
            ]
          }
        },
        {
          "output_type": "display_data",
          "data": {
            "application/javascript": [
              "window[\"8df3053c-06e5-11eb-b102-0242ac1c0002\"] = google.colab.output.setActiveOutputArea(window[\"8df2ce50-06e5-11eb-b102-0242ac1c0002\"]);\n",
              "//# sourceURL=js_711185f12c"
            ],
            "text/plain": [
              "<IPython.core.display.Javascript object>"
            ]
          },
          "metadata": {
            "tags": [
              "id2-0-0",
              "outputarea_id2"
            ]
          }
        },
        {
          "output_type": "display_data",
          "data": {
            "application/javascript": [
              "window[\"8e0f1164-06e5-11eb-b102-0242ac1c0002\"] = google.colab.output.setActiveOutputArea(window[\"8df26780-06e5-11eb-b102-0242ac1c0002\"]);\n",
              "//# sourceURL=js_9e0642649f"
            ],
            "text/plain": [
              "<IPython.core.display.Javascript object>"
            ]
          },
          "metadata": {
            "tags": [
              "id2-0-0",
              "outputarea_id2"
            ]
          }
        },
        {
          "output_type": "display_data",
          "data": {
            "application/javascript": [
              "window[\"8ec5b202-06e5-11eb-b102-0242ac1c0002\"] = google.colab.output.getActiveOutputArea();\n",
              "//# sourceURL=js_09c83f7d14"
            ],
            "text/plain": [
              "<IPython.core.display.Javascript object>"
            ]
          },
          "metadata": {
            "tags": [
              "id2-0-0",
              "outputarea_id2"
            ]
          }
        },
        {
          "output_type": "display_data",
          "data": {
            "application/javascript": [
              "window[\"8ec5f5f0-06e5-11eb-b102-0242ac1c0002\"] = document.querySelector(\"#id2-0-0\");\n",
              "//# sourceURL=js_33788ce657"
            ],
            "text/plain": [
              "<IPython.core.display.Javascript object>"
            ]
          },
          "metadata": {
            "tags": [
              "id2-0-0",
              "outputarea_id2"
            ]
          }
        },
        {
          "output_type": "display_data",
          "data": {
            "application/javascript": [
              "window[\"8ec6a8ce-06e5-11eb-b102-0242ac1c0002\"] = google.colab.output.setActiveOutputArea(window[\"8ec5f5f0-06e5-11eb-b102-0242ac1c0002\"]);\n",
              "//# sourceURL=js_ae73c62285"
            ],
            "text/plain": [
              "<IPython.core.display.Javascript object>"
            ]
          },
          "metadata": {
            "tags": [
              "id2-0-0",
              "outputarea_id2"
            ]
          }
        },
        {
          "output_type": "display_data",
          "data": {
            "application/javascript": [
              "window[\"8ee1189e-06e5-11eb-b102-0242ac1c0002\"] = google.colab.output.setActiveOutputArea(window[\"8ec5b202-06e5-11eb-b102-0242ac1c0002\"]);\n",
              "//# sourceURL=js_966d8e5392"
            ],
            "text/plain": [
              "<IPython.core.display.Javascript object>"
            ]
          },
          "metadata": {
            "tags": [
              "id2-0-0",
              "outputarea_id2"
            ]
          }
        },
        {
          "output_type": "display_data",
          "data": {
            "application/javascript": [
              "window[\"8f94ba34-06e5-11eb-b102-0242ac1c0002\"] = google.colab.output.getActiveOutputArea();\n",
              "//# sourceURL=js_209fa14d65"
            ],
            "text/plain": [
              "<IPython.core.display.Javascript object>"
            ]
          },
          "metadata": {
            "tags": [
              "id2-0-0",
              "outputarea_id2"
            ]
          }
        },
        {
          "output_type": "display_data",
          "data": {
            "application/javascript": [
              "window[\"8fa8bbc4-06e5-11eb-b102-0242ac1c0002\"] = document.querySelector(\"#id2-0-0\");\n",
              "//# sourceURL=js_b0b4a8d370"
            ],
            "text/plain": [
              "<IPython.core.display.Javascript object>"
            ]
          },
          "metadata": {
            "tags": [
              "id2-0-0",
              "outputarea_id2"
            ]
          }
        },
        {
          "output_type": "display_data",
          "data": {
            "application/javascript": [
              "window[\"8fa90714-06e5-11eb-b102-0242ac1c0002\"] = google.colab.output.setActiveOutputArea(window[\"8fa8bbc4-06e5-11eb-b102-0242ac1c0002\"]);\n",
              "//# sourceURL=js_89243a2974"
            ],
            "text/plain": [
              "<IPython.core.display.Javascript object>"
            ]
          },
          "metadata": {
            "tags": [
              "id2-0-0",
              "outputarea_id2"
            ]
          }
        },
        {
          "output_type": "display_data",
          "data": {
            "application/javascript": [
              "window[\"8fc45fe6-06e5-11eb-b102-0242ac1c0002\"] = google.colab.output.setActiveOutputArea(window[\"8f94ba34-06e5-11eb-b102-0242ac1c0002\"]);\n",
              "//# sourceURL=js_c5ac5a737b"
            ],
            "text/plain": [
              "<IPython.core.display.Javascript object>"
            ]
          },
          "metadata": {
            "tags": [
              "id2-0-0",
              "outputarea_id2"
            ]
          }
        },
        {
          "output_type": "display_data",
          "data": {
            "application/javascript": [
              "window[\"90746a76-06e5-11eb-b102-0242ac1c0002\"] = google.colab.output.getActiveOutputArea();\n",
              "//# sourceURL=js_ee086d9538"
            ],
            "text/plain": [
              "<IPython.core.display.Javascript object>"
            ]
          },
          "metadata": {
            "tags": [
              "id2-0-0",
              "outputarea_id2"
            ]
          }
        },
        {
          "output_type": "display_data",
          "data": {
            "application/javascript": [
              "window[\"9074ac20-06e5-11eb-b102-0242ac1c0002\"] = document.querySelector(\"#id2-0-0\");\n",
              "//# sourceURL=js_f0b76079c5"
            ],
            "text/plain": [
              "<IPython.core.display.Javascript object>"
            ]
          },
          "metadata": {
            "tags": [
              "id2-0-0",
              "outputarea_id2"
            ]
          }
        },
        {
          "output_type": "display_data",
          "data": {
            "application/javascript": [
              "window[\"90750da0-06e5-11eb-b102-0242ac1c0002\"] = google.colab.output.setActiveOutputArea(window[\"9074ac20-06e5-11eb-b102-0242ac1c0002\"]);\n",
              "//# sourceURL=js_d5a2cc9630"
            ],
            "text/plain": [
              "<IPython.core.display.Javascript object>"
            ]
          },
          "metadata": {
            "tags": [
              "id2-0-0",
              "outputarea_id2"
            ]
          }
        },
        {
          "output_type": "display_data",
          "data": {
            "application/javascript": [
              "window[\"908fe01c-06e5-11eb-b102-0242ac1c0002\"] = google.colab.output.setActiveOutputArea(window[\"90746a76-06e5-11eb-b102-0242ac1c0002\"]);\n",
              "//# sourceURL=js_0fc4b44e10"
            ],
            "text/plain": [
              "<IPython.core.display.Javascript object>"
            ]
          },
          "metadata": {
            "tags": [
              "id2-0-0",
              "outputarea_id2"
            ]
          }
        },
        {
          "output_type": "display_data",
          "data": {
            "application/javascript": [
              "window[\"9146b454-06e5-11eb-b102-0242ac1c0002\"] = google.colab.output.getActiveOutputArea();\n",
              "//# sourceURL=js_12e0b8a72a"
            ],
            "text/plain": [
              "<IPython.core.display.Javascript object>"
            ]
          },
          "metadata": {
            "tags": [
              "id2-0-0",
              "outputarea_id2"
            ]
          }
        },
        {
          "output_type": "display_data",
          "data": {
            "application/javascript": [
              "window[\"91475576-06e5-11eb-b102-0242ac1c0002\"] = document.querySelector(\"#id2-0-0\");\n",
              "//# sourceURL=js_f4a2b6e030"
            ],
            "text/plain": [
              "<IPython.core.display.Javascript object>"
            ]
          },
          "metadata": {
            "tags": [
              "id2-0-0",
              "outputarea_id2"
            ]
          }
        },
        {
          "output_type": "display_data",
          "data": {
            "application/javascript": [
              "window[\"9147a97c-06e5-11eb-b102-0242ac1c0002\"] = google.colab.output.setActiveOutputArea(window[\"91475576-06e5-11eb-b102-0242ac1c0002\"]);\n",
              "//# sourceURL=js_66f0c3c3ef"
            ],
            "text/plain": [
              "<IPython.core.display.Javascript object>"
            ]
          },
          "metadata": {
            "tags": [
              "id2-0-0",
              "outputarea_id2"
            ]
          }
        },
        {
          "output_type": "display_data",
          "data": {
            "application/javascript": [
              "window[\"9163dba6-06e5-11eb-b102-0242ac1c0002\"] = google.colab.output.setActiveOutputArea(window[\"9146b454-06e5-11eb-b102-0242ac1c0002\"]);\n",
              "//# sourceURL=js_8d5f060169"
            ],
            "text/plain": [
              "<IPython.core.display.Javascript object>"
            ]
          },
          "metadata": {
            "tags": [
              "id2-0-0",
              "outputarea_id2"
            ]
          }
        },
        {
          "output_type": "display_data",
          "data": {
            "application/javascript": [
              "window[\"921dc962-06e5-11eb-b102-0242ac1c0002\"] = google.colab.output.getActiveOutputArea();\n",
              "//# sourceURL=js_e50582c2ac"
            ],
            "text/plain": [
              "<IPython.core.display.Javascript object>"
            ]
          },
          "metadata": {
            "tags": [
              "id2-0-0",
              "outputarea_id2"
            ]
          }
        },
        {
          "output_type": "display_data",
          "data": {
            "application/javascript": [
              "window[\"921e529c-06e5-11eb-b102-0242ac1c0002\"] = document.querySelector(\"#id2-0-0\");\n",
              "//# sourceURL=js_adde691b38"
            ],
            "text/plain": [
              "<IPython.core.display.Javascript object>"
            ]
          },
          "metadata": {
            "tags": [
              "id2-0-0",
              "outputarea_id2"
            ]
          }
        },
        {
          "output_type": "display_data",
          "data": {
            "application/javascript": [
              "window[\"921eba84-06e5-11eb-b102-0242ac1c0002\"] = google.colab.output.setActiveOutputArea(window[\"921e529c-06e5-11eb-b102-0242ac1c0002\"]);\n",
              "//# sourceURL=js_5ca2e8948a"
            ],
            "text/plain": [
              "<IPython.core.display.Javascript object>"
            ]
          },
          "metadata": {
            "tags": [
              "id2-0-0",
              "outputarea_id2"
            ]
          }
        },
        {
          "output_type": "display_data",
          "data": {
            "application/javascript": [
              "window[\"92390fe2-06e5-11eb-b102-0242ac1c0002\"] = google.colab.output.setActiveOutputArea(window[\"921dc962-06e5-11eb-b102-0242ac1c0002\"]);\n",
              "//# sourceURL=js_e11aebb6d0"
            ],
            "text/plain": [
              "<IPython.core.display.Javascript object>"
            ]
          },
          "metadata": {
            "tags": [
              "id2-0-0",
              "outputarea_id2"
            ]
          }
        },
        {
          "output_type": "display_data",
          "data": {
            "application/javascript": [
              "window[\"92f4e3e8-06e5-11eb-b102-0242ac1c0002\"] = google.colab.output.getActiveOutputArea();\n",
              "//# sourceURL=js_25abf1ca68"
            ],
            "text/plain": [
              "<IPython.core.display.Javascript object>"
            ]
          },
          "metadata": {
            "tags": [
              "id2-0-0",
              "outputarea_id2"
            ]
          }
        },
        {
          "output_type": "display_data",
          "data": {
            "application/javascript": [
              "window[\"92f561c4-06e5-11eb-b102-0242ac1c0002\"] = document.querySelector(\"#id2-0-0\");\n",
              "//# sourceURL=js_bad05334f0"
            ],
            "text/plain": [
              "<IPython.core.display.Javascript object>"
            ]
          },
          "metadata": {
            "tags": [
              "id2-0-0",
              "outputarea_id2"
            ]
          }
        },
        {
          "output_type": "display_data",
          "data": {
            "application/javascript": [
              "window[\"92f5a3be-06e5-11eb-b102-0242ac1c0002\"] = google.colab.output.setActiveOutputArea(window[\"92f561c4-06e5-11eb-b102-0242ac1c0002\"]);\n",
              "//# sourceURL=js_49d9b77ec6"
            ],
            "text/plain": [
              "<IPython.core.display.Javascript object>"
            ]
          },
          "metadata": {
            "tags": [
              "id2-0-0",
              "outputarea_id2"
            ]
          }
        },
        {
          "output_type": "display_data",
          "data": {
            "application/javascript": [
              "window[\"9310e3ea-06e5-11eb-b102-0242ac1c0002\"] = google.colab.output.setActiveOutputArea(window[\"92f4e3e8-06e5-11eb-b102-0242ac1c0002\"]);\n",
              "//# sourceURL=js_4a01a513df"
            ],
            "text/plain": [
              "<IPython.core.display.Javascript object>"
            ]
          },
          "metadata": {
            "tags": [
              "id2-0-0",
              "outputarea_id2"
            ]
          }
        },
        {
          "output_type": "display_data",
          "data": {
            "application/javascript": [
              "window[\"93c8db26-06e5-11eb-b102-0242ac1c0002\"] = google.colab.output.getActiveOutputArea();\n",
              "//# sourceURL=js_9f1ea456d8"
            ],
            "text/plain": [
              "<IPython.core.display.Javascript object>"
            ]
          },
          "metadata": {
            "tags": [
              "id2-0-0",
              "outputarea_id2"
            ]
          }
        },
        {
          "output_type": "display_data",
          "data": {
            "application/javascript": [
              "window[\"93ca17a2-06e5-11eb-b102-0242ac1c0002\"] = document.querySelector(\"#id2-0-0\");\n",
              "//# sourceURL=js_9a8d92a266"
            ],
            "text/plain": [
              "<IPython.core.display.Javascript object>"
            ]
          },
          "metadata": {
            "tags": [
              "id2-0-0",
              "outputarea_id2"
            ]
          }
        },
        {
          "output_type": "display_data",
          "data": {
            "application/javascript": [
              "window[\"93cadf7a-06e5-11eb-b102-0242ac1c0002\"] = google.colab.output.setActiveOutputArea(window[\"93ca17a2-06e5-11eb-b102-0242ac1c0002\"]);\n",
              "//# sourceURL=js_832d447358"
            ],
            "text/plain": [
              "<IPython.core.display.Javascript object>"
            ]
          },
          "metadata": {
            "tags": [
              "id2-0-0",
              "outputarea_id2"
            ]
          }
        },
        {
          "output_type": "display_data",
          "data": {
            "application/javascript": [
              "window[\"93e8668a-06e5-11eb-b102-0242ac1c0002\"] = google.colab.output.setActiveOutputArea(window[\"93c8db26-06e5-11eb-b102-0242ac1c0002\"]);\n",
              "//# sourceURL=js_31123fff60"
            ],
            "text/plain": [
              "<IPython.core.display.Javascript object>"
            ]
          },
          "metadata": {
            "tags": [
              "id2-0-0",
              "outputarea_id2"
            ]
          }
        },
        {
          "output_type": "display_data",
          "data": {
            "application/javascript": [
              "window[\"949c6716-06e5-11eb-b102-0242ac1c0002\"] = google.colab.output.getActiveOutputArea();\n",
              "//# sourceURL=js_b0e3ad56ad"
            ],
            "text/plain": [
              "<IPython.core.display.Javascript object>"
            ]
          },
          "metadata": {
            "tags": [
              "id2-0-0",
              "outputarea_id2"
            ]
          }
        },
        {
          "output_type": "display_data",
          "data": {
            "application/javascript": [
              "window[\"949d6594-06e5-11eb-b102-0242ac1c0002\"] = document.querySelector(\"#id2-0-0\");\n",
              "//# sourceURL=js_a31273a1e4"
            ],
            "text/plain": [
              "<IPython.core.display.Javascript object>"
            ]
          },
          "metadata": {
            "tags": [
              "id2-0-0",
              "outputarea_id2"
            ]
          }
        },
        {
          "output_type": "display_data",
          "data": {
            "application/javascript": [
              "window[\"949da20c-06e5-11eb-b102-0242ac1c0002\"] = google.colab.output.setActiveOutputArea(window[\"949d6594-06e5-11eb-b102-0242ac1c0002\"]);\n",
              "//# sourceURL=js_51224099db"
            ],
            "text/plain": [
              "<IPython.core.display.Javascript object>"
            ]
          },
          "metadata": {
            "tags": [
              "id2-0-0",
              "outputarea_id2"
            ]
          }
        },
        {
          "output_type": "display_data",
          "data": {
            "application/javascript": [
              "window[\"94bcfb8e-06e5-11eb-b102-0242ac1c0002\"] = google.colab.output.setActiveOutputArea(window[\"949c6716-06e5-11eb-b102-0242ac1c0002\"]);\n",
              "//# sourceURL=js_0ba7aa632e"
            ],
            "text/plain": [
              "<IPython.core.display.Javascript object>"
            ]
          },
          "metadata": {
            "tags": [
              "id2-0-0",
              "outputarea_id2"
            ]
          }
        },
        {
          "output_type": "display_data",
          "data": {
            "application/javascript": [
              "window[\"9572b014-06e5-11eb-b102-0242ac1c0002\"] = google.colab.output.getActiveOutputArea();\n",
              "//# sourceURL=js_3cc30ece74"
            ],
            "text/plain": [
              "<IPython.core.display.Javascript object>"
            ]
          },
          "metadata": {
            "tags": [
              "id2-0-0",
              "outputarea_id2"
            ]
          }
        },
        {
          "output_type": "display_data",
          "data": {
            "application/javascript": [
              "window[\"9573d836-06e5-11eb-b102-0242ac1c0002\"] = document.querySelector(\"#id2-0-0\");\n",
              "//# sourceURL=js_9bd33d3565"
            ],
            "text/plain": [
              "<IPython.core.display.Javascript object>"
            ]
          },
          "metadata": {
            "tags": [
              "id2-0-0",
              "outputarea_id2"
            ]
          }
        },
        {
          "output_type": "display_data",
          "data": {
            "application/javascript": [
              "window[\"9574ce3a-06e5-11eb-b102-0242ac1c0002\"] = google.colab.output.setActiveOutputArea(window[\"9573d836-06e5-11eb-b102-0242ac1c0002\"]);\n",
              "//# sourceURL=js_6e64184440"
            ],
            "text/plain": [
              "<IPython.core.display.Javascript object>"
            ]
          },
          "metadata": {
            "tags": [
              "id2-0-0",
              "outputarea_id2"
            ]
          }
        },
        {
          "output_type": "display_data",
          "data": {
            "application/javascript": [
              "window[\"9593d5dc-06e5-11eb-b102-0242ac1c0002\"] = google.colab.output.setActiveOutputArea(window[\"9572b014-06e5-11eb-b102-0242ac1c0002\"]);\n",
              "//# sourceURL=js_c36df3ec1c"
            ],
            "text/plain": [
              "<IPython.core.display.Javascript object>"
            ]
          },
          "metadata": {
            "tags": [
              "id2-0-0",
              "outputarea_id2"
            ]
          }
        },
        {
          "output_type": "display_data",
          "data": {
            "application/javascript": [
              "window[\"964473d8-06e5-11eb-b102-0242ac1c0002\"] = google.colab.output.getActiveOutputArea();\n",
              "//# sourceURL=js_249ae3a489"
            ],
            "text/plain": [
              "<IPython.core.display.Javascript object>"
            ]
          },
          "metadata": {
            "tags": [
              "id2-0-0",
              "outputarea_id2"
            ]
          }
        },
        {
          "output_type": "display_data",
          "data": {
            "application/javascript": [
              "window[\"9644edd6-06e5-11eb-b102-0242ac1c0002\"] = document.querySelector(\"#id2-0-0\");\n",
              "//# sourceURL=js_b2c9b602f7"
            ],
            "text/plain": [
              "<IPython.core.display.Javascript object>"
            ]
          },
          "metadata": {
            "tags": [
              "id2-0-0",
              "outputarea_id2"
            ]
          }
        },
        {
          "output_type": "display_data",
          "data": {
            "application/javascript": [
              "window[\"964586e2-06e5-11eb-b102-0242ac1c0002\"] = google.colab.output.setActiveOutputArea(window[\"9644edd6-06e5-11eb-b102-0242ac1c0002\"]);\n",
              "//# sourceURL=js_5ad23fbd49"
            ],
            "text/plain": [
              "<IPython.core.display.Javascript object>"
            ]
          },
          "metadata": {
            "tags": [
              "id2-0-0",
              "outputarea_id2"
            ]
          }
        },
        {
          "output_type": "display_data",
          "data": {
            "application/javascript": [
              "window[\"965fcd72-06e5-11eb-b102-0242ac1c0002\"] = google.colab.output.setActiveOutputArea(window[\"964473d8-06e5-11eb-b102-0242ac1c0002\"]);\n",
              "//# sourceURL=js_c7b6ab179b"
            ],
            "text/plain": [
              "<IPython.core.display.Javascript object>"
            ]
          },
          "metadata": {
            "tags": [
              "id2-0-0",
              "outputarea_id2"
            ]
          }
        },
        {
          "output_type": "display_data",
          "data": {
            "application/javascript": [
              "window[\"97119d5e-06e5-11eb-b102-0242ac1c0002\"] = google.colab.output.getActiveOutputArea();\n",
              "//# sourceURL=js_5a1f62dba7"
            ],
            "text/plain": [
              "<IPython.core.display.Javascript object>"
            ]
          },
          "metadata": {
            "tags": [
              "id2-0-0",
              "outputarea_id2"
            ]
          }
        },
        {
          "output_type": "display_data",
          "data": {
            "application/javascript": [
              "window[\"9712489e-06e5-11eb-b102-0242ac1c0002\"] = document.querySelector(\"#id2-0-0\");\n",
              "//# sourceURL=js_ab3206ce40"
            ],
            "text/plain": [
              "<IPython.core.display.Javascript object>"
            ]
          },
          "metadata": {
            "tags": [
              "id2-0-0",
              "outputarea_id2"
            ]
          }
        },
        {
          "output_type": "display_data",
          "data": {
            "application/javascript": [
              "window[\"97130590-06e5-11eb-b102-0242ac1c0002\"] = google.colab.output.setActiveOutputArea(window[\"9712489e-06e5-11eb-b102-0242ac1c0002\"]);\n",
              "//# sourceURL=js_7e497cd2bd"
            ],
            "text/plain": [
              "<IPython.core.display.Javascript object>"
            ]
          },
          "metadata": {
            "tags": [
              "id2-0-0",
              "outputarea_id2"
            ]
          }
        },
        {
          "output_type": "display_data",
          "data": {
            "application/javascript": [
              "window[\"972e3f5e-06e5-11eb-b102-0242ac1c0002\"] = google.colab.output.setActiveOutputArea(window[\"97119d5e-06e5-11eb-b102-0242ac1c0002\"]);\n",
              "//# sourceURL=js_65d428960e"
            ],
            "text/plain": [
              "<IPython.core.display.Javascript object>"
            ]
          },
          "metadata": {
            "tags": [
              "id2-0-0",
              "outputarea_id2"
            ]
          }
        },
        {
          "output_type": "display_data",
          "data": {
            "application/javascript": [
              "window[\"97ddc0e6-06e5-11eb-b102-0242ac1c0002\"] = google.colab.output.getActiveOutputArea();\n",
              "//# sourceURL=js_d86a8cad15"
            ],
            "text/plain": [
              "<IPython.core.display.Javascript object>"
            ]
          },
          "metadata": {
            "tags": [
              "id2-0-0",
              "outputarea_id2"
            ]
          }
        },
        {
          "output_type": "display_data",
          "data": {
            "application/javascript": [
              "window[\"97de0952-06e5-11eb-b102-0242ac1c0002\"] = document.querySelector(\"#id2-0-0\");\n",
              "//# sourceURL=js_cebc80bd10"
            ],
            "text/plain": [
              "<IPython.core.display.Javascript object>"
            ]
          },
          "metadata": {
            "tags": [
              "id2-0-0",
              "outputarea_id2"
            ]
          }
        },
        {
          "output_type": "display_data",
          "data": {
            "application/javascript": [
              "window[\"97de4fe8-06e5-11eb-b102-0242ac1c0002\"] = google.colab.output.setActiveOutputArea(window[\"97de0952-06e5-11eb-b102-0242ac1c0002\"]);\n",
              "//# sourceURL=js_909d897ca8"
            ],
            "text/plain": [
              "<IPython.core.display.Javascript object>"
            ]
          },
          "metadata": {
            "tags": [
              "id2-0-0",
              "outputarea_id2"
            ]
          }
        },
        {
          "output_type": "display_data",
          "data": {
            "application/javascript": [
              "window[\"97f8bd2e-06e5-11eb-b102-0242ac1c0002\"] = google.colab.output.setActiveOutputArea(window[\"97ddc0e6-06e5-11eb-b102-0242ac1c0002\"]);\n",
              "//# sourceURL=js_495a5c1cc6"
            ],
            "text/plain": [
              "<IPython.core.display.Javascript object>"
            ]
          },
          "metadata": {
            "tags": [
              "id2-0-0",
              "outputarea_id2"
            ]
          }
        },
        {
          "output_type": "display_data",
          "data": {
            "application/javascript": [
              "window[\"98aa1740-06e5-11eb-b102-0242ac1c0002\"] = google.colab.output.getActiveOutputArea();\n",
              "//# sourceURL=js_d17adaa30b"
            ],
            "text/plain": [
              "<IPython.core.display.Javascript object>"
            ]
          },
          "metadata": {
            "tags": [
              "id2-0-0",
              "outputarea_id2"
            ]
          }
        },
        {
          "output_type": "display_data",
          "data": {
            "application/javascript": [
              "window[\"98aac78a-06e5-11eb-b102-0242ac1c0002\"] = document.querySelector(\"#id2-0-0\");\n",
              "//# sourceURL=js_cd91c907c6"
            ],
            "text/plain": [
              "<IPython.core.display.Javascript object>"
            ]
          },
          "metadata": {
            "tags": [
              "id2-0-0",
              "outputarea_id2"
            ]
          }
        },
        {
          "output_type": "display_data",
          "data": {
            "application/javascript": [
              "window[\"98ab803a-06e5-11eb-b102-0242ac1c0002\"] = google.colab.output.setActiveOutputArea(window[\"98aac78a-06e5-11eb-b102-0242ac1c0002\"]);\n",
              "//# sourceURL=js_852b6f483e"
            ],
            "text/plain": [
              "<IPython.core.display.Javascript object>"
            ]
          },
          "metadata": {
            "tags": [
              "id2-0-0",
              "outputarea_id2"
            ]
          }
        },
        {
          "output_type": "display_data",
          "data": {
            "application/javascript": [
              "window[\"98c58ec6-06e5-11eb-b102-0242ac1c0002\"] = google.colab.output.setActiveOutputArea(window[\"98aa1740-06e5-11eb-b102-0242ac1c0002\"]);\n",
              "//# sourceURL=js_48f73c68a3"
            ],
            "text/plain": [
              "<IPython.core.display.Javascript object>"
            ]
          },
          "metadata": {
            "tags": [
              "id2-0-0",
              "outputarea_id2"
            ]
          }
        },
        {
          "output_type": "display_data",
          "data": {
            "application/javascript": [
              "window[\"997b3e6a-06e5-11eb-b102-0242ac1c0002\"] = google.colab.output.getActiveOutputArea();\n",
              "//# sourceURL=js_41c6be96ac"
            ],
            "text/plain": [
              "<IPython.core.display.Javascript object>"
            ]
          },
          "metadata": {
            "tags": [
              "id2-0-0",
              "outputarea_id2"
            ]
          }
        },
        {
          "output_type": "display_data",
          "data": {
            "application/javascript": [
              "window[\"997bd5e6-06e5-11eb-b102-0242ac1c0002\"] = document.querySelector(\"#id2-0-0\");\n",
              "//# sourceURL=js_9c8f83789c"
            ],
            "text/plain": [
              "<IPython.core.display.Javascript object>"
            ]
          },
          "metadata": {
            "tags": [
              "id2-0-0",
              "outputarea_id2"
            ]
          }
        },
        {
          "output_type": "display_data",
          "data": {
            "application/javascript": [
              "window[\"997ca188-06e5-11eb-b102-0242ac1c0002\"] = google.colab.output.setActiveOutputArea(window[\"997bd5e6-06e5-11eb-b102-0242ac1c0002\"]);\n",
              "//# sourceURL=js_15c96df050"
            ],
            "text/plain": [
              "<IPython.core.display.Javascript object>"
            ]
          },
          "metadata": {
            "tags": [
              "id2-0-0",
              "outputarea_id2"
            ]
          }
        },
        {
          "output_type": "display_data",
          "data": {
            "application/javascript": [
              "window[\"999ab696-06e5-11eb-b102-0242ac1c0002\"] = google.colab.output.setActiveOutputArea(window[\"997b3e6a-06e5-11eb-b102-0242ac1c0002\"]);\n",
              "//# sourceURL=js_c8f92265d7"
            ],
            "text/plain": [
              "<IPython.core.display.Javascript object>"
            ]
          },
          "metadata": {
            "tags": [
              "id2-0-0",
              "outputarea_id2"
            ]
          }
        },
        {
          "output_type": "display_data",
          "data": {
            "application/javascript": [
              "window[\"9a4c523e-06e5-11eb-b102-0242ac1c0002\"] = google.colab.output.getActiveOutputArea();\n",
              "//# sourceURL=js_05a3f47cf2"
            ],
            "text/plain": [
              "<IPython.core.display.Javascript object>"
            ]
          },
          "metadata": {
            "tags": [
              "id2-0-0",
              "outputarea_id2"
            ]
          }
        },
        {
          "output_type": "display_data",
          "data": {
            "application/javascript": [
              "window[\"9a4cac84-06e5-11eb-b102-0242ac1c0002\"] = document.querySelector(\"#id2-0-0\");\n",
              "//# sourceURL=js_3210f9d6c4"
            ],
            "text/plain": [
              "<IPython.core.display.Javascript object>"
            ]
          },
          "metadata": {
            "tags": [
              "id2-0-0",
              "outputarea_id2"
            ]
          }
        },
        {
          "output_type": "display_data",
          "data": {
            "application/javascript": [
              "window[\"9a4cfe3c-06e5-11eb-b102-0242ac1c0002\"] = google.colab.output.setActiveOutputArea(window[\"9a4cac84-06e5-11eb-b102-0242ac1c0002\"]);\n",
              "//# sourceURL=js_ba6b5a86fa"
            ],
            "text/plain": [
              "<IPython.core.display.Javascript object>"
            ]
          },
          "metadata": {
            "tags": [
              "id2-0-0",
              "outputarea_id2"
            ]
          }
        },
        {
          "output_type": "display_data",
          "data": {
            "application/javascript": [
              "window[\"9a6affc2-06e5-11eb-b102-0242ac1c0002\"] = google.colab.output.setActiveOutputArea(window[\"9a4c523e-06e5-11eb-b102-0242ac1c0002\"]);\n",
              "//# sourceURL=js_8b55c698d2"
            ],
            "text/plain": [
              "<IPython.core.display.Javascript object>"
            ]
          },
          "metadata": {
            "tags": [
              "id2-0-0",
              "outputarea_id2"
            ]
          }
        },
        {
          "output_type": "display_data",
          "data": {
            "application/javascript": [
              "window[\"9b1e21ec-06e5-11eb-b102-0242ac1c0002\"] = google.colab.output.getActiveOutputArea();\n",
              "//# sourceURL=js_0ab6e65e4f"
            ],
            "text/plain": [
              "<IPython.core.display.Javascript object>"
            ]
          },
          "metadata": {
            "tags": [
              "id2-0-0",
              "outputarea_id2"
            ]
          }
        },
        {
          "output_type": "display_data",
          "data": {
            "application/javascript": [
              "window[\"9b1eff22-06e5-11eb-b102-0242ac1c0002\"] = document.querySelector(\"#id2-0-0\");\n",
              "//# sourceURL=js_aebb16b64b"
            ],
            "text/plain": [
              "<IPython.core.display.Javascript object>"
            ]
          },
          "metadata": {
            "tags": [
              "id2-0-0",
              "outputarea_id2"
            ]
          }
        },
        {
          "output_type": "display_data",
          "data": {
            "application/javascript": [
              "window[\"9b1f3988-06e5-11eb-b102-0242ac1c0002\"] = google.colab.output.setActiveOutputArea(window[\"9b1eff22-06e5-11eb-b102-0242ac1c0002\"]);\n",
              "//# sourceURL=js_6bc4266971"
            ],
            "text/plain": [
              "<IPython.core.display.Javascript object>"
            ]
          },
          "metadata": {
            "tags": [
              "id2-0-0",
              "outputarea_id2"
            ]
          }
        },
        {
          "output_type": "display_data",
          "data": {
            "application/javascript": [
              "window[\"9b3a7a54-06e5-11eb-b102-0242ac1c0002\"] = google.colab.output.setActiveOutputArea(window[\"9b1e21ec-06e5-11eb-b102-0242ac1c0002\"]);\n",
              "//# sourceURL=js_75705a294e"
            ],
            "text/plain": [
              "<IPython.core.display.Javascript object>"
            ]
          },
          "metadata": {
            "tags": [
              "id2-0-0",
              "outputarea_id2"
            ]
          }
        },
        {
          "output_type": "display_data",
          "data": {
            "application/javascript": [
              "window[\"9bec2fd8-06e5-11eb-b102-0242ac1c0002\"] = google.colab.output.getActiveOutputArea();\n",
              "//# sourceURL=js_6552f2b2c9"
            ],
            "text/plain": [
              "<IPython.core.display.Javascript object>"
            ]
          },
          "metadata": {
            "tags": [
              "id2-0-0",
              "outputarea_id2"
            ]
          }
        },
        {
          "output_type": "display_data",
          "data": {
            "application/javascript": [
              "window[\"9bfeff64-06e5-11eb-b102-0242ac1c0002\"] = document.querySelector(\"#id2-0-0\");\n",
              "//# sourceURL=js_2bc08daca1"
            ],
            "text/plain": [
              "<IPython.core.display.Javascript object>"
            ]
          },
          "metadata": {
            "tags": [
              "id2-0-0",
              "outputarea_id2"
            ]
          }
        },
        {
          "output_type": "display_data",
          "data": {
            "application/javascript": [
              "window[\"9bff8f88-06e5-11eb-b102-0242ac1c0002\"] = google.colab.output.setActiveOutputArea(window[\"9bfeff64-06e5-11eb-b102-0242ac1c0002\"]);\n",
              "//# sourceURL=js_1c5cd58245"
            ],
            "text/plain": [
              "<IPython.core.display.Javascript object>"
            ]
          },
          "metadata": {
            "tags": [
              "id2-0-0",
              "outputarea_id2"
            ]
          }
        },
        {
          "output_type": "display_data",
          "data": {
            "application/javascript": [
              "window[\"9c1c1964-06e5-11eb-b102-0242ac1c0002\"] = google.colab.output.setActiveOutputArea(window[\"9bec2fd8-06e5-11eb-b102-0242ac1c0002\"]);\n",
              "//# sourceURL=js_6a18afb60f"
            ],
            "text/plain": [
              "<IPython.core.display.Javascript object>"
            ]
          },
          "metadata": {
            "tags": [
              "id2-0-0",
              "outputarea_id2"
            ]
          }
        },
        {
          "output_type": "display_data",
          "data": {
            "application/javascript": [
              "window[\"9cd359b2-06e5-11eb-b102-0242ac1c0002\"] = google.colab.output.getActiveOutputArea();\n",
              "//# sourceURL=js_c672962fb6"
            ],
            "text/plain": [
              "<IPython.core.display.Javascript object>"
            ]
          },
          "metadata": {
            "tags": [
              "id2-0-0",
              "outputarea_id2"
            ]
          }
        },
        {
          "output_type": "display_data",
          "data": {
            "application/javascript": [
              "window[\"9cd3e922-06e5-11eb-b102-0242ac1c0002\"] = document.querySelector(\"#id2-0-0\");\n",
              "//# sourceURL=js_efc207db8e"
            ],
            "text/plain": [
              "<IPython.core.display.Javascript object>"
            ]
          },
          "metadata": {
            "tags": [
              "id2-0-0",
              "outputarea_id2"
            ]
          }
        },
        {
          "output_type": "display_data",
          "data": {
            "application/javascript": [
              "window[\"9cd457cc-06e5-11eb-b102-0242ac1c0002\"] = google.colab.output.setActiveOutputArea(window[\"9cd3e922-06e5-11eb-b102-0242ac1c0002\"]);\n",
              "//# sourceURL=js_d344da09cb"
            ],
            "text/plain": [
              "<IPython.core.display.Javascript object>"
            ]
          },
          "metadata": {
            "tags": [
              "id2-0-0",
              "outputarea_id2"
            ]
          }
        },
        {
          "output_type": "display_data",
          "data": {
            "application/javascript": [
              "window[\"9cef6dbe-06e5-11eb-b102-0242ac1c0002\"] = google.colab.output.setActiveOutputArea(window[\"9cd359b2-06e5-11eb-b102-0242ac1c0002\"]);\n",
              "//# sourceURL=js_c16a0245ea"
            ],
            "text/plain": [
              "<IPython.core.display.Javascript object>"
            ]
          },
          "metadata": {
            "tags": [
              "id2-0-0",
              "outputarea_id2"
            ]
          }
        },
        {
          "output_type": "display_data",
          "data": {
            "application/javascript": [
              "window[\"9da4bb2e-06e5-11eb-b102-0242ac1c0002\"] = google.colab.output.getActiveOutputArea();\n",
              "//# sourceURL=js_065befd996"
            ],
            "text/plain": [
              "<IPython.core.display.Javascript object>"
            ]
          },
          "metadata": {
            "tags": [
              "id2-0-0",
              "outputarea_id2"
            ]
          }
        },
        {
          "output_type": "display_data",
          "data": {
            "application/javascript": [
              "window[\"9da50502-06e5-11eb-b102-0242ac1c0002\"] = document.querySelector(\"#id2-0-0\");\n",
              "//# sourceURL=js_59ad1de4ae"
            ],
            "text/plain": [
              "<IPython.core.display.Javascript object>"
            ]
          },
          "metadata": {
            "tags": [
              "id2-0-0",
              "outputarea_id2"
            ]
          }
        },
        {
          "output_type": "display_data",
          "data": {
            "application/javascript": [
              "window[\"9da54328-06e5-11eb-b102-0242ac1c0002\"] = google.colab.output.setActiveOutputArea(window[\"9da50502-06e5-11eb-b102-0242ac1c0002\"]);\n",
              "//# sourceURL=js_434f45dc0d"
            ],
            "text/plain": [
              "<IPython.core.display.Javascript object>"
            ]
          },
          "metadata": {
            "tags": [
              "id2-0-0",
              "outputarea_id2"
            ]
          }
        },
        {
          "output_type": "display_data",
          "data": {
            "application/javascript": [
              "window[\"9dc1d9a2-06e5-11eb-b102-0242ac1c0002\"] = google.colab.output.setActiveOutputArea(window[\"9da4bb2e-06e5-11eb-b102-0242ac1c0002\"]);\n",
              "//# sourceURL=js_c83ddfb7a0"
            ],
            "text/plain": [
              "<IPython.core.display.Javascript object>"
            ]
          },
          "metadata": {
            "tags": [
              "id2-0-0",
              "outputarea_id2"
            ]
          }
        },
        {
          "output_type": "display_data",
          "data": {
            "application/javascript": [
              "window[\"9e736a8c-06e5-11eb-b102-0242ac1c0002\"] = google.colab.output.getActiveOutputArea();\n",
              "//# sourceURL=js_81b18339f7"
            ],
            "text/plain": [
              "<IPython.core.display.Javascript object>"
            ]
          },
          "metadata": {
            "tags": [
              "id2-0-0",
              "outputarea_id2"
            ]
          }
        },
        {
          "output_type": "display_data",
          "data": {
            "application/javascript": [
              "window[\"9e73d6de-06e5-11eb-b102-0242ac1c0002\"] = document.querySelector(\"#id2-0-0\");\n",
              "//# sourceURL=js_8ca807b8e8"
            ],
            "text/plain": [
              "<IPython.core.display.Javascript object>"
            ]
          },
          "metadata": {
            "tags": [
              "id2-0-0",
              "outputarea_id2"
            ]
          }
        },
        {
          "output_type": "display_data",
          "data": {
            "application/javascript": [
              "window[\"9e741c70-06e5-11eb-b102-0242ac1c0002\"] = google.colab.output.setActiveOutputArea(window[\"9e73d6de-06e5-11eb-b102-0242ac1c0002\"]);\n",
              "//# sourceURL=js_87e51844be"
            ],
            "text/plain": [
              "<IPython.core.display.Javascript object>"
            ]
          },
          "metadata": {
            "tags": [
              "id2-0-0",
              "outputarea_id2"
            ]
          }
        },
        {
          "output_type": "display_data",
          "data": {
            "application/javascript": [
              "window[\"9e90881a-06e5-11eb-b102-0242ac1c0002\"] = google.colab.output.setActiveOutputArea(window[\"9e736a8c-06e5-11eb-b102-0242ac1c0002\"]);\n",
              "//# sourceURL=js_b1bee74c12"
            ],
            "text/plain": [
              "<IPython.core.display.Javascript object>"
            ]
          },
          "metadata": {
            "tags": [
              "id2-0-0",
              "outputarea_id2"
            ]
          }
        },
        {
          "output_type": "display_data",
          "data": {
            "application/javascript": [
              "window[\"9f443874-06e5-11eb-b102-0242ac1c0002\"] = google.colab.output.getActiveOutputArea();\n",
              "//# sourceURL=js_4084d772d9"
            ],
            "text/plain": [
              "<IPython.core.display.Javascript object>"
            ]
          },
          "metadata": {
            "tags": [
              "id2-0-0",
              "outputarea_id2"
            ]
          }
        },
        {
          "output_type": "display_data",
          "data": {
            "application/javascript": [
              "window[\"9f451834-06e5-11eb-b102-0242ac1c0002\"] = document.querySelector(\"#id2-0-0\");\n",
              "//# sourceURL=js_7d7d2d0c1b"
            ],
            "text/plain": [
              "<IPython.core.display.Javascript object>"
            ]
          },
          "metadata": {
            "tags": [
              "id2-0-0",
              "outputarea_id2"
            ]
          }
        },
        {
          "output_type": "display_data",
          "data": {
            "application/javascript": [
              "window[\"9f4577a2-06e5-11eb-b102-0242ac1c0002\"] = google.colab.output.setActiveOutputArea(window[\"9f451834-06e5-11eb-b102-0242ac1c0002\"]);\n",
              "//# sourceURL=js_76c6b9835e"
            ],
            "text/plain": [
              "<IPython.core.display.Javascript object>"
            ]
          },
          "metadata": {
            "tags": [
              "id2-0-0",
              "outputarea_id2"
            ]
          }
        },
        {
          "output_type": "display_data",
          "data": {
            "application/javascript": [
              "window[\"9f61e31a-06e5-11eb-b102-0242ac1c0002\"] = google.colab.output.setActiveOutputArea(window[\"9f443874-06e5-11eb-b102-0242ac1c0002\"]);\n",
              "//# sourceURL=js_6ea5047b76"
            ],
            "text/plain": [
              "<IPython.core.display.Javascript object>"
            ]
          },
          "metadata": {
            "tags": [
              "id2-0-0",
              "outputarea_id2"
            ]
          }
        },
        {
          "output_type": "display_data",
          "data": {
            "application/javascript": [
              "window[\"a01788b4-06e5-11eb-b102-0242ac1c0002\"] = google.colab.output.getActiveOutputArea();\n",
              "//# sourceURL=js_a58e5ca50b"
            ],
            "text/plain": [
              "<IPython.core.display.Javascript object>"
            ]
          },
          "metadata": {
            "tags": [
              "id2-0-0",
              "outputarea_id2"
            ]
          }
        },
        {
          "output_type": "display_data",
          "data": {
            "application/javascript": [
              "window[\"a017e0a2-06e5-11eb-b102-0242ac1c0002\"] = document.querySelector(\"#id2-0-0\");\n",
              "//# sourceURL=js_51b0fcaa47"
            ],
            "text/plain": [
              "<IPython.core.display.Javascript object>"
            ]
          },
          "metadata": {
            "tags": [
              "id2-0-0",
              "outputarea_id2"
            ]
          }
        },
        {
          "output_type": "display_data",
          "data": {
            "application/javascript": [
              "window[\"a0183160-06e5-11eb-b102-0242ac1c0002\"] = google.colab.output.setActiveOutputArea(window[\"a017e0a2-06e5-11eb-b102-0242ac1c0002\"]);\n",
              "//# sourceURL=js_5dab07f7c5"
            ],
            "text/plain": [
              "<IPython.core.display.Javascript object>"
            ]
          },
          "metadata": {
            "tags": [
              "id2-0-0",
              "outputarea_id2"
            ]
          }
        },
        {
          "output_type": "display_data",
          "data": {
            "application/javascript": [
              "window[\"a0348a90-06e5-11eb-b102-0242ac1c0002\"] = google.colab.output.setActiveOutputArea(window[\"a01788b4-06e5-11eb-b102-0242ac1c0002\"]);\n",
              "//# sourceURL=js_4efbf14d1d"
            ],
            "text/plain": [
              "<IPython.core.display.Javascript object>"
            ]
          },
          "metadata": {
            "tags": [
              "id2-0-0",
              "outputarea_id2"
            ]
          }
        },
        {
          "output_type": "display_data",
          "data": {
            "application/javascript": [
              "window[\"a0e951b4-06e5-11eb-b102-0242ac1c0002\"] = google.colab.output.getActiveOutputArea();\n",
              "//# sourceURL=js_abd8306789"
            ],
            "text/plain": [
              "<IPython.core.display.Javascript object>"
            ]
          },
          "metadata": {
            "tags": [
              "id2-0-0",
              "outputarea_id2"
            ]
          }
        },
        {
          "output_type": "display_data",
          "data": {
            "application/javascript": [
              "window[\"a0e9b44c-06e5-11eb-b102-0242ac1c0002\"] = document.querySelector(\"#id2-0-0\");\n",
              "//# sourceURL=js_55cf6ea35e"
            ],
            "text/plain": [
              "<IPython.core.display.Javascript object>"
            ]
          },
          "metadata": {
            "tags": [
              "id2-0-0",
              "outputarea_id2"
            ]
          }
        },
        {
          "output_type": "display_data",
          "data": {
            "application/javascript": [
              "window[\"a0e9e7b4-06e5-11eb-b102-0242ac1c0002\"] = google.colab.output.setActiveOutputArea(window[\"a0e9b44c-06e5-11eb-b102-0242ac1c0002\"]);\n",
              "//# sourceURL=js_13b0a9816b"
            ],
            "text/plain": [
              "<IPython.core.display.Javascript object>"
            ]
          },
          "metadata": {
            "tags": [
              "id2-0-0",
              "outputarea_id2"
            ]
          }
        },
        {
          "output_type": "display_data",
          "data": {
            "image/png": "[encoded data removed]",
            "text/plain": [
              "<Figure size 432x288 with 1 Axes>"
            ]
          },
          "metadata": {
            "tags": [
              "id2-0-0",
              "outputarea_id2",
              "user_output"
            ],
            "needs_background": "light"
          }
        },
        {
          "output_type": "display_data",
          "data": {
            "application/javascript": [
              "window[\"a106b718-06e5-11eb-b102-0242ac1c0002\"] = google.colab.output.setActiveOutputArea(window[\"a0e951b4-06e5-11eb-b102-0242ac1c0002\"]);\n",
              "//# sourceURL=js_09a7fd1e5e"
            ],
            "text/plain": [
              "<IPython.core.display.Javascript object>"
            ]
          },
          "metadata": {
            "tags": [
              "id2-0-0",
              "outputarea_id2"
            ]
          }
        }
      ]
    },
    {
      "cell_type": "markdown",
      "metadata": {
        "id": "TbNFeFkSbXoN"
      },
      "source": [
        "If all is well, the fake and real distributions should nicely overlap after training. The discriminator has essentially pushed the fake samples towards the real distribution and the generator is now able to transform the noise distribution into a distribution of 'real' samples!\n",
        "\n",
        "**Question** Can you explain what happened to the red line during training? Why does it look like it does after training?\n",
        "\n",
        "**Question** Try training the GAN with different input noise distributions, e.g. uniform.\n",
        "\n",
        "**Question** See if you can find a distribution for the real samples for which the generator fails to generate samples."
      ]
    },
    {
      "cell_type": "markdown",
      "metadata": {
        "id": "LuZBMvf4NWvD"
      },
      "source": [
        "During training, we have stored the loss values for the discriminator and the generator. We can now plot these. Remember that for the digit classification task, we were looking for a set of parameters leading to a low loss function. \n",
        "\n",
        "**Question** The loss curves that you get look different. Can you explain why they're not nicely dropping to zero? Can you explain the loss in the discriminator based on the objective function of the discriminator?"
      ]
    },
    {
      "cell_type": "code",
      "metadata": {
        "id": "61bpDVDJNf12"
      },
      "source": [
        "plt.figure(figsize=(10, 8))\n",
        "plt.subplot(1, 2, 1)\n",
        "plt.plot(d_losses)\n",
        "plt.title('Discriminator loss')\n",
        "plt.xlabel('Epoch')\n",
        "plt.ylabel('Loss')\n",
        "plt.subplot(1, 2, 2)\n",
        "plt.plot(g_losses)\n",
        "plt.title('Generator loss')\n",
        "plt.xlabel('Epoch')\n",
        "plt.ylabel('Loss')\n",
        "plt.legend()\n",
        "plt.show()"
      ],
      "execution_count": null,
      "outputs": []
    },
    {
      "cell_type": "markdown",
      "metadata": {
        "id": "dreog2u1b-iI"
      },
      "source": [
        "Although it is definitely nice that we can train two networks together to learn the distribution of a real data distribution, generating samples from a normal distribution is in itself not really interesting. Luckily, we can use the same principles to generate images."
      ]
    },
    {
      "cell_type": "markdown",
      "metadata": {
        "id": "4hq5i_sySZL1"
      },
      "source": [
        "# MNIST synthesis\n",
        "Like last week, we are again going to use MNIST data. Data preparation is the same as before."
      ]
    },
    {
      "cell_type": "code",
      "metadata": {
        "id": "CYCMGnXnFnZc"
      },
      "source": [
        "from keras.datasets import mnist\n",
        "from keras.utils import to_categorical\n",
        "\n",
        "# load the MNIST the dataset\n",
        "(x_train, y_train), (x_test, y_test) = mnist.load_data()\n",
        "\n",
        "# scale the image intensities to the 0-1 range\n",
        "x_train = (x_train / 255.0).astype(np.float32)\n",
        "x_test = (x_test / 255.0).astype(np.float32)\n",
        "\n",
        "# convert the data to channel-last\n",
        "train_set_images = np.expand_dims(x_train, axis=-1)\n",
        "test_set_images = np.expand_dims(x_test, axis=-1)\n",
        "\n",
        "# convert the labels to one-hot encoded\n",
        "train_set_labels = to_categorical(y_train, num_classes=10)\n",
        "test_set_labels = to_categorical(y_test, num_classes=10)"
      ],
      "execution_count": null,
      "outputs": []
    },
    {
      "cell_type": "markdown",
      "metadata": {
        "id": "c-5ls6CemTIX"
      },
      "source": [
        "Plot some images."
      ]
    },
    {
      "cell_type": "code",
      "metadata": {
        "id": "_0M65_8qTmOI"
      },
      "source": [
        "def plotImages(images, dim=(10, 10), figsize=(10, 10), title=''):\n",
        "    plt.figure(figsize=figsize)\n",
        "    for i in range(images.shape[0]):\n",
        "        plt.subplot(dim[0], dim[1], i+1)\n",
        "        plt.imshow(images[i], interpolation='nearest', cmap='gray_r')\n",
        "        plt.axis('off')\n",
        "    plt.tight_layout()\n",
        "    plt.suptitle(title)\n",
        "    plt.show()\n",
        "    \n",
        "plotImages(train_set_images[np.random.randint(0, train_set_images.shape[0], size=100)].reshape(100, 28, 28))"
      ],
      "execution_count": null,
      "outputs": []
    },
    {
      "cell_type": "markdown",
      "metadata": {
        "id": "qJnlR4PJSeQB"
      },
      "source": [
        "In last week's exercise you have built a discriminative model that was able to classify an image into one of ten digit categories. In this exercise, we are going to do the inverse. Given a point in a latent space (which in our case will be a multi-dimensional Gaussian distribution), we are going to train the network to generate a realistic digit image for this point. The MNIST data set will be used as a set of real samples. \n",
        "\n",
        "<img src=\"https://skymind.ai/images/wiki/GANs.png\">\n",
        "\n"
      ]
    },
    {
      "cell_type": "markdown",
      "metadata": {
        "id": "blRfoIS4Uo8-"
      },
      "source": [
        "## The discriminator\n",
        "As you can see in the image above, we will need a generator and a discriminator network. Let's define these. Consider the network that you used\n",
        "for digit classification in the previous exercise and see if you can spot some differences between that network and the network below.\n",
        "\n",
        "**Question** Is this a convolutional neural network? Why (not)?\n"
      ]
    },
    {
      "cell_type": "code",
      "metadata": {
        "id": "qg36jdcyUvPF"
      },
      "source": [
        "def get_discriminator_MLP():\n",
        "  discriminator = keras.models.Sequential()\n",
        "  discriminator.add(Dense(1024, input_dim=784, kernel_initializer=keras.initializers.RandomNormal(stddev=0.02)))\n",
        "  discriminator.add(LeakyReLU(0.2))\n",
        "  discriminator.add(Dropout(0.3))\n",
        "  discriminator.add(Dense(512))\n",
        "  discriminator.add(LeakyReLU(0.2))\n",
        "  discriminator.add(Dropout(0.3))\n",
        "  discriminator.add(Dense(256))\n",
        "  discriminator.add(LeakyReLU(0.2))\n",
        "  discriminator.add(Dense(1, activation='sigmoid'))\n",
        "  return discriminator"
      ],
      "execution_count": null,
      "outputs": []
    },
    {
      "cell_type": "markdown",
      "metadata": {
        "id": "0KYxSSbBQ28g"
      },
      "source": [
        "You could argue that digits are a bit more complex than samples from a Gaussian distribution, so let's set the latent space dimensionality for noise sampling a bit higher than 1."
      ]
    },
    {
      "cell_type": "code",
      "metadata": {
        "id": "MmCVJxAmQ6nE"
      },
      "source": [
        "latent_dim = 10"
      ],
      "execution_count": null,
      "outputs": []
    },
    {
      "cell_type": "markdown",
      "metadata": {
        "id": "5BGSHlx-VmVY"
      },
      "source": [
        "\n",
        "## The generator\n",
        "\n",
        "The generator is different than the discriminator. It should go from a low-dimensional noise vector to an MNIST image."
      ]
    },
    {
      "cell_type": "code",
      "metadata": {
        "id": "fEjxnxAwVukq"
      },
      "source": [
        "def get_generator_MLP():\n",
        "  generator = keras.models.Sequential()\n",
        "  generator.add(Dense(256, input_dim=latent_dim, kernel_initializer=keras.initializers.RandomNormal(stddev=0.02)))\n",
        "  generator.add(LeakyReLU(0.2))\n",
        "  generator.add(Dense(512))\n",
        "  generator.add(LeakyReLU(0.2))\n",
        "  generator.add(Dense(1024))\n",
        "  generator.add(LeakyReLU(0.2))\n",
        "  generator.add(Dense(784, activation='tanh'))\n",
        "  return generator"
      ],
      "execution_count": null,
      "outputs": []
    },
    {
      "cell_type": "markdown",
      "metadata": {
        "id": "nAUU4F7OQxO0"
      },
      "source": [
        "**Question** Consider the activation functions of the output layers of the generator and discriminator networks. How are they different?\n",
        "\n",
        "**Question** Also look at the activation functions of the other layers, can you find out what they do? Look at the Keras documentation."
      ]
    },
    {
      "cell_type": "markdown",
      "metadata": {
        "id": "NH_4zv4gnYhg"
      },
      "source": [
        "## The model\n",
        "Now  let's combine the generator and the discriminator. We train both using a binary crossentropy objective. This is very similar to what we did before."
      ]
    },
    {
      "cell_type": "code",
      "metadata": {
        "id": "2dR_iHzXXHjb"
      },
      "source": [
        "discriminator = get_discriminator_MLP()\n",
        "generator = get_generator_MLP()\n",
        "\n",
        "discriminator.compile(loss='binary_crossentropy', optimizer=keras.optimizers.Adam(lr=0.0002, beta_1=0.5))\n",
        "generator.compile(loss='binary_crossentropy', optimizer=keras.optimizers.Adam(lr=0.0002, beta_1=0.5))\n",
        "\n",
        "discriminator.trainable = False\n",
        "z = keras.layers.Input(shape=(latent_dim,))\n",
        "G_z = generator(z)\n",
        "D_G_z = discriminator(G_z)\n",
        "gan = keras.models.Model(inputs=z, outputs=D_G_z)\n",
        "gan.compile(loss='binary_crossentropy', optimizer=keras.optimizers.Adam(lr=0.0002, beta_1=0.5))"
      ],
      "execution_count": null,
      "outputs": []
    },
    {
      "cell_type": "markdown",
      "metadata": {
        "id": "fRMLacRF_RXo"
      },
      "source": [
        "Some helper functions."
      ]
    },
    {
      "cell_type": "code",
      "metadata": {
        "id": "MPXzOrqYZqmN"
      },
      "source": [
        "def saveModels(epoch):\n",
        "    generator.save('gan_generator_epoch_{}.h5'.format(epoch))\n",
        "    discriminator.save('gan_discriminator_epoch_{}.h5'.format(epoch))\n",
        "    \n",
        "def plotGeneratedImages(epoch, examples=100, dim=(10, 10), figsize=(10, 10)):\n",
        "    noise = np.random.normal(0, 1, size=[examples, latent_dim])\n",
        "    generatedImages = generator.predict(noise)\n",
        "    generatedImages = generatedImages.reshape(examples, 28, 28)\n",
        "\n",
        "    plt.figure(figsize=figsize)\n",
        "    for i in range(generatedImages.shape[0]):\n",
        "        plt.subplot(dim[0], dim[1], i+1)\n",
        "        plt.imshow(generatedImages[i], interpolation='nearest', cmap='gray_r')\n",
        "        plt.axis('off')\n",
        "    plt.tight_layout()\n",
        "    plt.suptitle('Epoch {}'.format(epoch))\n",
        "    plt.show()"
      ],
      "execution_count": null,
      "outputs": []
    },
    {
      "cell_type": "markdown",
      "metadata": {
        "id": "aSJGSyUOmxCN"
      },
      "source": [
        "Run the code below to train the GAN model. Synthesized images should be shown periodically. "
      ]
    },
    {
      "cell_type": "code",
      "metadata": {
        "id": "eYInR4WkXj_g"
      },
      "source": [
        "d_losses = []\n",
        "g_losses = []\n",
        "\n",
        "epochs = 200\n",
        "batch_size = 128\n",
        "\n",
        "X_train = (train_set_images.reshape(60000, 784).astype(np.float32) - 0.5)/0.5\n",
        "\n",
        "batch_count = int(X_train.shape[0] / batch_size)\n",
        "for e in range(epochs):\n",
        "  for _ in range(batch_count):\n",
        "\n",
        "    # Get a random set of input noise and images\n",
        "    noise = np.random.normal(0, 1, size=[batch_size, latent_dim])\n",
        "    image_batch = X_train[np.random.randint(0, X_train.shape[0], size=batch_size)]\n",
        "\n",
        "    # Generate some fake MNIST images using the generator\n",
        "    generated_images = generator.predict(noise)\n",
        "\n",
        "    # Concatenate the fake and real images\n",
        "    X = np.concatenate([image_batch, generated_images])\n",
        "\n",
        "    # Labels for generated and real data\n",
        "    y_dis = np.zeros(2*batch_size)\n",
        "    # One-sided label smoothing\n",
        "    y_dis[:batch_size] = 0.9\n",
        "\n",
        "    # Train discriminator with this batch of samples\n",
        "    discriminator.trainable = True\n",
        "    d_loss = discriminator.train_on_batch(X, y_dis)\n",
        "\n",
        "    # Train generator with a new batch of generated samples\n",
        "    noise = np.random.normal(0, 1, size=[batch_size, latent_dim])\n",
        "\n",
        "    # From the generator's perspective, the discriminator should predict\n",
        "    # ones for all samples\n",
        "    y_gen = np.ones(batch_size)\n",
        "\n",
        "    # Freeze the discriminator part\n",
        "    discriminator.trainable = False\n",
        "\n",
        "    # Train the GAN to predict ones\n",
        "    g_loss = gan.train_on_batch(noise, y_gen)\n",
        "\n",
        "  # Store loss of most recent batch from this epoch\n",
        "  d_losses.append(d_loss)\n",
        "  g_losses.append(g_loss)\n",
        "\n",
        "  if e % 5 == 0:\n",
        "    noise = np.random.normal(0, 1, size=[100, latent_dim])\n",
        "    plotGeneratedImages(e)\n",
        "    display.display(plt.gcf())\n",
        "    display.clear_output(wait=True)\n",
        "    time.sleep(0.001)\n",
        "    saveModels(e)\n",
        "\n"
      ],
      "execution_count": null,
      "outputs": []
    },
    {
      "cell_type": "markdown",
      "metadata": {
        "id": "RkAQZ1-uA1SQ"
      },
      "source": [
        "**Question** Inspect the loss curves for this model and explain what happens."
      ]
    },
    {
      "cell_type": "markdown",
      "metadata": {
        "id": "p7MFDUeHSgQ-"
      },
      "source": [
        "## A convolutional model\n",
        "Thus far the discriminator and generator were both multilayer perceptrons. Now we're going to add in some convolutional layers to turn them into a deep convolutional GAN (<a href=\"http://arxiv.org/abs/1511.06434\">DCGAN</a>)-like architecture. This means that we have to redefine the generator network and a discriminator network. \n",
        "\n",
        "The discriminator network is (almost) the same network that we used in last week's exercise."
      ]
    },
    {
      "cell_type": "code",
      "metadata": {
        "id": "bccrTGP0SiVJ"
      },
      "source": [
        "from keras.layers.convolutional import Conv2D, UpSampling2D\n",
        "\n",
        "def get_discriminator_CNN():\n",
        "  discriminator = keras.models.Sequential()\n",
        "  discriminator.add(Conv2D(64, kernel_size=(5, 5), strides=(2, 2), padding='same', input_shape=(1, 28, 28), kernel_initializer=keras.initializers.RandomNormal(stddev=0.02)))\n",
        "  discriminator.add(LeakyReLU(0.2))\n",
        "  discriminator.add(Dropout(0.3))\n",
        "  discriminator.add(Conv2D(128, kernel_size=(5, 5), strides=(2, 2), padding='same'))\n",
        "  discriminator.add(LeakyReLU(0.2))\n",
        "  discriminator.add(Dropout(0.3))\n",
        "  discriminator.add(Flatten())\n",
        "  discriminator.add(Dense(1, activation='sigmoid'))\n",
        "  return discriminator\n",
        "\n",
        "def get_generator_CNN():\n",
        "  generator = keras.models.Sequential()\n",
        "  generator.add(Dense(128*7*7, input_dim=latent_dim, kernel_initializer=keras.initializers.RandomNormal(stddev=0.02)))\n",
        "  generator.add(LeakyReLU(0.2))\n",
        "  generator.add(Reshape((128, 7, 7)))\n",
        "  generator.add(UpSampling2D(size=(2, 2)))\n",
        "  generator.add(Conv2D(64, kernel_size=(5, 5), padding='same'))\n",
        "  generator.add(LeakyReLU(0.2))\n",
        "  generator.add(UpSampling2D(size=(2, 2)))\n",
        "  generator.add(Conv2D(1, kernel_size=(5, 5), padding='same', activation='tanh'))\n",
        "  return generator"
      ],
      "execution_count": null,
      "outputs": []
    },
    {
      "cell_type": "markdown",
      "metadata": {
        "id": "JSKkoosKAwrh"
      },
      "source": [
        "Let's build our model like before."
      ]
    },
    {
      "cell_type": "code",
      "metadata": {
        "id": "mu8rmKcoGAPb"
      },
      "source": [
        "discriminator = get_discriminator_CNN()\n",
        "generator = get_generator_CNN()\n",
        "\n",
        "discriminator.compile(loss='binary_crossentropy', optimizer=keras.optimizers.Adam(lr=0.0002, beta_1=0.5))\n",
        "generator.compile(loss='binary_crossentropy', optimizer=keras.optimizers.Adam(lr=0.0002, beta_1=0.5))\n",
        "\n",
        "discriminator.trainable = False\n",
        "z = keras.layers.Input(shape=(latent_dim,))\n",
        "x = generator(z)\n",
        "D_G_z = discriminator(x)\n",
        "gan = keras.models.Model(inputs=z, outputs=D_G_z)\n",
        "gan.compile(loss='binary_crossentropy', optimizer=keras.optimizers.Adam(lr=0.0002, beta_1=0.5))"
      ],
      "execution_count": null,
      "outputs": []
    },
    {
      "cell_type": "markdown",
      "metadata": {
        "id": "Ojox3HxJnVDF"
      },
      "source": [
        "Train the model using the code below. Inspect the samples that come out. \n",
        "\n",
        "**Question** What are some differences between these samples and the ones generated by the multilayer perceptron GAN? Can you explain these differences?"
      ]
    },
    {
      "cell_type": "code",
      "metadata": {
        "id": "k79EFqsgWz0l"
      },
      "source": [
        "d_losses = []\n",
        "g_losses = []\n",
        "\n",
        "epochs = 200\n",
        "batch_size = 128\n",
        "\n",
        "X_train = (train_set_images.reshape(60000, 1, 28, 28).astype(np.float32) - 0.5)/0.5\n",
        "\n",
        "batch_count = int(X_train.shape[0] / batch_size)\n",
        "for e in range(epochs):\n",
        "  for _ in range(batch_count):\n",
        "    # Get a random set of input noise and images\n",
        "    noise = np.random.normal(0, 1, size=[batch_size, latent_dim])\n",
        "    image_batch = X_train[np.random.randint(0, X_train.shape[0], size=batch_size)]\n",
        "\n",
        "    # Generate some fake MNIST images using the generator\n",
        "    generated_images = generator.predict(noise)\n",
        "\n",
        "    # Concatenate the fake and real images\n",
        "    X = np.concatenate([image_batch, generated_images])\n",
        "\n",
        "    # Labels for generated and real data\n",
        "    y_dis = np.zeros(2*batch_size)\n",
        "    # Set reference to 1 for real samples\n",
        "    y_dis[:batch_size] = 1\n",
        "\n",
        "    # Train discriminator with this batch of samples\n",
        "    discriminator.trainable = True\n",
        "    d_loss = discriminator.train_on_batch(X, y_dis)\n",
        "\n",
        "    # Train generator with a new batch of generated samples\n",
        "    noise = np.random.normal(0, 1, size=[batch_size, latent_dim])\n",
        "\n",
        "    # From the generator's perspective, the discriminator should predict\n",
        "    # ones for all samples\n",
        "    y_gen = np.ones(batch_size)\n",
        "\n",
        "    # Freeze the discriminator part\n",
        "    discriminator.trainable = False\n",
        "\n",
        "    # Train the GAN to predict ones\n",
        "    g_loss = gan.train_on_batch(noise, y_gen)\n",
        "\n",
        "    # Store loss of most recent batch from this epoch\n",
        "  d_losses.append(d_loss)\n",
        "  g_losses.append(g_loss)\n",
        "\n",
        "  if e % 5 == 0:\n",
        "    noise = np.random.normal(0, 1, size=[100, latent_dim])\n",
        "    generatedImages = generator.predict(noise)\n",
        "    generatedImages = generatedImages.reshape(100, 28, 28)          \n",
        "    plotImages(generatedImages, title='Epoch {}'.format(e))\n",
        "    display.display(plt.gcf())\n",
        "    display.clear_output(wait=True)\n",
        "    time.sleep(0.001)    \n",
        "    saveModels(e)"
      ],
      "execution_count": null,
      "outputs": []
    },
    {
      "cell_type": "markdown",
      "metadata": {
        "id": "jmtZkf5AnW6y"
      },
      "source": [
        "## Interpolation in the latent space\n",
        "We're going to explore the latent space a bit more. We pick two points in the latent space and make a linear interpolation between these two. Then we generate images from each of the interpolated latent points. "
      ]
    },
    {
      "cell_type": "code",
      "metadata": {
        "id": "_NlTG4FBkNpC"
      },
      "source": [
        "noise_a = np.random.normal(0, 1, size=[1, latent_dim])\n",
        "noise_b = np.random.normal(0, 1, size=[1, latent_dim])\n",
        "\n",
        "noise = np.zeros((10, latent_dim), dtype='float32')\n",
        "for ni in range(10):\n",
        "  noise[ni, :] = float(ni)/10. * noise_a + (1 - float(ni)/10.) * noise_b\n",
        "generatedImages = generator.predict(noise)\n",
        "generatedImages = generatedImages.reshape(10, 28, 28)          \n",
        "plotImages(generatedImages, dim=(1, 10), figsize=(10, 10))"
      ],
      "execution_count": null,
      "outputs": []
    },
    {
      "cell_type": "markdown",
      "metadata": {
        "id": "JxkznblanlBO"
      },
      "source": [
        "**Question** Explain what you see in this plot.\n",
        "\n",
        "**Question** What happens when you extrapolate out of the latent space distribution? Consider how the noise vectors are drawn.\n"
      ]
    },
    {
      "cell_type": "markdown",
      "metadata": {
        "id": "dEjdfhRZsUGR"
      },
      "source": [
        "# Histopathology image synthesis"
      ]
    },
    {
      "cell_type": "markdown",
      "metadata": {
        "id": "MhUnPg2sYitQ"
      },
      "source": [
        "Now we're going to synthesize some actual images. We're going to use the PatchCamelyon data set ([more info here](https://github.com/basveeling/pcam)) which consists of small images that can be used for classification benchmarks. Today, we're not going to classify images, but we're going to synthesize them. You can download a data set of smaller (28 x 28 pixels) versions of these images from \n",
        "[this link](https://drive.google.com/file/d/11tkBWleY6PqFAGQHW0zYOwhvuz0kq-ai/view?usp=sharing). Upload the data set in the dialog below."
      ]
    },
    {
      "cell_type": "code",
      "metadata": {
        "id": "fMGM8sLhsbWh"
      },
      "source": [
        "uploaded = files.upload()"
      ],
      "execution_count": null,
      "outputs": []
    },
    {
      "cell_type": "markdown",
      "metadata": {
        "id": "lE8OlCi-ZKFf"
      },
      "source": [
        "Now load the data set."
      ]
    },
    {
      "cell_type": "code",
      "metadata": {
        "id": "NfJIE29rFYUA"
      },
      "source": [
        "def loadPatchCamelyon(path):    \n",
        "    f = gzip.open(path, 'rb')\n",
        "    train_set = pickle.load(f, encoding='latin1')\n",
        "    f.close()\n",
        "    return train_set"
      ],
      "execution_count": null,
      "outputs": []
    },
    {
      "cell_type": "code",
      "metadata": {
        "id": "WP1Eho1U1oMX"
      },
      "source": [
        "train_set_images = loadPatchCamelyon(r'valid_28.pkl.gz')\n",
        "\n",
        "def plotImagesPatchCamelyon(images, dim=(10, 10), figsize=(10, 10), title=''):\n",
        "    plt.figure(figsize=figsize)\n",
        "    for i in range(images.shape[0]):\n",
        "        plt.subplot(dim[0], dim[1], i+1)\n",
        "        plt.imshow(images[i], interpolation='nearest')\n",
        "        plt.axis('off')\n",
        "    plt.tight_layout()\n",
        "    plt.suptitle(title)\n",
        "    plt.show()\n",
        "    \n",
        "    \n",
        "plotImagesPatchCamelyon(train_set_images[np.random.randint(0, train_set_images.shape[0], size=100)].reshape(100, 28, 28, 3)/255.0)"
      ],
      "execution_count": null,
      "outputs": []
    },
    {
      "cell_type": "markdown",
      "metadata": {
        "id": "iQzcCZ_hZNbH"
      },
      "source": [
        "What do you immediately notice? Indeed, these images are in color! So the generator will have to generate three output channels instead of just one. \n",
        "\n",
        "In this second-to-last part of the practical you're going to repurpose the code that you have used so far to synthesize histopathology images like the ones above. You can play around a bit with this, see what happens when you interpolate between samples, etc. Remember that there is a final 'exercise' below.\n",
        "\n",
        "**Good luck!**"
      ]
    },
    {
      "cell_type": "code",
      "metadata": {
        "id": "UCm1R35fSVlw"
      },
      "source": [
        "## YOUR CODE GOES HERE"
      ],
      "execution_count": null,
      "outputs": []
    },
    {
      "cell_type": "markdown",
      "metadata": {
        "id": "S8CchPs2kIVT"
      },
      "source": [
        "# Conditional image synthesis"
      ]
    },
    {
      "cell_type": "markdown",
      "metadata": {
        "id": "RBALpqMLFPt2"
      },
      "source": [
        "## The BigGAN model\n",
        "The images we have synthesized so far are all quite small. Synthesis of larger images (e.g. 512 x 512 pixels) typically requires a lot of compute power and patience. Unfortunately, you don't have 100s of GPU at your disposal (I guess) to train a model like BigGAN, the state of the art in conditional image synthesis. A wild guess is that it would cost you around [USD60000](https://twitter.com/quasimondo/status/1065610256917692416) to train this model.\n",
        "\n",
        "Luckily, the authors of BigGAN have put a version of their pretrained model online and you can use it to synthesize images. Go to [this Colaboratory file](https://colab.research.google.com/github/tensorflow/hub/blob/master/examples/colab/biggan_generation_with_tf_hub.ipynb) and answer the following questions.\n",
        "\n",
        "**Question** What happens when you change the noise seed? Also try out different categories.\n",
        "\n",
        "**Question** What happens to your samples when you change the truncation value? More precisely, what happens to the diversity and the quality of your samples? Take a look at the [paper on arXiv](https://arxiv.org/abs/1809.11096) Sec. 3.1 to get an idea what this value does.\n",
        "\n",
        "**Question** Interpolate between image categories, inspect what these look like. \n",
        "\n",
        "\n"
      ]
    },
    {
      "cell_type": "markdown",
      "metadata": {
        "id": "dqKCNciykQ-2"
      },
      "source": [
        "## Conditional MNIST synthesis\n",
        "For all MNIST samples we already have labels (0, 1, ..., n). Try to change the MNIST synthesis code such that you can ask the generator to generate specific labels. I.e., try to train a conditional GAN. You can look for some inspiration in [this paper](https://arxiv.org/pdf/1411.1784.pdf), in particular Sec. 4.1. Remember that you already got the MNIST labels when loading the data set."
      ]
    },
    {
      "cell_type": "markdown",
      "metadata": {
        "id": "VBQvHB70RjZi"
      },
      "source": [
        "# Pretrained models\n",
        "\n",
        "You can download some pre-trained generator models for the GAN training exercises from [this link](https://filesender.surf.nl/?s=download&token=475362bb-4098-4376-979b-b0d3ae9e3dd0), but of course it's much more interesting to train them yourself. Use \n",
        "\n",
        "\n",
        "```\n",
        "generator = keras.models.load_model(filename)\n",
        "```\n",
        "\n",
        "to load the model.\n"
      ]
    }
  ]
}