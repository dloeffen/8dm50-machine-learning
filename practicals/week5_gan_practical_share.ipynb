{
  "nbformat": 4,
  "nbformat_minor": 0,
  "metadata": {
    "colab": {
      "name": "gan_practical_share.ipynb",
      "provenance": [],
      "collapsed_sections": [
        "t1rhzu_KRVfD",
        "Y9hTkVp1ESQW",
        "4hq5i_sySZL1",
        "blRfoIS4Uo8-",
        "5BGSHlx-VmVY",
        "NH_4zv4gnYhg",
        "p7MFDUeHSgQ-",
        "jmtZkf5AnW6y",
        "dEjdfhRZsUGR",
        "S8CchPs2kIVT",
        "RBALpqMLFPt2",
        "dqKCNciykQ-2",
        "VBQvHB70RjZi"
      ],
      "include_colab_link": true
    },
    "kernelspec": {
      "name": "python3",
      "display_name": "Python 3"
    },
    "accelerator": "GPU"
  },
  "cells": [
    {
      "cell_type": "markdown",
      "metadata": {
        "id": "view-in-github",
        "colab_type": "text"
      },
      "source": [
        "<a href=\"https://colab.research.google.com/github/dloeffen/8dm50-machine-learning/blob/master/practicals/week5_gan_practical_share.ipynb\" target=\"_parent\"><img src=\"https://colab.research.google.com/assets/colab-badge.svg\" alt=\"Open In Colab\"/></a>"
      ]
    },
    {
      "cell_type": "markdown",
      "metadata": {
        "id": "t1rhzu_KRVfD"
      },
      "source": [
        "# Data synthesis using generative adversarial networks (GANs)\n",
        "\n",
        "In this practical session we will build and train generative adversarial networks that are able to generate images.\n",
        "\n",
        "This is a Google Colab notebook, which is mostly the same as a Jupyter notebook. This means that you can run the code in a cell by selecting the cell and pressing Shift+Enter. We will run everything in the cloud, so you don't need a fancy computer or an expensive GPU for this exercise. We are going to use GPUs that Google Cloud provides for free. To do this, go to Edit --> Notebook settings and select GPU as Hardware accelerator. Then, in the top right of this screen select 'CONNECT' --> 'Connect to hosted runtime'\n",
        "\n",
        "We are going to import some of the packages that we will need in this exercise (by running the cell below)\n",
        "\n",
        "The documentation for key packages can be found online: <br>\n",
        "For numpy: https://docs.scipy.org/doc/numpy-dev/user/quickstart.html <br>\n",
        "For matplotlib: http://matplotlib.org/api/pyplot_api.html <br>\n",
        "For Keras: https://keras.io/ <br>\n",
        "For random: https://docs.python.org/2/library/random.html <br>"
      ]
    },
    {
      "cell_type": "code",
      "metadata": {
        "id": "HV9fYTQRRQ6J",
        "outputId": "eea82e17-6808-443e-f266-703e58761c11",
        "colab": {
          "base_uri": "https://localhost:8080/",
          "height": 67
        }
      },
      "source": [
        "%tensorflow_version 1.x\n",
        "import pickle\n",
        "import gzip\n",
        "import numpy as np\n",
        "\n",
        "import matplotlib.pyplot as plt\n",
        "%matplotlib inline\n",
        "from matplotlib import rc\n",
        "from matplotlib import pylab\n",
        "from IPython import display\n",
        "\n",
        "import tensorflow as tf\n",
        "import keras\n",
        "keras.backend.set_image_data_format('channels_first')\n",
        "\n",
        "import time\n",
        "import random\n",
        "from google.colab import files\n",
        "from google.colab import widgets\n",
        "random.seed(0)\n",
        "\n",
        "# Check whether we're using a GPU\n",
        "device_name = tf.test.gpu_device_name()\n",
        "if device_name != '/device:GPU:0':\n",
        "  raise SystemError('GPU device not found')\n",
        "print('Found GPU at: {}'.format(device_name))\n",
        "\n",
        "tf.logging.set_verbosity(tf.logging.ERROR)"
      ],
      "execution_count": 1,
      "outputs": [
        {
          "output_type": "stream",
          "text": [
            "TensorFlow 1.x selected.\n"
          ],
          "name": "stdout"
        },
        {
          "output_type": "stream",
          "text": [
            "Using TensorFlow backend.\n"
          ],
          "name": "stderr"
        },
        {
          "output_type": "stream",
          "text": [
            "Found GPU at: /device:GPU:0\n"
          ],
          "name": "stdout"
        }
      ]
    },
    {
      "cell_type": "markdown",
      "metadata": {
        "id": "Y9hTkVp1ESQW"
      },
      "source": [
        "## Small steps\n",
        "Before moving on to generating images, we will start with a simple 1D problem. We will assume that there is a data set of real samples that are drawn from a normal distribution with a particular mean value (the black dotted line below). These samples are in the sample domain *x*. \n",
        "\n",
        "The generator network does not know anything about the distribution of the real samples in the sample domain *x*, but will try to come up with a transformation that maps random noise from a distribution *z* to samples that seem to come from the real sample distribution (the green line below). This is very similar to what we have looked at in the lecture.\n",
        "\n",
        "<img src=\"https://cs.stanford.edu/people/karpathy/gan/gan.png\">\n",
        "\n",
        "For this, we will define two neural networks that play a game:\n",
        "*   The discriminator will learn to distinguish real and fake samples in *z*\n",
        "*   The generator will generate fake samples in *z* that the discriminator cannot discriminate\n",
        "\n",
        "First, we determine the mean value of the normal distribution from which **real** samples will be drawn in the sample domain *x*. In addition, we define the dimensionality of the normal distribution *z* from which noise samples to the generator will be drawn, i.e. the latent space. This will be 1 for now."
      ]
    },
    {
      "cell_type": "code",
      "metadata": {
        "id": "rsg4CLVHgMeJ"
      },
      "source": [
        "real_mean = 8\n",
        "latent_dim = 1"
      ],
      "execution_count": 2,
      "outputs": []
    },
    {
      "cell_type": "markdown",
      "metadata": {
        "id": "2eLRuaRXgSKn"
      },
      "source": [
        "Next, we define our discriminator and generator. These are both very simple networks.\n",
        "\n",
        "**Question** How many layers does each of these networks have? \n",
        "\n",
        "**Answer** Both networks have 3 layers\n",
        "\n",
        "**Question** Can you find out how many trainable parameters the networks have?\n",
        "\n",
        "**Answer** They both have 97 trainable parameters\n",
        "\n",
        "**Question** What are the activation functions of both networks? Why are they like this? \n",
        "\n",
        "**Answer** Leaky ReLU, because it increases performance by tackling the dying ReLU neurons problem. It extends the range of ReLU by changing the slope left of x=0. The discriminator network also uses a Sigmoid activation to tell us the probability of whether the input image is real or not."
      ]
    },
    {
      "cell_type": "code",
      "metadata": {
        "id": "ACf058DjgZ9_",
        "outputId": "2ffbe469-2c2e-4506-bd0f-fa17bb0ae4e5",
        "colab": {
          "base_uri": "https://localhost:8080/",
          "height": 487
        }
      },
      "source": [
        "# For easier reading\n",
        "from keras.layers.core import Reshape, Dense, Dropout, Flatten\n",
        "from keras.layers.advanced_activations import LeakyReLU\n",
        "\n",
        "# The discriminator will directly classify the input value\n",
        "def get_discriminator_1D():\n",
        "  discriminator = keras.models.Sequential()\n",
        "  discriminator.add(Dense(32, input_dim=1))\n",
        "  discriminator.add(LeakyReLU())\n",
        "  discriminator.add(Dense(1, activation='sigmoid'))\n",
        "  return discriminator\n",
        "\n",
        "# The generator will transform a single input value\n",
        "def get_generator_1D():\n",
        "  generator = keras.models.Sequential()\n",
        "  generator.add(Dense(32, input_dim=1))\n",
        "  generator.add(LeakyReLU())\n",
        "  generator.add(Dense(1))\n",
        "  return generator\n",
        "\n",
        "get_discriminator_1D().summary()\n",
        "get_generator_1D().summary()"
      ],
      "execution_count": 3,
      "outputs": [
        {
          "output_type": "stream",
          "text": [
            "Model: \"sequential_1\"\n",
            "_________________________________________________________________\n",
            "Layer (type)                 Output Shape              Param #   \n",
            "=================================================================\n",
            "dense_1 (Dense)              (None, 32)                64        \n",
            "_________________________________________________________________\n",
            "leaky_re_lu_1 (LeakyReLU)    (None, 32)                0         \n",
            "_________________________________________________________________\n",
            "dense_2 (Dense)              (None, 1)                 33        \n",
            "=================================================================\n",
            "Total params: 97\n",
            "Trainable params: 97\n",
            "Non-trainable params: 0\n",
            "_________________________________________________________________\n",
            "Model: \"sequential_2\"\n",
            "_________________________________________________________________\n",
            "Layer (type)                 Output Shape              Param #   \n",
            "=================================================================\n",
            "dense_3 (Dense)              (None, 32)                64        \n",
            "_________________________________________________________________\n",
            "leaky_re_lu_2 (LeakyReLU)    (None, 32)                0         \n",
            "_________________________________________________________________\n",
            "dense_4 (Dense)              (None, 1)                 33        \n",
            "=================================================================\n",
            "Total params: 97\n",
            "Trainable params: 97\n",
            "Non-trainable params: 0\n",
            "_________________________________________________________________\n"
          ],
          "name": "stdout"
        }
      ]
    },
    {
      "cell_type": "markdown",
      "metadata": {
        "id": "0QYrW32ehE3_"
      },
      "source": [
        "Now, we will define the training functions for both networks. Consider what is actually happening in a GAN and how the inputs and outputs are connected. There are three variables when training this GAN\n",
        "\n",
        "*   **z**: the noise that will be input to the generator\n",
        "*   **G_z**: the output of the generator, i.e. the samples that should approximate the real samples\n",
        "*   **D_G_z**: the discriminator's decision based on the fake sample\n",
        "\n",
        "The overall objective function of our system is as follows\n",
        "\n",
        "$V^{(D)}(D,G)=\\underset{x\\sim p_{data}}{\\mathbb{E}} [\\log{D(x)}]+\\underset{z\\sim p_z}{\\mathbb{E}} [\\log{(1-D(G(z)))}]$\n",
        "\n",
        "The generator $G$ is trying to minimize this loss, and the discriminator $D$ tries to maximize this. In other words, the discriminator wants to minimize the binary cross-entropy s.t. it predicts 1 for real samples and 0 for fake samples. At the same time, the generator tries to get the discriminator to predict 1 for fake samples.\n",
        "\n",
        "\n"
      ]
    },
    {
      "cell_type": "code",
      "metadata": {
        "id": "H30WDcfXF7tY"
      },
      "source": [
        "# Get networks\n",
        "discriminator = get_discriminator_1D()\n",
        "generator = get_generator_1D()\n",
        "\n",
        "# Configure both models for training\n",
        "discriminator.compile(loss='binary_crossentropy', optimizer=keras.optimizers.Adam(lr=0.0002, beta_1=0.5))\n",
        "generator.compile(loss='binary_crossentropy', optimizer=keras.optimizers.Adam(lr=0.0002, beta_1=0.5))\n",
        "\n",
        "# To configure the full model, we will set the 'trainable' parameter of the discriminator to False, as we don't want to optimize the discriminator when optimizing the generator\n",
        "discriminator.trainable = False\n",
        "\n",
        "# The input variable (noise) for the generator\n",
        "z = keras.layers.Input(shape=(latent_dim,))\n",
        "\n",
        "# What comes out of the generator\n",
        "G_z = generator(z)\n",
        "\n",
        "# What comes out of the discriminator when classifying the 'fake' samples\n",
        "D_G_z = discriminator(G_z)\n",
        "\n",
        "# The full GAN model\n",
        "gan = keras.models.Model(inputs=z, outputs=D_G_z)\n",
        "\n",
        "# The loss function for the GAN: this gets lower if the fake samples are classified as real\n",
        "gan.compile(loss='binary_crossentropy', optimizer=keras.optimizers.Adam(lr=0.0002, beta_1=0.5))"
      ],
      "execution_count": 6,
      "outputs": []
    },
    {
      "cell_type": "markdown",
      "metadata": {
        "id": "7MlpUJ_716Tk"
      },
      "source": [
        "The code below runs the training loop. This could take a while. The code will periodically show a plot of the current situation.\n",
        "\n",
        "**Question** Why do we set discriminator.trainable to either True or False?\n",
        "\n",
        "**Answer** We don't want to optimize the discriminator when optimizing the generator. While training the generator via the GAN we do not want the discriminator’s weights to be affected because we are using the discriminator as merely a classifier. So we use the True or False value to train the two parts in turn."
      ]
    },
    {
      "cell_type": "code",
      "metadata": {
        "id": "ynLndgse0r9V",
        "outputId": "332da05b-e8f4-4b4b-ab22-ad4bd810a1ba",
        "colab": {
          "base_uri": "https://localhost:8080/",
          "height": 284
        }
      },
      "source": [
        "# We will store the losses here\n",
        "g_losses = []\n",
        "d_losses = []\n",
        "\n",
        "# Training loop\n",
        "n_samples = 100\n",
        "epochs = 10000\n",
        "\n",
        "grid = widgets.Grid(1, 1)\n",
        "\n",
        "noise_function = np.random.normal\n",
        "\n",
        "for e in range(epochs):\n",
        "  # Get a random set of input noise\n",
        "  noise = noise_function(0, 1, size=[n_samples, latent_dim])\n",
        "\n",
        "  # Also get a sample from the 'real' distribution\n",
        "  real = noise_function(real_mean, 1, size=[n_samples, latent_dim])\n",
        "\n",
        "  # Generate some fake samples using the generator\n",
        "  fake = generator.predict(noise)\n",
        "\n",
        "  # Concatenate the fake and real images\n",
        "  X = np.concatenate([real, fake])\n",
        "\n",
        "  # Labels for generated and real data\n",
        "  Y_dis = np.zeros(2*n_samples)\n",
        "  \n",
        "  # Set labels for real samples to 1\n",
        "  Y_dis[:n_samples] = 1\n",
        "\n",
        "  # Train discriminator with this batch of samples\n",
        "  discriminator.trainable = True\n",
        "  d_loss = discriminator.train_on_batch(X, Y_dis)\n",
        "  d_losses.append(d_loss)\n",
        "  \n",
        "  # Train generator with a new batch of generated samples\n",
        "  # Freeze the discriminator part\n",
        "  discriminator.trainable = False \n",
        "  noise = noise_function(0, 1, size=[n_samples, latent_dim])\n",
        "  # From the generator's perspective, the discriminator should predict\n",
        "  # ones for all samples\n",
        "  Y_gen = np.ones(n_samples)\n",
        "  g_loss = gan.train_on_batch(noise, Y_gen)\n",
        "  g_losses.append(g_loss)\n",
        "  \n",
        "  if e % 100 == 0:\n",
        "    noise = noise_function(0, 1, size=[n_samples, latent_dim])\n",
        "    fake = generator.predict(noise)        \n",
        "    real = noise_function(real_mean, 1, size=[n_samples, latent_dim])\n",
        "    pred = discriminator.predict(np.arange(-20, 20, 0.5).reshape((80, 1)))\n",
        "    with grid.output_to(0, 0):\n",
        "      grid.clear_cell()\n",
        "      \n",
        "      # plt.clf()\n",
        "      pylab.hist((np.squeeze(fake), np.squeeze(real)), density=True, stacked=True)\n",
        "      pylab.scatter(np.arange(-20, 20, 0.5), pred, c='r')     \n",
        "      pylab.xlim(-20, 20)\n",
        "      pylab.ylim(0, 1)\n",
        "      pylab.title('Iteration {}'.format(e))\n",
        "      pylab.legend(['Discriminator', 'Fake', 'Real'])\n",
        "    time.sleep(0.5)"
      ],
      "execution_count": 24,
      "outputs": [
        {
          "output_type": "display_data",
          "data": {
            "text/html": [
              "<style>\n",
              "       table#id32, #id32 > tbody > tr > th, #id32 > tbody > tr > td {\n",
              "         border: 1px solid lightgray;\n",
              "         border-collapse:collapse;\n",
              "         \n",
              "        }</style>"
            ],
            "text/plain": [
              "<IPython.core.display.HTML object>"
            ]
          },
          "metadata": {
            "tags": [
              "outputarea_id32"
            ]
          }
        },
        {
          "output_type": "display_data",
          "data": {
            "text/html": [
              "<table id=id32><tr><td id=id32-0-0></td></tr></table>"
            ],
            "text/plain": [
              "<IPython.core.display.HTML object>"
            ]
          },
          "metadata": {
            "tags": [
              "outputarea_id32"
            ]
          }
        },
        {
          "output_type": "display_data",
          "data": {
            "application/javascript": [
              "window[\"0676b01a-0a08-11eb-a366-0242ac1c0002\"] = google.colab.output.getActiveOutputArea();\n",
              "//# sourceURL=js_7ed0b22ccb"
            ],
            "text/plain": [
              "<IPython.core.display.Javascript object>"
            ]
          },
          "metadata": {
            "tags": [
              "id32-0-0",
              "outputarea_id32"
            ]
          }
        },
        {
          "output_type": "display_data",
          "data": {
            "application/javascript": [
              "window[\"0676f020-0a08-11eb-a366-0242ac1c0002\"] = document.querySelector(\"#id32-0-0\");\n",
              "//# sourceURL=js_cc8ff6807f"
            ],
            "text/plain": [
              "<IPython.core.display.Javascript object>"
            ]
          },
          "metadata": {
            "tags": [
              "id32-0-0",
              "outputarea_id32"
            ]
          }
        },
        {
          "output_type": "display_data",
          "data": {
            "application/javascript": [
              "window[\"067727b6-0a08-11eb-a366-0242ac1c0002\"] = google.colab.output.setActiveOutputArea(window[\"0676f020-0a08-11eb-a366-0242ac1c0002\"]);\n",
              "//# sourceURL=js_f87983ef5b"
            ],
            "text/plain": [
              "<IPython.core.display.Javascript object>"
            ]
          },
          "metadata": {
            "tags": [
              "id32-0-0",
              "outputarea_id32"
            ]
          }
        },
        {
          "output_type": "display_data",
          "data": {
            "application/javascript": [
              "window[\"0691b6d0-0a08-11eb-a366-0242ac1c0002\"] = google.colab.output.setActiveOutputArea(window[\"0676b01a-0a08-11eb-a366-0242ac1c0002\"]);\n",
              "//# sourceURL=js_f855d98674"
            ],
            "text/plain": [
              "<IPython.core.display.Javascript object>"
            ]
          },
          "metadata": {
            "tags": [
              "id32-0-0",
              "outputarea_id32"
            ]
          }
        },
        {
          "output_type": "display_data",
          "data": {
            "application/javascript": [
              "window[\"07727738-0a08-11eb-a366-0242ac1c0002\"] = google.colab.output.getActiveOutputArea();\n",
              "//# sourceURL=js_3067136850"
            ],
            "text/plain": [
              "<IPython.core.display.Javascript object>"
            ]
          },
          "metadata": {
            "tags": [
              "id32-0-0",
              "outputarea_id32"
            ]
          }
        },
        {
          "output_type": "display_data",
          "data": {
            "application/javascript": [
              "window[\"07730e3c-0a08-11eb-a366-0242ac1c0002\"] = document.querySelector(\"#id32-0-0\");\n",
              "//# sourceURL=js_6281b815c6"
            ],
            "text/plain": [
              "<IPython.core.display.Javascript object>"
            ]
          },
          "metadata": {
            "tags": [
              "id32-0-0",
              "outputarea_id32"
            ]
          }
        },
        {
          "output_type": "display_data",
          "data": {
            "application/javascript": [
              "window[\"077393c0-0a08-11eb-a366-0242ac1c0002\"] = google.colab.output.setActiveOutputArea(window[\"07730e3c-0a08-11eb-a366-0242ac1c0002\"]);\n",
              "//# sourceURL=js_5aeaeda39a"
            ],
            "text/plain": [
              "<IPython.core.display.Javascript object>"
            ]
          },
          "metadata": {
            "tags": [
              "id32-0-0",
              "outputarea_id32"
            ]
          }
        },
        {
          "output_type": "display_data",
          "data": {
            "application/javascript": [
              "window[\"07905dac-0a08-11eb-a366-0242ac1c0002\"] = google.colab.output.setActiveOutputArea(window[\"07727738-0a08-11eb-a366-0242ac1c0002\"]);\n",
              "//# sourceURL=js_6a2bda5345"
            ],
            "text/plain": [
              "<IPython.core.display.Javascript object>"
            ]
          },
          "metadata": {
            "tags": [
              "id32-0-0",
              "outputarea_id32"
            ]
          }
        },
        {
          "output_type": "display_data",
          "data": {
            "application/javascript": [
              "window[\"084d8b8e-0a08-11eb-a366-0242ac1c0002\"] = google.colab.output.getActiveOutputArea();\n",
              "//# sourceURL=js_d64132bdce"
            ],
            "text/plain": [
              "<IPython.core.display.Javascript object>"
            ]
          },
          "metadata": {
            "tags": [
              "id32-0-0",
              "outputarea_id32"
            ]
          }
        },
        {
          "output_type": "display_data",
          "data": {
            "application/javascript": [
              "window[\"084dec32-0a08-11eb-a366-0242ac1c0002\"] = document.querySelector(\"#id32-0-0\");\n",
              "//# sourceURL=js_d01f789682"
            ],
            "text/plain": [
              "<IPython.core.display.Javascript object>"
            ]
          },
          "metadata": {
            "tags": [
              "id32-0-0",
              "outputarea_id32"
            ]
          }
        },
        {
          "output_type": "display_data",
          "data": {
            "application/javascript": [
              "window[\"084e2986-0a08-11eb-a366-0242ac1c0002\"] = google.colab.output.setActiveOutputArea(window[\"084dec32-0a08-11eb-a366-0242ac1c0002\"]);\n",
              "//# sourceURL=js_15aff6998a"
            ],
            "text/plain": [
              "<IPython.core.display.Javascript object>"
            ]
          },
          "metadata": {
            "tags": [
              "id32-0-0",
              "outputarea_id32"
            ]
          }
        },
        {
          "output_type": "display_data",
          "data": {
            "application/javascript": [
              "window[\"08681526-0a08-11eb-a366-0242ac1c0002\"] = google.colab.output.setActiveOutputArea(window[\"084d8b8e-0a08-11eb-a366-0242ac1c0002\"]);\n",
              "//# sourceURL=js_3198d82eb9"
            ],
            "text/plain": [
              "<IPython.core.display.Javascript object>"
            ]
          },
          "metadata": {
            "tags": [
              "id32-0-0",
              "outputarea_id32"
            ]
          }
        },
        {
          "output_type": "display_data",
          "data": {
            "application/javascript": [
              "window[\"092722b8-0a08-11eb-a366-0242ac1c0002\"] = google.colab.output.getActiveOutputArea();\n",
              "//# sourceURL=js_8aa8fdc4b8"
            ],
            "text/plain": [
              "<IPython.core.display.Javascript object>"
            ]
          },
          "metadata": {
            "tags": [
              "id32-0-0",
              "outputarea_id32"
            ]
          }
        },
        {
          "output_type": "display_data",
          "data": {
            "application/javascript": [
              "window[\"0927a90e-0a08-11eb-a366-0242ac1c0002\"] = document.querySelector(\"#id32-0-0\");\n",
              "//# sourceURL=js_d0482eebac"
            ],
            "text/plain": [
              "<IPython.core.display.Javascript object>"
            ]
          },
          "metadata": {
            "tags": [
              "id32-0-0",
              "outputarea_id32"
            ]
          }
        },
        {
          "output_type": "display_data",
          "data": {
            "application/javascript": [
              "window[\"092813e4-0a08-11eb-a366-0242ac1c0002\"] = google.colab.output.setActiveOutputArea(window[\"0927a90e-0a08-11eb-a366-0242ac1c0002\"]);\n",
              "//# sourceURL=js_fa81f7d898"
            ],
            "text/plain": [
              "<IPython.core.display.Javascript object>"
            ]
          },
          "metadata": {
            "tags": [
              "id32-0-0",
              "outputarea_id32"
            ]
          }
        },
        {
          "output_type": "display_data",
          "data": {
            "application/javascript": [
              "window[\"09430028-0a08-11eb-a366-0242ac1c0002\"] = google.colab.output.setActiveOutputArea(window[\"092722b8-0a08-11eb-a366-0242ac1c0002\"]);\n",
              "//# sourceURL=js_22b1500f1a"
            ],
            "text/plain": [
              "<IPython.core.display.Javascript object>"
            ]
          },
          "metadata": {
            "tags": [
              "id32-0-0",
              "outputarea_id32"
            ]
          }
        },
        {
          "output_type": "display_data",
          "data": {
            "application/javascript": [
              "window[\"09fc1cde-0a08-11eb-a366-0242ac1c0002\"] = google.colab.output.getActiveOutputArea();\n",
              "//# sourceURL=js_22944e1ea3"
            ],
            "text/plain": [
              "<IPython.core.display.Javascript object>"
            ]
          },
          "metadata": {
            "tags": [
              "id32-0-0",
              "outputarea_id32"
            ]
          }
        },
        {
          "output_type": "display_data",
          "data": {
            "application/javascript": [
              "window[\"09fcab2c-0a08-11eb-a366-0242ac1c0002\"] = document.querySelector(\"#id32-0-0\");\n",
              "//# sourceURL=js_b7e954f0b4"
            ],
            "text/plain": [
              "<IPython.core.display.Javascript object>"
            ]
          },
          "metadata": {
            "tags": [
              "id32-0-0",
              "outputarea_id32"
            ]
          }
        },
        {
          "output_type": "display_data",
          "data": {
            "application/javascript": [
              "window[\"09fd52ac-0a08-11eb-a366-0242ac1c0002\"] = google.colab.output.setActiveOutputArea(window[\"09fcab2c-0a08-11eb-a366-0242ac1c0002\"]);\n",
              "//# sourceURL=js_c40ee825db"
            ],
            "text/plain": [
              "<IPython.core.display.Javascript object>"
            ]
          },
          "metadata": {
            "tags": [
              "id32-0-0",
              "outputarea_id32"
            ]
          }
        },
        {
          "output_type": "display_data",
          "data": {
            "application/javascript": [
              "window[\"0a18749c-0a08-11eb-a366-0242ac1c0002\"] = google.colab.output.setActiveOutputArea(window[\"09fc1cde-0a08-11eb-a366-0242ac1c0002\"]);\n",
              "//# sourceURL=js_a726ae034e"
            ],
            "text/plain": [
              "<IPython.core.display.Javascript object>"
            ]
          },
          "metadata": {
            "tags": [
              "id32-0-0",
              "outputarea_id32"
            ]
          }
        },
        {
          "output_type": "display_data",
          "data": {
            "application/javascript": [
              "window[\"0adca33a-0a08-11eb-a366-0242ac1c0002\"] = google.colab.output.getActiveOutputArea();\n",
              "//# sourceURL=js_bc5734ef33"
            ],
            "text/plain": [
              "<IPython.core.display.Javascript object>"
            ]
          },
          "metadata": {
            "tags": [
              "id32-0-0",
              "outputarea_id32"
            ]
          }
        },
        {
          "output_type": "display_data",
          "data": {
            "application/javascript": [
              "window[\"0add0564-0a08-11eb-a366-0242ac1c0002\"] = document.querySelector(\"#id32-0-0\");\n",
              "//# sourceURL=js_1c711ce658"
            ],
            "text/plain": [
              "<IPython.core.display.Javascript object>"
            ]
          },
          "metadata": {
            "tags": [
              "id32-0-0",
              "outputarea_id32"
            ]
          }
        },
        {
          "output_type": "display_data",
          "data": {
            "application/javascript": [
              "window[\"0add42fe-0a08-11eb-a366-0242ac1c0002\"] = google.colab.output.setActiveOutputArea(window[\"0add0564-0a08-11eb-a366-0242ac1c0002\"]);\n",
              "//# sourceURL=js_4e4ee0e74b"
            ],
            "text/plain": [
              "<IPython.core.display.Javascript object>"
            ]
          },
          "metadata": {
            "tags": [
              "id32-0-0",
              "outputarea_id32"
            ]
          }
        },
        {
          "output_type": "display_data",
          "data": {
            "application/javascript": [
              "window[\"0af70ab8-0a08-11eb-a366-0242ac1c0002\"] = google.colab.output.setActiveOutputArea(window[\"0adca33a-0a08-11eb-a366-0242ac1c0002\"]);\n",
              "//# sourceURL=js_84dadc9140"
            ],
            "text/plain": [
              "<IPython.core.display.Javascript object>"
            ]
          },
          "metadata": {
            "tags": [
              "id32-0-0",
              "outputarea_id32"
            ]
          }
        },
        {
          "output_type": "display_data",
          "data": {
            "application/javascript": [
              "window[\"0bb53e20-0a08-11eb-a366-0242ac1c0002\"] = google.colab.output.getActiveOutputArea();\n",
              "//# sourceURL=js_89d40f177f"
            ],
            "text/plain": [
              "<IPython.core.display.Javascript object>"
            ]
          },
          "metadata": {
            "tags": [
              "id32-0-0",
              "outputarea_id32"
            ]
          }
        },
        {
          "output_type": "display_data",
          "data": {
            "application/javascript": [
              "window[\"0bb5da4c-0a08-11eb-a366-0242ac1c0002\"] = document.querySelector(\"#id32-0-0\");\n",
              "//# sourceURL=js_72774cd40f"
            ],
            "text/plain": [
              "<IPython.core.display.Javascript object>"
            ]
          },
          "metadata": {
            "tags": [
              "id32-0-0",
              "outputarea_id32"
            ]
          }
        },
        {
          "output_type": "display_data",
          "data": {
            "application/javascript": [
              "window[\"0bb65922-0a08-11eb-a366-0242ac1c0002\"] = google.colab.output.setActiveOutputArea(window[\"0bb5da4c-0a08-11eb-a366-0242ac1c0002\"]);\n",
              "//# sourceURL=js_d6131c916d"
            ],
            "text/plain": [
              "<IPython.core.display.Javascript object>"
            ]
          },
          "metadata": {
            "tags": [
              "id32-0-0",
              "outputarea_id32"
            ]
          }
        },
        {
          "output_type": "display_data",
          "data": {
            "application/javascript": [
              "window[\"0bd14dd6-0a08-11eb-a366-0242ac1c0002\"] = google.colab.output.setActiveOutputArea(window[\"0bb53e20-0a08-11eb-a366-0242ac1c0002\"]);\n",
              "//# sourceURL=js_fac3330deb"
            ],
            "text/plain": [
              "<IPython.core.display.Javascript object>"
            ]
          },
          "metadata": {
            "tags": [
              "id32-0-0",
              "outputarea_id32"
            ]
          }
        },
        {
          "output_type": "display_data",
          "data": {
            "application/javascript": [
              "window[\"0c8accb6-0a08-11eb-a366-0242ac1c0002\"] = google.colab.output.getActiveOutputArea();\n",
              "//# sourceURL=js_09c4001c87"
            ],
            "text/plain": [
              "<IPython.core.display.Javascript object>"
            ]
          },
          "metadata": {
            "tags": [
              "id32-0-0",
              "outputarea_id32"
            ]
          }
        },
        {
          "output_type": "display_data",
          "data": {
            "application/javascript": [
              "window[\"0c8b402e-0a08-11eb-a366-0242ac1c0002\"] = document.querySelector(\"#id32-0-0\");\n",
              "//# sourceURL=js_cc92c0a743"
            ],
            "text/plain": [
              "<IPython.core.display.Javascript object>"
            ]
          },
          "metadata": {
            "tags": [
              "id32-0-0",
              "outputarea_id32"
            ]
          }
        },
        {
          "output_type": "display_data",
          "data": {
            "application/javascript": [
              "window[\"0c8b99ca-0a08-11eb-a366-0242ac1c0002\"] = google.colab.output.setActiveOutputArea(window[\"0c8b402e-0a08-11eb-a366-0242ac1c0002\"]);\n",
              "//# sourceURL=js_790ab4a807"
            ],
            "text/plain": [
              "<IPython.core.display.Javascript object>"
            ]
          },
          "metadata": {
            "tags": [
              "id32-0-0",
              "outputarea_id32"
            ]
          }
        },
        {
          "output_type": "display_data",
          "data": {
            "application/javascript": [
              "window[\"0ca48b1a-0a08-11eb-a366-0242ac1c0002\"] = google.colab.output.setActiveOutputArea(window[\"0c8accb6-0a08-11eb-a366-0242ac1c0002\"]);\n",
              "//# sourceURL=js_e040ba330e"
            ],
            "text/plain": [
              "<IPython.core.display.Javascript object>"
            ]
          },
          "metadata": {
            "tags": [
              "id32-0-0",
              "outputarea_id32"
            ]
          }
        },
        {
          "output_type": "display_data",
          "data": {
            "application/javascript": [
              "window[\"0d5c183e-0a08-11eb-a366-0242ac1c0002\"] = google.colab.output.getActiveOutputArea();\n",
              "//# sourceURL=js_0d0c5c6db7"
            ],
            "text/plain": [
              "<IPython.core.display.Javascript object>"
            ]
          },
          "metadata": {
            "tags": [
              "id32-0-0",
              "outputarea_id32"
            ]
          }
        },
        {
          "output_type": "display_data",
          "data": {
            "application/javascript": [
              "window[\"0d5ca6f0-0a08-11eb-a366-0242ac1c0002\"] = document.querySelector(\"#id32-0-0\");\n",
              "//# sourceURL=js_b528429526"
            ],
            "text/plain": [
              "<IPython.core.display.Javascript object>"
            ]
          },
          "metadata": {
            "tags": [
              "id32-0-0",
              "outputarea_id32"
            ]
          }
        },
        {
          "output_type": "display_data",
          "data": {
            "application/javascript": [
              "window[\"0d5d5e42-0a08-11eb-a366-0242ac1c0002\"] = google.colab.output.setActiveOutputArea(window[\"0d5ca6f0-0a08-11eb-a366-0242ac1c0002\"]);\n",
              "//# sourceURL=js_bf83df22c8"
            ],
            "text/plain": [
              "<IPython.core.display.Javascript object>"
            ]
          },
          "metadata": {
            "tags": [
              "id32-0-0",
              "outputarea_id32"
            ]
          }
        },
        {
          "output_type": "display_data",
          "data": {
            "application/javascript": [
              "window[\"0d774bf4-0a08-11eb-a366-0242ac1c0002\"] = google.colab.output.setActiveOutputArea(window[\"0d5c183e-0a08-11eb-a366-0242ac1c0002\"]);\n",
              "//# sourceURL=js_16234c1d57"
            ],
            "text/plain": [
              "<IPython.core.display.Javascript object>"
            ]
          },
          "metadata": {
            "tags": [
              "id32-0-0",
              "outputarea_id32"
            ]
          }
        },
        {
          "output_type": "display_data",
          "data": {
            "application/javascript": [
              "window[\"0e2ed59e-0a08-11eb-a366-0242ac1c0002\"] = google.colab.output.getActiveOutputArea();\n",
              "//# sourceURL=js_8f943295f7"
            ],
            "text/plain": [
              "<IPython.core.display.Javascript object>"
            ]
          },
          "metadata": {
            "tags": [
              "id32-0-0",
              "outputarea_id32"
            ]
          }
        },
        {
          "output_type": "display_data",
          "data": {
            "application/javascript": [
              "window[\"0e2f2418-0a08-11eb-a366-0242ac1c0002\"] = document.querySelector(\"#id32-0-0\");\n",
              "//# sourceURL=js_da85d932fd"
            ],
            "text/plain": [
              "<IPython.core.display.Javascript object>"
            ]
          },
          "metadata": {
            "tags": [
              "id32-0-0",
              "outputarea_id32"
            ]
          }
        },
        {
          "output_type": "display_data",
          "data": {
            "application/javascript": [
              "window[\"0e2f61bc-0a08-11eb-a366-0242ac1c0002\"] = google.colab.output.setActiveOutputArea(window[\"0e2f2418-0a08-11eb-a366-0242ac1c0002\"]);\n",
              "//# sourceURL=js_6b2045945b"
            ],
            "text/plain": [
              "<IPython.core.display.Javascript object>"
            ]
          },
          "metadata": {
            "tags": [
              "id32-0-0",
              "outputarea_id32"
            ]
          }
        },
        {
          "output_type": "display_data",
          "data": {
            "application/javascript": [
              "window[\"0e4ac524-0a08-11eb-a366-0242ac1c0002\"] = google.colab.output.setActiveOutputArea(window[\"0e2ed59e-0a08-11eb-a366-0242ac1c0002\"]);\n",
              "//# sourceURL=js_da13a891d9"
            ],
            "text/plain": [
              "<IPython.core.display.Javascript object>"
            ]
          },
          "metadata": {
            "tags": [
              "id32-0-0",
              "outputarea_id32"
            ]
          }
        },
        {
          "output_type": "display_data",
          "data": {
            "application/javascript": [
              "window[\"0f0b094c-0a08-11eb-a366-0242ac1c0002\"] = google.colab.output.getActiveOutputArea();\n",
              "//# sourceURL=js_a824b5d822"
            ],
            "text/plain": [
              "<IPython.core.display.Javascript object>"
            ]
          },
          "metadata": {
            "tags": [
              "id32-0-0",
              "outputarea_id32"
            ]
          }
        },
        {
          "output_type": "display_data",
          "data": {
            "application/javascript": [
              "window[\"0f0bc486-0a08-11eb-a366-0242ac1c0002\"] = document.querySelector(\"#id32-0-0\");\n",
              "//# sourceURL=js_608cb93195"
            ],
            "text/plain": [
              "<IPython.core.display.Javascript object>"
            ]
          },
          "metadata": {
            "tags": [
              "id32-0-0",
              "outputarea_id32"
            ]
          }
        },
        {
          "output_type": "display_data",
          "data": {
            "application/javascript": [
              "window[\"0f0c1850-0a08-11eb-a366-0242ac1c0002\"] = google.colab.output.setActiveOutputArea(window[\"0f0bc486-0a08-11eb-a366-0242ac1c0002\"]);\n",
              "//# sourceURL=js_47df3dc60a"
            ],
            "text/plain": [
              "<IPython.core.display.Javascript object>"
            ]
          },
          "metadata": {
            "tags": [
              "id32-0-0",
              "outputarea_id32"
            ]
          }
        },
        {
          "output_type": "display_data",
          "data": {
            "application/javascript": [
              "window[\"0f2653a0-0a08-11eb-a366-0242ac1c0002\"] = google.colab.output.setActiveOutputArea(window[\"0f0b094c-0a08-11eb-a366-0242ac1c0002\"]);\n",
              "//# sourceURL=js_4a386442e8"
            ],
            "text/plain": [
              "<IPython.core.display.Javascript object>"
            ]
          },
          "metadata": {
            "tags": [
              "id32-0-0",
              "outputarea_id32"
            ]
          }
        },
        {
          "output_type": "display_data",
          "data": {
            "application/javascript": [
              "window[\"0fdb2b2c-0a08-11eb-a366-0242ac1c0002\"] = google.colab.output.getActiveOutputArea();\n",
              "//# sourceURL=js_10c7a87c8e"
            ],
            "text/plain": [
              "<IPython.core.display.Javascript object>"
            ]
          },
          "metadata": {
            "tags": [
              "id32-0-0",
              "outputarea_id32"
            ]
          }
        },
        {
          "output_type": "display_data",
          "data": {
            "application/javascript": [
              "window[\"0fdb714a-0a08-11eb-a366-0242ac1c0002\"] = document.querySelector(\"#id32-0-0\");\n",
              "//# sourceURL=js_c041fbde02"
            ],
            "text/plain": [
              "<IPython.core.display.Javascript object>"
            ]
          },
          "metadata": {
            "tags": [
              "id32-0-0",
              "outputarea_id32"
            ]
          }
        },
        {
          "output_type": "display_data",
          "data": {
            "application/javascript": [
              "window[\"0fdba9b2-0a08-11eb-a366-0242ac1c0002\"] = google.colab.output.setActiveOutputArea(window[\"0fdb714a-0a08-11eb-a366-0242ac1c0002\"]);\n",
              "//# sourceURL=js_559214d75f"
            ],
            "text/plain": [
              "<IPython.core.display.Javascript object>"
            ]
          },
          "metadata": {
            "tags": [
              "id32-0-0",
              "outputarea_id32"
            ]
          }
        },
        {
          "output_type": "display_data",
          "data": {
            "application/javascript": [
              "window[\"0ff5ae34-0a08-11eb-a366-0242ac1c0002\"] = google.colab.output.setActiveOutputArea(window[\"0fdb2b2c-0a08-11eb-a366-0242ac1c0002\"]);\n",
              "//# sourceURL=js_d612d2dddf"
            ],
            "text/plain": [
              "<IPython.core.display.Javascript object>"
            ]
          },
          "metadata": {
            "tags": [
              "id32-0-0",
              "outputarea_id32"
            ]
          }
        },
        {
          "output_type": "display_data",
          "data": {
            "application/javascript": [
              "window[\"10adb8da-0a08-11eb-a366-0242ac1c0002\"] = google.colab.output.getActiveOutputArea();\n",
              "//# sourceURL=js_7d5042ffe0"
            ],
            "text/plain": [
              "<IPython.core.display.Javascript object>"
            ]
          },
          "metadata": {
            "tags": [
              "id32-0-0",
              "outputarea_id32"
            ]
          }
        },
        {
          "output_type": "display_data",
          "data": {
            "application/javascript": [
              "window[\"10ae1294-0a08-11eb-a366-0242ac1c0002\"] = document.querySelector(\"#id32-0-0\");\n",
              "//# sourceURL=js_45be5335f4"
            ],
            "text/plain": [
              "<IPython.core.display.Javascript object>"
            ]
          },
          "metadata": {
            "tags": [
              "id32-0-0",
              "outputarea_id32"
            ]
          }
        },
        {
          "output_type": "display_data",
          "data": {
            "application/javascript": [
              "window[\"10ae78ec-0a08-11eb-a366-0242ac1c0002\"] = google.colab.output.setActiveOutputArea(window[\"10ae1294-0a08-11eb-a366-0242ac1c0002\"]);\n",
              "//# sourceURL=js_7a51d55da4"
            ],
            "text/plain": [
              "<IPython.core.display.Javascript object>"
            ]
          },
          "metadata": {
            "tags": [
              "id32-0-0",
              "outputarea_id32"
            ]
          }
        },
        {
          "output_type": "display_data",
          "data": {
            "application/javascript": [
              "window[\"10c9749e-0a08-11eb-a366-0242ac1c0002\"] = google.colab.output.setActiveOutputArea(window[\"10adb8da-0a08-11eb-a366-0242ac1c0002\"]);\n",
              "//# sourceURL=js_e1e76d7fd8"
            ],
            "text/plain": [
              "<IPython.core.display.Javascript object>"
            ]
          },
          "metadata": {
            "tags": [
              "id32-0-0",
              "outputarea_id32"
            ]
          }
        },
        {
          "output_type": "display_data",
          "data": {
            "application/javascript": [
              "window[\"11872dd6-0a08-11eb-a366-0242ac1c0002\"] = google.colab.output.getActiveOutputArea();\n",
              "//# sourceURL=js_fc10ec82fc"
            ],
            "text/plain": [
              "<IPython.core.display.Javascript object>"
            ]
          },
          "metadata": {
            "tags": [
              "id32-0-0",
              "outputarea_id32"
            ]
          }
        },
        {
          "output_type": "display_data",
          "data": {
            "application/javascript": [
              "window[\"1187c32c-0a08-11eb-a366-0242ac1c0002\"] = document.querySelector(\"#id32-0-0\");\n",
              "//# sourceURL=js_e57a6bf18c"
            ],
            "text/plain": [
              "<IPython.core.display.Javascript object>"
            ]
          },
          "metadata": {
            "tags": [
              "id32-0-0",
              "outputarea_id32"
            ]
          }
        },
        {
          "output_type": "display_data",
          "data": {
            "application/javascript": [
              "window[\"11886732-0a08-11eb-a366-0242ac1c0002\"] = google.colab.output.setActiveOutputArea(window[\"1187c32c-0a08-11eb-a366-0242ac1c0002\"]);\n",
              "//# sourceURL=js_bdd1f9e161"
            ],
            "text/plain": [
              "<IPython.core.display.Javascript object>"
            ]
          },
          "metadata": {
            "tags": [
              "id32-0-0",
              "outputarea_id32"
            ]
          }
        },
        {
          "output_type": "display_data",
          "data": {
            "application/javascript": [
              "window[\"11a27ed8-0a08-11eb-a366-0242ac1c0002\"] = google.colab.output.setActiveOutputArea(window[\"11872dd6-0a08-11eb-a366-0242ac1c0002\"]);\n",
              "//# sourceURL=js_77911db6db"
            ],
            "text/plain": [
              "<IPython.core.display.Javascript object>"
            ]
          },
          "metadata": {
            "tags": [
              "id32-0-0",
              "outputarea_id32"
            ]
          }
        },
        {
          "output_type": "display_data",
          "data": {
            "application/javascript": [
              "window[\"126d8e02-0a08-11eb-a366-0242ac1c0002\"] = google.colab.output.getActiveOutputArea();\n",
              "//# sourceURL=js_d012c993fe"
            ],
            "text/plain": [
              "<IPython.core.display.Javascript object>"
            ]
          },
          "metadata": {
            "tags": [
              "id32-0-0",
              "outputarea_id32"
            ]
          }
        },
        {
          "output_type": "display_data",
          "data": {
            "application/javascript": [
              "window[\"126e1b92-0a08-11eb-a366-0242ac1c0002\"] = document.querySelector(\"#id32-0-0\");\n",
              "//# sourceURL=js_4b5e7bf113"
            ],
            "text/plain": [
              "<IPython.core.display.Javascript object>"
            ]
          },
          "metadata": {
            "tags": [
              "id32-0-0",
              "outputarea_id32"
            ]
          }
        },
        {
          "output_type": "display_data",
          "data": {
            "application/javascript": [
              "window[\"126ed906-0a08-11eb-a366-0242ac1c0002\"] = google.colab.output.setActiveOutputArea(window[\"126e1b92-0a08-11eb-a366-0242ac1c0002\"]);\n",
              "//# sourceURL=js_f079c7ac49"
            ],
            "text/plain": [
              "<IPython.core.display.Javascript object>"
            ]
          },
          "metadata": {
            "tags": [
              "id32-0-0",
              "outputarea_id32"
            ]
          }
        },
        {
          "output_type": "display_data",
          "data": {
            "application/javascript": [
              "window[\"128a4880-0a08-11eb-a366-0242ac1c0002\"] = google.colab.output.setActiveOutputArea(window[\"126d8e02-0a08-11eb-a366-0242ac1c0002\"]);\n",
              "//# sourceURL=js_b843be039f"
            ],
            "text/plain": [
              "<IPython.core.display.Javascript object>"
            ]
          },
          "metadata": {
            "tags": [
              "id32-0-0",
              "outputarea_id32"
            ]
          }
        },
        {
          "output_type": "display_data",
          "data": {
            "application/javascript": [
              "window[\"134c1ed8-0a08-11eb-a366-0242ac1c0002\"] = google.colab.output.getActiveOutputArea();\n",
              "//# sourceURL=js_454b53ca2c"
            ],
            "text/plain": [
              "<IPython.core.display.Javascript object>"
            ]
          },
          "metadata": {
            "tags": [
              "id32-0-0",
              "outputarea_id32"
            ]
          }
        },
        {
          "output_type": "display_data",
          "data": {
            "application/javascript": [
              "window[\"134c96ec-0a08-11eb-a366-0242ac1c0002\"] = document.querySelector(\"#id32-0-0\");\n",
              "//# sourceURL=js_d525113644"
            ],
            "text/plain": [
              "<IPython.core.display.Javascript object>"
            ]
          },
          "metadata": {
            "tags": [
              "id32-0-0",
              "outputarea_id32"
            ]
          }
        },
        {
          "output_type": "display_data",
          "data": {
            "application/javascript": [
              "window[\"134ceb9c-0a08-11eb-a366-0242ac1c0002\"] = google.colab.output.setActiveOutputArea(window[\"134c96ec-0a08-11eb-a366-0242ac1c0002\"]);\n",
              "//# sourceURL=js_b87304e2ac"
            ],
            "text/plain": [
              "<IPython.core.display.Javascript object>"
            ]
          },
          "metadata": {
            "tags": [
              "id32-0-0",
              "outputarea_id32"
            ]
          }
        },
        {
          "output_type": "display_data",
          "data": {
            "application/javascript": [
              "window[\"136615d6-0a08-11eb-a366-0242ac1c0002\"] = google.colab.output.setActiveOutputArea(window[\"134c1ed8-0a08-11eb-a366-0242ac1c0002\"]);\n",
              "//# sourceURL=js_32229162ef"
            ],
            "text/plain": [
              "<IPython.core.display.Javascript object>"
            ]
          },
          "metadata": {
            "tags": [
              "id32-0-0",
              "outputarea_id32"
            ]
          }
        },
        {
          "output_type": "display_data",
          "data": {
            "application/javascript": [
              "window[\"141e39ea-0a08-11eb-a366-0242ac1c0002\"] = google.colab.output.getActiveOutputArea();\n",
              "//# sourceURL=js_f2c9628be1"
            ],
            "text/plain": [
              "<IPython.core.display.Javascript object>"
            ]
          },
          "metadata": {
            "tags": [
              "id32-0-0",
              "outputarea_id32"
            ]
          }
        },
        {
          "output_type": "display_data",
          "data": {
            "application/javascript": [
              "window[\"141ea286-0a08-11eb-a366-0242ac1c0002\"] = document.querySelector(\"#id32-0-0\");\n",
              "//# sourceURL=js_cc43a062bc"
            ],
            "text/plain": [
              "<IPython.core.display.Javascript object>"
            ]
          },
          "metadata": {
            "tags": [
              "id32-0-0",
              "outputarea_id32"
            ]
          }
        },
        {
          "output_type": "display_data",
          "data": {
            "application/javascript": [
              "window[\"141ee520-0a08-11eb-a366-0242ac1c0002\"] = google.colab.output.setActiveOutputArea(window[\"141ea286-0a08-11eb-a366-0242ac1c0002\"]);\n",
              "//# sourceURL=js_737a6dd173"
            ],
            "text/plain": [
              "<IPython.core.display.Javascript object>"
            ]
          },
          "metadata": {
            "tags": [
              "id32-0-0",
              "outputarea_id32"
            ]
          }
        },
        {
          "output_type": "display_data",
          "data": {
            "application/javascript": [
              "window[\"1438d73c-0a08-11eb-a366-0242ac1c0002\"] = google.colab.output.setActiveOutputArea(window[\"141e39ea-0a08-11eb-a366-0242ac1c0002\"]);\n",
              "//# sourceURL=js_2b0c951ded"
            ],
            "text/plain": [
              "<IPython.core.display.Javascript object>"
            ]
          },
          "metadata": {
            "tags": [
              "id32-0-0",
              "outputarea_id32"
            ]
          }
        },
        {
          "output_type": "display_data",
          "data": {
            "application/javascript": [
              "window[\"14f015aa-0a08-11eb-a366-0242ac1c0002\"] = google.colab.output.getActiveOutputArea();\n",
              "//# sourceURL=js_3ecae4ff84"
            ],
            "text/plain": [
              "<IPython.core.display.Javascript object>"
            ]
          },
          "metadata": {
            "tags": [
              "id32-0-0",
              "outputarea_id32"
            ]
          }
        },
        {
          "output_type": "display_data",
          "data": {
            "application/javascript": [
              "window[\"14f06dc0-0a08-11eb-a366-0242ac1c0002\"] = document.querySelector(\"#id32-0-0\");\n",
              "//# sourceURL=js_01aa81e8d4"
            ],
            "text/plain": [
              "<IPython.core.display.Javascript object>"
            ]
          },
          "metadata": {
            "tags": [
              "id32-0-0",
              "outputarea_id32"
            ]
          }
        },
        {
          "output_type": "display_data",
          "data": {
            "application/javascript": [
              "window[\"14f0a092-0a08-11eb-a366-0242ac1c0002\"] = google.colab.output.setActiveOutputArea(window[\"14f06dc0-0a08-11eb-a366-0242ac1c0002\"]);\n",
              "//# sourceURL=js_699df99355"
            ],
            "text/plain": [
              "<IPython.core.display.Javascript object>"
            ]
          },
          "metadata": {
            "tags": [
              "id32-0-0",
              "outputarea_id32"
            ]
          }
        },
        {
          "output_type": "display_data",
          "data": {
            "application/javascript": [
              "window[\"150b9b0e-0a08-11eb-a366-0242ac1c0002\"] = google.colab.output.setActiveOutputArea(window[\"14f015aa-0a08-11eb-a366-0242ac1c0002\"]);\n",
              "//# sourceURL=js_d9c2d2617a"
            ],
            "text/plain": [
              "<IPython.core.display.Javascript object>"
            ]
          },
          "metadata": {
            "tags": [
              "id32-0-0",
              "outputarea_id32"
            ]
          }
        },
        {
          "output_type": "display_data",
          "data": {
            "application/javascript": [
              "window[\"15c5e806-0a08-11eb-a366-0242ac1c0002\"] = google.colab.output.getActiveOutputArea();\n",
              "//# sourceURL=js_fecfe0cdca"
            ],
            "text/plain": [
              "<IPython.core.display.Javascript object>"
            ]
          },
          "metadata": {
            "tags": [
              "id32-0-0",
              "outputarea_id32"
            ]
          }
        },
        {
          "output_type": "display_data",
          "data": {
            "application/javascript": [
              "window[\"15c67a28-0a08-11eb-a366-0242ac1c0002\"] = document.querySelector(\"#id32-0-0\");\n",
              "//# sourceURL=js_9313cf5265"
            ],
            "text/plain": [
              "<IPython.core.display.Javascript object>"
            ]
          },
          "metadata": {
            "tags": [
              "id32-0-0",
              "outputarea_id32"
            ]
          }
        },
        {
          "output_type": "display_data",
          "data": {
            "application/javascript": [
              "window[\"15c7042a-0a08-11eb-a366-0242ac1c0002\"] = google.colab.output.setActiveOutputArea(window[\"15c67a28-0a08-11eb-a366-0242ac1c0002\"]);\n",
              "//# sourceURL=js_73309e5bac"
            ],
            "text/plain": [
              "<IPython.core.display.Javascript object>"
            ]
          },
          "metadata": {
            "tags": [
              "id32-0-0",
              "outputarea_id32"
            ]
          }
        },
        {
          "output_type": "display_data",
          "data": {
            "application/javascript": [
              "window[\"15e0e110-0a08-11eb-a366-0242ac1c0002\"] = google.colab.output.setActiveOutputArea(window[\"15c5e806-0a08-11eb-a366-0242ac1c0002\"]);\n",
              "//# sourceURL=js_2f67db43cf"
            ],
            "text/plain": [
              "<IPython.core.display.Javascript object>"
            ]
          },
          "metadata": {
            "tags": [
              "id32-0-0",
              "outputarea_id32"
            ]
          }
        },
        {
          "output_type": "display_data",
          "data": {
            "application/javascript": [
              "window[\"169a2102-0a08-11eb-a366-0242ac1c0002\"] = google.colab.output.getActiveOutputArea();\n",
              "//# sourceURL=js_4cd39065c5"
            ],
            "text/plain": [
              "<IPython.core.display.Javascript object>"
            ]
          },
          "metadata": {
            "tags": [
              "id32-0-0",
              "outputarea_id32"
            ]
          }
        },
        {
          "output_type": "display_data",
          "data": {
            "application/javascript": [
              "window[\"169aa686-0a08-11eb-a366-0242ac1c0002\"] = document.querySelector(\"#id32-0-0\");\n",
              "//# sourceURL=js_96f70ebf2f"
            ],
            "text/plain": [
              "<IPython.core.display.Javascript object>"
            ]
          },
          "metadata": {
            "tags": [
              "id32-0-0",
              "outputarea_id32"
            ]
          }
        },
        {
          "output_type": "display_data",
          "data": {
            "application/javascript": [
              "window[\"169b2ffc-0a08-11eb-a366-0242ac1c0002\"] = google.colab.output.setActiveOutputArea(window[\"169aa686-0a08-11eb-a366-0242ac1c0002\"]);\n",
              "//# sourceURL=js_b3f22e95b6"
            ],
            "text/plain": [
              "<IPython.core.display.Javascript object>"
            ]
          },
          "metadata": {
            "tags": [
              "id32-0-0",
              "outputarea_id32"
            ]
          }
        },
        {
          "output_type": "display_data",
          "data": {
            "application/javascript": [
              "window[\"16b4fdc4-0a08-11eb-a366-0242ac1c0002\"] = google.colab.output.setActiveOutputArea(window[\"169a2102-0a08-11eb-a366-0242ac1c0002\"]);\n",
              "//# sourceURL=js_1c9fa4e949"
            ],
            "text/plain": [
              "<IPython.core.display.Javascript object>"
            ]
          },
          "metadata": {
            "tags": [
              "id32-0-0",
              "outputarea_id32"
            ]
          }
        },
        {
          "output_type": "display_data",
          "data": {
            "application/javascript": [
              "window[\"177524fa-0a08-11eb-a366-0242ac1c0002\"] = google.colab.output.getActiveOutputArea();\n",
              "//# sourceURL=js_4f35fd7192"
            ],
            "text/plain": [
              "<IPython.core.display.Javascript object>"
            ]
          },
          "metadata": {
            "tags": [
              "id32-0-0",
              "outputarea_id32"
            ]
          }
        },
        {
          "output_type": "display_data",
          "data": {
            "application/javascript": [
              "window[\"1775888c-0a08-11eb-a366-0242ac1c0002\"] = document.querySelector(\"#id32-0-0\");\n",
              "//# sourceURL=js_c9a7a72a99"
            ],
            "text/plain": [
              "<IPython.core.display.Javascript object>"
            ]
          },
          "metadata": {
            "tags": [
              "id32-0-0",
              "outputarea_id32"
            ]
          }
        },
        {
          "output_type": "display_data",
          "data": {
            "application/javascript": [
              "window[\"1775db20-0a08-11eb-a366-0242ac1c0002\"] = google.colab.output.setActiveOutputArea(window[\"1775888c-0a08-11eb-a366-0242ac1c0002\"]);\n",
              "//# sourceURL=js_757a1251b5"
            ],
            "text/plain": [
              "<IPython.core.display.Javascript object>"
            ]
          },
          "metadata": {
            "tags": [
              "id32-0-0",
              "outputarea_id32"
            ]
          }
        },
        {
          "output_type": "display_data",
          "data": {
            "application/javascript": [
              "window[\"1790bb8e-0a08-11eb-a366-0242ac1c0002\"] = google.colab.output.setActiveOutputArea(window[\"177524fa-0a08-11eb-a366-0242ac1c0002\"]);\n",
              "//# sourceURL=js_674270b8a1"
            ],
            "text/plain": [
              "<IPython.core.display.Javascript object>"
            ]
          },
          "metadata": {
            "tags": [
              "id32-0-0",
              "outputarea_id32"
            ]
          }
        },
        {
          "output_type": "display_data",
          "data": {
            "application/javascript": [
              "window[\"18496cec-0a08-11eb-a366-0242ac1c0002\"] = google.colab.output.getActiveOutputArea();\n",
              "//# sourceURL=js_8fbe4dec40"
            ],
            "text/plain": [
              "<IPython.core.display.Javascript object>"
            ]
          },
          "metadata": {
            "tags": [
              "id32-0-0",
              "outputarea_id32"
            ]
          }
        },
        {
          "output_type": "display_data",
          "data": {
            "application/javascript": [
              "window[\"18610ff0-0a08-11eb-a366-0242ac1c0002\"] = document.querySelector(\"#id32-0-0\");\n",
              "//# sourceURL=js_a2e424cf23"
            ],
            "text/plain": [
              "<IPython.core.display.Javascript object>"
            ]
          },
          "metadata": {
            "tags": [
              "id32-0-0",
              "outputarea_id32"
            ]
          }
        },
        {
          "output_type": "display_data",
          "data": {
            "application/javascript": [
              "window[\"18614e52-0a08-11eb-a366-0242ac1c0002\"] = google.colab.output.setActiveOutputArea(window[\"18610ff0-0a08-11eb-a366-0242ac1c0002\"]);\n",
              "//# sourceURL=js_8a9d264a58"
            ],
            "text/plain": [
              "<IPython.core.display.Javascript object>"
            ]
          },
          "metadata": {
            "tags": [
              "id32-0-0",
              "outputarea_id32"
            ]
          }
        },
        {
          "output_type": "display_data",
          "data": {
            "application/javascript": [
              "window[\"187b133c-0a08-11eb-a366-0242ac1c0002\"] = google.colab.output.setActiveOutputArea(window[\"18496cec-0a08-11eb-a366-0242ac1c0002\"]);\n",
              "//# sourceURL=js_44cbc29da5"
            ],
            "text/plain": [
              "<IPython.core.display.Javascript object>"
            ]
          },
          "metadata": {
            "tags": [
              "id32-0-0",
              "outputarea_id32"
            ]
          }
        },
        {
          "output_type": "display_data",
          "data": {
            "application/javascript": [
              "window[\"193281b6-0a08-11eb-a366-0242ac1c0002\"] = google.colab.output.getActiveOutputArea();\n",
              "//# sourceURL=js_6371600683"
            ],
            "text/plain": [
              "<IPython.core.display.Javascript object>"
            ]
          },
          "metadata": {
            "tags": [
              "id32-0-0",
              "outputarea_id32"
            ]
          }
        },
        {
          "output_type": "display_data",
          "data": {
            "application/javascript": [
              "window[\"1932f5ce-0a08-11eb-a366-0242ac1c0002\"] = document.querySelector(\"#id32-0-0\");\n",
              "//# sourceURL=js_a462550784"
            ],
            "text/plain": [
              "<IPython.core.display.Javascript object>"
            ]
          },
          "metadata": {
            "tags": [
              "id32-0-0",
              "outputarea_id32"
            ]
          }
        },
        {
          "output_type": "display_data",
          "data": {
            "application/javascript": [
              "window[\"1933666c-0a08-11eb-a366-0242ac1c0002\"] = google.colab.output.setActiveOutputArea(window[\"1932f5ce-0a08-11eb-a366-0242ac1c0002\"]);\n",
              "//# sourceURL=js_7836e9f79d"
            ],
            "text/plain": [
              "<IPython.core.display.Javascript object>"
            ]
          },
          "metadata": {
            "tags": [
              "id32-0-0",
              "outputarea_id32"
            ]
          }
        },
        {
          "output_type": "display_data",
          "data": {
            "application/javascript": [
              "window[\"194d7660-0a08-11eb-a366-0242ac1c0002\"] = google.colab.output.setActiveOutputArea(window[\"193281b6-0a08-11eb-a366-0242ac1c0002\"]);\n",
              "//# sourceURL=js_6a80a9d003"
            ],
            "text/plain": [
              "<IPython.core.display.Javascript object>"
            ]
          },
          "metadata": {
            "tags": [
              "id32-0-0",
              "outputarea_id32"
            ]
          }
        },
        {
          "output_type": "display_data",
          "data": {
            "application/javascript": [
              "window[\"1a1416c6-0a08-11eb-a366-0242ac1c0002\"] = google.colab.output.getActiveOutputArea();\n",
              "//# sourceURL=js_4b28fd27b2"
            ],
            "text/plain": [
              "<IPython.core.display.Javascript object>"
            ]
          },
          "metadata": {
            "tags": [
              "id32-0-0",
              "outputarea_id32"
            ]
          }
        },
        {
          "output_type": "display_data",
          "data": {
            "application/javascript": [
              "window[\"1a14b19e-0a08-11eb-a366-0242ac1c0002\"] = document.querySelector(\"#id32-0-0\");\n",
              "//# sourceURL=js_6b730f4c74"
            ],
            "text/plain": [
              "<IPython.core.display.Javascript object>"
            ]
          },
          "metadata": {
            "tags": [
              "id32-0-0",
              "outputarea_id32"
            ]
          }
        },
        {
          "output_type": "display_data",
          "data": {
            "application/javascript": [
              "window[\"1a1562ec-0a08-11eb-a366-0242ac1c0002\"] = google.colab.output.setActiveOutputArea(window[\"1a14b19e-0a08-11eb-a366-0242ac1c0002\"]);\n",
              "//# sourceURL=js_173d6332a5"
            ],
            "text/plain": [
              "<IPython.core.display.Javascript object>"
            ]
          },
          "metadata": {
            "tags": [
              "id32-0-0",
              "outputarea_id32"
            ]
          }
        },
        {
          "output_type": "display_data",
          "data": {
            "application/javascript": [
              "window[\"1a317ce8-0a08-11eb-a366-0242ac1c0002\"] = google.colab.output.setActiveOutputArea(window[\"1a1416c6-0a08-11eb-a366-0242ac1c0002\"]);\n",
              "//# sourceURL=js_8d9f9e1b12"
            ],
            "text/plain": [
              "<IPython.core.display.Javascript object>"
            ]
          },
          "metadata": {
            "tags": [
              "id32-0-0",
              "outputarea_id32"
            ]
          }
        },
        {
          "output_type": "display_data",
          "data": {
            "application/javascript": [
              "window[\"1aec5374-0a08-11eb-a366-0242ac1c0002\"] = google.colab.output.getActiveOutputArea();\n",
              "//# sourceURL=js_7c920d9b15"
            ],
            "text/plain": [
              "<IPython.core.display.Javascript object>"
            ]
          },
          "metadata": {
            "tags": [
              "id32-0-0",
              "outputarea_id32"
            ]
          }
        },
        {
          "output_type": "display_data",
          "data": {
            "application/javascript": [
              "window[\"1aecdd62-0a08-11eb-a366-0242ac1c0002\"] = document.querySelector(\"#id32-0-0\");\n",
              "//# sourceURL=js_625e62d9ac"
            ],
            "text/plain": [
              "<IPython.core.display.Javascript object>"
            ]
          },
          "metadata": {
            "tags": [
              "id32-0-0",
              "outputarea_id32"
            ]
          }
        },
        {
          "output_type": "display_data",
          "data": {
            "application/javascript": [
              "window[\"1aed883e-0a08-11eb-a366-0242ac1c0002\"] = google.colab.output.setActiveOutputArea(window[\"1aecdd62-0a08-11eb-a366-0242ac1c0002\"]);\n",
              "//# sourceURL=js_4e740745b2"
            ],
            "text/plain": [
              "<IPython.core.display.Javascript object>"
            ]
          },
          "metadata": {
            "tags": [
              "id32-0-0",
              "outputarea_id32"
            ]
          }
        },
        {
          "output_type": "display_data",
          "data": {
            "application/javascript": [
              "window[\"1b0725e6-0a08-11eb-a366-0242ac1c0002\"] = google.colab.output.setActiveOutputArea(window[\"1aec5374-0a08-11eb-a366-0242ac1c0002\"]);\n",
              "//# sourceURL=js_20ce4f1ea1"
            ],
            "text/plain": [
              "<IPython.core.display.Javascript object>"
            ]
          },
          "metadata": {
            "tags": [
              "id32-0-0",
              "outputarea_id32"
            ]
          }
        },
        {
          "output_type": "display_data",
          "data": {
            "application/javascript": [
              "window[\"1bbef8ec-0a08-11eb-a366-0242ac1c0002\"] = google.colab.output.getActiveOutputArea();\n",
              "//# sourceURL=js_3b3b0a461b"
            ],
            "text/plain": [
              "<IPython.core.display.Javascript object>"
            ]
          },
          "metadata": {
            "tags": [
              "id32-0-0",
              "outputarea_id32"
            ]
          }
        },
        {
          "output_type": "display_data",
          "data": {
            "application/javascript": [
              "window[\"1bbf4252-0a08-11eb-a366-0242ac1c0002\"] = document.querySelector(\"#id32-0-0\");\n",
              "//# sourceURL=js_1f17e8b705"
            ],
            "text/plain": [
              "<IPython.core.display.Javascript object>"
            ]
          },
          "metadata": {
            "tags": [
              "id32-0-0",
              "outputarea_id32"
            ]
          }
        },
        {
          "output_type": "display_data",
          "data": {
            "application/javascript": [
              "window[\"1bbf7e0c-0a08-11eb-a366-0242ac1c0002\"] = google.colab.output.setActiveOutputArea(window[\"1bbf4252-0a08-11eb-a366-0242ac1c0002\"]);\n",
              "//# sourceURL=js_5ed1a834d2"
            ],
            "text/plain": [
              "<IPython.core.display.Javascript object>"
            ]
          },
          "metadata": {
            "tags": [
              "id32-0-0",
              "outputarea_id32"
            ]
          }
        },
        {
          "output_type": "display_data",
          "data": {
            "application/javascript": [
              "window[\"1bd8a670-0a08-11eb-a366-0242ac1c0002\"] = google.colab.output.setActiveOutputArea(window[\"1bbef8ec-0a08-11eb-a366-0242ac1c0002\"]);\n",
              "//# sourceURL=js_95ba0abac0"
            ],
            "text/plain": [
              "<IPython.core.display.Javascript object>"
            ]
          },
          "metadata": {
            "tags": [
              "id32-0-0",
              "outputarea_id32"
            ]
          }
        },
        {
          "output_type": "display_data",
          "data": {
            "application/javascript": [
              "window[\"1c90c656-0a08-11eb-a366-0242ac1c0002\"] = google.colab.output.getActiveOutputArea();\n",
              "//# sourceURL=js_f74770987f"
            ],
            "text/plain": [
              "<IPython.core.display.Javascript object>"
            ]
          },
          "metadata": {
            "tags": [
              "id32-0-0",
              "outputarea_id32"
            ]
          }
        },
        {
          "output_type": "display_data",
          "data": {
            "application/javascript": [
              "window[\"1c91515c-0a08-11eb-a366-0242ac1c0002\"] = document.querySelector(\"#id32-0-0\");\n",
              "//# sourceURL=js_2c1f7775e4"
            ],
            "text/plain": [
              "<IPython.core.display.Javascript object>"
            ]
          },
          "metadata": {
            "tags": [
              "id32-0-0",
              "outputarea_id32"
            ]
          }
        },
        {
          "output_type": "display_data",
          "data": {
            "application/javascript": [
              "window[\"1c91e9dc-0a08-11eb-a366-0242ac1c0002\"] = google.colab.output.setActiveOutputArea(window[\"1c91515c-0a08-11eb-a366-0242ac1c0002\"]);\n",
              "//# sourceURL=js_d1ad3eeeaa"
            ],
            "text/plain": [
              "<IPython.core.display.Javascript object>"
            ]
          },
          "metadata": {
            "tags": [
              "id32-0-0",
              "outputarea_id32"
            ]
          }
        },
        {
          "output_type": "display_data",
          "data": {
            "application/javascript": [
              "window[\"1cacb05a-0a08-11eb-a366-0242ac1c0002\"] = google.colab.output.setActiveOutputArea(window[\"1c90c656-0a08-11eb-a366-0242ac1c0002\"]);\n",
              "//# sourceURL=js_9c3cd15e33"
            ],
            "text/plain": [
              "<IPython.core.display.Javascript object>"
            ]
          },
          "metadata": {
            "tags": [
              "id32-0-0",
              "outputarea_id32"
            ]
          }
        },
        {
          "output_type": "display_data",
          "data": {
            "application/javascript": [
              "window[\"1d6ecece-0a08-11eb-a366-0242ac1c0002\"] = google.colab.output.getActiveOutputArea();\n",
              "//# sourceURL=js_9f588db694"
            ],
            "text/plain": [
              "<IPython.core.display.Javascript object>"
            ]
          },
          "metadata": {
            "tags": [
              "id32-0-0",
              "outputarea_id32"
            ]
          }
        },
        {
          "output_type": "display_data",
          "data": {
            "application/javascript": [
              "window[\"1d6f4b24-0a08-11eb-a366-0242ac1c0002\"] = document.querySelector(\"#id32-0-0\");\n",
              "//# sourceURL=js_7a00c91da7"
            ],
            "text/plain": [
              "<IPython.core.display.Javascript object>"
            ]
          },
          "metadata": {
            "tags": [
              "id32-0-0",
              "outputarea_id32"
            ]
          }
        },
        {
          "output_type": "display_data",
          "data": {
            "application/javascript": [
              "window[\"1d700776-0a08-11eb-a366-0242ac1c0002\"] = google.colab.output.setActiveOutputArea(window[\"1d6f4b24-0a08-11eb-a366-0242ac1c0002\"]);\n",
              "//# sourceURL=js_62dc876f53"
            ],
            "text/plain": [
              "<IPython.core.display.Javascript object>"
            ]
          },
          "metadata": {
            "tags": [
              "id32-0-0",
              "outputarea_id32"
            ]
          }
        },
        {
          "output_type": "display_data",
          "data": {
            "application/javascript": [
              "window[\"1d8d8404-0a08-11eb-a366-0242ac1c0002\"] = google.colab.output.setActiveOutputArea(window[\"1d6ecece-0a08-11eb-a366-0242ac1c0002\"]);\n",
              "//# sourceURL=js_13aa34dd92"
            ],
            "text/plain": [
              "<IPython.core.display.Javascript object>"
            ]
          },
          "metadata": {
            "tags": [
              "id32-0-0",
              "outputarea_id32"
            ]
          }
        },
        {
          "output_type": "display_data",
          "data": {
            "application/javascript": [
              "window[\"1e5a6ff0-0a08-11eb-a366-0242ac1c0002\"] = google.colab.output.getActiveOutputArea();\n",
              "//# sourceURL=js_60f150ec25"
            ],
            "text/plain": [
              "<IPython.core.display.Javascript object>"
            ]
          },
          "metadata": {
            "tags": [
              "id32-0-0",
              "outputarea_id32"
            ]
          }
        },
        {
          "output_type": "display_data",
          "data": {
            "application/javascript": [
              "window[\"1e5ab9d8-0a08-11eb-a366-0242ac1c0002\"] = document.querySelector(\"#id32-0-0\");\n",
              "//# sourceURL=js_d8751c9b17"
            ],
            "text/plain": [
              "<IPython.core.display.Javascript object>"
            ]
          },
          "metadata": {
            "tags": [
              "id32-0-0",
              "outputarea_id32"
            ]
          }
        },
        {
          "output_type": "display_data",
          "data": {
            "application/javascript": [
              "window[\"1e5af2d6-0a08-11eb-a366-0242ac1c0002\"] = google.colab.output.setActiveOutputArea(window[\"1e5ab9d8-0a08-11eb-a366-0242ac1c0002\"]);\n",
              "//# sourceURL=js_687b064bb6"
            ],
            "text/plain": [
              "<IPython.core.display.Javascript object>"
            ]
          },
          "metadata": {
            "tags": [
              "id32-0-0",
              "outputarea_id32"
            ]
          }
        },
        {
          "output_type": "display_data",
          "data": {
            "application/javascript": [
              "window[\"1e75257a-0a08-11eb-a366-0242ac1c0002\"] = google.colab.output.setActiveOutputArea(window[\"1e5a6ff0-0a08-11eb-a366-0242ac1c0002\"]);\n",
              "//# sourceURL=js_438af198c4"
            ],
            "text/plain": [
              "<IPython.core.display.Javascript object>"
            ]
          },
          "metadata": {
            "tags": [
              "id32-0-0",
              "outputarea_id32"
            ]
          }
        },
        {
          "output_type": "display_data",
          "data": {
            "application/javascript": [
              "window[\"1f324b46-0a08-11eb-a366-0242ac1c0002\"] = google.colab.output.getActiveOutputArea();\n",
              "//# sourceURL=js_f1c3a894ed"
            ],
            "text/plain": [
              "<IPython.core.display.Javascript object>"
            ]
          },
          "metadata": {
            "tags": [
              "id32-0-0",
              "outputarea_id32"
            ]
          }
        },
        {
          "output_type": "display_data",
          "data": {
            "application/javascript": [
              "window[\"1f32d14c-0a08-11eb-a366-0242ac1c0002\"] = document.querySelector(\"#id32-0-0\");\n",
              "//# sourceURL=js_1154b886b3"
            ],
            "text/plain": [
              "<IPython.core.display.Javascript object>"
            ]
          },
          "metadata": {
            "tags": [
              "id32-0-0",
              "outputarea_id32"
            ]
          }
        },
        {
          "output_type": "display_data",
          "data": {
            "application/javascript": [
              "window[\"1f336792-0a08-11eb-a366-0242ac1c0002\"] = google.colab.output.setActiveOutputArea(window[\"1f32d14c-0a08-11eb-a366-0242ac1c0002\"]);\n",
              "//# sourceURL=js_ff6ef4ed05"
            ],
            "text/plain": [
              "<IPython.core.display.Javascript object>"
            ]
          },
          "metadata": {
            "tags": [
              "id32-0-0",
              "outputarea_id32"
            ]
          }
        },
        {
          "output_type": "display_data",
          "data": {
            "application/javascript": [
              "window[\"1f4d1b6a-0a08-11eb-a366-0242ac1c0002\"] = google.colab.output.setActiveOutputArea(window[\"1f324b46-0a08-11eb-a366-0242ac1c0002\"]);\n",
              "//# sourceURL=js_99ec50553b"
            ],
            "text/plain": [
              "<IPython.core.display.Javascript object>"
            ]
          },
          "metadata": {
            "tags": [
              "id32-0-0",
              "outputarea_id32"
            ]
          }
        },
        {
          "output_type": "display_data",
          "data": {
            "application/javascript": [
              "window[\"2017b5e6-0a08-11eb-a366-0242ac1c0002\"] = google.colab.output.getActiveOutputArea();\n",
              "//# sourceURL=js_46f394b8fb"
            ],
            "text/plain": [
              "<IPython.core.display.Javascript object>"
            ]
          },
          "metadata": {
            "tags": [
              "id32-0-0",
              "outputarea_id32"
            ]
          }
        },
        {
          "output_type": "display_data",
          "data": {
            "application/javascript": [
              "window[\"20184b46-0a08-11eb-a366-0242ac1c0002\"] = document.querySelector(\"#id32-0-0\");\n",
              "//# sourceURL=js_d389d95c56"
            ],
            "text/plain": [
              "<IPython.core.display.Javascript object>"
            ]
          },
          "metadata": {
            "tags": [
              "id32-0-0",
              "outputarea_id32"
            ]
          }
        },
        {
          "output_type": "display_data",
          "data": {
            "application/javascript": [
              "window[\"2018f438-0a08-11eb-a366-0242ac1c0002\"] = google.colab.output.setActiveOutputArea(window[\"20184b46-0a08-11eb-a366-0242ac1c0002\"]);\n",
              "//# sourceURL=js_81f69a7341"
            ],
            "text/plain": [
              "<IPython.core.display.Javascript object>"
            ]
          },
          "metadata": {
            "tags": [
              "id32-0-0",
              "outputarea_id32"
            ]
          }
        },
        {
          "output_type": "display_data",
          "data": {
            "application/javascript": [
              "window[\"203492f6-0a08-11eb-a366-0242ac1c0002\"] = google.colab.output.setActiveOutputArea(window[\"2017b5e6-0a08-11eb-a366-0242ac1c0002\"]);\n",
              "//# sourceURL=js_ade0bfc09d"
            ],
            "text/plain": [
              "<IPython.core.display.Javascript object>"
            ]
          },
          "metadata": {
            "tags": [
              "id32-0-0",
              "outputarea_id32"
            ]
          }
        },
        {
          "output_type": "display_data",
          "data": {
            "application/javascript": [
              "window[\"20ebe79e-0a08-11eb-a366-0242ac1c0002\"] = google.colab.output.getActiveOutputArea();\n",
              "//# sourceURL=js_6565a2b1cc"
            ],
            "text/plain": [
              "<IPython.core.display.Javascript object>"
            ]
          },
          "metadata": {
            "tags": [
              "id32-0-0",
              "outputarea_id32"
            ]
          }
        },
        {
          "output_type": "display_data",
          "data": {
            "application/javascript": [
              "window[\"20ec292a-0a08-11eb-a366-0242ac1c0002\"] = document.querySelector(\"#id32-0-0\");\n",
              "//# sourceURL=js_d02433bac1"
            ],
            "text/plain": [
              "<IPython.core.display.Javascript object>"
            ]
          },
          "metadata": {
            "tags": [
              "id32-0-0",
              "outputarea_id32"
            ]
          }
        },
        {
          "output_type": "display_data",
          "data": {
            "application/javascript": [
              "window[\"20ec6610-0a08-11eb-a366-0242ac1c0002\"] = google.colab.output.setActiveOutputArea(window[\"20ec292a-0a08-11eb-a366-0242ac1c0002\"]);\n",
              "//# sourceURL=js_600d858c71"
            ],
            "text/plain": [
              "<IPython.core.display.Javascript object>"
            ]
          },
          "metadata": {
            "tags": [
              "id32-0-0",
              "outputarea_id32"
            ]
          }
        },
        {
          "output_type": "display_data",
          "data": {
            "application/javascript": [
              "window[\"2105218c-0a08-11eb-a366-0242ac1c0002\"] = google.colab.output.setActiveOutputArea(window[\"20ebe79e-0a08-11eb-a366-0242ac1c0002\"]);\n",
              "//# sourceURL=js_72384bde91"
            ],
            "text/plain": [
              "<IPython.core.display.Javascript object>"
            ]
          },
          "metadata": {
            "tags": [
              "id32-0-0",
              "outputarea_id32"
            ]
          }
        },
        {
          "output_type": "display_data",
          "data": {
            "application/javascript": [
              "window[\"21c15f64-0a08-11eb-a366-0242ac1c0002\"] = google.colab.output.getActiveOutputArea();\n",
              "//# sourceURL=js_aaa1d67bbd"
            ],
            "text/plain": [
              "<IPython.core.display.Javascript object>"
            ]
          },
          "metadata": {
            "tags": [
              "id32-0-0",
              "outputarea_id32"
            ]
          }
        },
        {
          "output_type": "display_data",
          "data": {
            "application/javascript": [
              "window[\"21c21288-0a08-11eb-a366-0242ac1c0002\"] = document.querySelector(\"#id32-0-0\");\n",
              "//# sourceURL=js_e7f0562ab0"
            ],
            "text/plain": [
              "<IPython.core.display.Javascript object>"
            ]
          },
          "metadata": {
            "tags": [
              "id32-0-0",
              "outputarea_id32"
            ]
          }
        },
        {
          "output_type": "display_data",
          "data": {
            "application/javascript": [
              "window[\"21c2621a-0a08-11eb-a366-0242ac1c0002\"] = google.colab.output.setActiveOutputArea(window[\"21c21288-0a08-11eb-a366-0242ac1c0002\"]);\n",
              "//# sourceURL=js_e339e3c11f"
            ],
            "text/plain": [
              "<IPython.core.display.Javascript object>"
            ]
          },
          "metadata": {
            "tags": [
              "id32-0-0",
              "outputarea_id32"
            ]
          }
        },
        {
          "output_type": "display_data",
          "data": {
            "application/javascript": [
              "window[\"21dbe726-0a08-11eb-a366-0242ac1c0002\"] = google.colab.output.setActiveOutputArea(window[\"21c15f64-0a08-11eb-a366-0242ac1c0002\"]);\n",
              "//# sourceURL=js_d391ec9895"
            ],
            "text/plain": [
              "<IPython.core.display.Javascript object>"
            ]
          },
          "metadata": {
            "tags": [
              "id32-0-0",
              "outputarea_id32"
            ]
          }
        },
        {
          "output_type": "display_data",
          "data": {
            "application/javascript": [
              "window[\"2293078a-0a08-11eb-a366-0242ac1c0002\"] = google.colab.output.getActiveOutputArea();\n",
              "//# sourceURL=js_ee79206cd0"
            ],
            "text/plain": [
              "<IPython.core.display.Javascript object>"
            ]
          },
          "metadata": {
            "tags": [
              "id32-0-0",
              "outputarea_id32"
            ]
          }
        },
        {
          "output_type": "display_data",
          "data": {
            "application/javascript": [
              "window[\"22934cc2-0a08-11eb-a366-0242ac1c0002\"] = document.querySelector(\"#id32-0-0\");\n",
              "//# sourceURL=js_e55afaf384"
            ],
            "text/plain": [
              "<IPython.core.display.Javascript object>"
            ]
          },
          "metadata": {
            "tags": [
              "id32-0-0",
              "outputarea_id32"
            ]
          }
        },
        {
          "output_type": "display_data",
          "data": {
            "application/javascript": [
              "window[\"229388e0-0a08-11eb-a366-0242ac1c0002\"] = google.colab.output.setActiveOutputArea(window[\"22934cc2-0a08-11eb-a366-0242ac1c0002\"]);\n",
              "//# sourceURL=js_7b5db29143"
            ],
            "text/plain": [
              "<IPython.core.display.Javascript object>"
            ]
          },
          "metadata": {
            "tags": [
              "id32-0-0",
              "outputarea_id32"
            ]
          }
        },
        {
          "output_type": "display_data",
          "data": {
            "application/javascript": [
              "window[\"22ad82e0-0a08-11eb-a366-0242ac1c0002\"] = google.colab.output.setActiveOutputArea(window[\"2293078a-0a08-11eb-a366-0242ac1c0002\"]);\n",
              "//# sourceURL=js_23fa963609"
            ],
            "text/plain": [
              "<IPython.core.display.Javascript object>"
            ]
          },
          "metadata": {
            "tags": [
              "id32-0-0",
              "outputarea_id32"
            ]
          }
        },
        {
          "output_type": "display_data",
          "data": {
            "application/javascript": [
              "window[\"2369d65c-0a08-11eb-a366-0242ac1c0002\"] = google.colab.output.getActiveOutputArea();\n",
              "//# sourceURL=js_ead2d97438"
            ],
            "text/plain": [
              "<IPython.core.display.Javascript object>"
            ]
          },
          "metadata": {
            "tags": [
              "id32-0-0",
              "outputarea_id32"
            ]
          }
        },
        {
          "output_type": "display_data",
          "data": {
            "application/javascript": [
              "window[\"236a4e5c-0a08-11eb-a366-0242ac1c0002\"] = document.querySelector(\"#id32-0-0\");\n",
              "//# sourceURL=js_0ad65b9006"
            ],
            "text/plain": [
              "<IPython.core.display.Javascript object>"
            ]
          },
          "metadata": {
            "tags": [
              "id32-0-0",
              "outputarea_id32"
            ]
          }
        },
        {
          "output_type": "display_data",
          "data": {
            "application/javascript": [
              "window[\"236afd66-0a08-11eb-a366-0242ac1c0002\"] = google.colab.output.setActiveOutputArea(window[\"236a4e5c-0a08-11eb-a366-0242ac1c0002\"]);\n",
              "//# sourceURL=js_5f8ae93534"
            ],
            "text/plain": [
              "<IPython.core.display.Javascript object>"
            ]
          },
          "metadata": {
            "tags": [
              "id32-0-0",
              "outputarea_id32"
            ]
          }
        },
        {
          "output_type": "display_data",
          "data": {
            "application/javascript": [
              "window[\"23845d24-0a08-11eb-a366-0242ac1c0002\"] = google.colab.output.setActiveOutputArea(window[\"2369d65c-0a08-11eb-a366-0242ac1c0002\"]);\n",
              "//# sourceURL=js_d04bd14727"
            ],
            "text/plain": [
              "<IPython.core.display.Javascript object>"
            ]
          },
          "metadata": {
            "tags": [
              "id32-0-0",
              "outputarea_id32"
            ]
          }
        },
        {
          "output_type": "display_data",
          "data": {
            "application/javascript": [
              "window[\"244e0d5e-0a08-11eb-a366-0242ac1c0002\"] = google.colab.output.getActiveOutputArea();\n",
              "//# sourceURL=js_05745ab95d"
            ],
            "text/plain": [
              "<IPython.core.display.Javascript object>"
            ]
          },
          "metadata": {
            "tags": [
              "id32-0-0",
              "outputarea_id32"
            ]
          }
        },
        {
          "output_type": "display_data",
          "data": {
            "application/javascript": [
              "window[\"244e7afa-0a08-11eb-a366-0242ac1c0002\"] = document.querySelector(\"#id32-0-0\");\n",
              "//# sourceURL=js_06dffd9111"
            ],
            "text/plain": [
              "<IPython.core.display.Javascript object>"
            ]
          },
          "metadata": {
            "tags": [
              "id32-0-0",
              "outputarea_id32"
            ]
          }
        },
        {
          "output_type": "display_data",
          "data": {
            "application/javascript": [
              "window[\"244f61b8-0a08-11eb-a366-0242ac1c0002\"] = google.colab.output.setActiveOutputArea(window[\"244e7afa-0a08-11eb-a366-0242ac1c0002\"]);\n",
              "//# sourceURL=js_ee79cfff8e"
            ],
            "text/plain": [
              "<IPython.core.display.Javascript object>"
            ]
          },
          "metadata": {
            "tags": [
              "id32-0-0",
              "outputarea_id32"
            ]
          }
        },
        {
          "output_type": "display_data",
          "data": {
            "application/javascript": [
              "window[\"246a6666-0a08-11eb-a366-0242ac1c0002\"] = google.colab.output.setActiveOutputArea(window[\"244e0d5e-0a08-11eb-a366-0242ac1c0002\"]);\n",
              "//# sourceURL=js_188ced3df1"
            ],
            "text/plain": [
              "<IPython.core.display.Javascript object>"
            ]
          },
          "metadata": {
            "tags": [
              "id32-0-0",
              "outputarea_id32"
            ]
          }
        },
        {
          "output_type": "display_data",
          "data": {
            "application/javascript": [
              "window[\"2528f658-0a08-11eb-a366-0242ac1c0002\"] = google.colab.output.getActiveOutputArea();\n",
              "//# sourceURL=js_329aa87ac2"
            ],
            "text/plain": [
              "<IPython.core.display.Javascript object>"
            ]
          },
          "metadata": {
            "tags": [
              "id32-0-0",
              "outputarea_id32"
            ]
          }
        },
        {
          "output_type": "display_data",
          "data": {
            "application/javascript": [
              "window[\"25294e8c-0a08-11eb-a366-0242ac1c0002\"] = document.querySelector(\"#id32-0-0\");\n",
              "//# sourceURL=js_ca69a512c3"
            ],
            "text/plain": [
              "<IPython.core.display.Javascript object>"
            ]
          },
          "metadata": {
            "tags": [
              "id32-0-0",
              "outputarea_id32"
            ]
          }
        },
        {
          "output_type": "display_data",
          "data": {
            "application/javascript": [
              "window[\"2529b778-0a08-11eb-a366-0242ac1c0002\"] = google.colab.output.setActiveOutputArea(window[\"25294e8c-0a08-11eb-a366-0242ac1c0002\"]);\n",
              "//# sourceURL=js_b52d12e2cb"
            ],
            "text/plain": [
              "<IPython.core.display.Javascript object>"
            ]
          },
          "metadata": {
            "tags": [
              "id32-0-0",
              "outputarea_id32"
            ]
          }
        },
        {
          "output_type": "display_data",
          "data": {
            "application/javascript": [
              "window[\"2542ab52-0a08-11eb-a366-0242ac1c0002\"] = google.colab.output.setActiveOutputArea(window[\"2528f658-0a08-11eb-a366-0242ac1c0002\"]);\n",
              "//# sourceURL=js_bb671a94e6"
            ],
            "text/plain": [
              "<IPython.core.display.Javascript object>"
            ]
          },
          "metadata": {
            "tags": [
              "id32-0-0",
              "outputarea_id32"
            ]
          }
        },
        {
          "output_type": "display_data",
          "data": {
            "application/javascript": [
              "window[\"25fbdcbc-0a08-11eb-a366-0242ac1c0002\"] = google.colab.output.getActiveOutputArea();\n",
              "//# sourceURL=js_a566348815"
            ],
            "text/plain": [
              "<IPython.core.display.Javascript object>"
            ]
          },
          "metadata": {
            "tags": [
              "id32-0-0",
              "outputarea_id32"
            ]
          }
        },
        {
          "output_type": "display_data",
          "data": {
            "application/javascript": [
              "window[\"25fc3806-0a08-11eb-a366-0242ac1c0002\"] = document.querySelector(\"#id32-0-0\");\n",
              "//# sourceURL=js_edac5623b6"
            ],
            "text/plain": [
              "<IPython.core.display.Javascript object>"
            ]
          },
          "metadata": {
            "tags": [
              "id32-0-0",
              "outputarea_id32"
            ]
          }
        },
        {
          "output_type": "display_data",
          "data": {
            "application/javascript": [
              "window[\"25fc6826-0a08-11eb-a366-0242ac1c0002\"] = google.colab.output.setActiveOutputArea(window[\"25fc3806-0a08-11eb-a366-0242ac1c0002\"]);\n",
              "//# sourceURL=js_dd725f2dc1"
            ],
            "text/plain": [
              "<IPython.core.display.Javascript object>"
            ]
          },
          "metadata": {
            "tags": [
              "id32-0-0",
              "outputarea_id32"
            ]
          }
        },
        {
          "output_type": "display_data",
          "data": {
            "application/javascript": [
              "window[\"2616daf8-0a08-11eb-a366-0242ac1c0002\"] = google.colab.output.setActiveOutputArea(window[\"25fbdcbc-0a08-11eb-a366-0242ac1c0002\"]);\n",
              "//# sourceURL=js_c89dc71063"
            ],
            "text/plain": [
              "<IPython.core.display.Javascript object>"
            ]
          },
          "metadata": {
            "tags": [
              "id32-0-0",
              "outputarea_id32"
            ]
          }
        },
        {
          "output_type": "display_data",
          "data": {
            "application/javascript": [
              "window[\"26e06f94-0a08-11eb-a366-0242ac1c0002\"] = google.colab.output.getActiveOutputArea();\n",
              "//# sourceURL=js_7395117c41"
            ],
            "text/plain": [
              "<IPython.core.display.Javascript object>"
            ]
          },
          "metadata": {
            "tags": [
              "id32-0-0",
              "outputarea_id32"
            ]
          }
        },
        {
          "output_type": "display_data",
          "data": {
            "application/javascript": [
              "window[\"26e0ca34-0a08-11eb-a366-0242ac1c0002\"] = document.querySelector(\"#id32-0-0\");\n",
              "//# sourceURL=js_280bf88076"
            ],
            "text/plain": [
              "<IPython.core.display.Javascript object>"
            ]
          },
          "metadata": {
            "tags": [
              "id32-0-0",
              "outputarea_id32"
            ]
          }
        },
        {
          "output_type": "display_data",
          "data": {
            "application/javascript": [
              "window[\"26e101f2-0a08-11eb-a366-0242ac1c0002\"] = google.colab.output.setActiveOutputArea(window[\"26e0ca34-0a08-11eb-a366-0242ac1c0002\"]);\n",
              "//# sourceURL=js_850a1d03e3"
            ],
            "text/plain": [
              "<IPython.core.display.Javascript object>"
            ]
          },
          "metadata": {
            "tags": [
              "id32-0-0",
              "outputarea_id32"
            ]
          }
        },
        {
          "output_type": "display_data",
          "data": {
            "application/javascript": [
              "window[\"26fc1b54-0a08-11eb-a366-0242ac1c0002\"] = google.colab.output.setActiveOutputArea(window[\"26e06f94-0a08-11eb-a366-0242ac1c0002\"]);\n",
              "//# sourceURL=js_b71df0d729"
            ],
            "text/plain": [
              "<IPython.core.display.Javascript object>"
            ]
          },
          "metadata": {
            "tags": [
              "id32-0-0",
              "outputarea_id32"
            ]
          }
        },
        {
          "output_type": "display_data",
          "data": {
            "application/javascript": [
              "window[\"27c5c742-0a08-11eb-a366-0242ac1c0002\"] = google.colab.output.getActiveOutputArea();\n",
              "//# sourceURL=js_24781a32cc"
            ],
            "text/plain": [
              "<IPython.core.display.Javascript object>"
            ]
          },
          "metadata": {
            "tags": [
              "id32-0-0",
              "outputarea_id32"
            ]
          }
        },
        {
          "output_type": "display_data",
          "data": {
            "application/javascript": [
              "window[\"27c62372-0a08-11eb-a366-0242ac1c0002\"] = document.querySelector(\"#id32-0-0\");\n",
              "//# sourceURL=js_6bb1c047f5"
            ],
            "text/plain": [
              "<IPython.core.display.Javascript object>"
            ]
          },
          "metadata": {
            "tags": [
              "id32-0-0",
              "outputarea_id32"
            ]
          }
        },
        {
          "output_type": "display_data",
          "data": {
            "application/javascript": [
              "window[\"27c65694-0a08-11eb-a366-0242ac1c0002\"] = google.colab.output.setActiveOutputArea(window[\"27c62372-0a08-11eb-a366-0242ac1c0002\"]);\n",
              "//# sourceURL=js_4ece547de0"
            ],
            "text/plain": [
              "<IPython.core.display.Javascript object>"
            ]
          },
          "metadata": {
            "tags": [
              "id32-0-0",
              "outputarea_id32"
            ]
          }
        },
        {
          "output_type": "display_data",
          "data": {
            "application/javascript": [
              "window[\"27e3b6e4-0a08-11eb-a366-0242ac1c0002\"] = google.colab.output.setActiveOutputArea(window[\"27c5c742-0a08-11eb-a366-0242ac1c0002\"]);\n",
              "//# sourceURL=js_3fb44c6741"
            ],
            "text/plain": [
              "<IPython.core.display.Javascript object>"
            ]
          },
          "metadata": {
            "tags": [
              "id32-0-0",
              "outputarea_id32"
            ]
          }
        },
        {
          "output_type": "display_data",
          "data": {
            "application/javascript": [
              "window[\"289a4cb0-0a08-11eb-a366-0242ac1c0002\"] = google.colab.output.getActiveOutputArea();\n",
              "//# sourceURL=js_d6760ce9ae"
            ],
            "text/plain": [
              "<IPython.core.display.Javascript object>"
            ]
          },
          "metadata": {
            "tags": [
              "id32-0-0",
              "outputarea_id32"
            ]
          }
        },
        {
          "output_type": "display_data",
          "data": {
            "application/javascript": [
              "window[\"289aa584-0a08-11eb-a366-0242ac1c0002\"] = document.querySelector(\"#id32-0-0\");\n",
              "//# sourceURL=js_ab6218ac8b"
            ],
            "text/plain": [
              "<IPython.core.display.Javascript object>"
            ]
          },
          "metadata": {
            "tags": [
              "id32-0-0",
              "outputarea_id32"
            ]
          }
        },
        {
          "output_type": "display_data",
          "data": {
            "application/javascript": [
              "window[\"289adf7c-0a08-11eb-a366-0242ac1c0002\"] = google.colab.output.setActiveOutputArea(window[\"289aa584-0a08-11eb-a366-0242ac1c0002\"]);\n",
              "//# sourceURL=js_27467ed437"
            ],
            "text/plain": [
              "<IPython.core.display.Javascript object>"
            ]
          },
          "metadata": {
            "tags": [
              "id32-0-0",
              "outputarea_id32"
            ]
          }
        },
        {
          "output_type": "display_data",
          "data": {
            "application/javascript": [
              "window[\"28b4b9f6-0a08-11eb-a366-0242ac1c0002\"] = google.colab.output.setActiveOutputArea(window[\"289a4cb0-0a08-11eb-a366-0242ac1c0002\"]);\n",
              "//# sourceURL=js_6e44af77d5"
            ],
            "text/plain": [
              "<IPython.core.display.Javascript object>"
            ]
          },
          "metadata": {
            "tags": [
              "id32-0-0",
              "outputarea_id32"
            ]
          }
        },
        {
          "output_type": "display_data",
          "data": {
            "application/javascript": [
              "window[\"2990cc02-0a08-11eb-a366-0242ac1c0002\"] = google.colab.output.getActiveOutputArea();\n",
              "//# sourceURL=js_1fa8739dc5"
            ],
            "text/plain": [
              "<IPython.core.display.Javascript object>"
            ]
          },
          "metadata": {
            "tags": [
              "id32-0-0",
              "outputarea_id32"
            ]
          }
        },
        {
          "output_type": "display_data",
          "data": {
            "application/javascript": [
              "window[\"29917418-0a08-11eb-a366-0242ac1c0002\"] = document.querySelector(\"#id32-0-0\");\n",
              "//# sourceURL=js_42ee8cc8b6"
            ],
            "text/plain": [
              "<IPython.core.display.Javascript object>"
            ]
          },
          "metadata": {
            "tags": [
              "id32-0-0",
              "outputarea_id32"
            ]
          }
        },
        {
          "output_type": "display_data",
          "data": {
            "application/javascript": [
              "window[\"2991deb2-0a08-11eb-a366-0242ac1c0002\"] = google.colab.output.setActiveOutputArea(window[\"29917418-0a08-11eb-a366-0242ac1c0002\"]);\n",
              "//# sourceURL=js_d7068466c6"
            ],
            "text/plain": [
              "<IPython.core.display.Javascript object>"
            ]
          },
          "metadata": {
            "tags": [
              "id32-0-0",
              "outputarea_id32"
            ]
          }
        },
        {
          "output_type": "display_data",
          "data": {
            "application/javascript": [
              "window[\"29af113a-0a08-11eb-a366-0242ac1c0002\"] = google.colab.output.setActiveOutputArea(window[\"2990cc02-0a08-11eb-a366-0242ac1c0002\"]);\n",
              "//# sourceURL=js_e2ce9b5dbd"
            ],
            "text/plain": [
              "<IPython.core.display.Javascript object>"
            ]
          },
          "metadata": {
            "tags": [
              "id32-0-0",
              "outputarea_id32"
            ]
          }
        },
        {
          "output_type": "display_data",
          "data": {
            "application/javascript": [
              "window[\"2a685bea-0a08-11eb-a366-0242ac1c0002\"] = google.colab.output.getActiveOutputArea();\n",
              "//# sourceURL=js_71a79999d3"
            ],
            "text/plain": [
              "<IPython.core.display.Javascript object>"
            ]
          },
          "metadata": {
            "tags": [
              "id32-0-0",
              "outputarea_id32"
            ]
          }
        },
        {
          "output_type": "display_data",
          "data": {
            "application/javascript": [
              "window[\"2a68b428-0a08-11eb-a366-0242ac1c0002\"] = document.querySelector(\"#id32-0-0\");\n",
              "//# sourceURL=js_7fa7d9e2e5"
            ],
            "text/plain": [
              "<IPython.core.display.Javascript object>"
            ]
          },
          "metadata": {
            "tags": [
              "id32-0-0",
              "outputarea_id32"
            ]
          }
        },
        {
          "output_type": "display_data",
          "data": {
            "application/javascript": [
              "window[\"2a68e9ca-0a08-11eb-a366-0242ac1c0002\"] = google.colab.output.setActiveOutputArea(window[\"2a68b428-0a08-11eb-a366-0242ac1c0002\"]);\n",
              "//# sourceURL=js_39d259343f"
            ],
            "text/plain": [
              "<IPython.core.display.Javascript object>"
            ]
          },
          "metadata": {
            "tags": [
              "id32-0-0",
              "outputarea_id32"
            ]
          }
        },
        {
          "output_type": "display_data",
          "data": {
            "application/javascript": [
              "window[\"2a82e69a-0a08-11eb-a366-0242ac1c0002\"] = google.colab.output.setActiveOutputArea(window[\"2a685bea-0a08-11eb-a366-0242ac1c0002\"]);\n",
              "//# sourceURL=js_7304a997dd"
            ],
            "text/plain": [
              "<IPython.core.display.Javascript object>"
            ]
          },
          "metadata": {
            "tags": [
              "id32-0-0",
              "outputarea_id32"
            ]
          }
        },
        {
          "output_type": "display_data",
          "data": {
            "application/javascript": [
              "window[\"2b3c0300-0a08-11eb-a366-0242ac1c0002\"] = google.colab.output.getActiveOutputArea();\n",
              "//# sourceURL=js_1f8cccbf4e"
            ],
            "text/plain": [
              "<IPython.core.display.Javascript object>"
            ]
          },
          "metadata": {
            "tags": [
              "id32-0-0",
              "outputarea_id32"
            ]
          }
        },
        {
          "output_type": "display_data",
          "data": {
            "application/javascript": [
              "window[\"2b3c84e2-0a08-11eb-a366-0242ac1c0002\"] = document.querySelector(\"#id32-0-0\");\n",
              "//# sourceURL=js_034515abe4"
            ],
            "text/plain": [
              "<IPython.core.display.Javascript object>"
            ]
          },
          "metadata": {
            "tags": [
              "id32-0-0",
              "outputarea_id32"
            ]
          }
        },
        {
          "output_type": "display_data",
          "data": {
            "application/javascript": [
              "window[\"2b3d3036-0a08-11eb-a366-0242ac1c0002\"] = google.colab.output.setActiveOutputArea(window[\"2b3c84e2-0a08-11eb-a366-0242ac1c0002\"]);\n",
              "//# sourceURL=js_8f4b203161"
            ],
            "text/plain": [
              "<IPython.core.display.Javascript object>"
            ]
          },
          "metadata": {
            "tags": [
              "id32-0-0",
              "outputarea_id32"
            ]
          }
        },
        {
          "output_type": "display_data",
          "data": {
            "application/javascript": [
              "window[\"2b561236-0a08-11eb-a366-0242ac1c0002\"] = google.colab.output.setActiveOutputArea(window[\"2b3c0300-0a08-11eb-a366-0242ac1c0002\"]);\n",
              "//# sourceURL=js_75e29e0989"
            ],
            "text/plain": [
              "<IPython.core.display.Javascript object>"
            ]
          },
          "metadata": {
            "tags": [
              "id32-0-0",
              "outputarea_id32"
            ]
          }
        },
        {
          "output_type": "display_data",
          "data": {
            "application/javascript": [
              "window[\"2c2115bc-0a08-11eb-a366-0242ac1c0002\"] = google.colab.output.getActiveOutputArea();\n",
              "//# sourceURL=js_7c2ed2c7b4"
            ],
            "text/plain": [
              "<IPython.core.display.Javascript object>"
            ]
          },
          "metadata": {
            "tags": [
              "id32-0-0",
              "outputarea_id32"
            ]
          }
        },
        {
          "output_type": "display_data",
          "data": {
            "application/javascript": [
              "window[\"2c21915e-0a08-11eb-a366-0242ac1c0002\"] = document.querySelector(\"#id32-0-0\");\n",
              "//# sourceURL=js_c99b4c4de0"
            ],
            "text/plain": [
              "<IPython.core.display.Javascript object>"
            ]
          },
          "metadata": {
            "tags": [
              "id32-0-0",
              "outputarea_id32"
            ]
          }
        },
        {
          "output_type": "display_data",
          "data": {
            "application/javascript": [
              "window[\"2c227006-0a08-11eb-a366-0242ac1c0002\"] = google.colab.output.setActiveOutputArea(window[\"2c21915e-0a08-11eb-a366-0242ac1c0002\"]);\n",
              "//# sourceURL=js_eaea1e06da"
            ],
            "text/plain": [
              "<IPython.core.display.Javascript object>"
            ]
          },
          "metadata": {
            "tags": [
              "id32-0-0",
              "outputarea_id32"
            ]
          }
        },
        {
          "output_type": "display_data",
          "data": {
            "application/javascript": [
              "window[\"2c3c57e6-0a08-11eb-a366-0242ac1c0002\"] = google.colab.output.setActiveOutputArea(window[\"2c2115bc-0a08-11eb-a366-0242ac1c0002\"]);\n",
              "//# sourceURL=js_6c3500a6f3"
            ],
            "text/plain": [
              "<IPython.core.display.Javascript object>"
            ]
          },
          "metadata": {
            "tags": [
              "id32-0-0",
              "outputarea_id32"
            ]
          }
        },
        {
          "output_type": "display_data",
          "data": {
            "application/javascript": [
              "window[\"2d00f59c-0a08-11eb-a366-0242ac1c0002\"] = google.colab.output.getActiveOutputArea();\n",
              "//# sourceURL=js_a9ce4a7d08"
            ],
            "text/plain": [
              "<IPython.core.display.Javascript object>"
            ]
          },
          "metadata": {
            "tags": [
              "id32-0-0",
              "outputarea_id32"
            ]
          }
        },
        {
          "output_type": "display_data",
          "data": {
            "application/javascript": [
              "window[\"2d015bc2-0a08-11eb-a366-0242ac1c0002\"] = document.querySelector(\"#id32-0-0\");\n",
              "//# sourceURL=js_a71d1b2e7d"
            ],
            "text/plain": [
              "<IPython.core.display.Javascript object>"
            ]
          },
          "metadata": {
            "tags": [
              "id32-0-0",
              "outputarea_id32"
            ]
          }
        },
        {
          "output_type": "display_data",
          "data": {
            "application/javascript": [
              "window[\"2d01a5be-0a08-11eb-a366-0242ac1c0002\"] = google.colab.output.setActiveOutputArea(window[\"2d015bc2-0a08-11eb-a366-0242ac1c0002\"]);\n",
              "//# sourceURL=js_b93753a6e4"
            ],
            "text/plain": [
              "<IPython.core.display.Javascript object>"
            ]
          },
          "metadata": {
            "tags": [
              "id32-0-0",
              "outputarea_id32"
            ]
          }
        },
        {
          "output_type": "display_data",
          "data": {
            "application/javascript": [
              "window[\"2d1dae76-0a08-11eb-a366-0242ac1c0002\"] = google.colab.output.setActiveOutputArea(window[\"2d00f59c-0a08-11eb-a366-0242ac1c0002\"]);\n",
              "//# sourceURL=js_af7a95286a"
            ],
            "text/plain": [
              "<IPython.core.display.Javascript object>"
            ]
          },
          "metadata": {
            "tags": [
              "id32-0-0",
              "outputarea_id32"
            ]
          }
        },
        {
          "output_type": "display_data",
          "data": {
            "application/javascript": [
              "window[\"2dd899e8-0a08-11eb-a366-0242ac1c0002\"] = google.colab.output.getActiveOutputArea();\n",
              "//# sourceURL=js_2ad7a0433f"
            ],
            "text/plain": [
              "<IPython.core.display.Javascript object>"
            ]
          },
          "metadata": {
            "tags": [
              "id32-0-0",
              "outputarea_id32"
            ]
          }
        },
        {
          "output_type": "display_data",
          "data": {
            "application/javascript": [
              "window[\"2dd91b02-0a08-11eb-a366-0242ac1c0002\"] = document.querySelector(\"#id32-0-0\");\n",
              "//# sourceURL=js_4fce4be7e2"
            ],
            "text/plain": [
              "<IPython.core.display.Javascript object>"
            ]
          },
          "metadata": {
            "tags": [
              "id32-0-0",
              "outputarea_id32"
            ]
          }
        },
        {
          "output_type": "display_data",
          "data": {
            "application/javascript": [
              "window[\"2dd95130-0a08-11eb-a366-0242ac1c0002\"] = google.colab.output.setActiveOutputArea(window[\"2dd91b02-0a08-11eb-a366-0242ac1c0002\"]);\n",
              "//# sourceURL=js_bd5407355f"
            ],
            "text/plain": [
              "<IPython.core.display.Javascript object>"
            ]
          },
          "metadata": {
            "tags": [
              "id32-0-0",
              "outputarea_id32"
            ]
          }
        },
        {
          "output_type": "display_data",
          "data": {
            "application/javascript": [
              "window[\"2df3f864-0a08-11eb-a366-0242ac1c0002\"] = google.colab.output.setActiveOutputArea(window[\"2dd899e8-0a08-11eb-a366-0242ac1c0002\"]);\n",
              "//# sourceURL=js_75be9de6c6"
            ],
            "text/plain": [
              "<IPython.core.display.Javascript object>"
            ]
          },
          "metadata": {
            "tags": [
              "id32-0-0",
              "outputarea_id32"
            ]
          }
        },
        {
          "output_type": "display_data",
          "data": {
            "application/javascript": [
              "window[\"2eb9652c-0a08-11eb-a366-0242ac1c0002\"] = google.colab.output.getActiveOutputArea();\n",
              "//# sourceURL=js_0244118114"
            ],
            "text/plain": [
              "<IPython.core.display.Javascript object>"
            ]
          },
          "metadata": {
            "tags": [
              "id32-0-0",
              "outputarea_id32"
            ]
          }
        },
        {
          "output_type": "display_data",
          "data": {
            "application/javascript": [
              "window[\"2eb9ae4c-0a08-11eb-a366-0242ac1c0002\"] = document.querySelector(\"#id32-0-0\");\n",
              "//# sourceURL=js_fff6eed263"
            ],
            "text/plain": [
              "<IPython.core.display.Javascript object>"
            ]
          },
          "metadata": {
            "tags": [
              "id32-0-0",
              "outputarea_id32"
            ]
          }
        },
        {
          "output_type": "display_data",
          "data": {
            "application/javascript": [
              "window[\"2eb9ed08-0a08-11eb-a366-0242ac1c0002\"] = google.colab.output.setActiveOutputArea(window[\"2eb9ae4c-0a08-11eb-a366-0242ac1c0002\"]);\n",
              "//# sourceURL=js_0b356447dd"
            ],
            "text/plain": [
              "<IPython.core.display.Javascript object>"
            ]
          },
          "metadata": {
            "tags": [
              "id32-0-0",
              "outputarea_id32"
            ]
          }
        },
        {
          "output_type": "display_data",
          "data": {
            "application/javascript": [
              "window[\"2ed5a4c6-0a08-11eb-a366-0242ac1c0002\"] = google.colab.output.setActiveOutputArea(window[\"2eb9652c-0a08-11eb-a366-0242ac1c0002\"]);\n",
              "//# sourceURL=js_8e4eb2c3e2"
            ],
            "text/plain": [
              "<IPython.core.display.Javascript object>"
            ]
          },
          "metadata": {
            "tags": [
              "id32-0-0",
              "outputarea_id32"
            ]
          }
        },
        {
          "output_type": "display_data",
          "data": {
            "application/javascript": [
              "window[\"2f8a9552-0a08-11eb-a366-0242ac1c0002\"] = google.colab.output.getActiveOutputArea();\n",
              "//# sourceURL=js_236b78fc3c"
            ],
            "text/plain": [
              "<IPython.core.display.Javascript object>"
            ]
          },
          "metadata": {
            "tags": [
              "id32-0-0",
              "outputarea_id32"
            ]
          }
        },
        {
          "output_type": "display_data",
          "data": {
            "application/javascript": [
              "window[\"2f8b3200-0a08-11eb-a366-0242ac1c0002\"] = document.querySelector(\"#id32-0-0\");\n",
              "//# sourceURL=js_0d8fa4a1a0"
            ],
            "text/plain": [
              "<IPython.core.display.Javascript object>"
            ]
          },
          "metadata": {
            "tags": [
              "id32-0-0",
              "outputarea_id32"
            ]
          }
        },
        {
          "output_type": "display_data",
          "data": {
            "application/javascript": [
              "window[\"2f8bdb56-0a08-11eb-a366-0242ac1c0002\"] = google.colab.output.setActiveOutputArea(window[\"2f8b3200-0a08-11eb-a366-0242ac1c0002\"]);\n",
              "//# sourceURL=js_fc55445362"
            ],
            "text/plain": [
              "<IPython.core.display.Javascript object>"
            ]
          },
          "metadata": {
            "tags": [
              "id32-0-0",
              "outputarea_id32"
            ]
          }
        },
        {
          "output_type": "display_data",
          "data": {
            "application/javascript": [
              "window[\"2fa618e0-0a08-11eb-a366-0242ac1c0002\"] = google.colab.output.setActiveOutputArea(window[\"2f8a9552-0a08-11eb-a366-0242ac1c0002\"]);\n",
              "//# sourceURL=js_9f0904a69e"
            ],
            "text/plain": [
              "<IPython.core.display.Javascript object>"
            ]
          },
          "metadata": {
            "tags": [
              "id32-0-0",
              "outputarea_id32"
            ]
          }
        },
        {
          "output_type": "display_data",
          "data": {
            "application/javascript": [
              "window[\"306b79be-0a08-11eb-a366-0242ac1c0002\"] = google.colab.output.getActiveOutputArea();\n",
              "//# sourceURL=js_6bc9a2ecea"
            ],
            "text/plain": [
              "<IPython.core.display.Javascript object>"
            ]
          },
          "metadata": {
            "tags": [
              "id32-0-0",
              "outputarea_id32"
            ]
          }
        },
        {
          "output_type": "display_data",
          "data": {
            "application/javascript": [
              "window[\"306bdbca-0a08-11eb-a366-0242ac1c0002\"] = document.querySelector(\"#id32-0-0\");\n",
              "//# sourceURL=js_8d4ab6ad00"
            ],
            "text/plain": [
              "<IPython.core.display.Javascript object>"
            ]
          },
          "metadata": {
            "tags": [
              "id32-0-0",
              "outputarea_id32"
            ]
          }
        },
        {
          "output_type": "display_data",
          "data": {
            "application/javascript": [
              "window[\"306c2882-0a08-11eb-a366-0242ac1c0002\"] = google.colab.output.setActiveOutputArea(window[\"306bdbca-0a08-11eb-a366-0242ac1c0002\"]);\n",
              "//# sourceURL=js_b21fb4d702"
            ],
            "text/plain": [
              "<IPython.core.display.Javascript object>"
            ]
          },
          "metadata": {
            "tags": [
              "id32-0-0",
              "outputarea_id32"
            ]
          }
        },
        {
          "output_type": "display_data",
          "data": {
            "application/javascript": [
              "window[\"30867ade-0a08-11eb-a366-0242ac1c0002\"] = google.colab.output.setActiveOutputArea(window[\"306b79be-0a08-11eb-a366-0242ac1c0002\"]);\n",
              "//# sourceURL=js_9407c6752c"
            ],
            "text/plain": [
              "<IPython.core.display.Javascript object>"
            ]
          },
          "metadata": {
            "tags": [
              "id32-0-0",
              "outputarea_id32"
            ]
          }
        },
        {
          "output_type": "display_data",
          "data": {
            "application/javascript": [
              "window[\"3141274e-0a08-11eb-a366-0242ac1c0002\"] = google.colab.output.getActiveOutputArea();\n",
              "//# sourceURL=js_0195f1332b"
            ],
            "text/plain": [
              "<IPython.core.display.Javascript object>"
            ]
          },
          "metadata": {
            "tags": [
              "id32-0-0",
              "outputarea_id32"
            ]
          }
        },
        {
          "output_type": "display_data",
          "data": {
            "application/javascript": [
              "window[\"31417d66-0a08-11eb-a366-0242ac1c0002\"] = document.querySelector(\"#id32-0-0\");\n",
              "//# sourceURL=js_26dd77fa34"
            ],
            "text/plain": [
              "<IPython.core.display.Javascript object>"
            ]
          },
          "metadata": {
            "tags": [
              "id32-0-0",
              "outputarea_id32"
            ]
          }
        },
        {
          "output_type": "display_data",
          "data": {
            "application/javascript": [
              "window[\"3141b89e-0a08-11eb-a366-0242ac1c0002\"] = google.colab.output.setActiveOutputArea(window[\"31417d66-0a08-11eb-a366-0242ac1c0002\"]);\n",
              "//# sourceURL=js_f50d20b644"
            ],
            "text/plain": [
              "<IPython.core.display.Javascript object>"
            ]
          },
          "metadata": {
            "tags": [
              "id32-0-0",
              "outputarea_id32"
            ]
          }
        },
        {
          "output_type": "display_data",
          "data": {
            "application/javascript": [
              "window[\"315b2f68-0a08-11eb-a366-0242ac1c0002\"] = google.colab.output.setActiveOutputArea(window[\"3141274e-0a08-11eb-a366-0242ac1c0002\"]);\n",
              "//# sourceURL=js_d28162a06b"
            ],
            "text/plain": [
              "<IPython.core.display.Javascript object>"
            ]
          },
          "metadata": {
            "tags": [
              "id32-0-0",
              "outputarea_id32"
            ]
          }
        },
        {
          "output_type": "display_data",
          "data": {
            "application/javascript": [
              "window[\"3211c2b4-0a08-11eb-a366-0242ac1c0002\"] = google.colab.output.getActiveOutputArea();\n",
              "//# sourceURL=js_2aa020a737"
            ],
            "text/plain": [
              "<IPython.core.display.Javascript object>"
            ]
          },
          "metadata": {
            "tags": [
              "id32-0-0",
              "outputarea_id32"
            ]
          }
        },
        {
          "output_type": "display_data",
          "data": {
            "application/javascript": [
              "window[\"32125256-0a08-11eb-a366-0242ac1c0002\"] = document.querySelector(\"#id32-0-0\");\n",
              "//# sourceURL=js_0e48177add"
            ],
            "text/plain": [
              "<IPython.core.display.Javascript object>"
            ]
          },
          "metadata": {
            "tags": [
              "id32-0-0",
              "outputarea_id32"
            ]
          }
        },
        {
          "output_type": "display_data",
          "data": {
            "application/javascript": [
              "window[\"3212fef4-0a08-11eb-a366-0242ac1c0002\"] = google.colab.output.setActiveOutputArea(window[\"32125256-0a08-11eb-a366-0242ac1c0002\"]);\n",
              "//# sourceURL=js_c0a5c65eab"
            ],
            "text/plain": [
              "<IPython.core.display.Javascript object>"
            ]
          },
          "metadata": {
            "tags": [
              "id32-0-0",
              "outputarea_id32"
            ]
          }
        },
        {
          "output_type": "display_data",
          "data": {
            "application/javascript": [
              "window[\"322d5d4e-0a08-11eb-a366-0242ac1c0002\"] = google.colab.output.setActiveOutputArea(window[\"3211c2b4-0a08-11eb-a366-0242ac1c0002\"]);\n",
              "//# sourceURL=js_d2e2cc1dd5"
            ],
            "text/plain": [
              "<IPython.core.display.Javascript object>"
            ]
          },
          "metadata": {
            "tags": [
              "id32-0-0",
              "outputarea_id32"
            ]
          }
        },
        {
          "output_type": "display_data",
          "data": {
            "application/javascript": [
              "window[\"32f50a60-0a08-11eb-a366-0242ac1c0002\"] = google.colab.output.getActiveOutputArea();\n",
              "//# sourceURL=js_8875ccc28c"
            ],
            "text/plain": [
              "<IPython.core.display.Javascript object>"
            ]
          },
          "metadata": {
            "tags": [
              "id32-0-0",
              "outputarea_id32"
            ]
          }
        },
        {
          "output_type": "display_data",
          "data": {
            "application/javascript": [
              "window[\"32f58404-0a08-11eb-a366-0242ac1c0002\"] = document.querySelector(\"#id32-0-0\");\n",
              "//# sourceURL=js_1b6120bddd"
            ],
            "text/plain": [
              "<IPython.core.display.Javascript object>"
            ]
          },
          "metadata": {
            "tags": [
              "id32-0-0",
              "outputarea_id32"
            ]
          }
        },
        {
          "output_type": "display_data",
          "data": {
            "application/javascript": [
              "window[\"32f631d8-0a08-11eb-a366-0242ac1c0002\"] = google.colab.output.setActiveOutputArea(window[\"32f58404-0a08-11eb-a366-0242ac1c0002\"]);\n",
              "//# sourceURL=js_ae881ce653"
            ],
            "text/plain": [
              "<IPython.core.display.Javascript object>"
            ]
          },
          "metadata": {
            "tags": [
              "id32-0-0",
              "outputarea_id32"
            ]
          }
        },
        {
          "output_type": "display_data",
          "data": {
            "application/javascript": [
              "window[\"33119e0a-0a08-11eb-a366-0242ac1c0002\"] = google.colab.output.setActiveOutputArea(window[\"32f50a60-0a08-11eb-a366-0242ac1c0002\"]);\n",
              "//# sourceURL=js_02c5eca073"
            ],
            "text/plain": [
              "<IPython.core.display.Javascript object>"
            ]
          },
          "metadata": {
            "tags": [
              "id32-0-0",
              "outputarea_id32"
            ]
          }
        },
        {
          "output_type": "display_data",
          "data": {
            "application/javascript": [
              "window[\"33cecf66-0a08-11eb-a366-0242ac1c0002\"] = google.colab.output.getActiveOutputArea();\n",
              "//# sourceURL=js_b34c22fe9e"
            ],
            "text/plain": [
              "<IPython.core.display.Javascript object>"
            ]
          },
          "metadata": {
            "tags": [
              "id32-0-0",
              "outputarea_id32"
            ]
          }
        },
        {
          "output_type": "display_data",
          "data": {
            "application/javascript": [
              "window[\"33cf4e8c-0a08-11eb-a366-0242ac1c0002\"] = document.querySelector(\"#id32-0-0\");\n",
              "//# sourceURL=js_8228ad9e93"
            ],
            "text/plain": [
              "<IPython.core.display.Javascript object>"
            ]
          },
          "metadata": {
            "tags": [
              "id32-0-0",
              "outputarea_id32"
            ]
          }
        },
        {
          "output_type": "display_data",
          "data": {
            "application/javascript": [
              "window[\"33cf92c0-0a08-11eb-a366-0242ac1c0002\"] = google.colab.output.setActiveOutputArea(window[\"33cf4e8c-0a08-11eb-a366-0242ac1c0002\"]);\n",
              "//# sourceURL=js_49dd1be323"
            ],
            "text/plain": [
              "<IPython.core.display.Javascript object>"
            ]
          },
          "metadata": {
            "tags": [
              "id32-0-0",
              "outputarea_id32"
            ]
          }
        },
        {
          "output_type": "display_data",
          "data": {
            "application/javascript": [
              "window[\"33e8f314-0a08-11eb-a366-0242ac1c0002\"] = google.colab.output.setActiveOutputArea(window[\"33cecf66-0a08-11eb-a366-0242ac1c0002\"]);\n",
              "//# sourceURL=js_92b6a4fdc0"
            ],
            "text/plain": [
              "<IPython.core.display.Javascript object>"
            ]
          },
          "metadata": {
            "tags": [
              "id32-0-0",
              "outputarea_id32"
            ]
          }
        },
        {
          "output_type": "display_data",
          "data": {
            "application/javascript": [
              "window[\"34a84c8c-0a08-11eb-a366-0242ac1c0002\"] = google.colab.output.getActiveOutputArea();\n",
              "//# sourceURL=js_9f04a24da2"
            ],
            "text/plain": [
              "<IPython.core.display.Javascript object>"
            ]
          },
          "metadata": {
            "tags": [
              "id32-0-0",
              "outputarea_id32"
            ]
          }
        },
        {
          "output_type": "display_data",
          "data": {
            "application/javascript": [
              "window[\"34a8bdb6-0a08-11eb-a366-0242ac1c0002\"] = document.querySelector(\"#id32-0-0\");\n",
              "//# sourceURL=js_cfb2fe9233"
            ],
            "text/plain": [
              "<IPython.core.display.Javascript object>"
            ]
          },
          "metadata": {
            "tags": [
              "id32-0-0",
              "outputarea_id32"
            ]
          }
        },
        {
          "output_type": "display_data",
          "data": {
            "application/javascript": [
              "window[\"34a916f8-0a08-11eb-a366-0242ac1c0002\"] = google.colab.output.setActiveOutputArea(window[\"34a8bdb6-0a08-11eb-a366-0242ac1c0002\"]);\n",
              "//# sourceURL=js_57db19d92e"
            ],
            "text/plain": [
              "<IPython.core.display.Javascript object>"
            ]
          },
          "metadata": {
            "tags": [
              "id32-0-0",
              "outputarea_id32"
            ]
          }
        },
        {
          "output_type": "display_data",
          "data": {
            "application/javascript": [
              "window[\"34c52780-0a08-11eb-a366-0242ac1c0002\"] = google.colab.output.setActiveOutputArea(window[\"34a84c8c-0a08-11eb-a366-0242ac1c0002\"]);\n",
              "//# sourceURL=js_94227f8b8e"
            ],
            "text/plain": [
              "<IPython.core.display.Javascript object>"
            ]
          },
          "metadata": {
            "tags": [
              "id32-0-0",
              "outputarea_id32"
            ]
          }
        },
        {
          "output_type": "display_data",
          "data": {
            "application/javascript": [
              "window[\"358054ba-0a08-11eb-a366-0242ac1c0002\"] = google.colab.output.getActiveOutputArea();\n",
              "//# sourceURL=js_6adaf0ac6e"
            ],
            "text/plain": [
              "<IPython.core.display.Javascript object>"
            ]
          },
          "metadata": {
            "tags": [
              "id32-0-0",
              "outputarea_id32"
            ]
          }
        },
        {
          "output_type": "display_data",
          "data": {
            "application/javascript": [
              "window[\"35809b6e-0a08-11eb-a366-0242ac1c0002\"] = document.querySelector(\"#id32-0-0\");\n",
              "//# sourceURL=js_ea57ed784d"
            ],
            "text/plain": [
              "<IPython.core.display.Javascript object>"
            ]
          },
          "metadata": {
            "tags": [
              "id32-0-0",
              "outputarea_id32"
            ]
          }
        },
        {
          "output_type": "display_data",
          "data": {
            "application/javascript": [
              "window[\"3580ce7c-0a08-11eb-a366-0242ac1c0002\"] = google.colab.output.setActiveOutputArea(window[\"35809b6e-0a08-11eb-a366-0242ac1c0002\"]);\n",
              "//# sourceURL=js_c0ba860aca"
            ],
            "text/plain": [
              "<IPython.core.display.Javascript object>"
            ]
          },
          "metadata": {
            "tags": [
              "id32-0-0",
              "outputarea_id32"
            ]
          }
        },
        {
          "output_type": "display_data",
          "data": {
            "application/javascript": [
              "window[\"359a8dda-0a08-11eb-a366-0242ac1c0002\"] = google.colab.output.setActiveOutputArea(window[\"358054ba-0a08-11eb-a366-0242ac1c0002\"]);\n",
              "//# sourceURL=js_0e2259c95f"
            ],
            "text/plain": [
              "<IPython.core.display.Javascript object>"
            ]
          },
          "metadata": {
            "tags": [
              "id32-0-0",
              "outputarea_id32"
            ]
          }
        },
        {
          "output_type": "display_data",
          "data": {
            "application/javascript": [
              "window[\"365515b0-0a08-11eb-a366-0242ac1c0002\"] = google.colab.output.getActiveOutputArea();\n",
              "//# sourceURL=js_9277be6d80"
            ],
            "text/plain": [
              "<IPython.core.display.Javascript object>"
            ]
          },
          "metadata": {
            "tags": [
              "id32-0-0",
              "outputarea_id32"
            ]
          }
        },
        {
          "output_type": "display_data",
          "data": {
            "application/javascript": [
              "window[\"36557fa0-0a08-11eb-a366-0242ac1c0002\"] = document.querySelector(\"#id32-0-0\");\n",
              "//# sourceURL=js_539c566dc9"
            ],
            "text/plain": [
              "<IPython.core.display.Javascript object>"
            ]
          },
          "metadata": {
            "tags": [
              "id32-0-0",
              "outputarea_id32"
            ]
          }
        },
        {
          "output_type": "display_data",
          "data": {
            "application/javascript": [
              "window[\"36561456-0a08-11eb-a366-0242ac1c0002\"] = google.colab.output.setActiveOutputArea(window[\"36557fa0-0a08-11eb-a366-0242ac1c0002\"]);\n",
              "//# sourceURL=js_15810d6d1a"
            ],
            "text/plain": [
              "<IPython.core.display.Javascript object>"
            ]
          },
          "metadata": {
            "tags": [
              "id32-0-0",
              "outputarea_id32"
            ]
          }
        },
        {
          "output_type": "display_data",
          "data": {
            "application/javascript": [
              "window[\"367334aa-0a08-11eb-a366-0242ac1c0002\"] = google.colab.output.setActiveOutputArea(window[\"365515b0-0a08-11eb-a366-0242ac1c0002\"]);\n",
              "//# sourceURL=js_3eba8904ef"
            ],
            "text/plain": [
              "<IPython.core.display.Javascript object>"
            ]
          },
          "metadata": {
            "tags": [
              "id32-0-0",
              "outputarea_id32"
            ]
          }
        },
        {
          "output_type": "display_data",
          "data": {
            "application/javascript": [
              "window[\"373274fa-0a08-11eb-a366-0242ac1c0002\"] = google.colab.output.getActiveOutputArea();\n",
              "//# sourceURL=js_c82d1ad8d7"
            ],
            "text/plain": [
              "<IPython.core.display.Javascript object>"
            ]
          },
          "metadata": {
            "tags": [
              "id32-0-0",
              "outputarea_id32"
            ]
          }
        },
        {
          "output_type": "display_data",
          "data": {
            "application/javascript": [
              "window[\"3732d670-0a08-11eb-a366-0242ac1c0002\"] = document.querySelector(\"#id32-0-0\");\n",
              "//# sourceURL=js_6a88cd3e00"
            ],
            "text/plain": [
              "<IPython.core.display.Javascript object>"
            ]
          },
          "metadata": {
            "tags": [
              "id32-0-0",
              "outputarea_id32"
            ]
          }
        },
        {
          "output_type": "display_data",
          "data": {
            "application/javascript": [
              "window[\"3733410a-0a08-11eb-a366-0242ac1c0002\"] = google.colab.output.setActiveOutputArea(window[\"3732d670-0a08-11eb-a366-0242ac1c0002\"]);\n",
              "//# sourceURL=js_d57bc7f205"
            ],
            "text/plain": [
              "<IPython.core.display.Javascript object>"
            ]
          },
          "metadata": {
            "tags": [
              "id32-0-0",
              "outputarea_id32"
            ]
          }
        },
        {
          "output_type": "display_data",
          "data": {
            "application/javascript": [
              "window[\"374c79a4-0a08-11eb-a366-0242ac1c0002\"] = google.colab.output.setActiveOutputArea(window[\"373274fa-0a08-11eb-a366-0242ac1c0002\"]);\n",
              "//# sourceURL=js_4af81de4e5"
            ],
            "text/plain": [
              "<IPython.core.display.Javascript object>"
            ]
          },
          "metadata": {
            "tags": [
              "id32-0-0",
              "outputarea_id32"
            ]
          }
        },
        {
          "output_type": "display_data",
          "data": {
            "application/javascript": [
              "window[\"3814bae0-0a08-11eb-a366-0242ac1c0002\"] = google.colab.output.getActiveOutputArea();\n",
              "//# sourceURL=js_623db4149e"
            ],
            "text/plain": [
              "<IPython.core.display.Javascript object>"
            ]
          },
          "metadata": {
            "tags": [
              "id32-0-0",
              "outputarea_id32"
            ]
          }
        },
        {
          "output_type": "display_data",
          "data": {
            "application/javascript": [
              "window[\"38155b44-0a08-11eb-a366-0242ac1c0002\"] = document.querySelector(\"#id32-0-0\");\n",
              "//# sourceURL=js_487996a116"
            ],
            "text/plain": [
              "<IPython.core.display.Javascript object>"
            ]
          },
          "metadata": {
            "tags": [
              "id32-0-0",
              "outputarea_id32"
            ]
          }
        },
        {
          "output_type": "display_data",
          "data": {
            "application/javascript": [
              "window[\"3815f554-0a08-11eb-a366-0242ac1c0002\"] = google.colab.output.setActiveOutputArea(window[\"38155b44-0a08-11eb-a366-0242ac1c0002\"]);\n",
              "//# sourceURL=js_e84cc12e9b"
            ],
            "text/plain": [
              "<IPython.core.display.Javascript object>"
            ]
          },
          "metadata": {
            "tags": [
              "id32-0-0",
              "outputarea_id32"
            ]
          }
        },
        {
          "output_type": "display_data",
          "data": {
            "application/javascript": [
              "window[\"382fb0de-0a08-11eb-a366-0242ac1c0002\"] = google.colab.output.setActiveOutputArea(window[\"3814bae0-0a08-11eb-a366-0242ac1c0002\"]);\n",
              "//# sourceURL=js_d49ac7be42"
            ],
            "text/plain": [
              "<IPython.core.display.Javascript object>"
            ]
          },
          "metadata": {
            "tags": [
              "id32-0-0",
              "outputarea_id32"
            ]
          }
        },
        {
          "output_type": "display_data",
          "data": {
            "application/javascript": [
              "window[\"38ea1852-0a08-11eb-a366-0242ac1c0002\"] = google.colab.output.getActiveOutputArea();\n",
              "//# sourceURL=js_a7bd825f62"
            ],
            "text/plain": [
              "<IPython.core.display.Javascript object>"
            ]
          },
          "metadata": {
            "tags": [
              "id32-0-0",
              "outputarea_id32"
            ]
          }
        },
        {
          "output_type": "display_data",
          "data": {
            "application/javascript": [
              "window[\"38ea99a8-0a08-11eb-a366-0242ac1c0002\"] = document.querySelector(\"#id32-0-0\");\n",
              "//# sourceURL=js_4178387021"
            ],
            "text/plain": [
              "<IPython.core.display.Javascript object>"
            ]
          },
          "metadata": {
            "tags": [
              "id32-0-0",
              "outputarea_id32"
            ]
          }
        },
        {
          "output_type": "display_data",
          "data": {
            "application/javascript": [
              "window[\"38eb0910-0a08-11eb-a366-0242ac1c0002\"] = google.colab.output.setActiveOutputArea(window[\"38ea99a8-0a08-11eb-a366-0242ac1c0002\"]);\n",
              "//# sourceURL=js_e992e00bae"
            ],
            "text/plain": [
              "<IPython.core.display.Javascript object>"
            ]
          },
          "metadata": {
            "tags": [
              "id32-0-0",
              "outputarea_id32"
            ]
          }
        },
        {
          "output_type": "display_data",
          "data": {
            "application/javascript": [
              "window[\"3905bae4-0a08-11eb-a366-0242ac1c0002\"] = google.colab.output.setActiveOutputArea(window[\"38ea1852-0a08-11eb-a366-0242ac1c0002\"]);\n",
              "//# sourceURL=js_f739810e7c"
            ],
            "text/plain": [
              "<IPython.core.display.Javascript object>"
            ]
          },
          "metadata": {
            "tags": [
              "id32-0-0",
              "outputarea_id32"
            ]
          }
        },
        {
          "output_type": "display_data",
          "data": {
            "application/javascript": [
              "window[\"39bfcb5a-0a08-11eb-a366-0242ac1c0002\"] = google.colab.output.getActiveOutputArea();\n",
              "//# sourceURL=js_4f6fd18da4"
            ],
            "text/plain": [
              "<IPython.core.display.Javascript object>"
            ]
          },
          "metadata": {
            "tags": [
              "id32-0-0",
              "outputarea_id32"
            ]
          }
        },
        {
          "output_type": "display_data",
          "data": {
            "application/javascript": [
              "window[\"39c0831a-0a08-11eb-a366-0242ac1c0002\"] = document.querySelector(\"#id32-0-0\");\n",
              "//# sourceURL=js_1e21507c3f"
            ],
            "text/plain": [
              "<IPython.core.display.Javascript object>"
            ]
          },
          "metadata": {
            "tags": [
              "id32-0-0",
              "outputarea_id32"
            ]
          }
        },
        {
          "output_type": "display_data",
          "data": {
            "application/javascript": [
              "window[\"39c0f552-0a08-11eb-a366-0242ac1c0002\"] = google.colab.output.setActiveOutputArea(window[\"39c0831a-0a08-11eb-a366-0242ac1c0002\"]);\n",
              "//# sourceURL=js_3f1a0a759f"
            ],
            "text/plain": [
              "<IPython.core.display.Javascript object>"
            ]
          },
          "metadata": {
            "tags": [
              "id32-0-0",
              "outputarea_id32"
            ]
          }
        },
        {
          "output_type": "display_data",
          "data": {
            "application/javascript": [
              "window[\"39dd22b8-0a08-11eb-a366-0242ac1c0002\"] = google.colab.output.setActiveOutputArea(window[\"39bfcb5a-0a08-11eb-a366-0242ac1c0002\"]);\n",
              "//# sourceURL=js_e25ba8d4dd"
            ],
            "text/plain": [
              "<IPython.core.display.Javascript object>"
            ]
          },
          "metadata": {
            "tags": [
              "id32-0-0",
              "outputarea_id32"
            ]
          }
        },
        {
          "output_type": "display_data",
          "data": {
            "application/javascript": [
              "window[\"3a998ee4-0a08-11eb-a366-0242ac1c0002\"] = google.colab.output.getActiveOutputArea();\n",
              "//# sourceURL=js_94e26c77d1"
            ],
            "text/plain": [
              "<IPython.core.display.Javascript object>"
            ]
          },
          "metadata": {
            "tags": [
              "id32-0-0",
              "outputarea_id32"
            ]
          }
        },
        {
          "output_type": "display_data",
          "data": {
            "application/javascript": [
              "window[\"3ab4120a-0a08-11eb-a366-0242ac1c0002\"] = document.querySelector(\"#id32-0-0\");\n",
              "//# sourceURL=js_0cd5967b4f"
            ],
            "text/plain": [
              "<IPython.core.display.Javascript object>"
            ]
          },
          "metadata": {
            "tags": [
              "id32-0-0",
              "outputarea_id32"
            ]
          }
        },
        {
          "output_type": "display_data",
          "data": {
            "application/javascript": [
              "window[\"3ab47a24-0a08-11eb-a366-0242ac1c0002\"] = google.colab.output.setActiveOutputArea(window[\"3ab4120a-0a08-11eb-a366-0242ac1c0002\"]);\n",
              "//# sourceURL=js_9c98dece9f"
            ],
            "text/plain": [
              "<IPython.core.display.Javascript object>"
            ]
          },
          "metadata": {
            "tags": [
              "id32-0-0",
              "outputarea_id32"
            ]
          }
        },
        {
          "output_type": "display_data",
          "data": {
            "application/javascript": [
              "window[\"3ad07666-0a08-11eb-a366-0242ac1c0002\"] = google.colab.output.setActiveOutputArea(window[\"3a998ee4-0a08-11eb-a366-0242ac1c0002\"]);\n",
              "//# sourceURL=js_e327b2e8c1"
            ],
            "text/plain": [
              "<IPython.core.display.Javascript object>"
            ]
          },
          "metadata": {
            "tags": [
              "id32-0-0",
              "outputarea_id32"
            ]
          }
        },
        {
          "output_type": "display_data",
          "data": {
            "application/javascript": [
              "window[\"3b898f84-0a08-11eb-a366-0242ac1c0002\"] = google.colab.output.getActiveOutputArea();\n",
              "//# sourceURL=js_68a9cdbc4a"
            ],
            "text/plain": [
              "<IPython.core.display.Javascript object>"
            ]
          },
          "metadata": {
            "tags": [
              "id32-0-0",
              "outputarea_id32"
            ]
          }
        },
        {
          "output_type": "display_data",
          "data": {
            "application/javascript": [
              "window[\"3b8a2854-0a08-11eb-a366-0242ac1c0002\"] = document.querySelector(\"#id32-0-0\");\n",
              "//# sourceURL=js_647e563e2f"
            ],
            "text/plain": [
              "<IPython.core.display.Javascript object>"
            ]
          },
          "metadata": {
            "tags": [
              "id32-0-0",
              "outputarea_id32"
            ]
          }
        },
        {
          "output_type": "display_data",
          "data": {
            "application/javascript": [
              "window[\"3b8aa52c-0a08-11eb-a366-0242ac1c0002\"] = google.colab.output.setActiveOutputArea(window[\"3b8a2854-0a08-11eb-a366-0242ac1c0002\"]);\n",
              "//# sourceURL=js_1a689000e9"
            ],
            "text/plain": [
              "<IPython.core.display.Javascript object>"
            ]
          },
          "metadata": {
            "tags": [
              "id32-0-0",
              "outputarea_id32"
            ]
          }
        },
        {
          "output_type": "display_data",
          "data": {
            "application/javascript": [
              "window[\"3ba44612-0a08-11eb-a366-0242ac1c0002\"] = google.colab.output.setActiveOutputArea(window[\"3b898f84-0a08-11eb-a366-0242ac1c0002\"]);\n",
              "//# sourceURL=js_7b0e2b5de3"
            ],
            "text/plain": [
              "<IPython.core.display.Javascript object>"
            ]
          },
          "metadata": {
            "tags": [
              "id32-0-0",
              "outputarea_id32"
            ]
          }
        },
        {
          "output_type": "display_data",
          "data": {
            "application/javascript": [
              "window[\"3c6c4126-0a08-11eb-a366-0242ac1c0002\"] = google.colab.output.getActiveOutputArea();\n",
              "//# sourceURL=js_73bf7e35f2"
            ],
            "text/plain": [
              "<IPython.core.display.Javascript object>"
            ]
          },
          "metadata": {
            "tags": [
              "id32-0-0",
              "outputarea_id32"
            ]
          }
        },
        {
          "output_type": "display_data",
          "data": {
            "application/javascript": [
              "window[\"3c6cd69a-0a08-11eb-a366-0242ac1c0002\"] = document.querySelector(\"#id32-0-0\");\n",
              "//# sourceURL=js_251d48dc9f"
            ],
            "text/plain": [
              "<IPython.core.display.Javascript object>"
            ]
          },
          "metadata": {
            "tags": [
              "id32-0-0",
              "outputarea_id32"
            ]
          }
        },
        {
          "output_type": "display_data",
          "data": {
            "application/javascript": [
              "window[\"3c6d9328-0a08-11eb-a366-0242ac1c0002\"] = google.colab.output.setActiveOutputArea(window[\"3c6cd69a-0a08-11eb-a366-0242ac1c0002\"]);\n",
              "//# sourceURL=js_c458ccbbec"
            ],
            "text/plain": [
              "<IPython.core.display.Javascript object>"
            ]
          },
          "metadata": {
            "tags": [
              "id32-0-0",
              "outputarea_id32"
            ]
          }
        },
        {
          "output_type": "display_data",
          "data": {
            "application/javascript": [
              "window[\"3c8c3d78-0a08-11eb-a366-0242ac1c0002\"] = google.colab.output.setActiveOutputArea(window[\"3c6c4126-0a08-11eb-a366-0242ac1c0002\"]);\n",
              "//# sourceURL=js_0ba4f01f8e"
            ],
            "text/plain": [
              "<IPython.core.display.Javascript object>"
            ]
          },
          "metadata": {
            "tags": [
              "id32-0-0",
              "outputarea_id32"
            ]
          }
        },
        {
          "output_type": "display_data",
          "data": {
            "application/javascript": [
              "window[\"3d4bf26c-0a08-11eb-a366-0242ac1c0002\"] = google.colab.output.getActiveOutputArea();\n",
              "//# sourceURL=js_f77e64e3bd"
            ],
            "text/plain": [
              "<IPython.core.display.Javascript object>"
            ]
          },
          "metadata": {
            "tags": [
              "id32-0-0",
              "outputarea_id32"
            ]
          }
        },
        {
          "output_type": "display_data",
          "data": {
            "application/javascript": [
              "window[\"3d4c6404-0a08-11eb-a366-0242ac1c0002\"] = document.querySelector(\"#id32-0-0\");\n",
              "//# sourceURL=js_2fdf501a82"
            ],
            "text/plain": [
              "<IPython.core.display.Javascript object>"
            ]
          },
          "metadata": {
            "tags": [
              "id32-0-0",
              "outputarea_id32"
            ]
          }
        },
        {
          "output_type": "display_data",
          "data": {
            "application/javascript": [
              "window[\"3d4ce230-0a08-11eb-a366-0242ac1c0002\"] = google.colab.output.setActiveOutputArea(window[\"3d4c6404-0a08-11eb-a366-0242ac1c0002\"]);\n",
              "//# sourceURL=js_ec9522caa8"
            ],
            "text/plain": [
              "<IPython.core.display.Javascript object>"
            ]
          },
          "metadata": {
            "tags": [
              "id32-0-0",
              "outputarea_id32"
            ]
          }
        },
        {
          "output_type": "display_data",
          "data": {
            "application/javascript": [
              "window[\"3d674436-0a08-11eb-a366-0242ac1c0002\"] = google.colab.output.setActiveOutputArea(window[\"3d4bf26c-0a08-11eb-a366-0242ac1c0002\"]);\n",
              "//# sourceURL=js_69c7a5ed14"
            ],
            "text/plain": [
              "<IPython.core.display.Javascript object>"
            ]
          },
          "metadata": {
            "tags": [
              "id32-0-0",
              "outputarea_id32"
            ]
          }
        },
        {
          "output_type": "display_data",
          "data": {
            "application/javascript": [
              "window[\"3e21c2d4-0a08-11eb-a366-0242ac1c0002\"] = google.colab.output.getActiveOutputArea();\n",
              "//# sourceURL=js_96bce89b9c"
            ],
            "text/plain": [
              "<IPython.core.display.Javascript object>"
            ]
          },
          "metadata": {
            "tags": [
              "id32-0-0",
              "outputarea_id32"
            ]
          }
        },
        {
          "output_type": "display_data",
          "data": {
            "application/javascript": [
              "window[\"3e2260d6-0a08-11eb-a366-0242ac1c0002\"] = document.querySelector(\"#id32-0-0\");\n",
              "//# sourceURL=js_ba6139d53c"
            ],
            "text/plain": [
              "<IPython.core.display.Javascript object>"
            ]
          },
          "metadata": {
            "tags": [
              "id32-0-0",
              "outputarea_id32"
            ]
          }
        },
        {
          "output_type": "display_data",
          "data": {
            "application/javascript": [
              "window[\"3e230e1e-0a08-11eb-a366-0242ac1c0002\"] = google.colab.output.setActiveOutputArea(window[\"3e2260d6-0a08-11eb-a366-0242ac1c0002\"]);\n",
              "//# sourceURL=js_0699068fdf"
            ],
            "text/plain": [
              "<IPython.core.display.Javascript object>"
            ]
          },
          "metadata": {
            "tags": [
              "id32-0-0",
              "outputarea_id32"
            ]
          }
        },
        {
          "output_type": "display_data",
          "data": {
            "application/javascript": [
              "window[\"3e3d5cd8-0a08-11eb-a366-0242ac1c0002\"] = google.colab.output.setActiveOutputArea(window[\"3e21c2d4-0a08-11eb-a366-0242ac1c0002\"]);\n",
              "//# sourceURL=js_f587ee0904"
            ],
            "text/plain": [
              "<IPython.core.display.Javascript object>"
            ]
          },
          "metadata": {
            "tags": [
              "id32-0-0",
              "outputarea_id32"
            ]
          }
        },
        {
          "output_type": "display_data",
          "data": {
            "application/javascript": [
              "window[\"3efc9436-0a08-11eb-a366-0242ac1c0002\"] = google.colab.output.getActiveOutputArea();\n",
              "//# sourceURL=js_d02ef5ceb4"
            ],
            "text/plain": [
              "<IPython.core.display.Javascript object>"
            ]
          },
          "metadata": {
            "tags": [
              "id32-0-0",
              "outputarea_id32"
            ]
          }
        },
        {
          "output_type": "display_data",
          "data": {
            "application/javascript": [
              "window[\"3efd0b78-0a08-11eb-a366-0242ac1c0002\"] = document.querySelector(\"#id32-0-0\");\n",
              "//# sourceURL=js_649f26337e"
            ],
            "text/plain": [
              "<IPython.core.display.Javascript object>"
            ]
          },
          "metadata": {
            "tags": [
              "id32-0-0",
              "outputarea_id32"
            ]
          }
        },
        {
          "output_type": "display_data",
          "data": {
            "application/javascript": [
              "window[\"3efd4282-0a08-11eb-a366-0242ac1c0002\"] = google.colab.output.setActiveOutputArea(window[\"3efd0b78-0a08-11eb-a366-0242ac1c0002\"]);\n",
              "//# sourceURL=js_e6f0a6f48e"
            ],
            "text/plain": [
              "<IPython.core.display.Javascript object>"
            ]
          },
          "metadata": {
            "tags": [
              "id32-0-0",
              "outputarea_id32"
            ]
          }
        },
        {
          "output_type": "display_data",
          "data": {
            "application/javascript": [
              "window[\"3f172a76-0a08-11eb-a366-0242ac1c0002\"] = google.colab.output.setActiveOutputArea(window[\"3efc9436-0a08-11eb-a366-0242ac1c0002\"]);\n",
              "//# sourceURL=js_af38c7c26c"
            ],
            "text/plain": [
              "<IPython.core.display.Javascript object>"
            ]
          },
          "metadata": {
            "tags": [
              "id32-0-0",
              "outputarea_id32"
            ]
          }
        },
        {
          "output_type": "display_data",
          "data": {
            "application/javascript": [
              "window[\"3fdc2a6a-0a08-11eb-a366-0242ac1c0002\"] = google.colab.output.getActiveOutputArea();\n",
              "//# sourceURL=js_11cc52d325"
            ],
            "text/plain": [
              "<IPython.core.display.Javascript object>"
            ]
          },
          "metadata": {
            "tags": [
              "id32-0-0",
              "outputarea_id32"
            ]
          }
        },
        {
          "output_type": "display_data",
          "data": {
            "application/javascript": [
              "window[\"3fdcccea-0a08-11eb-a366-0242ac1c0002\"] = document.querySelector(\"#id32-0-0\");\n",
              "//# sourceURL=js_fe6b137c26"
            ],
            "text/plain": [
              "<IPython.core.display.Javascript object>"
            ]
          },
          "metadata": {
            "tags": [
              "id32-0-0",
              "outputarea_id32"
            ]
          }
        },
        {
          "output_type": "display_data",
          "data": {
            "application/javascript": [
              "window[\"3fdd68f8-0a08-11eb-a366-0242ac1c0002\"] = google.colab.output.setActiveOutputArea(window[\"3fdcccea-0a08-11eb-a366-0242ac1c0002\"]);\n",
              "//# sourceURL=js_78680bc996"
            ],
            "text/plain": [
              "<IPython.core.display.Javascript object>"
            ]
          },
          "metadata": {
            "tags": [
              "id32-0-0",
              "outputarea_id32"
            ]
          }
        },
        {
          "output_type": "display_data",
          "data": {
            "application/javascript": [
              "window[\"3ff9ad88-0a08-11eb-a366-0242ac1c0002\"] = google.colab.output.setActiveOutputArea(window[\"3fdc2a6a-0a08-11eb-a366-0242ac1c0002\"]);\n",
              "//# sourceURL=js_df93f37adf"
            ],
            "text/plain": [
              "<IPython.core.display.Javascript object>"
            ]
          },
          "metadata": {
            "tags": [
              "id32-0-0",
              "outputarea_id32"
            ]
          }
        },
        {
          "output_type": "display_data",
          "data": {
            "application/javascript": [
              "window[\"40b53166-0a08-11eb-a366-0242ac1c0002\"] = google.colab.output.getActiveOutputArea();\n",
              "//# sourceURL=js_095693d4dc"
            ],
            "text/plain": [
              "<IPython.core.display.Javascript object>"
            ]
          },
          "metadata": {
            "tags": [
              "id32-0-0",
              "outputarea_id32"
            ]
          }
        },
        {
          "output_type": "display_data",
          "data": {
            "application/javascript": [
              "window[\"40b56dca-0a08-11eb-a366-0242ac1c0002\"] = document.querySelector(\"#id32-0-0\");\n",
              "//# sourceURL=js_d2f10e5837"
            ],
            "text/plain": [
              "<IPython.core.display.Javascript object>"
            ]
          },
          "metadata": {
            "tags": [
              "id32-0-0",
              "outputarea_id32"
            ]
          }
        },
        {
          "output_type": "display_data",
          "data": {
            "application/javascript": [
              "window[\"40b5a394-0a08-11eb-a366-0242ac1c0002\"] = google.colab.output.setActiveOutputArea(window[\"40b56dca-0a08-11eb-a366-0242ac1c0002\"]);\n",
              "//# sourceURL=js_5f12b531ee"
            ],
            "text/plain": [
              "<IPython.core.display.Javascript object>"
            ]
          },
          "metadata": {
            "tags": [
              "id32-0-0",
              "outputarea_id32"
            ]
          }
        },
        {
          "output_type": "display_data",
          "data": {
            "application/javascript": [
              "window[\"40d0289a-0a08-11eb-a366-0242ac1c0002\"] = google.colab.output.setActiveOutputArea(window[\"40b53166-0a08-11eb-a366-0242ac1c0002\"]);\n",
              "//# sourceURL=js_34bc13309e"
            ],
            "text/plain": [
              "<IPython.core.display.Javascript object>"
            ]
          },
          "metadata": {
            "tags": [
              "id32-0-0",
              "outputarea_id32"
            ]
          }
        },
        {
          "output_type": "display_data",
          "data": {
            "application/javascript": [
              "window[\"4187383c-0a08-11eb-a366-0242ac1c0002\"] = google.colab.output.getActiveOutputArea();\n",
              "//# sourceURL=js_7d93807550"
            ],
            "text/plain": [
              "<IPython.core.display.Javascript object>"
            ]
          },
          "metadata": {
            "tags": [
              "id32-0-0",
              "outputarea_id32"
            ]
          }
        },
        {
          "output_type": "display_data",
          "data": {
            "application/javascript": [
              "window[\"41879f98-0a08-11eb-a366-0242ac1c0002\"] = document.querySelector(\"#id32-0-0\");\n",
              "//# sourceURL=js_3b8fb75051"
            ],
            "text/plain": [
              "<IPython.core.display.Javascript object>"
            ]
          },
          "metadata": {
            "tags": [
              "id32-0-0",
              "outputarea_id32"
            ]
          }
        },
        {
          "output_type": "display_data",
          "data": {
            "application/javascript": [
              "window[\"4187e408-0a08-11eb-a366-0242ac1c0002\"] = google.colab.output.setActiveOutputArea(window[\"41879f98-0a08-11eb-a366-0242ac1c0002\"]);\n",
              "//# sourceURL=js_6f8d4f02ac"
            ],
            "text/plain": [
              "<IPython.core.display.Javascript object>"
            ]
          },
          "metadata": {
            "tags": [
              "id32-0-0",
              "outputarea_id32"
            ]
          }
        },
        {
          "output_type": "display_data",
          "data": {
            "application/javascript": [
              "window[\"41a1bdb0-0a08-11eb-a366-0242ac1c0002\"] = google.colab.output.setActiveOutputArea(window[\"4187383c-0a08-11eb-a366-0242ac1c0002\"]);\n",
              "//# sourceURL=js_dc9142e499"
            ],
            "text/plain": [
              "<IPython.core.display.Javascript object>"
            ]
          },
          "metadata": {
            "tags": [
              "id32-0-0",
              "outputarea_id32"
            ]
          }
        },
        {
          "output_type": "display_data",
          "data": {
            "application/javascript": [
              "window[\"4259bbd6-0a08-11eb-a366-0242ac1c0002\"] = google.colab.output.getActiveOutputArea();\n",
              "//# sourceURL=js_03488cc443"
            ],
            "text/plain": [
              "<IPython.core.display.Javascript object>"
            ]
          },
          "metadata": {
            "tags": [
              "id32-0-0",
              "outputarea_id32"
            ]
          }
        },
        {
          "output_type": "display_data",
          "data": {
            "application/javascript": [
              "window[\"425a2e86-0a08-11eb-a366-0242ac1c0002\"] = document.querySelector(\"#id32-0-0\");\n",
              "//# sourceURL=js_595be5ed23"
            ],
            "text/plain": [
              "<IPython.core.display.Javascript object>"
            ]
          },
          "metadata": {
            "tags": [
              "id32-0-0",
              "outputarea_id32"
            ]
          }
        },
        {
          "output_type": "display_data",
          "data": {
            "application/javascript": [
              "window[\"425a7382-0a08-11eb-a366-0242ac1c0002\"] = google.colab.output.setActiveOutputArea(window[\"425a2e86-0a08-11eb-a366-0242ac1c0002\"]);\n",
              "//# sourceURL=js_0d94f903fd"
            ],
            "text/plain": [
              "<IPython.core.display.Javascript object>"
            ]
          },
          "metadata": {
            "tags": [
              "id32-0-0",
              "outputarea_id32"
            ]
          }
        },
        {
          "output_type": "display_data",
          "data": {
            "application/javascript": [
              "window[\"42738548-0a08-11eb-a366-0242ac1c0002\"] = google.colab.output.setActiveOutputArea(window[\"4259bbd6-0a08-11eb-a366-0242ac1c0002\"]);\n",
              "//# sourceURL=js_68b6dcb7ad"
            ],
            "text/plain": [
              "<IPython.core.display.Javascript object>"
            ]
          },
          "metadata": {
            "tags": [
              "id32-0-0",
              "outputarea_id32"
            ]
          }
        },
        {
          "output_type": "display_data",
          "data": {
            "application/javascript": [
              "window[\"433ded24-0a08-11eb-a366-0242ac1c0002\"] = google.colab.output.getActiveOutputArea();\n",
              "//# sourceURL=js_6c698f91f9"
            ],
            "text/plain": [
              "<IPython.core.display.Javascript object>"
            ]
          },
          "metadata": {
            "tags": [
              "id32-0-0",
              "outputarea_id32"
            ]
          }
        },
        {
          "output_type": "display_data",
          "data": {
            "application/javascript": [
              "window[\"433e42f6-0a08-11eb-a366-0242ac1c0002\"] = document.querySelector(\"#id32-0-0\");\n",
              "//# sourceURL=js_48774f1676"
            ],
            "text/plain": [
              "<IPython.core.display.Javascript object>"
            ]
          },
          "metadata": {
            "tags": [
              "id32-0-0",
              "outputarea_id32"
            ]
          }
        },
        {
          "output_type": "display_data",
          "data": {
            "application/javascript": [
              "window[\"433e7ffa-0a08-11eb-a366-0242ac1c0002\"] = google.colab.output.setActiveOutputArea(window[\"433e42f6-0a08-11eb-a366-0242ac1c0002\"]);\n",
              "//# sourceURL=js_a8eed135cc"
            ],
            "text/plain": [
              "<IPython.core.display.Javascript object>"
            ]
          },
          "metadata": {
            "tags": [
              "id32-0-0",
              "outputarea_id32"
            ]
          }
        },
        {
          "output_type": "display_data",
          "data": {
            "application/javascript": [
              "window[\"435910b8-0a08-11eb-a366-0242ac1c0002\"] = google.colab.output.setActiveOutputArea(window[\"433ded24-0a08-11eb-a366-0242ac1c0002\"]);\n",
              "//# sourceURL=js_5dedd42dae"
            ],
            "text/plain": [
              "<IPython.core.display.Javascript object>"
            ]
          },
          "metadata": {
            "tags": [
              "id32-0-0",
              "outputarea_id32"
            ]
          }
        },
        {
          "output_type": "display_data",
          "data": {
            "application/javascript": [
              "window[\"441d71ce-0a08-11eb-a366-0242ac1c0002\"] = google.colab.output.getActiveOutputArea();\n",
              "//# sourceURL=js_68c9871665"
            ],
            "text/plain": [
              "<IPython.core.display.Javascript object>"
            ]
          },
          "metadata": {
            "tags": [
              "id32-0-0",
              "outputarea_id32"
            ]
          }
        },
        {
          "output_type": "display_data",
          "data": {
            "application/javascript": [
              "window[\"441dd380-0a08-11eb-a366-0242ac1c0002\"] = document.querySelector(\"#id32-0-0\");\n",
              "//# sourceURL=js_c45779f62f"
            ],
            "text/plain": [
              "<IPython.core.display.Javascript object>"
            ]
          },
          "metadata": {
            "tags": [
              "id32-0-0",
              "outputarea_id32"
            ]
          }
        },
        {
          "output_type": "display_data",
          "data": {
            "application/javascript": [
              "window[\"441e423e-0a08-11eb-a366-0242ac1c0002\"] = google.colab.output.setActiveOutputArea(window[\"441dd380-0a08-11eb-a366-0242ac1c0002\"]);\n",
              "//# sourceURL=js_a8e4235265"
            ],
            "text/plain": [
              "<IPython.core.display.Javascript object>"
            ]
          },
          "metadata": {
            "tags": [
              "id32-0-0",
              "outputarea_id32"
            ]
          }
        },
        {
          "output_type": "display_data",
          "data": {
            "application/javascript": [
              "window[\"44389008-0a08-11eb-a366-0242ac1c0002\"] = google.colab.output.setActiveOutputArea(window[\"441d71ce-0a08-11eb-a366-0242ac1c0002\"]);\n",
              "//# sourceURL=js_36d755094c"
            ],
            "text/plain": [
              "<IPython.core.display.Javascript object>"
            ]
          },
          "metadata": {
            "tags": [
              "id32-0-0",
              "outputarea_id32"
            ]
          }
        },
        {
          "output_type": "display_data",
          "data": {
            "application/javascript": [
              "window[\"45066ba4-0a08-11eb-a366-0242ac1c0002\"] = google.colab.output.getActiveOutputArea();\n",
              "//# sourceURL=js_21a8ef4a7d"
            ],
            "text/plain": [
              "<IPython.core.display.Javascript object>"
            ]
          },
          "metadata": {
            "tags": [
              "id32-0-0",
              "outputarea_id32"
            ]
          }
        },
        {
          "output_type": "display_data",
          "data": {
            "application/javascript": [
              "window[\"4506fe0c-0a08-11eb-a366-0242ac1c0002\"] = document.querySelector(\"#id32-0-0\");\n",
              "//# sourceURL=js_3707ddf582"
            ],
            "text/plain": [
              "<IPython.core.display.Javascript object>"
            ]
          },
          "metadata": {
            "tags": [
              "id32-0-0",
              "outputarea_id32"
            ]
          }
        },
        {
          "output_type": "display_data",
          "data": {
            "application/javascript": [
              "window[\"4507909c-0a08-11eb-a366-0242ac1c0002\"] = google.colab.output.setActiveOutputArea(window[\"4506fe0c-0a08-11eb-a366-0242ac1c0002\"]);\n",
              "//# sourceURL=js_3ea6d5fc4c"
            ],
            "text/plain": [
              "<IPython.core.display.Javascript object>"
            ]
          },
          "metadata": {
            "tags": [
              "id32-0-0",
              "outputarea_id32"
            ]
          }
        },
        {
          "output_type": "display_data",
          "data": {
            "application/javascript": [
              "window[\"4522c880-0a08-11eb-a366-0242ac1c0002\"] = google.colab.output.setActiveOutputArea(window[\"45066ba4-0a08-11eb-a366-0242ac1c0002\"]);\n",
              "//# sourceURL=js_4a73c68080"
            ],
            "text/plain": [
              "<IPython.core.display.Javascript object>"
            ]
          },
          "metadata": {
            "tags": [
              "id32-0-0",
              "outputarea_id32"
            ]
          }
        },
        {
          "output_type": "display_data",
          "data": {
            "application/javascript": [
              "window[\"45d9e38a-0a08-11eb-a366-0242ac1c0002\"] = google.colab.output.getActiveOutputArea();\n",
              "//# sourceURL=js_68ea729154"
            ],
            "text/plain": [
              "<IPython.core.display.Javascript object>"
            ]
          },
          "metadata": {
            "tags": [
              "id32-0-0",
              "outputarea_id32"
            ]
          }
        },
        {
          "output_type": "display_data",
          "data": {
            "application/javascript": [
              "window[\"45dab7ba-0a08-11eb-a366-0242ac1c0002\"] = document.querySelector(\"#id32-0-0\");\n",
              "//# sourceURL=js_078765c455"
            ],
            "text/plain": [
              "<IPython.core.display.Javascript object>"
            ]
          },
          "metadata": {
            "tags": [
              "id32-0-0",
              "outputarea_id32"
            ]
          }
        },
        {
          "output_type": "display_data",
          "data": {
            "application/javascript": [
              "window[\"45dae4c4-0a08-11eb-a366-0242ac1c0002\"] = google.colab.output.setActiveOutputArea(window[\"45dab7ba-0a08-11eb-a366-0242ac1c0002\"]);\n",
              "//# sourceURL=js_0d013f0b8a"
            ],
            "text/plain": [
              "<IPython.core.display.Javascript object>"
            ]
          },
          "metadata": {
            "tags": [
              "id32-0-0",
              "outputarea_id32"
            ]
          }
        },
        {
          "output_type": "display_data",
          "data": {
            "application/javascript": [
              "window[\"45f3e7d0-0a08-11eb-a366-0242ac1c0002\"] = google.colab.output.setActiveOutputArea(window[\"45d9e38a-0a08-11eb-a366-0242ac1c0002\"]);\n",
              "//# sourceURL=js_dace9d67ba"
            ],
            "text/plain": [
              "<IPython.core.display.Javascript object>"
            ]
          },
          "metadata": {
            "tags": [
              "id32-0-0",
              "outputarea_id32"
            ]
          }
        },
        {
          "output_type": "display_data",
          "data": {
            "application/javascript": [
              "window[\"46a93f72-0a08-11eb-a366-0242ac1c0002\"] = google.colab.output.getActiveOutputArea();\n",
              "//# sourceURL=js_8fa6f0b17b"
            ],
            "text/plain": [
              "<IPython.core.display.Javascript object>"
            ]
          },
          "metadata": {
            "tags": [
              "id32-0-0",
              "outputarea_id32"
            ]
          }
        },
        {
          "output_type": "display_data",
          "data": {
            "application/javascript": [
              "window[\"46a9bfec-0a08-11eb-a366-0242ac1c0002\"] = document.querySelector(\"#id32-0-0\");\n",
              "//# sourceURL=js_03f1229108"
            ],
            "text/plain": [
              "<IPython.core.display.Javascript object>"
            ]
          },
          "metadata": {
            "tags": [
              "id32-0-0",
              "outputarea_id32"
            ]
          }
        },
        {
          "output_type": "display_data",
          "data": {
            "application/javascript": [
              "window[\"46aa6262-0a08-11eb-a366-0242ac1c0002\"] = google.colab.output.setActiveOutputArea(window[\"46a9bfec-0a08-11eb-a366-0242ac1c0002\"]);\n",
              "//# sourceURL=js_667b0abd72"
            ],
            "text/plain": [
              "<IPython.core.display.Javascript object>"
            ]
          },
          "metadata": {
            "tags": [
              "id32-0-0",
              "outputarea_id32"
            ]
          }
        },
        {
          "output_type": "display_data",
          "data": {
            "application/javascript": [
              "window[\"46c54aaa-0a08-11eb-a366-0242ac1c0002\"] = google.colab.output.setActiveOutputArea(window[\"46a93f72-0a08-11eb-a366-0242ac1c0002\"]);\n",
              "//# sourceURL=js_376b7599da"
            ],
            "text/plain": [
              "<IPython.core.display.Javascript object>"
            ]
          },
          "metadata": {
            "tags": [
              "id32-0-0",
              "outputarea_id32"
            ]
          }
        },
        {
          "output_type": "display_data",
          "data": {
            "application/javascript": [
              "window[\"477cd274-0a08-11eb-a366-0242ac1c0002\"] = google.colab.output.getActiveOutputArea();\n",
              "//# sourceURL=js_503e8497c1"
            ],
            "text/plain": [
              "<IPython.core.display.Javascript object>"
            ]
          },
          "metadata": {
            "tags": [
              "id32-0-0",
              "outputarea_id32"
            ]
          }
        },
        {
          "output_type": "display_data",
          "data": {
            "application/javascript": [
              "window[\"477d4506-0a08-11eb-a366-0242ac1c0002\"] = document.querySelector(\"#id32-0-0\");\n",
              "//# sourceURL=js_f00f9f36cc"
            ],
            "text/plain": [
              "<IPython.core.display.Javascript object>"
            ]
          },
          "metadata": {
            "tags": [
              "id32-0-0",
              "outputarea_id32"
            ]
          }
        },
        {
          "output_type": "display_data",
          "data": {
            "application/javascript": [
              "window[\"477d8908-0a08-11eb-a366-0242ac1c0002\"] = google.colab.output.setActiveOutputArea(window[\"477d4506-0a08-11eb-a366-0242ac1c0002\"]);\n",
              "//# sourceURL=js_fb4b323761"
            ],
            "text/plain": [
              "<IPython.core.display.Javascript object>"
            ]
          },
          "metadata": {
            "tags": [
              "id32-0-0",
              "outputarea_id32"
            ]
          }
        },
        {
          "output_type": "display_data",
          "data": {
            "application/javascript": [
              "window[\"4796e7d6-0a08-11eb-a366-0242ac1c0002\"] = google.colab.output.setActiveOutputArea(window[\"477cd274-0a08-11eb-a366-0242ac1c0002\"]);\n",
              "//# sourceURL=js_ddf6c3318c"
            ],
            "text/plain": [
              "<IPython.core.display.Javascript object>"
            ]
          },
          "metadata": {
            "tags": [
              "id32-0-0",
              "outputarea_id32"
            ]
          }
        },
        {
          "output_type": "display_data",
          "data": {
            "application/javascript": [
              "window[\"48506cec-0a08-11eb-a366-0242ac1c0002\"] = google.colab.output.getActiveOutputArea();\n",
              "//# sourceURL=js_c91d29f02f"
            ],
            "text/plain": [
              "<IPython.core.display.Javascript object>"
            ]
          },
          "metadata": {
            "tags": [
              "id32-0-0",
              "outputarea_id32"
            ]
          }
        },
        {
          "output_type": "display_data",
          "data": {
            "application/javascript": [
              "window[\"4850df92-0a08-11eb-a366-0242ac1c0002\"] = document.querySelector(\"#id32-0-0\");\n",
              "//# sourceURL=js_5baca675c7"
            ],
            "text/plain": [
              "<IPython.core.display.Javascript object>"
            ]
          },
          "metadata": {
            "tags": [
              "id32-0-0",
              "outputarea_id32"
            ]
          }
        },
        {
          "output_type": "display_data",
          "data": {
            "application/javascript": [
              "window[\"4851b61a-0a08-11eb-a366-0242ac1c0002\"] = google.colab.output.setActiveOutputArea(window[\"4850df92-0a08-11eb-a366-0242ac1c0002\"]);\n",
              "//# sourceURL=js_9c96d592fc"
            ],
            "text/plain": [
              "<IPython.core.display.Javascript object>"
            ]
          },
          "metadata": {
            "tags": [
              "id32-0-0",
              "outputarea_id32"
            ]
          }
        },
        {
          "output_type": "display_data",
          "data": {
            "application/javascript": [
              "window[\"486c90fc-0a08-11eb-a366-0242ac1c0002\"] = google.colab.output.setActiveOutputArea(window[\"48506cec-0a08-11eb-a366-0242ac1c0002\"]);\n",
              "//# sourceURL=js_4aa6b611dc"
            ],
            "text/plain": [
              "<IPython.core.display.Javascript object>"
            ]
          },
          "metadata": {
            "tags": [
              "id32-0-0",
              "outputarea_id32"
            ]
          }
        },
        {
          "output_type": "display_data",
          "data": {
            "application/javascript": [
              "window[\"49257266-0a08-11eb-a366-0242ac1c0002\"] = google.colab.output.getActiveOutputArea();\n",
              "//# sourceURL=js_f0ce88bc4a"
            ],
            "text/plain": [
              "<IPython.core.display.Javascript object>"
            ]
          },
          "metadata": {
            "tags": [
              "id32-0-0",
              "outputarea_id32"
            ]
          }
        },
        {
          "output_type": "display_data",
          "data": {
            "application/javascript": [
              "window[\"4925c914-0a08-11eb-a366-0242ac1c0002\"] = document.querySelector(\"#id32-0-0\");\n",
              "//# sourceURL=js_f7d1ca100e"
            ],
            "text/plain": [
              "<IPython.core.display.Javascript object>"
            ]
          },
          "metadata": {
            "tags": [
              "id32-0-0",
              "outputarea_id32"
            ]
          }
        },
        {
          "output_type": "display_data",
          "data": {
            "application/javascript": [
              "window[\"492631c4-0a08-11eb-a366-0242ac1c0002\"] = google.colab.output.setActiveOutputArea(window[\"4925c914-0a08-11eb-a366-0242ac1c0002\"]);\n",
              "//# sourceURL=js_ffbed5c09d"
            ],
            "text/plain": [
              "<IPython.core.display.Javascript object>"
            ]
          },
          "metadata": {
            "tags": [
              "id32-0-0",
              "outputarea_id32"
            ]
          }
        },
        {
          "output_type": "display_data",
          "data": {
            "application/javascript": [
              "window[\"49413d0c-0a08-11eb-a366-0242ac1c0002\"] = google.colab.output.setActiveOutputArea(window[\"49257266-0a08-11eb-a366-0242ac1c0002\"]);\n",
              "//# sourceURL=js_f1d1f65259"
            ],
            "text/plain": [
              "<IPython.core.display.Javascript object>"
            ]
          },
          "metadata": {
            "tags": [
              "id32-0-0",
              "outputarea_id32"
            ]
          }
        },
        {
          "output_type": "display_data",
          "data": {
            "application/javascript": [
              "window[\"4a09176e-0a08-11eb-a366-0242ac1c0002\"] = google.colab.output.getActiveOutputArea();\n",
              "//# sourceURL=js_9a70502a88"
            ],
            "text/plain": [
              "<IPython.core.display.Javascript object>"
            ]
          },
          "metadata": {
            "tags": [
              "id32-0-0",
              "outputarea_id32"
            ]
          }
        },
        {
          "output_type": "display_data",
          "data": {
            "application/javascript": [
              "window[\"4a09932e-0a08-11eb-a366-0242ac1c0002\"] = document.querySelector(\"#id32-0-0\");\n",
              "//# sourceURL=js_50de323b83"
            ],
            "text/plain": [
              "<IPython.core.display.Javascript object>"
            ]
          },
          "metadata": {
            "tags": [
              "id32-0-0",
              "outputarea_id32"
            ]
          }
        },
        {
          "output_type": "display_data",
          "data": {
            "application/javascript": [
              "window[\"4a09d3d4-0a08-11eb-a366-0242ac1c0002\"] = google.colab.output.setActiveOutputArea(window[\"4a09932e-0a08-11eb-a366-0242ac1c0002\"]);\n",
              "//# sourceURL=js_85e047cbc5"
            ],
            "text/plain": [
              "<IPython.core.display.Javascript object>"
            ]
          },
          "metadata": {
            "tags": [
              "id32-0-0",
              "outputarea_id32"
            ]
          }
        },
        {
          "output_type": "display_data",
          "data": {
            "application/javascript": [
              "window[\"4a234cba-0a08-11eb-a366-0242ac1c0002\"] = google.colab.output.setActiveOutputArea(window[\"4a09176e-0a08-11eb-a366-0242ac1c0002\"]);\n",
              "//# sourceURL=js_0a4531a083"
            ],
            "text/plain": [
              "<IPython.core.display.Javascript object>"
            ]
          },
          "metadata": {
            "tags": [
              "id32-0-0",
              "outputarea_id32"
            ]
          }
        },
        {
          "output_type": "display_data",
          "data": {
            "application/javascript": [
              "window[\"4ad9fabe-0a08-11eb-a366-0242ac1c0002\"] = google.colab.output.getActiveOutputArea();\n",
              "//# sourceURL=js_8e6600e81e"
            ],
            "text/plain": [
              "<IPython.core.display.Javascript object>"
            ]
          },
          "metadata": {
            "tags": [
              "id32-0-0",
              "outputarea_id32"
            ]
          }
        },
        {
          "output_type": "display_data",
          "data": {
            "application/javascript": [
              "window[\"4ada57de-0a08-11eb-a366-0242ac1c0002\"] = document.querySelector(\"#id32-0-0\");\n",
              "//# sourceURL=js_2ddfe8403d"
            ],
            "text/plain": [
              "<IPython.core.display.Javascript object>"
            ]
          },
          "metadata": {
            "tags": [
              "id32-0-0",
              "outputarea_id32"
            ]
          }
        },
        {
          "output_type": "display_data",
          "data": {
            "application/javascript": [
              "window[\"4adb0ac6-0a08-11eb-a366-0242ac1c0002\"] = google.colab.output.setActiveOutputArea(window[\"4ada57de-0a08-11eb-a366-0242ac1c0002\"]);\n",
              "//# sourceURL=js_4d14b6bb1d"
            ],
            "text/plain": [
              "<IPython.core.display.Javascript object>"
            ]
          },
          "metadata": {
            "tags": [
              "id32-0-0",
              "outputarea_id32"
            ]
          }
        },
        {
          "output_type": "display_data",
          "data": {
            "application/javascript": [
              "window[\"4af4c3d0-0a08-11eb-a366-0242ac1c0002\"] = google.colab.output.setActiveOutputArea(window[\"4ad9fabe-0a08-11eb-a366-0242ac1c0002\"]);\n",
              "//# sourceURL=js_7d7b70f16f"
            ],
            "text/plain": [
              "<IPython.core.display.Javascript object>"
            ]
          },
          "metadata": {
            "tags": [
              "id32-0-0",
              "outputarea_id32"
            ]
          }
        },
        {
          "output_type": "display_data",
          "data": {
            "application/javascript": [
              "window[\"4bc49c54-0a08-11eb-a366-0242ac1c0002\"] = google.colab.output.getActiveOutputArea();\n",
              "//# sourceURL=js_75f5690de7"
            ],
            "text/plain": [
              "<IPython.core.display.Javascript object>"
            ]
          },
          "metadata": {
            "tags": [
              "id32-0-0",
              "outputarea_id32"
            ]
          }
        },
        {
          "output_type": "display_data",
          "data": {
            "application/javascript": [
              "window[\"4bc4f5a0-0a08-11eb-a366-0242ac1c0002\"] = document.querySelector(\"#id32-0-0\");\n",
              "//# sourceURL=js_f5904c9194"
            ],
            "text/plain": [
              "<IPython.core.display.Javascript object>"
            ]
          },
          "metadata": {
            "tags": [
              "id32-0-0",
              "outputarea_id32"
            ]
          }
        },
        {
          "output_type": "display_data",
          "data": {
            "application/javascript": [
              "window[\"4bc57cd2-0a08-11eb-a366-0242ac1c0002\"] = google.colab.output.setActiveOutputArea(window[\"4bc4f5a0-0a08-11eb-a366-0242ac1c0002\"]);\n",
              "//# sourceURL=js_c5f2c08eda"
            ],
            "text/plain": [
              "<IPython.core.display.Javascript object>"
            ]
          },
          "metadata": {
            "tags": [
              "id32-0-0",
              "outputarea_id32"
            ]
          }
        },
        {
          "output_type": "display_data",
          "data": {
            "application/javascript": [
              "window[\"4bde644a-0a08-11eb-a366-0242ac1c0002\"] = google.colab.output.setActiveOutputArea(window[\"4bc49c54-0a08-11eb-a366-0242ac1c0002\"]);\n",
              "//# sourceURL=js_96f28f2916"
            ],
            "text/plain": [
              "<IPython.core.display.Javascript object>"
            ]
          },
          "metadata": {
            "tags": [
              "id32-0-0",
              "outputarea_id32"
            ]
          }
        },
        {
          "output_type": "display_data",
          "data": {
            "application/javascript": [
              "window[\"4c9c5450-0a08-11eb-a366-0242ac1c0002\"] = google.colab.output.getActiveOutputArea();\n",
              "//# sourceURL=js_f0d05ad875"
            ],
            "text/plain": [
              "<IPython.core.display.Javascript object>"
            ]
          },
          "metadata": {
            "tags": [
              "id32-0-0",
              "outputarea_id32"
            ]
          }
        },
        {
          "output_type": "display_data",
          "data": {
            "application/javascript": [
              "window[\"4c9cdd80-0a08-11eb-a366-0242ac1c0002\"] = document.querySelector(\"#id32-0-0\");\n",
              "//# sourceURL=js_4bd92daff3"
            ],
            "text/plain": [
              "<IPython.core.display.Javascript object>"
            ]
          },
          "metadata": {
            "tags": [
              "id32-0-0",
              "outputarea_id32"
            ]
          }
        },
        {
          "output_type": "display_data",
          "data": {
            "application/javascript": [
              "window[\"4c9d2bf0-0a08-11eb-a366-0242ac1c0002\"] = google.colab.output.setActiveOutputArea(window[\"4c9cdd80-0a08-11eb-a366-0242ac1c0002\"]);\n",
              "//# sourceURL=js_14eb460426"
            ],
            "text/plain": [
              "<IPython.core.display.Javascript object>"
            ]
          },
          "metadata": {
            "tags": [
              "id32-0-0",
              "outputarea_id32"
            ]
          }
        },
        {
          "output_type": "display_data",
          "data": {
            "application/javascript": [
              "window[\"4cb6dd7a-0a08-11eb-a366-0242ac1c0002\"] = google.colab.output.setActiveOutputArea(window[\"4c9c5450-0a08-11eb-a366-0242ac1c0002\"]);\n",
              "//# sourceURL=js_fbf3a084a1"
            ],
            "text/plain": [
              "<IPython.core.display.Javascript object>"
            ]
          },
          "metadata": {
            "tags": [
              "id32-0-0",
              "outputarea_id32"
            ]
          }
        },
        {
          "output_type": "display_data",
          "data": {
            "application/javascript": [
              "window[\"4d824762-0a08-11eb-a366-0242ac1c0002\"] = google.colab.output.getActiveOutputArea();\n",
              "//# sourceURL=js_0f5182c4a0"
            ],
            "text/plain": [
              "<IPython.core.display.Javascript object>"
            ]
          },
          "metadata": {
            "tags": [
              "id32-0-0",
              "outputarea_id32"
            ]
          }
        },
        {
          "output_type": "display_data",
          "data": {
            "application/javascript": [
              "window[\"4d828da8-0a08-11eb-a366-0242ac1c0002\"] = document.querySelector(\"#id32-0-0\");\n",
              "//# sourceURL=js_2ccee77a3b"
            ],
            "text/plain": [
              "<IPython.core.display.Javascript object>"
            ]
          },
          "metadata": {
            "tags": [
              "id32-0-0",
              "outputarea_id32"
            ]
          }
        },
        {
          "output_type": "display_data",
          "data": {
            "application/javascript": [
              "window[\"4d82ce3a-0a08-11eb-a366-0242ac1c0002\"] = google.colab.output.setActiveOutputArea(window[\"4d828da8-0a08-11eb-a366-0242ac1c0002\"]);\n",
              "//# sourceURL=js_ab96a3363e"
            ],
            "text/plain": [
              "<IPython.core.display.Javascript object>"
            ]
          },
          "metadata": {
            "tags": [
              "id32-0-0",
              "outputarea_id32"
            ]
          }
        },
        {
          "output_type": "display_data",
          "data": {
            "application/javascript": [
              "window[\"4d9c26fa-0a08-11eb-a366-0242ac1c0002\"] = google.colab.output.setActiveOutputArea(window[\"4d824762-0a08-11eb-a366-0242ac1c0002\"]);\n",
              "//# sourceURL=js_7e64a83779"
            ],
            "text/plain": [
              "<IPython.core.display.Javascript object>"
            ]
          },
          "metadata": {
            "tags": [
              "id32-0-0",
              "outputarea_id32"
            ]
          }
        },
        {
          "output_type": "display_data",
          "data": {
            "application/javascript": [
              "window[\"4e54b0a8-0a08-11eb-a366-0242ac1c0002\"] = google.colab.output.getActiveOutputArea();\n",
              "//# sourceURL=js_2395aa2588"
            ],
            "text/plain": [
              "<IPython.core.display.Javascript object>"
            ]
          },
          "metadata": {
            "tags": [
              "id32-0-0",
              "outputarea_id32"
            ]
          }
        },
        {
          "output_type": "display_data",
          "data": {
            "application/javascript": [
              "window[\"4e54f6c6-0a08-11eb-a366-0242ac1c0002\"] = document.querySelector(\"#id32-0-0\");\n",
              "//# sourceURL=js_fcb26d2fd6"
            ],
            "text/plain": [
              "<IPython.core.display.Javascript object>"
            ]
          },
          "metadata": {
            "tags": [
              "id32-0-0",
              "outputarea_id32"
            ]
          }
        },
        {
          "output_type": "display_data",
          "data": {
            "application/javascript": [
              "window[\"4e55270e-0a08-11eb-a366-0242ac1c0002\"] = google.colab.output.setActiveOutputArea(window[\"4e54f6c6-0a08-11eb-a366-0242ac1c0002\"]);\n",
              "//# sourceURL=js_6e778e4cc0"
            ],
            "text/plain": [
              "<IPython.core.display.Javascript object>"
            ]
          },
          "metadata": {
            "tags": [
              "id32-0-0",
              "outputarea_id32"
            ]
          }
        },
        {
          "output_type": "display_data",
          "data": {
            "application/javascript": [
              "window[\"4e70859e-0a08-11eb-a366-0242ac1c0002\"] = google.colab.output.setActiveOutputArea(window[\"4e54b0a8-0a08-11eb-a366-0242ac1c0002\"]);\n",
              "//# sourceURL=js_2bcdd8ffe4"
            ],
            "text/plain": [
              "<IPython.core.display.Javascript object>"
            ]
          },
          "metadata": {
            "tags": [
              "id32-0-0",
              "outputarea_id32"
            ]
          }
        },
        {
          "output_type": "display_data",
          "data": {
            "application/javascript": [
              "window[\"4f280656-0a08-11eb-a366-0242ac1c0002\"] = google.colab.output.getActiveOutputArea();\n",
              "//# sourceURL=js_911365e9c2"
            ],
            "text/plain": [
              "<IPython.core.display.Javascript object>"
            ]
          },
          "metadata": {
            "tags": [
              "id32-0-0",
              "outputarea_id32"
            ]
          }
        },
        {
          "output_type": "display_data",
          "data": {
            "application/javascript": [
              "window[\"4f2856d8-0a08-11eb-a366-0242ac1c0002\"] = document.querySelector(\"#id32-0-0\");\n",
              "//# sourceURL=js_a8ea1afa3e"
            ],
            "text/plain": [
              "<IPython.core.display.Javascript object>"
            ]
          },
          "metadata": {
            "tags": [
              "id32-0-0",
              "outputarea_id32"
            ]
          }
        },
        {
          "output_type": "display_data",
          "data": {
            "application/javascript": [
              "window[\"4f289440-0a08-11eb-a366-0242ac1c0002\"] = google.colab.output.setActiveOutputArea(window[\"4f2856d8-0a08-11eb-a366-0242ac1c0002\"]);\n",
              "//# sourceURL=js_227829a1e7"
            ],
            "text/plain": [
              "<IPython.core.display.Javascript object>"
            ]
          },
          "metadata": {
            "tags": [
              "id32-0-0",
              "outputarea_id32"
            ]
          }
        },
        {
          "output_type": "display_data",
          "data": {
            "application/javascript": [
              "window[\"4f42c3c4-0a08-11eb-a366-0242ac1c0002\"] = google.colab.output.setActiveOutputArea(window[\"4f280656-0a08-11eb-a366-0242ac1c0002\"]);\n",
              "//# sourceURL=js_47c1374969"
            ],
            "text/plain": [
              "<IPython.core.display.Javascript object>"
            ]
          },
          "metadata": {
            "tags": [
              "id32-0-0",
              "outputarea_id32"
            ]
          }
        },
        {
          "output_type": "display_data",
          "data": {
            "application/javascript": [
              "window[\"4ffd241c-0a08-11eb-a366-0242ac1c0002\"] = google.colab.output.getActiveOutputArea();\n",
              "//# sourceURL=js_0c9f8cb49c"
            ],
            "text/plain": [
              "<IPython.core.display.Javascript object>"
            ]
          },
          "metadata": {
            "tags": [
              "id32-0-0",
              "outputarea_id32"
            ]
          }
        },
        {
          "output_type": "display_data",
          "data": {
            "application/javascript": [
              "window[\"4ffdbb20-0a08-11eb-a366-0242ac1c0002\"] = document.querySelector(\"#id32-0-0\");\n",
              "//# sourceURL=js_d2d4beeede"
            ],
            "text/plain": [
              "<IPython.core.display.Javascript object>"
            ]
          },
          "metadata": {
            "tags": [
              "id32-0-0",
              "outputarea_id32"
            ]
          }
        },
        {
          "output_type": "display_data",
          "data": {
            "application/javascript": [
              "window[\"4ffe16d8-0a08-11eb-a366-0242ac1c0002\"] = google.colab.output.setActiveOutputArea(window[\"4ffdbb20-0a08-11eb-a366-0242ac1c0002\"]);\n",
              "//# sourceURL=js_e4680622d4"
            ],
            "text/plain": [
              "<IPython.core.display.Javascript object>"
            ]
          },
          "metadata": {
            "tags": [
              "id32-0-0",
              "outputarea_id32"
            ]
          }
        },
        {
          "output_type": "display_data",
          "data": {
            "application/javascript": [
              "window[\"50176f7a-0a08-11eb-a366-0242ac1c0002\"] = google.colab.output.setActiveOutputArea(window[\"4ffd241c-0a08-11eb-a366-0242ac1c0002\"]);\n",
              "//# sourceURL=js_84bd1891b5"
            ],
            "text/plain": [
              "<IPython.core.display.Javascript object>"
            ]
          },
          "metadata": {
            "tags": [
              "id32-0-0",
              "outputarea_id32"
            ]
          }
        },
        {
          "output_type": "display_data",
          "data": {
            "application/javascript": [
              "window[\"50dd5668-0a08-11eb-a366-0242ac1c0002\"] = google.colab.output.getActiveOutputArea();\n",
              "//# sourceURL=js_1bb3b4d4ed"
            ],
            "text/plain": [
              "<IPython.core.display.Javascript object>"
            ]
          },
          "metadata": {
            "tags": [
              "id32-0-0",
              "outputarea_id32"
            ]
          }
        },
        {
          "output_type": "display_data",
          "data": {
            "application/javascript": [
              "window[\"50ddbab8-0a08-11eb-a366-0242ac1c0002\"] = document.querySelector(\"#id32-0-0\");\n",
              "//# sourceURL=js_d67dc2cff5"
            ],
            "text/plain": [
              "<IPython.core.display.Javascript object>"
            ]
          },
          "metadata": {
            "tags": [
              "id32-0-0",
              "outputarea_id32"
            ]
          }
        },
        {
          "output_type": "display_data",
          "data": {
            "application/javascript": [
              "window[\"50ddf9f6-0a08-11eb-a366-0242ac1c0002\"] = google.colab.output.setActiveOutputArea(window[\"50ddbab8-0a08-11eb-a366-0242ac1c0002\"]);\n",
              "//# sourceURL=js_ee06384475"
            ],
            "text/plain": [
              "<IPython.core.display.Javascript object>"
            ]
          },
          "metadata": {
            "tags": [
              "id32-0-0",
              "outputarea_id32"
            ]
          }
        },
        {
          "output_type": "display_data",
          "data": {
            "application/javascript": [
              "window[\"50fb442a-0a08-11eb-a366-0242ac1c0002\"] = google.colab.output.setActiveOutputArea(window[\"50dd5668-0a08-11eb-a366-0242ac1c0002\"]);\n",
              "//# sourceURL=js_f13b37f30c"
            ],
            "text/plain": [
              "<IPython.core.display.Javascript object>"
            ]
          },
          "metadata": {
            "tags": [
              "id32-0-0",
              "outputarea_id32"
            ]
          }
        },
        {
          "output_type": "display_data",
          "data": {
            "application/javascript": [
              "window[\"51b51170-0a08-11eb-a366-0242ac1c0002\"] = google.colab.output.getActiveOutputArea();\n",
              "//# sourceURL=js_3c6147d108"
            ],
            "text/plain": [
              "<IPython.core.display.Javascript object>"
            ]
          },
          "metadata": {
            "tags": [
              "id32-0-0",
              "outputarea_id32"
            ]
          }
        },
        {
          "output_type": "display_data",
          "data": {
            "application/javascript": [
              "window[\"51b55d2e-0a08-11eb-a366-0242ac1c0002\"] = document.querySelector(\"#id32-0-0\");\n",
              "//# sourceURL=js_7a519decec"
            ],
            "text/plain": [
              "<IPython.core.display.Javascript object>"
            ]
          },
          "metadata": {
            "tags": [
              "id32-0-0",
              "outputarea_id32"
            ]
          }
        },
        {
          "output_type": "display_data",
          "data": {
            "application/javascript": [
              "window[\"51b5a6b2-0a08-11eb-a366-0242ac1c0002\"] = google.colab.output.setActiveOutputArea(window[\"51b55d2e-0a08-11eb-a366-0242ac1c0002\"]);\n",
              "//# sourceURL=js_997753f857"
            ],
            "text/plain": [
              "<IPython.core.display.Javascript object>"
            ]
          },
          "metadata": {
            "tags": [
              "id32-0-0",
              "outputarea_id32"
            ]
          }
        },
        {
          "output_type": "display_data",
          "data": {
            "application/javascript": [
              "window[\"51d0f1e2-0a08-11eb-a366-0242ac1c0002\"] = google.colab.output.setActiveOutputArea(window[\"51b51170-0a08-11eb-a366-0242ac1c0002\"]);\n",
              "//# sourceURL=js_93d43536f5"
            ],
            "text/plain": [
              "<IPython.core.display.Javascript object>"
            ]
          },
          "metadata": {
            "tags": [
              "id32-0-0",
              "outputarea_id32"
            ]
          }
        },
        {
          "output_type": "display_data",
          "data": {
            "application/javascript": [
              "window[\"528e8310-0a08-11eb-a366-0242ac1c0002\"] = google.colab.output.getActiveOutputArea();\n",
              "//# sourceURL=js_86292d1249"
            ],
            "text/plain": [
              "<IPython.core.display.Javascript object>"
            ]
          },
          "metadata": {
            "tags": [
              "id32-0-0",
              "outputarea_id32"
            ]
          }
        },
        {
          "output_type": "display_data",
          "data": {
            "application/javascript": [
              "window[\"528ec370-0a08-11eb-a366-0242ac1c0002\"] = document.querySelector(\"#id32-0-0\");\n",
              "//# sourceURL=js_4f0df8e1df"
            ],
            "text/plain": [
              "<IPython.core.display.Javascript object>"
            ]
          },
          "metadata": {
            "tags": [
              "id32-0-0",
              "outputarea_id32"
            ]
          }
        },
        {
          "output_type": "display_data",
          "data": {
            "application/javascript": [
              "window[\"528ef6c4-0a08-11eb-a366-0242ac1c0002\"] = google.colab.output.setActiveOutputArea(window[\"528ec370-0a08-11eb-a366-0242ac1c0002\"]);\n",
              "//# sourceURL=js_3b389b1261"
            ],
            "text/plain": [
              "<IPython.core.display.Javascript object>"
            ]
          },
          "metadata": {
            "tags": [
              "id32-0-0",
              "outputarea_id32"
            ]
          }
        },
        {
          "output_type": "display_data",
          "data": {
            "application/javascript": [
              "window[\"52a8eeda-0a08-11eb-a366-0242ac1c0002\"] = google.colab.output.setActiveOutputArea(window[\"528e8310-0a08-11eb-a366-0242ac1c0002\"]);\n",
              "//# sourceURL=js_d5d5fb9f07"
            ],
            "text/plain": [
              "<IPython.core.display.Javascript object>"
            ]
          },
          "metadata": {
            "tags": [
              "id32-0-0",
              "outputarea_id32"
            ]
          }
        },
        {
          "output_type": "display_data",
          "data": {
            "application/javascript": [
              "window[\"53600926-0a08-11eb-a366-0242ac1c0002\"] = google.colab.output.getActiveOutputArea();\n",
              "//# sourceURL=js_b620aa52d6"
            ],
            "text/plain": [
              "<IPython.core.display.Javascript object>"
            ]
          },
          "metadata": {
            "tags": [
              "id32-0-0",
              "outputarea_id32"
            ]
          }
        },
        {
          "output_type": "display_data",
          "data": {
            "application/javascript": [
              "window[\"53607410-0a08-11eb-a366-0242ac1c0002\"] = document.querySelector(\"#id32-0-0\");\n",
              "//# sourceURL=js_187362df0f"
            ],
            "text/plain": [
              "<IPython.core.display.Javascript object>"
            ]
          },
          "metadata": {
            "tags": [
              "id32-0-0",
              "outputarea_id32"
            ]
          }
        },
        {
          "output_type": "display_data",
          "data": {
            "application/javascript": [
              "window[\"5360b9a2-0a08-11eb-a366-0242ac1c0002\"] = google.colab.output.setActiveOutputArea(window[\"53607410-0a08-11eb-a366-0242ac1c0002\"]);\n",
              "//# sourceURL=js_7b76053210"
            ],
            "text/plain": [
              "<IPython.core.display.Javascript object>"
            ]
          },
          "metadata": {
            "tags": [
              "id32-0-0",
              "outputarea_id32"
            ]
          }
        },
        {
          "output_type": "display_data",
          "data": {
            "application/javascript": [
              "window[\"537b5546-0a08-11eb-a366-0242ac1c0002\"] = google.colab.output.setActiveOutputArea(window[\"53600926-0a08-11eb-a366-0242ac1c0002\"]);\n",
              "//# sourceURL=js_7875a5e545"
            ],
            "text/plain": [
              "<IPython.core.display.Javascript object>"
            ]
          },
          "metadata": {
            "tags": [
              "id32-0-0",
              "outputarea_id32"
            ]
          }
        },
        {
          "output_type": "display_data",
          "data": {
            "application/javascript": [
              "window[\"54397012-0a08-11eb-a366-0242ac1c0002\"] = google.colab.output.getActiveOutputArea();\n",
              "//# sourceURL=js_bb71c3e13b"
            ],
            "text/plain": [
              "<IPython.core.display.Javascript object>"
            ]
          },
          "metadata": {
            "tags": [
              "id32-0-0",
              "outputarea_id32"
            ]
          }
        },
        {
          "output_type": "display_data",
          "data": {
            "application/javascript": [
              "window[\"5439fbb8-0a08-11eb-a366-0242ac1c0002\"] = document.querySelector(\"#id32-0-0\");\n",
              "//# sourceURL=js_6de7ce3b38"
            ],
            "text/plain": [
              "<IPython.core.display.Javascript object>"
            ]
          },
          "metadata": {
            "tags": [
              "id32-0-0",
              "outputarea_id32"
            ]
          }
        },
        {
          "output_type": "display_data",
          "data": {
            "application/javascript": [
              "window[\"543a6c7e-0a08-11eb-a366-0242ac1c0002\"] = google.colab.output.setActiveOutputArea(window[\"5439fbb8-0a08-11eb-a366-0242ac1c0002\"]);\n",
              "//# sourceURL=js_95ef8406e2"
            ],
            "text/plain": [
              "<IPython.core.display.Javascript object>"
            ]
          },
          "metadata": {
            "tags": [
              "id32-0-0",
              "outputarea_id32"
            ]
          }
        },
        {
          "output_type": "display_data",
          "data": {
            "application/javascript": [
              "window[\"5454efe0-0a08-11eb-a366-0242ac1c0002\"] = google.colab.output.setActiveOutputArea(window[\"54397012-0a08-11eb-a366-0242ac1c0002\"]);\n",
              "//# sourceURL=js_bde6b008f8"
            ],
            "text/plain": [
              "<IPython.core.display.Javascript object>"
            ]
          },
          "metadata": {
            "tags": [
              "id32-0-0",
              "outputarea_id32"
            ]
          }
        },
        {
          "output_type": "display_data",
          "data": {
            "application/javascript": [
              "window[\"55132348-0a08-11eb-a366-0242ac1c0002\"] = google.colab.output.getActiveOutputArea();\n",
              "//# sourceURL=js_bca66714be"
            ],
            "text/plain": [
              "<IPython.core.display.Javascript object>"
            ]
          },
          "metadata": {
            "tags": [
              "id32-0-0",
              "outputarea_id32"
            ]
          }
        },
        {
          "output_type": "display_data",
          "data": {
            "application/javascript": [
              "window[\"55139a12-0a08-11eb-a366-0242ac1c0002\"] = document.querySelector(\"#id32-0-0\");\n",
              "//# sourceURL=js_2de9a886a0"
            ],
            "text/plain": [
              "<IPython.core.display.Javascript object>"
            ]
          },
          "metadata": {
            "tags": [
              "id32-0-0",
              "outputarea_id32"
            ]
          }
        },
        {
          "output_type": "display_data",
          "data": {
            "application/javascript": [
              "window[\"5513e148-0a08-11eb-a366-0242ac1c0002\"] = google.colab.output.setActiveOutputArea(window[\"55139a12-0a08-11eb-a366-0242ac1c0002\"]);\n",
              "//# sourceURL=js_2b342474ad"
            ],
            "text/plain": [
              "<IPython.core.display.Javascript object>"
            ]
          },
          "metadata": {
            "tags": [
              "id32-0-0",
              "outputarea_id32"
            ]
          }
        },
        {
          "output_type": "display_data",
          "data": {
            "application/javascript": [
              "window[\"552ef942-0a08-11eb-a366-0242ac1c0002\"] = google.colab.output.setActiveOutputArea(window[\"55132348-0a08-11eb-a366-0242ac1c0002\"]);\n",
              "//# sourceURL=js_5fa89b7a7f"
            ],
            "text/plain": [
              "<IPython.core.display.Javascript object>"
            ]
          },
          "metadata": {
            "tags": [
              "id32-0-0",
              "outputarea_id32"
            ]
          }
        },
        {
          "output_type": "display_data",
          "data": {
            "application/javascript": [
              "window[\"55f46218-0a08-11eb-a366-0242ac1c0002\"] = google.colab.output.getActiveOutputArea();\n",
              "//# sourceURL=js_8e68bc5f23"
            ],
            "text/plain": [
              "<IPython.core.display.Javascript object>"
            ]
          },
          "metadata": {
            "tags": [
              "id32-0-0",
              "outputarea_id32"
            ]
          }
        },
        {
          "output_type": "display_data",
          "data": {
            "application/javascript": [
              "window[\"55f4ea1c-0a08-11eb-a366-0242ac1c0002\"] = document.querySelector(\"#id32-0-0\");\n",
              "//# sourceURL=js_ad8e973899"
            ],
            "text/plain": [
              "<IPython.core.display.Javascript object>"
            ]
          },
          "metadata": {
            "tags": [
              "id32-0-0",
              "outputarea_id32"
            ]
          }
        },
        {
          "output_type": "display_data",
          "data": {
            "application/javascript": [
              "window[\"55f5801c-0a08-11eb-a366-0242ac1c0002\"] = google.colab.output.setActiveOutputArea(window[\"55f4ea1c-0a08-11eb-a366-0242ac1c0002\"]);\n",
              "//# sourceURL=js_56993b14b9"
            ],
            "text/plain": [
              "<IPython.core.display.Javascript object>"
            ]
          },
          "metadata": {
            "tags": [
              "id32-0-0",
              "outputarea_id32"
            ]
          }
        },
        {
          "output_type": "display_data",
          "data": {
            "application/javascript": [
              "window[\"560e810c-0a08-11eb-a366-0242ac1c0002\"] = google.colab.output.setActiveOutputArea(window[\"55f46218-0a08-11eb-a366-0242ac1c0002\"]);\n",
              "//# sourceURL=js_9b4b6299d3"
            ],
            "text/plain": [
              "<IPython.core.display.Javascript object>"
            ]
          },
          "metadata": {
            "tags": [
              "id32-0-0",
              "outputarea_id32"
            ]
          }
        },
        {
          "output_type": "display_data",
          "data": {
            "application/javascript": [
              "window[\"56c79eee-0a08-11eb-a366-0242ac1c0002\"] = google.colab.output.getActiveOutputArea();\n",
              "//# sourceURL=js_3f598ec074"
            ],
            "text/plain": [
              "<IPython.core.display.Javascript object>"
            ]
          },
          "metadata": {
            "tags": [
              "id32-0-0",
              "outputarea_id32"
            ]
          }
        },
        {
          "output_type": "display_data",
          "data": {
            "application/javascript": [
              "window[\"56c7ec96-0a08-11eb-a366-0242ac1c0002\"] = document.querySelector(\"#id32-0-0\");\n",
              "//# sourceURL=js_f3fb843011"
            ],
            "text/plain": [
              "<IPython.core.display.Javascript object>"
            ]
          },
          "metadata": {
            "tags": [
              "id32-0-0",
              "outputarea_id32"
            ]
          }
        },
        {
          "output_type": "display_data",
          "data": {
            "application/javascript": [
              "window[\"56c82148-0a08-11eb-a366-0242ac1c0002\"] = google.colab.output.setActiveOutputArea(window[\"56c7ec96-0a08-11eb-a366-0242ac1c0002\"]);\n",
              "//# sourceURL=js_14fd0879fb"
            ],
            "text/plain": [
              "<IPython.core.display.Javascript object>"
            ]
          },
          "metadata": {
            "tags": [
              "id32-0-0",
              "outputarea_id32"
            ]
          }
        },
        {
          "output_type": "display_data",
          "data": {
            "application/javascript": [
              "window[\"56e1b96e-0a08-11eb-a366-0242ac1c0002\"] = google.colab.output.setActiveOutputArea(window[\"56c79eee-0a08-11eb-a366-0242ac1c0002\"]);\n",
              "//# sourceURL=js_9400211e52"
            ],
            "text/plain": [
              "<IPython.core.display.Javascript object>"
            ]
          },
          "metadata": {
            "tags": [
              "id32-0-0",
              "outputarea_id32"
            ]
          }
        },
        {
          "output_type": "display_data",
          "data": {
            "application/javascript": [
              "window[\"5799de22-0a08-11eb-a366-0242ac1c0002\"] = google.colab.output.getActiveOutputArea();\n",
              "//# sourceURL=js_2b67d99f88"
            ],
            "text/plain": [
              "<IPython.core.display.Javascript object>"
            ]
          },
          "metadata": {
            "tags": [
              "id32-0-0",
              "outputarea_id32"
            ]
          }
        },
        {
          "output_type": "display_data",
          "data": {
            "application/javascript": [
              "window[\"579a1f7c-0a08-11eb-a366-0242ac1c0002\"] = document.querySelector(\"#id32-0-0\");\n",
              "//# sourceURL=js_23f6ad3533"
            ],
            "text/plain": [
              "<IPython.core.display.Javascript object>"
            ]
          },
          "metadata": {
            "tags": [
              "id32-0-0",
              "outputarea_id32"
            ]
          }
        },
        {
          "output_type": "display_data",
          "data": {
            "application/javascript": [
              "window[\"579a5500-0a08-11eb-a366-0242ac1c0002\"] = google.colab.output.setActiveOutputArea(window[\"579a1f7c-0a08-11eb-a366-0242ac1c0002\"]);\n",
              "//# sourceURL=js_469a7e46f4"
            ],
            "text/plain": [
              "<IPython.core.display.Javascript object>"
            ]
          },
          "metadata": {
            "tags": [
              "id32-0-0",
              "outputarea_id32"
            ]
          }
        },
        {
          "output_type": "display_data",
          "data": {
            "application/javascript": [
              "window[\"57b45cca-0a08-11eb-a366-0242ac1c0002\"] = google.colab.output.setActiveOutputArea(window[\"5799de22-0a08-11eb-a366-0242ac1c0002\"]);\n",
              "//# sourceURL=js_5e6f1da85a"
            ],
            "text/plain": [
              "<IPython.core.display.Javascript object>"
            ]
          },
          "metadata": {
            "tags": [
              "id32-0-0",
              "outputarea_id32"
            ]
          }
        },
        {
          "output_type": "display_data",
          "data": {
            "application/javascript": [
              "window[\"586fc0c8-0a08-11eb-a366-0242ac1c0002\"] = google.colab.output.getActiveOutputArea();\n",
              "//# sourceURL=js_a54c725308"
            ],
            "text/plain": [
              "<IPython.core.display.Javascript object>"
            ]
          },
          "metadata": {
            "tags": [
              "id32-0-0",
              "outputarea_id32"
            ]
          }
        },
        {
          "output_type": "display_data",
          "data": {
            "application/javascript": [
              "window[\"587036ac-0a08-11eb-a366-0242ac1c0002\"] = document.querySelector(\"#id32-0-0\");\n",
              "//# sourceURL=js_6f164aa9ca"
            ],
            "text/plain": [
              "<IPython.core.display.Javascript object>"
            ]
          },
          "metadata": {
            "tags": [
              "id32-0-0",
              "outputarea_id32"
            ]
          }
        },
        {
          "output_type": "display_data",
          "data": {
            "application/javascript": [
              "window[\"58706a32-0a08-11eb-a366-0242ac1c0002\"] = google.colab.output.setActiveOutputArea(window[\"587036ac-0a08-11eb-a366-0242ac1c0002\"]);\n",
              "//# sourceURL=js_a6bc8eb5dc"
            ],
            "text/plain": [
              "<IPython.core.display.Javascript object>"
            ]
          },
          "metadata": {
            "tags": [
              "id32-0-0",
              "outputarea_id32"
            ]
          }
        },
        {
          "output_type": "display_data",
          "data": {
            "application/javascript": [
              "window[\"58896bcc-0a08-11eb-a366-0242ac1c0002\"] = google.colab.output.setActiveOutputArea(window[\"586fc0c8-0a08-11eb-a366-0242ac1c0002\"]);\n",
              "//# sourceURL=js_c5e42fb10f"
            ],
            "text/plain": [
              "<IPython.core.display.Javascript object>"
            ]
          },
          "metadata": {
            "tags": [
              "id32-0-0",
              "outputarea_id32"
            ]
          }
        },
        {
          "output_type": "display_data",
          "data": {
            "application/javascript": [
              "window[\"59425c7c-0a08-11eb-a366-0242ac1c0002\"] = google.colab.output.getActiveOutputArea();\n",
              "//# sourceURL=js_e498941a30"
            ],
            "text/plain": [
              "<IPython.core.display.Javascript object>"
            ]
          },
          "metadata": {
            "tags": [
              "id32-0-0",
              "outputarea_id32"
            ]
          }
        },
        {
          "output_type": "display_data",
          "data": {
            "application/javascript": [
              "window[\"5942f128-0a08-11eb-a366-0242ac1c0002\"] = document.querySelector(\"#id32-0-0\");\n",
              "//# sourceURL=js_75e7b98d49"
            ],
            "text/plain": [
              "<IPython.core.display.Javascript object>"
            ]
          },
          "metadata": {
            "tags": [
              "id32-0-0",
              "outputarea_id32"
            ]
          }
        },
        {
          "output_type": "display_data",
          "data": {
            "application/javascript": [
              "window[\"59433912-0a08-11eb-a366-0242ac1c0002\"] = google.colab.output.setActiveOutputArea(window[\"5942f128-0a08-11eb-a366-0242ac1c0002\"]);\n",
              "//# sourceURL=js_51dc46b497"
            ],
            "text/plain": [
              "<IPython.core.display.Javascript object>"
            ]
          },
          "metadata": {
            "tags": [
              "id32-0-0",
              "outputarea_id32"
            ]
          }
        },
        {
          "output_type": "display_data",
          "data": {
            "application/javascript": [
              "window[\"595d0fa4-0a08-11eb-a366-0242ac1c0002\"] = google.colab.output.setActiveOutputArea(window[\"59425c7c-0a08-11eb-a366-0242ac1c0002\"]);\n",
              "//# sourceURL=js_b96929d537"
            ],
            "text/plain": [
              "<IPython.core.display.Javascript object>"
            ]
          },
          "metadata": {
            "tags": [
              "id32-0-0",
              "outputarea_id32"
            ]
          }
        },
        {
          "output_type": "display_data",
          "data": {
            "application/javascript": [
              "window[\"5a254852-0a08-11eb-a366-0242ac1c0002\"] = google.colab.output.getActiveOutputArea();\n",
              "//# sourceURL=js_913dc97def"
            ],
            "text/plain": [
              "<IPython.core.display.Javascript object>"
            ]
          },
          "metadata": {
            "tags": [
              "id32-0-0",
              "outputarea_id32"
            ]
          }
        },
        {
          "output_type": "display_data",
          "data": {
            "application/javascript": [
              "window[\"5a25953c-0a08-11eb-a366-0242ac1c0002\"] = document.querySelector(\"#id32-0-0\");\n",
              "//# sourceURL=js_17b5fa3961"
            ],
            "text/plain": [
              "<IPython.core.display.Javascript object>"
            ]
          },
          "metadata": {
            "tags": [
              "id32-0-0",
              "outputarea_id32"
            ]
          }
        },
        {
          "output_type": "display_data",
          "data": {
            "application/javascript": [
              "window[\"5a25cafc-0a08-11eb-a366-0242ac1c0002\"] = google.colab.output.setActiveOutputArea(window[\"5a25953c-0a08-11eb-a366-0242ac1c0002\"]);\n",
              "//# sourceURL=js_9b5804d3b8"
            ],
            "text/plain": [
              "<IPython.core.display.Javascript object>"
            ]
          },
          "metadata": {
            "tags": [
              "id32-0-0",
              "outputarea_id32"
            ]
          }
        },
        {
          "output_type": "display_data",
          "data": {
            "application/javascript": [
              "window[\"5a42ac58-0a08-11eb-a366-0242ac1c0002\"] = google.colab.output.setActiveOutputArea(window[\"5a254852-0a08-11eb-a366-0242ac1c0002\"]);\n",
              "//# sourceURL=js_e633f04458"
            ],
            "text/plain": [
              "<IPython.core.display.Javascript object>"
            ]
          },
          "metadata": {
            "tags": [
              "id32-0-0",
              "outputarea_id32"
            ]
          }
        },
        {
          "output_type": "display_data",
          "data": {
            "application/javascript": [
              "window[\"5b04b3c0-0a08-11eb-a366-0242ac1c0002\"] = google.colab.output.getActiveOutputArea();\n",
              "//# sourceURL=js_750d7a119b"
            ],
            "text/plain": [
              "<IPython.core.display.Javascript object>"
            ]
          },
          "metadata": {
            "tags": [
              "id32-0-0",
              "outputarea_id32"
            ]
          }
        },
        {
          "output_type": "display_data",
          "data": {
            "application/javascript": [
              "window[\"5b04fe02-0a08-11eb-a366-0242ac1c0002\"] = document.querySelector(\"#id32-0-0\");\n",
              "//# sourceURL=js_1c855f3aa6"
            ],
            "text/plain": [
              "<IPython.core.display.Javascript object>"
            ]
          },
          "metadata": {
            "tags": [
              "id32-0-0",
              "outputarea_id32"
            ]
          }
        },
        {
          "output_type": "display_data",
          "data": {
            "application/javascript": [
              "window[\"5b053976-0a08-11eb-a366-0242ac1c0002\"] = google.colab.output.setActiveOutputArea(window[\"5b04fe02-0a08-11eb-a366-0242ac1c0002\"]);\n",
              "//# sourceURL=js_73d1725adc"
            ],
            "text/plain": [
              "<IPython.core.display.Javascript object>"
            ]
          },
          "metadata": {
            "tags": [
              "id32-0-0",
              "outputarea_id32"
            ]
          }
        },
        {
          "output_type": "display_data",
          "data": {
            "image/png": "[encoded data removed]",
            "text/plain": [
              "<Figure size 432x288 with 1 Axes>"
            ]
          },
          "metadata": {
            "tags": [
              "id32-0-0",
              "outputarea_id32",
              "user_output"
            ],
            "needs_background": "light"
          }
        },
        {
          "output_type": "display_data",
          "data": {
            "application/javascript": [
              "window[\"5b2006ca-0a08-11eb-a366-0242ac1c0002\"] = google.colab.output.setActiveOutputArea(window[\"5b04b3c0-0a08-11eb-a366-0242ac1c0002\"]);\n",
              "//# sourceURL=js_8c3d7cb9e1"
            ],
            "text/plain": [
              "<IPython.core.display.Javascript object>"
            ]
          },
          "metadata": {
            "tags": [
              "id32-0-0",
              "outputarea_id32"
            ]
          }
        }
      ]
    },
    {
      "cell_type": "markdown",
      "metadata": {
        "id": "TbNFeFkSbXoN"
      },
      "source": [
        "If all is well, the fake and real distributions should nicely overlap after training. The discriminator has essentially pushed the fake samples towards the real distribution and the generator is now able to transform the noise distribution into a distribution of 'real' samples!\n",
        "\n",
        "**Question** Can you explain what happened to the red line during training? Why does it look like it does after training?\n",
        "\n",
        "**Answer** The red line represents the predictions of the discriminator. At first the discriminator predicts the sample 0 (fake).\n",
        "\n",
        "**Question** Try training the GAN with different input noise distributions, e.g. uniform.\n",
        "\n",
        "**Answer** I set the variable noise_function to easily vary the noise distributions.\n",
        "\n",
        "**Question** See if you can find a distribution for the real samples for which the generator fails to generate samples.\n",
        "\n",
        "**Answer** \n",
        "Tried: Uniform (able), Laplace (able), Gumbel (able), Logistic (able), lognormal (seems not able but it could be because of different values in distribution?)\n"
      ]
    },
    {
      "cell_type": "markdown",
      "metadata": {
        "id": "LuZBMvf4NWvD"
      },
      "source": [
        "During training, we have stored the loss values for the discriminator and the generator. We can now plot these. Remember that for the digit classification task, we were looking for a set of parameters leading to a low loss function. \n",
        "\n",
        "**Question** The loss curves that you get look different. Can you explain why they're not nicely dropping to zero? Can you explain the loss in the discriminator based on the objective function of the discriminator?"
      ]
    },
    {
      "cell_type": "code",
      "metadata": {
        "id": "61bpDVDJNf12",
        "outputId": "d46b3229-6a8c-4f5c-e969-10410d707ffc",
        "colab": {
          "base_uri": "https://localhost:8080/",
          "height": 530
        }
      },
      "source": [
        "plt.figure(figsize=(10, 8))\n",
        "plt.subplot(1, 2, 1)\n",
        "plt.plot(d_losses)\n",
        "plt.title('Discriminator loss')\n",
        "plt.xlabel('Epoch')\n",
        "plt.ylabel('Loss')\n",
        "plt.subplot(1, 2, 2)\n",
        "plt.plot(g_losses)\n",
        "plt.title('Generator loss')\n",
        "plt.xlabel('Epoch')\n",
        "plt.ylabel('Loss')\n",
        "plt.legend()\n",
        "plt.show()"
      ],
      "execution_count": 25,
      "outputs": [
        {
          "output_type": "stream",
          "text": [
            "No handles with labels found to put in legend.\n"
          ],
          "name": "stderr"
        },
        {
          "output_type": "display_data",
          "data": {
            "image/png": "[encoded data removed]",
            "text/plain": [
              "<Figure size 720x576 with 2 Axes>"
            ]
          },
          "metadata": {
            "tags": [],
            "needs_background": "light"
          }
        }
      ]
    },
    {
      "cell_type": "markdown",
      "metadata": {
        "id": "dreog2u1b-iI"
      },
      "source": [
        "Although it is definitely nice that we can train two networks together to learn the distribution of a real data distribution, generating samples from a normal distribution is in itself not really interesting. Luckily, we can use the same principles to generate images."
      ]
    },
    {
      "cell_type": "markdown",
      "metadata": {
        "id": "4hq5i_sySZL1"
      },
      "source": [
        "# MNIST synthesis\n",
        "Like last week, we are again going to use MNIST data. Data preparation is the same as before."
      ]
    },
    {
      "cell_type": "code",
      "metadata": {
        "id": "CYCMGnXnFnZc"
      },
      "source": [
        "from keras.datasets import mnist\n",
        "from keras.utils import to_categorical\n",
        "\n",
        "# load the MNIST the dataset\n",
        "(x_train, y_train), (x_test, y_test) = mnist.load_data()\n",
        "\n",
        "# scale the image intensities to the 0-1 range\n",
        "x_train = (x_train / 255.0).astype(np.float32)\n",
        "x_test = (x_test / 255.0).astype(np.float32)\n",
        "\n",
        "# convert the data to channel-last\n",
        "train_set_images = np.expand_dims(x_train, axis=-1)\n",
        "test_set_images = np.expand_dims(x_test, axis=-1)\n",
        "\n",
        "# convert the labels to one-hot encoded\n",
        "train_set_labels = to_categorical(y_train, num_classes=10)\n",
        "test_set_labels = to_categorical(y_test, num_classes=10)"
      ],
      "execution_count": 42,
      "outputs": []
    },
    {
      "cell_type": "markdown",
      "metadata": {
        "id": "c-5ls6CemTIX"
      },
      "source": [
        "Plot some images."
      ]
    },
    {
      "cell_type": "code",
      "metadata": {
        "id": "_0M65_8qTmOI",
        "outputId": "52cc7665-d033-4f00-b240-35e3683c0e70",
        "colab": {
          "base_uri": "https://localhost:8080/",
          "height": 729
        }
      },
      "source": [
        "def plotImages(images, dim=(10, 10), figsize=(10, 10), title=''):\n",
        "    plt.figure(figsize=figsize)\n",
        "    for i in range(images.shape[0]):\n",
        "        plt.subplot(dim[0], dim[1], i+1)\n",
        "        plt.imshow(images[i], interpolation='nearest', cmap='gray_r')\n",
        "        plt.axis('off')\n",
        "    plt.tight_layout()\n",
        "    plt.suptitle(title)\n",
        "    plt.show()\n",
        "    \n",
        "plotImages(train_set_images[np.random.randint(0, train_set_images.shape[0], size=100)].reshape(100, 28, 28))"
      ],
      "execution_count": 27,
      "outputs": [
        {
          "output_type": "display_data",
          "data": {
            "image/png": "[encoded data removed]",
            "text/plain": [
              "<Figure size 720x720 with 100 Axes>"
            ]
          },
          "metadata": {
            "tags": [],
            "needs_background": "light"
          }
        }
      ]
    },
    {
      "cell_type": "markdown",
      "metadata": {
        "id": "qJnlR4PJSeQB"
      },
      "source": [
        "In last week's exercise you have built a discriminative model that was able to classify an image into one of ten digit categories. In this exercise, we are going to do the inverse. Given a point in a latent space (which in our case will be a multi-dimensional Gaussian distribution), we are going to train the network to generate a realistic digit image for this point. The MNIST data set will be used as a set of real samples. \n",
        "\n",
        "<img src=\"https://skymind.ai/images/wiki/GANs.png\">\n",
        "\n"
      ]
    },
    {
      "cell_type": "markdown",
      "metadata": {
        "id": "blRfoIS4Uo8-"
      },
      "source": [
        "## The discriminator\n",
        "As you can see in the image above, we will need a generator and a discriminator network. Let's define these. Consider the network that you used\n",
        "for digit classification in the previous exercise and see if you can spot some differences between that network and the network below.\n",
        "\n",
        "**Question** Is this a convolutional neural network? Why (not)?\n",
        "\n",
        "**Answer** No, since no convolution is used in this network"
      ]
    },
    {
      "cell_type": "code",
      "metadata": {
        "id": "qg36jdcyUvPF"
      },
      "source": [
        "def get_discriminator_MLP():\n",
        "  discriminator = keras.models.Sequential()\n",
        "  discriminator.add(Dense(1024, input_dim=784, kernel_initializer=keras.initializers.RandomNormal(stddev=0.02)))\n",
        "  discriminator.add(LeakyReLU(0.2))\n",
        "  discriminator.add(Dropout(0.3))\n",
        "  discriminator.add(Dense(512))\n",
        "  discriminator.add(LeakyReLU(0.2))\n",
        "  discriminator.add(Dropout(0.3))\n",
        "  discriminator.add(Dense(256))\n",
        "  discriminator.add(LeakyReLU(0.2))\n",
        "  discriminator.add(Dense(1, activation='sigmoid'))\n",
        "  return discriminator"
      ],
      "execution_count": 43,
      "outputs": []
    },
    {
      "cell_type": "markdown",
      "metadata": {
        "id": "0KYxSSbBQ28g"
      },
      "source": [
        "You could argue that digits are a bit more complex than samples from a Gaussian distribution, so let's set the latent space dimensionality for noise sampling a bit higher than 1."
      ]
    },
    {
      "cell_type": "code",
      "metadata": {
        "id": "MmCVJxAmQ6nE"
      },
      "source": [
        "latent_dim = 10"
      ],
      "execution_count": 44,
      "outputs": []
    },
    {
      "cell_type": "markdown",
      "metadata": {
        "id": "5BGSHlx-VmVY"
      },
      "source": [
        "\n",
        "## The generator\n",
        "\n",
        "The generator is different than the discriminator. It should go from a low-dimensional noise vector to an MNIST image."
      ]
    },
    {
      "cell_type": "code",
      "metadata": {
        "id": "fEjxnxAwVukq"
      },
      "source": [
        "def get_generator_MLP():\n",
        "  generator = keras.models.Sequential()\n",
        "  generator.add(Dense(256, input_dim=latent_dim, kernel_initializer=keras.initializers.RandomNormal(stddev=0.02)))\n",
        "  generator.add(LeakyReLU(0.2))\n",
        "  generator.add(Dense(512))\n",
        "  generator.add(LeakyReLU(0.2))\n",
        "  generator.add(Dense(1024))\n",
        "  generator.add(LeakyReLU(0.2))\n",
        "  generator.add(Dense(784, activation='tanh'))\n",
        "  return generator"
      ],
      "execution_count": 45,
      "outputs": []
    },
    {
      "cell_type": "markdown",
      "metadata": {
        "id": "nAUU4F7OQxO0"
      },
      "source": [
        "**Question** Consider the activation functions of the output layers of the generator and discriminator networks. How are they different?\n",
        "\n",
        "**Answer** The disciminator uses a sigmoid activation in the last dense layer and the generator a tanh function. Tanh is also like logistic sigmoid but differs in range. The range of the tanh function is from (-1 to 1). Tanh is also sigmoidal. The advantage is that the negative inputs will be mapped strongly negative and the zero inputs will be mapped near zero in the tanh graph. \n",
        "\n",
        "**Question** Also look at the activation functions of the other layers, can you find out what they do? Look at the Keras documentation.\n",
        "\n",
        "**Answer** Leaky ReLU allows a gradient when the unit is positive and a small positive gradient when it is negative"
      ]
    },
    {
      "cell_type": "markdown",
      "metadata": {
        "id": "NH_4zv4gnYhg"
      },
      "source": [
        "## The model\n",
        "Now  let's combine the generator and the discriminator. We train both using a binary crossentropy objective. This is very similar to what we did before."
      ]
    },
    {
      "cell_type": "code",
      "metadata": {
        "id": "2dR_iHzXXHjb"
      },
      "source": [
        "discriminator = get_discriminator_MLP()\n",
        "generator = get_generator_MLP()\n",
        "\n",
        "discriminator.compile(loss='binary_crossentropy', optimizer=keras.optimizers.Adam(lr=0.0002, beta_1=0.5))\n",
        "generator.compile(loss='binary_crossentropy', optimizer=keras.optimizers.Adam(lr=0.0002, beta_1=0.5))\n",
        "\n",
        "discriminator.trainable = False\n",
        "z = keras.layers.Input(shape=(latent_dim,))\n",
        "G_z = generator(z)\n",
        "D_G_z = discriminator(G_z)\n",
        "gan = keras.models.Model(inputs=z, outputs=D_G_z)\n",
        "gan.compile(loss='binary_crossentropy', optimizer=keras.optimizers.Adam(lr=0.0002, beta_1=0.5))"
      ],
      "execution_count": 46,
      "outputs": []
    },
    {
      "cell_type": "markdown",
      "metadata": {
        "id": "fRMLacRF_RXo"
      },
      "source": [
        "Some helper functions."
      ]
    },
    {
      "cell_type": "code",
      "metadata": {
        "id": "MPXzOrqYZqmN"
      },
      "source": [
        "def saveModels(epoch):\n",
        "    generator.save('gan_generator_epoch_{}.h5'.format(epoch))\n",
        "    discriminator.save('gan_discriminator_epoch_{}.h5'.format(epoch))\n",
        "    \n",
        "def plotGeneratedImages(epoch, examples=100, dim=(10, 10), figsize=(10, 10)):\n",
        "    noise = np.random.normal(0, 1, size=[examples, latent_dim])\n",
        "    generatedImages = generator.predict(noise)\n",
        "    generatedImages = generatedImages.reshape(examples, 28, 28)\n",
        "\n",
        "    plt.figure(figsize=figsize)\n",
        "    for i in range(generatedImages.shape[0]):\n",
        "        plt.subplot(dim[0], dim[1], i+1)\n",
        "        plt.imshow(generatedImages[i], interpolation='nearest', cmap='gray_r')\n",
        "        plt.axis('off')\n",
        "    plt.tight_layout()\n",
        "    plt.suptitle('Epoch {}'.format(epoch))\n",
        "    plt.show()"
      ],
      "execution_count": 47,
      "outputs": []
    },
    {
      "cell_type": "markdown",
      "metadata": {
        "id": "aSJGSyUOmxCN"
      },
      "source": [
        "Run the code below to train the GAN model. Synthesized images should be shown periodically. "
      ]
    },
    {
      "cell_type": "code",
      "metadata": {
        "id": "eYInR4WkXj_g",
        "outputId": "821652a3-f41f-4537-a916-2c25ba7c6e79",
        "colab": {
          "base_uri": "https://localhost:8080/",
          "height": 762
        }
      },
      "source": [
        "d_losses = []\n",
        "g_losses = []\n",
        "\n",
        "epochs = 200\n",
        "batch_size = 128\n",
        "\n",
        "X_train = (train_set_images.reshape(60000, 784).astype(np.float32) - 0.5)/0.5\n",
        "\n",
        "batch_count = int(X_train.shape[0] / batch_size)\n",
        "for e in range(epochs):\n",
        "  for _ in range(batch_count):\n",
        "\n",
        "    # Get a random set of input noise and images\n",
        "    noise = np.random.normal(0, 1, size=[batch_size, latent_dim])\n",
        "    image_batch = X_train[np.random.randint(0, X_train.shape[0], size=batch_size)]\n",
        "\n",
        "    # Generate some fake MNIST images using the generator\n",
        "    generated_images = generator.predict(noise)\n",
        "\n",
        "    # Concatenate the fake and real images\n",
        "    X = np.concatenate([image_batch, generated_images])\n",
        "\n",
        "    # Labels for generated and real data\n",
        "    y_dis = np.zeros(2*batch_size)\n",
        "    # One-sided label smoothing\n",
        "    y_dis[:batch_size] = 0.9\n",
        "\n",
        "    # Train discriminator with this batch of samples\n",
        "    discriminator.trainable = True\n",
        "    d_loss = discriminator.train_on_batch(X, y_dis)\n",
        "\n",
        "    # Train generator with a new batch of generated samples\n",
        "    noise = np.random.normal(0, 1, size=[batch_size, latent_dim])\n",
        "\n",
        "    # From the generator's perspective, the discriminator should predict\n",
        "    # ones for all samples\n",
        "    y_gen = np.ones(batch_size)\n",
        "\n",
        "    # Freeze the discriminator part\n",
        "    discriminator.trainable = False\n",
        "\n",
        "    # Train the GAN to predict ones\n",
        "    g_loss = gan.train_on_batch(noise, y_gen)\n",
        "\n",
        "  # Store loss of most recent batch from this epoch\n",
        "  d_losses.append(d_loss)\n",
        "  g_losses.append(g_loss)\n",
        "\n",
        "  if e % 5 == 0:\n",
        "    noise = np.random.normal(0, 1, size=[100, latent_dim])\n",
        "    plotGeneratedImages(e)\n",
        "    display.display(plt.gcf())\n",
        "    display.clear_output(wait=True)\n",
        "    time.sleep(0.001)\n",
        "    saveModels(e)\n",
        "\n"
      ],
      "execution_count": null,
      "outputs": [
        {
          "output_type": "display_data",
          "data": {
            "text/plain": [
              "<Figure size 432x288 with 0 Axes>"
            ]
          },
          "metadata": {
            "tags": []
          }
        },
        {
          "output_type": "display_data",
          "data": {
            "image/png": "[encoded data removed]",
            "text/plain": [
              "<Figure size 720x720 with 100 Axes>"
            ]
          },
          "metadata": {
            "tags": [],
            "needs_background": "light"
          }
        },
        {
          "output_type": "display_data",
          "data": {
            "text/plain": [
              "<Figure size 432x288 with 0 Axes>"
            ]
          },
          "metadata": {
            "tags": []
          }
        }
      ]
    },
    {
      "cell_type": "code",
      "metadata": {
        "id": "nj6sJUkqINVV",
        "outputId": "81a18a3d-40f6-4846-8cf9-5b5f843f181a",
        "colab": {
          "base_uri": "https://localhost:8080/",
          "height": 312
        }
      },
      "source": [
        "plt.plot(d_losses, label = \"Discriminator\")\n",
        "plt.plot(g_losses, label = \"Generator\")\n",
        "plt.title(\"Loss\")\n",
        "plt.legend()\n",
        "plt.xlabel(\"epoch\")\n",
        "plt.ylabel(\"loss\")"
      ],
      "execution_count": 34,
      "outputs": [
        {
          "output_type": "execute_result",
          "data": {
            "text/plain": [
              "Text(0, 0.5, 'loss')"
            ]
          },
          "metadata": {
            "tags": []
          },
          "execution_count": 34
        },
        {
          "output_type": "display_data",
          "data": {
            "image/png": "[encoded data removed]",
            "text/plain": [
              "<Figure size 432x288 with 1 Axes>"
            ]
          },
          "metadata": {
            "tags": [],
            "needs_background": "light"
          }
        }
      ]
    },
    {
      "cell_type": "markdown",
      "metadata": {
        "id": "RkAQZ1-uA1SQ"
      },
      "source": [
        "**Question** Inspect the loss curves for this model and explain what happens.\n",
        "\n",
        "**Answer** The loss curves of both the generator and the discriminator converge to one value. The loss of the discriminator slightly increases to 1 and the loss of the generator decreases. This is expected as stated before:\n",
        "\n",
        "The overall objective function of our system is as follows\n",
        "\n",
        "$V^{(D)}(D,G)=\\underset{x\\sim p_{data}}{\\mathbb{E}} [\\log{D(x)}]+\\underset{z\\sim p_z}{\\mathbb{E}} [\\log{(1-D(G(z)))}]$\n",
        "\n",
        "The generator $G$ is trying to **minimize** this loss, and the discriminator $D$ tries to **maximize** this."
      ]
    },
    {
      "cell_type": "markdown",
      "metadata": {
        "id": "p7MFDUeHSgQ-"
      },
      "source": [
        "## A convolutional model\n",
        "Thus far the discriminator and generator were both multilayer perceptrons. Now we're going to add in some convolutional layers to turn them into a deep convolutional GAN (<a href=\"http://arxiv.org/abs/1511.06434\">DCGAN</a>)-like architecture. This means that we have to redefine the generator network and a discriminator network. \n",
        "\n",
        "The discriminator network is (almost) the same network that we used in last week's exercise."
      ]
    },
    {
      "cell_type": "code",
      "metadata": {
        "id": "bccrTGP0SiVJ"
      },
      "source": [
        "from keras.layers.convolutional import Conv2D, UpSampling2D\n",
        "\n",
        "def get_discriminator_CNN():\n",
        "  discriminator = keras.models.Sequential()\n",
        "  discriminator.add(Conv2D(64, kernel_size=(5, 5), strides=(2, 2), padding='same', input_shape=(1, 28, 28), kernel_initializer=keras.initializers.RandomNormal(stddev=0.02)))\n",
        "  discriminator.add(LeakyReLU(0.2))\n",
        "  discriminator.add(Dropout(0.3))\n",
        "  discriminator.add(Conv2D(128, kernel_size=(5, 5), strides=(2, 2), padding='same'))\n",
        "  discriminator.add(LeakyReLU(0.2))\n",
        "  discriminator.add(Dropout(0.3))\n",
        "  discriminator.add(Flatten())\n",
        "  discriminator.add(Dense(1, activation='sigmoid'))\n",
        "  return discriminator\n",
        "\n",
        "def get_generator_CNN():\n",
        "  generator = keras.models.Sequential()\n",
        "  generator.add(Dense(128*7*7, input_dim=latent_dim, kernel_initializer=keras.initializers.RandomNormal(stddev=0.02)))\n",
        "  generator.add(LeakyReLU(0.2))\n",
        "  generator.add(Reshape((128, 7, 7)))\n",
        "  generator.add(UpSampling2D(size=(2, 2)))\n",
        "  generator.add(Conv2D(64, kernel_size=(5, 5), padding='same'))\n",
        "  generator.add(LeakyReLU(0.2))\n",
        "  generator.add(UpSampling2D(size=(2, 2)))\n",
        "  generator.add(Conv2D(1, kernel_size=(5, 5), padding='same', activation='tanh'))\n",
        "  return generator"
      ],
      "execution_count": 35,
      "outputs": []
    },
    {
      "cell_type": "markdown",
      "metadata": {
        "id": "JSKkoosKAwrh"
      },
      "source": [
        "Let's build our model like before."
      ]
    },
    {
      "cell_type": "code",
      "metadata": {
        "id": "mu8rmKcoGAPb"
      },
      "source": [
        "discriminator = get_discriminator_CNN()\n",
        "generator = get_generator_CNN()\n",
        "\n",
        "discriminator.compile(loss='binary_crossentropy', optimizer=keras.optimizers.Adam(lr=0.0002, beta_1=0.5))\n",
        "generator.compile(loss='binary_crossentropy', optimizer=keras.optimizers.Adam(lr=0.0002, beta_1=0.5))\n",
        "\n",
        "discriminator.trainable = False\n",
        "z = keras.layers.Input(shape=(latent_dim,))\n",
        "x = generator(z)\n",
        "D_G_z = discriminator(x)\n",
        "gan = keras.models.Model(inputs=z, outputs=D_G_z)\n",
        "gan.compile(loss='binary_crossentropy', optimizer=keras.optimizers.Adam(lr=0.0002, beta_1=0.5))"
      ],
      "execution_count": 36,
      "outputs": []
    },
    {
      "cell_type": "markdown",
      "metadata": {
        "id": "Ojox3HxJnVDF"
      },
      "source": [
        "Train the model using the code below. Inspect the samples that come out. \n",
        "\n",
        "**Question** What are some differences between these samples and the ones generated by the multilayer perceptron GAN? Can you explain these differences?\n",
        "\n",
        "**Answer** These samples are a lot less noisy compared to the samples from the multilayer perceptrion GAN. Convolutional networks are generally very good for working with images because of their concept of dimensionality reduction which is very useful when working with high numbers of parameters which images contain. The multi-layer perceptor also doesn't really look at the local structure of the image while the convolutional network does."
      ]
    },
    {
      "cell_type": "code",
      "metadata": {
        "id": "k79EFqsgWz0l",
        "outputId": "0d10551f-dd7d-4c55-9e7f-ab39e0b9cf33",
        "colab": {
          "base_uri": "https://localhost:8080/",
          "height": 34
        }
      },
      "source": [
        "d_losses = []\n",
        "g_losses = []\n",
        "\n",
        "epochs = 200\n",
        "batch_size = 128\n",
        "\n",
        "X_train = (train_set_images.reshape(60000, 1, 28, 28).astype(np.float32) - 0.5)/0.5\n",
        "\n",
        "batch_count = int(X_train.shape[0] / batch_size)\n",
        "for e in range(epochs):\n",
        "  for _ in range(batch_count):\n",
        "    # Get a random set of input noise and images\n",
        "    noise = np.random.normal(0, 1, size=[batch_size, latent_dim])\n",
        "    image_batch = X_train[np.random.randint(0, X_train.shape[0], size=batch_size)]\n",
        "\n",
        "    # Generate some fake MNIST images using the generator\n",
        "    generated_images = generator.predict(noise)\n",
        "\n",
        "    # Concatenate the fake and real images\n",
        "    X = np.concatenate([image_batch, generated_images])\n",
        "\n",
        "    # Labels for generated and real data\n",
        "    y_dis = np.zeros(2*batch_size)\n",
        "    # Set reference to 1 for real samples\n",
        "    y_dis[:batch_size] = 1\n",
        "\n",
        "    # Train discriminator with this batch of samples\n",
        "    discriminator.trainable = True\n",
        "    d_loss = discriminator.train_on_batch(X, y_dis)\n",
        "\n",
        "    # Train generator with a new batch of generated samples\n",
        "    noise = np.random.normal(0, 1, size=[batch_size, latent_dim])\n",
        "\n",
        "    # From the generator's perspective, the discriminator should predict\n",
        "    # ones for all samples\n",
        "    y_gen = np.ones(batch_size)\n",
        "\n",
        "    # Freeze the discriminator part\n",
        "    discriminator.trainable = False\n",
        "\n",
        "    # Train the GAN to predict ones\n",
        "    g_loss = gan.train_on_batch(noise, y_gen)\n",
        "\n",
        "    # Store loss of most recent batch from this epoch\n",
        "  d_losses.append(d_loss)\n",
        "  g_losses.append(g_loss)\n",
        "\n",
        "  if e % 5 == 0:\n",
        "    noise = np.random.normal(0, 1, size=[100, latent_dim])\n",
        "    generatedImages = generator.predict(noise)\n",
        "    generatedImages = generatedImages.reshape(100, 28, 28)          \n",
        "    plotImages(generatedImages, title='Epoch {}'.format(e))\n",
        "    display.display(plt.gcf())\n",
        "    display.clear_output(wait=True)\n",
        "    time.sleep(0.001)    \n",
        "    saveModels(e)"
      ],
      "execution_count": 37,
      "outputs": [
        {
          "output_type": "display_data",
          "data": {
            "text/plain": [
              "<Figure size 432x288 with 0 Axes>"
            ]
          },
          "metadata": {
            "tags": []
          }
        }
      ]
    },
    {
      "cell_type": "markdown",
      "metadata": {
        "id": "jmtZkf5AnW6y"
      },
      "source": [
        "## Interpolation in the latent space\n",
        "We're going to explore the latent space a bit more. We pick two points in the latent space and make a linear interpolation between these two. Then we generate images from each of the interpolated latent points. "
      ]
    },
    {
      "cell_type": "code",
      "metadata": {
        "id": "_NlTG4FBkNpC",
        "outputId": "83db0448-1b3c-4b27-b27f-966935ed1ee0",
        "colab": {
          "base_uri": "https://localhost:8080/",
          "height": 91
        }
      },
      "source": [
        "noise_a = np.random.normal(0, 1, size=[1, latent_dim])\n",
        "noise_b = np.random.normal(0, 1, size=[1, latent_dim])\n",
        "\n",
        "noise = np.zeros((10, latent_dim), dtype='float32')\n",
        "for ni in range(10):\n",
        "  noise[ni, :] = float(ni)/10. * noise_a + (1 - float(ni)/10.) * noise_b\n",
        "generatedImages = generator.predict(noise)\n",
        "generatedImages = generatedImages.reshape(10, 28, 28)          \n",
        "plotImages(generatedImages, dim=(1, 10), figsize=(10, 10))"
      ],
      "execution_count": 38,
      "outputs": [
        {
          "output_type": "display_data",
          "data": {
            "image/png": "[encoded data removed]",
            "text/plain": [
              "<Figure size 720x720 with 10 Axes>"
            ]
          },
          "metadata": {
            "tags": [],
            "needs_background": "light"
          }
        }
      ]
    },
    {
      "cell_type": "markdown",
      "metadata": {
        "id": "JxkznblanlBO"
      },
      "source": [
        "**Question** Explain what you see in this plot.\n",
        "\n",
        "**Answer** The plot shows ten different images generated by the generator network. Each image is generated from a different noise distribution. It shows that the noise first results in a 9 and when more noise is added the result image slowly turns into a 0.\n",
        "\n",
        "**Question** What happens when you extrapolate out of the latent space distribution? Consider how the noise vectors are drawn.\n",
        "\n",
        "**Answer** \n",
        "\n"
      ]
    },
    {
      "cell_type": "markdown",
      "metadata": {
        "id": "dEjdfhRZsUGR"
      },
      "source": [
        "# Histopathology image synthesis"
      ]
    },
    {
      "cell_type": "markdown",
      "metadata": {
        "id": "MhUnPg2sYitQ"
      },
      "source": [
        "Now we're going to synthesize some actual images. We're going to use the PatchCamelyon data set ([more info here](https://github.com/basveeling/pcam)) which consists of small images that can be used for classification benchmarks. Today, we're not going to classify images, but we're going to synthesize them. You can download a data set of smaller (28 x 28 pixels) versions of these images from \n",
        "[this link](https://drive.google.com/file/d/11tkBWleY6PqFAGQHW0zYOwhvuz0kq-ai/view?usp=sharing). Upload the data set in the dialog below."
      ]
    },
    {
      "cell_type": "code",
      "metadata": {
        "id": "fMGM8sLhsbWh"
      },
      "source": [
        "uploaded = files.upload()"
      ],
      "execution_count": null,
      "outputs": []
    },
    {
      "cell_type": "markdown",
      "metadata": {
        "id": "lE8OlCi-ZKFf"
      },
      "source": [
        "Now load the data set."
      ]
    },
    {
      "cell_type": "code",
      "metadata": {
        "id": "NfJIE29rFYUA"
      },
      "source": [
        "def loadPatchCamelyon(path):    \n",
        "    f = gzip.open(path, 'rb')\n",
        "    train_set = pickle.load(f, encoding='latin1')\n",
        "    f.close()\n",
        "    return train_set"
      ],
      "execution_count": null,
      "outputs": []
    },
    {
      "cell_type": "code",
      "metadata": {
        "id": "WP1Eho1U1oMX"
      },
      "source": [
        "train_set_images = loadPatchCamelyon(r'valid_28.pkl.gz')\n",
        "\n",
        "def plotImagesPatchCamelyon(images, dim=(10, 10), figsize=(10, 10), title=''):\n",
        "    plt.figure(figsize=figsize)\n",
        "    for i in range(images.shape[0]):\n",
        "        plt.subplot(dim[0], dim[1], i+1)\n",
        "        plt.imshow(images[i], interpolation='nearest')\n",
        "        plt.axis('off')\n",
        "    plt.tight_layout()\n",
        "    plt.suptitle(title)\n",
        "    plt.show()\n",
        "    \n",
        "    \n",
        "plotImagesPatchCamelyon(train_set_images[np.random.randint(0, train_set_images.shape[0], size=100)].reshape(100, 28, 28, 3)/255.0)"
      ],
      "execution_count": null,
      "outputs": []
    },
    {
      "cell_type": "markdown",
      "metadata": {
        "id": "iQzcCZ_hZNbH"
      },
      "source": [
        "What do you immediately notice? Indeed, these images are in color! So the generator will have to generate three output channels instead of just one. \n",
        "\n",
        "In this second-to-last part of the practical you're going to repurpose the code that you have used so far to synthesize histopathology images like the ones above. You can play around a bit with this, see what happens when you interpolate between samples, etc. Remember that there is a final 'exercise' below.\n",
        "\n",
        "**Good luck!**"
      ]
    },
    {
      "cell_type": "code",
      "metadata": {
        "id": "UCm1R35fSVlw"
      },
      "source": [
        "## YOUR CODE GOES HERE"
      ],
      "execution_count": null,
      "outputs": []
    },
    {
      "cell_type": "markdown",
      "metadata": {
        "id": "S8CchPs2kIVT"
      },
      "source": [
        "# Conditional image synthesis"
      ]
    },
    {
      "cell_type": "markdown",
      "metadata": {
        "id": "RBALpqMLFPt2"
      },
      "source": [
        "## The BigGAN model\n",
        "The images we have synthesized so far are all quite small. Synthesis of larger images (e.g. 512 x 512 pixels) typically requires a lot of compute power and patience. Unfortunately, you don't have 100s of GPU at your disposal (I guess) to train a model like BigGAN, the state of the art in conditional image synthesis. A wild guess is that it would cost you around [USD60000](https://twitter.com/quasimondo/status/1065610256917692416) to train this model.\n",
        "\n",
        "Luckily, the authors of BigGAN have put a version of their pretrained model online and you can use it to synthesize images. Go to [this Colaboratory file](https://colab.research.google.com/github/tensorflow/hub/blob/master/examples/colab/biggan_generation_with_tf_hub.ipynb) and answer the following questions.\n",
        "\n",
        "**Question** What happens when you change the noise seed? Also try out different categories.\n",
        "\n",
        "**Question** What happens to your samples when you change the truncation value? More precisely, what happens to the diversity and the quality of your samples? Take a look at the [paper on arXiv](https://arxiv.org/abs/1809.11096) Sec. 3.1 to get an idea what this value does.\n",
        "\n",
        "**Question** Interpolate between image categories, inspect what these look like. \n",
        "\n",
        "\n"
      ]
    },
    {
      "cell_type": "markdown",
      "metadata": {
        "id": "dqKCNciykQ-2"
      },
      "source": [
        "## Conditional MNIST synthesis\n",
        "For all MNIST samples we already have labels (0, 1, ..., n). Try to change the MNIST synthesis code such that you can ask the generator to generate specific labels. I.e., try to train a conditional GAN. You can look for some inspiration in [this paper](https://arxiv.org/pdf/1411.1784.pdf), in particular Sec. 4.1. Remember that you already got the MNIST labels when loading the data set."
      ]
    },
    {
      "cell_type": "markdown",
      "metadata": {
        "id": "VBQvHB70RjZi"
      },
      "source": [
        "# Pretrained models\n",
        "\n",
        "You can download some pre-trained generator models for the GAN training exercises from [this link](https://filesender.surf.nl/?s=download&token=475362bb-4098-4376-979b-b0d3ae9e3dd0), but of course it's much more interesting to train them yourself. Use \n",
        "\n",
        "\n",
        "```\n",
        "generator = keras.models.load_model(filename)\n",
        "```\n",
        "\n",
        "to load the model.\n"
      ]
    }
  ]
}