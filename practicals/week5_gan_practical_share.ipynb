{
  "nbformat": 4,
  "nbformat_minor": 0,
  "metadata": {
    "colab": {
      "name": "gan_practical_share.ipynb",
      "provenance": [],
      "collapsed_sections": [
        "t1rhzu_KRVfD",
        "Y9hTkVp1ESQW",
        "4hq5i_sySZL1",
        "blRfoIS4Uo8-",
        "5BGSHlx-VmVY",
        "NH_4zv4gnYhg",
        "p7MFDUeHSgQ-",
        "jmtZkf5AnW6y",
        "dEjdfhRZsUGR",
        "S8CchPs2kIVT",
        "RBALpqMLFPt2",
        "dqKCNciykQ-2",
        "VBQvHB70RjZi"
      ],
      "include_colab_link": true
    },
    "kernelspec": {
      "name": "python3",
      "display_name": "Python 3"
    },
    "accelerator": "GPU"
  },
  "cells": [
    {
      "cell_type": "markdown",
      "metadata": {
        "id": "view-in-github",
        "colab_type": "text"
      },
      "source": [
        "<a href=\"https://colab.research.google.com/github/dloeffen/8dm50-machine-learning/blob/master/practicals/week5_gan_practical_share.ipynb\" target=\"_parent\"><img src=\"https://colab.research.google.com/assets/colab-badge.svg\" alt=\"Open In Colab\"/></a>"
      ]
    },
    {
      "cell_type": "markdown",
      "metadata": {
        "id": "t1rhzu_KRVfD"
      },
      "source": [
        "# Data synthesis using generative adversarial networks (GANs)\n",
        "\n",
        "In this practical session we will build and train generative adversarial networks that are able to generate images.\n",
        "\n",
        "This is a Google Colab notebook, which is mostly the same as a Jupyter notebook. This means that you can run the code in a cell by selecting the cell and pressing Shift+Enter. We will run everything in the cloud, so you don't need a fancy computer or an expensive GPU for this exercise. We are going to use GPUs that Google Cloud provides for free. To do this, go to Edit --> Notebook settings and select GPU as Hardware accelerator. Then, in the top right of this screen select 'CONNECT' --> 'Connect to hosted runtime'\n",
        "\n",
        "We are going to import some of the packages that we will need in this exercise (by running the cell below)\n",
        "\n",
        "The documentation for key packages can be found online: <br>\n",
        "For numpy: https://docs.scipy.org/doc/numpy-dev/user/quickstart.html <br>\n",
        "For matplotlib: http://matplotlib.org/api/pyplot_api.html <br>\n",
        "For Keras: https://keras.io/ <br>\n",
        "For random: https://docs.python.org/2/library/random.html <br>"
      ]
    },
    {
      "cell_type": "code",
      "metadata": {
        "id": "HV9fYTQRRQ6J"
      },
      "source": [
        "%tensorflow_version 1.x\n",
        "import pickle\n",
        "import gzip\n",
        "import numpy as np\n",
        "\n",
        "import matplotlib.pyplot as plt\n",
        "%matplotlib inline\n",
        "from matplotlib import rc\n",
        "from matplotlib import pylab\n",
        "from IPython import display\n",
        "\n",
        "import tensorflow as tf\n",
        "import keras\n",
        "keras.backend.set_image_data_format('channels_first')\n",
        "\n",
        "import time\n",
        "import random\n",
        "from google.colab import files\n",
        "from google.colab import widgets\n",
        "random.seed(0)\n",
        "\n",
        "# Check whether we're using a GPU\n",
        "device_name = tf.test.gpu_device_name()\n",
        "if device_name != '/device:GPU:0':\n",
        "  raise SystemError('GPU device not found')\n",
        "print('Found GPU at: {}'.format(device_name))\n",
        "\n",
        "tf.logging.set_verbosity(tf.logging.ERROR)"
      ],
      "execution_count": null,
      "outputs": []
    },
    {
      "cell_type": "markdown",
      "metadata": {
        "id": "Y9hTkVp1ESQW"
      },
      "source": [
        "## Small steps\n",
        "Before moving on to generating images, we will start with a simple 1D problem. We will assume that there is a data set of real samples that are drawn from a normal distribution with a particular mean value (the black dotted line below). These samples are in the sample domain *x*. \n",
        "\n",
        "The generator network does not know anything about the distribution of the real samples in the sample domain *x*, but will try to come up with a transformation that maps random noise from a distribution *z* to samples that seem to come from the real sample distribution (the green line below). This is very similar to what we have looked at in the lecture.\n",
        "\n",
        "<img src=\"https://cs.stanford.edu/people/karpathy/gan/gan.png\">\n",
        "\n",
        "For this, we will define two neural networks that play a game:\n",
        "*   The discriminator will learn to distinguish real and fake samples in *z*\n",
        "*   The generator will generate fake samples in *z* that the discriminator cannot discriminate\n",
        "\n",
        "First, we determine the mean value of the normal distribution from which **real** samples will be drawn in the sample domain *x*. In addition, we define the dimensionality of the normal distribution *z* from which noise samples to the generator will be drawn, i.e. the latent space. This will be 1 for now."
      ]
    },
    {
      "cell_type": "code",
      "metadata": {
        "id": "rsg4CLVHgMeJ"
      },
      "source": [
        "real_mean = 8\n",
        "latent_dim = 1"
      ],
      "execution_count": null,
      "outputs": []
    },
    {
      "cell_type": "markdown",
      "metadata": {
        "id": "2eLRuaRXgSKn"
      },
      "source": [
        "Next, we define our discriminator and generator. These are both very simple networks.\n",
        "\n",
        "**Question** How many layers does each of these networks have? \n",
        "\n",
        "**Answer** Both networks have 3 layers\n",
        "\n",
        "**Question** Can you find out how many trainable parameters the networks have?\n",
        "\n",
        "**Answer** They both have 97 trainable parameters\n",
        "\n",
        "**Question** What are the activation functions of both networks? Why are they like this? \n",
        "\n",
        "**Answer** Leaky ReLU, because it increases performance by tackling the dying ReLU neurons problem. It extends the range of ReLU by changing the slope left of x=0. The discriminator network also uses a Sigmoid activation to tell us the probability of whether the input image is real or not."
      ]
    },
    {
      "cell_type": "code",
      "metadata": {
        "id": "ACf058DjgZ9_"
      },
      "source": [
        "# For easier reading\n",
        "from keras.layers.core import Reshape, Dense, Dropout, Flatten\n",
        "from keras.layers.advanced_activations import LeakyReLU\n",
        "\n",
        "# The discriminator will directly classify the input value\n",
        "def get_discriminator_1D():\n",
        "  discriminator = keras.models.Sequential()\n",
        "  discriminator.add(Dense(32, input_dim=1))\n",
        "  discriminator.add(LeakyReLU())\n",
        "  discriminator.add(Dense(1, activation='sigmoid'))\n",
        "  return discriminator\n",
        "\n",
        "# The generator will transform a single input value\n",
        "def get_generator_1D():\n",
        "  generator = keras.models.Sequential()\n",
        "  generator.add(Dense(32, input_dim=1))\n",
        "  generator.add(LeakyReLU())\n",
        "  generator.add(Dense(1))\n",
        "  return generator\n",
        "\n",
        "get_discriminator_1D().summary()\n",
        "get_generator_1D().summary()"
      ],
      "execution_count": null,
      "outputs": []
    },
    {
      "cell_type": "markdown",
      "metadata": {
        "id": "0QYrW32ehE3_"
      },
      "source": [
        "Now, we will define the training functions for both networks. Consider what is actually happening in a GAN and how the inputs and outputs are connected. There are three variables when training this GAN\n",
        "\n",
        "*   **z**: the noise that will be input to the generator\n",
        "*   **G_z**: the output of the generator, i.e. the samples that should approximate the real samples\n",
        "*   **D_G_z**: the discriminator's decision based on the fake sample\n",
        "\n",
        "The overall objective function of our system is as follows\n",
        "\n",
        "$V^{(D)}(D,G)=\\underset{x\\sim p_{data}}{\\mathbb{E}} [\\log{D(x)}]+\\underset{z\\sim p_z}{\\mathbb{E}} [\\log{(1-D(G(z)))}]$\n",
        "\n",
        "The generator $G$ is trying to minimize this loss, and the discriminator $D$ tries to maximize this. In other words, the discriminator wants to minimize the binary cross-entropy s.t. it predicts 1 for real samples and 0 for fake samples. At the same time, the generator tries to get the discriminator to predict 1 for fake samples.\n",
        "\n",
        "\n"
      ]
    },
    {
      "cell_type": "code",
      "metadata": {
        "id": "H30WDcfXF7tY"
      },
      "source": [
        "# Get networks\n",
        "discriminator = get_discriminator_1D()\n",
        "generator = get_generator_1D()\n",
        "\n",
        "# Configure both models for training\n",
        "discriminator.compile(loss='binary_crossentropy', optimizer=keras.optimizers.Adam(lr=0.0002, beta_1=0.5))\n",
        "generator.compile(loss='binary_crossentropy', optimizer=keras.optimizers.Adam(lr=0.0002, beta_1=0.5))\n",
        "\n",
        "# To configure the full model, we will set the 'trainable' parameter of the discriminator to False, as we don't want to optimize the discriminator when optimizing the generator\n",
        "discriminator.trainable = False\n",
        "\n",
        "# The input variable (noise) for the generator\n",
        "z = keras.layers.Input(shape=(latent_dim,))\n",
        "\n",
        "# What comes out of the generator\n",
        "G_z = generator(z)\n",
        "\n",
        "# What comes out of the discriminator when classifying the 'fake' samples\n",
        "D_G_z = discriminator(G_z)\n",
        "\n",
        "# The full GAN model\n",
        "gan = keras.models.Model(inputs=z, outputs=D_G_z)\n",
        "\n",
        "# The loss function for the GAN: this gets lower if the fake samples are classified as real\n",
        "gan.compile(loss='binary_crossentropy', optimizer=keras.optimizers.Adam(lr=0.0002, beta_1=0.5))"
      ],
      "execution_count": null,
      "outputs": []
    },
    {
      "cell_type": "markdown",
      "metadata": {
        "id": "7MlpUJ_716Tk"
      },
      "source": [
        "The code below runs the training loop. This could take a while. The code will periodically show a plot of the current situation.\n",
        "\n",
        "**Question** Why do we set discriminator.trainable to either True or False?\n",
        "\n",
        "**Answer** We don't want to optimize the discriminator when optimizing the generator. While training the generator via the GAN we do not want the discriminator’s weights to be affected because we are using the discriminator as merely a classifier. So we use the True or False value to train the two parts in turn."
      ]
    },
    {
      "cell_type": "code",
      "metadata": {
        "id": "ynLndgse0r9V"
      },
      "source": [
        "# We will store the losses here\n",
        "g_losses = []\n",
        "d_losses = []\n",
        "\n",
        "# Training loop\n",
        "n_samples = 100\n",
        "epochs = 10000\n",
        "\n",
        "grid = widgets.Grid(1, 1)\n",
        "\n",
        "noise_function = np.random.normal\n",
        "\n",
        "for e in range(epochs):\n",
        "  # Get a random set of input noise\n",
        "  noise = noise_function(0, 1, size=[n_samples, latent_dim])\n",
        "\n",
        "  # Also get a sample from the 'real' distribution\n",
        "  real = noise_function(real_mean, 1, size=[n_samples, latent_dim])\n",
        "\n",
        "  # Generate some fake samples using the generator\n",
        "  fake = generator.predict(noise)\n",
        "\n",
        "  # Concatenate the fake and real images\n",
        "  X = np.concatenate([real, fake])\n",
        "\n",
        "  # Labels for generated and real data\n",
        "  Y_dis = np.zeros(2*n_samples)\n",
        "  \n",
        "  # Set labels for real samples to 1\n",
        "  Y_dis[:n_samples] = 1\n",
        "\n",
        "  # Train discriminator with this batch of samples\n",
        "  discriminator.trainable = True\n",
        "  d_loss = discriminator.train_on_batch(X, Y_dis)\n",
        "  d_losses.append(d_loss)\n",
        "  \n",
        "  # Train generator with a new batch of generated samples\n",
        "  # Freeze the discriminator part\n",
        "  discriminator.trainable = False \n",
        "  noise = noise_function(0, 1, size=[n_samples, latent_dim])\n",
        "  # From the generator's perspective, the discriminator should predict\n",
        "  # ones for all samples\n",
        "  Y_gen = np.ones(n_samples)\n",
        "  g_loss = gan.train_on_batch(noise, Y_gen)\n",
        "  g_losses.append(g_loss)\n",
        "  \n",
        "  if e % 100 == 0:\n",
        "    noise = noise_function(0, 1, size=[n_samples, latent_dim])\n",
        "    fake = generator.predict(noise)        \n",
        "    real = noise_function(real_mean, 1, size=[n_samples, latent_dim])\n",
        "    pred = discriminator.predict(np.arange(-20, 20, 0.5).reshape((80, 1)))\n",
        "    with grid.output_to(0, 0):\n",
        "      grid.clear_cell()\n",
        "      \n",
        "      # plt.clf()\n",
        "      pylab.hist((np.squeeze(fake), np.squeeze(real)), density=True, stacked=True)\n",
        "      pylab.scatter(np.arange(-20, 20, 0.5), pred, c='r')     \n",
        "      pylab.xlim(-20, 20)\n",
        "      pylab.ylim(0, 1)\n",
        "      pylab.title('Iteration {}'.format(e))\n",
        "      pylab.legend(['Discriminator', 'Fake', 'Real'])\n",
        "    time.sleep(0.5)"
      ],
      "execution_count": null,
      "outputs": []
    },
    {
      "cell_type": "markdown",
      "metadata": {
        "id": "TbNFeFkSbXoN"
      },
      "source": [
        "If all is well, the fake and real distributions should nicely overlap after training. The discriminator has essentially pushed the fake samples towards the real distribution and the generator is now able to transform the noise distribution into a distribution of 'real' samples!\n",
        "\n",
        "**Question** Can you explain what happened to the red line during training? Why does it look like it does after training?\n",
        "\n",
        "**Answer** The red line represents the predictions of the discriminator. At first the discriminator predicts the sample 0 (fake).\n",
        "\n",
        "**Question** Try training the GAN with different input noise distributions, e.g. uniform.\n",
        "\n",
        "**Answer** I set the variable noise_function to easily vary the noise distributions.\n",
        "\n",
        "**Question** See if you can find a distribution for the real samples for which the generator fails to generate samples.\n",
        "\n",
        "**Answer** \n",
        "Tried: Uniform (able), Laplace (able), Gumbel (able), Logistic (able), lognormal (seems not able but it could be because of different values in distribution?)\n"
      ]
    },
    {
      "cell_type": "markdown",
      "metadata": {
        "id": "LuZBMvf4NWvD"
      },
      "source": [
        "During training, we have stored the loss values for the discriminator and the generator. We can now plot these. Remember that for the digit classification task, we were looking for a set of parameters leading to a low loss function. \n",
        "\n",
        "**Question** The loss curves that you get look different. Can you explain why they're not nicely dropping to zero? Can you explain the loss in the discriminator based on the objective function of the discriminator?"
      ]
    },
    {
      "cell_type": "code",
      "metadata": {
        "id": "61bpDVDJNf12"
      },
      "source": [
        "plt.figure(figsize=(10, 8))\n",
        "plt.subplot(1, 2, 1)\n",
        "plt.plot(d_losses)\n",
        "plt.title('Discriminator loss')\n",
        "plt.xlabel('Epoch')\n",
        "plt.ylabel('Loss')\n",
        "plt.subplot(1, 2, 2)\n",
        "plt.plot(g_losses)\n",
        "plt.title('Generator loss')\n",
        "plt.xlabel('Epoch')\n",
        "plt.ylabel('Loss')\n",
        "plt.legend()\n",
        "plt.show()"
      ],
      "execution_count": null,
      "outputs": []
    },
    {
      "cell_type": "markdown",
      "metadata": {
        "id": "dreog2u1b-iI"
      },
      "source": [
        "Although it is definitely nice that we can train two networks together to learn the distribution of a real data distribution, generating samples from a normal distribution is in itself not really interesting. Luckily, we can use the same principles to generate images."
      ]
    },
    {
      "cell_type": "markdown",
      "metadata": {
        "id": "4hq5i_sySZL1"
      },
      "source": [
        "# MNIST synthesis\n",
        "Like last week, we are again going to use MNIST data. Data preparation is the same as before."
      ]
    },
    {
      "cell_type": "code",
      "metadata": {
        "id": "CYCMGnXnFnZc"
      },
      "source": [
        "from keras.datasets import mnist\n",
        "from keras.utils import to_categorical\n",
        "\n",
        "# load the MNIST the dataset\n",
        "(x_train, y_train), (x_test, y_test) = mnist.load_data()\n",
        "\n",
        "# scale the image intensities to the 0-1 range\n",
        "x_train = (x_train / 255.0).astype(np.float32)\n",
        "x_test = (x_test / 255.0).astype(np.float32)\n",
        "\n",
        "# convert the data to channel-last\n",
        "train_set_images = np.expand_dims(x_train, axis=-1)\n",
        "test_set_images = np.expand_dims(x_test, axis=-1)\n",
        "\n",
        "# convert the labels to one-hot encoded\n",
        "train_set_labels = to_categorical(y_train, num_classes=10)\n",
        "test_set_labels = to_categorical(y_test, num_classes=10)"
      ],
      "execution_count": null,
      "outputs": []
    },
    {
      "cell_type": "markdown",
      "metadata": {
        "id": "c-5ls6CemTIX"
      },
      "source": [
        "Plot some images."
      ]
    },
    {
      "cell_type": "code",
      "metadata": {
        "id": "_0M65_8qTmOI"
      },
      "source": [
        "def plotImages(images, dim=(10, 10), figsize=(10, 10), title=''):\n",
        "    plt.figure(figsize=figsize)\n",
        "    for i in range(images.shape[0]):\n",
        "        plt.subplot(dim[0], dim[1], i+1)\n",
        "        plt.imshow(images[i], interpolation='nearest', cmap='gray_r')\n",
        "        plt.axis('off')\n",
        "    plt.tight_layout()\n",
        "    plt.suptitle(title)\n",
        "    plt.show()\n",
        "    \n",
        "plotImages(train_set_images[np.random.randint(0, train_set_images.shape[0], size=100)].reshape(100, 28, 28))"
      ],
      "execution_count": null,
      "outputs": []
    },
    {
      "cell_type": "markdown",
      "metadata": {
        "id": "qJnlR4PJSeQB"
      },
      "source": [
        "In last week's exercise you have built a discriminative model that was able to classify an image into one of ten digit categories. In this exercise, we are going to do the inverse. Given a point in a latent space (which in our case will be a multi-dimensional Gaussian distribution), we are going to train the network to generate a realistic digit image for this point. The MNIST data set will be used as a set of real samples. \n",
        "\n",
        "<img src=\"https://skymind.ai/images/wiki/GANs.png\">\n",
        "\n"
      ]
    },
    {
      "cell_type": "markdown",
      "metadata": {
        "id": "blRfoIS4Uo8-"
      },
      "source": [
        "## The discriminator\n",
        "As you can see in the image above, we will need a generator and a discriminator network. Let's define these. Consider the network that you used\n",
        "for digit classification in the previous exercise and see if you can spot some differences between that network and the network below.\n",
        "\n",
        "**Question** Is this a convolutional neural network? Why (not)?\n",
        "\n",
        "**Answer** No, since no convolution is used in this network"
      ]
    },
    {
      "cell_type": "code",
      "metadata": {
        "id": "qg36jdcyUvPF"
      },
      "source": [
        "def get_discriminator_MLP():\n",
        "  discriminator = keras.models.Sequential()\n",
        "  discriminator.add(Dense(1024, input_dim=784, kernel_initializer=keras.initializers.RandomNormal(stddev=0.02)))\n",
        "  discriminator.add(LeakyReLU(0.2))\n",
        "  discriminator.add(Dropout(0.3))\n",
        "  discriminator.add(Dense(512))\n",
        "  discriminator.add(LeakyReLU(0.2))\n",
        "  discriminator.add(Dropout(0.3))\n",
        "  discriminator.add(Dense(256))\n",
        "  discriminator.add(LeakyReLU(0.2))\n",
        "  discriminator.add(Dense(1, activation='sigmoid'))\n",
        "  return discriminator"
      ],
      "execution_count": null,
      "outputs": []
    },
    {
      "cell_type": "markdown",
      "metadata": {
        "id": "0KYxSSbBQ28g"
      },
      "source": [
        "You could argue that digits are a bit more complex than samples from a Gaussian distribution, so let's set the latent space dimensionality for noise sampling a bit higher than 1."
      ]
    },
    {
      "cell_type": "code",
      "metadata": {
        "id": "MmCVJxAmQ6nE"
      },
      "source": [
        "latent_dim = 10"
      ],
      "execution_count": null,
      "outputs": []
    },
    {
      "cell_type": "markdown",
      "metadata": {
        "id": "5BGSHlx-VmVY"
      },
      "source": [
        "\n",
        "## The generator\n",
        "\n",
        "The generator is different than the discriminator. It should go from a low-dimensional noise vector to an MNIST image."
      ]
    },
    {
      "cell_type": "code",
      "metadata": {
        "id": "fEjxnxAwVukq"
      },
      "source": [
        "def get_generator_MLP():\n",
        "  generator = keras.models.Sequential()\n",
        "  generator.add(Dense(256, input_dim=latent_dim, kernel_initializer=keras.initializers.RandomNormal(stddev=0.02)))\n",
        "  generator.add(LeakyReLU(0.2))\n",
        "  generator.add(Dense(512))\n",
        "  generator.add(LeakyReLU(0.2))\n",
        "  generator.add(Dense(1024))\n",
        "  generator.add(LeakyReLU(0.2))\n",
        "  generator.add(Dense(784, activation='tanh'))\n",
        "  return generator"
      ],
      "execution_count": null,
      "outputs": []
    },
    {
      "cell_type": "markdown",
      "metadata": {
        "id": "nAUU4F7OQxO0"
      },
      "source": [
        "**Question** Consider the activation functions of the output layers of the generator and discriminator networks. How are they different?\n",
        "\n",
        "**Answer** The disciminator uses a sigmoid activation in the last dense layer and the generator a tanh function. Tanh is also like logistic sigmoid but differs in range. The range of the tanh function is from (-1 to 1). Tanh is also sigmoidal. The advantage is that the negative inputs will be mapped strongly negative and the zero inputs will be mapped near zero in the tanh graph. \n",
        "\n",
        "**Question** Also look at the activation functions of the other layers, can you find out what they do? Look at the Keras documentation.\n",
        "\n",
        "**Answer** Leaky ReLU allows a gradient when the unit is positive and a small positive gradient when it is negative"
      ]
    },
    {
      "cell_type": "markdown",
      "metadata": {
        "id": "NH_4zv4gnYhg"
      },
      "source": [
        "## The model\n",
        "Now  let's combine the generator and the discriminator. We train both using a binary crossentropy objective. This is very similar to what we did before."
      ]
    },
    {
      "cell_type": "code",
      "metadata": {
        "id": "2dR_iHzXXHjb"
      },
      "source": [
        "discriminator = get_discriminator_MLP()\n",
        "generator = get_generator_MLP()\n",
        "\n",
        "discriminator.compile(loss='binary_crossentropy', optimizer=keras.optimizers.Adam(lr=0.0002, beta_1=0.5))\n",
        "generator.compile(loss='binary_crossentropy', optimizer=keras.optimizers.Adam(lr=0.0002, beta_1=0.5))\n",
        "\n",
        "discriminator.trainable = False\n",
        "z = keras.layers.Input(shape=(latent_dim,))\n",
        "G_z = generator(z)\n",
        "D_G_z = discriminator(G_z)\n",
        "gan = keras.models.Model(inputs=z, outputs=D_G_z)\n",
        "gan.compile(loss='binary_crossentropy', optimizer=keras.optimizers.Adam(lr=0.0002, beta_1=0.5))"
      ],
      "execution_count": null,
      "outputs": []
    },
    {
      "cell_type": "markdown",
      "metadata": {
        "id": "fRMLacRF_RXo"
      },
      "source": [
        "Some helper functions."
      ]
    },
    {
      "cell_type": "code",
      "metadata": {
        "id": "MPXzOrqYZqmN"
      },
      "source": [
        "def saveModels(epoch):\n",
        "    generator.save('gan_generator_epoch_{}.h5'.format(epoch))\n",
        "    discriminator.save('gan_discriminator_epoch_{}.h5'.format(epoch))\n",
        "    \n",
        "def plotGeneratedImages(epoch, examples=100, dim=(10, 10), figsize=(10, 10)):\n",
        "    noise = np.random.normal(0, 1, size=[examples, latent_dim])\n",
        "    generatedImages = generator.predict(noise)\n",
        "    generatedImages = generatedImages.reshape(examples, 28, 28)\n",
        "\n",
        "    plt.figure(figsize=figsize)\n",
        "    for i in range(generatedImages.shape[0]):\n",
        "        plt.subplot(dim[0], dim[1], i+1)\n",
        "        plt.imshow(generatedImages[i], interpolation='nearest', cmap='gray_r')\n",
        "        plt.axis('off')\n",
        "    plt.tight_layout()\n",
        "    plt.suptitle('Epoch {}'.format(epoch))\n",
        "    plt.show()"
      ],
      "execution_count": null,
      "outputs": []
    },
    {
      "cell_type": "markdown",
      "metadata": {
        "id": "aSJGSyUOmxCN"
      },
      "source": [
        "Run the code below to train the GAN model. Synthesized images should be shown periodically. "
      ]
    },
    {
      "cell_type": "code",
      "metadata": {
        "id": "eYInR4WkXj_g",
        "outputId": "38741bc2-e70f-41ad-faf1-a412bbacd1a4",
        "colab": {
          "base_uri": "https://localhost:8080/",
          "height": 764
        }
      },
      "source": [
        "d_losses = []\n",
        "g_losses = []\n",
        "\n",
        "epochs = 200\n",
        "batch_size = 128\n",
        "\n",
        "X_train = (train_set_images.reshape(60000, 784).astype(np.float32) - 0.5)/0.5\n",
        "\n",
        "batch_count = int(X_train.shape[0] / batch_size)\n",
        "for e in range(epochs):\n",
        "  for _ in range(batch_count):\n",
        "\n",
        "    # Get a random set of input noise and images\n",
        "    noise = np.random.normal(0, 1, size=[batch_size, latent_dim])\n",
        "    image_batch = X_train[np.random.randint(0, X_train.shape[0], size=batch_size)]\n",
        "\n",
        "    # Generate some fake MNIST images using the generator\n",
        "    generated_images = generator.predict(noise)\n",
        "\n",
        "    # Concatenate the fake and real images\n",
        "    X = np.concatenate([image_batch, generated_images])\n",
        "\n",
        "    # Labels for generated and real data\n",
        "    y_dis = np.zeros(2*batch_size)\n",
        "    # One-sided label smoothing\n",
        "    y_dis[:batch_size] = 0.9\n",
        "\n",
        "    # Train discriminator with this batch of samples\n",
        "    discriminator.trainable = True\n",
        "    d_loss = discriminator.train_on_batch(X, y_dis)\n",
        "\n",
        "    # Train generator with a new batch of generated samples\n",
        "    noise = np.random.normal(0, 1, size=[batch_size, latent_dim])\n",
        "\n",
        "    # From the generator's perspective, the discriminator should predict\n",
        "    # ones for all samples\n",
        "    y_gen = np.ones(batch_size)\n",
        "\n",
        "    # Freeze the discriminator part\n",
        "    discriminator.trainable = False\n",
        "\n",
        "    # Train the GAN to predict ones\n",
        "    g_loss = gan.train_on_batch(noise, y_gen)\n",
        "\n",
        "  # Store loss of most recent batch from this epoch\n",
        "  d_losses.append(d_loss)\n",
        "  g_losses.append(g_loss)\n",
        "\n",
        "  if e % 5 == 0:\n",
        "    noise = np.random.normal(0, 1, size=[100, latent_dim])\n",
        "    plotGeneratedImages(e)\n",
        "    display.display(plt.gcf())\n",
        "    display.clear_output(wait=True)\n",
        "    time.sleep(0.001)\n",
        "    saveModels(e)\n",
        "\n"
      ],
      "execution_count": null,
      "outputs": [
        {
          "output_type": "display_data",
          "data": {
            "text/plain": [
              "<Figure size 432x288 with 0 Axes>"
            ]
          },
          "metadata": {
            "tags": []
          }
        },
        {
          "output_type": "display_data",
          "data": {
            "image/png": "[encoded data removed]",
            "text/plain": [
              "<Figure size 720x720 with 100 Axes>"
            ]
          },
          "metadata": {
            "tags": [],
            "needs_background": "light"
          }
        },
        {
          "output_type": "display_data",
          "data": {
            "text/plain": [
              "<Figure size 432x288 with 0 Axes>"
            ]
          },
          "metadata": {
            "tags": []
          }
        }
      ]
    },
    {
      "cell_type": "code",
      "metadata": {
        "id": "nj6sJUkqINVV"
      },
      "source": [
        "plt.plot(d_losses, label = \"Discriminator\")\n",
        "plt.plot(g_losses, label = \"Generator\")\n",
        "plt.title(\"Loss\")\n",
        "plt.legend()\n",
        "plt.xlabel(\"epoch\")\n",
        "plt.ylabel(\"loss\")"
      ],
      "execution_count": null,
      "outputs": []
    },
    {
      "cell_type": "markdown",
      "metadata": {
        "id": "RkAQZ1-uA1SQ"
      },
      "source": [
        "**Question** Inspect the loss curves for this model and explain what happens.\n",
        "\n",
        "**Answer** The loss curves of both the generator and the discriminator converge to one value. The loss of the discriminator slightly increases to 1 and the loss of the generator decreases. This is expected as stated before:\n",
        "\n",
        "The overall objective function of our system is as follows\n",
        "\n",
        "$V^{(D)}(D,G)=\\underset{x\\sim p_{data}}{\\mathbb{E}} [\\log{D(x)}]+\\underset{z\\sim p_z}{\\mathbb{E}} [\\log{(1-D(G(z)))}]$\n",
        "\n",
        "The generator $G$ is trying to **minimize** this loss, and the discriminator $D$ tries to **maximize** this."
      ]
    },
    {
      "cell_type": "markdown",
      "metadata": {
        "id": "p7MFDUeHSgQ-"
      },
      "source": [
        "## A convolutional model\n",
        "Thus far the discriminator and generator were both multilayer perceptrons. Now we're going to add in some convolutional layers to turn them into a deep convolutional GAN (<a href=\"http://arxiv.org/abs/1511.06434\">DCGAN</a>)-like architecture. This means that we have to redefine the generator network and a discriminator network. \n",
        "\n",
        "The discriminator network is (almost) the same network that we used in last week's exercise."
      ]
    },
    {
      "cell_type": "code",
      "metadata": {
        "id": "bccrTGP0SiVJ"
      },
      "source": [
        "from keras.layers.convolutional import Conv2D, UpSampling2D\n",
        "\n",
        "def get_discriminator_CNN():\n",
        "  discriminator = keras.models.Sequential()\n",
        "  discriminator.add(Conv2D(64, kernel_size=(5, 5), strides=(2, 2), padding='same', input_shape=(1, 28, 28), kernel_initializer=keras.initializers.RandomNormal(stddev=0.02)))\n",
        "  discriminator.add(LeakyReLU(0.2))\n",
        "  discriminator.add(Dropout(0.3))\n",
        "  discriminator.add(Conv2D(128, kernel_size=(5, 5), strides=(2, 2), padding='same'))\n",
        "  discriminator.add(LeakyReLU(0.2))\n",
        "  discriminator.add(Dropout(0.3))\n",
        "  discriminator.add(Flatten())\n",
        "  discriminator.add(Dense(1, activation='sigmoid'))\n",
        "  return discriminator\n",
        "\n",
        "def get_generator_CNN():\n",
        "  generator = keras.models.Sequential()\n",
        "  generator.add(Dense(128*7*7, input_dim=latent_dim, kernel_initializer=keras.initializers.RandomNormal(stddev=0.02)))\n",
        "  generator.add(LeakyReLU(0.2))\n",
        "  generator.add(Reshape((128, 7, 7)))\n",
        "  generator.add(UpSampling2D(size=(2, 2)))\n",
        "  generator.add(Conv2D(64, kernel_size=(5, 5), padding='same'))\n",
        "  generator.add(LeakyReLU(0.2))\n",
        "  generator.add(UpSampling2D(size=(2, 2)))\n",
        "  generator.add(Conv2D(1, kernel_size=(5, 5), padding='same', activation='tanh'))\n",
        "  return generator"
      ],
      "execution_count": null,
      "outputs": []
    },
    {
      "cell_type": "markdown",
      "metadata": {
        "id": "JSKkoosKAwrh"
      },
      "source": [
        "Let's build our model like before."
      ]
    },
    {
      "cell_type": "code",
      "metadata": {
        "id": "mu8rmKcoGAPb"
      },
      "source": [
        "discriminator = get_discriminator_CNN()\n",
        "generator = get_generator_CNN()\n",
        "\n",
        "discriminator.compile(loss='binary_crossentropy', optimizer=keras.optimizers.Adam(lr=0.0002, beta_1=0.5))\n",
        "generator.compile(loss='binary_crossentropy', optimizer=keras.optimizers.Adam(lr=0.0002, beta_1=0.5))\n",
        "\n",
        "discriminator.trainable = False\n",
        "z = keras.layers.Input(shape=(latent_dim,))\n",
        "x = generator(z)\n",
        "D_G_z = discriminator(x)\n",
        "gan = keras.models.Model(inputs=z, outputs=D_G_z)\n",
        "gan.compile(loss='binary_crossentropy', optimizer=keras.optimizers.Adam(lr=0.0002, beta_1=0.5))"
      ],
      "execution_count": null,
      "outputs": []
    },
    {
      "cell_type": "markdown",
      "metadata": {
        "id": "Ojox3HxJnVDF"
      },
      "source": [
        "Train the model using the code below. Inspect the samples that come out. \n",
        "\n",
        "**Question** What are some differences between these samples and the ones generated by the multilayer perceptron GAN? Can you explain these differences?\n",
        "\n",
        "**Answer** These samples are a lot less noisy compared to the samples from the multilayer perceptrion GAN. Convolutional networks are generally very good for working with images because of their concept of dimensionality reduction which is very useful when working with high numbers of parameters which images contain. The multi-layer perceptor also doesn't really look at the local structure of the image while the convolutional network does."
      ]
    },
    {
      "cell_type": "code",
      "metadata": {
        "id": "k79EFqsgWz0l"
      },
      "source": [
        "d_losses = []\n",
        "g_losses = []\n",
        "\n",
        "epochs = 200\n",
        "batch_size = 128\n",
        "\n",
        "X_train = (train_set_images.reshape(60000, 1, 28, 28).astype(np.float32) - 0.5)/0.5\n",
        "\n",
        "batch_count = int(X_train.shape[0] / batch_size)\n",
        "for e in range(epochs):\n",
        "  for _ in range(batch_count):\n",
        "    # Get a random set of input noise and images\n",
        "    noise = np.random.normal(0, 1, size=[batch_size, latent_dim])\n",
        "    image_batch = X_train[np.random.randint(0, X_train.shape[0], size=batch_size)]\n",
        "\n",
        "    # Generate some fake MNIST images using the generator\n",
        "    generated_images = generator.predict(noise)\n",
        "\n",
        "    # Concatenate the fake and real images\n",
        "    X = np.concatenate([image_batch, generated_images])\n",
        "\n",
        "    # Labels for generated and real data\n",
        "    y_dis = np.zeros(2*batch_size)\n",
        "    # Set reference to 1 for real samples\n",
        "    y_dis[:batch_size] = 1\n",
        "\n",
        "    # Train discriminator with this batch of samples\n",
        "    discriminator.trainable = True\n",
        "    d_loss = discriminator.train_on_batch(X, y_dis)\n",
        "\n",
        "    # Train generator with a new batch of generated samples\n",
        "    noise = np.random.normal(0, 1, size=[batch_size, latent_dim])\n",
        "\n",
        "    # From the generator's perspective, the discriminator should predict\n",
        "    # ones for all samples\n",
        "    y_gen = np.ones(batch_size)\n",
        "\n",
        "    # Freeze the discriminator part\n",
        "    discriminator.trainable = False\n",
        "\n",
        "    # Train the GAN to predict ones\n",
        "    g_loss = gan.train_on_batch(noise, y_gen)\n",
        "\n",
        "    # Store loss of most recent batch from this epoch\n",
        "  d_losses.append(d_loss)\n",
        "  g_losses.append(g_loss)\n",
        "\n",
        "  if e % 5 == 0:\n",
        "    noise = np.random.normal(0, 1, size=[100, latent_dim])\n",
        "    generatedImages = generator.predict(noise)\n",
        "    generatedImages = generatedImages.reshape(100, 28, 28)          \n",
        "    plotImages(generatedImages, title='Epoch {}'.format(e))\n",
        "    display.display(plt.gcf())\n",
        "    display.clear_output(wait=True)\n",
        "    time.sleep(0.001)    \n",
        "    saveModels(e)"
      ],
      "execution_count": null,
      "outputs": []
    },
    {
      "cell_type": "markdown",
      "metadata": {
        "id": "jmtZkf5AnW6y"
      },
      "source": [
        "## Interpolation in the latent space\n",
        "We're going to explore the latent space a bit more. We pick two points in the latent space and make a linear interpolation between these two. Then we generate images from each of the interpolated latent points. "
      ]
    },
    {
      "cell_type": "code",
      "metadata": {
        "id": "_NlTG4FBkNpC"
      },
      "source": [
        "noise_a = np.random.normal(0, 1, size=[1, latent_dim])\n",
        "noise_b = np.random.normal(0, 1, size=[1, latent_dim])\n",
        "\n",
        "noise = np.zeros((10, latent_dim), dtype='float32')\n",
        "for ni in range(10):\n",
        "  noise[ni, :] = float(ni)/10. * noise_a + (1 - float(ni)/10.) * noise_b\n",
        "generatedImages = generator.predict(noise)\n",
        "generatedImages = generatedImages.reshape(10, 28, 28)          \n",
        "plotImages(generatedImages, dim=(1, 10), figsize=(10, 10))"
      ],
      "execution_count": null,
      "outputs": []
    },
    {
      "cell_type": "markdown",
      "metadata": {
        "id": "JxkznblanlBO"
      },
      "source": [
        "**Question** Explain what you see in this plot.\n",
        "\n",
        "**Answer** The plot shows ten different images generated by the generator network. Each image is generated from a different noise distribution. It shows that the noise first results in a 9 and when more noise is added the result image slowly turns into a 0. Basically it shows the path between two points in the latent space.\n",
        "\n",
        "**Question** What happens when you extrapolate out of the latent space distribution? Consider how the noise vectors are drawn.\n",
        "\n",
        "**Answer** When we extrapolate out of the latent space it would be possible to generate images which we won't be able to get within our defined latent space.\n",
        "\n"
      ]
    },
    {
      "cell_type": "markdown",
      "metadata": {
        "id": "dEjdfhRZsUGR"
      },
      "source": [
        "# Histopathology image synthesis"
      ]
    },
    {
      "cell_type": "markdown",
      "metadata": {
        "id": "MhUnPg2sYitQ"
      },
      "source": [
        "Now we're going to synthesize some actual images. We're going to use the PatchCamelyon data set ([more info here](https://github.com/basveeling/pcam)) which consists of small images that can be used for classification benchmarks. Today, we're not going to classify images, but we're going to synthesize them. You can download a data set of smaller (28 x 28 pixels) versions of these images from \n",
        "[this link](https://drive.google.com/file/d/11tkBWleY6PqFAGQHW0zYOwhvuz0kq-ai/view?usp=sharing). Upload the data set in the dialog below."
      ]
    },
    {
      "cell_type": "code",
      "metadata": {
        "id": "fMGM8sLhsbWh"
      },
      "source": [
        "uploaded = files.upload()"
      ],
      "execution_count": null,
      "outputs": []
    },
    {
      "cell_type": "markdown",
      "metadata": {
        "id": "lE8OlCi-ZKFf"
      },
      "source": [
        "Now load the data set."
      ]
    },
    {
      "cell_type": "code",
      "metadata": {
        "id": "NfJIE29rFYUA"
      },
      "source": [
        "def loadPatchCamelyon(path):    \n",
        "    f = gzip.open(path, 'rb')\n",
        "    train_set = pickle.load(f, encoding='latin1')\n",
        "    f.close()\n",
        "    return train_set"
      ],
      "execution_count": null,
      "outputs": []
    },
    {
      "cell_type": "code",
      "metadata": {
        "id": "WP1Eho1U1oMX"
      },
      "source": [
        "train_set_images = loadPatchCamelyon(r'valid_28.pkl.gz')\n",
        "\n",
        "def plotImagesPatchCamelyon(images, dim=(10, 10), figsize=(10, 10), title=''):\n",
        "    plt.figure(figsize=figsize)\n",
        "    for i in range(images.shape[0]):\n",
        "        plt.subplot(dim[0], dim[1], i+1)\n",
        "        plt.imshow(images[i], interpolation='nearest')\n",
        "        plt.axis('off')\n",
        "    plt.tight_layout()\n",
        "    plt.suptitle(title)\n",
        "    plt.show()\n",
        "    \n",
        "    \n",
        "plotImagesPatchCamelyon(train_set_images[np.random.randint(0, train_set_images.shape[0], size=100)].reshape(100, 28, 28, 3)/255.0)"
      ],
      "execution_count": null,
      "outputs": []
    },
    {
      "cell_type": "markdown",
      "metadata": {
        "id": "iQzcCZ_hZNbH"
      },
      "source": [
        "What do you immediately notice? Indeed, these images are in color! So the generator will have to generate three output channels instead of just one. \n",
        "\n",
        "In this second-to-last part of the practical you're going to repurpose the code that you have used so far to synthesize histopathology images like the ones above. You can play around a bit with this, see what happens when you interpolate between samples, etc. Remember that there is a final 'exercise' below.\n",
        "\n",
        "**Good luck!**"
      ]
    },
    {
      "cell_type": "code",
      "metadata": {
        "id": "UCm1R35fSVlw"
      },
      "source": [
        "## YOUR CODE GOES HERE"
      ],
      "execution_count": null,
      "outputs": []
    },
    {
      "cell_type": "markdown",
      "metadata": {
        "id": "S8CchPs2kIVT"
      },
      "source": [
        "# Conditional image synthesis"
      ]
    },
    {
      "cell_type": "markdown",
      "metadata": {
        "id": "RBALpqMLFPt2"
      },
      "source": [
        "## The BigGAN model\n",
        "The images we have synthesized so far are all quite small. Synthesis of larger images (e.g. 512 x 512 pixels) typically requires a lot of compute power and patience. Unfortunately, you don't have 100s of GPU at your disposal (I guess) to train a model like BigGAN, the state of the art in conditional image synthesis. A wild guess is that it would cost you around [USD60000](https://twitter.com/quasimondo/status/1065610256917692416) to train this model.\n",
        "\n",
        "Luckily, the authors of BigGAN have put a version of their pretrained model online and you can use it to synthesize images. Go to [this Colaboratory file](https://colab.research.google.com/github/tensorflow/hub/blob/master/examples/colab/biggan_generation_with_tf_hub.ipynb) and answer the following questions.\n",
        "\n",
        "**Question** What happens when you change the noise seed? Also try out different categories.\n",
        "\n",
        "**Question** What happens to your samples when you change the truncation value? More precisely, what happens to the diversity and the quality of your samples? Take a look at the [paper on arXiv](https://arxiv.org/abs/1809.11096) Sec. 3.1 to get an idea what this value does.\n",
        "\n",
        "**Question** Interpolate between image categories, inspect what these look like. \n",
        "\n",
        "**Answer**\n",
        "\n",
        "The goal of a generator $G$ is to generate samples from random noise $z$ that are indiscriminable from real samples by a discriminator $D$. Herein is $z \\in \\mathbb{R}^d_z$ is drawn from a distribution $p(z)$ such as $\\;\\mathcal{N}(0, I)\\;$ or $\\;\\mathcal{U}[-1, 1]$. In the [paper on arXiv](https://arxiv.org/abs/1809.11096), the model is trained on random noise $z \\sim \\mathcal{N}(0, I)$, however the noise used to generate samples on the Colaboratory file, is sampled from a *truncated normal*. A *truncated normal* resamples noise in $z$ that is below or above a certain threshold back in the range between these thresholds. \n",
        "\n",
        "**1)** The noise seed is used to set the RandomState within the Numpy *random* module. This means that if the noise seed is set to the same value when generating samples for two different categories, the noise $z$ is the same. This can be seen in the fact that if samples are generated for two different categories having the same noise seed, then the objects are generated in more or less the same position.\n",
        "\n",
        "**2)** By setting the truncation value, one can decide how far the upper and lower bound of the *truncated normal* are apart. In other words, if the truncation value is low, the variance in $z$ is lower when compared to a high truncation value. This shows in the generated samples being of lower variance, but in higher quality when setting the truncation value low.\n",
        "\n",
        "**3)** The interpolation morphs an image of one category to an image of another category. This is accomplished by linearly interpolating a pixel in the first image to the same pixel in the second image over $n$ interpolations."
      ]
    },
    {
      "cell_type": "markdown",
      "metadata": {
        "id": "dqKCNciykQ-2"
      },
      "source": [
        "## Conditional MNIST synthesis\n",
        "For all MNIST samples we already have labels (0, 1, ..., n). Try to change the MNIST synthesis code such that you can ask the generator to generate specific labels. I.e., try to train a conditional GAN. You can look for some inspiration in [this paper](https://arxiv.org/pdf/1411.1784.pdf), in particular Sec. 4.1. Remember that you already got the MNIST labels when loading the data set."
      ]
    },
    {
      "cell_type": "markdown",
      "metadata": {
        "id": "VBQvHB70RjZi"
      },
      "source": [
        "# Pretrained models\n",
        "\n",
        "You can download some pre-trained generator models for the GAN training exercises from [this link](https://filesender.surf.nl/?s=download&token=475362bb-4098-4376-979b-b0d3ae9e3dd0), but of course it's much more interesting to train them yourself. Use \n",
        "\n",
        "\n",
        "```\n",
        "generator = keras.models.load_model(filename)\n",
        "```\n",
        "\n",
        "to load the model.\n"
      ]
    }
  ]
}