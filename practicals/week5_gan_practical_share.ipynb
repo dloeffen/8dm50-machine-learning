{
  "nbformat": 4,
  "nbformat_minor": 0,
  "metadata": {
    "colab": {
      "name": "gan_practical_share.ipynb",
      "provenance": [],
      "collapsed_sections": [
        "t1rhzu_KRVfD",
        "Y9hTkVp1ESQW",
        "4hq5i_sySZL1",
        "blRfoIS4Uo8-",
        "5BGSHlx-VmVY",
        "NH_4zv4gnYhg",
        "p7MFDUeHSgQ-",
        "jmtZkf5AnW6y",
        "dEjdfhRZsUGR",
        "S8CchPs2kIVT",
        "RBALpqMLFPt2",
        "dqKCNciykQ-2",
        "VBQvHB70RjZi"
      ],
      "include_colab_link": true
    },
    "kernelspec": {
      "name": "python3",
      "display_name": "Python 3"
    },
    "accelerator": "GPU"
  },
  "cells": [
    {
      "cell_type": "markdown",
      "metadata": {
        "id": "view-in-github",
        "colab_type": "text"
      },
      "source": [
        "<a href=\"https://colab.research.google.com/github/dloeffen/8dm50-machine-learning/blob/master/practicals/week5_gan_practical_share.ipynb\" target=\"_parent\"><img src=\"https://colab.research.google.com/assets/colab-badge.svg\" alt=\"Open In Colab\"/></a>"
      ]
    },
    {
      "cell_type": "markdown",
      "metadata": {
        "id": "t1rhzu_KRVfD"
      },
      "source": [
        "# Data synthesis using generative adversarial networks (GANs)\n",
        "\n",
        "In this practical session we will build and train generative adversarial networks that are able to generate images.\n",
        "\n",
        "This is a Google Colab notebook, which is mostly the same as a Jupyter notebook. This means that you can run the code in a cell by selecting the cell and pressing Shift+Enter. We will run everything in the cloud, so you don't need a fancy computer or an expensive GPU for this exercise. We are going to use GPUs that Google Cloud provides for free. To do this, go to Edit --> Notebook settings and select GPU as Hardware accelerator. Then, in the top right of this screen select 'CONNECT' --> 'Connect to hosted runtime'\n",
        "\n",
        "We are going to import some of the packages that we will need in this exercise (by running the cell below)\n",
        "\n",
        "The documentation for key packages can be found online: <br>\n",
        "For numpy: https://docs.scipy.org/doc/numpy-dev/user/quickstart.html <br>\n",
        "For matplotlib: http://matplotlib.org/api/pyplot_api.html <br>\n",
        "For Keras: https://keras.io/ <br>\n",
        "For random: https://docs.python.org/2/library/random.html <br>"
      ]
    },
    {
      "cell_type": "code",
      "metadata": {
        "id": "HV9fYTQRRQ6J",
        "outputId": "35320301-a7f9-4cd8-e00f-351aa5179237",
        "colab": {
          "base_uri": "https://localhost:8080/",
          "height": 67
        }
      },
      "source": [
        "%tensorflow_version 1.x\n",
        "import pickle\n",
        "import gzip\n",
        "import numpy as np\n",
        "\n",
        "import matplotlib.pyplot as plt\n",
        "%matplotlib inline\n",
        "from matplotlib import rc\n",
        "from matplotlib import pylab\n",
        "from IPython import display\n",
        "\n",
        "import tensorflow as tf\n",
        "import keras\n",
        "keras.backend.set_image_data_format('channels_first')\n",
        "\n",
        "import time\n",
        "import random\n",
        "from google.colab import files\n",
        "from google.colab import widgets\n",
        "random.seed(0)\n",
        "\n",
        "# Check whether we're using a GPU\n",
        "device_name = tf.test.gpu_device_name()\n",
        "if device_name != '/device:GPU:0':\n",
        "  raise SystemError('GPU device not found')\n",
        "print('Found GPU at: {}'.format(device_name))\n",
        "\n",
        "tf.logging.set_verbosity(tf.logging.ERROR)"
      ],
      "execution_count": 1,
      "outputs": [
        {
          "output_type": "stream",
          "text": [
            "TensorFlow 1.x selected.\n"
          ],
          "name": "stdout"
        },
        {
          "output_type": "stream",
          "text": [
            "Using TensorFlow backend.\n"
          ],
          "name": "stderr"
        },
        {
          "output_type": "stream",
          "text": [
            "Found GPU at: /device:GPU:0\n"
          ],
          "name": "stdout"
        }
      ]
    },
    {
      "cell_type": "markdown",
      "metadata": {
        "id": "Y9hTkVp1ESQW"
      },
      "source": [
        "## Small steps\n",
        "Before moving on to generating images, we will start with a simple 1D problem. We will assume that there is a data set of real samples that are drawn from a normal distribution with a particular mean value (the black dotted line below). These samples are in the sample domain *x*. \n",
        "\n",
        "The generator network does not know anything about the distribution of the real samples in the sample domain *x*, but will try to come up with a transformation that maps random noise from a distribution *z* to samples that seem to come from the real sample distribution (the green line below). This is very similar to what we have looked at in the lecture.\n",
        "\n",
        "<img src=\"https://cs.stanford.edu/people/karpathy/gan/gan.png\">\n",
        "\n",
        "For this, we will define two neural networks that play a game:\n",
        "*   The discriminator will learn to distinguish real and fake samples in *z*\n",
        "*   The generator will generate fake samples in *z* that the discriminator cannot discriminate\n",
        "\n",
        "First, we determine the mean value of the normal distribution from which **real** samples will be drawn in the sample domain *x*. In addition, we define the dimensionality of the normal distribution *z* from which noise samples to the generator will be drawn, i.e. the latent space. This will be 1 for now."
      ]
    },
    {
      "cell_type": "code",
      "metadata": {
        "id": "rsg4CLVHgMeJ"
      },
      "source": [
        "real_mean = 8\n",
        "latent_dim = 1"
      ],
      "execution_count": 2,
      "outputs": []
    },
    {
      "cell_type": "markdown",
      "metadata": {
        "id": "2eLRuaRXgSKn"
      },
      "source": [
        "Next, we define our discriminator and generator. These are both very simple networks.\n",
        "\n",
        "**Question** How many layers does each of these networks have? \n",
        "\n",
        "**Answer** Both networks have 3 layers\n",
        "\n",
        "**Question** Can you find out how many trainable parameters the networks have?\n",
        "\n",
        "**Answer** They both have 97 trainable parameters\n",
        "\n",
        "**Question** What are the activation functions of both networks? Why are they like this? \n",
        "\n",
        "**Answer** Leaky ReLU, because it increases performance by tackling the dying ReLU neurons problem. It extends the range of ReLU bu changing the slope left of x=0."
      ]
    },
    {
      "cell_type": "code",
      "metadata": {
        "id": "ACf058DjgZ9_"
      },
      "source": [
        "# For easier reading\n",
        "from keras.layers.core import Reshape, Dense, Dropout, Flatten\n",
        "from keras.layers.advanced_activations import LeakyReLU\n",
        "\n",
        "# The discriminator will directly classify the input value\n",
        "def get_discriminator_1D():\n",
        "  discriminator = keras.models.Sequential()\n",
        "  discriminator.add(Dense(32, input_dim=1))\n",
        "  discriminator.add(LeakyReLU())\n",
        "  discriminator.add(Dense(1, activation='sigmoid'))\n",
        "  return discriminator\n",
        "\n",
        "# The generator will transform a single input value\n",
        "def get_generator_1D():\n",
        "  generator = keras.models.Sequential()\n",
        "  generator.add(Dense(32, input_dim=1))\n",
        "  generator.add(LeakyReLU())\n",
        "  generator.add(Dense(1))\n",
        "  return generator\n",
        "\n",
        "#get_discriminator_1D().summary()\n",
        "#get_generator_1D().summary()"
      ],
      "execution_count": 7,
      "outputs": []
    },
    {
      "cell_type": "markdown",
      "metadata": {
        "id": "0QYrW32ehE3_"
      },
      "source": [
        "Now, we will define the training functions for both networks. Consider what is actually happening in a GAN and how the inputs and outputs are connected. There are three variables when training this GAN\n",
        "\n",
        "*   **z**: the noise that will be input to the generator\n",
        "*   **G_z**: the output of the generator, i.e. the samples that should approximate the real samples\n",
        "*   **D_G_z**: the discriminator's decision based on the fake sample\n",
        "\n",
        "The overall objective function of our system is as follows\n",
        "\n",
        "$V^{(D)}(D,G)=\\underset{x\\sim p_{data}}{\\mathbb{E}} [\\log{D(x)}]+\\underset{z\\sim p_z}{\\mathbb{E}} [\\log{(1-D(G(z)))}]$\n",
        "\n",
        "The generator $G$ is trying to minimize this loss, and the discriminator $D$ tries to maximize this. In other words, the discriminator wants to minimize the binary cross-entropy s.t. it predicts 1 for real samples and 0 for fake samples. At the same time, the generator tries to get the discriminator to predict 1 for fake samples.\n",
        "\n",
        "\n"
      ]
    },
    {
      "cell_type": "code",
      "metadata": {
        "id": "H30WDcfXF7tY"
      },
      "source": [
        "# Get networks\n",
        "discriminator = get_discriminator_1D()\n",
        "generator = get_generator_1D()\n",
        "\n",
        "# Configure both models for training\n",
        "discriminator.compile(loss='binary_crossentropy', optimizer=keras.optimizers.Adam(lr=0.0002, beta_1=0.5))\n",
        "generator.compile(loss='binary_crossentropy', optimizer=keras.optimizers.Adam(lr=0.0002, beta_1=0.5))\n",
        "\n",
        "# To configure the full model, we will set the 'trainable' parameter of the discriminator to False, as we don't want to optimize the discriminator when optimizing the generator\n",
        "discriminator.trainable = False\n",
        "\n",
        "# The input variable (noise) for the generator\n",
        "z = keras.layers.Input(shape=(latent_dim,))\n",
        "\n",
        "# What comes out of the generator\n",
        "G_z = generator(z)\n",
        "\n",
        "# What comes out of the discriminator when classifying the 'fake' samples\n",
        "D_G_z = discriminator(G_z)\n",
        "\n",
        "# The full GAN model\n",
        "gan = keras.models.Model(inputs=z, outputs=D_G_z)\n",
        "\n",
        "# The loss function for the GAN: this gets lower if the fake samples are classified as real\n",
        "gan.compile(loss='binary_crossentropy', optimizer=keras.optimizers.Adam(lr=0.0002, beta_1=0.5))"
      ],
      "execution_count": 9,
      "outputs": []
    },
    {
      "cell_type": "markdown",
      "metadata": {
        "id": "7MlpUJ_716Tk"
      },
      "source": [
        "The code below runs the training loop. This could take a while. The code will periodically show a plot of the current situation.\n",
        "\n",
        "**Question** Why do we set discriminator.trainable to either True or False?"
      ]
    },
    {
      "cell_type": "code",
      "metadata": {
        "id": "ynLndgse0r9V",
        "outputId": "cd02308d-ce1c-48f3-cb4f-d0cd863f7e00",
        "colab": {
          "base_uri": "https://localhost:8080/",
          "height": 284
        }
      },
      "source": [
        "# We will store the losses here\n",
        "g_losses = []\n",
        "d_losses = []\n",
        "\n",
        "# Training loop\n",
        "n_samples = 100\n",
        "epochs = 10000\n",
        "\n",
        "grid = widgets.Grid(1, 1)\n",
        "\n",
        "for e in range(epochs):\n",
        "  # Get a random set of input noise\n",
        "  noise = np.random.normal(0, 1, size=[n_samples, latent_dim])\n",
        "\n",
        "  # Also get a sample from the 'real' distribution\n",
        "  real = np.random.normal(real_mean, 1, size=[n_samples, latent_dim])\n",
        "\n",
        "  # Generate some fake samples using the generator\n",
        "  fake = generator.predict(noise)\n",
        "\n",
        "  # Concatenate the fake and real images\n",
        "  X = np.concatenate([real, fake])\n",
        "\n",
        "  # Labels for generated and real data\n",
        "  Y_dis = np.zeros(2*n_samples)\n",
        "  \n",
        "  # Set labels for real samples to 1\n",
        "  Y_dis[:n_samples] = 1\n",
        "\n",
        "  # Train discriminator with this batch of samples\n",
        "  discriminator.trainable = True\n",
        "  d_loss = discriminator.train_on_batch(X, Y_dis)\n",
        "  d_losses.append(d_loss)\n",
        "  \n",
        "  # Train generator with a new batch of generated samples\n",
        "  # Freeze the discriminator part\n",
        "  discriminator.trainable = False \n",
        "  noise = np.random.normal(0, 1, size=[n_samples, latent_dim])\n",
        "  # From the generator's perspective, the discriminator should predict\n",
        "  # ones for all samples\n",
        "  Y_gen = np.ones(n_samples)\n",
        "  g_loss = gan.train_on_batch(noise, Y_gen)\n",
        "  g_losses.append(g_loss)\n",
        "  \n",
        "  if e % 100 == 0:\n",
        "    noise = np.random.normal(0, 1, size=[n_samples, latent_dim])\n",
        "    fake = generator.predict(noise)        \n",
        "    real = np.random.normal(real_mean, 1, size=[n_samples, latent_dim])\n",
        "    pred = discriminator.predict(np.arange(-20, 20, 0.5).reshape((80, 1)))\n",
        "    with grid.output_to(0, 0):\n",
        "      grid.clear_cell()\n",
        "      \n",
        "      # plt.clf()\n",
        "      pylab.hist((np.squeeze(fake), np.squeeze(real)), density=True, stacked=True)\n",
        "      pylab.scatter(np.arange(-20, 20, 0.5), pred, c='r')     \n",
        "      pylab.xlim(-20, 20)\n",
        "      pylab.ylim(0, 1)\n",
        "      pylab.title('Iteration {}'.format(e))\n",
        "      pylab.legend(['Discriminator', 'Fake', 'Real'])\n",
        "    time.sleep(0.5)"
      ],
      "execution_count": 10,
      "outputs": [
        {
          "output_type": "display_data",
          "data": {
            "text/html": [
              "<style>\n",
              "       table#id2, #id2 > tbody > tr > th, #id2 > tbody > tr > td {\n",
              "         border: 1px solid lightgray;\n",
              "         border-collapse:collapse;\n",
              "         \n",
              "        }</style>"
            ],
            "text/plain": [
              "<IPython.core.display.HTML object>"
            ]
          },
          "metadata": {
            "tags": [
              "outputarea_id2"
            ]
          }
        },
        {
          "output_type": "display_data",
          "data": {
            "text/html": [
              "<table id=id2><tr><td id=id2-0-0></td></tr></table>"
            ],
            "text/plain": [
              "<IPython.core.display.HTML object>"
            ]
          },
          "metadata": {
            "tags": [
              "outputarea_id2"
            ]
          }
        },
        {
          "output_type": "display_data",
          "data": {
            "application/javascript": [
              "window[\"c4adc1b4-06e7-11eb-986c-0242ac1c0002\"] = google.colab.output.getActiveOutputArea();\n",
              "//# sourceURL=js_108c862407"
            ],
            "text/plain": [
              "<IPython.core.display.Javascript object>"
            ]
          },
          "metadata": {
            "tags": [
              "id2-0-0",
              "outputarea_id2"
            ]
          }
        },
        {
          "output_type": "display_data",
          "data": {
            "application/javascript": [
              "window[\"c4adfd32-06e7-11eb-986c-0242ac1c0002\"] = document.querySelector(\"#id2-0-0\");\n",
              "//# sourceURL=js_22de210d50"
            ],
            "text/plain": [
              "<IPython.core.display.Javascript object>"
            ]
          },
          "metadata": {
            "tags": [
              "id2-0-0",
              "outputarea_id2"
            ]
          }
        },
        {
          "output_type": "display_data",
          "data": {
            "application/javascript": [
              "window[\"c4ae8d92-06e7-11eb-986c-0242ac1c0002\"] = google.colab.output.setActiveOutputArea(window[\"c4adfd32-06e7-11eb-986c-0242ac1c0002\"]);\n",
              "//# sourceURL=js_8c1ca6033f"
            ],
            "text/plain": [
              "<IPython.core.display.Javascript object>"
            ]
          },
          "metadata": {
            "tags": [
              "id2-0-0",
              "outputarea_id2"
            ]
          }
        },
        {
          "output_type": "display_data",
          "data": {
            "application/javascript": [
              "window[\"c4dbdfcc-06e7-11eb-986c-0242ac1c0002\"] = google.colab.output.setActiveOutputArea(window[\"c4adc1b4-06e7-11eb-986c-0242ac1c0002\"]);\n",
              "//# sourceURL=js_34c6f3a9d6"
            ],
            "text/plain": [
              "<IPython.core.display.Javascript object>"
            ]
          },
          "metadata": {
            "tags": [
              "id2-0-0",
              "outputarea_id2"
            ]
          }
        },
        {
          "output_type": "display_data",
          "data": {
            "application/javascript": [
              "window[\"c5b7fcaa-06e7-11eb-986c-0242ac1c0002\"] = google.colab.output.getActiveOutputArea();\n",
              "//# sourceURL=js_a05fb0a80c"
            ],
            "text/plain": [
              "<IPython.core.display.Javascript object>"
            ]
          },
          "metadata": {
            "tags": [
              "id2-0-0",
              "outputarea_id2"
            ]
          }
        },
        {
          "output_type": "display_data",
          "data": {
            "application/javascript": [
              "window[\"c5b87004-06e7-11eb-986c-0242ac1c0002\"] = document.querySelector(\"#id2-0-0\");\n",
              "//# sourceURL=js_9dba83ae0b"
            ],
            "text/plain": [
              "<IPython.core.display.Javascript object>"
            ]
          },
          "metadata": {
            "tags": [
              "id2-0-0",
              "outputarea_id2"
            ]
          }
        },
        {
          "output_type": "display_data",
          "data": {
            "application/javascript": [
              "window[\"c5b8c824-06e7-11eb-986c-0242ac1c0002\"] = google.colab.output.setActiveOutputArea(window[\"c5b87004-06e7-11eb-986c-0242ac1c0002\"]);\n",
              "//# sourceURL=js_ac8ad32e08"
            ],
            "text/plain": [
              "<IPython.core.display.Javascript object>"
            ]
          },
          "metadata": {
            "tags": [
              "id2-0-0",
              "outputarea_id2"
            ]
          }
        },
        {
          "output_type": "display_data",
          "data": {
            "application/javascript": [
              "window[\"c5e1623e-06e7-11eb-986c-0242ac1c0002\"] = google.colab.output.setActiveOutputArea(window[\"c5b7fcaa-06e7-11eb-986c-0242ac1c0002\"]);\n",
              "//# sourceURL=js_885cdef103"
            ],
            "text/plain": [
              "<IPython.core.display.Javascript object>"
            ]
          },
          "metadata": {
            "tags": [
              "id2-0-0",
              "outputarea_id2"
            ]
          }
        },
        {
          "output_type": "display_data",
          "data": {
            "application/javascript": [
              "window[\"c6bdbc98-06e7-11eb-986c-0242ac1c0002\"] = google.colab.output.getActiveOutputArea();\n",
              "//# sourceURL=js_d25e378315"
            ],
            "text/plain": [
              "<IPython.core.display.Javascript object>"
            ]
          },
          "metadata": {
            "tags": [
              "id2-0-0",
              "outputarea_id2"
            ]
          }
        },
        {
          "output_type": "display_data",
          "data": {
            "application/javascript": [
              "window[\"c6bee8ca-06e7-11eb-986c-0242ac1c0002\"] = document.querySelector(\"#id2-0-0\");\n",
              "//# sourceURL=js_c4e02d9c37"
            ],
            "text/plain": [
              "<IPython.core.display.Javascript object>"
            ]
          },
          "metadata": {
            "tags": [
              "id2-0-0",
              "outputarea_id2"
            ]
          }
        },
        {
          "output_type": "display_data",
          "data": {
            "application/javascript": [
              "window[\"c6bfb78c-06e7-11eb-986c-0242ac1c0002\"] = google.colab.output.setActiveOutputArea(window[\"c6bee8ca-06e7-11eb-986c-0242ac1c0002\"]);\n",
              "//# sourceURL=js_6926d27fb2"
            ],
            "text/plain": [
              "<IPython.core.display.Javascript object>"
            ]
          },
          "metadata": {
            "tags": [
              "id2-0-0",
              "outputarea_id2"
            ]
          }
        },
        {
          "output_type": "display_data",
          "data": {
            "application/javascript": [
              "window[\"c6e7a652-06e7-11eb-986c-0242ac1c0002\"] = google.colab.output.setActiveOutputArea(window[\"c6bdbc98-06e7-11eb-986c-0242ac1c0002\"]);\n",
              "//# sourceURL=js_52037362e8"
            ],
            "text/plain": [
              "<IPython.core.display.Javascript object>"
            ]
          },
          "metadata": {
            "tags": [
              "id2-0-0",
              "outputarea_id2"
            ]
          }
        },
        {
          "output_type": "display_data",
          "data": {
            "application/javascript": [
              "window[\"c7df69c8-06e7-11eb-986c-0242ac1c0002\"] = google.colab.output.getActiveOutputArea();\n",
              "//# sourceURL=js_b564735144"
            ],
            "text/plain": [
              "<IPython.core.display.Javascript object>"
            ]
          },
          "metadata": {
            "tags": [
              "id2-0-0",
              "outputarea_id2"
            ]
          }
        },
        {
          "output_type": "display_data",
          "data": {
            "application/javascript": [
              "window[\"c7dfc300-06e7-11eb-986c-0242ac1c0002\"] = document.querySelector(\"#id2-0-0\");\n",
              "//# sourceURL=js_56499fb9d6"
            ],
            "text/plain": [
              "<IPython.core.display.Javascript object>"
            ]
          },
          "metadata": {
            "tags": [
              "id2-0-0",
              "outputarea_id2"
            ]
          }
        },
        {
          "output_type": "display_data",
          "data": {
            "application/javascript": [
              "window[\"c7e0f0e0-06e7-11eb-986c-0242ac1c0002\"] = google.colab.output.setActiveOutputArea(window[\"c7dfc300-06e7-11eb-986c-0242ac1c0002\"]);\n",
              "//# sourceURL=js_9ae8581a92"
            ],
            "text/plain": [
              "<IPython.core.display.Javascript object>"
            ]
          },
          "metadata": {
            "tags": [
              "id2-0-0",
              "outputarea_id2"
            ]
          }
        },
        {
          "output_type": "display_data",
          "data": {
            "application/javascript": [
              "window[\"c80e0332-06e7-11eb-986c-0242ac1c0002\"] = google.colab.output.setActiveOutputArea(window[\"c7df69c8-06e7-11eb-986c-0242ac1c0002\"]);\n",
              "//# sourceURL=js_d5532a5598"
            ],
            "text/plain": [
              "<IPython.core.display.Javascript object>"
            ]
          },
          "metadata": {
            "tags": [
              "id2-0-0",
              "outputarea_id2"
            ]
          }
        },
        {
          "output_type": "display_data",
          "data": {
            "application/javascript": [
              "window[\"c8f41566-06e7-11eb-986c-0242ac1c0002\"] = google.colab.output.getActiveOutputArea();\n",
              "//# sourceURL=js_b2300a424c"
            ],
            "text/plain": [
              "<IPython.core.display.Javascript object>"
            ]
          },
          "metadata": {
            "tags": [
              "id2-0-0",
              "outputarea_id2"
            ]
          }
        },
        {
          "output_type": "display_data",
          "data": {
            "application/javascript": [
              "window[\"c8f4c42a-06e7-11eb-986c-0242ac1c0002\"] = document.querySelector(\"#id2-0-0\");\n",
              "//# sourceURL=js_97cc5f7e5d"
            ],
            "text/plain": [
              "<IPython.core.display.Javascript object>"
            ]
          },
          "metadata": {
            "tags": [
              "id2-0-0",
              "outputarea_id2"
            ]
          }
        },
        {
          "output_type": "display_data",
          "data": {
            "application/javascript": [
              "window[\"c8f519b6-06e7-11eb-986c-0242ac1c0002\"] = google.colab.output.setActiveOutputArea(window[\"c8f4c42a-06e7-11eb-986c-0242ac1c0002\"]);\n",
              "//# sourceURL=js_d40af7cabd"
            ],
            "text/plain": [
              "<IPython.core.display.Javascript object>"
            ]
          },
          "metadata": {
            "tags": [
              "id2-0-0",
              "outputarea_id2"
            ]
          }
        },
        {
          "output_type": "display_data",
          "data": {
            "application/javascript": [
              "window[\"c91f184c-06e7-11eb-986c-0242ac1c0002\"] = google.colab.output.setActiveOutputArea(window[\"c8f41566-06e7-11eb-986c-0242ac1c0002\"]);\n",
              "//# sourceURL=js_e152ed778f"
            ],
            "text/plain": [
              "<IPython.core.display.Javascript object>"
            ]
          },
          "metadata": {
            "tags": [
              "id2-0-0",
              "outputarea_id2"
            ]
          }
        },
        {
          "output_type": "display_data",
          "data": {
            "application/javascript": [
              "window[\"c9f97b68-06e7-11eb-986c-0242ac1c0002\"] = google.colab.output.getActiveOutputArea();\n",
              "//# sourceURL=js_3480e4518a"
            ],
            "text/plain": [
              "<IPython.core.display.Javascript object>"
            ]
          },
          "metadata": {
            "tags": [
              "id2-0-0",
              "outputarea_id2"
            ]
          }
        },
        {
          "output_type": "display_data",
          "data": {
            "application/javascript": [
              "window[\"c9fa03b2-06e7-11eb-986c-0242ac1c0002\"] = document.querySelector(\"#id2-0-0\");\n",
              "//# sourceURL=js_c2e6a92870"
            ],
            "text/plain": [
              "<IPython.core.display.Javascript object>"
            ]
          },
          "metadata": {
            "tags": [
              "id2-0-0",
              "outputarea_id2"
            ]
          }
        },
        {
          "output_type": "display_data",
          "data": {
            "application/javascript": [
              "window[\"c9fa64c4-06e7-11eb-986c-0242ac1c0002\"] = google.colab.output.setActiveOutputArea(window[\"c9fa03b2-06e7-11eb-986c-0242ac1c0002\"]);\n",
              "//# sourceURL=js_762f2bc7f6"
            ],
            "text/plain": [
              "<IPython.core.display.Javascript object>"
            ]
          },
          "metadata": {
            "tags": [
              "id2-0-0",
              "outputarea_id2"
            ]
          }
        },
        {
          "output_type": "display_data",
          "data": {
            "application/javascript": [
              "window[\"ca2190da-06e7-11eb-986c-0242ac1c0002\"] = google.colab.output.setActiveOutputArea(window[\"c9f97b68-06e7-11eb-986c-0242ac1c0002\"]);\n",
              "//# sourceURL=js_3b6b14fa57"
            ],
            "text/plain": [
              "<IPython.core.display.Javascript object>"
            ]
          },
          "metadata": {
            "tags": [
              "id2-0-0",
              "outputarea_id2"
            ]
          }
        },
        {
          "output_type": "display_data",
          "data": {
            "application/javascript": [
              "window[\"caf7a184-06e7-11eb-986c-0242ac1c0002\"] = google.colab.output.getActiveOutputArea();\n",
              "//# sourceURL=js_0ebff7bd34"
            ],
            "text/plain": [
              "<IPython.core.display.Javascript object>"
            ]
          },
          "metadata": {
            "tags": [
              "id2-0-0",
              "outputarea_id2"
            ]
          }
        },
        {
          "output_type": "display_data",
          "data": {
            "application/javascript": [
              "window[\"caf81a06-06e7-11eb-986c-0242ac1c0002\"] = document.querySelector(\"#id2-0-0\");\n",
              "//# sourceURL=js_7102b177c5"
            ],
            "text/plain": [
              "<IPython.core.display.Javascript object>"
            ]
          },
          "metadata": {
            "tags": [
              "id2-0-0",
              "outputarea_id2"
            ]
          }
        },
        {
          "output_type": "display_data",
          "data": {
            "application/javascript": [
              "window[\"caf89008-06e7-11eb-986c-0242ac1c0002\"] = google.colab.output.setActiveOutputArea(window[\"caf81a06-06e7-11eb-986c-0242ac1c0002\"]);\n",
              "//# sourceURL=js_7ad3a997a5"
            ],
            "text/plain": [
              "<IPython.core.display.Javascript object>"
            ]
          },
          "metadata": {
            "tags": [
              "id2-0-0",
              "outputarea_id2"
            ]
          }
        },
        {
          "output_type": "display_data",
          "data": {
            "application/javascript": [
              "window[\"cb21a902-06e7-11eb-986c-0242ac1c0002\"] = google.colab.output.setActiveOutputArea(window[\"caf7a184-06e7-11eb-986c-0242ac1c0002\"]);\n",
              "//# sourceURL=js_48e0bbc7e8"
            ],
            "text/plain": [
              "<IPython.core.display.Javascript object>"
            ]
          },
          "metadata": {
            "tags": [
              "id2-0-0",
              "outputarea_id2"
            ]
          }
        },
        {
          "output_type": "display_data",
          "data": {
            "application/javascript": [
              "window[\"cc0fd406-06e7-11eb-986c-0242ac1c0002\"] = google.colab.output.getActiveOutputArea();\n",
              "//# sourceURL=js_0d2a7f9a97"
            ],
            "text/plain": [
              "<IPython.core.display.Javascript object>"
            ]
          },
          "metadata": {
            "tags": [
              "id2-0-0",
              "outputarea_id2"
            ]
          }
        },
        {
          "output_type": "display_data",
          "data": {
            "application/javascript": [
              "window[\"cc111582-06e7-11eb-986c-0242ac1c0002\"] = document.querySelector(\"#id2-0-0\");\n",
              "//# sourceURL=js_2cdeb7dfdf"
            ],
            "text/plain": [
              "<IPython.core.display.Javascript object>"
            ]
          },
          "metadata": {
            "tags": [
              "id2-0-0",
              "outputarea_id2"
            ]
          }
        },
        {
          "output_type": "display_data",
          "data": {
            "application/javascript": [
              "window[\"cc122e22-06e7-11eb-986c-0242ac1c0002\"] = google.colab.output.setActiveOutputArea(window[\"cc111582-06e7-11eb-986c-0242ac1c0002\"]);\n",
              "//# sourceURL=js_ffbe06eb1a"
            ],
            "text/plain": [
              "<IPython.core.display.Javascript object>"
            ]
          },
          "metadata": {
            "tags": [
              "id2-0-0",
              "outputarea_id2"
            ]
          }
        },
        {
          "output_type": "display_data",
          "data": {
            "application/javascript": [
              "window[\"cc39db70-06e7-11eb-986c-0242ac1c0002\"] = google.colab.output.setActiveOutputArea(window[\"cc0fd406-06e7-11eb-986c-0242ac1c0002\"]);\n",
              "//# sourceURL=js_03709f19f8"
            ],
            "text/plain": [
              "<IPython.core.display.Javascript object>"
            ]
          },
          "metadata": {
            "tags": [
              "id2-0-0",
              "outputarea_id2"
            ]
          }
        },
        {
          "output_type": "display_data",
          "data": {
            "application/javascript": [
              "window[\"cd16d0fc-06e7-11eb-986c-0242ac1c0002\"] = google.colab.output.getActiveOutputArea();\n",
              "//# sourceURL=js_b2ca7a16e3"
            ],
            "text/plain": [
              "<IPython.core.display.Javascript object>"
            ]
          },
          "metadata": {
            "tags": [
              "id2-0-0",
              "outputarea_id2"
            ]
          }
        },
        {
          "output_type": "display_data",
          "data": {
            "application/javascript": [
              "window[\"cd17723c-06e7-11eb-986c-0242ac1c0002\"] = document.querySelector(\"#id2-0-0\");\n",
              "//# sourceURL=js_8bb46988bd"
            ],
            "text/plain": [
              "<IPython.core.display.Javascript object>"
            ]
          },
          "metadata": {
            "tags": [
              "id2-0-0",
              "outputarea_id2"
            ]
          }
        },
        {
          "output_type": "display_data",
          "data": {
            "application/javascript": [
              "window[\"cd17d97a-06e7-11eb-986c-0242ac1c0002\"] = google.colab.output.setActiveOutputArea(window[\"cd17723c-06e7-11eb-986c-0242ac1c0002\"]);\n",
              "//# sourceURL=js_8f2c21bbec"
            ],
            "text/plain": [
              "<IPython.core.display.Javascript object>"
            ]
          },
          "metadata": {
            "tags": [
              "id2-0-0",
              "outputarea_id2"
            ]
          }
        },
        {
          "output_type": "display_data",
          "data": {
            "application/javascript": [
              "window[\"cd413824-06e7-11eb-986c-0242ac1c0002\"] = google.colab.output.setActiveOutputArea(window[\"cd16d0fc-06e7-11eb-986c-0242ac1c0002\"]);\n",
              "//# sourceURL=js_312afc846f"
            ],
            "text/plain": [
              "<IPython.core.display.Javascript object>"
            ]
          },
          "metadata": {
            "tags": [
              "id2-0-0",
              "outputarea_id2"
            ]
          }
        },
        {
          "output_type": "display_data",
          "data": {
            "application/javascript": [
              "window[\"ce25075c-06e7-11eb-986c-0242ac1c0002\"] = google.colab.output.getActiveOutputArea();\n",
              "//# sourceURL=js_b181473589"
            ],
            "text/plain": [
              "<IPython.core.display.Javascript object>"
            ]
          },
          "metadata": {
            "tags": [
              "id2-0-0",
              "outputarea_id2"
            ]
          }
        },
        {
          "output_type": "display_data",
          "data": {
            "application/javascript": [
              "window[\"ce2599b0-06e7-11eb-986c-0242ac1c0002\"] = document.querySelector(\"#id2-0-0\");\n",
              "//# sourceURL=js_61af56e8bc"
            ],
            "text/plain": [
              "<IPython.core.display.Javascript object>"
            ]
          },
          "metadata": {
            "tags": [
              "id2-0-0",
              "outputarea_id2"
            ]
          }
        },
        {
          "output_type": "display_data",
          "data": {
            "application/javascript": [
              "window[\"ce260ce2-06e7-11eb-986c-0242ac1c0002\"] = google.colab.output.setActiveOutputArea(window[\"ce2599b0-06e7-11eb-986c-0242ac1c0002\"]);\n",
              "//# sourceURL=js_ab0c75d7c3"
            ],
            "text/plain": [
              "<IPython.core.display.Javascript object>"
            ]
          },
          "metadata": {
            "tags": [
              "id2-0-0",
              "outputarea_id2"
            ]
          }
        },
        {
          "output_type": "display_data",
          "data": {
            "application/javascript": [
              "window[\"ce5220c0-06e7-11eb-986c-0242ac1c0002\"] = google.colab.output.setActiveOutputArea(window[\"ce25075c-06e7-11eb-986c-0242ac1c0002\"]);\n",
              "//# sourceURL=js_e344cebffb"
            ],
            "text/plain": [
              "<IPython.core.display.Javascript object>"
            ]
          },
          "metadata": {
            "tags": [
              "id2-0-0",
              "outputarea_id2"
            ]
          }
        },
        {
          "output_type": "display_data",
          "data": {
            "application/javascript": [
              "window[\"cf27a5f6-06e7-11eb-986c-0242ac1c0002\"] = google.colab.output.getActiveOutputArea();\n",
              "//# sourceURL=js_c26a7c4a41"
            ],
            "text/plain": [
              "<IPython.core.display.Javascript object>"
            ]
          },
          "metadata": {
            "tags": [
              "id2-0-0",
              "outputarea_id2"
            ]
          }
        },
        {
          "output_type": "display_data",
          "data": {
            "application/javascript": [
              "window[\"cf286cac-06e7-11eb-986c-0242ac1c0002\"] = document.querySelector(\"#id2-0-0\");\n",
              "//# sourceURL=js_2f207ed93f"
            ],
            "text/plain": [
              "<IPython.core.display.Javascript object>"
            ]
          },
          "metadata": {
            "tags": [
              "id2-0-0",
              "outputarea_id2"
            ]
          }
        },
        {
          "output_type": "display_data",
          "data": {
            "application/javascript": [
              "window[\"cf28eefc-06e7-11eb-986c-0242ac1c0002\"] = google.colab.output.setActiveOutputArea(window[\"cf286cac-06e7-11eb-986c-0242ac1c0002\"]);\n",
              "//# sourceURL=js_f936e770e5"
            ],
            "text/plain": [
              "<IPython.core.display.Javascript object>"
            ]
          },
          "metadata": {
            "tags": [
              "id2-0-0",
              "outputarea_id2"
            ]
          }
        },
        {
          "output_type": "display_data",
          "data": {
            "application/javascript": [
              "window[\"cf53b542-06e7-11eb-986c-0242ac1c0002\"] = google.colab.output.setActiveOutputArea(window[\"cf27a5f6-06e7-11eb-986c-0242ac1c0002\"]);\n",
              "//# sourceURL=js_a346a949f1"
            ],
            "text/plain": [
              "<IPython.core.display.Javascript object>"
            ]
          },
          "metadata": {
            "tags": [
              "id2-0-0",
              "outputarea_id2"
            ]
          }
        },
        {
          "output_type": "display_data",
          "data": {
            "application/javascript": [
              "window[\"d0303cf6-06e7-11eb-986c-0242ac1c0002\"] = google.colab.output.getActiveOutputArea();\n",
              "//# sourceURL=js_e0f2dc3f8e"
            ],
            "text/plain": [
              "<IPython.core.display.Javascript object>"
            ]
          },
          "metadata": {
            "tags": [
              "id2-0-0",
              "outputarea_id2"
            ]
          }
        },
        {
          "output_type": "display_data",
          "data": {
            "application/javascript": [
              "window[\"d030a6b4-06e7-11eb-986c-0242ac1c0002\"] = document.querySelector(\"#id2-0-0\");\n",
              "//# sourceURL=js_8c2b05c0b7"
            ],
            "text/plain": [
              "<IPython.core.display.Javascript object>"
            ]
          },
          "metadata": {
            "tags": [
              "id2-0-0",
              "outputarea_id2"
            ]
          }
        },
        {
          "output_type": "display_data",
          "data": {
            "application/javascript": [
              "window[\"d030f876-06e7-11eb-986c-0242ac1c0002\"] = google.colab.output.setActiveOutputArea(window[\"d030a6b4-06e7-11eb-986c-0242ac1c0002\"]);\n",
              "//# sourceURL=js_d23589ad20"
            ],
            "text/plain": [
              "<IPython.core.display.Javascript object>"
            ]
          },
          "metadata": {
            "tags": [
              "id2-0-0",
              "outputarea_id2"
            ]
          }
        },
        {
          "output_type": "display_data",
          "data": {
            "application/javascript": [
              "window[\"d05a09f0-06e7-11eb-986c-0242ac1c0002\"] = google.colab.output.setActiveOutputArea(window[\"d0303cf6-06e7-11eb-986c-0242ac1c0002\"]);\n",
              "//# sourceURL=js_b22a5502be"
            ],
            "text/plain": [
              "<IPython.core.display.Javascript object>"
            ]
          },
          "metadata": {
            "tags": [
              "id2-0-0",
              "outputarea_id2"
            ]
          }
        },
        {
          "output_type": "display_data",
          "data": {
            "application/javascript": [
              "window[\"d1472974-06e7-11eb-986c-0242ac1c0002\"] = google.colab.output.getActiveOutputArea();\n",
              "//# sourceURL=js_e8ffce284d"
            ],
            "text/plain": [
              "<IPython.core.display.Javascript object>"
            ]
          },
          "metadata": {
            "tags": [
              "id2-0-0",
              "outputarea_id2"
            ]
          }
        },
        {
          "output_type": "display_data",
          "data": {
            "application/javascript": [
              "window[\"d147aa34-06e7-11eb-986c-0242ac1c0002\"] = document.querySelector(\"#id2-0-0\");\n",
              "//# sourceURL=js_13c6ef3c7b"
            ],
            "text/plain": [
              "<IPython.core.display.Javascript object>"
            ]
          },
          "metadata": {
            "tags": [
              "id2-0-0",
              "outputarea_id2"
            ]
          }
        },
        {
          "output_type": "display_data",
          "data": {
            "application/javascript": [
              "window[\"d1480060-06e7-11eb-986c-0242ac1c0002\"] = google.colab.output.setActiveOutputArea(window[\"d147aa34-06e7-11eb-986c-0242ac1c0002\"]);\n",
              "//# sourceURL=js_bc04491f22"
            ],
            "text/plain": [
              "<IPython.core.display.Javascript object>"
            ]
          },
          "metadata": {
            "tags": [
              "id2-0-0",
              "outputarea_id2"
            ]
          }
        },
        {
          "output_type": "display_data",
          "data": {
            "application/javascript": [
              "window[\"d1756528-06e7-11eb-986c-0242ac1c0002\"] = google.colab.output.setActiveOutputArea(window[\"d1472974-06e7-11eb-986c-0242ac1c0002\"]);\n",
              "//# sourceURL=js_d3a0a80470"
            ],
            "text/plain": [
              "<IPython.core.display.Javascript object>"
            ]
          },
          "metadata": {
            "tags": [
              "id2-0-0",
              "outputarea_id2"
            ]
          }
        },
        {
          "output_type": "display_data",
          "data": {
            "application/javascript": [
              "window[\"d259b3cc-06e7-11eb-986c-0242ac1c0002\"] = google.colab.output.getActiveOutputArea();\n",
              "//# sourceURL=js_cc1c842203"
            ],
            "text/plain": [
              "<IPython.core.display.Javascript object>"
            ]
          },
          "metadata": {
            "tags": [
              "id2-0-0",
              "outputarea_id2"
            ]
          }
        },
        {
          "output_type": "display_data",
          "data": {
            "application/javascript": [
              "window[\"d25a4d50-06e7-11eb-986c-0242ac1c0002\"] = document.querySelector(\"#id2-0-0\");\n",
              "//# sourceURL=js_ee408730f6"
            ],
            "text/plain": [
              "<IPython.core.display.Javascript object>"
            ]
          },
          "metadata": {
            "tags": [
              "id2-0-0",
              "outputarea_id2"
            ]
          }
        },
        {
          "output_type": "display_data",
          "data": {
            "application/javascript": [
              "window[\"d25ac3fc-06e7-11eb-986c-0242ac1c0002\"] = google.colab.output.setActiveOutputArea(window[\"d25a4d50-06e7-11eb-986c-0242ac1c0002\"]);\n",
              "//# sourceURL=js_d85eb0ff7b"
            ],
            "text/plain": [
              "<IPython.core.display.Javascript object>"
            ]
          },
          "metadata": {
            "tags": [
              "id2-0-0",
              "outputarea_id2"
            ]
          }
        },
        {
          "output_type": "display_data",
          "data": {
            "application/javascript": [
              "window[\"d282aebc-06e7-11eb-986c-0242ac1c0002\"] = google.colab.output.setActiveOutputArea(window[\"d259b3cc-06e7-11eb-986c-0242ac1c0002\"]);\n",
              "//# sourceURL=js_1c90256cf3"
            ],
            "text/plain": [
              "<IPython.core.display.Javascript object>"
            ]
          },
          "metadata": {
            "tags": [
              "id2-0-0",
              "outputarea_id2"
            ]
          }
        },
        {
          "output_type": "display_data",
          "data": {
            "application/javascript": [
              "window[\"d369f9c0-06e7-11eb-986c-0242ac1c0002\"] = google.colab.output.getActiveOutputArea();\n",
              "//# sourceURL=js_a2b0ddb6d7"
            ],
            "text/plain": [
              "<IPython.core.display.Javascript object>"
            ]
          },
          "metadata": {
            "tags": [
              "id2-0-0",
              "outputarea_id2"
            ]
          }
        },
        {
          "output_type": "display_data",
          "data": {
            "application/javascript": [
              "window[\"d38103e0-06e7-11eb-986c-0242ac1c0002\"] = document.querySelector(\"#id2-0-0\");\n",
              "//# sourceURL=js_5d239cb6b3"
            ],
            "text/plain": [
              "<IPython.core.display.Javascript object>"
            ]
          },
          "metadata": {
            "tags": [
              "id2-0-0",
              "outputarea_id2"
            ]
          }
        },
        {
          "output_type": "display_data",
          "data": {
            "application/javascript": [
              "window[\"d3814a94-06e7-11eb-986c-0242ac1c0002\"] = google.colab.output.setActiveOutputArea(window[\"d38103e0-06e7-11eb-986c-0242ac1c0002\"]);\n",
              "//# sourceURL=js_c21c58d2ee"
            ],
            "text/plain": [
              "<IPython.core.display.Javascript object>"
            ]
          },
          "metadata": {
            "tags": [
              "id2-0-0",
              "outputarea_id2"
            ]
          }
        },
        {
          "output_type": "display_data",
          "data": {
            "application/javascript": [
              "window[\"d3a9aa02-06e7-11eb-986c-0242ac1c0002\"] = google.colab.output.setActiveOutputArea(window[\"d369f9c0-06e7-11eb-986c-0242ac1c0002\"]);\n",
              "//# sourceURL=js_29fefb5a2b"
            ],
            "text/plain": [
              "<IPython.core.display.Javascript object>"
            ]
          },
          "metadata": {
            "tags": [
              "id2-0-0",
              "outputarea_id2"
            ]
          }
        },
        {
          "output_type": "display_data",
          "data": {
            "application/javascript": [
              "window[\"d48ad72a-06e7-11eb-986c-0242ac1c0002\"] = google.colab.output.getActiveOutputArea();\n",
              "//# sourceURL=js_8c9e6462f5"
            ],
            "text/plain": [
              "<IPython.core.display.Javascript object>"
            ]
          },
          "metadata": {
            "tags": [
              "id2-0-0",
              "outputarea_id2"
            ]
          }
        },
        {
          "output_type": "display_data",
          "data": {
            "application/javascript": [
              "window[\"d48b65d2-06e7-11eb-986c-0242ac1c0002\"] = document.querySelector(\"#id2-0-0\");\n",
              "//# sourceURL=js_cd8fbc1a2e"
            ],
            "text/plain": [
              "<IPython.core.display.Javascript object>"
            ]
          },
          "metadata": {
            "tags": [
              "id2-0-0",
              "outputarea_id2"
            ]
          }
        },
        {
          "output_type": "display_data",
          "data": {
            "application/javascript": [
              "window[\"d48bc9d2-06e7-11eb-986c-0242ac1c0002\"] = google.colab.output.setActiveOutputArea(window[\"d48b65d2-06e7-11eb-986c-0242ac1c0002\"]);\n",
              "//# sourceURL=js_92475042ee"
            ],
            "text/plain": [
              "<IPython.core.display.Javascript object>"
            ]
          },
          "metadata": {
            "tags": [
              "id2-0-0",
              "outputarea_id2"
            ]
          }
        },
        {
          "output_type": "display_data",
          "data": {
            "application/javascript": [
              "window[\"d4b3af4c-06e7-11eb-986c-0242ac1c0002\"] = google.colab.output.setActiveOutputArea(window[\"d48ad72a-06e7-11eb-986c-0242ac1c0002\"]);\n",
              "//# sourceURL=js_413478ae33"
            ],
            "text/plain": [
              "<IPython.core.display.Javascript object>"
            ]
          },
          "metadata": {
            "tags": [
              "id2-0-0",
              "outputarea_id2"
            ]
          }
        },
        {
          "output_type": "display_data",
          "data": {
            "application/javascript": [
              "window[\"d58d1b06-06e7-11eb-986c-0242ac1c0002\"] = google.colab.output.getActiveOutputArea();\n",
              "//# sourceURL=js_5a92c73579"
            ],
            "text/plain": [
              "<IPython.core.display.Javascript object>"
            ]
          },
          "metadata": {
            "tags": [
              "id2-0-0",
              "outputarea_id2"
            ]
          }
        },
        {
          "output_type": "display_data",
          "data": {
            "application/javascript": [
              "window[\"d58df10c-06e7-11eb-986c-0242ac1c0002\"] = document.querySelector(\"#id2-0-0\");\n",
              "//# sourceURL=js_12108cb36a"
            ],
            "text/plain": [
              "<IPython.core.display.Javascript object>"
            ]
          },
          "metadata": {
            "tags": [
              "id2-0-0",
              "outputarea_id2"
            ]
          }
        },
        {
          "output_type": "display_data",
          "data": {
            "application/javascript": [
              "window[\"d58e8716-06e7-11eb-986c-0242ac1c0002\"] = google.colab.output.setActiveOutputArea(window[\"d58df10c-06e7-11eb-986c-0242ac1c0002\"]);\n",
              "//# sourceURL=js_d9f9de3d8f"
            ],
            "text/plain": [
              "<IPython.core.display.Javascript object>"
            ]
          },
          "metadata": {
            "tags": [
              "id2-0-0",
              "outputarea_id2"
            ]
          }
        },
        {
          "output_type": "display_data",
          "data": {
            "application/javascript": [
              "window[\"d5b68a90-06e7-11eb-986c-0242ac1c0002\"] = google.colab.output.setActiveOutputArea(window[\"d58d1b06-06e7-11eb-986c-0242ac1c0002\"]);\n",
              "//# sourceURL=js_1214d6328e"
            ],
            "text/plain": [
              "<IPython.core.display.Javascript object>"
            ]
          },
          "metadata": {
            "tags": [
              "id2-0-0",
              "outputarea_id2"
            ]
          }
        },
        {
          "output_type": "display_data",
          "data": {
            "application/javascript": [
              "window[\"d6af1e6c-06e7-11eb-986c-0242ac1c0002\"] = google.colab.output.getActiveOutputArea();\n",
              "//# sourceURL=js_a6f5ef22c8"
            ],
            "text/plain": [
              "<IPython.core.display.Javascript object>"
            ]
          },
          "metadata": {
            "tags": [
              "id2-0-0",
              "outputarea_id2"
            ]
          }
        },
        {
          "output_type": "display_data",
          "data": {
            "application/javascript": [
              "window[\"d6b0af16-06e7-11eb-986c-0242ac1c0002\"] = document.querySelector(\"#id2-0-0\");\n",
              "//# sourceURL=js_4443deed7b"
            ],
            "text/plain": [
              "<IPython.core.display.Javascript object>"
            ]
          },
          "metadata": {
            "tags": [
              "id2-0-0",
              "outputarea_id2"
            ]
          }
        },
        {
          "output_type": "display_data",
          "data": {
            "application/javascript": [
              "window[\"d6b12c52-06e7-11eb-986c-0242ac1c0002\"] = google.colab.output.setActiveOutputArea(window[\"d6b0af16-06e7-11eb-986c-0242ac1c0002\"]);\n",
              "//# sourceURL=js_5fbd6d64ef"
            ],
            "text/plain": [
              "<IPython.core.display.Javascript object>"
            ]
          },
          "metadata": {
            "tags": [
              "id2-0-0",
              "outputarea_id2"
            ]
          }
        },
        {
          "output_type": "display_data",
          "data": {
            "application/javascript": [
              "window[\"d6db1b66-06e7-11eb-986c-0242ac1c0002\"] = google.colab.output.setActiveOutputArea(window[\"d6af1e6c-06e7-11eb-986c-0242ac1c0002\"]);\n",
              "//# sourceURL=js_8ac4f4e94c"
            ],
            "text/plain": [
              "<IPython.core.display.Javascript object>"
            ]
          },
          "metadata": {
            "tags": [
              "id2-0-0",
              "outputarea_id2"
            ]
          }
        },
        {
          "output_type": "display_data",
          "data": {
            "application/javascript": [
              "window[\"d7b88b54-06e7-11eb-986c-0242ac1c0002\"] = google.colab.output.getActiveOutputArea();\n",
              "//# sourceURL=js_b21bc5d9fc"
            ],
            "text/plain": [
              "<IPython.core.display.Javascript object>"
            ]
          },
          "metadata": {
            "tags": [
              "id2-0-0",
              "outputarea_id2"
            ]
          }
        },
        {
          "output_type": "display_data",
          "data": {
            "application/javascript": [
              "window[\"d7b8f0a8-06e7-11eb-986c-0242ac1c0002\"] = document.querySelector(\"#id2-0-0\");\n",
              "//# sourceURL=js_bf215c1c8f"
            ],
            "text/plain": [
              "<IPython.core.display.Javascript object>"
            ]
          },
          "metadata": {
            "tags": [
              "id2-0-0",
              "outputarea_id2"
            ]
          }
        },
        {
          "output_type": "display_data",
          "data": {
            "application/javascript": [
              "window[\"d7b95390-06e7-11eb-986c-0242ac1c0002\"] = google.colab.output.setActiveOutputArea(window[\"d7b8f0a8-06e7-11eb-986c-0242ac1c0002\"]);\n",
              "//# sourceURL=js_1cf6629280"
            ],
            "text/plain": [
              "<IPython.core.display.Javascript object>"
            ]
          },
          "metadata": {
            "tags": [
              "id2-0-0",
              "outputarea_id2"
            ]
          }
        },
        {
          "output_type": "display_data",
          "data": {
            "application/javascript": [
              "window[\"d7e2629e-06e7-11eb-986c-0242ac1c0002\"] = google.colab.output.setActiveOutputArea(window[\"d7b88b54-06e7-11eb-986c-0242ac1c0002\"]);\n",
              "//# sourceURL=js_191ef121e0"
            ],
            "text/plain": [
              "<IPython.core.display.Javascript object>"
            ]
          },
          "metadata": {
            "tags": [
              "id2-0-0",
              "outputarea_id2"
            ]
          }
        },
        {
          "output_type": "display_data",
          "data": {
            "application/javascript": [
              "window[\"d8d322ec-06e7-11eb-986c-0242ac1c0002\"] = google.colab.output.getActiveOutputArea();\n",
              "//# sourceURL=js_1f1c92db43"
            ],
            "text/plain": [
              "<IPython.core.display.Javascript object>"
            ]
          },
          "metadata": {
            "tags": [
              "id2-0-0",
              "outputarea_id2"
            ]
          }
        },
        {
          "output_type": "display_data",
          "data": {
            "application/javascript": [
              "window[\"d8d4d8c6-06e7-11eb-986c-0242ac1c0002\"] = document.querySelector(\"#id2-0-0\");\n",
              "//# sourceURL=js_1328c70656"
            ],
            "text/plain": [
              "<IPython.core.display.Javascript object>"
            ]
          },
          "metadata": {
            "tags": [
              "id2-0-0",
              "outputarea_id2"
            ]
          }
        },
        {
          "output_type": "display_data",
          "data": {
            "application/javascript": [
              "window[\"d8d578d0-06e7-11eb-986c-0242ac1c0002\"] = google.colab.output.setActiveOutputArea(window[\"d8d4d8c6-06e7-11eb-986c-0242ac1c0002\"]);\n",
              "//# sourceURL=js_822a1c77e8"
            ],
            "text/plain": [
              "<IPython.core.display.Javascript object>"
            ]
          },
          "metadata": {
            "tags": [
              "id2-0-0",
              "outputarea_id2"
            ]
          }
        },
        {
          "output_type": "display_data",
          "data": {
            "application/javascript": [
              "window[\"d8fe502a-06e7-11eb-986c-0242ac1c0002\"] = google.colab.output.setActiveOutputArea(window[\"d8d322ec-06e7-11eb-986c-0242ac1c0002\"]);\n",
              "//# sourceURL=js_cc553d37f6"
            ],
            "text/plain": [
              "<IPython.core.display.Javascript object>"
            ]
          },
          "metadata": {
            "tags": [
              "id2-0-0",
              "outputarea_id2"
            ]
          }
        },
        {
          "output_type": "display_data",
          "data": {
            "application/javascript": [
              "window[\"d9dadba8-06e7-11eb-986c-0242ac1c0002\"] = google.colab.output.getActiveOutputArea();\n",
              "//# sourceURL=js_eab9fbcfe3"
            ],
            "text/plain": [
              "<IPython.core.display.Javascript object>"
            ]
          },
          "metadata": {
            "tags": [
              "id2-0-0",
              "outputarea_id2"
            ]
          }
        },
        {
          "output_type": "display_data",
          "data": {
            "application/javascript": [
              "window[\"d9dc346c-06e7-11eb-986c-0242ac1c0002\"] = document.querySelector(\"#id2-0-0\");\n",
              "//# sourceURL=js_dad13fbe4a"
            ],
            "text/plain": [
              "<IPython.core.display.Javascript object>"
            ]
          },
          "metadata": {
            "tags": [
              "id2-0-0",
              "outputarea_id2"
            ]
          }
        },
        {
          "output_type": "display_data",
          "data": {
            "application/javascript": [
              "window[\"d9dccc2e-06e7-11eb-986c-0242ac1c0002\"] = google.colab.output.setActiveOutputArea(window[\"d9dc346c-06e7-11eb-986c-0242ac1c0002\"]);\n",
              "//# sourceURL=js_115a8e50b3"
            ],
            "text/plain": [
              "<IPython.core.display.Javascript object>"
            ]
          },
          "metadata": {
            "tags": [
              "id2-0-0",
              "outputarea_id2"
            ]
          }
        },
        {
          "output_type": "display_data",
          "data": {
            "application/javascript": [
              "window[\"da07deb4-06e7-11eb-986c-0242ac1c0002\"] = google.colab.output.setActiveOutputArea(window[\"d9dadba8-06e7-11eb-986c-0242ac1c0002\"]);\n",
              "//# sourceURL=js_213a61f384"
            ],
            "text/plain": [
              "<IPython.core.display.Javascript object>"
            ]
          },
          "metadata": {
            "tags": [
              "id2-0-0",
              "outputarea_id2"
            ]
          }
        },
        {
          "output_type": "display_data",
          "data": {
            "application/javascript": [
              "window[\"dae574d6-06e7-11eb-986c-0242ac1c0002\"] = google.colab.output.getActiveOutputArea();\n",
              "//# sourceURL=js_150eeeb6b6"
            ],
            "text/plain": [
              "<IPython.core.display.Javascript object>"
            ]
          },
          "metadata": {
            "tags": [
              "id2-0-0",
              "outputarea_id2"
            ]
          }
        },
        {
          "output_type": "display_data",
          "data": {
            "application/javascript": [
              "window[\"dae5e1d2-06e7-11eb-986c-0242ac1c0002\"] = document.querySelector(\"#id2-0-0\");\n",
              "//# sourceURL=js_2d8a716203"
            ],
            "text/plain": [
              "<IPython.core.display.Javascript object>"
            ]
          },
          "metadata": {
            "tags": [
              "id2-0-0",
              "outputarea_id2"
            ]
          }
        },
        {
          "output_type": "display_data",
          "data": {
            "application/javascript": [
              "window[\"dae635ec-06e7-11eb-986c-0242ac1c0002\"] = google.colab.output.setActiveOutputArea(window[\"dae5e1d2-06e7-11eb-986c-0242ac1c0002\"]);\n",
              "//# sourceURL=js_522deee433"
            ],
            "text/plain": [
              "<IPython.core.display.Javascript object>"
            ]
          },
          "metadata": {
            "tags": [
              "id2-0-0",
              "outputarea_id2"
            ]
          }
        },
        {
          "output_type": "display_data",
          "data": {
            "application/javascript": [
              "window[\"db0e2340-06e7-11eb-986c-0242ac1c0002\"] = google.colab.output.setActiveOutputArea(window[\"dae574d6-06e7-11eb-986c-0242ac1c0002\"]);\n",
              "//# sourceURL=js_7826aa9af7"
            ],
            "text/plain": [
              "<IPython.core.display.Javascript object>"
            ]
          },
          "metadata": {
            "tags": [
              "id2-0-0",
              "outputarea_id2"
            ]
          }
        },
        {
          "output_type": "display_data",
          "data": {
            "application/javascript": [
              "window[\"dbe620ec-06e7-11eb-986c-0242ac1c0002\"] = google.colab.output.getActiveOutputArea();\n",
              "//# sourceURL=js_00aafccc54"
            ],
            "text/plain": [
              "<IPython.core.display.Javascript object>"
            ]
          },
          "metadata": {
            "tags": [
              "id2-0-0",
              "outputarea_id2"
            ]
          }
        },
        {
          "output_type": "display_data",
          "data": {
            "application/javascript": [
              "window[\"dbe69aa4-06e7-11eb-986c-0242ac1c0002\"] = document.querySelector(\"#id2-0-0\");\n",
              "//# sourceURL=js_5b3141fc1c"
            ],
            "text/plain": [
              "<IPython.core.display.Javascript object>"
            ]
          },
          "metadata": {
            "tags": [
              "id2-0-0",
              "outputarea_id2"
            ]
          }
        },
        {
          "output_type": "display_data",
          "data": {
            "application/javascript": [
              "window[\"dbe6f864-06e7-11eb-986c-0242ac1c0002\"] = google.colab.output.setActiveOutputArea(window[\"dbe69aa4-06e7-11eb-986c-0242ac1c0002\"]);\n",
              "//# sourceURL=js_1c09259aa3"
            ],
            "text/plain": [
              "<IPython.core.display.Javascript object>"
            ]
          },
          "metadata": {
            "tags": [
              "id2-0-0",
              "outputarea_id2"
            ]
          }
        },
        {
          "output_type": "display_data",
          "data": {
            "application/javascript": [
              "window[\"dc10606e-06e7-11eb-986c-0242ac1c0002\"] = google.colab.output.setActiveOutputArea(window[\"dbe620ec-06e7-11eb-986c-0242ac1c0002\"]);\n",
              "//# sourceURL=js_96e8a5ce98"
            ],
            "text/plain": [
              "<IPython.core.display.Javascript object>"
            ]
          },
          "metadata": {
            "tags": [
              "id2-0-0",
              "outputarea_id2"
            ]
          }
        },
        {
          "output_type": "display_data",
          "data": {
            "application/javascript": [
              "window[\"dd016d6a-06e7-11eb-986c-0242ac1c0002\"] = google.colab.output.getActiveOutputArea();\n",
              "//# sourceURL=js_92e156b34c"
            ],
            "text/plain": [
              "<IPython.core.display.Javascript object>"
            ]
          },
          "metadata": {
            "tags": [
              "id2-0-0",
              "outputarea_id2"
            ]
          }
        },
        {
          "output_type": "display_data",
          "data": {
            "application/javascript": [
              "window[\"dd01e8ee-06e7-11eb-986c-0242ac1c0002\"] = document.querySelector(\"#id2-0-0\");\n",
              "//# sourceURL=js_32a6c45b33"
            ],
            "text/plain": [
              "<IPython.core.display.Javascript object>"
            ]
          },
          "metadata": {
            "tags": [
              "id2-0-0",
              "outputarea_id2"
            ]
          }
        },
        {
          "output_type": "display_data",
          "data": {
            "application/javascript": [
              "window[\"dd024b18-06e7-11eb-986c-0242ac1c0002\"] = google.colab.output.setActiveOutputArea(window[\"dd01e8ee-06e7-11eb-986c-0242ac1c0002\"]);\n",
              "//# sourceURL=js_d60287420a"
            ],
            "text/plain": [
              "<IPython.core.display.Javascript object>"
            ]
          },
          "metadata": {
            "tags": [
              "id2-0-0",
              "outputarea_id2"
            ]
          }
        },
        {
          "output_type": "display_data",
          "data": {
            "application/javascript": [
              "window[\"dd2bbe44-06e7-11eb-986c-0242ac1c0002\"] = google.colab.output.setActiveOutputArea(window[\"dd016d6a-06e7-11eb-986c-0242ac1c0002\"]);\n",
              "//# sourceURL=js_cf250d3917"
            ],
            "text/plain": [
              "<IPython.core.display.Javascript object>"
            ]
          },
          "metadata": {
            "tags": [
              "id2-0-0",
              "outputarea_id2"
            ]
          }
        },
        {
          "output_type": "display_data",
          "data": {
            "application/javascript": [
              "window[\"de08463e-06e7-11eb-986c-0242ac1c0002\"] = google.colab.output.getActiveOutputArea();\n",
              "//# sourceURL=js_6e0da06c73"
            ],
            "text/plain": [
              "<IPython.core.display.Javascript object>"
            ]
          },
          "metadata": {
            "tags": [
              "id2-0-0",
              "outputarea_id2"
            ]
          }
        },
        {
          "output_type": "display_data",
          "data": {
            "application/javascript": [
              "window[\"de08a99e-06e7-11eb-986c-0242ac1c0002\"] = document.querySelector(\"#id2-0-0\");\n",
              "//# sourceURL=js_2bdfe7dd83"
            ],
            "text/plain": [
              "<IPython.core.display.Javascript object>"
            ]
          },
          "metadata": {
            "tags": [
              "id2-0-0",
              "outputarea_id2"
            ]
          }
        },
        {
          "output_type": "display_data",
          "data": {
            "application/javascript": [
              "window[\"de08ef58-06e7-11eb-986c-0242ac1c0002\"] = google.colab.output.setActiveOutputArea(window[\"de08a99e-06e7-11eb-986c-0242ac1c0002\"]);\n",
              "//# sourceURL=js_4cf8bfd316"
            ],
            "text/plain": [
              "<IPython.core.display.Javascript object>"
            ]
          },
          "metadata": {
            "tags": [
              "id2-0-0",
              "outputarea_id2"
            ]
          }
        },
        {
          "output_type": "display_data",
          "data": {
            "application/javascript": [
              "window[\"de330e1e-06e7-11eb-986c-0242ac1c0002\"] = google.colab.output.setActiveOutputArea(window[\"de08463e-06e7-11eb-986c-0242ac1c0002\"]);\n",
              "//# sourceURL=js_5342d3f72c"
            ],
            "text/plain": [
              "<IPython.core.display.Javascript object>"
            ]
          },
          "metadata": {
            "tags": [
              "id2-0-0",
              "outputarea_id2"
            ]
          }
        },
        {
          "output_type": "display_data",
          "data": {
            "application/javascript": [
              "window[\"df0b7de4-06e7-11eb-986c-0242ac1c0002\"] = google.colab.output.getActiveOutputArea();\n",
              "//# sourceURL=js_aa2c7e719a"
            ],
            "text/plain": [
              "<IPython.core.display.Javascript object>"
            ]
          },
          "metadata": {
            "tags": [
              "id2-0-0",
              "outputarea_id2"
            ]
          }
        },
        {
          "output_type": "display_data",
          "data": {
            "application/javascript": [
              "window[\"df0c1e70-06e7-11eb-986c-0242ac1c0002\"] = document.querySelector(\"#id2-0-0\");\n",
              "//# sourceURL=js_9084bfc94b"
            ],
            "text/plain": [
              "<IPython.core.display.Javascript object>"
            ]
          },
          "metadata": {
            "tags": [
              "id2-0-0",
              "outputarea_id2"
            ]
          }
        },
        {
          "output_type": "display_data",
          "data": {
            "application/javascript": [
              "window[\"df0c70a0-06e7-11eb-986c-0242ac1c0002\"] = google.colab.output.setActiveOutputArea(window[\"df0c1e70-06e7-11eb-986c-0242ac1c0002\"]);\n",
              "//# sourceURL=js_39691e3567"
            ],
            "text/plain": [
              "<IPython.core.display.Javascript object>"
            ]
          },
          "metadata": {
            "tags": [
              "id2-0-0",
              "outputarea_id2"
            ]
          }
        },
        {
          "output_type": "display_data",
          "data": {
            "application/javascript": [
              "window[\"df37eee2-06e7-11eb-986c-0242ac1c0002\"] = google.colab.output.setActiveOutputArea(window[\"df0b7de4-06e7-11eb-986c-0242ac1c0002\"]);\n",
              "//# sourceURL=js_d4e27a6416"
            ],
            "text/plain": [
              "<IPython.core.display.Javascript object>"
            ]
          },
          "metadata": {
            "tags": [
              "id2-0-0",
              "outputarea_id2"
            ]
          }
        },
        {
          "output_type": "display_data",
          "data": {
            "application/javascript": [
              "window[\"e01364ea-06e7-11eb-986c-0242ac1c0002\"] = google.colab.output.getActiveOutputArea();\n",
              "//# sourceURL=js_2c6acdc7e4"
            ],
            "text/plain": [
              "<IPython.core.display.Javascript object>"
            ]
          },
          "metadata": {
            "tags": [
              "id2-0-0",
              "outputarea_id2"
            ]
          }
        },
        {
          "output_type": "display_data",
          "data": {
            "application/javascript": [
              "window[\"e013c0b6-06e7-11eb-986c-0242ac1c0002\"] = document.querySelector(\"#id2-0-0\");\n",
              "//# sourceURL=js_b87436fbdf"
            ],
            "text/plain": [
              "<IPython.core.display.Javascript object>"
            ]
          },
          "metadata": {
            "tags": [
              "id2-0-0",
              "outputarea_id2"
            ]
          }
        },
        {
          "output_type": "display_data",
          "data": {
            "application/javascript": [
              "window[\"e014116a-06e7-11eb-986c-0242ac1c0002\"] = google.colab.output.setActiveOutputArea(window[\"e013c0b6-06e7-11eb-986c-0242ac1c0002\"]);\n",
              "//# sourceURL=js_641e127d7a"
            ],
            "text/plain": [
              "<IPython.core.display.Javascript object>"
            ]
          },
          "metadata": {
            "tags": [
              "id2-0-0",
              "outputarea_id2"
            ]
          }
        },
        {
          "output_type": "display_data",
          "data": {
            "application/javascript": [
              "window[\"e03c6c8c-06e7-11eb-986c-0242ac1c0002\"] = google.colab.output.setActiveOutputArea(window[\"e01364ea-06e7-11eb-986c-0242ac1c0002\"]);\n",
              "//# sourceURL=js_5de5135649"
            ],
            "text/plain": [
              "<IPython.core.display.Javascript object>"
            ]
          },
          "metadata": {
            "tags": [
              "id2-0-0",
              "outputarea_id2"
            ]
          }
        },
        {
          "output_type": "display_data",
          "data": {
            "application/javascript": [
              "window[\"e1164a4c-06e7-11eb-986c-0242ac1c0002\"] = google.colab.output.getActiveOutputArea();\n",
              "//# sourceURL=js_991122cfa6"
            ],
            "text/plain": [
              "<IPython.core.display.Javascript object>"
            ]
          },
          "metadata": {
            "tags": [
              "id2-0-0",
              "outputarea_id2"
            ]
          }
        },
        {
          "output_type": "display_data",
          "data": {
            "application/javascript": [
              "window[\"e1175b12-06e7-11eb-986c-0242ac1c0002\"] = document.querySelector(\"#id2-0-0\");\n",
              "//# sourceURL=js_5bd226e3bf"
            ],
            "text/plain": [
              "<IPython.core.display.Javascript object>"
            ]
          },
          "metadata": {
            "tags": [
              "id2-0-0",
              "outputarea_id2"
            ]
          }
        },
        {
          "output_type": "display_data",
          "data": {
            "application/javascript": [
              "window[\"e117ea0a-06e7-11eb-986c-0242ac1c0002\"] = google.colab.output.setActiveOutputArea(window[\"e1175b12-06e7-11eb-986c-0242ac1c0002\"]);\n",
              "//# sourceURL=js_de391b24e7"
            ],
            "text/plain": [
              "<IPython.core.display.Javascript object>"
            ]
          },
          "metadata": {
            "tags": [
              "id2-0-0",
              "outputarea_id2"
            ]
          }
        },
        {
          "output_type": "display_data",
          "data": {
            "application/javascript": [
              "window[\"e1439592-06e7-11eb-986c-0242ac1c0002\"] = google.colab.output.setActiveOutputArea(window[\"e1164a4c-06e7-11eb-986c-0242ac1c0002\"]);\n",
              "//# sourceURL=js_96f3c95997"
            ],
            "text/plain": [
              "<IPython.core.display.Javascript object>"
            ]
          },
          "metadata": {
            "tags": [
              "id2-0-0",
              "outputarea_id2"
            ]
          }
        },
        {
          "output_type": "display_data",
          "data": {
            "application/javascript": [
              "window[\"e2204f32-06e7-11eb-986c-0242ac1c0002\"] = google.colab.output.getActiveOutputArea();\n",
              "//# sourceURL=js_148dba3730"
            ],
            "text/plain": [
              "<IPython.core.display.Javascript object>"
            ]
          },
          "metadata": {
            "tags": [
              "id2-0-0",
              "outputarea_id2"
            ]
          }
        },
        {
          "output_type": "display_data",
          "data": {
            "application/javascript": [
              "window[\"e220bd78-06e7-11eb-986c-0242ac1c0002\"] = document.querySelector(\"#id2-0-0\");\n",
              "//# sourceURL=js_6224b7721c"
            ],
            "text/plain": [
              "<IPython.core.display.Javascript object>"
            ]
          },
          "metadata": {
            "tags": [
              "id2-0-0",
              "outputarea_id2"
            ]
          }
        },
        {
          "output_type": "display_data",
          "data": {
            "application/javascript": [
              "window[\"e2210986-06e7-11eb-986c-0242ac1c0002\"] = google.colab.output.setActiveOutputArea(window[\"e220bd78-06e7-11eb-986c-0242ac1c0002\"]);\n",
              "//# sourceURL=js_2b46794f68"
            ],
            "text/plain": [
              "<IPython.core.display.Javascript object>"
            ]
          },
          "metadata": {
            "tags": [
              "id2-0-0",
              "outputarea_id2"
            ]
          }
        },
        {
          "output_type": "display_data",
          "data": {
            "application/javascript": [
              "window[\"e24b3bd4-06e7-11eb-986c-0242ac1c0002\"] = google.colab.output.setActiveOutputArea(window[\"e2204f32-06e7-11eb-986c-0242ac1c0002\"]);\n",
              "//# sourceURL=js_2c31a26351"
            ],
            "text/plain": [
              "<IPython.core.display.Javascript object>"
            ]
          },
          "metadata": {
            "tags": [
              "id2-0-0",
              "outputarea_id2"
            ]
          }
        },
        {
          "output_type": "display_data",
          "data": {
            "application/javascript": [
              "window[\"e324dccc-06e7-11eb-986c-0242ac1c0002\"] = google.colab.output.getActiveOutputArea();\n",
              "//# sourceURL=js_cc73f532bc"
            ],
            "text/plain": [
              "<IPython.core.display.Javascript object>"
            ]
          },
          "metadata": {
            "tags": [
              "id2-0-0",
              "outputarea_id2"
            ]
          }
        },
        {
          "output_type": "display_data",
          "data": {
            "application/javascript": [
              "window[\"e3263d06-06e7-11eb-986c-0242ac1c0002\"] = document.querySelector(\"#id2-0-0\");\n",
              "//# sourceURL=js_8951595375"
            ],
            "text/plain": [
              "<IPython.core.display.Javascript object>"
            ]
          },
          "metadata": {
            "tags": [
              "id2-0-0",
              "outputarea_id2"
            ]
          }
        },
        {
          "output_type": "display_data",
          "data": {
            "application/javascript": [
              "window[\"e32690bc-06e7-11eb-986c-0242ac1c0002\"] = google.colab.output.setActiveOutputArea(window[\"e3263d06-06e7-11eb-986c-0242ac1c0002\"]);\n",
              "//# sourceURL=js_aaf147b7ad"
            ],
            "text/plain": [
              "<IPython.core.display.Javascript object>"
            ]
          },
          "metadata": {
            "tags": [
              "id2-0-0",
              "outputarea_id2"
            ]
          }
        },
        {
          "output_type": "display_data",
          "data": {
            "application/javascript": [
              "window[\"e34dfb02-06e7-11eb-986c-0242ac1c0002\"] = google.colab.output.setActiveOutputArea(window[\"e324dccc-06e7-11eb-986c-0242ac1c0002\"]);\n",
              "//# sourceURL=js_a7c7529369"
            ],
            "text/plain": [
              "<IPython.core.display.Javascript object>"
            ]
          },
          "metadata": {
            "tags": [
              "id2-0-0",
              "outputarea_id2"
            ]
          }
        },
        {
          "output_type": "display_data",
          "data": {
            "application/javascript": [
              "window[\"e426d1fc-06e7-11eb-986c-0242ac1c0002\"] = google.colab.output.getActiveOutputArea();\n",
              "//# sourceURL=js_b11882a629"
            ],
            "text/plain": [
              "<IPython.core.display.Javascript object>"
            ]
          },
          "metadata": {
            "tags": [
              "id2-0-0",
              "outputarea_id2"
            ]
          }
        },
        {
          "output_type": "display_data",
          "data": {
            "application/javascript": [
              "window[\"e42887f4-06e7-11eb-986c-0242ac1c0002\"] = document.querySelector(\"#id2-0-0\");\n",
              "//# sourceURL=js_770f8b9cce"
            ],
            "text/plain": [
              "<IPython.core.display.Javascript object>"
            ]
          },
          "metadata": {
            "tags": [
              "id2-0-0",
              "outputarea_id2"
            ]
          }
        },
        {
          "output_type": "display_data",
          "data": {
            "application/javascript": [
              "window[\"e428eeba-06e7-11eb-986c-0242ac1c0002\"] = google.colab.output.setActiveOutputArea(window[\"e42887f4-06e7-11eb-986c-0242ac1c0002\"]);\n",
              "//# sourceURL=js_6c3c4a67f8"
            ],
            "text/plain": [
              "<IPython.core.display.Javascript object>"
            ]
          },
          "metadata": {
            "tags": [
              "id2-0-0",
              "outputarea_id2"
            ]
          }
        },
        {
          "output_type": "display_data",
          "data": {
            "application/javascript": [
              "window[\"e45181d6-06e7-11eb-986c-0242ac1c0002\"] = google.colab.output.setActiveOutputArea(window[\"e426d1fc-06e7-11eb-986c-0242ac1c0002\"]);\n",
              "//# sourceURL=js_5311ea8061"
            ],
            "text/plain": [
              "<IPython.core.display.Javascript object>"
            ]
          },
          "metadata": {
            "tags": [
              "id2-0-0",
              "outputarea_id2"
            ]
          }
        },
        {
          "output_type": "display_data",
          "data": {
            "application/javascript": [
              "window[\"e52da4fe-06e7-11eb-986c-0242ac1c0002\"] = google.colab.output.getActiveOutputArea();\n",
              "//# sourceURL=js_a1b9a55935"
            ],
            "text/plain": [
              "<IPython.core.display.Javascript object>"
            ]
          },
          "metadata": {
            "tags": [
              "id2-0-0",
              "outputarea_id2"
            ]
          }
        },
        {
          "output_type": "display_data",
          "data": {
            "application/javascript": [
              "window[\"e52eead0-06e7-11eb-986c-0242ac1c0002\"] = document.querySelector(\"#id2-0-0\");\n",
              "//# sourceURL=js_ed4b735782"
            ],
            "text/plain": [
              "<IPython.core.display.Javascript object>"
            ]
          },
          "metadata": {
            "tags": [
              "id2-0-0",
              "outputarea_id2"
            ]
          }
        },
        {
          "output_type": "display_data",
          "data": {
            "application/javascript": [
              "window[\"e52f8044-06e7-11eb-986c-0242ac1c0002\"] = google.colab.output.setActiveOutputArea(window[\"e52eead0-06e7-11eb-986c-0242ac1c0002\"]);\n",
              "//# sourceURL=js_33f2863974"
            ],
            "text/plain": [
              "<IPython.core.display.Javascript object>"
            ]
          },
          "metadata": {
            "tags": [
              "id2-0-0",
              "outputarea_id2"
            ]
          }
        },
        {
          "output_type": "display_data",
          "data": {
            "application/javascript": [
              "window[\"e55941f4-06e7-11eb-986c-0242ac1c0002\"] = google.colab.output.setActiveOutputArea(window[\"e52da4fe-06e7-11eb-986c-0242ac1c0002\"]);\n",
              "//# sourceURL=js_2e42777798"
            ],
            "text/plain": [
              "<IPython.core.display.Javascript object>"
            ]
          },
          "metadata": {
            "tags": [
              "id2-0-0",
              "outputarea_id2"
            ]
          }
        },
        {
          "output_type": "display_data",
          "data": {
            "application/javascript": [
              "window[\"e63029a8-06e7-11eb-986c-0242ac1c0002\"] = google.colab.output.getActiveOutputArea();\n",
              "//# sourceURL=js_8137445a2e"
            ],
            "text/plain": [
              "<IPython.core.display.Javascript object>"
            ]
          },
          "metadata": {
            "tags": [
              "id2-0-0",
              "outputarea_id2"
            ]
          }
        },
        {
          "output_type": "display_data",
          "data": {
            "application/javascript": [
              "window[\"e6308fba-06e7-11eb-986c-0242ac1c0002\"] = document.querySelector(\"#id2-0-0\");\n",
              "//# sourceURL=js_1a60c28c51"
            ],
            "text/plain": [
              "<IPython.core.display.Javascript object>"
            ]
          },
          "metadata": {
            "tags": [
              "id2-0-0",
              "outputarea_id2"
            ]
          }
        },
        {
          "output_type": "display_data",
          "data": {
            "application/javascript": [
              "window[\"e630e2f8-06e7-11eb-986c-0242ac1c0002\"] = google.colab.output.setActiveOutputArea(window[\"e6308fba-06e7-11eb-986c-0242ac1c0002\"]);\n",
              "//# sourceURL=js_d18e198ed9"
            ],
            "text/plain": [
              "<IPython.core.display.Javascript object>"
            ]
          },
          "metadata": {
            "tags": [
              "id2-0-0",
              "outputarea_id2"
            ]
          }
        },
        {
          "output_type": "display_data",
          "data": {
            "application/javascript": [
              "window[\"e658fdba-06e7-11eb-986c-0242ac1c0002\"] = google.colab.output.setActiveOutputArea(window[\"e63029a8-06e7-11eb-986c-0242ac1c0002\"]);\n",
              "//# sourceURL=js_06b25a464a"
            ],
            "text/plain": [
              "<IPython.core.display.Javascript object>"
            ]
          },
          "metadata": {
            "tags": [
              "id2-0-0",
              "outputarea_id2"
            ]
          }
        },
        {
          "output_type": "display_data",
          "data": {
            "application/javascript": [
              "window[\"e735a1f2-06e7-11eb-986c-0242ac1c0002\"] = google.colab.output.getActiveOutputArea();\n",
              "//# sourceURL=js_246953ffbc"
            ],
            "text/plain": [
              "<IPython.core.display.Javascript object>"
            ]
          },
          "metadata": {
            "tags": [
              "id2-0-0",
              "outputarea_id2"
            ]
          }
        },
        {
          "output_type": "display_data",
          "data": {
            "application/javascript": [
              "window[\"e74e41e4-06e7-11eb-986c-0242ac1c0002\"] = document.querySelector(\"#id2-0-0\");\n",
              "//# sourceURL=js_6b43f7ce12"
            ],
            "text/plain": [
              "<IPython.core.display.Javascript object>"
            ]
          },
          "metadata": {
            "tags": [
              "id2-0-0",
              "outputarea_id2"
            ]
          }
        },
        {
          "output_type": "display_data",
          "data": {
            "application/javascript": [
              "window[\"e74eafb2-06e7-11eb-986c-0242ac1c0002\"] = google.colab.output.setActiveOutputArea(window[\"e74e41e4-06e7-11eb-986c-0242ac1c0002\"]);\n",
              "//# sourceURL=js_0e8def5ecd"
            ],
            "text/plain": [
              "<IPython.core.display.Javascript object>"
            ]
          },
          "metadata": {
            "tags": [
              "id2-0-0",
              "outputarea_id2"
            ]
          }
        },
        {
          "output_type": "display_data",
          "data": {
            "application/javascript": [
              "window[\"e7764dd8-06e7-11eb-986c-0242ac1c0002\"] = google.colab.output.setActiveOutputArea(window[\"e735a1f2-06e7-11eb-986c-0242ac1c0002\"]);\n",
              "//# sourceURL=js_27c82f6563"
            ],
            "text/plain": [
              "<IPython.core.display.Javascript object>"
            ]
          },
          "metadata": {
            "tags": [
              "id2-0-0",
              "outputarea_id2"
            ]
          }
        },
        {
          "output_type": "display_data",
          "data": {
            "application/javascript": [
              "window[\"e84ccc64-06e7-11eb-986c-0242ac1c0002\"] = google.colab.output.getActiveOutputArea();\n",
              "//# sourceURL=js_41c628e799"
            ],
            "text/plain": [
              "<IPython.core.display.Javascript object>"
            ]
          },
          "metadata": {
            "tags": [
              "id2-0-0",
              "outputarea_id2"
            ]
          }
        },
        {
          "output_type": "display_data",
          "data": {
            "application/javascript": [
              "window[\"e84e750a-06e7-11eb-986c-0242ac1c0002\"] = document.querySelector(\"#id2-0-0\");\n",
              "//# sourceURL=js_89cded930e"
            ],
            "text/plain": [
              "<IPython.core.display.Javascript object>"
            ]
          },
          "metadata": {
            "tags": [
              "id2-0-0",
              "outputarea_id2"
            ]
          }
        },
        {
          "output_type": "display_data",
          "data": {
            "application/javascript": [
              "window[\"e84f376a-06e7-11eb-986c-0242ac1c0002\"] = google.colab.output.setActiveOutputArea(window[\"e84e750a-06e7-11eb-986c-0242ac1c0002\"]);\n",
              "//# sourceURL=js_855ca45824"
            ],
            "text/plain": [
              "<IPython.core.display.Javascript object>"
            ]
          },
          "metadata": {
            "tags": [
              "id2-0-0",
              "outputarea_id2"
            ]
          }
        },
        {
          "output_type": "display_data",
          "data": {
            "application/javascript": [
              "window[\"e8785906-06e7-11eb-986c-0242ac1c0002\"] = google.colab.output.setActiveOutputArea(window[\"e84ccc64-06e7-11eb-986c-0242ac1c0002\"]);\n",
              "//# sourceURL=js_99d3678c85"
            ],
            "text/plain": [
              "<IPython.core.display.Javascript object>"
            ]
          },
          "metadata": {
            "tags": [
              "id2-0-0",
              "outputarea_id2"
            ]
          }
        },
        {
          "output_type": "display_data",
          "data": {
            "application/javascript": [
              "window[\"e9507dc2-06e7-11eb-986c-0242ac1c0002\"] = google.colab.output.getActiveOutputArea();\n",
              "//# sourceURL=js_fdf7a1cc8c"
            ],
            "text/plain": [
              "<IPython.core.display.Javascript object>"
            ]
          },
          "metadata": {
            "tags": [
              "id2-0-0",
              "outputarea_id2"
            ]
          }
        },
        {
          "output_type": "display_data",
          "data": {
            "application/javascript": [
              "window[\"e951bd22-06e7-11eb-986c-0242ac1c0002\"] = document.querySelector(\"#id2-0-0\");\n",
              "//# sourceURL=js_ba3cebb3ef"
            ],
            "text/plain": [
              "<IPython.core.display.Javascript object>"
            ]
          },
          "metadata": {
            "tags": [
              "id2-0-0",
              "outputarea_id2"
            ]
          }
        },
        {
          "output_type": "display_data",
          "data": {
            "application/javascript": [
              "window[\"e9526966-06e7-11eb-986c-0242ac1c0002\"] = google.colab.output.setActiveOutputArea(window[\"e951bd22-06e7-11eb-986c-0242ac1c0002\"]);\n",
              "//# sourceURL=js_8b44b9528c"
            ],
            "text/plain": [
              "<IPython.core.display.Javascript object>"
            ]
          },
          "metadata": {
            "tags": [
              "id2-0-0",
              "outputarea_id2"
            ]
          }
        },
        {
          "output_type": "display_data",
          "data": {
            "application/javascript": [
              "window[\"e97d1422-06e7-11eb-986c-0242ac1c0002\"] = google.colab.output.setActiveOutputArea(window[\"e9507dc2-06e7-11eb-986c-0242ac1c0002\"]);\n",
              "//# sourceURL=js_5e947a15bc"
            ],
            "text/plain": [
              "<IPython.core.display.Javascript object>"
            ]
          },
          "metadata": {
            "tags": [
              "id2-0-0",
              "outputarea_id2"
            ]
          }
        },
        {
          "output_type": "display_data",
          "data": {
            "application/javascript": [
              "window[\"ea727822-06e7-11eb-986c-0242ac1c0002\"] = google.colab.output.getActiveOutputArea();\n",
              "//# sourceURL=js_ef19e1de61"
            ],
            "text/plain": [
              "<IPython.core.display.Javascript object>"
            ]
          },
          "metadata": {
            "tags": [
              "id2-0-0",
              "outputarea_id2"
            ]
          }
        },
        {
          "output_type": "display_data",
          "data": {
            "application/javascript": [
              "window[\"ea732920-06e7-11eb-986c-0242ac1c0002\"] = document.querySelector(\"#id2-0-0\");\n",
              "//# sourceURL=js_08b6672ffb"
            ],
            "text/plain": [
              "<IPython.core.display.Javascript object>"
            ]
          },
          "metadata": {
            "tags": [
              "id2-0-0",
              "outputarea_id2"
            ]
          }
        },
        {
          "output_type": "display_data",
          "data": {
            "application/javascript": [
              "window[\"ea740264-06e7-11eb-986c-0242ac1c0002\"] = google.colab.output.setActiveOutputArea(window[\"ea732920-06e7-11eb-986c-0242ac1c0002\"]);\n",
              "//# sourceURL=js_797438ef0f"
            ],
            "text/plain": [
              "<IPython.core.display.Javascript object>"
            ]
          },
          "metadata": {
            "tags": [
              "id2-0-0",
              "outputarea_id2"
            ]
          }
        },
        {
          "output_type": "display_data",
          "data": {
            "application/javascript": [
              "window[\"ea9ecaee-06e7-11eb-986c-0242ac1c0002\"] = google.colab.output.setActiveOutputArea(window[\"ea727822-06e7-11eb-986c-0242ac1c0002\"]);\n",
              "//# sourceURL=js_b66b2143bd"
            ],
            "text/plain": [
              "<IPython.core.display.Javascript object>"
            ]
          },
          "metadata": {
            "tags": [
              "id2-0-0",
              "outputarea_id2"
            ]
          }
        },
        {
          "output_type": "display_data",
          "data": {
            "application/javascript": [
              "window[\"eb7d9080-06e7-11eb-986c-0242ac1c0002\"] = google.colab.output.getActiveOutputArea();\n",
              "//# sourceURL=js_a530932c28"
            ],
            "text/plain": [
              "<IPython.core.display.Javascript object>"
            ]
          },
          "metadata": {
            "tags": [
              "id2-0-0",
              "outputarea_id2"
            ]
          }
        },
        {
          "output_type": "display_data",
          "data": {
            "application/javascript": [
              "window[\"eb7dfa20-06e7-11eb-986c-0242ac1c0002\"] = document.querySelector(\"#id2-0-0\");\n",
              "//# sourceURL=js_050a3feaf7"
            ],
            "text/plain": [
              "<IPython.core.display.Javascript object>"
            ]
          },
          "metadata": {
            "tags": [
              "id2-0-0",
              "outputarea_id2"
            ]
          }
        },
        {
          "output_type": "display_data",
          "data": {
            "application/javascript": [
              "window[\"eb7e5682-06e7-11eb-986c-0242ac1c0002\"] = google.colab.output.setActiveOutputArea(window[\"eb7dfa20-06e7-11eb-986c-0242ac1c0002\"]);\n",
              "//# sourceURL=js_36e0a80924"
            ],
            "text/plain": [
              "<IPython.core.display.Javascript object>"
            ]
          },
          "metadata": {
            "tags": [
              "id2-0-0",
              "outputarea_id2"
            ]
          }
        },
        {
          "output_type": "display_data",
          "data": {
            "application/javascript": [
              "window[\"ebabcaa4-06e7-11eb-986c-0242ac1c0002\"] = google.colab.output.setActiveOutputArea(window[\"eb7d9080-06e7-11eb-986c-0242ac1c0002\"]);\n",
              "//# sourceURL=js_8348a5dc59"
            ],
            "text/plain": [
              "<IPython.core.display.Javascript object>"
            ]
          },
          "metadata": {
            "tags": [
              "id2-0-0",
              "outputarea_id2"
            ]
          }
        },
        {
          "output_type": "display_data",
          "data": {
            "application/javascript": [
              "window[\"ec8935a6-06e7-11eb-986c-0242ac1c0002\"] = google.colab.output.getActiveOutputArea();\n",
              "//# sourceURL=js_b21d7f1fad"
            ],
            "text/plain": [
              "<IPython.core.display.Javascript object>"
            ]
          },
          "metadata": {
            "tags": [
              "id2-0-0",
              "outputarea_id2"
            ]
          }
        },
        {
          "output_type": "display_data",
          "data": {
            "application/javascript": [
              "window[\"ec8a82f8-06e7-11eb-986c-0242ac1c0002\"] = document.querySelector(\"#id2-0-0\");\n",
              "//# sourceURL=js_ac29ce3ef9"
            ],
            "text/plain": [
              "<IPython.core.display.Javascript object>"
            ]
          },
          "metadata": {
            "tags": [
              "id2-0-0",
              "outputarea_id2"
            ]
          }
        },
        {
          "output_type": "display_data",
          "data": {
            "application/javascript": [
              "window[\"ec8b4cec-06e7-11eb-986c-0242ac1c0002\"] = google.colab.output.setActiveOutputArea(window[\"ec8a82f8-06e7-11eb-986c-0242ac1c0002\"]);\n",
              "//# sourceURL=js_f522036ba5"
            ],
            "text/plain": [
              "<IPython.core.display.Javascript object>"
            ]
          },
          "metadata": {
            "tags": [
              "id2-0-0",
              "outputarea_id2"
            ]
          }
        },
        {
          "output_type": "display_data",
          "data": {
            "application/javascript": [
              "window[\"ecb1e546-06e7-11eb-986c-0242ac1c0002\"] = google.colab.output.setActiveOutputArea(window[\"ec8935a6-06e7-11eb-986c-0242ac1c0002\"]);\n",
              "//# sourceURL=js_a7ddaf561d"
            ],
            "text/plain": [
              "<IPython.core.display.Javascript object>"
            ]
          },
          "metadata": {
            "tags": [
              "id2-0-0",
              "outputarea_id2"
            ]
          }
        },
        {
          "output_type": "display_data",
          "data": {
            "application/javascript": [
              "window[\"ed8d2f0c-06e7-11eb-986c-0242ac1c0002\"] = google.colab.output.getActiveOutputArea();\n",
              "//# sourceURL=js_b50a3443e2"
            ],
            "text/plain": [
              "<IPython.core.display.Javascript object>"
            ]
          },
          "metadata": {
            "tags": [
              "id2-0-0",
              "outputarea_id2"
            ]
          }
        },
        {
          "output_type": "display_data",
          "data": {
            "application/javascript": [
              "window[\"ed8d9924-06e7-11eb-986c-0242ac1c0002\"] = document.querySelector(\"#id2-0-0\");\n",
              "//# sourceURL=js_e3c7556030"
            ],
            "text/plain": [
              "<IPython.core.display.Javascript object>"
            ]
          },
          "metadata": {
            "tags": [
              "id2-0-0",
              "outputarea_id2"
            ]
          }
        },
        {
          "output_type": "display_data",
          "data": {
            "application/javascript": [
              "window[\"ed8e31c2-06e7-11eb-986c-0242ac1c0002\"] = google.colab.output.setActiveOutputArea(window[\"ed8d9924-06e7-11eb-986c-0242ac1c0002\"]);\n",
              "//# sourceURL=js_18682a2363"
            ],
            "text/plain": [
              "<IPython.core.display.Javascript object>"
            ]
          },
          "metadata": {
            "tags": [
              "id2-0-0",
              "outputarea_id2"
            ]
          }
        },
        {
          "output_type": "display_data",
          "data": {
            "application/javascript": [
              "window[\"edb9e754-06e7-11eb-986c-0242ac1c0002\"] = google.colab.output.setActiveOutputArea(window[\"ed8d2f0c-06e7-11eb-986c-0242ac1c0002\"]);\n",
              "//# sourceURL=js_ba6ba90888"
            ],
            "text/plain": [
              "<IPython.core.display.Javascript object>"
            ]
          },
          "metadata": {
            "tags": [
              "id2-0-0",
              "outputarea_id2"
            ]
          }
        },
        {
          "output_type": "display_data",
          "data": {
            "application/javascript": [
              "window[\"eea10cf6-06e7-11eb-986c-0242ac1c0002\"] = google.colab.output.getActiveOutputArea();\n",
              "//# sourceURL=js_457a72a13d"
            ],
            "text/plain": [
              "<IPython.core.display.Javascript object>"
            ]
          },
          "metadata": {
            "tags": [
              "id2-0-0",
              "outputarea_id2"
            ]
          }
        },
        {
          "output_type": "display_data",
          "data": {
            "application/javascript": [
              "window[\"eea184ce-06e7-11eb-986c-0242ac1c0002\"] = document.querySelector(\"#id2-0-0\");\n",
              "//# sourceURL=js_1a70533547"
            ],
            "text/plain": [
              "<IPython.core.display.Javascript object>"
            ]
          },
          "metadata": {
            "tags": [
              "id2-0-0",
              "outputarea_id2"
            ]
          }
        },
        {
          "output_type": "display_data",
          "data": {
            "application/javascript": [
              "window[\"eea1dafa-06e7-11eb-986c-0242ac1c0002\"] = google.colab.output.setActiveOutputArea(window[\"eea184ce-06e7-11eb-986c-0242ac1c0002\"]);\n",
              "//# sourceURL=js_28e429d56c"
            ],
            "text/plain": [
              "<IPython.core.display.Javascript object>"
            ]
          },
          "metadata": {
            "tags": [
              "id2-0-0",
              "outputarea_id2"
            ]
          }
        },
        {
          "output_type": "display_data",
          "data": {
            "application/javascript": [
              "window[\"eeca857c-06e7-11eb-986c-0242ac1c0002\"] = google.colab.output.setActiveOutputArea(window[\"eea10cf6-06e7-11eb-986c-0242ac1c0002\"]);\n",
              "//# sourceURL=js_ebb121e043"
            ],
            "text/plain": [
              "<IPython.core.display.Javascript object>"
            ]
          },
          "metadata": {
            "tags": [
              "id2-0-0",
              "outputarea_id2"
            ]
          }
        },
        {
          "output_type": "display_data",
          "data": {
            "application/javascript": [
              "window[\"efa994e2-06e7-11eb-986c-0242ac1c0002\"] = google.colab.output.getActiveOutputArea();\n",
              "//# sourceURL=js_12a62094b1"
            ],
            "text/plain": [
              "<IPython.core.display.Javascript object>"
            ]
          },
          "metadata": {
            "tags": [
              "id2-0-0",
              "outputarea_id2"
            ]
          }
        },
        {
          "output_type": "display_data",
          "data": {
            "application/javascript": [
              "window[\"efaa5ec2-06e7-11eb-986c-0242ac1c0002\"] = document.querySelector(\"#id2-0-0\");\n",
              "//# sourceURL=js_dd8df4b0e7"
            ],
            "text/plain": [
              "<IPython.core.display.Javascript object>"
            ]
          },
          "metadata": {
            "tags": [
              "id2-0-0",
              "outputarea_id2"
            ]
          }
        },
        {
          "output_type": "display_data",
          "data": {
            "application/javascript": [
              "window[\"efab0b7e-06e7-11eb-986c-0242ac1c0002\"] = google.colab.output.setActiveOutputArea(window[\"efaa5ec2-06e7-11eb-986c-0242ac1c0002\"]);\n",
              "//# sourceURL=js_990ed25670"
            ],
            "text/plain": [
              "<IPython.core.display.Javascript object>"
            ]
          },
          "metadata": {
            "tags": [
              "id2-0-0",
              "outputarea_id2"
            ]
          }
        },
        {
          "output_type": "display_data",
          "data": {
            "application/javascript": [
              "window[\"efd55adc-06e7-11eb-986c-0242ac1c0002\"] = google.colab.output.setActiveOutputArea(window[\"efa994e2-06e7-11eb-986c-0242ac1c0002\"]);\n",
              "//# sourceURL=js_5313be0a6b"
            ],
            "text/plain": [
              "<IPython.core.display.Javascript object>"
            ]
          },
          "metadata": {
            "tags": [
              "id2-0-0",
              "outputarea_id2"
            ]
          }
        },
        {
          "output_type": "display_data",
          "data": {
            "application/javascript": [
              "window[\"f0c2b8e0-06e7-11eb-986c-0242ac1c0002\"] = google.colab.output.getActiveOutputArea();\n",
              "//# sourceURL=js_6b4fe4d0d4"
            ],
            "text/plain": [
              "<IPython.core.display.Javascript object>"
            ]
          },
          "metadata": {
            "tags": [
              "id2-0-0",
              "outputarea_id2"
            ]
          }
        },
        {
          "output_type": "display_data",
          "data": {
            "application/javascript": [
              "window[\"f0c390a8-06e7-11eb-986c-0242ac1c0002\"] = document.querySelector(\"#id2-0-0\");\n",
              "//# sourceURL=js_0a4c0034eb"
            ],
            "text/plain": [
              "<IPython.core.display.Javascript object>"
            ]
          },
          "metadata": {
            "tags": [
              "id2-0-0",
              "outputarea_id2"
            ]
          }
        },
        {
          "output_type": "display_data",
          "data": {
            "application/javascript": [
              "window[\"f0c3eda0-06e7-11eb-986c-0242ac1c0002\"] = google.colab.output.setActiveOutputArea(window[\"f0c390a8-06e7-11eb-986c-0242ac1c0002\"]);\n",
              "//# sourceURL=js_527c329f0b"
            ],
            "text/plain": [
              "<IPython.core.display.Javascript object>"
            ]
          },
          "metadata": {
            "tags": [
              "id2-0-0",
              "outputarea_id2"
            ]
          }
        },
        {
          "output_type": "display_data",
          "data": {
            "application/javascript": [
              "window[\"f0ef3078-06e7-11eb-986c-0242ac1c0002\"] = google.colab.output.setActiveOutputArea(window[\"f0c2b8e0-06e7-11eb-986c-0242ac1c0002\"]);\n",
              "//# sourceURL=js_07a8900a03"
            ],
            "text/plain": [
              "<IPython.core.display.Javascript object>"
            ]
          },
          "metadata": {
            "tags": [
              "id2-0-0",
              "outputarea_id2"
            ]
          }
        },
        {
          "output_type": "display_data",
          "data": {
            "application/javascript": [
              "window[\"f1c7ec42-06e7-11eb-986c-0242ac1c0002\"] = google.colab.output.getActiveOutputArea();\n",
              "//# sourceURL=js_194107b70d"
            ],
            "text/plain": [
              "<IPython.core.display.Javascript object>"
            ]
          },
          "metadata": {
            "tags": [
              "id2-0-0",
              "outputarea_id2"
            ]
          }
        },
        {
          "output_type": "display_data",
          "data": {
            "application/javascript": [
              "window[\"f1c90e60-06e7-11eb-986c-0242ac1c0002\"] = document.querySelector(\"#id2-0-0\");\n",
              "//# sourceURL=js_5b4ef06014"
            ],
            "text/plain": [
              "<IPython.core.display.Javascript object>"
            ]
          },
          "metadata": {
            "tags": [
              "id2-0-0",
              "outputarea_id2"
            ]
          }
        },
        {
          "output_type": "display_data",
          "data": {
            "application/javascript": [
              "window[\"f1caa02c-06e7-11eb-986c-0242ac1c0002\"] = google.colab.output.setActiveOutputArea(window[\"f1c90e60-06e7-11eb-986c-0242ac1c0002\"]);\n",
              "//# sourceURL=js_19dcd0e027"
            ],
            "text/plain": [
              "<IPython.core.display.Javascript object>"
            ]
          },
          "metadata": {
            "tags": [
              "id2-0-0",
              "outputarea_id2"
            ]
          }
        },
        {
          "output_type": "display_data",
          "data": {
            "application/javascript": [
              "window[\"f1f3673c-06e7-11eb-986c-0242ac1c0002\"] = google.colab.output.setActiveOutputArea(window[\"f1c7ec42-06e7-11eb-986c-0242ac1c0002\"]);\n",
              "//# sourceURL=js_9a9a6751d3"
            ],
            "text/plain": [
              "<IPython.core.display.Javascript object>"
            ]
          },
          "metadata": {
            "tags": [
              "id2-0-0",
              "outputarea_id2"
            ]
          }
        },
        {
          "output_type": "display_data",
          "data": {
            "application/javascript": [
              "window[\"f2cff88c-06e7-11eb-986c-0242ac1c0002\"] = google.colab.output.getActiveOutputArea();\n",
              "//# sourceURL=js_ef96c550eb"
            ],
            "text/plain": [
              "<IPython.core.display.Javascript object>"
            ]
          },
          "metadata": {
            "tags": [
              "id2-0-0",
              "outputarea_id2"
            ]
          }
        },
        {
          "output_type": "display_data",
          "data": {
            "application/javascript": [
              "window[\"f2d108da-06e7-11eb-986c-0242ac1c0002\"] = document.querySelector(\"#id2-0-0\");\n",
              "//# sourceURL=js_cf45a620b7"
            ],
            "text/plain": [
              "<IPython.core.display.Javascript object>"
            ]
          },
          "metadata": {
            "tags": [
              "id2-0-0",
              "outputarea_id2"
            ]
          }
        },
        {
          "output_type": "display_data",
          "data": {
            "application/javascript": [
              "window[\"f2d1b46a-06e7-11eb-986c-0242ac1c0002\"] = google.colab.output.setActiveOutputArea(window[\"f2d108da-06e7-11eb-986c-0242ac1c0002\"]);\n",
              "//# sourceURL=js_587fd2288b"
            ],
            "text/plain": [
              "<IPython.core.display.Javascript object>"
            ]
          },
          "metadata": {
            "tags": [
              "id2-0-0",
              "outputarea_id2"
            ]
          }
        },
        {
          "output_type": "display_data",
          "data": {
            "application/javascript": [
              "window[\"f2f81b6e-06e7-11eb-986c-0242ac1c0002\"] = google.colab.output.setActiveOutputArea(window[\"f2cff88c-06e7-11eb-986c-0242ac1c0002\"]);\n",
              "//# sourceURL=js_bf80a9a98e"
            ],
            "text/plain": [
              "<IPython.core.display.Javascript object>"
            ]
          },
          "metadata": {
            "tags": [
              "id2-0-0",
              "outputarea_id2"
            ]
          }
        },
        {
          "output_type": "display_data",
          "data": {
            "application/javascript": [
              "window[\"f3e5957e-06e7-11eb-986c-0242ac1c0002\"] = google.colab.output.getActiveOutputArea();\n",
              "//# sourceURL=js_498f682e05"
            ],
            "text/plain": [
              "<IPython.core.display.Javascript object>"
            ]
          },
          "metadata": {
            "tags": [
              "id2-0-0",
              "outputarea_id2"
            ]
          }
        },
        {
          "output_type": "display_data",
          "data": {
            "application/javascript": [
              "window[\"f3e71afc-06e7-11eb-986c-0242ac1c0002\"] = document.querySelector(\"#id2-0-0\");\n",
              "//# sourceURL=js_075b059b17"
            ],
            "text/plain": [
              "<IPython.core.display.Javascript object>"
            ]
          },
          "metadata": {
            "tags": [
              "id2-0-0",
              "outputarea_id2"
            ]
          }
        },
        {
          "output_type": "display_data",
          "data": {
            "application/javascript": [
              "window[\"f3e7a850-06e7-11eb-986c-0242ac1c0002\"] = google.colab.output.setActiveOutputArea(window[\"f3e71afc-06e7-11eb-986c-0242ac1c0002\"]);\n",
              "//# sourceURL=js_01bc3fd94a"
            ],
            "text/plain": [
              "<IPython.core.display.Javascript object>"
            ]
          },
          "metadata": {
            "tags": [
              "id2-0-0",
              "outputarea_id2"
            ]
          }
        },
        {
          "output_type": "display_data",
          "data": {
            "application/javascript": [
              "window[\"f4120be0-06e7-11eb-986c-0242ac1c0002\"] = google.colab.output.setActiveOutputArea(window[\"f3e5957e-06e7-11eb-986c-0242ac1c0002\"]);\n",
              "//# sourceURL=js_8d114d6c39"
            ],
            "text/plain": [
              "<IPython.core.display.Javascript object>"
            ]
          },
          "metadata": {
            "tags": [
              "id2-0-0",
              "outputarea_id2"
            ]
          }
        },
        {
          "output_type": "display_data",
          "data": {
            "application/javascript": [
              "window[\"f4f2980e-06e7-11eb-986c-0242ac1c0002\"] = google.colab.output.getActiveOutputArea();\n",
              "//# sourceURL=js_10c67a5c70"
            ],
            "text/plain": [
              "<IPython.core.display.Javascript object>"
            ]
          },
          "metadata": {
            "tags": [
              "id2-0-0",
              "outputarea_id2"
            ]
          }
        },
        {
          "output_type": "display_data",
          "data": {
            "application/javascript": [
              "window[\"f4f39d1c-06e7-11eb-986c-0242ac1c0002\"] = document.querySelector(\"#id2-0-0\");\n",
              "//# sourceURL=js_df2e9d7bb6"
            ],
            "text/plain": [
              "<IPython.core.display.Javascript object>"
            ]
          },
          "metadata": {
            "tags": [
              "id2-0-0",
              "outputarea_id2"
            ]
          }
        },
        {
          "output_type": "display_data",
          "data": {
            "application/javascript": [
              "window[\"f4f3fa50-06e7-11eb-986c-0242ac1c0002\"] = google.colab.output.setActiveOutputArea(window[\"f4f39d1c-06e7-11eb-986c-0242ac1c0002\"]);\n",
              "//# sourceURL=js_c189a7af00"
            ],
            "text/plain": [
              "<IPython.core.display.Javascript object>"
            ]
          },
          "metadata": {
            "tags": [
              "id2-0-0",
              "outputarea_id2"
            ]
          }
        },
        {
          "output_type": "display_data",
          "data": {
            "application/javascript": [
              "window[\"f51f6aa0-06e7-11eb-986c-0242ac1c0002\"] = google.colab.output.setActiveOutputArea(window[\"f4f2980e-06e7-11eb-986c-0242ac1c0002\"]);\n",
              "//# sourceURL=js_7f66549edf"
            ],
            "text/plain": [
              "<IPython.core.display.Javascript object>"
            ]
          },
          "metadata": {
            "tags": [
              "id2-0-0",
              "outputarea_id2"
            ]
          }
        },
        {
          "output_type": "display_data",
          "data": {
            "application/javascript": [
              "window[\"f6006cf8-06e7-11eb-986c-0242ac1c0002\"] = google.colab.output.getActiveOutputArea();\n",
              "//# sourceURL=js_1ff4c57a7b"
            ],
            "text/plain": [
              "<IPython.core.display.Javascript object>"
            ]
          },
          "metadata": {
            "tags": [
              "id2-0-0",
              "outputarea_id2"
            ]
          }
        },
        {
          "output_type": "display_data",
          "data": {
            "application/javascript": [
              "window[\"f601d872-06e7-11eb-986c-0242ac1c0002\"] = document.querySelector(\"#id2-0-0\");\n",
              "//# sourceURL=js_8be84a3994"
            ],
            "text/plain": [
              "<IPython.core.display.Javascript object>"
            ]
          },
          "metadata": {
            "tags": [
              "id2-0-0",
              "outputarea_id2"
            ]
          }
        },
        {
          "output_type": "display_data",
          "data": {
            "application/javascript": [
              "window[\"f6028f4c-06e7-11eb-986c-0242ac1c0002\"] = google.colab.output.setActiveOutputArea(window[\"f601d872-06e7-11eb-986c-0242ac1c0002\"]);\n",
              "//# sourceURL=js_3d3a7fb718"
            ],
            "text/plain": [
              "<IPython.core.display.Javascript object>"
            ]
          },
          "metadata": {
            "tags": [
              "id2-0-0",
              "outputarea_id2"
            ]
          }
        },
        {
          "output_type": "display_data",
          "data": {
            "application/javascript": [
              "window[\"f62e03c0-06e7-11eb-986c-0242ac1c0002\"] = google.colab.output.setActiveOutputArea(window[\"f6006cf8-06e7-11eb-986c-0242ac1c0002\"]);\n",
              "//# sourceURL=js_fe81b25984"
            ],
            "text/plain": [
              "<IPython.core.display.Javascript object>"
            ]
          },
          "metadata": {
            "tags": [
              "id2-0-0",
              "outputarea_id2"
            ]
          }
        },
        {
          "output_type": "display_data",
          "data": {
            "application/javascript": [
              "window[\"f722c5ea-06e7-11eb-986c-0242ac1c0002\"] = google.colab.output.getActiveOutputArea();\n",
              "//# sourceURL=js_74865ed7fc"
            ],
            "text/plain": [
              "<IPython.core.display.Javascript object>"
            ]
          },
          "metadata": {
            "tags": [
              "id2-0-0",
              "outputarea_id2"
            ]
          }
        },
        {
          "output_type": "display_data",
          "data": {
            "application/javascript": [
              "window[\"f7232a08-06e7-11eb-986c-0242ac1c0002\"] = document.querySelector(\"#id2-0-0\");\n",
              "//# sourceURL=js_92d07f6939"
            ],
            "text/plain": [
              "<IPython.core.display.Javascript object>"
            ]
          },
          "metadata": {
            "tags": [
              "id2-0-0",
              "outputarea_id2"
            ]
          }
        },
        {
          "output_type": "display_data",
          "data": {
            "application/javascript": [
              "window[\"f7237ce2-06e7-11eb-986c-0242ac1c0002\"] = google.colab.output.setActiveOutputArea(window[\"f7232a08-06e7-11eb-986c-0242ac1c0002\"]);\n",
              "//# sourceURL=js_87822e2fa7"
            ],
            "text/plain": [
              "<IPython.core.display.Javascript object>"
            ]
          },
          "metadata": {
            "tags": [
              "id2-0-0",
              "outputarea_id2"
            ]
          }
        },
        {
          "output_type": "display_data",
          "data": {
            "application/javascript": [
              "window[\"f74f1974-06e7-11eb-986c-0242ac1c0002\"] = google.colab.output.setActiveOutputArea(window[\"f722c5ea-06e7-11eb-986c-0242ac1c0002\"]);\n",
              "//# sourceURL=js_79994aff11"
            ],
            "text/plain": [
              "<IPython.core.display.Javascript object>"
            ]
          },
          "metadata": {
            "tags": [
              "id2-0-0",
              "outputarea_id2"
            ]
          }
        },
        {
          "output_type": "display_data",
          "data": {
            "application/javascript": [
              "window[\"f82cf492-06e7-11eb-986c-0242ac1c0002\"] = google.colab.output.getActiveOutputArea();\n",
              "//# sourceURL=js_1f3374d26f"
            ],
            "text/plain": [
              "<IPython.core.display.Javascript object>"
            ]
          },
          "metadata": {
            "tags": [
              "id2-0-0",
              "outputarea_id2"
            ]
          }
        },
        {
          "output_type": "display_data",
          "data": {
            "application/javascript": [
              "window[\"f82e611a-06e7-11eb-986c-0242ac1c0002\"] = document.querySelector(\"#id2-0-0\");\n",
              "//# sourceURL=js_859a9076ad"
            ],
            "text/plain": [
              "<IPython.core.display.Javascript object>"
            ]
          },
          "metadata": {
            "tags": [
              "id2-0-0",
              "outputarea_id2"
            ]
          }
        },
        {
          "output_type": "display_data",
          "data": {
            "application/javascript": [
              "window[\"f82ef968-06e7-11eb-986c-0242ac1c0002\"] = google.colab.output.setActiveOutputArea(window[\"f82e611a-06e7-11eb-986c-0242ac1c0002\"]);\n",
              "//# sourceURL=js_4cc8aefbcd"
            ],
            "text/plain": [
              "<IPython.core.display.Javascript object>"
            ]
          },
          "metadata": {
            "tags": [
              "id2-0-0",
              "outputarea_id2"
            ]
          }
        },
        {
          "output_type": "display_data",
          "data": {
            "application/javascript": [
              "window[\"f858c2f2-06e7-11eb-986c-0242ac1c0002\"] = google.colab.output.setActiveOutputArea(window[\"f82cf492-06e7-11eb-986c-0242ac1c0002\"]);\n",
              "//# sourceURL=js_69a959d785"
            ],
            "text/plain": [
              "<IPython.core.display.Javascript object>"
            ]
          },
          "metadata": {
            "tags": [
              "id2-0-0",
              "outputarea_id2"
            ]
          }
        },
        {
          "output_type": "display_data",
          "data": {
            "application/javascript": [
              "window[\"f93e880a-06e7-11eb-986c-0242ac1c0002\"] = google.colab.output.getActiveOutputArea();\n",
              "//# sourceURL=js_b1a09a9895"
            ],
            "text/plain": [
              "<IPython.core.display.Javascript object>"
            ]
          },
          "metadata": {
            "tags": [
              "id2-0-0",
              "outputarea_id2"
            ]
          }
        },
        {
          "output_type": "display_data",
          "data": {
            "application/javascript": [
              "window[\"f93ef81c-06e7-11eb-986c-0242ac1c0002\"] = document.querySelector(\"#id2-0-0\");\n",
              "//# sourceURL=js_7a7eb73c82"
            ],
            "text/plain": [
              "<IPython.core.display.Javascript object>"
            ]
          },
          "metadata": {
            "tags": [
              "id2-0-0",
              "outputarea_id2"
            ]
          }
        },
        {
          "output_type": "display_data",
          "data": {
            "application/javascript": [
              "window[\"f93f58c0-06e7-11eb-986c-0242ac1c0002\"] = google.colab.output.setActiveOutputArea(window[\"f93ef81c-06e7-11eb-986c-0242ac1c0002\"]);\n",
              "//# sourceURL=js_0a62d008d4"
            ],
            "text/plain": [
              "<IPython.core.display.Javascript object>"
            ]
          },
          "metadata": {
            "tags": [
              "id2-0-0",
              "outputarea_id2"
            ]
          }
        },
        {
          "output_type": "display_data",
          "data": {
            "application/javascript": [
              "window[\"f96e48c4-06e7-11eb-986c-0242ac1c0002\"] = google.colab.output.setActiveOutputArea(window[\"f93e880a-06e7-11eb-986c-0242ac1c0002\"]);\n",
              "//# sourceURL=js_84c5672043"
            ],
            "text/plain": [
              "<IPython.core.display.Javascript object>"
            ]
          },
          "metadata": {
            "tags": [
              "id2-0-0",
              "outputarea_id2"
            ]
          }
        },
        {
          "output_type": "display_data",
          "data": {
            "application/javascript": [
              "window[\"fa67c5fc-06e7-11eb-986c-0242ac1c0002\"] = google.colab.output.getActiveOutputArea();\n",
              "//# sourceURL=js_bf55fc9048"
            ],
            "text/plain": [
              "<IPython.core.display.Javascript object>"
            ]
          },
          "metadata": {
            "tags": [
              "id2-0-0",
              "outputarea_id2"
            ]
          }
        },
        {
          "output_type": "display_data",
          "data": {
            "application/javascript": [
              "window[\"fa697fbe-06e7-11eb-986c-0242ac1c0002\"] = document.querySelector(\"#id2-0-0\");\n",
              "//# sourceURL=js_d0eb97b5b4"
            ],
            "text/plain": [
              "<IPython.core.display.Javascript object>"
            ]
          },
          "metadata": {
            "tags": [
              "id2-0-0",
              "outputarea_id2"
            ]
          }
        },
        {
          "output_type": "display_data",
          "data": {
            "application/javascript": [
              "window[\"fa69e224-06e7-11eb-986c-0242ac1c0002\"] = google.colab.output.setActiveOutputArea(window[\"fa697fbe-06e7-11eb-986c-0242ac1c0002\"]);\n",
              "//# sourceURL=js_db97aa6608"
            ],
            "text/plain": [
              "<IPython.core.display.Javascript object>"
            ]
          },
          "metadata": {
            "tags": [
              "id2-0-0",
              "outputarea_id2"
            ]
          }
        },
        {
          "output_type": "display_data",
          "data": {
            "application/javascript": [
              "window[\"fa94b198-06e7-11eb-986c-0242ac1c0002\"] = google.colab.output.setActiveOutputArea(window[\"fa67c5fc-06e7-11eb-986c-0242ac1c0002\"]);\n",
              "//# sourceURL=js_89cbe286f9"
            ],
            "text/plain": [
              "<IPython.core.display.Javascript object>"
            ]
          },
          "metadata": {
            "tags": [
              "id2-0-0",
              "outputarea_id2"
            ]
          }
        },
        {
          "output_type": "display_data",
          "data": {
            "application/javascript": [
              "window[\"fb834f2e-06e7-11eb-986c-0242ac1c0002\"] = google.colab.output.getActiveOutputArea();\n",
              "//# sourceURL=js_d663e13045"
            ],
            "text/plain": [
              "<IPython.core.display.Javascript object>"
            ]
          },
          "metadata": {
            "tags": [
              "id2-0-0",
              "outputarea_id2"
            ]
          }
        },
        {
          "output_type": "display_data",
          "data": {
            "application/javascript": [
              "window[\"fb9c20a8-06e7-11eb-986c-0242ac1c0002\"] = document.querySelector(\"#id2-0-0\");\n",
              "//# sourceURL=js_a5c5d80481"
            ],
            "text/plain": [
              "<IPython.core.display.Javascript object>"
            ]
          },
          "metadata": {
            "tags": [
              "id2-0-0",
              "outputarea_id2"
            ]
          }
        },
        {
          "output_type": "display_data",
          "data": {
            "application/javascript": [
              "window[\"fb9cdc3c-06e7-11eb-986c-0242ac1c0002\"] = google.colab.output.setActiveOutputArea(window[\"fb9c20a8-06e7-11eb-986c-0242ac1c0002\"]);\n",
              "//# sourceURL=js_3e01a1319b"
            ],
            "text/plain": [
              "<IPython.core.display.Javascript object>"
            ]
          },
          "metadata": {
            "tags": [
              "id2-0-0",
              "outputarea_id2"
            ]
          }
        },
        {
          "output_type": "display_data",
          "data": {
            "application/javascript": [
              "window[\"fbc6a1ac-06e7-11eb-986c-0242ac1c0002\"] = google.colab.output.setActiveOutputArea(window[\"fb834f2e-06e7-11eb-986c-0242ac1c0002\"]);\n",
              "//# sourceURL=js_379bc36cd5"
            ],
            "text/plain": [
              "<IPython.core.display.Javascript object>"
            ]
          },
          "metadata": {
            "tags": [
              "id2-0-0",
              "outputarea_id2"
            ]
          }
        },
        {
          "output_type": "display_data",
          "data": {
            "application/javascript": [
              "window[\"fca24630-06e7-11eb-986c-0242ac1c0002\"] = google.colab.output.getActiveOutputArea();\n",
              "//# sourceURL=js_c270744af7"
            ],
            "text/plain": [
              "<IPython.core.display.Javascript object>"
            ]
          },
          "metadata": {
            "tags": [
              "id2-0-0",
              "outputarea_id2"
            ]
          }
        },
        {
          "output_type": "display_data",
          "data": {
            "application/javascript": [
              "window[\"fca2a440-06e7-11eb-986c-0242ac1c0002\"] = document.querySelector(\"#id2-0-0\");\n",
              "//# sourceURL=js_0e815d0cfe"
            ],
            "text/plain": [
              "<IPython.core.display.Javascript object>"
            ]
          },
          "metadata": {
            "tags": [
              "id2-0-0",
              "outputarea_id2"
            ]
          }
        },
        {
          "output_type": "display_data",
          "data": {
            "application/javascript": [
              "window[\"fca2f6ca-06e7-11eb-986c-0242ac1c0002\"] = google.colab.output.setActiveOutputArea(window[\"fca2a440-06e7-11eb-986c-0242ac1c0002\"]);\n",
              "//# sourceURL=js_5887633276"
            ],
            "text/plain": [
              "<IPython.core.display.Javascript object>"
            ]
          },
          "metadata": {
            "tags": [
              "id2-0-0",
              "outputarea_id2"
            ]
          }
        },
        {
          "output_type": "display_data",
          "data": {
            "application/javascript": [
              "window[\"fccd3fe8-06e7-11eb-986c-0242ac1c0002\"] = google.colab.output.setActiveOutputArea(window[\"fca24630-06e7-11eb-986c-0242ac1c0002\"]);\n",
              "//# sourceURL=js_c8f2c65643"
            ],
            "text/plain": [
              "<IPython.core.display.Javascript object>"
            ]
          },
          "metadata": {
            "tags": [
              "id2-0-0",
              "outputarea_id2"
            ]
          }
        },
        {
          "output_type": "display_data",
          "data": {
            "application/javascript": [
              "window[\"fdab9266-06e7-11eb-986c-0242ac1c0002\"] = google.colab.output.getActiveOutputArea();\n",
              "//# sourceURL=js_a078d976f4"
            ],
            "text/plain": [
              "<IPython.core.display.Javascript object>"
            ]
          },
          "metadata": {
            "tags": [
              "id2-0-0",
              "outputarea_id2"
            ]
          }
        },
        {
          "output_type": "display_data",
          "data": {
            "application/javascript": [
              "window[\"fdac08d6-06e7-11eb-986c-0242ac1c0002\"] = document.querySelector(\"#id2-0-0\");\n",
              "//# sourceURL=js_5b669d78cb"
            ],
            "text/plain": [
              "<IPython.core.display.Javascript object>"
            ]
          },
          "metadata": {
            "tags": [
              "id2-0-0",
              "outputarea_id2"
            ]
          }
        },
        {
          "output_type": "display_data",
          "data": {
            "application/javascript": [
              "window[\"fdac5ad4-06e7-11eb-986c-0242ac1c0002\"] = google.colab.output.setActiveOutputArea(window[\"fdac08d6-06e7-11eb-986c-0242ac1c0002\"]);\n",
              "//# sourceURL=js_1029993d67"
            ],
            "text/plain": [
              "<IPython.core.display.Javascript object>"
            ]
          },
          "metadata": {
            "tags": [
              "id2-0-0",
              "outputarea_id2"
            ]
          }
        },
        {
          "output_type": "display_data",
          "data": {
            "application/javascript": [
              "window[\"fdd77bba-06e7-11eb-986c-0242ac1c0002\"] = google.colab.output.setActiveOutputArea(window[\"fdab9266-06e7-11eb-986c-0242ac1c0002\"]);\n",
              "//# sourceURL=js_171a5f75ea"
            ],
            "text/plain": [
              "<IPython.core.display.Javascript object>"
            ]
          },
          "metadata": {
            "tags": [
              "id2-0-0",
              "outputarea_id2"
            ]
          }
        },
        {
          "output_type": "display_data",
          "data": {
            "application/javascript": [
              "window[\"feb355e0-06e7-11eb-986c-0242ac1c0002\"] = google.colab.output.getActiveOutputArea();\n",
              "//# sourceURL=js_70c9171e52"
            ],
            "text/plain": [
              "<IPython.core.display.Javascript object>"
            ]
          },
          "metadata": {
            "tags": [
              "id2-0-0",
              "outputarea_id2"
            ]
          }
        },
        {
          "output_type": "display_data",
          "data": {
            "application/javascript": [
              "window[\"feb3beae-06e7-11eb-986c-0242ac1c0002\"] = document.querySelector(\"#id2-0-0\");\n",
              "//# sourceURL=js_0ac965d421"
            ],
            "text/plain": [
              "<IPython.core.display.Javascript object>"
            ]
          },
          "metadata": {
            "tags": [
              "id2-0-0",
              "outputarea_id2"
            ]
          }
        },
        {
          "output_type": "display_data",
          "data": {
            "application/javascript": [
              "window[\"feb415b6-06e7-11eb-986c-0242ac1c0002\"] = google.colab.output.setActiveOutputArea(window[\"feb3beae-06e7-11eb-986c-0242ac1c0002\"]);\n",
              "//# sourceURL=js_f40b8f67f3"
            ],
            "text/plain": [
              "<IPython.core.display.Javascript object>"
            ]
          },
          "metadata": {
            "tags": [
              "id2-0-0",
              "outputarea_id2"
            ]
          }
        },
        {
          "output_type": "display_data",
          "data": {
            "application/javascript": [
              "window[\"fee19392-06e7-11eb-986c-0242ac1c0002\"] = google.colab.output.setActiveOutputArea(window[\"feb355e0-06e7-11eb-986c-0242ac1c0002\"]);\n",
              "//# sourceURL=js_b214c6b443"
            ],
            "text/plain": [
              "<IPython.core.display.Javascript object>"
            ]
          },
          "metadata": {
            "tags": [
              "id2-0-0",
              "outputarea_id2"
            ]
          }
        },
        {
          "output_type": "display_data",
          "data": {
            "application/javascript": [
              "window[\"ffbc98f2-06e7-11eb-986c-0242ac1c0002\"] = google.colab.output.getActiveOutputArea();\n",
              "//# sourceURL=js_262a05f9e6"
            ],
            "text/plain": [
              "<IPython.core.display.Javascript object>"
            ]
          },
          "metadata": {
            "tags": [
              "id2-0-0",
              "outputarea_id2"
            ]
          }
        },
        {
          "output_type": "display_data",
          "data": {
            "application/javascript": [
              "window[\"ffbd20b0-06e7-11eb-986c-0242ac1c0002\"] = document.querySelector(\"#id2-0-0\");\n",
              "//# sourceURL=js_0385615175"
            ],
            "text/plain": [
              "<IPython.core.display.Javascript object>"
            ]
          },
          "metadata": {
            "tags": [
              "id2-0-0",
              "outputarea_id2"
            ]
          }
        },
        {
          "output_type": "display_data",
          "data": {
            "application/javascript": [
              "window[\"ffbd8ab4-06e7-11eb-986c-0242ac1c0002\"] = google.colab.output.setActiveOutputArea(window[\"ffbd20b0-06e7-11eb-986c-0242ac1c0002\"]);\n",
              "//# sourceURL=js_2c48499cc8"
            ],
            "text/plain": [
              "<IPython.core.display.Javascript object>"
            ]
          },
          "metadata": {
            "tags": [
              "id2-0-0",
              "outputarea_id2"
            ]
          }
        },
        {
          "output_type": "display_data",
          "data": {
            "application/javascript": [
              "window[\"ffe4cde0-06e7-11eb-986c-0242ac1c0002\"] = google.colab.output.setActiveOutputArea(window[\"ffbc98f2-06e7-11eb-986c-0242ac1c0002\"]);\n",
              "//# sourceURL=js_b75c052ac0"
            ],
            "text/plain": [
              "<IPython.core.display.Javascript object>"
            ]
          },
          "metadata": {
            "tags": [
              "id2-0-0",
              "outputarea_id2"
            ]
          }
        },
        {
          "output_type": "display_data",
          "data": {
            "application/javascript": [
              "window[\"00c26e84-06e8-11eb-986c-0242ac1c0002\"] = google.colab.output.getActiveOutputArea();\n",
              "//# sourceURL=js_22c41f86cb"
            ],
            "text/plain": [
              "<IPython.core.display.Javascript object>"
            ]
          },
          "metadata": {
            "tags": [
              "id2-0-0",
              "outputarea_id2"
            ]
          }
        },
        {
          "output_type": "display_data",
          "data": {
            "application/javascript": [
              "window[\"00c2d414-06e8-11eb-986c-0242ac1c0002\"] = document.querySelector(\"#id2-0-0\");\n",
              "//# sourceURL=js_f5bca588ae"
            ],
            "text/plain": [
              "<IPython.core.display.Javascript object>"
            ]
          },
          "metadata": {
            "tags": [
              "id2-0-0",
              "outputarea_id2"
            ]
          }
        },
        {
          "output_type": "display_data",
          "data": {
            "application/javascript": [
              "window[\"00c336ca-06e8-11eb-986c-0242ac1c0002\"] = google.colab.output.setActiveOutputArea(window[\"00c2d414-06e8-11eb-986c-0242ac1c0002\"]);\n",
              "//# sourceURL=js_1e297e4e9a"
            ],
            "text/plain": [
              "<IPython.core.display.Javascript object>"
            ]
          },
          "metadata": {
            "tags": [
              "id2-0-0",
              "outputarea_id2"
            ]
          }
        },
        {
          "output_type": "display_data",
          "data": {
            "application/javascript": [
              "window[\"00eae01c-06e8-11eb-986c-0242ac1c0002\"] = google.colab.output.setActiveOutputArea(window[\"00c26e84-06e8-11eb-986c-0242ac1c0002\"]);\n",
              "//# sourceURL=js_ae1eaeba04"
            ],
            "text/plain": [
              "<IPython.core.display.Javascript object>"
            ]
          },
          "metadata": {
            "tags": [
              "id2-0-0",
              "outputarea_id2"
            ]
          }
        },
        {
          "output_type": "display_data",
          "data": {
            "application/javascript": [
              "window[\"01c3f550-06e8-11eb-986c-0242ac1c0002\"] = google.colab.output.getActiveOutputArea();\n",
              "//# sourceURL=js_8d3e678944"
            ],
            "text/plain": [
              "<IPython.core.display.Javascript object>"
            ]
          },
          "metadata": {
            "tags": [
              "id2-0-0",
              "outputarea_id2"
            ]
          }
        },
        {
          "output_type": "display_data",
          "data": {
            "application/javascript": [
              "window[\"01c53a14-06e8-11eb-986c-0242ac1c0002\"] = document.querySelector(\"#id2-0-0\");\n",
              "//# sourceURL=js_480e6cf934"
            ],
            "text/plain": [
              "<IPython.core.display.Javascript object>"
            ]
          },
          "metadata": {
            "tags": [
              "id2-0-0",
              "outputarea_id2"
            ]
          }
        },
        {
          "output_type": "display_data",
          "data": {
            "application/javascript": [
              "window[\"01c63892-06e8-11eb-986c-0242ac1c0002\"] = google.colab.output.setActiveOutputArea(window[\"01c53a14-06e8-11eb-986c-0242ac1c0002\"]);\n",
              "//# sourceURL=js_0a905bfc2b"
            ],
            "text/plain": [
              "<IPython.core.display.Javascript object>"
            ]
          },
          "metadata": {
            "tags": [
              "id2-0-0",
              "outputarea_id2"
            ]
          }
        },
        {
          "output_type": "display_data",
          "data": {
            "application/javascript": [
              "window[\"01f2308c-06e8-11eb-986c-0242ac1c0002\"] = google.colab.output.setActiveOutputArea(window[\"01c3f550-06e8-11eb-986c-0242ac1c0002\"]);\n",
              "//# sourceURL=js_d7e829fc5b"
            ],
            "text/plain": [
              "<IPython.core.display.Javascript object>"
            ]
          },
          "metadata": {
            "tags": [
              "id2-0-0",
              "outputarea_id2"
            ]
          }
        },
        {
          "output_type": "display_data",
          "data": {
            "application/javascript": [
              "window[\"02daa7ea-06e8-11eb-986c-0242ac1c0002\"] = google.colab.output.getActiveOutputArea();\n",
              "//# sourceURL=js_f98e2783df"
            ],
            "text/plain": [
              "<IPython.core.display.Javascript object>"
            ]
          },
          "metadata": {
            "tags": [
              "id2-0-0",
              "outputarea_id2"
            ]
          }
        },
        {
          "output_type": "display_data",
          "data": {
            "application/javascript": [
              "window[\"02db10ea-06e8-11eb-986c-0242ac1c0002\"] = document.querySelector(\"#id2-0-0\");\n",
              "//# sourceURL=js_31f61a6613"
            ],
            "text/plain": [
              "<IPython.core.display.Javascript object>"
            ]
          },
          "metadata": {
            "tags": [
              "id2-0-0",
              "outputarea_id2"
            ]
          }
        },
        {
          "output_type": "display_data",
          "data": {
            "application/javascript": [
              "window[\"02db60e0-06e8-11eb-986c-0242ac1c0002\"] = google.colab.output.setActiveOutputArea(window[\"02db10ea-06e8-11eb-986c-0242ac1c0002\"]);\n",
              "//# sourceURL=js_88531a261d"
            ],
            "text/plain": [
              "<IPython.core.display.Javascript object>"
            ]
          },
          "metadata": {
            "tags": [
              "id2-0-0",
              "outputarea_id2"
            ]
          }
        },
        {
          "output_type": "display_data",
          "data": {
            "application/javascript": [
              "window[\"030a69c6-06e8-11eb-986c-0242ac1c0002\"] = google.colab.output.setActiveOutputArea(window[\"02daa7ea-06e8-11eb-986c-0242ac1c0002\"]);\n",
              "//# sourceURL=js_b117e00806"
            ],
            "text/plain": [
              "<IPython.core.display.Javascript object>"
            ]
          },
          "metadata": {
            "tags": [
              "id2-0-0",
              "outputarea_id2"
            ]
          }
        },
        {
          "output_type": "display_data",
          "data": {
            "application/javascript": [
              "window[\"03f25268-06e8-11eb-986c-0242ac1c0002\"] = google.colab.output.getActiveOutputArea();\n",
              "//# sourceURL=js_15783243e8"
            ],
            "text/plain": [
              "<IPython.core.display.Javascript object>"
            ]
          },
          "metadata": {
            "tags": [
              "id2-0-0",
              "outputarea_id2"
            ]
          }
        },
        {
          "output_type": "display_data",
          "data": {
            "application/javascript": [
              "window[\"03f3bff4-06e8-11eb-986c-0242ac1c0002\"] = document.querySelector(\"#id2-0-0\");\n",
              "//# sourceURL=js_6ba815ac2b"
            ],
            "text/plain": [
              "<IPython.core.display.Javascript object>"
            ]
          },
          "metadata": {
            "tags": [
              "id2-0-0",
              "outputarea_id2"
            ]
          }
        },
        {
          "output_type": "display_data",
          "data": {
            "application/javascript": [
              "window[\"03f4469a-06e8-11eb-986c-0242ac1c0002\"] = google.colab.output.setActiveOutputArea(window[\"03f3bff4-06e8-11eb-986c-0242ac1c0002\"]);\n",
              "//# sourceURL=js_eff45fa1ee"
            ],
            "text/plain": [
              "<IPython.core.display.Javascript object>"
            ]
          },
          "metadata": {
            "tags": [
              "id2-0-0",
              "outputarea_id2"
            ]
          }
        },
        {
          "output_type": "display_data",
          "data": {
            "application/javascript": [
              "window[\"041f9818-06e8-11eb-986c-0242ac1c0002\"] = google.colab.output.setActiveOutputArea(window[\"03f25268-06e8-11eb-986c-0242ac1c0002\"]);\n",
              "//# sourceURL=js_c8d85e998b"
            ],
            "text/plain": [
              "<IPython.core.display.Javascript object>"
            ]
          },
          "metadata": {
            "tags": [
              "id2-0-0",
              "outputarea_id2"
            ]
          }
        },
        {
          "output_type": "display_data",
          "data": {
            "application/javascript": [
              "window[\"05044634-06e8-11eb-986c-0242ac1c0002\"] = google.colab.output.getActiveOutputArea();\n",
              "//# sourceURL=js_67dbb1990a"
            ],
            "text/plain": [
              "<IPython.core.display.Javascript object>"
            ]
          },
          "metadata": {
            "tags": [
              "id2-0-0",
              "outputarea_id2"
            ]
          }
        },
        {
          "output_type": "display_data",
          "data": {
            "application/javascript": [
              "window[\"0505b3e8-06e8-11eb-986c-0242ac1c0002\"] = document.querySelector(\"#id2-0-0\");\n",
              "//# sourceURL=js_7c78233443"
            ],
            "text/plain": [
              "<IPython.core.display.Javascript object>"
            ]
          },
          "metadata": {
            "tags": [
              "id2-0-0",
              "outputarea_id2"
            ]
          }
        },
        {
          "output_type": "display_data",
          "data": {
            "application/javascript": [
              "window[\"05061b76-06e8-11eb-986c-0242ac1c0002\"] = google.colab.output.setActiveOutputArea(window[\"0505b3e8-06e8-11eb-986c-0242ac1c0002\"]);\n",
              "//# sourceURL=js_5a6c911c16"
            ],
            "text/plain": [
              "<IPython.core.display.Javascript object>"
            ]
          },
          "metadata": {
            "tags": [
              "id2-0-0",
              "outputarea_id2"
            ]
          }
        },
        {
          "output_type": "display_data",
          "data": {
            "application/javascript": [
              "window[\"052fd2a4-06e8-11eb-986c-0242ac1c0002\"] = google.colab.output.setActiveOutputArea(window[\"05044634-06e8-11eb-986c-0242ac1c0002\"]);\n",
              "//# sourceURL=js_8b10ab73bf"
            ],
            "text/plain": [
              "<IPython.core.display.Javascript object>"
            ]
          },
          "metadata": {
            "tags": [
              "id2-0-0",
              "outputarea_id2"
            ]
          }
        },
        {
          "output_type": "display_data",
          "data": {
            "application/javascript": [
              "window[\"0621dfea-06e8-11eb-986c-0242ac1c0002\"] = google.colab.output.getActiveOutputArea();\n",
              "//# sourceURL=js_c7a3d09f54"
            ],
            "text/plain": [
              "<IPython.core.display.Javascript object>"
            ]
          },
          "metadata": {
            "tags": [
              "id2-0-0",
              "outputarea_id2"
            ]
          }
        },
        {
          "output_type": "display_data",
          "data": {
            "application/javascript": [
              "window[\"06227072-06e8-11eb-986c-0242ac1c0002\"] = document.querySelector(\"#id2-0-0\");\n",
              "//# sourceURL=js_9c2d54ea25"
            ],
            "text/plain": [
              "<IPython.core.display.Javascript object>"
            ]
          },
          "metadata": {
            "tags": [
              "id2-0-0",
              "outputarea_id2"
            ]
          }
        },
        {
          "output_type": "display_data",
          "data": {
            "application/javascript": [
              "window[\"0622d8fa-06e8-11eb-986c-0242ac1c0002\"] = google.colab.output.setActiveOutputArea(window[\"06227072-06e8-11eb-986c-0242ac1c0002\"]);\n",
              "//# sourceURL=js_8cfe2ab406"
            ],
            "text/plain": [
              "<IPython.core.display.Javascript object>"
            ]
          },
          "metadata": {
            "tags": [
              "id2-0-0",
              "outputarea_id2"
            ]
          }
        },
        {
          "output_type": "display_data",
          "data": {
            "application/javascript": [
              "window[\"064b1eaa-06e8-11eb-986c-0242ac1c0002\"] = google.colab.output.setActiveOutputArea(window[\"0621dfea-06e8-11eb-986c-0242ac1c0002\"]);\n",
              "//# sourceURL=js_f18a9bba11"
            ],
            "text/plain": [
              "<IPython.core.display.Javascript object>"
            ]
          },
          "metadata": {
            "tags": [
              "id2-0-0",
              "outputarea_id2"
            ]
          }
        },
        {
          "output_type": "display_data",
          "data": {
            "application/javascript": [
              "window[\"0724f42c-06e8-11eb-986c-0242ac1c0002\"] = google.colab.output.getActiveOutputArea();\n",
              "//# sourceURL=js_8ef4f38ce3"
            ],
            "text/plain": [
              "<IPython.core.display.Javascript object>"
            ]
          },
          "metadata": {
            "tags": [
              "id2-0-0",
              "outputarea_id2"
            ]
          }
        },
        {
          "output_type": "display_data",
          "data": {
            "application/javascript": [
              "window[\"07259922-06e8-11eb-986c-0242ac1c0002\"] = document.querySelector(\"#id2-0-0\");\n",
              "//# sourceURL=js_9c03466cd5"
            ],
            "text/plain": [
              "<IPython.core.display.Javascript object>"
            ]
          },
          "metadata": {
            "tags": [
              "id2-0-0",
              "outputarea_id2"
            ]
          }
        },
        {
          "output_type": "display_data",
          "data": {
            "application/javascript": [
              "window[\"0726c4dc-06e8-11eb-986c-0242ac1c0002\"] = google.colab.output.setActiveOutputArea(window[\"07259922-06e8-11eb-986c-0242ac1c0002\"]);\n",
              "//# sourceURL=js_664e8cebdf"
            ],
            "text/plain": [
              "<IPython.core.display.Javascript object>"
            ]
          },
          "metadata": {
            "tags": [
              "id2-0-0",
              "outputarea_id2"
            ]
          }
        },
        {
          "output_type": "display_data",
          "data": {
            "application/javascript": [
              "window[\"0754369c-06e8-11eb-986c-0242ac1c0002\"] = google.colab.output.setActiveOutputArea(window[\"0724f42c-06e8-11eb-986c-0242ac1c0002\"]);\n",
              "//# sourceURL=js_c607192914"
            ],
            "text/plain": [
              "<IPython.core.display.Javascript object>"
            ]
          },
          "metadata": {
            "tags": [
              "id2-0-0",
              "outputarea_id2"
            ]
          }
        },
        {
          "output_type": "display_data",
          "data": {
            "application/javascript": [
              "window[\"083bd132-06e8-11eb-986c-0242ac1c0002\"] = google.colab.output.getActiveOutputArea();\n",
              "//# sourceURL=js_734b8dc8dc"
            ],
            "text/plain": [
              "<IPython.core.display.Javascript object>"
            ]
          },
          "metadata": {
            "tags": [
              "id2-0-0",
              "outputarea_id2"
            ]
          }
        },
        {
          "output_type": "display_data",
          "data": {
            "application/javascript": [
              "window[\"083c3df2-06e8-11eb-986c-0242ac1c0002\"] = document.querySelector(\"#id2-0-0\");\n",
              "//# sourceURL=js_6d4392f127"
            ],
            "text/plain": [
              "<IPython.core.display.Javascript object>"
            ]
          },
          "metadata": {
            "tags": [
              "id2-0-0",
              "outputarea_id2"
            ]
          }
        },
        {
          "output_type": "display_data",
          "data": {
            "application/javascript": [
              "window[\"083c963a-06e8-11eb-986c-0242ac1c0002\"] = google.colab.output.setActiveOutputArea(window[\"083c3df2-06e8-11eb-986c-0242ac1c0002\"]);\n",
              "//# sourceURL=js_22eeec6c1c"
            ],
            "text/plain": [
              "<IPython.core.display.Javascript object>"
            ]
          },
          "metadata": {
            "tags": [
              "id2-0-0",
              "outputarea_id2"
            ]
          }
        },
        {
          "output_type": "display_data",
          "data": {
            "application/javascript": [
              "window[\"0867b932-06e8-11eb-986c-0242ac1c0002\"] = google.colab.output.setActiveOutputArea(window[\"083bd132-06e8-11eb-986c-0242ac1c0002\"]);\n",
              "//# sourceURL=js_ecedb2561c"
            ],
            "text/plain": [
              "<IPython.core.display.Javascript object>"
            ]
          },
          "metadata": {
            "tags": [
              "id2-0-0",
              "outputarea_id2"
            ]
          }
        },
        {
          "output_type": "display_data",
          "data": {
            "application/javascript": [
              "window[\"094e3b14-06e8-11eb-986c-0242ac1c0002\"] = google.colab.output.getActiveOutputArea();\n",
              "//# sourceURL=js_098d60fc6e"
            ],
            "text/plain": [
              "<IPython.core.display.Javascript object>"
            ]
          },
          "metadata": {
            "tags": [
              "id2-0-0",
              "outputarea_id2"
            ]
          }
        },
        {
          "output_type": "display_data",
          "data": {
            "application/javascript": [
              "window[\"094eaf18-06e8-11eb-986c-0242ac1c0002\"] = document.querySelector(\"#id2-0-0\");\n",
              "//# sourceURL=js_b4659d11d4"
            ],
            "text/plain": [
              "<IPython.core.display.Javascript object>"
            ]
          },
          "metadata": {
            "tags": [
              "id2-0-0",
              "outputarea_id2"
            ]
          }
        },
        {
          "output_type": "display_data",
          "data": {
            "application/javascript": [
              "window[\"094f01c0-06e8-11eb-986c-0242ac1c0002\"] = google.colab.output.setActiveOutputArea(window[\"094eaf18-06e8-11eb-986c-0242ac1c0002\"]);\n",
              "//# sourceURL=js_e06a24bd65"
            ],
            "text/plain": [
              "<IPython.core.display.Javascript object>"
            ]
          },
          "metadata": {
            "tags": [
              "id2-0-0",
              "outputarea_id2"
            ]
          }
        },
        {
          "output_type": "display_data",
          "data": {
            "application/javascript": [
              "window[\"09784d28-06e8-11eb-986c-0242ac1c0002\"] = google.colab.output.setActiveOutputArea(window[\"094e3b14-06e8-11eb-986c-0242ac1c0002\"]);\n",
              "//# sourceURL=js_f194dc37ec"
            ],
            "text/plain": [
              "<IPython.core.display.Javascript object>"
            ]
          },
          "metadata": {
            "tags": [
              "id2-0-0",
              "outputarea_id2"
            ]
          }
        },
        {
          "output_type": "display_data",
          "data": {
            "application/javascript": [
              "window[\"0a516c02-06e8-11eb-986c-0242ac1c0002\"] = google.colab.output.getActiveOutputArea();\n",
              "//# sourceURL=js_9d247ac087"
            ],
            "text/plain": [
              "<IPython.core.display.Javascript object>"
            ]
          },
          "metadata": {
            "tags": [
              "id2-0-0",
              "outputarea_id2"
            ]
          }
        },
        {
          "output_type": "display_data",
          "data": {
            "application/javascript": [
              "window[\"0a530e2c-06e8-11eb-986c-0242ac1c0002\"] = document.querySelector(\"#id2-0-0\");\n",
              "//# sourceURL=js_b10b7ff4c2"
            ],
            "text/plain": [
              "<IPython.core.display.Javascript object>"
            ]
          },
          "metadata": {
            "tags": [
              "id2-0-0",
              "outputarea_id2"
            ]
          }
        },
        {
          "output_type": "display_data",
          "data": {
            "application/javascript": [
              "window[\"0a53e342-06e8-11eb-986c-0242ac1c0002\"] = google.colab.output.setActiveOutputArea(window[\"0a530e2c-06e8-11eb-986c-0242ac1c0002\"]);\n",
              "//# sourceURL=js_7f8ba3f4ba"
            ],
            "text/plain": [
              "<IPython.core.display.Javascript object>"
            ]
          },
          "metadata": {
            "tags": [
              "id2-0-0",
              "outputarea_id2"
            ]
          }
        },
        {
          "output_type": "display_data",
          "data": {
            "application/javascript": [
              "window[\"0a7c654c-06e8-11eb-986c-0242ac1c0002\"] = google.colab.output.setActiveOutputArea(window[\"0a516c02-06e8-11eb-986c-0242ac1c0002\"]);\n",
              "//# sourceURL=js_a7d6c916b8"
            ],
            "text/plain": [
              "<IPython.core.display.Javascript object>"
            ]
          },
          "metadata": {
            "tags": [
              "id2-0-0",
              "outputarea_id2"
            ]
          }
        },
        {
          "output_type": "display_data",
          "data": {
            "application/javascript": [
              "window[\"0b6624e8-06e8-11eb-986c-0242ac1c0002\"] = google.colab.output.getActiveOutputArea();\n",
              "//# sourceURL=js_7d9ef1c8b2"
            ],
            "text/plain": [
              "<IPython.core.display.Javascript object>"
            ]
          },
          "metadata": {
            "tags": [
              "id2-0-0",
              "outputarea_id2"
            ]
          }
        },
        {
          "output_type": "display_data",
          "data": {
            "application/javascript": [
              "window[\"0b668cb2-06e8-11eb-986c-0242ac1c0002\"] = document.querySelector(\"#id2-0-0\");\n",
              "//# sourceURL=js_7c82f6beda"
            ],
            "text/plain": [
              "<IPython.core.display.Javascript object>"
            ]
          },
          "metadata": {
            "tags": [
              "id2-0-0",
              "outputarea_id2"
            ]
          }
        },
        {
          "output_type": "display_data",
          "data": {
            "application/javascript": [
              "window[\"0b66ddac-06e8-11eb-986c-0242ac1c0002\"] = google.colab.output.setActiveOutputArea(window[\"0b668cb2-06e8-11eb-986c-0242ac1c0002\"]);\n",
              "//# sourceURL=js_260ad14066"
            ],
            "text/plain": [
              "<IPython.core.display.Javascript object>"
            ]
          },
          "metadata": {
            "tags": [
              "id2-0-0",
              "outputarea_id2"
            ]
          }
        },
        {
          "output_type": "display_data",
          "data": {
            "application/javascript": [
              "window[\"0b92b2f6-06e8-11eb-986c-0242ac1c0002\"] = google.colab.output.setActiveOutputArea(window[\"0b6624e8-06e8-11eb-986c-0242ac1c0002\"]);\n",
              "//# sourceURL=js_ee4a0e73ba"
            ],
            "text/plain": [
              "<IPython.core.display.Javascript object>"
            ]
          },
          "metadata": {
            "tags": [
              "id2-0-0",
              "outputarea_id2"
            ]
          }
        },
        {
          "output_type": "display_data",
          "data": {
            "application/javascript": [
              "window[\"0c75d5a4-06e8-11eb-986c-0242ac1c0002\"] = google.colab.output.getActiveOutputArea();\n",
              "//# sourceURL=js_5537a31f4f"
            ],
            "text/plain": [
              "<IPython.core.display.Javascript object>"
            ]
          },
          "metadata": {
            "tags": [
              "id2-0-0",
              "outputarea_id2"
            ]
          }
        },
        {
          "output_type": "display_data",
          "data": {
            "application/javascript": [
              "window[\"0c763986-06e8-11eb-986c-0242ac1c0002\"] = document.querySelector(\"#id2-0-0\");\n",
              "//# sourceURL=js_355f57a25f"
            ],
            "text/plain": [
              "<IPython.core.display.Javascript object>"
            ]
          },
          "metadata": {
            "tags": [
              "id2-0-0",
              "outputarea_id2"
            ]
          }
        },
        {
          "output_type": "display_data",
          "data": {
            "application/javascript": [
              "window[\"0c76917e-06e8-11eb-986c-0242ac1c0002\"] = google.colab.output.setActiveOutputArea(window[\"0c763986-06e8-11eb-986c-0242ac1c0002\"]);\n",
              "//# sourceURL=js_cd28d8e16a"
            ],
            "text/plain": [
              "<IPython.core.display.Javascript object>"
            ]
          },
          "metadata": {
            "tags": [
              "id2-0-0",
              "outputarea_id2"
            ]
          }
        },
        {
          "output_type": "display_data",
          "data": {
            "application/javascript": [
              "window[\"0ca104f4-06e8-11eb-986c-0242ac1c0002\"] = google.colab.output.setActiveOutputArea(window[\"0c75d5a4-06e8-11eb-986c-0242ac1c0002\"]);\n",
              "//# sourceURL=js_5d4410ed14"
            ],
            "text/plain": [
              "<IPython.core.display.Javascript object>"
            ]
          },
          "metadata": {
            "tags": [
              "id2-0-0",
              "outputarea_id2"
            ]
          }
        },
        {
          "output_type": "display_data",
          "data": {
            "application/javascript": [
              "window[\"0d7d65f2-06e8-11eb-986c-0242ac1c0002\"] = google.colab.output.getActiveOutputArea();\n",
              "//# sourceURL=js_0d211a257a"
            ],
            "text/plain": [
              "<IPython.core.display.Javascript object>"
            ]
          },
          "metadata": {
            "tags": [
              "id2-0-0",
              "outputarea_id2"
            ]
          }
        },
        {
          "output_type": "display_data",
          "data": {
            "application/javascript": [
              "window[\"0d7dde38-06e8-11eb-986c-0242ac1c0002\"] = document.querySelector(\"#id2-0-0\");\n",
              "//# sourceURL=js_d0b8d46a54"
            ],
            "text/plain": [
              "<IPython.core.display.Javascript object>"
            ]
          },
          "metadata": {
            "tags": [
              "id2-0-0",
              "outputarea_id2"
            ]
          }
        },
        {
          "output_type": "display_data",
          "data": {
            "application/javascript": [
              "window[\"0d7e29ba-06e8-11eb-986c-0242ac1c0002\"] = google.colab.output.setActiveOutputArea(window[\"0d7dde38-06e8-11eb-986c-0242ac1c0002\"]);\n",
              "//# sourceURL=js_6eb6d8ca67"
            ],
            "text/plain": [
              "<IPython.core.display.Javascript object>"
            ]
          },
          "metadata": {
            "tags": [
              "id2-0-0",
              "outputarea_id2"
            ]
          }
        },
        {
          "output_type": "display_data",
          "data": {
            "application/javascript": [
              "window[\"0da5146c-06e8-11eb-986c-0242ac1c0002\"] = google.colab.output.setActiveOutputArea(window[\"0d7d65f2-06e8-11eb-986c-0242ac1c0002\"]);\n",
              "//# sourceURL=js_d4a0fcf18e"
            ],
            "text/plain": [
              "<IPython.core.display.Javascript object>"
            ]
          },
          "metadata": {
            "tags": [
              "id2-0-0",
              "outputarea_id2"
            ]
          }
        },
        {
          "output_type": "display_data",
          "data": {
            "application/javascript": [
              "window[\"0e86c100-06e8-11eb-986c-0242ac1c0002\"] = google.colab.output.getActiveOutputArea();\n",
              "//# sourceURL=js_24ee2867ad"
            ],
            "text/plain": [
              "<IPython.core.display.Javascript object>"
            ]
          },
          "metadata": {
            "tags": [
              "id2-0-0",
              "outputarea_id2"
            ]
          }
        },
        {
          "output_type": "display_data",
          "data": {
            "application/javascript": [
              "window[\"0e8744a4-06e8-11eb-986c-0242ac1c0002\"] = document.querySelector(\"#id2-0-0\");\n",
              "//# sourceURL=js_649d2e6997"
            ],
            "text/plain": [
              "<IPython.core.display.Javascript object>"
            ]
          },
          "metadata": {
            "tags": [
              "id2-0-0",
              "outputarea_id2"
            ]
          }
        },
        {
          "output_type": "display_data",
          "data": {
            "application/javascript": [
              "window[\"0e88408e-06e8-11eb-986c-0242ac1c0002\"] = google.colab.output.setActiveOutputArea(window[\"0e8744a4-06e8-11eb-986c-0242ac1c0002\"]);\n",
              "//# sourceURL=js_04b1cee5e7"
            ],
            "text/plain": [
              "<IPython.core.display.Javascript object>"
            ]
          },
          "metadata": {
            "tags": [
              "id2-0-0",
              "outputarea_id2"
            ]
          }
        },
        {
          "output_type": "display_data",
          "data": {
            "application/javascript": [
              "window[\"0eb28cb8-06e8-11eb-986c-0242ac1c0002\"] = google.colab.output.setActiveOutputArea(window[\"0e86c100-06e8-11eb-986c-0242ac1c0002\"]);\n",
              "//# sourceURL=js_4677c9da51"
            ],
            "text/plain": [
              "<IPython.core.display.Javascript object>"
            ]
          },
          "metadata": {
            "tags": [
              "id2-0-0",
              "outputarea_id2"
            ]
          }
        },
        {
          "output_type": "display_data",
          "data": {
            "application/javascript": [
              "window[\"0f91213a-06e8-11eb-986c-0242ac1c0002\"] = google.colab.output.getActiveOutputArea();\n",
              "//# sourceURL=js_6d16bc4133"
            ],
            "text/plain": [
              "<IPython.core.display.Javascript object>"
            ]
          },
          "metadata": {
            "tags": [
              "id2-0-0",
              "outputarea_id2"
            ]
          }
        },
        {
          "output_type": "display_data",
          "data": {
            "application/javascript": [
              "window[\"0fa9c640-06e8-11eb-986c-0242ac1c0002\"] = document.querySelector(\"#id2-0-0\");\n",
              "//# sourceURL=js_2692dfe82d"
            ],
            "text/plain": [
              "<IPython.core.display.Javascript object>"
            ]
          },
          "metadata": {
            "tags": [
              "id2-0-0",
              "outputarea_id2"
            ]
          }
        },
        {
          "output_type": "display_data",
          "data": {
            "application/javascript": [
              "window[\"0faa1e1a-06e8-11eb-986c-0242ac1c0002\"] = google.colab.output.setActiveOutputArea(window[\"0fa9c640-06e8-11eb-986c-0242ac1c0002\"]);\n",
              "//# sourceURL=js_d62d6f4649"
            ],
            "text/plain": [
              "<IPython.core.display.Javascript object>"
            ]
          },
          "metadata": {
            "tags": [
              "id2-0-0",
              "outputarea_id2"
            ]
          }
        },
        {
          "output_type": "display_data",
          "data": {
            "application/javascript": [
              "window[\"0fd3f460-06e8-11eb-986c-0242ac1c0002\"] = google.colab.output.setActiveOutputArea(window[\"0f91213a-06e8-11eb-986c-0242ac1c0002\"]);\n",
              "//# sourceURL=js_7e81b577d0"
            ],
            "text/plain": [
              "<IPython.core.display.Javascript object>"
            ]
          },
          "metadata": {
            "tags": [
              "id2-0-0",
              "outputarea_id2"
            ]
          }
        },
        {
          "output_type": "display_data",
          "data": {
            "application/javascript": [
              "window[\"10aeb140-06e8-11eb-986c-0242ac1c0002\"] = google.colab.output.getActiveOutputArea();\n",
              "//# sourceURL=js_ced90a4485"
            ],
            "text/plain": [
              "<IPython.core.display.Javascript object>"
            ]
          },
          "metadata": {
            "tags": [
              "id2-0-0",
              "outputarea_id2"
            ]
          }
        },
        {
          "output_type": "display_data",
          "data": {
            "application/javascript": [
              "window[\"10af10c2-06e8-11eb-986c-0242ac1c0002\"] = document.querySelector(\"#id2-0-0\");\n",
              "//# sourceURL=js_c578fa8eab"
            ],
            "text/plain": [
              "<IPython.core.display.Javascript object>"
            ]
          },
          "metadata": {
            "tags": [
              "id2-0-0",
              "outputarea_id2"
            ]
          }
        },
        {
          "output_type": "display_data",
          "data": {
            "application/javascript": [
              "window[\"10af5bd6-06e8-11eb-986c-0242ac1c0002\"] = google.colab.output.setActiveOutputArea(window[\"10af10c2-06e8-11eb-986c-0242ac1c0002\"]);\n",
              "//# sourceURL=js_8c67476236"
            ],
            "text/plain": [
              "<IPython.core.display.Javascript object>"
            ]
          },
          "metadata": {
            "tags": [
              "id2-0-0",
              "outputarea_id2"
            ]
          }
        },
        {
          "output_type": "display_data",
          "data": {
            "application/javascript": [
              "window[\"10d7a5b4-06e8-11eb-986c-0242ac1c0002\"] = google.colab.output.setActiveOutputArea(window[\"10aeb140-06e8-11eb-986c-0242ac1c0002\"]);\n",
              "//# sourceURL=js_0af20bcc61"
            ],
            "text/plain": [
              "<IPython.core.display.Javascript object>"
            ]
          },
          "metadata": {
            "tags": [
              "id2-0-0",
              "outputarea_id2"
            ]
          }
        },
        {
          "output_type": "display_data",
          "data": {
            "application/javascript": [
              "window[\"11baab52-06e8-11eb-986c-0242ac1c0002\"] = google.colab.output.getActiveOutputArea();\n",
              "//# sourceURL=js_237627fbdb"
            ],
            "text/plain": [
              "<IPython.core.display.Javascript object>"
            ]
          },
          "metadata": {
            "tags": [
              "id2-0-0",
              "outputarea_id2"
            ]
          }
        },
        {
          "output_type": "display_data",
          "data": {
            "application/javascript": [
              "window[\"11bb2848-06e8-11eb-986c-0242ac1c0002\"] = document.querySelector(\"#id2-0-0\");\n",
              "//# sourceURL=js_7a4d780b9b"
            ],
            "text/plain": [
              "<IPython.core.display.Javascript object>"
            ]
          },
          "metadata": {
            "tags": [
              "id2-0-0",
              "outputarea_id2"
            ]
          }
        },
        {
          "output_type": "display_data",
          "data": {
            "application/javascript": [
              "window[\"11bb9044-06e8-11eb-986c-0242ac1c0002\"] = google.colab.output.setActiveOutputArea(window[\"11bb2848-06e8-11eb-986c-0242ac1c0002\"]);\n",
              "//# sourceURL=js_74177c6cf7"
            ],
            "text/plain": [
              "<IPython.core.display.Javascript object>"
            ]
          },
          "metadata": {
            "tags": [
              "id2-0-0",
              "outputarea_id2"
            ]
          }
        },
        {
          "output_type": "display_data",
          "data": {
            "application/javascript": [
              "window[\"11e40236-06e8-11eb-986c-0242ac1c0002\"] = google.colab.output.setActiveOutputArea(window[\"11baab52-06e8-11eb-986c-0242ac1c0002\"]);\n",
              "//# sourceURL=js_f6ebbf952e"
            ],
            "text/plain": [
              "<IPython.core.display.Javascript object>"
            ]
          },
          "metadata": {
            "tags": [
              "id2-0-0",
              "outputarea_id2"
            ]
          }
        },
        {
          "output_type": "display_data",
          "data": {
            "application/javascript": [
              "window[\"12b92f9c-06e8-11eb-986c-0242ac1c0002\"] = google.colab.output.getActiveOutputArea();\n",
              "//# sourceURL=js_e48a2cc378"
            ],
            "text/plain": [
              "<IPython.core.display.Javascript object>"
            ]
          },
          "metadata": {
            "tags": [
              "id2-0-0",
              "outputarea_id2"
            ]
          }
        },
        {
          "output_type": "display_data",
          "data": {
            "application/javascript": [
              "window[\"12ba747e-06e8-11eb-986c-0242ac1c0002\"] = document.querySelector(\"#id2-0-0\");\n",
              "//# sourceURL=js_92e884f99c"
            ],
            "text/plain": [
              "<IPython.core.display.Javascript object>"
            ]
          },
          "metadata": {
            "tags": [
              "id2-0-0",
              "outputarea_id2"
            ]
          }
        },
        {
          "output_type": "display_data",
          "data": {
            "application/javascript": [
              "window[\"12bb1d5c-06e8-11eb-986c-0242ac1c0002\"] = google.colab.output.setActiveOutputArea(window[\"12ba747e-06e8-11eb-986c-0242ac1c0002\"]);\n",
              "//# sourceURL=js_2a21d01882"
            ],
            "text/plain": [
              "<IPython.core.display.Javascript object>"
            ]
          },
          "metadata": {
            "tags": [
              "id2-0-0",
              "outputarea_id2"
            ]
          }
        },
        {
          "output_type": "display_data",
          "data": {
            "application/javascript": [
              "window[\"12e4cd32-06e8-11eb-986c-0242ac1c0002\"] = google.colab.output.setActiveOutputArea(window[\"12b92f9c-06e8-11eb-986c-0242ac1c0002\"]);\n",
              "//# sourceURL=js_aa57fbc1d4"
            ],
            "text/plain": [
              "<IPython.core.display.Javascript object>"
            ]
          },
          "metadata": {
            "tags": [
              "id2-0-0",
              "outputarea_id2"
            ]
          }
        },
        {
          "output_type": "display_data",
          "data": {
            "application/javascript": [
              "window[\"13bf20f4-06e8-11eb-986c-0242ac1c0002\"] = google.colab.output.getActiveOutputArea();\n",
              "//# sourceURL=js_93eb72fb61"
            ],
            "text/plain": [
              "<IPython.core.display.Javascript object>"
            ]
          },
          "metadata": {
            "tags": [
              "id2-0-0",
              "outputarea_id2"
            ]
          }
        },
        {
          "output_type": "display_data",
          "data": {
            "application/javascript": [
              "window[\"13bf98a4-06e8-11eb-986c-0242ac1c0002\"] = document.querySelector(\"#id2-0-0\");\n",
              "//# sourceURL=js_9f5689ab26"
            ],
            "text/plain": [
              "<IPython.core.display.Javascript object>"
            ]
          },
          "metadata": {
            "tags": [
              "id2-0-0",
              "outputarea_id2"
            ]
          }
        },
        {
          "output_type": "display_data",
          "data": {
            "application/javascript": [
              "window[\"13bff592-06e8-11eb-986c-0242ac1c0002\"] = google.colab.output.setActiveOutputArea(window[\"13bf98a4-06e8-11eb-986c-0242ac1c0002\"]);\n",
              "//# sourceURL=js_475648ebfe"
            ],
            "text/plain": [
              "<IPython.core.display.Javascript object>"
            ]
          },
          "metadata": {
            "tags": [
              "id2-0-0",
              "outputarea_id2"
            ]
          }
        },
        {
          "output_type": "display_data",
          "data": {
            "application/javascript": [
              "window[\"13ebb95c-06e8-11eb-986c-0242ac1c0002\"] = google.colab.output.setActiveOutputArea(window[\"13bf20f4-06e8-11eb-986c-0242ac1c0002\"]);\n",
              "//# sourceURL=js_4a3f3558f2"
            ],
            "text/plain": [
              "<IPython.core.display.Javascript object>"
            ]
          },
          "metadata": {
            "tags": [
              "id2-0-0",
              "outputarea_id2"
            ]
          }
        },
        {
          "output_type": "display_data",
          "data": {
            "application/javascript": [
              "window[\"14cb7b8c-06e8-11eb-986c-0242ac1c0002\"] = google.colab.output.getActiveOutputArea();\n",
              "//# sourceURL=js_2706f91cc8"
            ],
            "text/plain": [
              "<IPython.core.display.Javascript object>"
            ]
          },
          "metadata": {
            "tags": [
              "id2-0-0",
              "outputarea_id2"
            ]
          }
        },
        {
          "output_type": "display_data",
          "data": {
            "application/javascript": [
              "window[\"14ccf7e6-06e8-11eb-986c-0242ac1c0002\"] = document.querySelector(\"#id2-0-0\");\n",
              "//# sourceURL=js_fb1afa5fd8"
            ],
            "text/plain": [
              "<IPython.core.display.Javascript object>"
            ]
          },
          "metadata": {
            "tags": [
              "id2-0-0",
              "outputarea_id2"
            ]
          }
        },
        {
          "output_type": "display_data",
          "data": {
            "application/javascript": [
              "window[\"14cdb906-06e8-11eb-986c-0242ac1c0002\"] = google.colab.output.setActiveOutputArea(window[\"14ccf7e6-06e8-11eb-986c-0242ac1c0002\"]);\n",
              "//# sourceURL=js_ca30975ae9"
            ],
            "text/plain": [
              "<IPython.core.display.Javascript object>"
            ]
          },
          "metadata": {
            "tags": [
              "id2-0-0",
              "outputarea_id2"
            ]
          }
        },
        {
          "output_type": "display_data",
          "data": {
            "application/javascript": [
              "window[\"14f46f56-06e8-11eb-986c-0242ac1c0002\"] = google.colab.output.setActiveOutputArea(window[\"14cb7b8c-06e8-11eb-986c-0242ac1c0002\"]);\n",
              "//# sourceURL=js_7a3afca523"
            ],
            "text/plain": [
              "<IPython.core.display.Javascript object>"
            ]
          },
          "metadata": {
            "tags": [
              "id2-0-0",
              "outputarea_id2"
            ]
          }
        },
        {
          "output_type": "display_data",
          "data": {
            "application/javascript": [
              "window[\"15d6acae-06e8-11eb-986c-0242ac1c0002\"] = google.colab.output.getActiveOutputArea();\n",
              "//# sourceURL=js_7ee7564b6d"
            ],
            "text/plain": [
              "<IPython.core.display.Javascript object>"
            ]
          },
          "metadata": {
            "tags": [
              "id2-0-0",
              "outputarea_id2"
            ]
          }
        },
        {
          "output_type": "display_data",
          "data": {
            "application/javascript": [
              "window[\"15d70712-06e8-11eb-986c-0242ac1c0002\"] = document.querySelector(\"#id2-0-0\");\n",
              "//# sourceURL=js_6e91bc52b2"
            ],
            "text/plain": [
              "<IPython.core.display.Javascript object>"
            ]
          },
          "metadata": {
            "tags": [
              "id2-0-0",
              "outputarea_id2"
            ]
          }
        },
        {
          "output_type": "display_data",
          "data": {
            "application/javascript": [
              "window[\"15d7988a-06e8-11eb-986c-0242ac1c0002\"] = google.colab.output.setActiveOutputArea(window[\"15d70712-06e8-11eb-986c-0242ac1c0002\"]);\n",
              "//# sourceURL=js_521d3e568e"
            ],
            "text/plain": [
              "<IPython.core.display.Javascript object>"
            ]
          },
          "metadata": {
            "tags": [
              "id2-0-0",
              "outputarea_id2"
            ]
          }
        },
        {
          "output_type": "display_data",
          "data": {
            "application/javascript": [
              "window[\"1601e9d2-06e8-11eb-986c-0242ac1c0002\"] = google.colab.output.setActiveOutputArea(window[\"15d6acae-06e8-11eb-986c-0242ac1c0002\"]);\n",
              "//# sourceURL=js_2cac19b902"
            ],
            "text/plain": [
              "<IPython.core.display.Javascript object>"
            ]
          },
          "metadata": {
            "tags": [
              "id2-0-0",
              "outputarea_id2"
            ]
          }
        },
        {
          "output_type": "display_data",
          "data": {
            "application/javascript": [
              "window[\"16dcba8a-06e8-11eb-986c-0242ac1c0002\"] = google.colab.output.getActiveOutputArea();\n",
              "//# sourceURL=js_6ee7f902a0"
            ],
            "text/plain": [
              "<IPython.core.display.Javascript object>"
            ]
          },
          "metadata": {
            "tags": [
              "id2-0-0",
              "outputarea_id2"
            ]
          }
        },
        {
          "output_type": "display_data",
          "data": {
            "application/javascript": [
              "window[\"16de020a-06e8-11eb-986c-0242ac1c0002\"] = document.querySelector(\"#id2-0-0\");\n",
              "//# sourceURL=js_3407f2f96e"
            ],
            "text/plain": [
              "<IPython.core.display.Javascript object>"
            ]
          },
          "metadata": {
            "tags": [
              "id2-0-0",
              "outputarea_id2"
            ]
          }
        },
        {
          "output_type": "display_data",
          "data": {
            "application/javascript": [
              "window[\"16de949a-06e8-11eb-986c-0242ac1c0002\"] = google.colab.output.setActiveOutputArea(window[\"16de020a-06e8-11eb-986c-0242ac1c0002\"]);\n",
              "//# sourceURL=js_afa8ea87f9"
            ],
            "text/plain": [
              "<IPython.core.display.Javascript object>"
            ]
          },
          "metadata": {
            "tags": [
              "id2-0-0",
              "outputarea_id2"
            ]
          }
        },
        {
          "output_type": "display_data",
          "data": {
            "application/javascript": [
              "window[\"17075fd8-06e8-11eb-986c-0242ac1c0002\"] = google.colab.output.setActiveOutputArea(window[\"16dcba8a-06e8-11eb-986c-0242ac1c0002\"]);\n",
              "//# sourceURL=js_b0bf10f5b3"
            ],
            "text/plain": [
              "<IPython.core.display.Javascript object>"
            ]
          },
          "metadata": {
            "tags": [
              "id2-0-0",
              "outputarea_id2"
            ]
          }
        },
        {
          "output_type": "display_data",
          "data": {
            "application/javascript": [
              "window[\"17df3fb6-06e8-11eb-986c-0242ac1c0002\"] = google.colab.output.getActiveOutputArea();\n",
              "//# sourceURL=js_310c6542b6"
            ],
            "text/plain": [
              "<IPython.core.display.Javascript object>"
            ]
          },
          "metadata": {
            "tags": [
              "id2-0-0",
              "outputarea_id2"
            ]
          }
        },
        {
          "output_type": "display_data",
          "data": {
            "application/javascript": [
              "window[\"17dfa33e-06e8-11eb-986c-0242ac1c0002\"] = document.querySelector(\"#id2-0-0\");\n",
              "//# sourceURL=js_7278c2a841"
            ],
            "text/plain": [
              "<IPython.core.display.Javascript object>"
            ]
          },
          "metadata": {
            "tags": [
              "id2-0-0",
              "outputarea_id2"
            ]
          }
        },
        {
          "output_type": "display_data",
          "data": {
            "application/javascript": [
              "window[\"17dff4ec-06e8-11eb-986c-0242ac1c0002\"] = google.colab.output.setActiveOutputArea(window[\"17dfa33e-06e8-11eb-986c-0242ac1c0002\"]);\n",
              "//# sourceURL=js_a5673046cf"
            ],
            "text/plain": [
              "<IPython.core.display.Javascript object>"
            ]
          },
          "metadata": {
            "tags": [
              "id2-0-0",
              "outputarea_id2"
            ]
          }
        },
        {
          "output_type": "display_data",
          "data": {
            "application/javascript": [
              "window[\"180abd1c-06e8-11eb-986c-0242ac1c0002\"] = google.colab.output.setActiveOutputArea(window[\"17df3fb6-06e8-11eb-986c-0242ac1c0002\"]);\n",
              "//# sourceURL=js_b35acb781f"
            ],
            "text/plain": [
              "<IPython.core.display.Javascript object>"
            ]
          },
          "metadata": {
            "tags": [
              "id2-0-0",
              "outputarea_id2"
            ]
          }
        },
        {
          "output_type": "display_data",
          "data": {
            "application/javascript": [
              "window[\"18e19526-06e8-11eb-986c-0242ac1c0002\"] = google.colab.output.getActiveOutputArea();\n",
              "//# sourceURL=js_f2820856c0"
            ],
            "text/plain": [
              "<IPython.core.display.Javascript object>"
            ]
          },
          "metadata": {
            "tags": [
              "id2-0-0",
              "outputarea_id2"
            ]
          }
        },
        {
          "output_type": "display_data",
          "data": {
            "application/javascript": [
              "window[\"18e3ac4e-06e8-11eb-986c-0242ac1c0002\"] = document.querySelector(\"#id2-0-0\");\n",
              "//# sourceURL=js_141912e0c8"
            ],
            "text/plain": [
              "<IPython.core.display.Javascript object>"
            ]
          },
          "metadata": {
            "tags": [
              "id2-0-0",
              "outputarea_id2"
            ]
          }
        },
        {
          "output_type": "display_data",
          "data": {
            "application/javascript": [
              "window[\"18e40252-06e8-11eb-986c-0242ac1c0002\"] = google.colab.output.setActiveOutputArea(window[\"18e3ac4e-06e8-11eb-986c-0242ac1c0002\"]);\n",
              "//# sourceURL=js_8c624ad9bd"
            ],
            "text/plain": [
              "<IPython.core.display.Javascript object>"
            ]
          },
          "metadata": {
            "tags": [
              "id2-0-0",
              "outputarea_id2"
            ]
          }
        },
        {
          "output_type": "display_data",
          "data": {
            "application/javascript": [
              "window[\"190d2740-06e8-11eb-986c-0242ac1c0002\"] = google.colab.output.setActiveOutputArea(window[\"18e19526-06e8-11eb-986c-0242ac1c0002\"]);\n",
              "//# sourceURL=js_5dc840a71f"
            ],
            "text/plain": [
              "<IPython.core.display.Javascript object>"
            ]
          },
          "metadata": {
            "tags": [
              "id2-0-0",
              "outputarea_id2"
            ]
          }
        },
        {
          "output_type": "display_data",
          "data": {
            "application/javascript": [
              "window[\"19f55790-06e8-11eb-986c-0242ac1c0002\"] = google.colab.output.getActiveOutputArea();\n",
              "//# sourceURL=js_408becc6e0"
            ],
            "text/plain": [
              "<IPython.core.display.Javascript object>"
            ]
          },
          "metadata": {
            "tags": [
              "id2-0-0",
              "outputarea_id2"
            ]
          }
        },
        {
          "output_type": "display_data",
          "data": {
            "application/javascript": [
              "window[\"19f5e5a2-06e8-11eb-986c-0242ac1c0002\"] = document.querySelector(\"#id2-0-0\");\n",
              "//# sourceURL=js_9ba1fc8786"
            ],
            "text/plain": [
              "<IPython.core.display.Javascript object>"
            ]
          },
          "metadata": {
            "tags": [
              "id2-0-0",
              "outputarea_id2"
            ]
          }
        },
        {
          "output_type": "display_data",
          "data": {
            "application/javascript": [
              "window[\"19f6b31a-06e8-11eb-986c-0242ac1c0002\"] = google.colab.output.setActiveOutputArea(window[\"19f5e5a2-06e8-11eb-986c-0242ac1c0002\"]);\n",
              "//# sourceURL=js_1bcdc03464"
            ],
            "text/plain": [
              "<IPython.core.display.Javascript object>"
            ]
          },
          "metadata": {
            "tags": [
              "id2-0-0",
              "outputarea_id2"
            ]
          }
        },
        {
          "output_type": "display_data",
          "data": {
            "application/javascript": [
              "window[\"1a231392-06e8-11eb-986c-0242ac1c0002\"] = google.colab.output.setActiveOutputArea(window[\"19f55790-06e8-11eb-986c-0242ac1c0002\"]);\n",
              "//# sourceURL=js_e185fed904"
            ],
            "text/plain": [
              "<IPython.core.display.Javascript object>"
            ]
          },
          "metadata": {
            "tags": [
              "id2-0-0",
              "outputarea_id2"
            ]
          }
        },
        {
          "output_type": "display_data",
          "data": {
            "application/javascript": [
              "window[\"1afc2416-06e8-11eb-986c-0242ac1c0002\"] = google.colab.output.getActiveOutputArea();\n",
              "//# sourceURL=js_320339b2d9"
            ],
            "text/plain": [
              "<IPython.core.display.Javascript object>"
            ]
          },
          "metadata": {
            "tags": [
              "id2-0-0",
              "outputarea_id2"
            ]
          }
        },
        {
          "output_type": "display_data",
          "data": {
            "application/javascript": [
              "window[\"1afcec66-06e8-11eb-986c-0242ac1c0002\"] = document.querySelector(\"#id2-0-0\");\n",
              "//# sourceURL=js_1a0ef8363f"
            ],
            "text/plain": [
              "<IPython.core.display.Javascript object>"
            ]
          },
          "metadata": {
            "tags": [
              "id2-0-0",
              "outputarea_id2"
            ]
          }
        },
        {
          "output_type": "display_data",
          "data": {
            "application/javascript": [
              "window[\"1afddd42-06e8-11eb-986c-0242ac1c0002\"] = google.colab.output.setActiveOutputArea(window[\"1afcec66-06e8-11eb-986c-0242ac1c0002\"]);\n",
              "//# sourceURL=js_74fff28375"
            ],
            "text/plain": [
              "<IPython.core.display.Javascript object>"
            ]
          },
          "metadata": {
            "tags": [
              "id2-0-0",
              "outputarea_id2"
            ]
          }
        },
        {
          "output_type": "display_data",
          "data": {
            "application/javascript": [
              "window[\"1b25627c-06e8-11eb-986c-0242ac1c0002\"] = google.colab.output.setActiveOutputArea(window[\"1afc2416-06e8-11eb-986c-0242ac1c0002\"]);\n",
              "//# sourceURL=js_f92dc5de23"
            ],
            "text/plain": [
              "<IPython.core.display.Javascript object>"
            ]
          },
          "metadata": {
            "tags": [
              "id2-0-0",
              "outputarea_id2"
            ]
          }
        },
        {
          "output_type": "display_data",
          "data": {
            "application/javascript": [
              "window[\"1c06912a-06e8-11eb-986c-0242ac1c0002\"] = google.colab.output.getActiveOutputArea();\n",
              "//# sourceURL=js_308ce04f5f"
            ],
            "text/plain": [
              "<IPython.core.display.Javascript object>"
            ]
          },
          "metadata": {
            "tags": [
              "id2-0-0",
              "outputarea_id2"
            ]
          }
        },
        {
          "output_type": "display_data",
          "data": {
            "application/javascript": [
              "window[\"1c07150a-06e8-11eb-986c-0242ac1c0002\"] = document.querySelector(\"#id2-0-0\");\n",
              "//# sourceURL=js_5b8379ef96"
            ],
            "text/plain": [
              "<IPython.core.display.Javascript object>"
            ]
          },
          "metadata": {
            "tags": [
              "id2-0-0",
              "outputarea_id2"
            ]
          }
        },
        {
          "output_type": "display_data",
          "data": {
            "application/javascript": [
              "window[\"1c075c86-06e8-11eb-986c-0242ac1c0002\"] = google.colab.output.setActiveOutputArea(window[\"1c07150a-06e8-11eb-986c-0242ac1c0002\"]);\n",
              "//# sourceURL=js_0b8d1cd5b9"
            ],
            "text/plain": [
              "<IPython.core.display.Javascript object>"
            ]
          },
          "metadata": {
            "tags": [
              "id2-0-0",
              "outputarea_id2"
            ]
          }
        },
        {
          "output_type": "display_data",
          "data": {
            "application/javascript": [
              "window[\"1c3062ca-06e8-11eb-986c-0242ac1c0002\"] = google.colab.output.setActiveOutputArea(window[\"1c06912a-06e8-11eb-986c-0242ac1c0002\"]);\n",
              "//# sourceURL=js_529b1bdfc3"
            ],
            "text/plain": [
              "<IPython.core.display.Javascript object>"
            ]
          },
          "metadata": {
            "tags": [
              "id2-0-0",
              "outputarea_id2"
            ]
          }
        },
        {
          "output_type": "display_data",
          "data": {
            "application/javascript": [
              "window[\"1d0e9a4a-06e8-11eb-986c-0242ac1c0002\"] = google.colab.output.getActiveOutputArea();\n",
              "//# sourceURL=js_1f61dfe049"
            ],
            "text/plain": [
              "<IPython.core.display.Javascript object>"
            ]
          },
          "metadata": {
            "tags": [
              "id2-0-0",
              "outputarea_id2"
            ]
          }
        },
        {
          "output_type": "display_data",
          "data": {
            "application/javascript": [
              "window[\"1d0ef8b4-06e8-11eb-986c-0242ac1c0002\"] = document.querySelector(\"#id2-0-0\");\n",
              "//# sourceURL=js_9da6fcf869"
            ],
            "text/plain": [
              "<IPython.core.display.Javascript object>"
            ]
          },
          "metadata": {
            "tags": [
              "id2-0-0",
              "outputarea_id2"
            ]
          }
        },
        {
          "output_type": "display_data",
          "data": {
            "application/javascript": [
              "window[\"1d0f5ae8-06e8-11eb-986c-0242ac1c0002\"] = google.colab.output.setActiveOutputArea(window[\"1d0ef8b4-06e8-11eb-986c-0242ac1c0002\"]);\n",
              "//# sourceURL=js_330248cdf9"
            ],
            "text/plain": [
              "<IPython.core.display.Javascript object>"
            ]
          },
          "metadata": {
            "tags": [
              "id2-0-0",
              "outputarea_id2"
            ]
          }
        },
        {
          "output_type": "display_data",
          "data": {
            "application/javascript": [
              "window[\"1d39ae9c-06e8-11eb-986c-0242ac1c0002\"] = google.colab.output.setActiveOutputArea(window[\"1d0e9a4a-06e8-11eb-986c-0242ac1c0002\"]);\n",
              "//# sourceURL=js_98df6ddd99"
            ],
            "text/plain": [
              "<IPython.core.display.Javascript object>"
            ]
          },
          "metadata": {
            "tags": [
              "id2-0-0",
              "outputarea_id2"
            ]
          }
        },
        {
          "output_type": "display_data",
          "data": {
            "application/javascript": [
              "window[\"1e167d5e-06e8-11eb-986c-0242ac1c0002\"] = google.colab.output.getActiveOutputArea();\n",
              "//# sourceURL=js_4004e6d207"
            ],
            "text/plain": [
              "<IPython.core.display.Javascript object>"
            ]
          },
          "metadata": {
            "tags": [
              "id2-0-0",
              "outputarea_id2"
            ]
          }
        },
        {
          "output_type": "display_data",
          "data": {
            "application/javascript": [
              "window[\"1e16e78a-06e8-11eb-986c-0242ac1c0002\"] = document.querySelector(\"#id2-0-0\");\n",
              "//# sourceURL=js_1aca6b2940"
            ],
            "text/plain": [
              "<IPython.core.display.Javascript object>"
            ]
          },
          "metadata": {
            "tags": [
              "id2-0-0",
              "outputarea_id2"
            ]
          }
        },
        {
          "output_type": "display_data",
          "data": {
            "application/javascript": [
              "window[\"1e1740e0-06e8-11eb-986c-0242ac1c0002\"] = google.colab.output.setActiveOutputArea(window[\"1e16e78a-06e8-11eb-986c-0242ac1c0002\"]);\n",
              "//# sourceURL=js_52fa67b185"
            ],
            "text/plain": [
              "<IPython.core.display.Javascript object>"
            ]
          },
          "metadata": {
            "tags": [
              "id2-0-0",
              "outputarea_id2"
            ]
          }
        },
        {
          "output_type": "display_data",
          "data": {
            "application/javascript": [
              "window[\"1e450ae8-06e8-11eb-986c-0242ac1c0002\"] = google.colab.output.setActiveOutputArea(window[\"1e167d5e-06e8-11eb-986c-0242ac1c0002\"]);\n",
              "//# sourceURL=js_114aff5cb5"
            ],
            "text/plain": [
              "<IPython.core.display.Javascript object>"
            ]
          },
          "metadata": {
            "tags": [
              "id2-0-0",
              "outputarea_id2"
            ]
          }
        },
        {
          "output_type": "display_data",
          "data": {
            "application/javascript": [
              "window[\"1f25803c-06e8-11eb-986c-0242ac1c0002\"] = google.colab.output.getActiveOutputArea();\n",
              "//# sourceURL=js_cbf98ded75"
            ],
            "text/plain": [
              "<IPython.core.display.Javascript object>"
            ]
          },
          "metadata": {
            "tags": [
              "id2-0-0",
              "outputarea_id2"
            ]
          }
        },
        {
          "output_type": "display_data",
          "data": {
            "application/javascript": [
              "window[\"1f26160a-06e8-11eb-986c-0242ac1c0002\"] = document.querySelector(\"#id2-0-0\");\n",
              "//# sourceURL=js_212c78ce73"
            ],
            "text/plain": [
              "<IPython.core.display.Javascript object>"
            ]
          },
          "metadata": {
            "tags": [
              "id2-0-0",
              "outputarea_id2"
            ]
          }
        },
        {
          "output_type": "display_data",
          "data": {
            "application/javascript": [
              "window[\"1f267514-06e8-11eb-986c-0242ac1c0002\"] = google.colab.output.setActiveOutputArea(window[\"1f26160a-06e8-11eb-986c-0242ac1c0002\"]);\n",
              "//# sourceURL=js_40e7bda110"
            ],
            "text/plain": [
              "<IPython.core.display.Javascript object>"
            ]
          },
          "metadata": {
            "tags": [
              "id2-0-0",
              "outputarea_id2"
            ]
          }
        },
        {
          "output_type": "display_data",
          "data": {
            "application/javascript": [
              "window[\"1f4dd83e-06e8-11eb-986c-0242ac1c0002\"] = google.colab.output.setActiveOutputArea(window[\"1f25803c-06e8-11eb-986c-0242ac1c0002\"]);\n",
              "//# sourceURL=js_e43039bdd2"
            ],
            "text/plain": [
              "<IPython.core.display.Javascript object>"
            ]
          },
          "metadata": {
            "tags": [
              "id2-0-0",
              "outputarea_id2"
            ]
          }
        },
        {
          "output_type": "display_data",
          "data": {
            "application/javascript": [
              "window[\"20265560-06e8-11eb-986c-0242ac1c0002\"] = google.colab.output.getActiveOutputArea();\n",
              "//# sourceURL=js_8f06ddacd5"
            ],
            "text/plain": [
              "<IPython.core.display.Javascript object>"
            ]
          },
          "metadata": {
            "tags": [
              "id2-0-0",
              "outputarea_id2"
            ]
          }
        },
        {
          "output_type": "display_data",
          "data": {
            "application/javascript": [
              "window[\"2026baaa-06e8-11eb-986c-0242ac1c0002\"] = document.querySelector(\"#id2-0-0\");\n",
              "//# sourceURL=js_326d4f8282"
            ],
            "text/plain": [
              "<IPython.core.display.Javascript object>"
            ]
          },
          "metadata": {
            "tags": [
              "id2-0-0",
              "outputarea_id2"
            ]
          }
        },
        {
          "output_type": "display_data",
          "data": {
            "application/javascript": [
              "window[\"2027218e-06e8-11eb-986c-0242ac1c0002\"] = google.colab.output.setActiveOutputArea(window[\"2026baaa-06e8-11eb-986c-0242ac1c0002\"]);\n",
              "//# sourceURL=js_a3afbee1c7"
            ],
            "text/plain": [
              "<IPython.core.display.Javascript object>"
            ]
          },
          "metadata": {
            "tags": [
              "id2-0-0",
              "outputarea_id2"
            ]
          }
        },
        {
          "output_type": "display_data",
          "data": {
            "application/javascript": [
              "window[\"20509e38-06e8-11eb-986c-0242ac1c0002\"] = google.colab.output.setActiveOutputArea(window[\"20265560-06e8-11eb-986c-0242ac1c0002\"]);\n",
              "//# sourceURL=js_b5ec9a7ef0"
            ],
            "text/plain": [
              "<IPython.core.display.Javascript object>"
            ]
          },
          "metadata": {
            "tags": [
              "id2-0-0",
              "outputarea_id2"
            ]
          }
        },
        {
          "output_type": "display_data",
          "data": {
            "application/javascript": [
              "window[\"2130ed62-06e8-11eb-986c-0242ac1c0002\"] = google.colab.output.getActiveOutputArea();\n",
              "//# sourceURL=js_b023c58fb6"
            ],
            "text/plain": [
              "<IPython.core.display.Javascript object>"
            ]
          },
          "metadata": {
            "tags": [
              "id2-0-0",
              "outputarea_id2"
            ]
          }
        },
        {
          "output_type": "display_data",
          "data": {
            "application/javascript": [
              "window[\"21314d20-06e8-11eb-986c-0242ac1c0002\"] = document.querySelector(\"#id2-0-0\");\n",
              "//# sourceURL=js_842c91ac0a"
            ],
            "text/plain": [
              "<IPython.core.display.Javascript object>"
            ]
          },
          "metadata": {
            "tags": [
              "id2-0-0",
              "outputarea_id2"
            ]
          }
        },
        {
          "output_type": "display_data",
          "data": {
            "application/javascript": [
              "window[\"213195a0-06e8-11eb-986c-0242ac1c0002\"] = google.colab.output.setActiveOutputArea(window[\"21314d20-06e8-11eb-986c-0242ac1c0002\"]);\n",
              "//# sourceURL=js_372b2c3c66"
            ],
            "text/plain": [
              "<IPython.core.display.Javascript object>"
            ]
          },
          "metadata": {
            "tags": [
              "id2-0-0",
              "outputarea_id2"
            ]
          }
        },
        {
          "output_type": "display_data",
          "data": {
            "application/javascript": [
              "window[\"215af90e-06e8-11eb-986c-0242ac1c0002\"] = google.colab.output.setActiveOutputArea(window[\"2130ed62-06e8-11eb-986c-0242ac1c0002\"]);\n",
              "//# sourceURL=js_66b95e2c23"
            ],
            "text/plain": [
              "<IPython.core.display.Javascript object>"
            ]
          },
          "metadata": {
            "tags": [
              "id2-0-0",
              "outputarea_id2"
            ]
          }
        },
        {
          "output_type": "display_data",
          "data": {
            "application/javascript": [
              "window[\"2239e3ee-06e8-11eb-986c-0242ac1c0002\"] = google.colab.output.getActiveOutputArea();\n",
              "//# sourceURL=js_2b5bbad786"
            ],
            "text/plain": [
              "<IPython.core.display.Javascript object>"
            ]
          },
          "metadata": {
            "tags": [
              "id2-0-0",
              "outputarea_id2"
            ]
          }
        },
        {
          "output_type": "display_data",
          "data": {
            "application/javascript": [
              "window[\"223aaaa4-06e8-11eb-986c-0242ac1c0002\"] = document.querySelector(\"#id2-0-0\");\n",
              "//# sourceURL=js_0041674a7d"
            ],
            "text/plain": [
              "<IPython.core.display.Javascript object>"
            ]
          },
          "metadata": {
            "tags": [
              "id2-0-0",
              "outputarea_id2"
            ]
          }
        },
        {
          "output_type": "display_data",
          "data": {
            "application/javascript": [
              "window[\"223af5ea-06e8-11eb-986c-0242ac1c0002\"] = google.colab.output.setActiveOutputArea(window[\"223aaaa4-06e8-11eb-986c-0242ac1c0002\"]);\n",
              "//# sourceURL=js_f68ff73519"
            ],
            "text/plain": [
              "<IPython.core.display.Javascript object>"
            ]
          },
          "metadata": {
            "tags": [
              "id2-0-0",
              "outputarea_id2"
            ]
          }
        },
        {
          "output_type": "display_data",
          "data": {
            "application/javascript": [
              "window[\"2264c9ce-06e8-11eb-986c-0242ac1c0002\"] = google.colab.output.setActiveOutputArea(window[\"2239e3ee-06e8-11eb-986c-0242ac1c0002\"]);\n",
              "//# sourceURL=js_f05bfae005"
            ],
            "text/plain": [
              "<IPython.core.display.Javascript object>"
            ]
          },
          "metadata": {
            "tags": [
              "id2-0-0",
              "outputarea_id2"
            ]
          }
        },
        {
          "output_type": "display_data",
          "data": {
            "application/javascript": [
              "window[\"234010b0-06e8-11eb-986c-0242ac1c0002\"] = google.colab.output.getActiveOutputArea();\n",
              "//# sourceURL=js_3d9ba47f56"
            ],
            "text/plain": [
              "<IPython.core.display.Javascript object>"
            ]
          },
          "metadata": {
            "tags": [
              "id2-0-0",
              "outputarea_id2"
            ]
          }
        },
        {
          "output_type": "display_data",
          "data": {
            "application/javascript": [
              "window[\"23589d60-06e8-11eb-986c-0242ac1c0002\"] = document.querySelector(\"#id2-0-0\");\n",
              "//# sourceURL=js_573841363b"
            ],
            "text/plain": [
              "<IPython.core.display.Javascript object>"
            ]
          },
          "metadata": {
            "tags": [
              "id2-0-0",
              "outputarea_id2"
            ]
          }
        },
        {
          "output_type": "display_data",
          "data": {
            "application/javascript": [
              "window[\"2358e63a-06e8-11eb-986c-0242ac1c0002\"] = google.colab.output.setActiveOutputArea(window[\"23589d60-06e8-11eb-986c-0242ac1c0002\"]);\n",
              "//# sourceURL=js_942192ed29"
            ],
            "text/plain": [
              "<IPython.core.display.Javascript object>"
            ]
          },
          "metadata": {
            "tags": [
              "id2-0-0",
              "outputarea_id2"
            ]
          }
        },
        {
          "output_type": "display_data",
          "data": {
            "application/javascript": [
              "window[\"23800f12-06e8-11eb-986c-0242ac1c0002\"] = google.colab.output.setActiveOutputArea(window[\"234010b0-06e8-11eb-986c-0242ac1c0002\"]);\n",
              "//# sourceURL=js_67d120d05e"
            ],
            "text/plain": [
              "<IPython.core.display.Javascript object>"
            ]
          },
          "metadata": {
            "tags": [
              "id2-0-0",
              "outputarea_id2"
            ]
          }
        },
        {
          "output_type": "display_data",
          "data": {
            "application/javascript": [
              "window[\"245f6982-06e8-11eb-986c-0242ac1c0002\"] = google.colab.output.getActiveOutputArea();\n",
              "//# sourceURL=js_b2b307b983"
            ],
            "text/plain": [
              "<IPython.core.display.Javascript object>"
            ]
          },
          "metadata": {
            "tags": [
              "id2-0-0",
              "outputarea_id2"
            ]
          }
        },
        {
          "output_type": "display_data",
          "data": {
            "application/javascript": [
              "window[\"245ff30c-06e8-11eb-986c-0242ac1c0002\"] = document.querySelector(\"#id2-0-0\");\n",
              "//# sourceURL=js_a120688a1a"
            ],
            "text/plain": [
              "<IPython.core.display.Javascript object>"
            ]
          },
          "metadata": {
            "tags": [
              "id2-0-0",
              "outputarea_id2"
            ]
          }
        },
        {
          "output_type": "display_data",
          "data": {
            "application/javascript": [
              "window[\"24605946-06e8-11eb-986c-0242ac1c0002\"] = google.colab.output.setActiveOutputArea(window[\"245ff30c-06e8-11eb-986c-0242ac1c0002\"]);\n",
              "//# sourceURL=js_4ce6d725e2"
            ],
            "text/plain": [
              "<IPython.core.display.Javascript object>"
            ]
          },
          "metadata": {
            "tags": [
              "id2-0-0",
              "outputarea_id2"
            ]
          }
        },
        {
          "output_type": "display_data",
          "data": {
            "application/javascript": [
              "window[\"248b827e-06e8-11eb-986c-0242ac1c0002\"] = google.colab.output.setActiveOutputArea(window[\"245f6982-06e8-11eb-986c-0242ac1c0002\"]);\n",
              "//# sourceURL=js_7311e9efe1"
            ],
            "text/plain": [
              "<IPython.core.display.Javascript object>"
            ]
          },
          "metadata": {
            "tags": [
              "id2-0-0",
              "outputarea_id2"
            ]
          }
        },
        {
          "output_type": "display_data",
          "data": {
            "application/javascript": [
              "window[\"25678aee-06e8-11eb-986c-0242ac1c0002\"] = google.colab.output.getActiveOutputArea();\n",
              "//# sourceURL=js_b79b55de05"
            ],
            "text/plain": [
              "<IPython.core.display.Javascript object>"
            ]
          },
          "metadata": {
            "tags": [
              "id2-0-0",
              "outputarea_id2"
            ]
          }
        },
        {
          "output_type": "display_data",
          "data": {
            "application/javascript": [
              "window[\"25691bd4-06e8-11eb-986c-0242ac1c0002\"] = document.querySelector(\"#id2-0-0\");\n",
              "//# sourceURL=js_62f1cc4a8d"
            ],
            "text/plain": [
              "<IPython.core.display.Javascript object>"
            ]
          },
          "metadata": {
            "tags": [
              "id2-0-0",
              "outputarea_id2"
            ]
          }
        },
        {
          "output_type": "display_data",
          "data": {
            "application/javascript": [
              "window[\"2569bb48-06e8-11eb-986c-0242ac1c0002\"] = google.colab.output.setActiveOutputArea(window[\"25691bd4-06e8-11eb-986c-0242ac1c0002\"]);\n",
              "//# sourceURL=js_89cb815923"
            ],
            "text/plain": [
              "<IPython.core.display.Javascript object>"
            ]
          },
          "metadata": {
            "tags": [
              "id2-0-0",
              "outputarea_id2"
            ]
          }
        },
        {
          "output_type": "display_data",
          "data": {
            "application/javascript": [
              "window[\"2596b63e-06e8-11eb-986c-0242ac1c0002\"] = google.colab.output.setActiveOutputArea(window[\"25678aee-06e8-11eb-986c-0242ac1c0002\"]);\n",
              "//# sourceURL=js_8787d896b0"
            ],
            "text/plain": [
              "<IPython.core.display.Javascript object>"
            ]
          },
          "metadata": {
            "tags": [
              "id2-0-0",
              "outputarea_id2"
            ]
          }
        },
        {
          "output_type": "display_data",
          "data": {
            "application/javascript": [
              "window[\"26858a20-06e8-11eb-986c-0242ac1c0002\"] = google.colab.output.getActiveOutputArea();\n",
              "//# sourceURL=js_a9b6943a89"
            ],
            "text/plain": [
              "<IPython.core.display.Javascript object>"
            ]
          },
          "metadata": {
            "tags": [
              "id2-0-0",
              "outputarea_id2"
            ]
          }
        },
        {
          "output_type": "display_data",
          "data": {
            "application/javascript": [
              "window[\"26860a54-06e8-11eb-986c-0242ac1c0002\"] = document.querySelector(\"#id2-0-0\");\n",
              "//# sourceURL=js_197e9713ea"
            ],
            "text/plain": [
              "<IPython.core.display.Javascript object>"
            ]
          },
          "metadata": {
            "tags": [
              "id2-0-0",
              "outputarea_id2"
            ]
          }
        },
        {
          "output_type": "display_data",
          "data": {
            "application/javascript": [
              "window[\"2686c6a6-06e8-11eb-986c-0242ac1c0002\"] = google.colab.output.setActiveOutputArea(window[\"26860a54-06e8-11eb-986c-0242ac1c0002\"]);\n",
              "//# sourceURL=js_b1212275b4"
            ],
            "text/plain": [
              "<IPython.core.display.Javascript object>"
            ]
          },
          "metadata": {
            "tags": [
              "id2-0-0",
              "outputarea_id2"
            ]
          }
        },
        {
          "output_type": "display_data",
          "data": {
            "application/javascript": [
              "window[\"26af1a0c-06e8-11eb-986c-0242ac1c0002\"] = google.colab.output.setActiveOutputArea(window[\"26858a20-06e8-11eb-986c-0242ac1c0002\"]);\n",
              "//# sourceURL=js_3606606f6f"
            ],
            "text/plain": [
              "<IPython.core.display.Javascript object>"
            ]
          },
          "metadata": {
            "tags": [
              "id2-0-0",
              "outputarea_id2"
            ]
          }
        },
        {
          "output_type": "display_data",
          "data": {
            "application/javascript": [
              "window[\"278d2e96-06e8-11eb-986c-0242ac1c0002\"] = google.colab.output.getActiveOutputArea();\n",
              "//# sourceURL=js_4a657397b3"
            ],
            "text/plain": [
              "<IPython.core.display.Javascript object>"
            ]
          },
          "metadata": {
            "tags": [
              "id2-0-0",
              "outputarea_id2"
            ]
          }
        },
        {
          "output_type": "display_data",
          "data": {
            "application/javascript": [
              "window[\"278da420-06e8-11eb-986c-0242ac1c0002\"] = document.querySelector(\"#id2-0-0\");\n",
              "//# sourceURL=js_093c6559a9"
            ],
            "text/plain": [
              "<IPython.core.display.Javascript object>"
            ]
          },
          "metadata": {
            "tags": [
              "id2-0-0",
              "outputarea_id2"
            ]
          }
        },
        {
          "output_type": "display_data",
          "data": {
            "application/javascript": [
              "window[\"278e019a-06e8-11eb-986c-0242ac1c0002\"] = google.colab.output.setActiveOutputArea(window[\"278da420-06e8-11eb-986c-0242ac1c0002\"]);\n",
              "//# sourceURL=js_30c4e92366"
            ],
            "text/plain": [
              "<IPython.core.display.Javascript object>"
            ]
          },
          "metadata": {
            "tags": [
              "id2-0-0",
              "outputarea_id2"
            ]
          }
        },
        {
          "output_type": "display_data",
          "data": {
            "application/javascript": [
              "window[\"27b6ca94-06e8-11eb-986c-0242ac1c0002\"] = google.colab.output.setActiveOutputArea(window[\"278d2e96-06e8-11eb-986c-0242ac1c0002\"]);\n",
              "//# sourceURL=js_1e1323941e"
            ],
            "text/plain": [
              "<IPython.core.display.Javascript object>"
            ]
          },
          "metadata": {
            "tags": [
              "id2-0-0",
              "outputarea_id2"
            ]
          }
        },
        {
          "output_type": "display_data",
          "data": {
            "application/javascript": [
              "window[\"288e6148-06e8-11eb-986c-0242ac1c0002\"] = google.colab.output.getActiveOutputArea();\n",
              "//# sourceURL=js_f528c14f0f"
            ],
            "text/plain": [
              "<IPython.core.display.Javascript object>"
            ]
          },
          "metadata": {
            "tags": [
              "id2-0-0",
              "outputarea_id2"
            ]
          }
        },
        {
          "output_type": "display_data",
          "data": {
            "application/javascript": [
              "window[\"288ece76-06e8-11eb-986c-0242ac1c0002\"] = document.querySelector(\"#id2-0-0\");\n",
              "//# sourceURL=js_ed4d67297e"
            ],
            "text/plain": [
              "<IPython.core.display.Javascript object>"
            ]
          },
          "metadata": {
            "tags": [
              "id2-0-0",
              "outputarea_id2"
            ]
          }
        },
        {
          "output_type": "display_data",
          "data": {
            "application/javascript": [
              "window[\"288f2c22-06e8-11eb-986c-0242ac1c0002\"] = google.colab.output.setActiveOutputArea(window[\"288ece76-06e8-11eb-986c-0242ac1c0002\"]);\n",
              "//# sourceURL=js_d9b2502748"
            ],
            "text/plain": [
              "<IPython.core.display.Javascript object>"
            ]
          },
          "metadata": {
            "tags": [
              "id2-0-0",
              "outputarea_id2"
            ]
          }
        },
        {
          "output_type": "display_data",
          "data": {
            "application/javascript": [
              "window[\"28b8d086-06e8-11eb-986c-0242ac1c0002\"] = google.colab.output.setActiveOutputArea(window[\"288e6148-06e8-11eb-986c-0242ac1c0002\"]);\n",
              "//# sourceURL=js_97fd2c0401"
            ],
            "text/plain": [
              "<IPython.core.display.Javascript object>"
            ]
          },
          "metadata": {
            "tags": [
              "id2-0-0",
              "outputarea_id2"
            ]
          }
        },
        {
          "output_type": "display_data",
          "data": {
            "application/javascript": [
              "window[\"2997a27a-06e8-11eb-986c-0242ac1c0002\"] = google.colab.output.getActiveOutputArea();\n",
              "//# sourceURL=js_3e19b4d9fb"
            ],
            "text/plain": [
              "<IPython.core.display.Javascript object>"
            ]
          },
          "metadata": {
            "tags": [
              "id2-0-0",
              "outputarea_id2"
            ]
          }
        },
        {
          "output_type": "display_data",
          "data": {
            "application/javascript": [
              "window[\"2998175a-06e8-11eb-986c-0242ac1c0002\"] = document.querySelector(\"#id2-0-0\");\n",
              "//# sourceURL=js_7ccf0cc00b"
            ],
            "text/plain": [
              "<IPython.core.display.Javascript object>"
            ]
          },
          "metadata": {
            "tags": [
              "id2-0-0",
              "outputarea_id2"
            ]
          }
        },
        {
          "output_type": "display_data",
          "data": {
            "application/javascript": [
              "window[\"299863fe-06e8-11eb-986c-0242ac1c0002\"] = google.colab.output.setActiveOutputArea(window[\"2998175a-06e8-11eb-986c-0242ac1c0002\"]);\n",
              "//# sourceURL=js_b1bbc6e17b"
            ],
            "text/plain": [
              "<IPython.core.display.Javascript object>"
            ]
          },
          "metadata": {
            "tags": [
              "id2-0-0",
              "outputarea_id2"
            ]
          }
        },
        {
          "output_type": "display_data",
          "data": {
            "application/javascript": [
              "window[\"29c1da22-06e8-11eb-986c-0242ac1c0002\"] = google.colab.output.setActiveOutputArea(window[\"2997a27a-06e8-11eb-986c-0242ac1c0002\"]);\n",
              "//# sourceURL=js_a360667934"
            ],
            "text/plain": [
              "<IPython.core.display.Javascript object>"
            ]
          },
          "metadata": {
            "tags": [
              "id2-0-0",
              "outputarea_id2"
            ]
          }
        },
        {
          "output_type": "display_data",
          "data": {
            "application/javascript": [
              "window[\"2a98901c-06e8-11eb-986c-0242ac1c0002\"] = google.colab.output.getActiveOutputArea();\n",
              "//# sourceURL=js_6d08570f54"
            ],
            "text/plain": [
              "<IPython.core.display.Javascript object>"
            ]
          },
          "metadata": {
            "tags": [
              "id2-0-0",
              "outputarea_id2"
            ]
          }
        },
        {
          "output_type": "display_data",
          "data": {
            "application/javascript": [
              "window[\"2a9905c4-06e8-11eb-986c-0242ac1c0002\"] = document.querySelector(\"#id2-0-0\");\n",
              "//# sourceURL=js_1028e083c7"
            ],
            "text/plain": [
              "<IPython.core.display.Javascript object>"
            ]
          },
          "metadata": {
            "tags": [
              "id2-0-0",
              "outputarea_id2"
            ]
          }
        },
        {
          "output_type": "display_data",
          "data": {
            "application/javascript": [
              "window[\"2a994f8e-06e8-11eb-986c-0242ac1c0002\"] = google.colab.output.setActiveOutputArea(window[\"2a9905c4-06e8-11eb-986c-0242ac1c0002\"]);\n",
              "//# sourceURL=js_c3e44c85ad"
            ],
            "text/plain": [
              "<IPython.core.display.Javascript object>"
            ]
          },
          "metadata": {
            "tags": [
              "id2-0-0",
              "outputarea_id2"
            ]
          }
        },
        {
          "output_type": "display_data",
          "data": {
            "application/javascript": [
              "window[\"2ac14bba-06e8-11eb-986c-0242ac1c0002\"] = google.colab.output.setActiveOutputArea(window[\"2a98901c-06e8-11eb-986c-0242ac1c0002\"]);\n",
              "//# sourceURL=js_aa159694e3"
            ],
            "text/plain": [
              "<IPython.core.display.Javascript object>"
            ]
          },
          "metadata": {
            "tags": [
              "id2-0-0",
              "outputarea_id2"
            ]
          }
        },
        {
          "output_type": "display_data",
          "data": {
            "application/javascript": [
              "window[\"2b9fb09e-06e8-11eb-986c-0242ac1c0002\"] = google.colab.output.getActiveOutputArea();\n",
              "//# sourceURL=js_c961c2fbd4"
            ],
            "text/plain": [
              "<IPython.core.display.Javascript object>"
            ]
          },
          "metadata": {
            "tags": [
              "id2-0-0",
              "outputarea_id2"
            ]
          }
        },
        {
          "output_type": "display_data",
          "data": {
            "application/javascript": [
              "window[\"2ba0148a-06e8-11eb-986c-0242ac1c0002\"] = document.querySelector(\"#id2-0-0\");\n",
              "//# sourceURL=js_721ff9ee2a"
            ],
            "text/plain": [
              "<IPython.core.display.Javascript object>"
            ]
          },
          "metadata": {
            "tags": [
              "id2-0-0",
              "outputarea_id2"
            ]
          }
        },
        {
          "output_type": "display_data",
          "data": {
            "application/javascript": [
              "window[\"2ba06084-06e8-11eb-986c-0242ac1c0002\"] = google.colab.output.setActiveOutputArea(window[\"2ba0148a-06e8-11eb-986c-0242ac1c0002\"]);\n",
              "//# sourceURL=js_dd2d9acabb"
            ],
            "text/plain": [
              "<IPython.core.display.Javascript object>"
            ]
          },
          "metadata": {
            "tags": [
              "id2-0-0",
              "outputarea_id2"
            ]
          }
        },
        {
          "output_type": "display_data",
          "data": {
            "application/javascript": [
              "window[\"2bc954bc-06e8-11eb-986c-0242ac1c0002\"] = google.colab.output.setActiveOutputArea(window[\"2b9fb09e-06e8-11eb-986c-0242ac1c0002\"]);\n",
              "//# sourceURL=js_54d0ea7808"
            ],
            "text/plain": [
              "<IPython.core.display.Javascript object>"
            ]
          },
          "metadata": {
            "tags": [
              "id2-0-0",
              "outputarea_id2"
            ]
          }
        },
        {
          "output_type": "display_data",
          "data": {
            "application/javascript": [
              "window[\"2caf087c-06e8-11eb-986c-0242ac1c0002\"] = google.colab.output.getActiveOutputArea();\n",
              "//# sourceURL=js_7dc5cf9e17"
            ],
            "text/plain": [
              "<IPython.core.display.Javascript object>"
            ]
          },
          "metadata": {
            "tags": [
              "id2-0-0",
              "outputarea_id2"
            ]
          }
        },
        {
          "output_type": "display_data",
          "data": {
            "application/javascript": [
              "window[\"2caf9e72-06e8-11eb-986c-0242ac1c0002\"] = document.querySelector(\"#id2-0-0\");\n",
              "//# sourceURL=js_46422079aa"
            ],
            "text/plain": [
              "<IPython.core.display.Javascript object>"
            ]
          },
          "metadata": {
            "tags": [
              "id2-0-0",
              "outputarea_id2"
            ]
          }
        },
        {
          "output_type": "display_data",
          "data": {
            "application/javascript": [
              "window[\"2cb0750e-06e8-11eb-986c-0242ac1c0002\"] = google.colab.output.setActiveOutputArea(window[\"2caf9e72-06e8-11eb-986c-0242ac1c0002\"]);\n",
              "//# sourceURL=js_6526ae3f02"
            ],
            "text/plain": [
              "<IPython.core.display.Javascript object>"
            ]
          },
          "metadata": {
            "tags": [
              "id2-0-0",
              "outputarea_id2"
            ]
          }
        },
        {
          "output_type": "display_data",
          "data": {
            "image/png": "[encoded data removed]",
            "text/plain": [
              "<Figure size 432x288 with 1 Axes>"
            ]
          },
          "metadata": {
            "tags": [
              "id2-0-0",
              "outputarea_id2",
              "user_output"
            ],
            "needs_background": "light"
          }
        },
        {
          "output_type": "display_data",
          "data": {
            "application/javascript": [
              "window[\"2cdb06c0-06e8-11eb-986c-0242ac1c0002\"] = google.colab.output.setActiveOutputArea(window[\"2caf087c-06e8-11eb-986c-0242ac1c0002\"]);\n",
              "//# sourceURL=js_3003c7aa28"
            ],
            "text/plain": [
              "<IPython.core.display.Javascript object>"
            ]
          },
          "metadata": {
            "tags": [
              "id2-0-0",
              "outputarea_id2"
            ]
          }
        }
      ]
    },
    {
      "cell_type": "markdown",
      "metadata": {
        "id": "TbNFeFkSbXoN"
      },
      "source": [
        "If all is well, the fake and real distributions should nicely overlap after training. The discriminator has essentially pushed the fake samples towards the real distribution and the generator is now able to transform the noise distribution into a distribution of 'real' samples!\n",
        "\n",
        "**Question** Can you explain what happened to the red line during training? Why does it look like it does after training?\n",
        "\n",
        "**Question** Try training the GAN with different input noise distributions, e.g. uniform.\n",
        "\n",
        "**Question** See if you can find a distribution for the real samples for which the generator fails to generate samples."
      ]
    },
    {
      "cell_type": "markdown",
      "metadata": {
        "id": "LuZBMvf4NWvD"
      },
      "source": [
        "During training, we have stored the loss values for the discriminator and the generator. We can now plot these. Remember that for the digit classification task, we were looking for a set of parameters leading to a low loss function. \n",
        "\n",
        "**Question** The loss curves that you get look different. Can you explain why they're not nicely dropping to zero? Can you explain the loss in the discriminator based on the objective function of the discriminator?"
      ]
    },
    {
      "cell_type": "code",
      "metadata": {
        "id": "61bpDVDJNf12",
        "outputId": "7216fa81-4767-4cf2-d071-099a26003b3b",
        "colab": {
          "base_uri": "https://localhost:8080/",
          "height": 530
        }
      },
      "source": [
        "plt.figure(figsize=(10, 8))\n",
        "plt.subplot(1, 2, 1)\n",
        "plt.plot(d_losses)\n",
        "plt.title('Discriminator loss')\n",
        "plt.xlabel('Epoch')\n",
        "plt.ylabel('Loss')\n",
        "plt.subplot(1, 2, 2)\n",
        "plt.plot(g_losses)\n",
        "plt.title('Generator loss')\n",
        "plt.xlabel('Epoch')\n",
        "plt.ylabel('Loss')\n",
        "plt.legend()\n",
        "plt.show()"
      ],
      "execution_count": 11,
      "outputs": [
        {
          "output_type": "stream",
          "text": [
            "No handles with labels found to put in legend.\n"
          ],
          "name": "stderr"
        },
        {
          "output_type": "display_data",
          "data": {
            "image/png": "[encoded data removed]",
            "text/plain": [
              "<Figure size 720x576 with 2 Axes>"
            ]
          },
          "metadata": {
            "tags": [],
            "needs_background": "light"
          }
        }
      ]
    },
    {
      "cell_type": "markdown",
      "metadata": {
        "id": "dreog2u1b-iI"
      },
      "source": [
        "Although it is definitely nice that we can train two networks together to learn the distribution of a real data distribution, generating samples from a normal distribution is in itself not really interesting. Luckily, we can use the same principles to generate images."
      ]
    },
    {
      "cell_type": "markdown",
      "metadata": {
        "id": "4hq5i_sySZL1"
      },
      "source": [
        "# MNIST synthesis\n",
        "Like last week, we are again going to use MNIST data. Data preparation is the same as before."
      ]
    },
    {
      "cell_type": "code",
      "metadata": {
        "id": "CYCMGnXnFnZc",
        "outputId": "b8575378-a9c6-4332-eeb6-b653ac670003",
        "colab": {
          "base_uri": "https://localhost:8080/",
          "height": 50
        }
      },
      "source": [
        "from keras.datasets import mnist\n",
        "from keras.utils import to_categorical\n",
        "\n",
        "# load the MNIST the dataset\n",
        "(x_train, y_train), (x_test, y_test) = mnist.load_data()\n",
        "\n",
        "# scale the image intensities to the 0-1 range\n",
        "x_train = (x_train / 255.0).astype(np.float32)\n",
        "x_test = (x_test / 255.0).astype(np.float32)\n",
        "\n",
        "# convert the data to channel-last\n",
        "train_set_images = np.expand_dims(x_train, axis=-1)\n",
        "test_set_images = np.expand_dims(x_test, axis=-1)\n",
        "\n",
        "# convert the labels to one-hot encoded\n",
        "train_set_labels = to_categorical(y_train, num_classes=10)\n",
        "test_set_labels = to_categorical(y_test, num_classes=10)"
      ],
      "execution_count": 12,
      "outputs": [
        {
          "output_type": "stream",
          "text": [
            "Downloading data from https://s3.amazonaws.com/img-datasets/mnist.npz\n",
            "11493376/11490434 [==============================] - 2s 0us/step\n"
          ],
          "name": "stdout"
        }
      ]
    },
    {
      "cell_type": "markdown",
      "metadata": {
        "id": "c-5ls6CemTIX"
      },
      "source": [
        "Plot some images."
      ]
    },
    {
      "cell_type": "code",
      "metadata": {
        "id": "_0M65_8qTmOI",
        "outputId": "f3949a56-f674-4dba-8527-c3b3f9fed941",
        "colab": {
          "base_uri": "https://localhost:8080/",
          "height": 729
        }
      },
      "source": [
        "def plotImages(images, dim=(10, 10), figsize=(10, 10), title=''):\n",
        "    plt.figure(figsize=figsize)\n",
        "    for i in range(images.shape[0]):\n",
        "        plt.subplot(dim[0], dim[1], i+1)\n",
        "        plt.imshow(images[i], interpolation='nearest', cmap='gray_r')\n",
        "        plt.axis('off')\n",
        "    plt.tight_layout()\n",
        "    plt.suptitle(title)\n",
        "    plt.show()\n",
        "    \n",
        "plotImages(train_set_images[np.random.randint(0, train_set_images.shape[0], size=100)].reshape(100, 28, 28))"
      ],
      "execution_count": 13,
      "outputs": [
        {
          "output_type": "display_data",
          "data": {
            "image/png": "[encoded data removed]",
            "text/plain": [
              "<Figure size 720x720 with 100 Axes>"
            ]
          },
          "metadata": {
            "tags": [],
            "needs_background": "light"
          }
        }
      ]
    },
    {
      "cell_type": "markdown",
      "metadata": {
        "id": "qJnlR4PJSeQB"
      },
      "source": [
        "In last week's exercise you have built a discriminative model that was able to classify an image into one of ten digit categories. In this exercise, we are going to do the inverse. Given a point in a latent space (which in our case will be a multi-dimensional Gaussian distribution), we are going to train the network to generate a realistic digit image for this point. The MNIST data set will be used as a set of real samples. \n",
        "\n",
        "<img src=\"https://skymind.ai/images/wiki/GANs.png\">\n",
        "\n"
      ]
    },
    {
      "cell_type": "markdown",
      "metadata": {
        "id": "blRfoIS4Uo8-"
      },
      "source": [
        "## The discriminator\n",
        "As you can see in the image above, we will need a generator and a discriminator network. Let's define these. Consider the network that you used\n",
        "for digit classification in the previous exercise and see if you can spot some differences between that network and the network below.\n",
        "\n",
        "**Question** Is this a convolutional neural network? Why (not)?\n",
        "\n",
        "**Answer** No, since no convolution is used in this network"
      ]
    },
    {
      "cell_type": "code",
      "metadata": {
        "id": "qg36jdcyUvPF"
      },
      "source": [
        "def get_discriminator_MLP():\n",
        "  discriminator = keras.models.Sequential()\n",
        "  discriminator.add(Dense(1024, input_dim=784, kernel_initializer=keras.initializers.RandomNormal(stddev=0.02)))\n",
        "  discriminator.add(LeakyReLU(0.2))\n",
        "  discriminator.add(Dropout(0.3))\n",
        "  discriminator.add(Dense(512))\n",
        "  discriminator.add(LeakyReLU(0.2))\n",
        "  discriminator.add(Dropout(0.3))\n",
        "  discriminator.add(Dense(256))\n",
        "  discriminator.add(LeakyReLU(0.2))\n",
        "  discriminator.add(Dense(1, activation='sigmoid'))\n",
        "  return discriminator"
      ],
      "execution_count": 17,
      "outputs": []
    },
    {
      "cell_type": "markdown",
      "metadata": {
        "id": "0KYxSSbBQ28g"
      },
      "source": [
        "You could argue that digits are a bit more complex than samples from a Gaussian distribution, so let's set the latent space dimensionality for noise sampling a bit higher than 1."
      ]
    },
    {
      "cell_type": "code",
      "metadata": {
        "id": "MmCVJxAmQ6nE"
      },
      "source": [
        "latent_dim = 10"
      ],
      "execution_count": 18,
      "outputs": []
    },
    {
      "cell_type": "markdown",
      "metadata": {
        "id": "5BGSHlx-VmVY"
      },
      "source": [
        "\n",
        "## The generator\n",
        "\n",
        "The generator is different than the discriminator. It should go from a low-dimensional noise vector to an MNIST image."
      ]
    },
    {
      "cell_type": "code",
      "metadata": {
        "id": "fEjxnxAwVukq"
      },
      "source": [
        "def get_generator_MLP():\n",
        "  generator = keras.models.Sequential()\n",
        "  generator.add(Dense(256, input_dim=latent_dim, kernel_initializer=keras.initializers.RandomNormal(stddev=0.02)))\n",
        "  generator.add(LeakyReLU(0.2))\n",
        "  generator.add(Dense(512))\n",
        "  generator.add(LeakyReLU(0.2))\n",
        "  generator.add(Dense(1024))\n",
        "  generator.add(LeakyReLU(0.2))\n",
        "  generator.add(Dense(784, activation='tanh'))\n",
        "  return generator"
      ],
      "execution_count": 20,
      "outputs": []
    },
    {
      "cell_type": "markdown",
      "metadata": {
        "id": "nAUU4F7OQxO0"
      },
      "source": [
        "**Question** Consider the activation functions of the output layers of the generator and discriminator networks. How are they different?\n",
        "\n",
        "**Answer** Both network use LeakyReLU as an activation function. The disciminator uses a sigmoid activation in the last dense layer and the generator a tanh function. The tanh function provides stronger gradients, which is needed to generate an image from the latent space. **TWIJFEL**\n",
        "\n",
        "**Question** Also look at the activation functions of the other layers, can you find out what they do? Look at the Keras documentation.\n",
        "\n",
        "**Answer** Leaky ReLU allows a gradient when the unit is positive and a small positive gradient when it is negative"
      ]
    },
    {
      "cell_type": "markdown",
      "metadata": {
        "id": "NH_4zv4gnYhg"
      },
      "source": [
        "## The model\n",
        "Now  let's combine the generator and the discriminator. We train both using a binary crossentropy objective. This is very similar to what we did before."
      ]
    },
    {
      "cell_type": "code",
      "metadata": {
        "id": "2dR_iHzXXHjb"
      },
      "source": [
        "discriminator = get_discriminator_MLP()\n",
        "generator = get_generator_MLP()\n",
        "\n",
        "discriminator.compile(loss='binary_crossentropy', optimizer=keras.optimizers.Adam(lr=0.0002, beta_1=0.5))\n",
        "generator.compile(loss='binary_crossentropy', optimizer=keras.optimizers.Adam(lr=0.0002, beta_1=0.5))\n",
        "\n",
        "discriminator.trainable = False\n",
        "z = keras.layers.Input(shape=(latent_dim,))\n",
        "G_z = generator(z)\n",
        "D_G_z = discriminator(G_z)\n",
        "gan = keras.models.Model(inputs=z, outputs=D_G_z)\n",
        "gan.compile(loss='binary_crossentropy', optimizer=keras.optimizers.Adam(lr=0.0002, beta_1=0.5))"
      ],
      "execution_count": 21,
      "outputs": []
    },
    {
      "cell_type": "markdown",
      "metadata": {
        "id": "fRMLacRF_RXo"
      },
      "source": [
        "Some helper functions."
      ]
    },
    {
      "cell_type": "code",
      "metadata": {
        "id": "MPXzOrqYZqmN"
      },
      "source": [
        "def saveModels(epoch):\n",
        "    generator.save('gan_generator_epoch_{}.h5'.format(epoch))\n",
        "    discriminator.save('gan_discriminator_epoch_{}.h5'.format(epoch))\n",
        "    \n",
        "def plotGeneratedImages(epoch, examples=100, dim=(10, 10), figsize=(10, 10)):\n",
        "    noise = np.random.normal(0, 1, size=[examples, latent_dim])\n",
        "    generatedImages = generator.predict(noise)\n",
        "    generatedImages = generatedImages.reshape(examples, 28, 28)\n",
        "\n",
        "    plt.figure(figsize=figsize)\n",
        "    for i in range(generatedImages.shape[0]):\n",
        "        plt.subplot(dim[0], dim[1], i+1)\n",
        "        plt.imshow(generatedImages[i], interpolation='nearest', cmap='gray_r')\n",
        "        plt.axis('off')\n",
        "    plt.tight_layout()\n",
        "    plt.suptitle('Epoch {}'.format(epoch))\n",
        "    plt.show()"
      ],
      "execution_count": 22,
      "outputs": []
    },
    {
      "cell_type": "markdown",
      "metadata": {
        "id": "aSJGSyUOmxCN"
      },
      "source": [
        "Run the code below to train the GAN model. Synthesized images should be shown periodically. "
      ]
    },
    {
      "cell_type": "code",
      "metadata": {
        "id": "eYInR4WkXj_g",
        "outputId": "f75f21e8-9ea2-4843-9432-fbe53f2093c2",
        "colab": {
          "base_uri": "https://localhost:8080/",
          "height": 34
        }
      },
      "source": [
        "d_losses = []\n",
        "g_losses = []\n",
        "\n",
        "epochs = 200\n",
        "batch_size = 128\n",
        "\n",
        "X_train = (train_set_images.reshape(60000, 784).astype(np.float32) - 0.5)/0.5\n",
        "\n",
        "batch_count = int(X_train.shape[0] / batch_size)\n",
        "for e in range(epochs):\n",
        "  for _ in range(batch_count):\n",
        "\n",
        "    # Get a random set of input noise and images\n",
        "    noise = np.random.normal(0, 1, size=[batch_size, latent_dim])\n",
        "    image_batch = X_train[np.random.randint(0, X_train.shape[0], size=batch_size)]\n",
        "\n",
        "    # Generate some fake MNIST images using the generator\n",
        "    generated_images = generator.predict(noise)\n",
        "\n",
        "    # Concatenate the fake and real images\n",
        "    X = np.concatenate([image_batch, generated_images])\n",
        "\n",
        "    # Labels for generated and real data\n",
        "    y_dis = np.zeros(2*batch_size)\n",
        "    # One-sided label smoothing\n",
        "    y_dis[:batch_size] = 0.9\n",
        "\n",
        "    # Train discriminator with this batch of samples\n",
        "    discriminator.trainable = True\n",
        "    d_loss = discriminator.train_on_batch(X, y_dis)\n",
        "\n",
        "    # Train generator with a new batch of generated samples\n",
        "    noise = np.random.normal(0, 1, size=[batch_size, latent_dim])\n",
        "\n",
        "    # From the generator's perspective, the discriminator should predict\n",
        "    # ones for all samples\n",
        "    y_gen = np.ones(batch_size)\n",
        "\n",
        "    # Freeze the discriminator part\n",
        "    discriminator.trainable = False\n",
        "\n",
        "    # Train the GAN to predict ones\n",
        "    g_loss = gan.train_on_batch(noise, y_gen)\n",
        "\n",
        "  # Store loss of most recent batch from this epoch\n",
        "  d_losses.append(d_loss)\n",
        "  g_losses.append(g_loss)\n",
        "\n",
        "  if e % 5 == 0:\n",
        "    noise = np.random.normal(0, 1, size=[100, latent_dim])\n",
        "    plotGeneratedImages(e)\n",
        "    display.display(plt.gcf())\n",
        "    display.clear_output(wait=True)\n",
        "    time.sleep(0.001)\n",
        "    saveModels(e)\n",
        "\n"
      ],
      "execution_count": 23,
      "outputs": [
        {
          "output_type": "display_data",
          "data": {
            "text/plain": [
              "<Figure size 432x288 with 0 Axes>"
            ]
          },
          "metadata": {
            "tags": []
          }
        }
      ]
    },
    {
      "cell_type": "code",
      "metadata": {
        "id": "nj6sJUkqINVV",
        "outputId": "23572f98-d3d5-477c-9a80-06543d37a0c3",
        "colab": {
          "base_uri": "https://localhost:8080/",
          "height": 312
        }
      },
      "source": [
        "plt.plot(d_losses, label = \"Generator\")\n",
        "plt.plot(g_losses, label = \"Discriminator\")\n",
        "plt.title(\"Loss\")\n",
        "plt.legend()\n",
        "plt.xlabel(\"epoch\")\n",
        "plt.ylabel(\"loss\")"
      ],
      "execution_count": 31,
      "outputs": [
        {
          "output_type": "execute_result",
          "data": {
            "text/plain": [
              "Text(0, 0.5, 'loss')"
            ]
          },
          "metadata": {
            "tags": []
          },
          "execution_count": 31
        },
        {
          "output_type": "display_data",
          "data": {
            "image/png": "[encoded data removed]",
            "text/plain": [
              "<Figure size 432x288 with 1 Axes>"
            ]
          },
          "metadata": {
            "tags": [],
            "needs_background": "light"
          }
        }
      ]
    },
    {
      "cell_type": "markdown",
      "metadata": {
        "id": "RkAQZ1-uA1SQ"
      },
      "source": [
        "**Question** Inspect the loss curves for this model and explain what happens.\n",
        "\n",
        "**Answer** The loss curves of both the generator and the discriminator converge to one value"
      ]
    },
    {
      "cell_type": "markdown",
      "metadata": {
        "id": "p7MFDUeHSgQ-"
      },
      "source": [
        "## A convolutional model\n",
        "Thus far the discriminator and generator were both multilayer perceptrons. Now we're going to add in some convolutional layers to turn them into a deep convolutional GAN (<a href=\"http://arxiv.org/abs/1511.06434\">DCGAN</a>)-like architecture. This means that we have to redefine the generator network and a discriminator network. \n",
        "\n",
        "The discriminator network is (almost) the same network that we used in last week's exercise."
      ]
    },
    {
      "cell_type": "code",
      "metadata": {
        "id": "bccrTGP0SiVJ"
      },
      "source": [
        "from keras.layers.convolutional import Conv2D, UpSampling2D\n",
        "\n",
        "def get_discriminator_CNN():\n",
        "  discriminator = keras.models.Sequential()\n",
        "  discriminator.add(Conv2D(64, kernel_size=(5, 5), strides=(2, 2), padding='same', input_shape=(1, 28, 28), kernel_initializer=keras.initializers.RandomNormal(stddev=0.02)))\n",
        "  discriminator.add(LeakyReLU(0.2))\n",
        "  discriminator.add(Dropout(0.3))\n",
        "  discriminator.add(Conv2D(128, kernel_size=(5, 5), strides=(2, 2), padding='same'))\n",
        "  discriminator.add(LeakyReLU(0.2))\n",
        "  discriminator.add(Dropout(0.3))\n",
        "  discriminator.add(Flatten())\n",
        "  discriminator.add(Dense(1, activation='sigmoid'))\n",
        "  return discriminator\n",
        "\n",
        "def get_generator_CNN():\n",
        "  generator = keras.models.Sequential()\n",
        "  generator.add(Dense(128*7*7, input_dim=latent_dim, kernel_initializer=keras.initializers.RandomNormal(stddev=0.02)))\n",
        "  generator.add(LeakyReLU(0.2))\n",
        "  generator.add(Reshape((128, 7, 7)))\n",
        "  generator.add(UpSampling2D(size=(2, 2)))\n",
        "  generator.add(Conv2D(64, kernel_size=(5, 5), padding='same'))\n",
        "  generator.add(LeakyReLU(0.2))\n",
        "  generator.add(UpSampling2D(size=(2, 2)))\n",
        "  generator.add(Conv2D(1, kernel_size=(5, 5), padding='same', activation='tanh'))\n",
        "  return generator"
      ],
      "execution_count": null,
      "outputs": []
    },
    {
      "cell_type": "markdown",
      "metadata": {
        "id": "JSKkoosKAwrh"
      },
      "source": [
        "Let's build our model like before."
      ]
    },
    {
      "cell_type": "code",
      "metadata": {
        "id": "mu8rmKcoGAPb"
      },
      "source": [
        "discriminator = get_discriminator_CNN()\n",
        "generator = get_generator_CNN()\n",
        "\n",
        "discriminator.compile(loss='binary_crossentropy', optimizer=keras.optimizers.Adam(lr=0.0002, beta_1=0.5))\n",
        "generator.compile(loss='binary_crossentropy', optimizer=keras.optimizers.Adam(lr=0.0002, beta_1=0.5))\n",
        "\n",
        "discriminator.trainable = False\n",
        "z = keras.layers.Input(shape=(latent_dim,))\n",
        "x = generator(z)\n",
        "D_G_z = discriminator(x)\n",
        "gan = keras.models.Model(inputs=z, outputs=D_G_z)\n",
        "gan.compile(loss='binary_crossentropy', optimizer=keras.optimizers.Adam(lr=0.0002, beta_1=0.5))"
      ],
      "execution_count": null,
      "outputs": []
    },
    {
      "cell_type": "markdown",
      "metadata": {
        "id": "Ojox3HxJnVDF"
      },
      "source": [
        "Train the model using the code below. Inspect the samples that come out. \n",
        "\n",
        "**Question** What are some differences between these samples and the ones generated by the multilayer perceptron GAN? Can you explain these differences?"
      ]
    },
    {
      "cell_type": "code",
      "metadata": {
        "id": "k79EFqsgWz0l"
      },
      "source": [
        "d_losses = []\n",
        "g_losses = []\n",
        "\n",
        "epochs = 200\n",
        "batch_size = 128\n",
        "\n",
        "X_train = (train_set_images.reshape(60000, 1, 28, 28).astype(np.float32) - 0.5)/0.5\n",
        "\n",
        "batch_count = int(X_train.shape[0] / batch_size)\n",
        "for e in range(epochs):\n",
        "  for _ in range(batch_count):\n",
        "    # Get a random set of input noise and images\n",
        "    noise = np.random.normal(0, 1, size=[batch_size, latent_dim])\n",
        "    image_batch = X_train[np.random.randint(0, X_train.shape[0], size=batch_size)]\n",
        "\n",
        "    # Generate some fake MNIST images using the generator\n",
        "    generated_images = generator.predict(noise)\n",
        "\n",
        "    # Concatenate the fake and real images\n",
        "    X = np.concatenate([image_batch, generated_images])\n",
        "\n",
        "    # Labels for generated and real data\n",
        "    y_dis = np.zeros(2*batch_size)\n",
        "    # Set reference to 1 for real samples\n",
        "    y_dis[:batch_size] = 1\n",
        "\n",
        "    # Train discriminator with this batch of samples\n",
        "    discriminator.trainable = True\n",
        "    d_loss = discriminator.train_on_batch(X, y_dis)\n",
        "\n",
        "    # Train generator with a new batch of generated samples\n",
        "    noise = np.random.normal(0, 1, size=[batch_size, latent_dim])\n",
        "\n",
        "    # From the generator's perspective, the discriminator should predict\n",
        "    # ones for all samples\n",
        "    y_gen = np.ones(batch_size)\n",
        "\n",
        "    # Freeze the discriminator part\n",
        "    discriminator.trainable = False\n",
        "\n",
        "    # Train the GAN to predict ones\n",
        "    g_loss = gan.train_on_batch(noise, y_gen)\n",
        "\n",
        "    # Store loss of most recent batch from this epoch\n",
        "  d_losses.append(d_loss)\n",
        "  g_losses.append(g_loss)\n",
        "\n",
        "  if e % 5 == 0:\n",
        "    noise = np.random.normal(0, 1, size=[100, latent_dim])\n",
        "    generatedImages = generator.predict(noise)\n",
        "    generatedImages = generatedImages.reshape(100, 28, 28)          \n",
        "    plotImages(generatedImages, title='Epoch {}'.format(e))\n",
        "    display.display(plt.gcf())\n",
        "    display.clear_output(wait=True)\n",
        "    time.sleep(0.001)    \n",
        "    saveModels(e)"
      ],
      "execution_count": null,
      "outputs": []
    },
    {
      "cell_type": "markdown",
      "metadata": {
        "id": "jmtZkf5AnW6y"
      },
      "source": [
        "## Interpolation in the latent space\n",
        "We're going to explore the latent space a bit more. We pick two points in the latent space and make a linear interpolation between these two. Then we generate images from each of the interpolated latent points. "
      ]
    },
    {
      "cell_type": "code",
      "metadata": {
        "id": "_NlTG4FBkNpC"
      },
      "source": [
        "noise_a = np.random.normal(0, 1, size=[1, latent_dim])\n",
        "noise_b = np.random.normal(0, 1, size=[1, latent_dim])\n",
        "\n",
        "noise = np.zeros((10, latent_dim), dtype='float32')\n",
        "for ni in range(10):\n",
        "  noise[ni, :] = float(ni)/10. * noise_a + (1 - float(ni)/10.) * noise_b\n",
        "generatedImages = generator.predict(noise)\n",
        "generatedImages = generatedImages.reshape(10, 28, 28)          \n",
        "plotImages(generatedImages, dim=(1, 10), figsize=(10, 10))"
      ],
      "execution_count": null,
      "outputs": []
    },
    {
      "cell_type": "markdown",
      "metadata": {
        "id": "JxkznblanlBO"
      },
      "source": [
        "**Question** Explain what you see in this plot.\n",
        "\n",
        "**Question** What happens when you extrapolate out of the latent space distribution? Consider how the noise vectors are drawn.\n"
      ]
    },
    {
      "cell_type": "markdown",
      "metadata": {
        "id": "dEjdfhRZsUGR"
      },
      "source": [
        "# Histopathology image synthesis"
      ]
    },
    {
      "cell_type": "markdown",
      "metadata": {
        "id": "MhUnPg2sYitQ"
      },
      "source": [
        "Now we're going to synthesize some actual images. We're going to use the PatchCamelyon data set ([more info here](https://github.com/basveeling/pcam)) which consists of small images that can be used for classification benchmarks. Today, we're not going to classify images, but we're going to synthesize them. You can download a data set of smaller (28 x 28 pixels) versions of these images from \n",
        "[this link](https://drive.google.com/file/d/11tkBWleY6PqFAGQHW0zYOwhvuz0kq-ai/view?usp=sharing). Upload the data set in the dialog below."
      ]
    },
    {
      "cell_type": "code",
      "metadata": {
        "id": "fMGM8sLhsbWh"
      },
      "source": [
        "uploaded = files.upload()"
      ],
      "execution_count": null,
      "outputs": []
    },
    {
      "cell_type": "markdown",
      "metadata": {
        "id": "lE8OlCi-ZKFf"
      },
      "source": [
        "Now load the data set."
      ]
    },
    {
      "cell_type": "code",
      "metadata": {
        "id": "NfJIE29rFYUA"
      },
      "source": [
        "def loadPatchCamelyon(path):    \n",
        "    f = gzip.open(path, 'rb')\n",
        "    train_set = pickle.load(f, encoding='latin1')\n",
        "    f.close()\n",
        "    return train_set"
      ],
      "execution_count": null,
      "outputs": []
    },
    {
      "cell_type": "code",
      "metadata": {
        "id": "WP1Eho1U1oMX"
      },
      "source": [
        "train_set_images = loadPatchCamelyon(r'valid_28.pkl.gz')\n",
        "\n",
        "def plotImagesPatchCamelyon(images, dim=(10, 10), figsize=(10, 10), title=''):\n",
        "    plt.figure(figsize=figsize)\n",
        "    for i in range(images.shape[0]):\n",
        "        plt.subplot(dim[0], dim[1], i+1)\n",
        "        plt.imshow(images[i], interpolation='nearest')\n",
        "        plt.axis('off')\n",
        "    plt.tight_layout()\n",
        "    plt.suptitle(title)\n",
        "    plt.show()\n",
        "    \n",
        "    \n",
        "plotImagesPatchCamelyon(train_set_images[np.random.randint(0, train_set_images.shape[0], size=100)].reshape(100, 28, 28, 3)/255.0)"
      ],
      "execution_count": null,
      "outputs": []
    },
    {
      "cell_type": "markdown",
      "metadata": {
        "id": "iQzcCZ_hZNbH"
      },
      "source": [
        "What do you immediately notice? Indeed, these images are in color! So the generator will have to generate three output channels instead of just one. \n",
        "\n",
        "In this second-to-last part of the practical you're going to repurpose the code that you have used so far to synthesize histopathology images like the ones above. You can play around a bit with this, see what happens when you interpolate between samples, etc. Remember that there is a final 'exercise' below.\n",
        "\n",
        "**Good luck!**"
      ]
    },
    {
      "cell_type": "code",
      "metadata": {
        "id": "UCm1R35fSVlw"
      },
      "source": [
        "## YOUR CODE GOES HERE"
      ],
      "execution_count": null,
      "outputs": []
    },
    {
      "cell_type": "markdown",
      "metadata": {
        "id": "S8CchPs2kIVT"
      },
      "source": [
        "# Conditional image synthesis"
      ]
    },
    {
      "cell_type": "markdown",
      "metadata": {
        "id": "RBALpqMLFPt2"
      },
      "source": [
        "## The BigGAN model\n",
        "The images we have synthesized so far are all quite small. Synthesis of larger images (e.g. 512 x 512 pixels) typically requires a lot of compute power and patience. Unfortunately, you don't have 100s of GPU at your disposal (I guess) to train a model like BigGAN, the state of the art in conditional image synthesis. A wild guess is that it would cost you around [USD60000](https://twitter.com/quasimondo/status/1065610256917692416) to train this model.\n",
        "\n",
        "Luckily, the authors of BigGAN have put a version of their pretrained model online and you can use it to synthesize images. Go to [this Colaboratory file](https://colab.research.google.com/github/tensorflow/hub/blob/master/examples/colab/biggan_generation_with_tf_hub.ipynb) and answer the following questions.\n",
        "\n",
        "**Question** What happens when you change the noise seed? Also try out different categories.\n",
        "\n",
        "**Question** What happens to your samples when you change the truncation value? More precisely, what happens to the diversity and the quality of your samples? Take a look at the [paper on arXiv](https://arxiv.org/abs/1809.11096) Sec. 3.1 to get an idea what this value does.\n",
        "\n",
        "**Question** Interpolate between image categories, inspect what these look like. \n",
        "\n",
        "\n"
      ]
    },
    {
      "cell_type": "markdown",
      "metadata": {
        "id": "dqKCNciykQ-2"
      },
      "source": [
        "## Conditional MNIST synthesis\n",
        "For all MNIST samples we already have labels (0, 1, ..., n). Try to change the MNIST synthesis code such that you can ask the generator to generate specific labels. I.e., try to train a conditional GAN. You can look for some inspiration in [this paper](https://arxiv.org/pdf/1411.1784.pdf), in particular Sec. 4.1. Remember that you already got the MNIST labels when loading the data set."
      ]
    },
    {
      "cell_type": "markdown",
      "metadata": {
        "id": "VBQvHB70RjZi"
      },
      "source": [
        "# Pretrained models\n",
        "\n",
        "You can download some pre-trained generator models for the GAN training exercises from [this link](https://filesender.surf.nl/?s=download&token=475362bb-4098-4376-979b-b0d3ae9e3dd0), but of course it's much more interesting to train them yourself. Use \n",
        "\n",
        "\n",
        "```\n",
        "generator = keras.models.load_model(filename)\n",
        "```\n",
        "\n",
        "to load the model.\n"
      ]
    }
  ]
}