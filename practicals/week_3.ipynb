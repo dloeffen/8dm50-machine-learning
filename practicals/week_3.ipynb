{
 "cells": [
  {
   "cell_type": "markdown",
   "metadata": {},
   "source": [
    "# Preliminaries\n",
    "\n",
    "The `pandas` library allows the user several data structures for different data manipulation tasks:\n",
    "1. Data storage through its `Series` and `DataFrame` data structures.\n",
    "2. Data filtering using multiple methods from the package.\n",
    "3. Reading data from many different file formats such as `csv`, `txt`, `xlsx`, ...\n",
    "\n",
    "Below we provide a brief overview of the `pandas` functionalities needed for these exercises. The complete documentation can be found on the [`pandas` website](https://pandas.pydata.org/).\n",
    "\n",
    "## Pandas data structures\n",
    "\n",
    "### Series\n",
    "The Pandas Series data structure is similar to a one-dimensional array. It can store any type of data. The values are mutable but the size not.\n",
    "\n",
    "To create `Series`, we call the `pd.Series()` method and pass an array. A `Series` may also be created from a numpy array."
   ]
  },
  {
   "cell_type": "code",
   "execution_count": 1,
   "metadata": {
    "tags": []
   },
   "outputs": [
    {
     "output_type": "stream",
     "name": "stdout",
     "text": "0       1\n1      10\n2     100\n3    1000\ndtype: int64\n\n\n0          PSV\n1         Ajax\n2    Feyenoord\n3       Twente\ndtype: object\n"
    }
   ],
   "source": [
    "import pandas as pd\n",
    "import numpy as np\n",
    "\n",
    "first_series = pd.Series([1,10,100,1000])\n",
    "\n",
    "print(first_series)\n",
    "\n",
    "teams = np.array(['PSV','Ajax','Feyenoord','Twente'])\n",
    "second_series = pd.Series(teams)\n",
    "\n",
    "print('\\n')\n",
    "print(second_series)"
   ]
  },
  {
   "cell_type": "markdown",
   "metadata": {},
   "source": [
    "### DataFrame\n",
    "One can think of a `DataFrame` as a table with rows and columns (2D structure). The columns can be of a different type (as opposed to `numpy` arrays) and the size of the `DataFrame` is mutable.\n",
    "\n",
    "To create `DataFrame`, we call the `pd.DataFrame()` method and we can create it from scratch or we can convert a numpy array or a list into a `DataFrame`."
   ]
  },
  {
   "cell_type": "code",
   "execution_count": 2,
   "metadata": {
    "tags": []
   },
   "outputs": [
    {
     "output_type": "stream",
     "name": "stdout",
     "text": "From scratch: \n    Position       Team  GF  GA  Points\n0         1        PSV  80  30      79\n1         2       Ajax  75  25      78\n2         3  Feyenoord  75  40      70\n3         4     Twente  70  60      66 \n\nFrom list: \n   Position       Team  GF  GA Points\n0        1        PSV  80  30     79\n1        2       Ajax  75  25     78\n2        3  Feyenoord  75  40     70\n3        4     Twente  70  60     66 \n\nFrom numpy array: \n   Position       Team  GF  GA Points\n0        1        PSV  80  30     79\n1        2       Ajax  75  25     78\n2        3  Feyenoord  75  40     70\n3        4     Twente  70  60     66 \n\n"
    }
   ],
   "source": [
    "# DataFrame from scratch\n",
    "first_dataframe = pd.DataFrame({\n",
    "    \"Position\": [1, 2, 3, 4],\n",
    "    \"Team\": ['PSV','Ajax','Feyenoord','Twente'],\n",
    "    \"GF\": [80, 75, 75, 70],\n",
    "    \"GA\": [30, 25, 40, 60],\n",
    "    \"Points\": [79, 78, 70, 66]\n",
    "})\n",
    "\n",
    "print(\"From scratch: \\n {} \\n\".format(first_dataframe))\n",
    "\n",
    "# DataFrme from a list\n",
    "data = [[1, 2, 3, 4], ['PSV','Ajax','Feyenoord','Twente'], \n",
    "        [80, 75, 75, 70], [30, 25, 40, 60], [79, 78, 70, 66]]\n",
    "columns = [\"Position\", \"Team\", \"GF\", \"GA\", \"Points\"]\n",
    "\n",
    "second_dataframe = pd.DataFrame(data, index=columns)\n",
    "\n",
    "print(\"From list: \\n {} \\n\".format(second_dataframe.T)) # the '.T' operator is explained later on\n",
    "\n",
    "# DataFrame from numpy array\n",
    "data = np.array([[1, 2, 3, 4], ['PSV','Ajax','Feyenoord','Twente'], \n",
    "                 [80, 75, 75, 70], [30, 25, 40, 60], [79, 78, 70, 66]])\n",
    "columns = [\"Position\", \"Team\", \"GF\", \"GA\", \"Points\"]\n",
    "\n",
    "third_dataframe = pd.DataFrame(data.T, columns=columns)\n",
    "\n",
    "print(\"From numpy array: \\n {} \\n\".format(third_dataframe))"
   ]
  },
  {
   "cell_type": "markdown",
   "metadata": {},
   "source": [
    "### DataFrame attributes\n",
    "This section gives a quick overview of some of the `pandas.DataFrame` attributes such as `T`, `index`, `columns`, `iloc`, `loc`, `shape` and `values`."
   ]
  },
  {
   "cell_type": "code",
   "execution_count": 3,
   "metadata": {
    "tags": []
   },
   "outputs": [
    {
     "output_type": "stream",
     "name": "stdout",
     "text": "            0     1          2       3\nPosition    1     2          3       4\nTeam      PSV  Ajax  Feyenoord  Twente\nGF         80    75         75      70\nGA         30    25         40      60\nPoints     79    78         70      66\n"
    }
   ],
   "source": [
    "# transpose the index and columns\n",
    "print(third_dataframe.T)"
   ]
  },
  {
   "cell_type": "code",
   "execution_count": 4,
   "metadata": {
    "tags": []
   },
   "outputs": [
    {
     "output_type": "stream",
     "name": "stdout",
     "text": "RangeIndex(start=0, stop=4, step=1)\n"
    }
   ],
   "source": [
    "# index makes reference to the row labels\n",
    "print(third_dataframe.index)"
   ]
  },
  {
   "cell_type": "code",
   "execution_count": 5,
   "metadata": {
    "tags": []
   },
   "outputs": [
    {
     "output_type": "stream",
     "name": "stdout",
     "text": "Index(['Position', 'Team', 'GF', 'GA', 'Points'], dtype='object')\n"
    }
   ],
   "source": [
    "# columns makes reference to the column labels\n",
    "print(third_dataframe.columns)"
   ]
  },
  {
   "cell_type": "code",
   "execution_count": 6,
   "metadata": {
    "tags": []
   },
   "outputs": [
    {
     "output_type": "stream",
     "name": "stdout",
     "text": "0          PSV\n1         Ajax\n2    Feyenoord\n3       Twente\nName: Team, dtype: object\n"
    }
   ],
   "source": [
    "# iloc allows to access the index by integer-location (e.g. all team names, which are in the second columm)\n",
    "print(third_dataframe.iloc[:,1])"
   ]
  },
  {
   "cell_type": "code",
   "execution_count": 7,
   "metadata": {
    "tags": []
   },
   "outputs": [
    {
     "output_type": "stream",
     "name": "stdout",
     "text": "PSV\n"
    }
   ],
   "source": [
    "# loc allows to access the index by label(s)-location (e.g. all team names, which are in the \"Team\" columm)\n",
    "print(third_dataframe.loc[0, 'Team'])"
   ]
  },
  {
   "cell_type": "code",
   "execution_count": 8,
   "metadata": {
    "tags": []
   },
   "outputs": [
    {
     "output_type": "stream",
     "name": "stdout",
     "text": "(4, 5)\n"
    }
   ],
   "source": [
    "# shape returns a tuple with the DataFrame dimension, similar to numpy\n",
    "print(third_dataframe.shape)"
   ]
  },
  {
   "cell_type": "code",
   "execution_count": 9,
   "metadata": {
    "tags": []
   },
   "outputs": [
    {
     "output_type": "stream",
     "name": "stdout",
     "text": "[['1' 'PSV' '80' '30' '79']\n ['2' 'Ajax' '75' '25' '78']\n ['3' 'Feyenoord' '75' '40' '70']\n ['4' 'Twente' '70' '60' '66']]\n"
    }
   ],
   "source": [
    "# values return a Numpy representation of the DataFrame data\n",
    "print(third_dataframe.values)"
   ]
  },
  {
   "cell_type": "markdown",
   "metadata": {},
   "source": [
    "### DataFrame methods\n",
    "This section gives a quick overview of some of the `pandas.DataFrame` methods such as `head`, `describe`, `concat`, `groupby`,`rename`, `filter`, `drop` and `isna`. To import data from CSV or MS Excel files, we can make use of `read_csv` and `read_excel`, respectively."
   ]
  },
  {
   "cell_type": "code",
   "execution_count": 10,
   "metadata": {
    "tags": []
   },
   "outputs": [
    {
     "output_type": "stream",
     "name": "stdout",
     "text": "  Position       Team  GF  GA Points\n0        1        PSV  80  30     79\n1        2       Ajax  75  25     78\n2        3  Feyenoord  75  40     70\n3        4     Twente  70  60     66\n"
    }
   ],
   "source": [
    "# print the first few rows in your dataset with head()\n",
    "print(third_dataframe.head()) # In this case, it is not very useful because we don't have thousands of rows"
   ]
  },
  {
   "cell_type": "code",
   "execution_count": 11,
   "metadata": {
    "tags": []
   },
   "outputs": [
    {
     "output_type": "stream",
     "name": "stdout",
     "text": "       Position Team  GF  GA Points\ncount         4    4   4   4      4\nunique        4    4   3   4      4\ntop           2  PSV  75  25     79\nfreq          1    1   2   1      1\n"
    }
   ],
   "source": [
    "# get the summary statistics of the DataFrame with describe()\n",
    "print(third_dataframe.describe())"
   ]
  },
  {
   "cell_type": "code",
   "execution_count": 12,
   "metadata": {
    "tags": []
   },
   "outputs": [
    {
     "output_type": "stream",
     "name": "stdout",
     "text": "  Position  Team  GF  GA Points\n0        1   PSV  80  30     79\n1        2  Ajax  75  25     78\n\n\n  Position       Team  GF  GA Points\n2        3  Feyenoord  75  40     70\n3        4     Twente  70  60     66\n\n\n  Position       Team  GF  GA Points\n0        1        PSV  80  30     79\n1        2       Ajax  75  25     78\n2        3  Feyenoord  75  40     70\n3        4     Twente  70  60     66\n"
    }
   ],
   "source": [
    "# concatenate (join) DataFrame objects using concat()\n",
    "\n",
    "# first, we will split the above DataFrame in two different ones\n",
    "df_a = third_dataframe.loc[[0,1],:]\n",
    "df_b = third_dataframe.loc[[2,3],:]\n",
    "\n",
    "print(df_a)\n",
    "print('\\n')\n",
    "\n",
    "print(df_b)\n",
    "print('\\n')\n",
    "\n",
    "# now, we concatenate both datasets\n",
    "df = pd.concat([df_a, df_b])\n",
    "\n",
    "print(df)"
   ]
  },
  {
   "cell_type": "code",
   "execution_count": 13,
   "metadata": {
    "tags": []
   },
   "outputs": [
    {
     "output_type": "stream",
     "name": "stdout",
     "text": "  Position       Team  GF  GA Points\n1        2       Ajax  75  25     78\n2        3  Feyenoord  75  40     70\n"
    }
   ],
   "source": [
    "# group the data by certain variable via groupby()\n",
    "# here, we have grouped the data by goals for, which in this case is 75\n",
    "\n",
    "group = df.groupby('GF')\n",
    "\n",
    "print(group.get_group('75'))"
   ]
  },
  {
   "cell_type": "code",
   "execution_count": 14,
   "metadata": {
    "tags": []
   },
   "outputs": [
    {
     "output_type": "stream",
     "name": "stdout",
     "text": "  Pos       Club  GF  GA Points\n0   1        PSV  80  30     79\n1   2       Ajax  75  25     78\n2   3  Feyenoord  75  40     70\n3   4     Twente  70  60     66\n"
    }
   ],
   "source": [
    "# rename() helps you change the column or index names\n",
    "print(df.rename(columns={'Position':'Pos','Team':'Club'}))"
   ]
  },
  {
   "cell_type": "code",
   "execution_count": 15,
   "metadata": {
    "tags": []
   },
   "outputs": [
    {
     "output_type": "stream",
     "name": "stdout",
     "text": "        Team Points\n0        PSV     79\n1       Ajax     78\n2  Feyenoord     70\n3     Twente     66\n"
    }
   ],
   "source": [
    "# build a subset of rows or columns of your dataset according to labels via filter()\n",
    "# here, items refer to the variable names: 'Team' and 'Points'; to select columns, we specify axis=1\n",
    "print(df.filter(items=['Team', 'Points'], axis=1))"
   ]
  },
  {
   "cell_type": "code",
   "execution_count": 16,
   "metadata": {
    "tags": []
   },
   "outputs": [
    {
     "output_type": "stream",
     "name": "stdout",
     "text": "  Position       Team Points\n0        1        PSV     79\n1        2       Ajax     78\n2        3  Feyenoord     70\n3        4     Twente     66\n"
    }
   ],
   "source": [
    "# dropping some labels\n",
    "print(df.drop(columns=['GF', 'GA']))"
   ]
  },
  {
   "cell_type": "code",
   "execution_count": 17,
   "metadata": {
    "tags": []
   },
   "outputs": [
    {
     "output_type": "stream",
     "name": "stdout",
     "text": "   Position   Team     GF     GA  Points\n0     False  False  False  False   False\n1     False  False  False  False   False\n2     False  False  False  False   False\n3     False  False  False  False   False\n\n\n  Position       Team  GF  GA Points     W\n0        1        PSV  80  30     79   NaN\n1        2       Ajax  75  25     78  25.0\n2        3  Feyenoord  75  40     70  24.0\n3        4     Twente  70  60     66  19.0\n\n\n   Position   Team     GF     GA  Points      W\n0     False  False  False  False   False   True\n1     False  False  False  False   False  False\n2     False  False  False  False   False  False\n3     False  False  False  False   False  False\n"
    }
   ],
   "source": [
    "# search for NA (not available) entries in the DataFrame\n",
    "print(df.isna()) # No NA values\n",
    "print('\\n')\n",
    "\n",
    "# create a pandas Series with a NA value\n",
    "# the Series as W (winnin matches)\n",
    "tmp = pd.Series([np.NaN, 25, 24, 19],  name=\"W\")\n",
    "\n",
    "# concatenate the Series with the DataFrame\n",
    "df = pd.concat([df,tmp], axis = 1)\n",
    "print(df)\n",
    "print('\\n')\n",
    "\n",
    "# again, check for NA entries\n",
    "print(df.isna())"
   ]
  },
  {
   "cell_type": "markdown",
   "metadata": {},
   "source": [
    "## Dataset\n",
    "\n",
    "For this week exercises we will use a dataset from the Genomics of Drug Sensitivity in Cancer (GDSC) project (https://www.cancerrxgene.org/). In this study (['Iorio et al., Cell, 2016']()), 265 compounds were tested on 1001 cancer cell lines for which different types of -omics data (RNA expression, DNA methylation, Copy Number Alteration, DNA sequencing) are available. This is a valuable resource to look for biomarkers of drugs sensitivity in order to try to understand why cancer patients responds very differently to cancer drugs and find ways to assign the optimal treatment to each patient.\n",
    "\n",
    "For this exercise we will use a subset of the data, focusing the response to the drug YM155 (Sepantronium bromide) on four cancer types, for a total of 148 cancer cell lines.\n",
    "\n",
    "| ID          | Cancer type                      |\n",
    "|-------------|----------------------------------|\n",
    "|   COAD/READ | Colorectal adenocarcinoma        |\n",
    "|   NB        | Neuroblastoma                    |\n",
    "|   KIRC      | Kidney renal clear cell carcinoma|\n",
    "|   BRCA      | Breast carcinoma                 |\n",
    "\n",
    "We will use the RNA expression data (RMA normalised). Only genes with high variability across cell lines (variance > 5, resulting in 238 genes) have been kept.\n",
    "\n",
    "Drugs have been tested at different concentration, measuring each time the viability of the cells. Drug sensitivity is measured using the natural log of the fitted IC50 metric, which is defined as the half maximal inhibitory concentration. A lower IC50 corresponds to a more sensitive cell line because a lower amount of drug is sufficient to have a strong response, while a higher IC50 corresponds to a more resistant cell line because more drug is needed for killing the cells.\n",
    "\n",
    "Based on the IC50 metric, cells can be classified as sensitive or resistant. The classification is done by computing the $z$-score across all cell lines in the GDSC for each drug, and considering as sensitive the ones with $z$-score < 0 and resistant the ones with $z$-score > 0.\n",
    "\n",
    "The dataset is originally provided as 3 files ([original source](https://www.sciencedirect.com/science/article/pii/S0092867416307462?via%3Dihub)) :\n",
    "\n",
    "`GDSC_RNA_expression.csv`: gene expression matrix with the cell lines in the rows (148) and the genes in the columns (238).\n",
    "\n",
    "`GDSC_drug_response.csv`: vector with the cell lines response to the drug YM155 in terms of log(IC50) and as classification in sensitive or resistant.\n",
    "\n",
    "`GDSC_metadata.csv`: metadata for the 148 cell lines including name, COSMIC ID and tumor type (using the classification from ['The Cancer Genome Atlas TCGA'](https://www.cancer.gov/about-nci/organization/ccg/research/structural-genomics/tcga))\n",
    "\n",
    "For convenience, we provide the data already curated.\n",
    "\n",
    "`RNA_expression_curated.csv`: [148 cell lines , 238 genes]\n",
    "\n",
    "`drug_response_curated.csv`: [148 cell lines , YM155 drug]\n",
    "\n",
    "The curated data cam be read as `pandas` `DataFrame`s in the following way:"
   ]
  },
  {
   "cell_type": "code",
   "execution_count": 18,
   "metadata": {},
   "outputs": [],
   "source": [
    "import pandas as pd\n",
    "\n",
    "gene_expression = pd.read_csv(\"./data/RNA_expression_curated.csv\", sep=',', header=0, index_col=0)\n",
    "drug_response = pd.read_csv(\"./data/drug_response_curated.csv\", sep=',', header=0, index_col=0)"
   ]
  },
  {
   "cell_type": "markdown",
   "metadata": {},
   "source": [
    "You can use the `DataFrame`s directly as inputs to the the `sklearn` models. The advantage over using `numpy` arrays is that the variable are annotated, i.e. each input and output has a name."
   ]
  },
  {
   "cell_type": "markdown",
   "metadata": {},
   "source": [
    "## Tools\n",
    "The `scikit-learn` library provides the required tools for linear regression/classification and shrinkage, as well as for logistic regression."
   ]
  },
  {
   "cell_type": "code",
   "execution_count": 19,
   "metadata": {},
   "outputs": [],
   "source": [
    "from sklearn.linear_model import LinearRegression\n",
    "from sklearn.linear_model import Ridge\n",
    "from sklearn.linear_model import Lasso\n",
    "from sklearn.linear_model import LogisticRegression"
   ]
  },
  {
   "cell_type": "markdown",
   "metadata": {},
   "source": [
    "Note that the notation used for the hyperparameters in the `scikit-learn` library is different from the one used in the lecture. More specifically, in the lecture $\\alpha$ is the tunable parameter to select the compromise between Ridge and Lasso. Whereas, `scikit-learn` library refers to `alpha` as the tunable parameter $\\lambda$. Please check the documentation for more details."
   ]
  },
  {
   "cell_type": "markdown",
   "metadata": {},
   "source": [
    "# Exercises\n",
    "\n",
    "## Selection of the hyperparameter\n",
    "\n",
    "Implement cross-validation (using `sklearn.grid_search.GridSearchCV`) to select the `alpha` hyperparameter of `sklearn.linear_model.Lasso`. \n",
    "\n",
    "\n"
   ]
  },
  {
   "cell_type": "code",
   "execution_count": 20,
   "metadata": {
    "tags": []
   },
   "outputs": [
    {
     "output_type": "stream",
     "name": "stdout",
     "text": "(148, 238)\n(148, 1)\n"
    }
   ],
   "source": [
    "print(gene_expression.shape)\n",
    "print(drug_response.shape)"
   ]
  },
  {
   "cell_type": "code",
   "execution_count": 21,
   "metadata": {
    "tags": []
   },
   "outputs": [
    {
     "output_type": "stream",
     "name": "stdout",
     "text": "(111, 238)\n(37, 238)\n(111, 1)\n(37, 1)\n"
    }
   ],
   "source": [
    "from sklearn.model_selection import train_test_split \n",
    "\n",
    "# Create train/test split\n",
    "X_train, X_test, y_train, y_test = train_test_split(gene_expression, drug_response, random_state=0)\n",
    "\n",
    "# And check their shapes\n",
    "print(X_train.shape)\n",
    "print(X_test.shape)\n",
    "print(y_train.shape)\n",
    "print(y_test.shape)"
   ]
  },
  {
   "cell_type": "code",
   "execution_count": 22,
   "metadata": {
    "tags": []
   },
   "outputs": [
    {
     "output_type": "stream",
     "name": "stdout",
     "text": "Fitting 5 folds for each of 50 candidates, totalling 250 fits\n[Parallel(n_jobs=1)]: Using backend SequentialBackend with 1 concurrent workers.\nFinal model Pipeline(steps=[('scaler', StandardScaler()),\n                ('lasso',\n                 Lasso(alpha=0.3906939937054613, max_iter=100000,\n                       random_state=0))])\nFinal parameters {'lasso__alpha': 0.3906939937054613}\n[Parallel(n_jobs=1)]: Done 250 out of 250 | elapsed:  1.9min finished\n"
    }
   ],
   "source": [
    "from sklearn.linear_model import Lasso\n",
    "from sklearn.model_selection import GridSearchCV\n",
    "from sklearn.preprocessing import StandardScaler\n",
    "from sklearn.pipeline import Pipeline\n",
    "\n",
    "import numpy as np\n",
    "\n",
    "# Create a pipeline\n",
    "# It was tried with max_iter at default, at 10 000 and it finally converged at 100 000\n",
    "model = Pipeline([\n",
    "    (\"scaler\", StandardScaler()),\n",
    "    (\"lasso\", Lasso(random_state=0, max_iter=100000))\n",
    "])\n",
    "\n",
    "# Create possible values for alpha ranging from 10^(-10) untill 10^(0)\n",
    "alphas = np.logspace(-4, 0, 50)\n",
    "\n",
    "# Create the parameter space\n",
    "model_param_grid = {\n",
    "    'lasso__alpha': alphas\n",
    "}\n",
    "\n",
    "# instantiate GridSearchCV\n",
    "#TODO: is this a good scoring measure as the target is a log metric\n",
    "search = GridSearchCV(\n",
    "    model,\n",
    "    model_param_grid,\n",
    "    cv=5,\n",
    "    scoring='neg_mean_squared_error', \n",
    "    verbose=1\n",
    ")\n",
    "\n",
    "# and find optimal alpha\n",
    "search.fit(X_train,y_train)\n",
    "\n",
    "# print best estimator\n",
    "final_model = search.best_estimator_\n",
    "print('Final model', final_model)\n",
    "\n",
    "final_para = search.best_params_\n",
    "print('Final parameters', final_para)"
   ]
  },
  {
   "cell_type": "code",
   "execution_count": 23,
   "metadata": {
    "tags": []
   },
   "outputs": [
    {
     "output_type": "stream",
     "name": "stdout",
     "text": "Number of inputs: 238\n[-0.          0.         -0.          0.          0.         -0.\n  0.         -0.          0.          0.          0.         -0.\n  0.          0.         -0.          0.06075558 -0.          0.\n  0.         -0.          0.03053573  0.         -0.          0.\n  0.77406895  0.          0.         -0.          0.         -0.\n  0.          0.         -0.         -0.          0.          0.\n -0.          0.         -0.          0.         -0.          0.\n  0.          0.          0.         -0.         -0.         -0.\n -0.         -0.          0.          0.          0.          0.\n  0.         -0.          0.          0.         -0.          0.\n  0.          0.         -0.          0.         -0.          0.\n  0.         -0.         -0.          0.          0.          0.\n -0.         -0.         -0.         -0.         -0.          0.\n  0.         -0.         -0.         -0.          0.         -0.\n -0.         -0.          0.          0.         -0.         -0.\n  0.          0.          0.         -0.         -0.          0.\n -0.         -0.          0.          0.         -0.         -0.\n -0.         -0.         -0.03822052  0.          0.          0.\n  0.         -0.          0.         -0.         -0.          0.\n  0.          0.         -0.         -0.         -0.         -0.\n  0.          0.          0.          0.         -0.         -0.\n  0.         -0.          0.          0.02840577  0.         -0.\n -0.         -0.          0.         -0.         -0.          0.\n  0.         -0.         -0.          0.         -0.          0.\n -0.          0.          0.         -0.          0.         -0.\n -0.         -0.          0.         -0.         -0.          0.\n -0.         -0.          0.         -0.          0.          0.\n  0.          0.18736647 -0.         -0.          0.         -0.\n -0.          0.         -0.          0.          0.         -0.\n -0.         -0.         -0.         -0.          0.         -0.\n -0.          0.         -0.          0.          0.          0.\n  0.          0.          0.          0.          0.          0.\n  0.         -0.         -0.          0.         -0.         -0.\n  0.          0.         -0.         -0.          0.         -0.\n  0.          0.          0.          0.          0.         -0.\n -0.          0.         -0.          0.         -0.          0.\n -0.         -0.          0.00801853  0.          0.          0.\n  0.          0.          0.          0.          0.          0.\n  0.         -0.         -0.          0.          0.         -0.\n -0.          0.          0.          0.        ]\n"
    }
   ],
   "source": [
    "# Print the final coefficients\n",
    "print(\"Number of inputs: {}\".format(len(final_model['lasso'].coef_)))\n",
    "print(final_model['lasso'].coef_)"
   ]
  },
  {
   "cell_type": "markdown",
   "metadata": {},
   "source": [
    "## Feature selection\n",
    "\n",
    "Look at the features selected using the hyperparameter which corresponds to the minimum cross-validation error.\n",
    "\n",
    "<p><font color='#770a0a'>Is the partition in training and validation sets playing a role in the selection of the hyperparameter? How will this affect the selection of the relevant features?</font></p>\n",
    "\n",
    "The hyperparameter is optimized to the given data. Because the training set contains a part of the data it will be optimized to that specific part. So if the training data set is changed, it might lead to a different outcome for the hyperparameter. A smaller alpha will change the lasso coefficients so that it is more similar to a linear regression and a larger alpha will make more coefficients equal to 0. So a smaller alpha will lead to a larger selection of relevant features and a larger alpha a smaller selection of relevant features\n",
    "\n",
    "\n",
    "<p><font color='#770a0a'>Should the value of the intercept also be shrunk to zero with Lasso and Ridge regression? Motivate your answer.</font></p>\n",
    "\n",
    "Only if the regression will go through the origin, meaning that if x = 0 then y = 0 as well. This is not the expected relationship between RNA expression and drug response, so in this case the intercept shouldn't be shrunk to zero.\n"
   ]
  },
  {
   "cell_type": "code",
   "execution_count": 24,
   "metadata": {
    "tags": []
   },
   "outputs": [
    {
     "output_type": "stream",
     "name": "stdout",
     "text": "Best coeff 0.7740689512473753\n"
    },
    {
     "output_type": "execute_result",
     "data": {
      "text/plain": "<AxesSubplot:xlabel='ABCB1', ylabel='CDX2'>"
     },
     "metadata": {},
     "execution_count": 24
    },
    {
     "output_type": "display_data",
     "data": {
      "text/plain": "<Figure size 432x288 with 1 Axes>",
      "image/svg+xml": "<?xml version=\"1.0\" encoding=\"utf-8\" standalone=\"no\"?>\r\n<!DOCTYPE svg PUBLIC \"-//W3C//DTD SVG 1.1//EN\"\r\n  \"http://www.w3.org/Graphics/SVG/1.1/DTD/svg11.dtd\">\r\n<!-- Created with matplotlib (https://matplotlib.org/) -->\r\n<svg height=\"262.19625pt\" version=\"1.1\" viewBox=\"0 0 383.422906 262.19625\" width=\"383.422906pt\" xmlns=\"http://www.w3.org/2000/svg\" xmlns:xlink=\"http://www.w3.org/1999/xlink\">\r\n <metadata>\r\n  <rdf:RDF xmlns:cc=\"http://creativecommons.org/ns#\" xmlns:dc=\"http://purl.org/dc/elements/1.1/\" xmlns:rdf=\"http://www.w3.org/1999/02/22-rdf-syntax-ns#\">\r\n   <cc:Work>\r\n    <dc:type rdf:resource=\"http://purl.org/dc/dcmitype/StillImage\"/>\r\n    <dc:date>2020-09-28T15:41:56.537784</dc:date>\r\n    <dc:format>image/svg+xml</dc:format>\r\n    <dc:creator>\r\n     <cc:Agent>\r\n      <dc:title>Matplotlib v3.3.1, https://matplotlib.org/</dc:title>\r\n     </cc:Agent>\r\n    </dc:creator>\r\n   </cc:Work>\r\n  </rdf:RDF>\r\n </metadata>\r\n <defs>\r\n  <style type=\"text/css\">*{stroke-linecap:butt;stroke-linejoin:round;}</style>\r\n </defs>\r\n <g id=\"figure_1\">\r\n  <g id=\"patch_1\">\r\n   <path d=\"M 0 262.19625 \r\nL 383.422906 262.19625 \r\nL 383.422906 0 \r\nL 0 0 \r\nz\r\n\" style=\"fill:none;\"/>\r\n  </g>\r\n  <g id=\"axes_1\">\r\n   <g id=\"patch_2\">\r\n    <path d=\"M 40.603125 224.64 \r\nL 375.403125 224.64 \r\nL 375.403125 7.2 \r\nL 40.603125 7.2 \r\nz\r\n\" style=\"fill:#ffffff;\"/>\r\n   </g>\r\n   <g id=\"PathCollection_1\">\r\n    <defs>\r\n     <path d=\"M 0 2.236068 \r\nC 0.593012 2.236068 1.161816 2.000462 1.581139 1.581139 \r\nC 2.000462 1.161816 2.236068 0.593012 2.236068 0 \r\nC 2.236068 -0.593012 2.000462 -1.161816 1.581139 -1.581139 \r\nC 1.161816 -2.000462 0.593012 -2.236068 0 -2.236068 \r\nC -0.593012 -2.236068 -1.161816 -2.000462 -1.581139 -1.581139 \r\nC -2.000462 -1.161816 -2.236068 -0.593012 -2.236068 0 \r\nC -2.236068 0.593012 -2.000462 1.161816 -1.581139 1.581139 \r\nC -1.161816 2.000462 -0.593012 2.236068 0 2.236068 \r\nz\r\n\" id=\"m41b3cce857\" style=\"stroke:#1f77b4;\"/>\r\n    </defs>\r\n    <g clip-path=\"url(#pb48fb0ad99)\">\r\n     <use style=\"fill:#1f77b4;stroke:#1f77b4;\" x=\"232.491757\" xlink:href=\"#m41b3cce857\" y=\"203.427688\"/>\r\n     <use style=\"fill:#1f77b4;stroke:#1f77b4;\" x=\"60.309617\" xlink:href=\"#m41b3cce857\" y=\"209.115065\"/>\r\n     <use style=\"fill:#1f77b4;stroke:#1f77b4;\" x=\"60.241598\" xlink:href=\"#m41b3cce857\" y=\"206.428662\"/>\r\n     <use style=\"fill:#1f77b4;stroke:#1f77b4;\" x=\"136.055713\" xlink:href=\"#m41b3cce857\" y=\"91.053815\"/>\r\n     <use style=\"fill:#1f77b4;stroke:#1f77b4;\" x=\"257.979998\" xlink:href=\"#m41b3cce857\" y=\"68.373679\"/>\r\n     <use style=\"fill:#1f77b4;stroke:#1f77b4;\" x=\"80.167299\" xlink:href=\"#m41b3cce857\" y=\"210.166493\"/>\r\n     <use style=\"fill:#1f77b4;stroke:#1f77b4;\" x=\"71.205372\" xlink:href=\"#m41b3cce857\" y=\"212.66477\"/>\r\n     <use style=\"fill:#1f77b4;stroke:#1f77b4;\" x=\"73.743508\" xlink:href=\"#m41b3cce857\" y=\"205.675543\"/>\r\n     <use style=\"fill:#1f77b4;stroke:#1f77b4;\" x=\"210.588317\" xlink:href=\"#m41b3cce857\" y=\"206.886302\"/>\r\n     <use style=\"fill:#1f77b4;stroke:#1f77b4;\" x=\"67.268639\" xlink:href=\"#m41b3cce857\" y=\"211.780008\"/>\r\n     <use style=\"fill:#1f77b4;stroke:#1f77b4;\" x=\"74.528676\" xlink:href=\"#m41b3cce857\" y=\"207.880782\"/>\r\n     <use style=\"fill:#1f77b4;stroke:#1f77b4;\" x=\"71.151246\" xlink:href=\"#m41b3cce857\" y=\"212.147387\"/>\r\n     <use style=\"fill:#1f77b4;stroke:#1f77b4;\" x=\"293.584924\" xlink:href=\"#m41b3cce857\" y=\"69.498914\"/>\r\n     <use style=\"fill:#1f77b4;stroke:#1f77b4;\" x=\"70.832226\" xlink:href=\"#m41b3cce857\" y=\"202.496757\"/>\r\n     <use style=\"fill:#1f77b4;stroke:#1f77b4;\" x=\"70.665533\" xlink:href=\"#m41b3cce857\" y=\"205.715725\"/>\r\n     <use style=\"fill:#1f77b4;stroke:#1f77b4;\" x=\"57.513716\" xlink:href=\"#m41b3cce857\" y=\"204.256036\"/>\r\n     <use style=\"fill:#1f77b4;stroke:#1f77b4;\" x=\"65.759123\" xlink:href=\"#m41b3cce857\" y=\"92.672999\"/>\r\n     <use style=\"fill:#1f77b4;stroke:#1f77b4;\" x=\"109.635302\" xlink:href=\"#m41b3cce857\" y=\"159.052303\"/>\r\n     <use style=\"fill:#1f77b4;stroke:#1f77b4;\" x=\"246.647723\" xlink:href=\"#m41b3cce857\" y=\"84.597484\"/>\r\n     <use style=\"fill:#1f77b4;stroke:#1f77b4;\" x=\"319.857439\" xlink:href=\"#m41b3cce857\" y=\"203.387279\"/>\r\n     <use style=\"fill:#1f77b4;stroke:#1f77b4;\" x=\"130.182649\" xlink:href=\"#m41b3cce857\" y=\"203.926642\"/>\r\n     <use style=\"fill:#1f77b4;stroke:#1f77b4;\" x=\"116.907333\" xlink:href=\"#m41b3cce857\" y=\"208.303912\"/>\r\n     <use style=\"fill:#1f77b4;stroke:#1f77b4;\" x=\"153.685271\" xlink:href=\"#m41b3cce857\" y=\"83.757362\"/>\r\n     <use style=\"fill:#1f77b4;stroke:#1f77b4;\" x=\"64.778401\" xlink:href=\"#m41b3cce857\" y=\"213.663506\"/>\r\n     <use style=\"fill:#1f77b4;stroke:#1f77b4;\" x=\"86.498918\" xlink:href=\"#m41b3cce857\" y=\"205.38893\"/>\r\n     <use style=\"fill:#1f77b4;stroke:#1f77b4;\" x=\"319.553748\" xlink:href=\"#m41b3cce857\" y=\"17.083636\"/>\r\n     <use style=\"fill:#1f77b4;stroke:#1f77b4;\" x=\"67.431203\" xlink:href=\"#m41b3cce857\" y=\"207.346476\"/>\r\n     <use style=\"fill:#1f77b4;stroke:#1f77b4;\" x=\"283.739142\" xlink:href=\"#m41b3cce857\" y=\"79.86109\"/>\r\n     <use style=\"fill:#1f77b4;stroke:#1f77b4;\" x=\"72.890553\" xlink:href=\"#m41b3cce857\" y=\"206.510842\"/>\r\n     <use style=\"fill:#1f77b4;stroke:#1f77b4;\" x=\"76.128958\" xlink:href=\"#m41b3cce857\" y=\"158.604023\"/>\r\n     <use style=\"fill:#1f77b4;stroke:#1f77b4;\" x=\"220.684613\" xlink:href=\"#m41b3cce857\" y=\"210.062692\"/>\r\n     <use style=\"fill:#1f77b4;stroke:#1f77b4;\" x=\"96.28895\" xlink:href=\"#m41b3cce857\" y=\"212.312029\"/>\r\n     <use style=\"fill:#1f77b4;stroke:#1f77b4;\" x=\"199.480968\" xlink:href=\"#m41b3cce857\" y=\"58.116377\"/>\r\n     <use style=\"fill:#1f77b4;stroke:#1f77b4;\" x=\"177.37706\" xlink:href=\"#m41b3cce857\" y=\"142.399381\"/>\r\n     <use style=\"fill:#1f77b4;stroke:#1f77b4;\" x=\"61.699334\" xlink:href=\"#m41b3cce857\" y=\"209.695289\"/>\r\n     <use style=\"fill:#1f77b4;stroke:#1f77b4;\" x=\"296.426074\" xlink:href=\"#m41b3cce857\" y=\"211.450813\"/>\r\n     <use style=\"fill:#1f77b4;stroke:#1f77b4;\" x=\"235.704712\" xlink:href=\"#m41b3cce857\" y=\"206.998519\"/>\r\n     <use style=\"fill:#1f77b4;stroke:#1f77b4;\" x=\"66.812901\" xlink:href=\"#m41b3cce857\" y=\"208.932517\"/>\r\n     <use style=\"fill:#1f77b4;stroke:#1f77b4;\" x=\"95.083484\" xlink:href=\"#m41b3cce857\" y=\"210.673996\"/>\r\n     <use style=\"fill:#1f77b4;stroke:#1f77b4;\" x=\"198.133522\" xlink:href=\"#m41b3cce857\" y=\"107.747994\"/>\r\n     <use style=\"fill:#1f77b4;stroke:#1f77b4;\" x=\"73.060366\" xlink:href=\"#m41b3cce857\" y=\"211.362103\"/>\r\n     <use style=\"fill:#1f77b4;stroke:#1f77b4;\" x=\"66.008208\" xlink:href=\"#m41b3cce857\" y=\"211.063489\"/>\r\n     <use style=\"fill:#1f77b4;stroke:#1f77b4;\" x=\"234.701518\" xlink:href=\"#m41b3cce857\" y=\"106.611478\"/>\r\n     <use style=\"fill:#1f77b4;stroke:#1f77b4;\" x=\"275.513689\" xlink:href=\"#m41b3cce857\" y=\"82.375067\"/>\r\n     <use style=\"fill:#1f77b4;stroke:#1f77b4;\" x=\"63.269242\" xlink:href=\"#m41b3cce857\" y=\"205.738542\"/>\r\n     <use style=\"fill:#1f77b4;stroke:#1f77b4;\" x=\"61.84689\" xlink:href=\"#m41b3cce857\" y=\"209.813575\"/>\r\n     <use style=\"fill:#1f77b4;stroke:#1f77b4;\" x=\"64.987503\" xlink:href=\"#m41b3cce857\" y=\"214.756364\"/>\r\n     <use style=\"fill:#1f77b4;stroke:#1f77b4;\" x=\"277.946537\" xlink:href=\"#m41b3cce857\" y=\"211.991811\"/>\r\n     <use style=\"fill:#1f77b4;stroke:#1f77b4;\" x=\"245.692587\" xlink:href=\"#m41b3cce857\" y=\"209.485058\"/>\r\n     <use style=\"fill:#1f77b4;stroke:#1f77b4;\" x=\"62.874749\" xlink:href=\"#m41b3cce857\" y=\"185.347041\"/>\r\n     <use style=\"fill:#1f77b4;stroke:#1f77b4;\" x=\"225.042705\" xlink:href=\"#m41b3cce857\" y=\"209.166644\"/>\r\n     <use style=\"fill:#1f77b4;stroke:#1f77b4;\" x=\"65.403814\" xlink:href=\"#m41b3cce857\" y=\"206.583788\"/>\r\n     <use style=\"fill:#1f77b4;stroke:#1f77b4;\" x=\"67.967986\" xlink:href=\"#m41b3cce857\" y=\"206.73134\"/>\r\n     <use style=\"fill:#1f77b4;stroke:#1f77b4;\" x=\"67.668028\" xlink:href=\"#m41b3cce857\" y=\"206.240369\"/>\r\n     <use style=\"fill:#1f77b4;stroke:#1f77b4;\" x=\"70.156989\" xlink:href=\"#m41b3cce857\" y=\"154.362294\"/>\r\n     <use style=\"fill:#1f77b4;stroke:#1f77b4;\" x=\"218.924024\" xlink:href=\"#m41b3cce857\" y=\"207.088001\"/>\r\n     <use style=\"fill:#1f77b4;stroke:#1f77b4;\" x=\"231.307675\" xlink:href=\"#m41b3cce857\" y=\"210.019136\"/>\r\n     <use style=\"fill:#1f77b4;stroke:#1f77b4;\" x=\"67.846317\" xlink:href=\"#m41b3cce857\" y=\"206.373226\"/>\r\n     <use style=\"fill:#1f77b4;stroke:#1f77b4;\" x=\"68.009632\" xlink:href=\"#m41b3cce857\" y=\"135.103651\"/>\r\n     <use style=\"fill:#1f77b4;stroke:#1f77b4;\" x=\"241.236368\" xlink:href=\"#m41b3cce857\" y=\"212.266569\"/>\r\n     <use style=\"fill:#1f77b4;stroke:#1f77b4;\" x=\"71.553025\" xlink:href=\"#m41b3cce857\" y=\"202.15179\"/>\r\n     <use style=\"fill:#1f77b4;stroke:#1f77b4;\" x=\"120.828479\" xlink:href=\"#m41b3cce857\" y=\"189.290489\"/>\r\n     <use style=\"fill:#1f77b4;stroke:#1f77b4;\" x=\"69.183864\" xlink:href=\"#m41b3cce857\" y=\"166.398253\"/>\r\n     <use style=\"fill:#1f77b4;stroke:#1f77b4;\" x=\"68.534647\" xlink:href=\"#m41b3cce857\" y=\"170.995376\"/>\r\n     <use style=\"fill:#1f77b4;stroke:#1f77b4;\" x=\"118.88801\" xlink:href=\"#m41b3cce857\" y=\"87.751938\"/>\r\n     <use style=\"fill:#1f77b4;stroke:#1f77b4;\" x=\"59.320937\" xlink:href=\"#m41b3cce857\" y=\"206.616958\"/>\r\n     <use style=\"fill:#1f77b4;stroke:#1f77b4;\" x=\"57.26674\" xlink:href=\"#m41b3cce857\" y=\"207.059829\"/>\r\n     <use style=\"fill:#1f77b4;stroke:#1f77b4;\" x=\"71.478975\" xlink:href=\"#m41b3cce857\" y=\"157.753684\"/>\r\n     <use style=\"fill:#1f77b4;stroke:#1f77b4;\" x=\"298.556626\" xlink:href=\"#m41b3cce857\" y=\"93.361824\"/>\r\n     <use style=\"fill:#1f77b4;stroke:#1f77b4;\" x=\"140.553483\" xlink:href=\"#m41b3cce857\" y=\"210.451902\"/>\r\n     <use style=\"fill:#1f77b4;stroke:#1f77b4;\" x=\"291.974375\" xlink:href=\"#m41b3cce857\" y=\"201.344306\"/>\r\n     <use style=\"fill:#1f77b4;stroke:#1f77b4;\" x=\"71.685319\" xlink:href=\"#m41b3cce857\" y=\"91.869044\"/>\r\n     <use style=\"fill:#1f77b4;stroke:#1f77b4;\" x=\"258.154713\" xlink:href=\"#m41b3cce857\" y=\"212.901947\"/>\r\n     <use style=\"fill:#1f77b4;stroke:#1f77b4;\" x=\"66.352197\" xlink:href=\"#m41b3cce857\" y=\"213.001933\"/>\r\n     <use style=\"fill:#1f77b4;stroke:#1f77b4;\" x=\"269.926485\" xlink:href=\"#m41b3cce857\" y=\"204.69323\"/>\r\n     <use style=\"fill:#1f77b4;stroke:#1f77b4;\" x=\"64.088576\" xlink:href=\"#m41b3cce857\" y=\"208.961137\"/>\r\n     <use style=\"fill:#1f77b4;stroke:#1f77b4;\" x=\"68.986584\" xlink:href=\"#m41b3cce857\" y=\"207.988776\"/>\r\n     <use style=\"fill:#1f77b4;stroke:#1f77b4;\" x=\"68.084073\" xlink:href=\"#m41b3cce857\" y=\"214.078106\"/>\r\n     <use style=\"fill:#1f77b4;stroke:#1f77b4;\" x=\"207.724792\" xlink:href=\"#m41b3cce857\" y=\"212.11779\"/>\r\n     <use style=\"fill:#1f77b4;stroke:#1f77b4;\" x=\"79.768243\" xlink:href=\"#m41b3cce857\" y=\"209.61813\"/>\r\n     <use style=\"fill:#1f77b4;stroke:#1f77b4;\" x=\"102.713131\" xlink:href=\"#m41b3cce857\" y=\"70.881064\"/>\r\n     <use style=\"fill:#1f77b4;stroke:#1f77b4;\" x=\"74.460831\" xlink:href=\"#m41b3cce857\" y=\"185.668539\"/>\r\n     <use style=\"fill:#1f77b4;stroke:#1f77b4;\" x=\"61.485558\" xlink:href=\"#m41b3cce857\" y=\"207.4679\"/>\r\n     <use style=\"fill:#1f77b4;stroke:#1f77b4;\" x=\"246.023131\" xlink:href=\"#m41b3cce857\" y=\"208.585674\"/>\r\n     <use style=\"fill:#1f77b4;stroke:#1f77b4;\" x=\"55.821307\" xlink:href=\"#m41b3cce857\" y=\"208.548668\"/>\r\n     <use style=\"fill:#1f77b4;stroke:#1f77b4;\" x=\"135.265025\" xlink:href=\"#m41b3cce857\" y=\"211.263358\"/>\r\n     <use style=\"fill:#1f77b4;stroke:#1f77b4;\" x=\"246.894638\" xlink:href=\"#m41b3cce857\" y=\"207.097188\"/>\r\n     <use style=\"fill:#1f77b4;stroke:#1f77b4;\" x=\"232.428243\" xlink:href=\"#m41b3cce857\" y=\"212.201725\"/>\r\n     <use style=\"fill:#1f77b4;stroke:#1f77b4;\" x=\"167.597372\" xlink:href=\"#m41b3cce857\" y=\"209.803845\"/>\r\n     <use style=\"fill:#1f77b4;stroke:#1f77b4;\" x=\"219.671577\" xlink:href=\"#m41b3cce857\" y=\"211.16565\"/>\r\n     <use style=\"fill:#1f77b4;stroke:#1f77b4;\" x=\"231.54791\" xlink:href=\"#m41b3cce857\" y=\"211.100631\"/>\r\n     <use style=\"fill:#1f77b4;stroke:#1f77b4;\" x=\"73.58019\" xlink:href=\"#m41b3cce857\" y=\"77.456877\"/>\r\n     <use style=\"fill:#1f77b4;stroke:#1f77b4;\" x=\"72.805669\" xlink:href=\"#m41b3cce857\" y=\"210.314082\"/>\r\n     <use style=\"fill:#1f77b4;stroke:#1f77b4;\" x=\"64.722132\" xlink:href=\"#m41b3cce857\" y=\"210.281623\"/>\r\n     <use style=\"fill:#1f77b4;stroke:#1f77b4;\" x=\"111.861204\" xlink:href=\"#m41b3cce857\" y=\"206.511618\"/>\r\n     <use style=\"fill:#1f77b4;stroke:#1f77b4;\" x=\"213.398127\" xlink:href=\"#m41b3cce857\" y=\"207.422022\"/>\r\n     <use style=\"fill:#1f77b4;stroke:#1f77b4;\" x=\"65.172017\" xlink:href=\"#m41b3cce857\" y=\"208.572508\"/>\r\n     <use style=\"fill:#1f77b4;stroke:#1f77b4;\" x=\"276.669753\" xlink:href=\"#m41b3cce857\" y=\"206.964517\"/>\r\n     <use style=\"fill:#1f77b4;stroke:#1f77b4;\" x=\"168.755523\" xlink:href=\"#m41b3cce857\" y=\"202.547028\"/>\r\n     <use style=\"fill:#1f77b4;stroke:#1f77b4;\" x=\"63.002091\" xlink:href=\"#m41b3cce857\" y=\"208.126025\"/>\r\n     <use style=\"fill:#1f77b4;stroke:#1f77b4;\" x=\"65.9802\" xlink:href=\"#m41b3cce857\" y=\"210.414707\"/>\r\n     <use style=\"fill:#1f77b4;stroke:#1f77b4;\" x=\"211.703339\" xlink:href=\"#m41b3cce857\" y=\"83.197169\"/>\r\n     <use style=\"fill:#1f77b4;stroke:#1f77b4;\" x=\"284.610347\" xlink:href=\"#m41b3cce857\" y=\"103.198658\"/>\r\n     <use style=\"fill:#1f77b4;stroke:#1f77b4;\" x=\"63.946501\" xlink:href=\"#m41b3cce857\" y=\"184.920387\"/>\r\n     <use style=\"fill:#1f77b4;stroke:#1f77b4;\" x=\"73.433867\" xlink:href=\"#m41b3cce857\" y=\"205.913518\"/>\r\n     <use style=\"fill:#1f77b4;stroke:#1f77b4;\" x=\"250.650312\" xlink:href=\"#m41b3cce857\" y=\"209.090914\"/>\r\n     <use style=\"fill:#1f77b4;stroke:#1f77b4;\" x=\"64.604688\" xlink:href=\"#m41b3cce857\" y=\"178.444905\"/>\r\n     <use style=\"fill:#1f77b4;stroke:#1f77b4;\" x=\"62.889149\" xlink:href=\"#m41b3cce857\" y=\"211.613273\"/>\r\n     <use style=\"fill:#1f77b4;stroke:#1f77b4;\" x=\"237.87055\" xlink:href=\"#m41b3cce857\" y=\"205.218592\"/>\r\n     <use style=\"fill:#1f77b4;stroke:#1f77b4;\" x=\"62.803251\" xlink:href=\"#m41b3cce857\" y=\"210.077089\"/>\r\n     <use style=\"fill:#1f77b4;stroke:#1f77b4;\" x=\"74.336105\" xlink:href=\"#m41b3cce857\" y=\"195.394903\"/>\r\n     <use style=\"fill:#1f77b4;stroke:#1f77b4;\" x=\"75.228104\" xlink:href=\"#m41b3cce857\" y=\"200.081087\"/>\r\n     <use style=\"fill:#1f77b4;stroke:#1f77b4;\" x=\"92.559712\" xlink:href=\"#m41b3cce857\" y=\"213.775537\"/>\r\n     <use style=\"fill:#1f77b4;stroke:#1f77b4;\" x=\"127.135206\" xlink:href=\"#m41b3cce857\" y=\"205.518142\"/>\r\n     <use style=\"fill:#1f77b4;stroke:#1f77b4;\" x=\"101.659786\" xlink:href=\"#m41b3cce857\" y=\"131.759956\"/>\r\n     <use style=\"fill:#1f77b4;stroke:#1f77b4;\" x=\"123.930408\" xlink:href=\"#m41b3cce857\" y=\"212.362338\"/>\r\n     <use style=\"fill:#1f77b4;stroke:#1f77b4;\" x=\"65.164862\" xlink:href=\"#m41b3cce857\" y=\"210.451411\"/>\r\n     <use style=\"fill:#1f77b4;stroke:#1f77b4;\" x=\"282.026643\" xlink:href=\"#m41b3cce857\" y=\"73.935964\"/>\r\n     <use style=\"fill:#1f77b4;stroke:#1f77b4;\" x=\"82.610199\" xlink:href=\"#m41b3cce857\" y=\"63.726392\"/>\r\n     <use style=\"fill:#1f77b4;stroke:#1f77b4;\" x=\"240.164547\" xlink:href=\"#m41b3cce857\" y=\"208.051825\"/>\r\n     <use style=\"fill:#1f77b4;stroke:#1f77b4;\" x=\"283.706778\" xlink:href=\"#m41b3cce857\" y=\"79.744183\"/>\r\n     <use style=\"fill:#1f77b4;stroke:#1f77b4;\" x=\"286.409097\" xlink:href=\"#m41b3cce857\" y=\"99.348993\"/>\r\n     <use style=\"fill:#1f77b4;stroke:#1f77b4;\" x=\"67.172814\" xlink:href=\"#m41b3cce857\" y=\"185.280017\"/>\r\n     <use style=\"fill:#1f77b4;stroke:#1f77b4;\" x=\"64.845318\" xlink:href=\"#m41b3cce857\" y=\"99.673147\"/>\r\n     <use style=\"fill:#1f77b4;stroke:#1f77b4;\" x=\"71.812392\" xlink:href=\"#m41b3cce857\" y=\"203.040219\"/>\r\n     <use style=\"fill:#1f77b4;stroke:#1f77b4;\" x=\"105.049973\" xlink:href=\"#m41b3cce857\" y=\"213.881772\"/>\r\n     <use style=\"fill:#1f77b4;stroke:#1f77b4;\" x=\"133.178422\" xlink:href=\"#m41b3cce857\" y=\"208.076733\"/>\r\n     <use style=\"fill:#1f77b4;stroke:#1f77b4;\" x=\"66.23325\" xlink:href=\"#m41b3cce857\" y=\"203.411386\"/>\r\n     <use style=\"fill:#1f77b4;stroke:#1f77b4;\" x=\"104.008106\" xlink:href=\"#m41b3cce857\" y=\"212.773214\"/>\r\n     <use style=\"fill:#1f77b4;stroke:#1f77b4;\" x=\"215.552366\" xlink:href=\"#m41b3cce857\" y=\"209.980204\"/>\r\n     <use style=\"fill:#1f77b4;stroke:#1f77b4;\" x=\"301.973674\" xlink:href=\"#m41b3cce857\" y=\"84.85508\"/>\r\n     <use style=\"fill:#1f77b4;stroke:#1f77b4;\" x=\"174.138684\" xlink:href=\"#m41b3cce857\" y=\"207.283507\"/>\r\n     <use style=\"fill:#1f77b4;stroke:#1f77b4;\" x=\"309.225487\" xlink:href=\"#m41b3cce857\" y=\"66.169113\"/>\r\n     <use style=\"fill:#1f77b4;stroke:#1f77b4;\" x=\"66.40023\" xlink:href=\"#m41b3cce857\" y=\"208.964917\"/>\r\n     <use style=\"fill:#1f77b4;stroke:#1f77b4;\" x=\"253.225062\" xlink:href=\"#m41b3cce857\" y=\"201.656193\"/>\r\n     <use style=\"fill:#1f77b4;stroke:#1f77b4;\" x=\"192.487131\" xlink:href=\"#m41b3cce857\" y=\"207.771642\"/>\r\n     <use style=\"fill:#1f77b4;stroke:#1f77b4;\" x=\"62.871278\" xlink:href=\"#m41b3cce857\" y=\"212.501428\"/>\r\n     <use style=\"fill:#1f77b4;stroke:#1f77b4;\" x=\"84.753859\" xlink:href=\"#m41b3cce857\" y=\"76.529357\"/>\r\n     <use style=\"fill:#1f77b4;stroke:#1f77b4;\" x=\"60.893751\" xlink:href=\"#m41b3cce857\" y=\"204.83909\"/>\r\n     <use style=\"fill:#1f77b4;stroke:#1f77b4;\" x=\"68.405429\" xlink:href=\"#m41b3cce857\" y=\"208.618984\"/>\r\n     <use style=\"fill:#1f77b4;stroke:#1f77b4;\" x=\"226.746318\" xlink:href=\"#m41b3cce857\" y=\"209.938654\"/>\r\n     <use style=\"fill:#1f77b4;stroke:#1f77b4;\" x=\"360.184943\" xlink:href=\"#m41b3cce857\" y=\"91.520339\"/>\r\n     <use style=\"fill:#1f77b4;stroke:#1f77b4;\" x=\"74.144497\" xlink:href=\"#m41b3cce857\" y=\"206.784634\"/>\r\n     <use style=\"fill:#1f77b4;stroke:#1f77b4;\" x=\"70.650229\" xlink:href=\"#m41b3cce857\" y=\"213.510819\"/>\r\n     <use style=\"fill:#1f77b4;stroke:#1f77b4;\" x=\"78.482486\" xlink:href=\"#m41b3cce857\" y=\"210.143685\"/>\r\n     <use style=\"fill:#1f77b4;stroke:#1f77b4;\" x=\"231.747229\" xlink:href=\"#m41b3cce857\" y=\"76.9783\"/>\r\n     <use style=\"fill:#1f77b4;stroke:#1f77b4;\" x=\"203.613316\" xlink:href=\"#m41b3cce857\" y=\"210.455198\"/>\r\n     <use style=\"fill:#1f77b4;stroke:#1f77b4;\" x=\"62.426084\" xlink:href=\"#m41b3cce857\" y=\"207.127886\"/>\r\n    </g>\r\n   </g>\r\n   <g id=\"matplotlib.axis_1\">\r\n    <g id=\"xtick_1\">\r\n     <g id=\"line2d_1\">\r\n      <defs>\r\n       <path d=\"M 0 0 \r\nL 0 3.5 \r\n\" id=\"m829fdc8a6c\" style=\"stroke:#000000;stroke-width:0.8;\"/>\r\n      </defs>\r\n      <g>\r\n       <use style=\"stroke:#000000;stroke-width:0.8;\" x=\"65.949715\" xlink:href=\"#m829fdc8a6c\" y=\"224.64\"/>\r\n      </g>\r\n     </g>\r\n     <g id=\"text_1\">\r\n      <!-- 3 -->\r\n      <g transform=\"translate(62.768465 239.238438)scale(0.1 -0.1)\">\r\n       <defs>\r\n        <path d=\"M 40.578125 39.3125 \r\nQ 47.65625 37.796875 51.625 33 \r\nQ 55.609375 28.21875 55.609375 21.1875 \r\nQ 55.609375 10.40625 48.1875 4.484375 \r\nQ 40.765625 -1.421875 27.09375 -1.421875 \r\nQ 22.515625 -1.421875 17.65625 -0.515625 \r\nQ 12.796875 0.390625 7.625 2.203125 \r\nL 7.625 11.71875 \r\nQ 11.71875 9.328125 16.59375 8.109375 \r\nQ 21.484375 6.890625 26.8125 6.890625 \r\nQ 36.078125 6.890625 40.9375 10.546875 \r\nQ 45.796875 14.203125 45.796875 21.1875 \r\nQ 45.796875 27.640625 41.28125 31.265625 \r\nQ 36.765625 34.90625 28.71875 34.90625 \r\nL 20.21875 34.90625 \r\nL 20.21875 43.015625 \r\nL 29.109375 43.015625 \r\nQ 36.375 43.015625 40.234375 45.921875 \r\nQ 44.09375 48.828125 44.09375 54.296875 \r\nQ 44.09375 59.90625 40.109375 62.90625 \r\nQ 36.140625 65.921875 28.71875 65.921875 \r\nQ 24.65625 65.921875 20.015625 65.03125 \r\nQ 15.375 64.15625 9.8125 62.3125 \r\nL 9.8125 71.09375 \r\nQ 15.4375 72.65625 20.34375 73.4375 \r\nQ 25.25 74.21875 29.59375 74.21875 \r\nQ 40.828125 74.21875 47.359375 69.109375 \r\nQ 53.90625 64.015625 53.90625 55.328125 \r\nQ 53.90625 49.265625 50.4375 45.09375 \r\nQ 46.96875 40.921875 40.578125 39.3125 \r\nz\r\n\" id=\"DejaVuSans-51\"/>\r\n       </defs>\r\n       <use xlink:href=\"#DejaVuSans-51\"/>\r\n      </g>\r\n     </g>\r\n    </g>\r\n    <g id=\"xtick_2\">\r\n     <g id=\"line2d_2\">\r\n      <g>\r\n       <use style=\"stroke:#000000;stroke-width:0.8;\" x=\"103.938551\" xlink:href=\"#m829fdc8a6c\" y=\"224.64\"/>\r\n      </g>\r\n     </g>\r\n     <g id=\"text_2\">\r\n      <!-- 4 -->\r\n      <g transform=\"translate(100.757301 239.238438)scale(0.1 -0.1)\">\r\n       <defs>\r\n        <path d=\"M 37.796875 64.3125 \r\nL 12.890625 25.390625 \r\nL 37.796875 25.390625 \r\nz\r\nM 35.203125 72.90625 \r\nL 47.609375 72.90625 \r\nL 47.609375 25.390625 \r\nL 58.015625 25.390625 \r\nL 58.015625 17.1875 \r\nL 47.609375 17.1875 \r\nL 47.609375 0 \r\nL 37.796875 0 \r\nL 37.796875 17.1875 \r\nL 4.890625 17.1875 \r\nL 4.890625 26.703125 \r\nz\r\n\" id=\"DejaVuSans-52\"/>\r\n       </defs>\r\n       <use xlink:href=\"#DejaVuSans-52\"/>\r\n      </g>\r\n     </g>\r\n    </g>\r\n    <g id=\"xtick_3\">\r\n     <g id=\"line2d_3\">\r\n      <g>\r\n       <use style=\"stroke:#000000;stroke-width:0.8;\" x=\"141.927388\" xlink:href=\"#m829fdc8a6c\" y=\"224.64\"/>\r\n      </g>\r\n     </g>\r\n     <g id=\"text_3\">\r\n      <!-- 5 -->\r\n      <g transform=\"translate(138.746138 239.238438)scale(0.1 -0.1)\">\r\n       <defs>\r\n        <path d=\"M 10.796875 72.90625 \r\nL 49.515625 72.90625 \r\nL 49.515625 64.59375 \r\nL 19.828125 64.59375 \r\nL 19.828125 46.734375 \r\nQ 21.96875 47.46875 24.109375 47.828125 \r\nQ 26.265625 48.1875 28.421875 48.1875 \r\nQ 40.625 48.1875 47.75 41.5 \r\nQ 54.890625 34.8125 54.890625 23.390625 \r\nQ 54.890625 11.625 47.5625 5.09375 \r\nQ 40.234375 -1.421875 26.90625 -1.421875 \r\nQ 22.3125 -1.421875 17.546875 -0.640625 \r\nQ 12.796875 0.140625 7.71875 1.703125 \r\nL 7.71875 11.625 \r\nQ 12.109375 9.234375 16.796875 8.0625 \r\nQ 21.484375 6.890625 26.703125 6.890625 \r\nQ 35.15625 6.890625 40.078125 11.328125 \r\nQ 45.015625 15.765625 45.015625 23.390625 \r\nQ 45.015625 31 40.078125 35.4375 \r\nQ 35.15625 39.890625 26.703125 39.890625 \r\nQ 22.75 39.890625 18.8125 39.015625 \r\nQ 14.890625 38.140625 10.796875 36.28125 \r\nz\r\n\" id=\"DejaVuSans-53\"/>\r\n       </defs>\r\n       <use xlink:href=\"#DejaVuSans-53\"/>\r\n      </g>\r\n     </g>\r\n    </g>\r\n    <g id=\"xtick_4\">\r\n     <g id=\"line2d_4\">\r\n      <g>\r\n       <use style=\"stroke:#000000;stroke-width:0.8;\" x=\"179.916224\" xlink:href=\"#m829fdc8a6c\" y=\"224.64\"/>\r\n      </g>\r\n     </g>\r\n     <g id=\"text_4\">\r\n      <!-- 6 -->\r\n      <g transform=\"translate(176.734974 239.238438)scale(0.1 -0.1)\">\r\n       <defs>\r\n        <path d=\"M 33.015625 40.375 \r\nQ 26.375 40.375 22.484375 35.828125 \r\nQ 18.609375 31.296875 18.609375 23.390625 \r\nQ 18.609375 15.53125 22.484375 10.953125 \r\nQ 26.375 6.390625 33.015625 6.390625 \r\nQ 39.65625 6.390625 43.53125 10.953125 \r\nQ 47.40625 15.53125 47.40625 23.390625 \r\nQ 47.40625 31.296875 43.53125 35.828125 \r\nQ 39.65625 40.375 33.015625 40.375 \r\nz\r\nM 52.59375 71.296875 \r\nL 52.59375 62.3125 \r\nQ 48.875 64.0625 45.09375 64.984375 \r\nQ 41.3125 65.921875 37.59375 65.921875 \r\nQ 27.828125 65.921875 22.671875 59.328125 \r\nQ 17.53125 52.734375 16.796875 39.40625 \r\nQ 19.671875 43.65625 24.015625 45.921875 \r\nQ 28.375 48.1875 33.59375 48.1875 \r\nQ 44.578125 48.1875 50.953125 41.515625 \r\nQ 57.328125 34.859375 57.328125 23.390625 \r\nQ 57.328125 12.15625 50.6875 5.359375 \r\nQ 44.046875 -1.421875 33.015625 -1.421875 \r\nQ 20.359375 -1.421875 13.671875 8.265625 \r\nQ 6.984375 17.96875 6.984375 36.375 \r\nQ 6.984375 53.65625 15.1875 63.9375 \r\nQ 23.390625 74.21875 37.203125 74.21875 \r\nQ 40.921875 74.21875 44.703125 73.484375 \r\nQ 48.484375 72.75 52.59375 71.296875 \r\nz\r\n\" id=\"DejaVuSans-54\"/>\r\n       </defs>\r\n       <use xlink:href=\"#DejaVuSans-54\"/>\r\n      </g>\r\n     </g>\r\n    </g>\r\n    <g id=\"xtick_5\">\r\n     <g id=\"line2d_5\">\r\n      <g>\r\n       <use style=\"stroke:#000000;stroke-width:0.8;\" x=\"217.905061\" xlink:href=\"#m829fdc8a6c\" y=\"224.64\"/>\r\n      </g>\r\n     </g>\r\n     <g id=\"text_5\">\r\n      <!-- 7 -->\r\n      <g transform=\"translate(214.723811 239.238438)scale(0.1 -0.1)\">\r\n       <defs>\r\n        <path d=\"M 8.203125 72.90625 \r\nL 55.078125 72.90625 \r\nL 55.078125 68.703125 \r\nL 28.609375 0 \r\nL 18.3125 0 \r\nL 43.21875 64.59375 \r\nL 8.203125 64.59375 \r\nz\r\n\" id=\"DejaVuSans-55\"/>\r\n       </defs>\r\n       <use xlink:href=\"#DejaVuSans-55\"/>\r\n      </g>\r\n     </g>\r\n    </g>\r\n    <g id=\"xtick_6\">\r\n     <g id=\"line2d_6\">\r\n      <g>\r\n       <use style=\"stroke:#000000;stroke-width:0.8;\" x=\"255.893897\" xlink:href=\"#m829fdc8a6c\" y=\"224.64\"/>\r\n      </g>\r\n     </g>\r\n     <g id=\"text_6\">\r\n      <!-- 8 -->\r\n      <g transform=\"translate(252.712647 239.238438)scale(0.1 -0.1)\">\r\n       <defs>\r\n        <path d=\"M 31.78125 34.625 \r\nQ 24.75 34.625 20.71875 30.859375 \r\nQ 16.703125 27.09375 16.703125 20.515625 \r\nQ 16.703125 13.921875 20.71875 10.15625 \r\nQ 24.75 6.390625 31.78125 6.390625 \r\nQ 38.8125 6.390625 42.859375 10.171875 \r\nQ 46.921875 13.96875 46.921875 20.515625 \r\nQ 46.921875 27.09375 42.890625 30.859375 \r\nQ 38.875 34.625 31.78125 34.625 \r\nz\r\nM 21.921875 38.8125 \r\nQ 15.578125 40.375 12.03125 44.71875 \r\nQ 8.5 49.078125 8.5 55.328125 \r\nQ 8.5 64.0625 14.71875 69.140625 \r\nQ 20.953125 74.21875 31.78125 74.21875 \r\nQ 42.671875 74.21875 48.875 69.140625 \r\nQ 55.078125 64.0625 55.078125 55.328125 \r\nQ 55.078125 49.078125 51.53125 44.71875 \r\nQ 48 40.375 41.703125 38.8125 \r\nQ 48.828125 37.15625 52.796875 32.3125 \r\nQ 56.78125 27.484375 56.78125 20.515625 \r\nQ 56.78125 9.90625 50.3125 4.234375 \r\nQ 43.84375 -1.421875 31.78125 -1.421875 \r\nQ 19.734375 -1.421875 13.25 4.234375 \r\nQ 6.78125 9.90625 6.78125 20.515625 \r\nQ 6.78125 27.484375 10.78125 32.3125 \r\nQ 14.796875 37.15625 21.921875 38.8125 \r\nz\r\nM 18.3125 54.390625 \r\nQ 18.3125 48.734375 21.84375 45.5625 \r\nQ 25.390625 42.390625 31.78125 42.390625 \r\nQ 38.140625 42.390625 41.71875 45.5625 \r\nQ 45.3125 48.734375 45.3125 54.390625 \r\nQ 45.3125 60.0625 41.71875 63.234375 \r\nQ 38.140625 66.40625 31.78125 66.40625 \r\nQ 25.390625 66.40625 21.84375 63.234375 \r\nQ 18.3125 60.0625 18.3125 54.390625 \r\nz\r\n\" id=\"DejaVuSans-56\"/>\r\n       </defs>\r\n       <use xlink:href=\"#DejaVuSans-56\"/>\r\n      </g>\r\n     </g>\r\n    </g>\r\n    <g id=\"xtick_7\">\r\n     <g id=\"line2d_7\">\r\n      <g>\r\n       <use style=\"stroke:#000000;stroke-width:0.8;\" x=\"293.882734\" xlink:href=\"#m829fdc8a6c\" y=\"224.64\"/>\r\n      </g>\r\n     </g>\r\n     <g id=\"text_7\">\r\n      <!-- 9 -->\r\n      <g transform=\"translate(290.701484 239.238438)scale(0.1 -0.1)\">\r\n       <defs>\r\n        <path d=\"M 10.984375 1.515625 \r\nL 10.984375 10.5 \r\nQ 14.703125 8.734375 18.5 7.8125 \r\nQ 22.3125 6.890625 25.984375 6.890625 \r\nQ 35.75 6.890625 40.890625 13.453125 \r\nQ 46.046875 20.015625 46.78125 33.40625 \r\nQ 43.953125 29.203125 39.59375 26.953125 \r\nQ 35.25 24.703125 29.984375 24.703125 \r\nQ 19.046875 24.703125 12.671875 31.3125 \r\nQ 6.296875 37.9375 6.296875 49.421875 \r\nQ 6.296875 60.640625 12.9375 67.421875 \r\nQ 19.578125 74.21875 30.609375 74.21875 \r\nQ 43.265625 74.21875 49.921875 64.515625 \r\nQ 56.59375 54.828125 56.59375 36.375 \r\nQ 56.59375 19.140625 48.40625 8.859375 \r\nQ 40.234375 -1.421875 26.421875 -1.421875 \r\nQ 22.703125 -1.421875 18.890625 -0.6875 \r\nQ 15.09375 0.046875 10.984375 1.515625 \r\nz\r\nM 30.609375 32.421875 \r\nQ 37.25 32.421875 41.125 36.953125 \r\nQ 45.015625 41.5 45.015625 49.421875 \r\nQ 45.015625 57.28125 41.125 61.84375 \r\nQ 37.25 66.40625 30.609375 66.40625 \r\nQ 23.96875 66.40625 20.09375 61.84375 \r\nQ 16.21875 57.28125 16.21875 49.421875 \r\nQ 16.21875 41.5 20.09375 36.953125 \r\nQ 23.96875 32.421875 30.609375 32.421875 \r\nz\r\n\" id=\"DejaVuSans-57\"/>\r\n       </defs>\r\n       <use xlink:href=\"#DejaVuSans-57\"/>\r\n      </g>\r\n     </g>\r\n    </g>\r\n    <g id=\"xtick_8\">\r\n     <g id=\"line2d_8\">\r\n      <g>\r\n       <use style=\"stroke:#000000;stroke-width:0.8;\" x=\"331.87157\" xlink:href=\"#m829fdc8a6c\" y=\"224.64\"/>\r\n      </g>\r\n     </g>\r\n     <g id=\"text_8\">\r\n      <!-- 10 -->\r\n      <g transform=\"translate(325.50907 239.238438)scale(0.1 -0.1)\">\r\n       <defs>\r\n        <path d=\"M 12.40625 8.296875 \r\nL 28.515625 8.296875 \r\nL 28.515625 63.921875 \r\nL 10.984375 60.40625 \r\nL 10.984375 69.390625 \r\nL 28.421875 72.90625 \r\nL 38.28125 72.90625 \r\nL 38.28125 8.296875 \r\nL 54.390625 8.296875 \r\nL 54.390625 0 \r\nL 12.40625 0 \r\nz\r\n\" id=\"DejaVuSans-49\"/>\r\n        <path d=\"M 31.78125 66.40625 \r\nQ 24.171875 66.40625 20.328125 58.90625 \r\nQ 16.5 51.421875 16.5 36.375 \r\nQ 16.5 21.390625 20.328125 13.890625 \r\nQ 24.171875 6.390625 31.78125 6.390625 \r\nQ 39.453125 6.390625 43.28125 13.890625 \r\nQ 47.125 21.390625 47.125 36.375 \r\nQ 47.125 51.421875 43.28125 58.90625 \r\nQ 39.453125 66.40625 31.78125 66.40625 \r\nz\r\nM 31.78125 74.21875 \r\nQ 44.046875 74.21875 50.515625 64.515625 \r\nQ 56.984375 54.828125 56.984375 36.375 \r\nQ 56.984375 17.96875 50.515625 8.265625 \r\nQ 44.046875 -1.421875 31.78125 -1.421875 \r\nQ 19.53125 -1.421875 13.0625 8.265625 \r\nQ 6.59375 17.96875 6.59375 36.375 \r\nQ 6.59375 54.828125 13.0625 64.515625 \r\nQ 19.53125 74.21875 31.78125 74.21875 \r\nz\r\n\" id=\"DejaVuSans-48\"/>\r\n       </defs>\r\n       <use xlink:href=\"#DejaVuSans-49\"/>\r\n       <use x=\"63.623047\" xlink:href=\"#DejaVuSans-48\"/>\r\n      </g>\r\n     </g>\r\n    </g>\r\n    <g id=\"xtick_9\">\r\n     <g id=\"line2d_9\">\r\n      <g>\r\n       <use style=\"stroke:#000000;stroke-width:0.8;\" x=\"369.860406\" xlink:href=\"#m829fdc8a6c\" y=\"224.64\"/>\r\n      </g>\r\n     </g>\r\n     <g id=\"text_9\">\r\n      <!-- 11 -->\r\n      <g transform=\"translate(363.497906 239.238438)scale(0.1 -0.1)\">\r\n       <use xlink:href=\"#DejaVuSans-49\"/>\r\n       <use x=\"63.623047\" xlink:href=\"#DejaVuSans-49\"/>\r\n      </g>\r\n     </g>\r\n    </g>\r\n    <g id=\"text_10\">\r\n     <!-- ABCB1 -->\r\n     <g transform=\"translate(191.136719 252.916563)scale(0.1 -0.1)\">\r\n      <defs>\r\n       <path d=\"M 34.1875 63.1875 \r\nL 20.796875 26.90625 \r\nL 47.609375 26.90625 \r\nz\r\nM 28.609375 72.90625 \r\nL 39.796875 72.90625 \r\nL 67.578125 0 \r\nL 57.328125 0 \r\nL 50.6875 18.703125 \r\nL 17.828125 18.703125 \r\nL 11.1875 0 \r\nL 0.78125 0 \r\nz\r\n\" id=\"DejaVuSans-65\"/>\r\n       <path d=\"M 19.671875 34.8125 \r\nL 19.671875 8.109375 \r\nL 35.5 8.109375 \r\nQ 43.453125 8.109375 47.28125 11.40625 \r\nQ 51.125 14.703125 51.125 21.484375 \r\nQ 51.125 28.328125 47.28125 31.5625 \r\nQ 43.453125 34.8125 35.5 34.8125 \r\nz\r\nM 19.671875 64.796875 \r\nL 19.671875 42.828125 \r\nL 34.28125 42.828125 \r\nQ 41.5 42.828125 45.03125 45.53125 \r\nQ 48.578125 48.25 48.578125 53.8125 \r\nQ 48.578125 59.328125 45.03125 62.0625 \r\nQ 41.5 64.796875 34.28125 64.796875 \r\nz\r\nM 9.8125 72.90625 \r\nL 35.015625 72.90625 \r\nQ 46.296875 72.90625 52.390625 68.21875 \r\nQ 58.5 63.53125 58.5 54.890625 \r\nQ 58.5 48.1875 55.375 44.234375 \r\nQ 52.25 40.28125 46.1875 39.3125 \r\nQ 53.46875 37.75 57.5 32.78125 \r\nQ 61.53125 27.828125 61.53125 20.40625 \r\nQ 61.53125 10.640625 54.890625 5.3125 \r\nQ 48.25 0 35.984375 0 \r\nL 9.8125 0 \r\nz\r\n\" id=\"DejaVuSans-66\"/>\r\n       <path d=\"M 64.40625 67.28125 \r\nL 64.40625 56.890625 \r\nQ 59.421875 61.53125 53.78125 63.8125 \r\nQ 48.140625 66.109375 41.796875 66.109375 \r\nQ 29.296875 66.109375 22.65625 58.46875 \r\nQ 16.015625 50.828125 16.015625 36.375 \r\nQ 16.015625 21.96875 22.65625 14.328125 \r\nQ 29.296875 6.6875 41.796875 6.6875 \r\nQ 48.140625 6.6875 53.78125 8.984375 \r\nQ 59.421875 11.28125 64.40625 15.921875 \r\nL 64.40625 5.609375 \r\nQ 59.234375 2.09375 53.4375 0.328125 \r\nQ 47.65625 -1.421875 41.21875 -1.421875 \r\nQ 24.65625 -1.421875 15.125 8.703125 \r\nQ 5.609375 18.84375 5.609375 36.375 \r\nQ 5.609375 53.953125 15.125 64.078125 \r\nQ 24.65625 74.21875 41.21875 74.21875 \r\nQ 47.75 74.21875 53.53125 72.484375 \r\nQ 59.328125 70.75 64.40625 67.28125 \r\nz\r\n\" id=\"DejaVuSans-67\"/>\r\n      </defs>\r\n      <use xlink:href=\"#DejaVuSans-65\"/>\r\n      <use x=\"68.408203\" xlink:href=\"#DejaVuSans-66\"/>\r\n      <use x=\"135.261719\" xlink:href=\"#DejaVuSans-67\"/>\r\n      <use x=\"205.085938\" xlink:href=\"#DejaVuSans-66\"/>\r\n      <use x=\"273.689453\" xlink:href=\"#DejaVuSans-49\"/>\r\n     </g>\r\n    </g>\r\n   </g>\r\n   <g id=\"matplotlib.axis_2\">\r\n    <g id=\"ytick_1\">\r\n     <g id=\"line2d_10\">\r\n      <defs>\r\n       <path d=\"M 0 0 \r\nL -3.5 0 \r\n\" id=\"m05a2f9a5ab\" style=\"stroke:#000000;stroke-width:0.8;\"/>\r\n      </defs>\r\n      <g>\r\n       <use style=\"stroke:#000000;stroke-width:0.8;\" x=\"40.603125\" xlink:href=\"#m05a2f9a5ab\" y=\"186.312002\"/>\r\n      </g>\r\n     </g>\r\n     <g id=\"text_11\">\r\n      <!-- 4 -->\r\n      <g transform=\"translate(27.240625 190.111221)scale(0.1 -0.1)\">\r\n       <use xlink:href=\"#DejaVuSans-52\"/>\r\n      </g>\r\n     </g>\r\n    </g>\r\n    <g id=\"ytick_2\">\r\n     <g id=\"line2d_11\">\r\n      <g>\r\n       <use style=\"stroke:#000000;stroke-width:0.8;\" x=\"40.603125\" xlink:href=\"#m05a2f9a5ab\" y=\"146.121342\"/>\r\n      </g>\r\n     </g>\r\n     <g id=\"text_12\">\r\n      <!-- 6 -->\r\n      <g transform=\"translate(27.240625 149.920561)scale(0.1 -0.1)\">\r\n       <use xlink:href=\"#DejaVuSans-54\"/>\r\n      </g>\r\n     </g>\r\n    </g>\r\n    <g id=\"ytick_3\">\r\n     <g id=\"line2d_12\">\r\n      <g>\r\n       <use style=\"stroke:#000000;stroke-width:0.8;\" x=\"40.603125\" xlink:href=\"#m05a2f9a5ab\" y=\"105.930682\"/>\r\n      </g>\r\n     </g>\r\n     <g id=\"text_13\">\r\n      <!-- 8 -->\r\n      <g transform=\"translate(27.240625 109.729901)scale(0.1 -0.1)\">\r\n       <use xlink:href=\"#DejaVuSans-56\"/>\r\n      </g>\r\n     </g>\r\n    </g>\r\n    <g id=\"ytick_4\">\r\n     <g id=\"line2d_13\">\r\n      <g>\r\n       <use style=\"stroke:#000000;stroke-width:0.8;\" x=\"40.603125\" xlink:href=\"#m05a2f9a5ab\" y=\"65.740022\"/>\r\n      </g>\r\n     </g>\r\n     <g id=\"text_14\">\r\n      <!-- 10 -->\r\n      <g transform=\"translate(20.878125 69.53924)scale(0.1 -0.1)\">\r\n       <use xlink:href=\"#DejaVuSans-49\"/>\r\n       <use x=\"63.623047\" xlink:href=\"#DejaVuSans-48\"/>\r\n      </g>\r\n     </g>\r\n    </g>\r\n    <g id=\"ytick_5\">\r\n     <g id=\"line2d_14\">\r\n      <g>\r\n       <use style=\"stroke:#000000;stroke-width:0.8;\" x=\"40.603125\" xlink:href=\"#m05a2f9a5ab\" y=\"25.549361\"/>\r\n      </g>\r\n     </g>\r\n     <g id=\"text_15\">\r\n      <!-- 12 -->\r\n      <g transform=\"translate(20.878125 29.34858)scale(0.1 -0.1)\">\r\n       <defs>\r\n        <path d=\"M 19.1875 8.296875 \r\nL 53.609375 8.296875 \r\nL 53.609375 0 \r\nL 7.328125 0 \r\nL 7.328125 8.296875 \r\nQ 12.9375 14.109375 22.625 23.890625 \r\nQ 32.328125 33.6875 34.8125 36.53125 \r\nQ 39.546875 41.84375 41.421875 45.53125 \r\nQ 43.3125 49.21875 43.3125 52.78125 \r\nQ 43.3125 58.59375 39.234375 62.25 \r\nQ 35.15625 65.921875 28.609375 65.921875 \r\nQ 23.96875 65.921875 18.8125 64.3125 \r\nQ 13.671875 62.703125 7.8125 59.421875 \r\nL 7.8125 69.390625 \r\nQ 13.765625 71.78125 18.9375 73 \r\nQ 24.125 74.21875 28.421875 74.21875 \r\nQ 39.75 74.21875 46.484375 68.546875 \r\nQ 53.21875 62.890625 53.21875 53.421875 \r\nQ 53.21875 48.921875 51.53125 44.890625 \r\nQ 49.859375 40.875 45.40625 35.40625 \r\nQ 44.1875 33.984375 37.640625 27.21875 \r\nQ 31.109375 20.453125 19.1875 8.296875 \r\nz\r\n\" id=\"DejaVuSans-50\"/>\r\n       </defs>\r\n       <use xlink:href=\"#DejaVuSans-49\"/>\r\n       <use x=\"63.623047\" xlink:href=\"#DejaVuSans-50\"/>\r\n      </g>\r\n     </g>\r\n    </g>\r\n    <g id=\"text_16\">\r\n     <!-- CDX2 -->\r\n     <g transform=\"translate(14.798438 129.867656)rotate(-90)scale(0.1 -0.1)\">\r\n      <defs>\r\n       <path d=\"M 19.671875 64.796875 \r\nL 19.671875 8.109375 \r\nL 31.59375 8.109375 \r\nQ 46.6875 8.109375 53.6875 14.9375 \r\nQ 60.6875 21.78125 60.6875 36.53125 \r\nQ 60.6875 51.171875 53.6875 57.984375 \r\nQ 46.6875 64.796875 31.59375 64.796875 \r\nz\r\nM 9.8125 72.90625 \r\nL 30.078125 72.90625 \r\nQ 51.265625 72.90625 61.171875 64.09375 \r\nQ 71.09375 55.28125 71.09375 36.53125 \r\nQ 71.09375 17.671875 61.125 8.828125 \r\nQ 51.171875 0 30.078125 0 \r\nL 9.8125 0 \r\nz\r\n\" id=\"DejaVuSans-68\"/>\r\n       <path d=\"M 6.296875 72.90625 \r\nL 16.890625 72.90625 \r\nL 35.015625 45.796875 \r\nL 53.21875 72.90625 \r\nL 63.8125 72.90625 \r\nL 40.375 37.890625 \r\nL 65.375 0 \r\nL 54.78125 0 \r\nL 34.28125 31 \r\nL 13.625 0 \r\nL 2.984375 0 \r\nL 29 38.921875 \r\nz\r\n\" id=\"DejaVuSans-88\"/>\r\n      </defs>\r\n      <use xlink:href=\"#DejaVuSans-67\"/>\r\n      <use x=\"69.824219\" xlink:href=\"#DejaVuSans-68\"/>\r\n      <use x=\"146.826172\" xlink:href=\"#DejaVuSans-88\"/>\r\n      <use x=\"215.332031\" xlink:href=\"#DejaVuSans-50\"/>\r\n     </g>\r\n    </g>\r\n   </g>\r\n   <g id=\"patch_3\">\r\n    <path d=\"M 40.603125 224.64 \r\nL 40.603125 7.2 \r\n\" style=\"fill:none;stroke:#000000;stroke-linecap:square;stroke-linejoin:miter;stroke-width:0.8;\"/>\r\n   </g>\r\n   <g id=\"patch_4\">\r\n    <path d=\"M 375.403125 224.64 \r\nL 375.403125 7.2 \r\n\" style=\"fill:none;stroke:#000000;stroke-linecap:square;stroke-linejoin:miter;stroke-width:0.8;\"/>\r\n   </g>\r\n   <g id=\"patch_5\">\r\n    <path d=\"M 40.603125 224.64 \r\nL 375.403125 224.64 \r\n\" style=\"fill:none;stroke:#000000;stroke-linecap:square;stroke-linejoin:miter;stroke-width:0.8;\"/>\r\n   </g>\r\n   <g id=\"patch_6\">\r\n    <path d=\"M 40.603125 7.2 \r\nL 375.403125 7.2 \r\n\" style=\"fill:none;stroke:#000000;stroke-linecap:square;stroke-linejoin:miter;stroke-width:0.8;\"/>\r\n   </g>\r\n  </g>\r\n </g>\r\n <defs>\r\n  <clipPath id=\"pb48fb0ad99\">\r\n   <rect height=\"217.44\" width=\"334.8\" x=\"40.603125\" y=\"7.2\"/>\r\n  </clipPath>\r\n </defs>\r\n</svg>\r\n",
      "image/png": "[encoded data removed]"
     },
     "metadata": {
      "needs_background": "light"
     }
    }
   ],
   "source": [
    "import matplotlib.pyplot as plt\n",
    "\n",
    "final_model.fit(X_train, y_train)\n",
    "coeffs = final_model['lasso'].coef_\n",
    "\n",
    "# select the two highest coefficients and get the corresponding columns\n",
    "index_sec = coeffs.argsort()[-2]\n",
    "index_first = coeffs.argsort()[-1]\n",
    "print('Best coeff', coeffs[index_first])\n",
    "feature_1 = X_train.columns[index_first]\n",
    "feature_2 = X_train.columns[index_sec]\n",
    "\n",
    "# plot the two most important features against each other\n",
    "gene_expression.plot(feature_1, feature_2, 'scatter')"
   ]
  },
  {
   "cell_type": "markdown",
   "metadata": {},
   "source": [
    "## Bias-variance \n",
    "\n",
    "Show the effect of the regularization on the parameter estimates in terms of bias and variance. For this you can repeat the optimization 100 times using bootstrap and visualise the profile of the Lasso regression coefficient over a grid of the hyperparameter, optionally including the variability as error bars.\n",
    "\n"
   ]
  },
  {
   "cell_type": "code",
   "execution_count": 25,
   "metadata": {
    "tags": []
   },
   "outputs": [],
   "source": [
    "\n",
    "from sklearn.utils import resample\n",
    "from sklearn.metrics import mean_squared_error as MSE\n",
    "from math import e\n",
    "\n",
    "# space array of alphas with ln base not 10log base\n",
    "alphas = np.logspace(-4, 2, 40, endpoint=True, base=e)\n",
    "\n",
    "# Preparation array with zeros\n",
    "MSE_per_alpha = np.zeros((40,100))\n",
    "\n",
    "# First loop for alpha values, second loop for the bootstrap\n",
    "for i in range(len(alphas)):\n",
    "    for j in range(100):\n",
    "        # resample the data\n",
    "        new_X, new_y = resample(X_train, y_train)\n",
    "        \n",
    "        # fit model with new data and corresponding alpha\n",
    "        model = Lasso(alphas[i], normalize=False, tol=0.01)\n",
    "        model.fit(new_X, new_y)\n",
    "        \n",
    "        # predict Y with model and calculate the Mean-Squared Error\n",
    "        pred_Y = model.predict(X_test)\n",
    "        MSE_per_alpha[i,j] = MSE(y_test, pred_Y)\n",
    "\n",
    "        "
   ]
  },
  {
   "cell_type": "code",
   "execution_count": 26,
   "metadata": {},
   "outputs": [
    {
     "output_type": "display_data",
     "data": {
      "text/plain": "<Figure size 432x288 with 1 Axes>",
      "image/svg+xml": "<?xml version=\"1.0\" encoding=\"utf-8\" standalone=\"no\"?>\r\n<!DOCTYPE svg PUBLIC \"-//W3C//DTD SVG 1.1//EN\"\r\n  \"http://www.w3.org/Graphics/SVG/1.1/DTD/svg11.dtd\">\r\n<!-- Created with matplotlib (https://matplotlib.org/) -->\r\n<svg height=\"277.314375pt\" version=\"1.1\" viewBox=\"0 0 382.603125 277.314375\" width=\"382.603125pt\" xmlns=\"http://www.w3.org/2000/svg\" xmlns:xlink=\"http://www.w3.org/1999/xlink\">\r\n <metadata>\r\n  <rdf:RDF xmlns:cc=\"http://creativecommons.org/ns#\" xmlns:dc=\"http://purl.org/dc/elements/1.1/\" xmlns:rdf=\"http://www.w3.org/1999/02/22-rdf-syntax-ns#\">\r\n   <cc:Work>\r\n    <dc:type rdf:resource=\"http://purl.org/dc/dcmitype/StillImage\"/>\r\n    <dc:date>2020-09-28T15:46:04.477861</dc:date>\r\n    <dc:format>image/svg+xml</dc:format>\r\n    <dc:creator>\r\n     <cc:Agent>\r\n      <dc:title>Matplotlib v3.3.1, https://matplotlib.org/</dc:title>\r\n     </cc:Agent>\r\n    </dc:creator>\r\n   </cc:Work>\r\n  </rdf:RDF>\r\n </metadata>\r\n <defs>\r\n  <style type=\"text/css\">*{stroke-linecap:butt;stroke-linejoin:round;}</style>\r\n </defs>\r\n <g id=\"figure_1\">\r\n  <g id=\"patch_1\">\r\n   <path d=\"M 0 277.314375 \r\nL 382.603125 277.314375 \r\nL 382.603125 0 \r\nL 0 0 \r\nz\r\n\" style=\"fill:none;\"/>\r\n  </g>\r\n  <g id=\"axes_1\">\r\n   <g id=\"patch_2\">\r\n    <path d=\"M 40.603125 239.758125 \r\nL 375.403125 239.758125 \r\nL 375.403125 22.318125 \r\nL 40.603125 22.318125 \r\nz\r\n\" style=\"fill:#ffffff;\"/>\r\n   </g>\r\n   <g id=\"matplotlib.axis_1\">\r\n    <g id=\"xtick_1\">\r\n     <g id=\"line2d_1\">\r\n      <defs>\r\n       <path d=\"M 0 0 \r\nL 0 3.5 \r\n\" id=\"ma8bdc5dd12\" style=\"stroke:#000000;stroke-width:0.8;\"/>\r\n      </defs>\r\n      <g>\r\n       <use style=\"stroke:#000000;stroke-width:0.8;\" x=\"55.821307\" xlink:href=\"#ma8bdc5dd12\" y=\"239.758125\"/>\r\n      </g>\r\n     </g>\r\n     <g id=\"text_1\">\r\n      <!-- −4 -->\r\n      <g transform=\"translate(48.450213 254.356562)scale(0.1 -0.1)\">\r\n       <defs>\r\n        <path d=\"M 10.59375 35.5 \r\nL 73.1875 35.5 \r\nL 73.1875 27.203125 \r\nL 10.59375 27.203125 \r\nz\r\n\" id=\"DejaVuSans-8722\"/>\r\n        <path d=\"M 37.796875 64.3125 \r\nL 12.890625 25.390625 \r\nL 37.796875 25.390625 \r\nz\r\nM 35.203125 72.90625 \r\nL 47.609375 72.90625 \r\nL 47.609375 25.390625 \r\nL 58.015625 25.390625 \r\nL 58.015625 17.1875 \r\nL 47.609375 17.1875 \r\nL 47.609375 0 \r\nL 37.796875 0 \r\nL 37.796875 17.1875 \r\nL 4.890625 17.1875 \r\nL 4.890625 26.703125 \r\nz\r\n\" id=\"DejaVuSans-52\"/>\r\n       </defs>\r\n       <use xlink:href=\"#DejaVuSans-8722\"/>\r\n       <use x=\"83.789062\" xlink:href=\"#DejaVuSans-52\"/>\r\n      </g>\r\n     </g>\r\n    </g>\r\n    <g id=\"xtick_2\">\r\n     <g id=\"line2d_2\">\r\n      <g>\r\n       <use style=\"stroke:#000000;stroke-width:0.8;\" x=\"106.54858\" xlink:href=\"#ma8bdc5dd12\" y=\"239.758125\"/>\r\n      </g>\r\n     </g>\r\n     <g id=\"text_2\">\r\n      <!-- −3 -->\r\n      <g transform=\"translate(99.177486 254.356562)scale(0.1 -0.1)\">\r\n       <defs>\r\n        <path d=\"M 40.578125 39.3125 \r\nQ 47.65625 37.796875 51.625 33 \r\nQ 55.609375 28.21875 55.609375 21.1875 \r\nQ 55.609375 10.40625 48.1875 4.484375 \r\nQ 40.765625 -1.421875 27.09375 -1.421875 \r\nQ 22.515625 -1.421875 17.65625 -0.515625 \r\nQ 12.796875 0.390625 7.625 2.203125 \r\nL 7.625 11.71875 \r\nQ 11.71875 9.328125 16.59375 8.109375 \r\nQ 21.484375 6.890625 26.8125 6.890625 \r\nQ 36.078125 6.890625 40.9375 10.546875 \r\nQ 45.796875 14.203125 45.796875 21.1875 \r\nQ 45.796875 27.640625 41.28125 31.265625 \r\nQ 36.765625 34.90625 28.71875 34.90625 \r\nL 20.21875 34.90625 \r\nL 20.21875 43.015625 \r\nL 29.109375 43.015625 \r\nQ 36.375 43.015625 40.234375 45.921875 \r\nQ 44.09375 48.828125 44.09375 54.296875 \r\nQ 44.09375 59.90625 40.109375 62.90625 \r\nQ 36.140625 65.921875 28.71875 65.921875 \r\nQ 24.65625 65.921875 20.015625 65.03125 \r\nQ 15.375 64.15625 9.8125 62.3125 \r\nL 9.8125 71.09375 \r\nQ 15.4375 72.65625 20.34375 73.4375 \r\nQ 25.25 74.21875 29.59375 74.21875 \r\nQ 40.828125 74.21875 47.359375 69.109375 \r\nQ 53.90625 64.015625 53.90625 55.328125 \r\nQ 53.90625 49.265625 50.4375 45.09375 \r\nQ 46.96875 40.921875 40.578125 39.3125 \r\nz\r\n\" id=\"DejaVuSans-51\"/>\r\n       </defs>\r\n       <use xlink:href=\"#DejaVuSans-8722\"/>\r\n       <use x=\"83.789062\" xlink:href=\"#DejaVuSans-51\"/>\r\n      </g>\r\n     </g>\r\n    </g>\r\n    <g id=\"xtick_3\">\r\n     <g id=\"line2d_3\">\r\n      <g>\r\n       <use style=\"stroke:#000000;stroke-width:0.8;\" x=\"157.275852\" xlink:href=\"#ma8bdc5dd12\" y=\"239.758125\"/>\r\n      </g>\r\n     </g>\r\n     <g id=\"text_3\">\r\n      <!-- −2 -->\r\n      <g transform=\"translate(149.904759 254.356562)scale(0.1 -0.1)\">\r\n       <defs>\r\n        <path d=\"M 19.1875 8.296875 \r\nL 53.609375 8.296875 \r\nL 53.609375 0 \r\nL 7.328125 0 \r\nL 7.328125 8.296875 \r\nQ 12.9375 14.109375 22.625 23.890625 \r\nQ 32.328125 33.6875 34.8125 36.53125 \r\nQ 39.546875 41.84375 41.421875 45.53125 \r\nQ 43.3125 49.21875 43.3125 52.78125 \r\nQ 43.3125 58.59375 39.234375 62.25 \r\nQ 35.15625 65.921875 28.609375 65.921875 \r\nQ 23.96875 65.921875 18.8125 64.3125 \r\nQ 13.671875 62.703125 7.8125 59.421875 \r\nL 7.8125 69.390625 \r\nQ 13.765625 71.78125 18.9375 73 \r\nQ 24.125 74.21875 28.421875 74.21875 \r\nQ 39.75 74.21875 46.484375 68.546875 \r\nQ 53.21875 62.890625 53.21875 53.421875 \r\nQ 53.21875 48.921875 51.53125 44.890625 \r\nQ 49.859375 40.875 45.40625 35.40625 \r\nQ 44.1875 33.984375 37.640625 27.21875 \r\nQ 31.109375 20.453125 19.1875 8.296875 \r\nz\r\n\" id=\"DejaVuSans-50\"/>\r\n       </defs>\r\n       <use xlink:href=\"#DejaVuSans-8722\"/>\r\n       <use x=\"83.789062\" xlink:href=\"#DejaVuSans-50\"/>\r\n      </g>\r\n     </g>\r\n    </g>\r\n    <g id=\"xtick_4\">\r\n     <g id=\"line2d_4\">\r\n      <g>\r\n       <use style=\"stroke:#000000;stroke-width:0.8;\" x=\"208.003125\" xlink:href=\"#ma8bdc5dd12\" y=\"239.758125\"/>\r\n      </g>\r\n     </g>\r\n     <g id=\"text_4\">\r\n      <!-- −1 -->\r\n      <g transform=\"translate(200.632031 254.356562)scale(0.1 -0.1)\">\r\n       <defs>\r\n        <path d=\"M 12.40625 8.296875 \r\nL 28.515625 8.296875 \r\nL 28.515625 63.921875 \r\nL 10.984375 60.40625 \r\nL 10.984375 69.390625 \r\nL 28.421875 72.90625 \r\nL 38.28125 72.90625 \r\nL 38.28125 8.296875 \r\nL 54.390625 8.296875 \r\nL 54.390625 0 \r\nL 12.40625 0 \r\nz\r\n\" id=\"DejaVuSans-49\"/>\r\n       </defs>\r\n       <use xlink:href=\"#DejaVuSans-8722\"/>\r\n       <use x=\"83.789062\" xlink:href=\"#DejaVuSans-49\"/>\r\n      </g>\r\n     </g>\r\n    </g>\r\n    <g id=\"xtick_5\">\r\n     <g id=\"line2d_5\">\r\n      <g>\r\n       <use style=\"stroke:#000000;stroke-width:0.8;\" x=\"258.730398\" xlink:href=\"#ma8bdc5dd12\" y=\"239.758125\"/>\r\n      </g>\r\n     </g>\r\n     <g id=\"text_5\">\r\n      <!-- 0 -->\r\n      <g transform=\"translate(255.549148 254.356562)scale(0.1 -0.1)\">\r\n       <defs>\r\n        <path d=\"M 31.78125 66.40625 \r\nQ 24.171875 66.40625 20.328125 58.90625 \r\nQ 16.5 51.421875 16.5 36.375 \r\nQ 16.5 21.390625 20.328125 13.890625 \r\nQ 24.171875 6.390625 31.78125 6.390625 \r\nQ 39.453125 6.390625 43.28125 13.890625 \r\nQ 47.125 21.390625 47.125 36.375 \r\nQ 47.125 51.421875 43.28125 58.90625 \r\nQ 39.453125 66.40625 31.78125 66.40625 \r\nz\r\nM 31.78125 74.21875 \r\nQ 44.046875 74.21875 50.515625 64.515625 \r\nQ 56.984375 54.828125 56.984375 36.375 \r\nQ 56.984375 17.96875 50.515625 8.265625 \r\nQ 44.046875 -1.421875 31.78125 -1.421875 \r\nQ 19.53125 -1.421875 13.0625 8.265625 \r\nQ 6.59375 17.96875 6.59375 36.375 \r\nQ 6.59375 54.828125 13.0625 64.515625 \r\nQ 19.53125 74.21875 31.78125 74.21875 \r\nz\r\n\" id=\"DejaVuSans-48\"/>\r\n       </defs>\r\n       <use xlink:href=\"#DejaVuSans-48\"/>\r\n      </g>\r\n     </g>\r\n    </g>\r\n    <g id=\"xtick_6\">\r\n     <g id=\"line2d_6\">\r\n      <g>\r\n       <use style=\"stroke:#000000;stroke-width:0.8;\" x=\"309.45767\" xlink:href=\"#ma8bdc5dd12\" y=\"239.758125\"/>\r\n      </g>\r\n     </g>\r\n     <g id=\"text_6\">\r\n      <!-- 1 -->\r\n      <g transform=\"translate(306.27642 254.356562)scale(0.1 -0.1)\">\r\n       <use xlink:href=\"#DejaVuSans-49\"/>\r\n      </g>\r\n     </g>\r\n    </g>\r\n    <g id=\"xtick_7\">\r\n     <g id=\"line2d_7\">\r\n      <g>\r\n       <use style=\"stroke:#000000;stroke-width:0.8;\" x=\"360.184943\" xlink:href=\"#ma8bdc5dd12\" y=\"239.758125\"/>\r\n      </g>\r\n     </g>\r\n     <g id=\"text_7\">\r\n      <!-- 2 -->\r\n      <g transform=\"translate(357.003693 254.356562)scale(0.1 -0.1)\">\r\n       <use xlink:href=\"#DejaVuSans-50\"/>\r\n      </g>\r\n     </g>\r\n    </g>\r\n    <g id=\"text_8\">\r\n     <!-- ln(Lambda) -->\r\n     <g transform=\"translate(179.410938 268.034687)scale(0.1 -0.1)\">\r\n      <defs>\r\n       <path d=\"M 9.421875 75.984375 \r\nL 18.40625 75.984375 \r\nL 18.40625 0 \r\nL 9.421875 0 \r\nz\r\n\" id=\"DejaVuSans-108\"/>\r\n       <path d=\"M 54.890625 33.015625 \r\nL 54.890625 0 \r\nL 45.90625 0 \r\nL 45.90625 32.71875 \r\nQ 45.90625 40.484375 42.875 44.328125 \r\nQ 39.84375 48.1875 33.796875 48.1875 \r\nQ 26.515625 48.1875 22.3125 43.546875 \r\nQ 18.109375 38.921875 18.109375 30.90625 \r\nL 18.109375 0 \r\nL 9.078125 0 \r\nL 9.078125 54.6875 \r\nL 18.109375 54.6875 \r\nL 18.109375 46.1875 \r\nQ 21.34375 51.125 25.703125 53.5625 \r\nQ 30.078125 56 35.796875 56 \r\nQ 45.21875 56 50.046875 50.171875 \r\nQ 54.890625 44.34375 54.890625 33.015625 \r\nz\r\n\" id=\"DejaVuSans-110\"/>\r\n       <path d=\"M 31 75.875 \r\nQ 24.46875 64.65625 21.28125 53.65625 \r\nQ 18.109375 42.671875 18.109375 31.390625 \r\nQ 18.109375 20.125 21.3125 9.0625 \r\nQ 24.515625 -2 31 -13.1875 \r\nL 23.1875 -13.1875 \r\nQ 15.875 -1.703125 12.234375 9.375 \r\nQ 8.59375 20.453125 8.59375 31.390625 \r\nQ 8.59375 42.28125 12.203125 53.3125 \r\nQ 15.828125 64.359375 23.1875 75.875 \r\nz\r\n\" id=\"DejaVuSans-40\"/>\r\n       <path d=\"M 9.8125 72.90625 \r\nL 19.671875 72.90625 \r\nL 19.671875 8.296875 \r\nL 55.171875 8.296875 \r\nL 55.171875 0 \r\nL 9.8125 0 \r\nz\r\n\" id=\"DejaVuSans-76\"/>\r\n       <path d=\"M 34.28125 27.484375 \r\nQ 23.390625 27.484375 19.1875 25 \r\nQ 14.984375 22.515625 14.984375 16.5 \r\nQ 14.984375 11.71875 18.140625 8.90625 \r\nQ 21.296875 6.109375 26.703125 6.109375 \r\nQ 34.1875 6.109375 38.703125 11.40625 \r\nQ 43.21875 16.703125 43.21875 25.484375 \r\nL 43.21875 27.484375 \r\nz\r\nM 52.203125 31.203125 \r\nL 52.203125 0 \r\nL 43.21875 0 \r\nL 43.21875 8.296875 \r\nQ 40.140625 3.328125 35.546875 0.953125 \r\nQ 30.953125 -1.421875 24.3125 -1.421875 \r\nQ 15.921875 -1.421875 10.953125 3.296875 \r\nQ 6 8.015625 6 15.921875 \r\nQ 6 25.140625 12.171875 29.828125 \r\nQ 18.359375 34.515625 30.609375 34.515625 \r\nL 43.21875 34.515625 \r\nL 43.21875 35.40625 \r\nQ 43.21875 41.609375 39.140625 45 \r\nQ 35.0625 48.390625 27.6875 48.390625 \r\nQ 23 48.390625 18.546875 47.265625 \r\nQ 14.109375 46.140625 10.015625 43.890625 \r\nL 10.015625 52.203125 \r\nQ 14.9375 54.109375 19.578125 55.046875 \r\nQ 24.21875 56 28.609375 56 \r\nQ 40.484375 56 46.34375 49.84375 \r\nQ 52.203125 43.703125 52.203125 31.203125 \r\nz\r\n\" id=\"DejaVuSans-97\"/>\r\n       <path d=\"M 52 44.1875 \r\nQ 55.375 50.25 60.0625 53.125 \r\nQ 64.75 56 71.09375 56 \r\nQ 79.640625 56 84.28125 50.015625 \r\nQ 88.921875 44.046875 88.921875 33.015625 \r\nL 88.921875 0 \r\nL 79.890625 0 \r\nL 79.890625 32.71875 \r\nQ 79.890625 40.578125 77.09375 44.375 \r\nQ 74.3125 48.1875 68.609375 48.1875 \r\nQ 61.625 48.1875 57.5625 43.546875 \r\nQ 53.515625 38.921875 53.515625 30.90625 \r\nL 53.515625 0 \r\nL 44.484375 0 \r\nL 44.484375 32.71875 \r\nQ 44.484375 40.625 41.703125 44.40625 \r\nQ 38.921875 48.1875 33.109375 48.1875 \r\nQ 26.21875 48.1875 22.15625 43.53125 \r\nQ 18.109375 38.875 18.109375 30.90625 \r\nL 18.109375 0 \r\nL 9.078125 0 \r\nL 9.078125 54.6875 \r\nL 18.109375 54.6875 \r\nL 18.109375 46.1875 \r\nQ 21.1875 51.21875 25.484375 53.609375 \r\nQ 29.78125 56 35.6875 56 \r\nQ 41.65625 56 45.828125 52.96875 \r\nQ 50 49.953125 52 44.1875 \r\nz\r\n\" id=\"DejaVuSans-109\"/>\r\n       <path d=\"M 48.6875 27.296875 \r\nQ 48.6875 37.203125 44.609375 42.84375 \r\nQ 40.53125 48.484375 33.40625 48.484375 \r\nQ 26.265625 48.484375 22.1875 42.84375 \r\nQ 18.109375 37.203125 18.109375 27.296875 \r\nQ 18.109375 17.390625 22.1875 11.75 \r\nQ 26.265625 6.109375 33.40625 6.109375 \r\nQ 40.53125 6.109375 44.609375 11.75 \r\nQ 48.6875 17.390625 48.6875 27.296875 \r\nz\r\nM 18.109375 46.390625 \r\nQ 20.953125 51.265625 25.265625 53.625 \r\nQ 29.59375 56 35.59375 56 \r\nQ 45.5625 56 51.78125 48.09375 \r\nQ 58.015625 40.1875 58.015625 27.296875 \r\nQ 58.015625 14.40625 51.78125 6.484375 \r\nQ 45.5625 -1.421875 35.59375 -1.421875 \r\nQ 29.59375 -1.421875 25.265625 0.953125 \r\nQ 20.953125 3.328125 18.109375 8.203125 \r\nL 18.109375 0 \r\nL 9.078125 0 \r\nL 9.078125 75.984375 \r\nL 18.109375 75.984375 \r\nz\r\n\" id=\"DejaVuSans-98\"/>\r\n       <path d=\"M 45.40625 46.390625 \r\nL 45.40625 75.984375 \r\nL 54.390625 75.984375 \r\nL 54.390625 0 \r\nL 45.40625 0 \r\nL 45.40625 8.203125 \r\nQ 42.578125 3.328125 38.25 0.953125 \r\nQ 33.9375 -1.421875 27.875 -1.421875 \r\nQ 17.96875 -1.421875 11.734375 6.484375 \r\nQ 5.515625 14.40625 5.515625 27.296875 \r\nQ 5.515625 40.1875 11.734375 48.09375 \r\nQ 17.96875 56 27.875 56 \r\nQ 33.9375 56 38.25 53.625 \r\nQ 42.578125 51.265625 45.40625 46.390625 \r\nz\r\nM 14.796875 27.296875 \r\nQ 14.796875 17.390625 18.875 11.75 \r\nQ 22.953125 6.109375 30.078125 6.109375 \r\nQ 37.203125 6.109375 41.296875 11.75 \r\nQ 45.40625 17.390625 45.40625 27.296875 \r\nQ 45.40625 37.203125 41.296875 42.84375 \r\nQ 37.203125 48.484375 30.078125 48.484375 \r\nQ 22.953125 48.484375 18.875 42.84375 \r\nQ 14.796875 37.203125 14.796875 27.296875 \r\nz\r\n\" id=\"DejaVuSans-100\"/>\r\n       <path d=\"M 8.015625 75.875 \r\nL 15.828125 75.875 \r\nQ 23.140625 64.359375 26.78125 53.3125 \r\nQ 30.421875 42.28125 30.421875 31.390625 \r\nQ 30.421875 20.453125 26.78125 9.375 \r\nQ 23.140625 -1.703125 15.828125 -13.1875 \r\nL 8.015625 -13.1875 \r\nQ 14.5 -2 17.703125 9.0625 \r\nQ 20.90625 20.125 20.90625 31.390625 \r\nQ 20.90625 42.671875 17.703125 53.65625 \r\nQ 14.5 64.65625 8.015625 75.875 \r\nz\r\n\" id=\"DejaVuSans-41\"/>\r\n      </defs>\r\n      <use xlink:href=\"#DejaVuSans-108\"/>\r\n      <use x=\"27.783203\" xlink:href=\"#DejaVuSans-110\"/>\r\n      <use x=\"91.162109\" xlink:href=\"#DejaVuSans-40\"/>\r\n      <use x=\"130.175781\" xlink:href=\"#DejaVuSans-76\"/>\r\n      <use x=\"185.888672\" xlink:href=\"#DejaVuSans-97\"/>\r\n      <use x=\"247.167969\" xlink:href=\"#DejaVuSans-109\"/>\r\n      <use x=\"344.580078\" xlink:href=\"#DejaVuSans-98\"/>\r\n      <use x=\"408.056641\" xlink:href=\"#DejaVuSans-100\"/>\r\n      <use x=\"471.533203\" xlink:href=\"#DejaVuSans-97\"/>\r\n      <use x=\"532.8125\" xlink:href=\"#DejaVuSans-41\"/>\r\n     </g>\r\n    </g>\r\n   </g>\r\n   <g id=\"matplotlib.axis_2\">\r\n    <g id=\"ytick_1\">\r\n     <g id=\"line2d_8\">\r\n      <defs>\r\n       <path d=\"M 0 0 \r\nL -3.5 0 \r\n\" id=\"md031e2f5f6\" style=\"stroke:#000000;stroke-width:0.8;\"/>\r\n      </defs>\r\n      <g>\r\n       <use style=\"stroke:#000000;stroke-width:0.8;\" x=\"40.603125\" xlink:href=\"#md031e2f5f6\" y=\"200.672035\"/>\r\n      </g>\r\n     </g>\r\n     <g id=\"text_9\">\r\n      <!-- 6 -->\r\n      <g transform=\"translate(27.240625 204.471253)scale(0.1 -0.1)\">\r\n       <defs>\r\n        <path d=\"M 33.015625 40.375 \r\nQ 26.375 40.375 22.484375 35.828125 \r\nQ 18.609375 31.296875 18.609375 23.390625 \r\nQ 18.609375 15.53125 22.484375 10.953125 \r\nQ 26.375 6.390625 33.015625 6.390625 \r\nQ 39.65625 6.390625 43.53125 10.953125 \r\nQ 47.40625 15.53125 47.40625 23.390625 \r\nQ 47.40625 31.296875 43.53125 35.828125 \r\nQ 39.65625 40.375 33.015625 40.375 \r\nz\r\nM 52.59375 71.296875 \r\nL 52.59375 62.3125 \r\nQ 48.875 64.0625 45.09375 64.984375 \r\nQ 41.3125 65.921875 37.59375 65.921875 \r\nQ 27.828125 65.921875 22.671875 59.328125 \r\nQ 17.53125 52.734375 16.796875 39.40625 \r\nQ 19.671875 43.65625 24.015625 45.921875 \r\nQ 28.375 48.1875 33.59375 48.1875 \r\nQ 44.578125 48.1875 50.953125 41.515625 \r\nQ 57.328125 34.859375 57.328125 23.390625 \r\nQ 57.328125 12.15625 50.6875 5.359375 \r\nQ 44.046875 -1.421875 33.015625 -1.421875 \r\nQ 20.359375 -1.421875 13.671875 8.265625 \r\nQ 6.984375 17.96875 6.984375 36.375 \r\nQ 6.984375 53.65625 15.1875 63.9375 \r\nQ 23.390625 74.21875 37.203125 74.21875 \r\nQ 40.921875 74.21875 44.703125 73.484375 \r\nQ 48.484375 72.75 52.59375 71.296875 \r\nz\r\n\" id=\"DejaVuSans-54\"/>\r\n       </defs>\r\n       <use xlink:href=\"#DejaVuSans-54\"/>\r\n      </g>\r\n     </g>\r\n    </g>\r\n    <g id=\"ytick_2\">\r\n     <g id=\"line2d_9\">\r\n      <g>\r\n       <use style=\"stroke:#000000;stroke-width:0.8;\" x=\"40.603125\" xlink:href=\"#md031e2f5f6\" y=\"153.564854\"/>\r\n      </g>\r\n     </g>\r\n     <g id=\"text_10\">\r\n      <!-- 8 -->\r\n      <g transform=\"translate(27.240625 157.364073)scale(0.1 -0.1)\">\r\n       <defs>\r\n        <path d=\"M 31.78125 34.625 \r\nQ 24.75 34.625 20.71875 30.859375 \r\nQ 16.703125 27.09375 16.703125 20.515625 \r\nQ 16.703125 13.921875 20.71875 10.15625 \r\nQ 24.75 6.390625 31.78125 6.390625 \r\nQ 38.8125 6.390625 42.859375 10.171875 \r\nQ 46.921875 13.96875 46.921875 20.515625 \r\nQ 46.921875 27.09375 42.890625 30.859375 \r\nQ 38.875 34.625 31.78125 34.625 \r\nz\r\nM 21.921875 38.8125 \r\nQ 15.578125 40.375 12.03125 44.71875 \r\nQ 8.5 49.078125 8.5 55.328125 \r\nQ 8.5 64.0625 14.71875 69.140625 \r\nQ 20.953125 74.21875 31.78125 74.21875 \r\nQ 42.671875 74.21875 48.875 69.140625 \r\nQ 55.078125 64.0625 55.078125 55.328125 \r\nQ 55.078125 49.078125 51.53125 44.71875 \r\nQ 48 40.375 41.703125 38.8125 \r\nQ 48.828125 37.15625 52.796875 32.3125 \r\nQ 56.78125 27.484375 56.78125 20.515625 \r\nQ 56.78125 9.90625 50.3125 4.234375 \r\nQ 43.84375 -1.421875 31.78125 -1.421875 \r\nQ 19.734375 -1.421875 13.25 4.234375 \r\nQ 6.78125 9.90625 6.78125 20.515625 \r\nQ 6.78125 27.484375 10.78125 32.3125 \r\nQ 14.796875 37.15625 21.921875 38.8125 \r\nz\r\nM 18.3125 54.390625 \r\nQ 18.3125 48.734375 21.84375 45.5625 \r\nQ 25.390625 42.390625 31.78125 42.390625 \r\nQ 38.140625 42.390625 41.71875 45.5625 \r\nQ 45.3125 48.734375 45.3125 54.390625 \r\nQ 45.3125 60.0625 41.71875 63.234375 \r\nQ 38.140625 66.40625 31.78125 66.40625 \r\nQ 25.390625 66.40625 21.84375 63.234375 \r\nQ 18.3125 60.0625 18.3125 54.390625 \r\nz\r\n\" id=\"DejaVuSans-56\"/>\r\n       </defs>\r\n       <use xlink:href=\"#DejaVuSans-56\"/>\r\n      </g>\r\n     </g>\r\n    </g>\r\n    <g id=\"ytick_3\">\r\n     <g id=\"line2d_10\">\r\n      <g>\r\n       <use style=\"stroke:#000000;stroke-width:0.8;\" x=\"40.603125\" xlink:href=\"#md031e2f5f6\" y=\"106.457674\"/>\r\n      </g>\r\n     </g>\r\n     <g id=\"text_11\">\r\n      <!-- 10 -->\r\n      <g transform=\"translate(20.878125 110.256893)scale(0.1 -0.1)\">\r\n       <use xlink:href=\"#DejaVuSans-49\"/>\r\n       <use x=\"63.623047\" xlink:href=\"#DejaVuSans-48\"/>\r\n      </g>\r\n     </g>\r\n    </g>\r\n    <g id=\"ytick_4\">\r\n     <g id=\"line2d_11\">\r\n      <g>\r\n       <use style=\"stroke:#000000;stroke-width:0.8;\" x=\"40.603125\" xlink:href=\"#md031e2f5f6\" y=\"59.350493\"/>\r\n      </g>\r\n     </g>\r\n     <g id=\"text_12\">\r\n      <!-- 12 -->\r\n      <g transform=\"translate(20.878125 63.149712)scale(0.1 -0.1)\">\r\n       <use xlink:href=\"#DejaVuSans-49\"/>\r\n       <use x=\"63.623047\" xlink:href=\"#DejaVuSans-50\"/>\r\n      </g>\r\n     </g>\r\n    </g>\r\n    <g id=\"text_13\">\r\n     <!-- Mean-Squared Error -->\r\n     <g transform=\"translate(14.798438 181.014687)rotate(-90)scale(0.1 -0.1)\">\r\n      <defs>\r\n       <path d=\"M 9.8125 72.90625 \r\nL 24.515625 72.90625 \r\nL 43.109375 23.296875 \r\nL 61.8125 72.90625 \r\nL 76.515625 72.90625 \r\nL 76.515625 0 \r\nL 66.890625 0 \r\nL 66.890625 64.015625 \r\nL 48.09375 14.015625 \r\nL 38.1875 14.015625 \r\nL 19.390625 64.015625 \r\nL 19.390625 0 \r\nL 9.8125 0 \r\nz\r\n\" id=\"DejaVuSans-77\"/>\r\n       <path d=\"M 56.203125 29.59375 \r\nL 56.203125 25.203125 \r\nL 14.890625 25.203125 \r\nQ 15.484375 15.921875 20.484375 11.0625 \r\nQ 25.484375 6.203125 34.421875 6.203125 \r\nQ 39.59375 6.203125 44.453125 7.46875 \r\nQ 49.3125 8.734375 54.109375 11.28125 \r\nL 54.109375 2.78125 \r\nQ 49.265625 0.734375 44.1875 -0.34375 \r\nQ 39.109375 -1.421875 33.890625 -1.421875 \r\nQ 20.796875 -1.421875 13.15625 6.1875 \r\nQ 5.515625 13.8125 5.515625 26.8125 \r\nQ 5.515625 40.234375 12.765625 48.109375 \r\nQ 20.015625 56 32.328125 56 \r\nQ 43.359375 56 49.78125 48.890625 \r\nQ 56.203125 41.796875 56.203125 29.59375 \r\nz\r\nM 47.21875 32.234375 \r\nQ 47.125 39.59375 43.09375 43.984375 \r\nQ 39.0625 48.390625 32.421875 48.390625 \r\nQ 24.90625 48.390625 20.390625 44.140625 \r\nQ 15.875 39.890625 15.1875 32.171875 \r\nz\r\n\" id=\"DejaVuSans-101\"/>\r\n       <path d=\"M 4.890625 31.390625 \r\nL 31.203125 31.390625 \r\nL 31.203125 23.390625 \r\nL 4.890625 23.390625 \r\nz\r\n\" id=\"DejaVuSans-45\"/>\r\n       <path d=\"M 53.515625 70.515625 \r\nL 53.515625 60.890625 \r\nQ 47.90625 63.578125 42.921875 64.890625 \r\nQ 37.9375 66.21875 33.296875 66.21875 \r\nQ 25.25 66.21875 20.875 63.09375 \r\nQ 16.5 59.96875 16.5 54.203125 \r\nQ 16.5 49.359375 19.40625 46.890625 \r\nQ 22.3125 44.4375 30.421875 42.921875 \r\nL 36.375 41.703125 \r\nQ 47.40625 39.59375 52.65625 34.296875 \r\nQ 57.90625 29 57.90625 20.125 \r\nQ 57.90625 9.515625 50.796875 4.046875 \r\nQ 43.703125 -1.421875 29.984375 -1.421875 \r\nQ 24.8125 -1.421875 18.96875 -0.25 \r\nQ 13.140625 0.921875 6.890625 3.21875 \r\nL 6.890625 13.375 \r\nQ 12.890625 10.015625 18.65625 8.296875 \r\nQ 24.421875 6.59375 29.984375 6.59375 \r\nQ 38.421875 6.59375 43.015625 9.90625 \r\nQ 47.609375 13.234375 47.609375 19.390625 \r\nQ 47.609375 24.75 44.3125 27.78125 \r\nQ 41.015625 30.8125 33.5 32.328125 \r\nL 27.484375 33.5 \r\nQ 16.453125 35.6875 11.515625 40.375 \r\nQ 6.59375 45.0625 6.59375 53.421875 \r\nQ 6.59375 63.09375 13.40625 68.65625 \r\nQ 20.21875 74.21875 32.171875 74.21875 \r\nQ 37.3125 74.21875 42.625 73.28125 \r\nQ 47.953125 72.359375 53.515625 70.515625 \r\nz\r\n\" id=\"DejaVuSans-83\"/>\r\n       <path d=\"M 14.796875 27.296875 \r\nQ 14.796875 17.390625 18.875 11.75 \r\nQ 22.953125 6.109375 30.078125 6.109375 \r\nQ 37.203125 6.109375 41.296875 11.75 \r\nQ 45.40625 17.390625 45.40625 27.296875 \r\nQ 45.40625 37.203125 41.296875 42.84375 \r\nQ 37.203125 48.484375 30.078125 48.484375 \r\nQ 22.953125 48.484375 18.875 42.84375 \r\nQ 14.796875 37.203125 14.796875 27.296875 \r\nz\r\nM 45.40625 8.203125 \r\nQ 42.578125 3.328125 38.25 0.953125 \r\nQ 33.9375 -1.421875 27.875 -1.421875 \r\nQ 17.96875 -1.421875 11.734375 6.484375 \r\nQ 5.515625 14.40625 5.515625 27.296875 \r\nQ 5.515625 40.1875 11.734375 48.09375 \r\nQ 17.96875 56 27.875 56 \r\nQ 33.9375 56 38.25 53.625 \r\nQ 42.578125 51.265625 45.40625 46.390625 \r\nL 45.40625 54.6875 \r\nL 54.390625 54.6875 \r\nL 54.390625 -20.796875 \r\nL 45.40625 -20.796875 \r\nz\r\n\" id=\"DejaVuSans-113\"/>\r\n       <path d=\"M 8.5 21.578125 \r\nL 8.5 54.6875 \r\nL 17.484375 54.6875 \r\nL 17.484375 21.921875 \r\nQ 17.484375 14.15625 20.5 10.265625 \r\nQ 23.53125 6.390625 29.59375 6.390625 \r\nQ 36.859375 6.390625 41.078125 11.03125 \r\nQ 45.3125 15.671875 45.3125 23.6875 \r\nL 45.3125 54.6875 \r\nL 54.296875 54.6875 \r\nL 54.296875 0 \r\nL 45.3125 0 \r\nL 45.3125 8.40625 \r\nQ 42.046875 3.421875 37.71875 1 \r\nQ 33.40625 -1.421875 27.6875 -1.421875 \r\nQ 18.265625 -1.421875 13.375 4.4375 \r\nQ 8.5 10.296875 8.5 21.578125 \r\nz\r\nM 31.109375 56 \r\nz\r\n\" id=\"DejaVuSans-117\"/>\r\n       <path d=\"M 41.109375 46.296875 \r\nQ 39.59375 47.171875 37.8125 47.578125 \r\nQ 36.03125 48 33.890625 48 \r\nQ 26.265625 48 22.1875 43.046875 \r\nQ 18.109375 38.09375 18.109375 28.8125 \r\nL 18.109375 0 \r\nL 9.078125 0 \r\nL 9.078125 54.6875 \r\nL 18.109375 54.6875 \r\nL 18.109375 46.1875 \r\nQ 20.953125 51.171875 25.484375 53.578125 \r\nQ 30.03125 56 36.53125 56 \r\nQ 37.453125 56 38.578125 55.875 \r\nQ 39.703125 55.765625 41.0625 55.515625 \r\nz\r\n\" id=\"DejaVuSans-114\"/>\r\n       <path id=\"DejaVuSans-32\"/>\r\n       <path d=\"M 9.8125 72.90625 \r\nL 55.90625 72.90625 \r\nL 55.90625 64.59375 \r\nL 19.671875 64.59375 \r\nL 19.671875 43.015625 \r\nL 54.390625 43.015625 \r\nL 54.390625 34.71875 \r\nL 19.671875 34.71875 \r\nL 19.671875 8.296875 \r\nL 56.78125 8.296875 \r\nL 56.78125 0 \r\nL 9.8125 0 \r\nz\r\n\" id=\"DejaVuSans-69\"/>\r\n       <path d=\"M 30.609375 48.390625 \r\nQ 23.390625 48.390625 19.1875 42.75 \r\nQ 14.984375 37.109375 14.984375 27.296875 \r\nQ 14.984375 17.484375 19.15625 11.84375 \r\nQ 23.34375 6.203125 30.609375 6.203125 \r\nQ 37.796875 6.203125 41.984375 11.859375 \r\nQ 46.1875 17.53125 46.1875 27.296875 \r\nQ 46.1875 37.015625 41.984375 42.703125 \r\nQ 37.796875 48.390625 30.609375 48.390625 \r\nz\r\nM 30.609375 56 \r\nQ 42.328125 56 49.015625 48.375 \r\nQ 55.71875 40.765625 55.71875 27.296875 \r\nQ 55.71875 13.875 49.015625 6.21875 \r\nQ 42.328125 -1.421875 30.609375 -1.421875 \r\nQ 18.84375 -1.421875 12.171875 6.21875 \r\nQ 5.515625 13.875 5.515625 27.296875 \r\nQ 5.515625 40.765625 12.171875 48.375 \r\nQ 18.84375 56 30.609375 56 \r\nz\r\n\" id=\"DejaVuSans-111\"/>\r\n      </defs>\r\n      <use xlink:href=\"#DejaVuSans-77\"/>\r\n      <use x=\"86.279297\" xlink:href=\"#DejaVuSans-101\"/>\r\n      <use x=\"147.802734\" xlink:href=\"#DejaVuSans-97\"/>\r\n      <use x=\"209.082031\" xlink:href=\"#DejaVuSans-110\"/>\r\n      <use x=\"272.460938\" xlink:href=\"#DejaVuSans-45\"/>\r\n      <use x=\"308.544922\" xlink:href=\"#DejaVuSans-83\"/>\r\n      <use x=\"372.021484\" xlink:href=\"#DejaVuSans-113\"/>\r\n      <use x=\"435.498047\" xlink:href=\"#DejaVuSans-117\"/>\r\n      <use x=\"498.876953\" xlink:href=\"#DejaVuSans-97\"/>\r\n      <use x=\"560.15625\" xlink:href=\"#DejaVuSans-114\"/>\r\n      <use x=\"599.019531\" xlink:href=\"#DejaVuSans-101\"/>\r\n      <use x=\"660.542969\" xlink:href=\"#DejaVuSans-100\"/>\r\n      <use x=\"724.019531\" xlink:href=\"#DejaVuSans-32\"/>\r\n      <use x=\"755.806641\" xlink:href=\"#DejaVuSans-69\"/>\r\n      <use x=\"818.990234\" xlink:href=\"#DejaVuSans-114\"/>\r\n      <use x=\"858.353516\" xlink:href=\"#DejaVuSans-114\"/>\r\n      <use x=\"897.216797\" xlink:href=\"#DejaVuSans-111\"/>\r\n      <use x=\"958.398438\" xlink:href=\"#DejaVuSans-114\"/>\r\n     </g>\r\n    </g>\r\n   </g>\r\n   <g id=\"LineCollection_1\">\r\n    <path clip-path=\"url(#pb6ddba7501)\" d=\"M 55.821307 177.90349 \r\nL 55.821307 32.201761 \r\n\" style=\"fill:none;stroke:#1f77b4;stroke-width:1.5;\"/>\r\n    <path clip-path=\"url(#pb6ddba7501)\" d=\"M 63.625503 176.931938 \r\nL 63.625503 40.152726 \r\n\" style=\"fill:none;stroke:#1f77b4;stroke-width:1.5;\"/>\r\n    <path clip-path=\"url(#pb6ddba7501)\" d=\"M 71.429698 168.764302 \r\nL 71.429698 65.164427 \r\n\" style=\"fill:none;stroke:#1f77b4;stroke-width:1.5;\"/>\r\n    <path clip-path=\"url(#pb6ddba7501)\" d=\"M 79.233894 172.051037 \r\nL 79.233894 50.399658 \r\n\" style=\"fill:none;stroke:#1f77b4;stroke-width:1.5;\"/>\r\n    <path clip-path=\"url(#pb6ddba7501)\" d=\"M 87.03809 174.278995 \r\nL 87.03809 55.716067 \r\n\" style=\"fill:none;stroke:#1f77b4;stroke-width:1.5;\"/>\r\n    <path clip-path=\"url(#pb6ddba7501)\" d=\"M 94.842286 178.536643 \r\nL 94.842286 63.102412 \r\n\" style=\"fill:none;stroke:#1f77b4;stroke-width:1.5;\"/>\r\n    <path clip-path=\"url(#pb6ddba7501)\" d=\"M 102.646482 184.526214 \r\nL 102.646482 69.612949 \r\n\" style=\"fill:none;stroke:#1f77b4;stroke-width:1.5;\"/>\r\n    <path clip-path=\"url(#pb6ddba7501)\" d=\"M 110.450677 187.728137 \r\nL 110.450677 88.921824 \r\n\" style=\"fill:none;stroke:#1f77b4;stroke-width:1.5;\"/>\r\n    <path clip-path=\"url(#pb6ddba7501)\" d=\"M 118.254873 185.99184 \r\nL 118.254873 76.909883 \r\n\" style=\"fill:none;stroke:#1f77b4;stroke-width:1.5;\"/>\r\n    <path clip-path=\"url(#pb6ddba7501)\" d=\"M 126.059069 195.544812 \r\nL 126.059069 76.25835 \r\n\" style=\"fill:none;stroke:#1f77b4;stroke-width:1.5;\"/>\r\n    <path clip-path=\"url(#pb6ddba7501)\" d=\"M 133.863265 200.953051 \r\nL 133.863265 94.900688 \r\n\" style=\"fill:none;stroke:#1f77b4;stroke-width:1.5;\"/>\r\n    <path clip-path=\"url(#pb6ddba7501)\" d=\"M 141.667461 197.971033 \r\nL 141.667461 104.545347 \r\n\" style=\"fill:none;stroke:#1f77b4;stroke-width:1.5;\"/>\r\n    <path clip-path=\"url(#pb6ddba7501)\" d=\"M 149.471656 209.719762 \r\nL 149.471656 82.777663 \r\n\" style=\"fill:none;stroke:#1f77b4;stroke-width:1.5;\"/>\r\n    <path clip-path=\"url(#pb6ddba7501)\" d=\"M 157.275852 212.655988 \r\nL 157.275852 123.742798 \r\n\" style=\"fill:none;stroke:#1f77b4;stroke-width:1.5;\"/>\r\n    <path clip-path=\"url(#pb6ddba7501)\" d=\"M 165.080048 212.189367 \r\nL 165.080048 131.240021 \r\n\" style=\"fill:none;stroke:#1f77b4;stroke-width:1.5;\"/>\r\n    <path clip-path=\"url(#pb6ddba7501)\" d=\"M 172.884244 209.751744 \r\nL 172.884244 147.850294 \r\n\" style=\"fill:none;stroke:#1f77b4;stroke-width:1.5;\"/>\r\n    <path clip-path=\"url(#pb6ddba7501)\" d=\"M 180.68844 219.475998 \r\nL 180.68844 148.675399 \r\n\" style=\"fill:none;stroke:#1f77b4;stroke-width:1.5;\"/>\r\n    <path clip-path=\"url(#pb6ddba7501)\" d=\"M 188.492635 219.045222 \r\nL 188.492635 151.426746 \r\n\" style=\"fill:none;stroke:#1f77b4;stroke-width:1.5;\"/>\r\n    <path clip-path=\"url(#pb6ddba7501)\" d=\"M 196.296831 222.365853 \r\nL 196.296831 157.329893 \r\n\" style=\"fill:none;stroke:#1f77b4;stroke-width:1.5;\"/>\r\n    <path clip-path=\"url(#pb6ddba7501)\" d=\"M 204.101027 221.341532 \r\nL 204.101027 172.312075 \r\n\" style=\"fill:none;stroke:#1f77b4;stroke-width:1.5;\"/>\r\n    <path clip-path=\"url(#pb6ddba7501)\" d=\"M 211.905223 229.874489 \r\nL 211.905223 156.786638 \r\n\" style=\"fill:none;stroke:#1f77b4;stroke-width:1.5;\"/>\r\n    <path clip-path=\"url(#pb6ddba7501)\" d=\"M 219.709419 222.345204 \r\nL 219.709419 168.786686 \r\n\" style=\"fill:none;stroke:#1f77b4;stroke-width:1.5;\"/>\r\n    <path clip-path=\"url(#pb6ddba7501)\" d=\"M 227.513615 225.928498 \r\nL 227.513615 171.367213 \r\n\" style=\"fill:none;stroke:#1f77b4;stroke-width:1.5;\"/>\r\n    <path clip-path=\"url(#pb6ddba7501)\" d=\"M 235.31781 220.71233 \r\nL 235.31781 167.42674 \r\n\" style=\"fill:none;stroke:#1f77b4;stroke-width:1.5;\"/>\r\n    <path clip-path=\"url(#pb6ddba7501)\" d=\"M 243.122006 223.280471 \r\nL 243.122006 174.13013 \r\n\" style=\"fill:none;stroke:#1f77b4;stroke-width:1.5;\"/>\r\n    <path clip-path=\"url(#pb6ddba7501)\" d=\"M 250.926202 217.271568 \r\nL 250.926202 170.545093 \r\n\" style=\"fill:none;stroke:#1f77b4;stroke-width:1.5;\"/>\r\n    <path clip-path=\"url(#pb6ddba7501)\" d=\"M 258.730398 210.278078 \r\nL 258.730398 166.907098 \r\n\" style=\"fill:none;stroke:#1f77b4;stroke-width:1.5;\"/>\r\n    <path clip-path=\"url(#pb6ddba7501)\" d=\"M 266.534594 206.261245 \r\nL 266.534594 162.214525 \r\n\" style=\"fill:none;stroke:#1f77b4;stroke-width:1.5;\"/>\r\n    <path clip-path=\"url(#pb6ddba7501)\" d=\"M 274.338789 199.665601 \r\nL 274.338789 152.497659 \r\n\" style=\"fill:none;stroke:#1f77b4;stroke-width:1.5;\"/>\r\n    <path clip-path=\"url(#pb6ddba7501)\" d=\"M 282.142985 187.535441 \r\nL 282.142985 142.465768 \r\n\" style=\"fill:none;stroke:#1f77b4;stroke-width:1.5;\"/>\r\n    <path clip-path=\"url(#pb6ddba7501)\" d=\"M 289.947181 180.189306 \r\nL 289.947181 128.270527 \r\n\" style=\"fill:none;stroke:#1f77b4;stroke-width:1.5;\"/>\r\n    <path clip-path=\"url(#pb6ddba7501)\" d=\"M 297.751377 170.108605 \r\nL 297.751377 117.57613 \r\n\" style=\"fill:none;stroke:#1f77b4;stroke-width:1.5;\"/>\r\n    <path clip-path=\"url(#pb6ddba7501)\" d=\"M 305.555573 146.542619 \r\nL 305.555573 105.198582 \r\n\" style=\"fill:none;stroke:#1f77b4;stroke-width:1.5;\"/>\r\n    <path clip-path=\"url(#pb6ddba7501)\" d=\"M 313.359768 131.033367 \r\nL 313.359768 98.024158 \r\n\" style=\"fill:none;stroke:#1f77b4;stroke-width:1.5;\"/>\r\n    <path clip-path=\"url(#pb6ddba7501)\" d=\"M 321.163964 118.784158 \r\nL 321.163964 95.847292 \r\n\" style=\"fill:none;stroke:#1f77b4;stroke-width:1.5;\"/>\r\n    <path clip-path=\"url(#pb6ddba7501)\" d=\"M 328.96816 115.760327 \r\nL 328.96816 95.200086 \r\n\" style=\"fill:none;stroke:#1f77b4;stroke-width:1.5;\"/>\r\n    <path clip-path=\"url(#pb6ddba7501)\" d=\"M 336.772356 114.472771 \r\nL 336.772356 96.877854 \r\n\" style=\"fill:none;stroke:#1f77b4;stroke-width:1.5;\"/>\r\n    <path clip-path=\"url(#pb6ddba7501)\" d=\"M 344.576552 114.904244 \r\nL 344.576552 98.271027 \r\n\" style=\"fill:none;stroke:#1f77b4;stroke-width:1.5;\"/>\r\n    <path clip-path=\"url(#pb6ddba7501)\" d=\"M 352.380747 114.184188 \r\nL 352.380747 97.038686 \r\n\" style=\"fill:none;stroke:#1f77b4;stroke-width:1.5;\"/>\r\n    <path clip-path=\"url(#pb6ddba7501)\" d=\"M 360.184943 114.294919 \r\nL 360.184943 96.969376 \r\n\" style=\"fill:none;stroke:#1f77b4;stroke-width:1.5;\"/>\r\n   </g>\r\n   <g id=\"line2d_12\">\r\n    <path clip-path=\"url(#pb6ddba7501)\" d=\"M 55.821307 105.052626 \r\nL 63.625503 108.542332 \r\nL 71.429698 116.964364 \r\nL 79.233894 111.225348 \r\nL 87.03809 114.997531 \r\nL 94.842286 120.819528 \r\nL 102.646482 127.069581 \r\nL 110.450677 138.324981 \r\nL 118.254873 131.450862 \r\nL 126.059069 135.901581 \r\nL 133.863265 147.926869 \r\nL 141.667461 151.25819 \r\nL 149.471656 146.248713 \r\nL 157.275852 168.199393 \r\nL 165.080048 171.714694 \r\nL 172.884244 178.801019 \r\nL 180.68844 184.075699 \r\nL 188.492635 185.235984 \r\nL 196.296831 189.847873 \r\nL 204.101027 196.826804 \r\nL 211.905223 193.330563 \r\nL 219.709419 195.565945 \r\nL 227.513615 198.647856 \r\nL 235.31781 194.069535 \r\nL 243.122006 198.7053 \r\nL 250.926202 193.908331 \r\nL 258.730398 188.592588 \r\nL 266.534594 184.237885 \r\nL 274.338789 176.08163 \r\nL 282.142985 165.000604 \r\nL 289.947181 154.229916 \r\nL 297.751377 143.842368 \r\nL 305.555573 125.8706 \r\nL 313.359768 114.528762 \r\nL 321.163964 107.315725 \r\nL 328.96816 105.480207 \r\nL 336.772356 105.675312 \r\nL 344.576552 106.587635 \r\nL 352.380747 105.611437 \r\nL 360.184943 105.632147 \r\n\" style=\"fill:none;stroke:#1f77b4;stroke-linecap:square;stroke-width:1.5;\"/>\r\n   </g>\r\n   <g id=\"patch_3\">\r\n    <path d=\"M 40.603125 239.758125 \r\nL 40.603125 22.318125 \r\n\" style=\"fill:none;stroke:#000000;stroke-linecap:square;stroke-linejoin:miter;stroke-width:0.8;\"/>\r\n   </g>\r\n   <g id=\"patch_4\">\r\n    <path d=\"M 375.403125 239.758125 \r\nL 375.403125 22.318125 \r\n\" style=\"fill:none;stroke:#000000;stroke-linecap:square;stroke-linejoin:miter;stroke-width:0.8;\"/>\r\n   </g>\r\n   <g id=\"patch_5\">\r\n    <path d=\"M 40.603125 239.758125 \r\nL 375.403125 239.758125 \r\n\" style=\"fill:none;stroke:#000000;stroke-linecap:square;stroke-linejoin:miter;stroke-width:0.8;\"/>\r\n   </g>\r\n   <g id=\"patch_6\">\r\n    <path d=\"M 40.603125 22.318125 \r\nL 375.403125 22.318125 \r\n\" style=\"fill:none;stroke:#000000;stroke-linecap:square;stroke-linejoin:miter;stroke-width:0.8;\"/>\r\n   </g>\r\n   <g id=\"text_14\">\r\n    <!-- Lambda and MSE values with sd -->\r\n    <g transform=\"translate(111.065625 16.318125)scale(0.12 -0.12)\">\r\n     <defs>\r\n      <path d=\"M 2.984375 54.6875 \r\nL 12.5 54.6875 \r\nL 29.59375 8.796875 \r\nL 46.6875 54.6875 \r\nL 56.203125 54.6875 \r\nL 35.6875 0 \r\nL 23.484375 0 \r\nz\r\n\" id=\"DejaVuSans-118\"/>\r\n      <path d=\"M 44.28125 53.078125 \r\nL 44.28125 44.578125 \r\nQ 40.484375 46.53125 36.375 47.5 \r\nQ 32.28125 48.484375 27.875 48.484375 \r\nQ 21.1875 48.484375 17.84375 46.4375 \r\nQ 14.5 44.390625 14.5 40.28125 \r\nQ 14.5 37.15625 16.890625 35.375 \r\nQ 19.28125 33.59375 26.515625 31.984375 \r\nL 29.59375 31.296875 \r\nQ 39.15625 29.25 43.1875 25.515625 \r\nQ 47.21875 21.78125 47.21875 15.09375 \r\nQ 47.21875 7.46875 41.1875 3.015625 \r\nQ 35.15625 -1.421875 24.609375 -1.421875 \r\nQ 20.21875 -1.421875 15.453125 -0.5625 \r\nQ 10.6875 0.296875 5.421875 2 \r\nL 5.421875 11.28125 \r\nQ 10.40625 8.6875 15.234375 7.390625 \r\nQ 20.0625 6.109375 24.8125 6.109375 \r\nQ 31.15625 6.109375 34.5625 8.28125 \r\nQ 37.984375 10.453125 37.984375 14.40625 \r\nQ 37.984375 18.0625 35.515625 20.015625 \r\nQ 33.0625 21.96875 24.703125 23.78125 \r\nL 21.578125 24.515625 \r\nQ 13.234375 26.265625 9.515625 29.90625 \r\nQ 5.8125 33.546875 5.8125 39.890625 \r\nQ 5.8125 47.609375 11.28125 51.796875 \r\nQ 16.75 56 26.8125 56 \r\nQ 31.78125 56 36.171875 55.265625 \r\nQ 40.578125 54.546875 44.28125 53.078125 \r\nz\r\n\" id=\"DejaVuSans-115\"/>\r\n      <path d=\"M 4.203125 54.6875 \r\nL 13.1875 54.6875 \r\nL 24.421875 12.015625 \r\nL 35.59375 54.6875 \r\nL 46.1875 54.6875 \r\nL 57.421875 12.015625 \r\nL 68.609375 54.6875 \r\nL 77.59375 54.6875 \r\nL 63.28125 0 \r\nL 52.6875 0 \r\nL 40.921875 44.828125 \r\nL 29.109375 0 \r\nL 18.5 0 \r\nz\r\n\" id=\"DejaVuSans-119\"/>\r\n      <path d=\"M 9.421875 54.6875 \r\nL 18.40625 54.6875 \r\nL 18.40625 0 \r\nL 9.421875 0 \r\nz\r\nM 9.421875 75.984375 \r\nL 18.40625 75.984375 \r\nL 18.40625 64.59375 \r\nL 9.421875 64.59375 \r\nz\r\n\" id=\"DejaVuSans-105\"/>\r\n      <path d=\"M 18.3125 70.21875 \r\nL 18.3125 54.6875 \r\nL 36.8125 54.6875 \r\nL 36.8125 47.703125 \r\nL 18.3125 47.703125 \r\nL 18.3125 18.015625 \r\nQ 18.3125 11.328125 20.140625 9.421875 \r\nQ 21.96875 7.515625 27.59375 7.515625 \r\nL 36.8125 7.515625 \r\nL 36.8125 0 \r\nL 27.59375 0 \r\nQ 17.1875 0 13.234375 3.875 \r\nQ 9.28125 7.765625 9.28125 18.015625 \r\nL 9.28125 47.703125 \r\nL 2.6875 47.703125 \r\nL 2.6875 54.6875 \r\nL 9.28125 54.6875 \r\nL 9.28125 70.21875 \r\nz\r\n\" id=\"DejaVuSans-116\"/>\r\n      <path d=\"M 54.890625 33.015625 \r\nL 54.890625 0 \r\nL 45.90625 0 \r\nL 45.90625 32.71875 \r\nQ 45.90625 40.484375 42.875 44.328125 \r\nQ 39.84375 48.1875 33.796875 48.1875 \r\nQ 26.515625 48.1875 22.3125 43.546875 \r\nQ 18.109375 38.921875 18.109375 30.90625 \r\nL 18.109375 0 \r\nL 9.078125 0 \r\nL 9.078125 75.984375 \r\nL 18.109375 75.984375 \r\nL 18.109375 46.1875 \r\nQ 21.34375 51.125 25.703125 53.5625 \r\nQ 30.078125 56 35.796875 56 \r\nQ 45.21875 56 50.046875 50.171875 \r\nQ 54.890625 44.34375 54.890625 33.015625 \r\nz\r\n\" id=\"DejaVuSans-104\"/>\r\n     </defs>\r\n     <use xlink:href=\"#DejaVuSans-76\"/>\r\n     <use x=\"55.712891\" xlink:href=\"#DejaVuSans-97\"/>\r\n     <use x=\"116.992188\" xlink:href=\"#DejaVuSans-109\"/>\r\n     <use x=\"214.404297\" xlink:href=\"#DejaVuSans-98\"/>\r\n     <use x=\"277.880859\" xlink:href=\"#DejaVuSans-100\"/>\r\n     <use x=\"341.357422\" xlink:href=\"#DejaVuSans-97\"/>\r\n     <use x=\"402.636719\" xlink:href=\"#DejaVuSans-32\"/>\r\n     <use x=\"434.423828\" xlink:href=\"#DejaVuSans-97\"/>\r\n     <use x=\"495.703125\" xlink:href=\"#DejaVuSans-110\"/>\r\n     <use x=\"559.082031\" xlink:href=\"#DejaVuSans-100\"/>\r\n     <use x=\"622.558594\" xlink:href=\"#DejaVuSans-32\"/>\r\n     <use x=\"654.345703\" xlink:href=\"#DejaVuSans-77\"/>\r\n     <use x=\"740.625\" xlink:href=\"#DejaVuSans-83\"/>\r\n     <use x=\"804.101562\" xlink:href=\"#DejaVuSans-69\"/>\r\n     <use x=\"867.285156\" xlink:href=\"#DejaVuSans-32\"/>\r\n     <use x=\"899.072266\" xlink:href=\"#DejaVuSans-118\"/>\r\n     <use x=\"958.251953\" xlink:href=\"#DejaVuSans-97\"/>\r\n     <use x=\"1019.53125\" xlink:href=\"#DejaVuSans-108\"/>\r\n     <use x=\"1047.314453\" xlink:href=\"#DejaVuSans-117\"/>\r\n     <use x=\"1110.693359\" xlink:href=\"#DejaVuSans-101\"/>\r\n     <use x=\"1172.216797\" xlink:href=\"#DejaVuSans-115\"/>\r\n     <use x=\"1224.316406\" xlink:href=\"#DejaVuSans-32\"/>\r\n     <use x=\"1256.103516\" xlink:href=\"#DejaVuSans-119\"/>\r\n     <use x=\"1337.890625\" xlink:href=\"#DejaVuSans-105\"/>\r\n     <use x=\"1365.673828\" xlink:href=\"#DejaVuSans-116\"/>\r\n     <use x=\"1404.882812\" xlink:href=\"#DejaVuSans-104\"/>\r\n     <use x=\"1468.261719\" xlink:href=\"#DejaVuSans-32\"/>\r\n     <use x=\"1500.048828\" xlink:href=\"#DejaVuSans-115\"/>\r\n     <use x=\"1552.148438\" xlink:href=\"#DejaVuSans-100\"/>\r\n    </g>\r\n   </g>\r\n  </g>\r\n </g>\r\n <defs>\r\n  <clipPath id=\"pb6ddba7501\">\r\n   <rect height=\"217.44\" width=\"334.8\" x=\"40.603125\" y=\"22.318125\"/>\r\n  </clipPath>\r\n </defs>\r\n</svg>\r\n",
      "image/png": "[encoded data removed]"
     },
     "metadata": {
      "needs_background": "light"
     }
    }
   ],
   "source": [
    "# Calculate the mean and standard deviation from the Mean-Squared Error\n",
    "score_MSE = np.mean(MSE_per_alpha, axis=1)\n",
    "sd_size = np.std(MSE_per_alpha, axis=1)\n",
    "\n",
    "# Visualize\n",
    "fig = plt.figure()\n",
    "plt.errorbar(np.log(alphas),score_MSE,yerr=sd_size)\n",
    "plt.ylabel('Mean-Squared Error')\n",
    "plt.xlabel('ln(Lambda)')\n",
    "plt.title('Lambda and MSE values with sd')\n",
    "plt.show()"
   ]
  },
  {
   "cell_type": "markdown",
   "metadata": {},
   "source": [
    "<p><font color='#770a0a'>Based on the visual analysis of the plot, what are your observation on bias and variance in relation to model complexity? Motivate your answer.</font></p>\n",
    "\n",
    "\n",
    "With higher lambda values the complexity of the model decreases. This is because the higher the lambda value the more feature coefficients are zero. So the complexity decreases.\n",
    "\n",
    "When the lambda value is low in this case between ln(Lambda) value of -4 and -1 the complexity is high, which meanse there is a low bias and high variance causing the relatively high MSE value.\n",
    "\n",
    "For the ln(lambda) values between -1 and 1 the error is relatively low, because there is more balance in the complexity of the model. The bias and variance are more equal\n",
    "\n",
    "When the lambda value is high the model complexity is low. This causes an relatively high error because of high bias and low variance. In this case a ln(lambda) values between 1 and 2.\n",
    "\n"
   ]
  },
  {
   "cell_type": "markdown",
   "metadata": {},
   "source": [
    "\n",
    "## Logistic regression\n",
    "\n",
    "<p><font color='#770a0a'>Write the expression of the objective function for the penalized logistic regression with $L_1$ and $L_2$ regularisation (as in Elastic net).</font></p>"
   ]
  },
  {
   "cell_type": "code",
   "execution_count": 0,
   "metadata": {},
   "outputs": [],
   "source": [
    "\n"
   ]
  },
  {
   "cell_type": "code",
   "execution_count": null,
   "metadata": {},
   "outputs": [],
   "source": []
  }
 ],
 "metadata": {
  "kernelspec": {
   "display_name": "Python 3",
   "language": "python3",
   "name": "python3"
  },
  "language_info": {
   "codemirror_mode": {
    "name": "ipython",
    "version": 3
   },
   "file_extension": ".py",
   "mimetype": "text/x-python",
   "name": "python",
   "nbconvert_exporter": "python",
   "pygments_lexer": "ipython3",
   "version": "3.6.10-final"
  }
 },
 "nbformat": 4,
 "nbformat_minor": 4
}