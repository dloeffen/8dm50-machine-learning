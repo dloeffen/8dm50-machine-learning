{
 "cells": [
  {
   "cell_type": "markdown",
   "metadata": {},
   "source": [
    "# Preliminaries\n",
    "\n",
    "## Dataset\n",
    "\n",
    "In this set of exercises we will use the same dataset as from [week 3](week_3.ipynb). \n",
    "\n",
    "\n",
    "As before, we provide the data already curated in the following two files:\n",
    "\n",
    "`RNA_expression_curated.csv`: [148 cell lines , 238 genes]\n",
    "\n",
    "`drug_response_curated.csv`: [148 cell lines , YM155 drug]\n",
    "\n",
    "The curated data can be read as `pandas` `DataFrame` in the following way:"
   ]
  },
  {
   "cell_type": "code",
   "execution_count": 1,
   "metadata": {},
   "outputs": [],
   "source": [
    "import pandas as pd\n",
    "\n",
    "gene_expression = pd.read_csv(\"./data/RNA_expression_curated.csv\", sep=',', header=0, index_col=0)\n",
    "drug_response = pd.read_csv(\"./data/drug_response_curated.csv\", sep=',', header=0, index_col=0)"
   ]
  },
  {
   "cell_type": "markdown",
   "metadata": {},
   "source": [
    "The goal of the exercises is to train support vector machine (SVM) and random forests classifiers on this dataset and explore and learn about their hyperparameters. "
   ]
  },
  {
   "cell_type": "markdown",
   "metadata": {},
   "source": [
    "## Tools\n",
    "\n",
    "The `scikit-learn` library provides the required tools for support vector machines, as well as for random forest algorithms."
   ]
  },
  {
   "cell_type": "code",
   "execution_count": 2,
   "metadata": {},
   "outputs": [
    {
     "name": "stderr",
     "output_type": "stream",
     "text": [
      "C:\\Users\\20194694\\Anaconda3\\envs\\8dm50\\lib\\site-packages\\sklearn\\utils\\deprecation.py:143: FutureWarning: The sklearn.datasets.samples_generator module is  deprecated in version 0.22 and will be removed in version 0.24. The corresponding classes / functions should instead be imported from sklearn.datasets. Anything that cannot be imported from sklearn.datasets is now part of the private API.\n",
      "  warnings.warn(message, FutureWarning)\n"
     ]
    }
   ],
   "source": [
    "from sklearn import svm \n",
    "from sklearn.ensemble import RandomForestClassifier\n",
    "from sklearn.model_selection import GridSearchCV\n",
    "from sklearn.model_selection import train_test_split\n",
    "from sklearn.datasets.samples_generator import make_blobs, make_circles\n",
    "from sklearn.metrics import classification_report\n",
    "\n",
    "from scipy import stats"
   ]
  },
  {
   "cell_type": "markdown",
   "metadata": {},
   "source": [
    "Before proceeding, look up the documentation of the imported functions and read about their basic functionality. Below, we list some important parameters of SVMs and random forests that can be tuned during training."
   ]
  },
  {
   "cell_type": "markdown",
   "metadata": {},
   "source": [
    "#### Support Vector Machines (SVM)\n",
    "\n",
    "`C`: error term.\n",
    "\n",
    "`kernel`: similarity function ('linear', 'poly', 'sigmoid' or 'rbf')\n",
    "\n",
    "`gamma`: kernel coef. for 'rbf', 'poly' and 'sigmoid' kernels. It can be thought of as the ‘spread’ of the kernel and therefore the decision region.\n",
    "\n",
    "`degree`: degree for the 'poly' kernel.\n",
    "\n",
    "`coef0`: independt term in the 'poly' and 'sigmoid' kernels\n",
    "\n",
    "\n",
    "#### Random Forests\n",
    "\n",
    "`n_estimators`: number of trees in our random forest.\n",
    "\n",
    "`max_depth`: maximum number of levels in each decision tree\n",
    "\n",
    "`max_features`: maximum number of features to consider per split in an individual tree.\n",
    "\n",
    "`min_sample_leaf`: minimum number of data points per leaf node\n",
    "\n",
    "`min_samples_split`: minimum number of data points placed in a node before the node is split\n",
    "\n",
    "`oob_score`: the out-of-bag (OOB) error is the average error for each observation calculated using predictions from the trees that do not contain that observation in their respective bootstrap sample. Set this parameter to true.\n",
    "\n",
    "`bootstrap`: method for sampling data points (with or without replacement). Set this parameter to true.\n",
    "\n",
    "`criterion`: function used to measure the quality of the split (e.g. 'entropy' or 'gini')\n",
    "\n",
    "# Exercises\n",
    "\n",
    "## Support vector machines\n",
    "\n",
    "The  `make_blobs` and `make_circles` functions can be used to generate linearly and not linearly separable toy datasets. "
   ]
  },
  {
   "cell_type": "code",
   "execution_count": 3,
   "metadata": {},
   "outputs": [],
   "source": [
    "# data generation: linearly separable\n",
    "X, Y = make_blobs(n_samples=200, centers=2, n_features=2, random_state=1234)\n",
    "X = pd.DataFrame(X, columns=['x1', 'x2'])\n",
    "\n",
    "# splitting data into training and test set\n",
    "X_train, X_test, Y_train, Y_test = train_test_split(X, Y, test_size=0.33, random_state=333)"
   ]
  },
  {
   "cell_type": "markdown",
   "metadata": {},
   "source": [
    "The following code illustrates how to train a linear SVM classifier and plot the data points, the separating hyperplane, the support vectors and the margins that pass through them (considering the training data)"
   ]
  },
  {
   "cell_type": "code",
   "execution_count": 4,
   "metadata": {},
   "outputs": [
    {
     "data": {
      "image/png": "[encoded data removed]",
      "text/plain": [
       "<Figure size 432x288 with 1 Axes>"
      ]
     },
     "metadata": {
      "needs_background": "light"
     },
     "output_type": "display_data"
    }
   ],
   "source": [
    "import numpy as np\n",
    "import matplotlib.pyplot as plt\n",
    "\n",
    "# build the model\n",
    "model = svm.SVC(kernel='linear', random_state=33)\n",
    "model.fit(X_train, Y_train)\n",
    "\n",
    "# create plot\n",
    "fig, ax = plt.subplots()\n",
    "\n",
    "# get colors from qualitative colormap 'Paired'\n",
    "cmap = plt.cm.get_cmap('Paired')\n",
    "\n",
    "# plot data points\n",
    "ax.scatter(X_train.iloc[Y_train == 1, 0], X_train.iloc[Y_train == 1, 1],\n",
    "           c=[cmap(11)], label='1')\n",
    "ax.scatter(X_train.iloc[Y_train == 0, 0], X_train.iloc[Y_train == 0, 1],\n",
    "           c=[cmap(0)], label='0')\n",
    "ax.legend(loc='best')\n",
    "\n",
    "# plot the decision function\n",
    "# create grid to evaluate model\n",
    "x1_min, x1_max = X_train.iloc[:, 0].min() - 1, X_train.iloc[:, 0].max() + 1\n",
    "x2_min, x2_max = X_train.iloc[:, 1].min() - 1, X_train.iloc[:, 1].max() + 1\n",
    "\n",
    "XX, YY = np.meshgrid(np.arange(x1_min, x1_max, .2),\n",
    "                     np.arange(x2_min, x2_max, .2))\n",
    "\n",
    "xy = np.vstack([XX.ravel(), YY.ravel()]).T\n",
    "Z = model.decision_function(xy).reshape(XX.shape)\n",
    "\n",
    "# plot decision boundary and margins\n",
    "ax.contour(XX, YY, Z, colors='k', levels=[-1, 0, 1], alpha=0.5,\n",
    "           linestyles=['--', '-', '--'])\n",
    "\n",
    "# Establish the class for each point in the contour\n",
    "Z = model.predict(xy).reshape(XX.shape)\n",
    "\n",
    "# Visualization of the contour\n",
    "ax.contourf(XX, YY, Z, cmap='bwr', alpha=0.3)\n",
    "\n",
    "# plot support vectors, whose are responsible for building the margins\n",
    "ax.scatter(model.support_vectors_[:, 0], model.support_vectors_[:, 1], s=100,\n",
    "           linewidth=1, facecolors='none', edgecolors='k', marker='s')\n",
    "\n",
    "ax.axis([x1_min, x1_max, x2_min, x2_max])\n",
    "plt.axis('tight')\n",
    "plt.title('Linear kernel SVM')\n",
    "plt.show()"
   ]
  },
  {
   "cell_type": "markdown",
   "metadata": {},
   "source": [
    "Train a radial basis function (RBF) SVM classifier with `gamma=0.5` and plot the results in the same way."
   ]
  },
  {
   "cell_type": "code",
   "execution_count": 5,
   "metadata": {},
   "outputs": [],
   "source": [
    "# data generation: not linearly separable\n",
    "X, Y = make_circles(n_samples=200, noise=0.05, random_state=1234)\n",
    "X = pd.DataFrame(X, columns=['x1', 'x2'])\n",
    "\n",
    "# splitting data into training and test set\n",
    "X_train, X_test, Y_train, Y_test = train_test_split(X, Y, test_size=0.33, random_state=333)"
   ]
  },
  {
   "cell_type": "code",
   "execution_count": 6,
   "metadata": {},
   "outputs": [
    {
     "data": {
      "image/png": "[encoded data removed]",
      "text/plain": [
       "<Figure size 432x288 with 1 Axes>"
      ]
     },
     "metadata": {
      "needs_background": "light"
     },
     "output_type": "display_data"
    }
   ],
   "source": [
    "# build the model\n",
    "model = svm.SVC(kernel='rbf', random_state=33, gamma = 0.5)\n",
    "model.fit(X_train, Y_train)\n",
    "\n",
    "# create plot\n",
    "fig, ax = plt.subplots()\n",
    "\n",
    "# get colors from qualitative colormap 'Paired'\n",
    "cmap = plt.cm.get_cmap('Paired')\n",
    "\n",
    "# plot data points\n",
    "ax.scatter(X_train.iloc[Y_train == 1, 0], X_train.iloc[Y_train == 1, 1],\n",
    "           c=[cmap(11)], label='1')\n",
    "ax.scatter(X_train.iloc[Y_train == 0, 0], X_train.iloc[Y_train == 0, 1],\n",
    "           c=[cmap(0)], label='0')\n",
    "ax.legend(loc='best')\n",
    "\n",
    "# plot the decision function\n",
    "# create grid to evaluate model\n",
    "x1_min, x1_max = X_train.iloc[:, 0].min() - 1, X_train.iloc[:, 0].max() + 1\n",
    "x2_min, x2_max = X_train.iloc[:, 1].min() - 1, X_train.iloc[:, 1].max() + 1\n",
    "\n",
    "XX, YY = np.meshgrid(np.arange(x1_min, x1_max, .2),\n",
    "                     np.arange(x2_min, x2_max, .2))\n",
    "\n",
    "xy = np.vstack([XX.ravel(), YY.ravel()]).T\n",
    "Z = model.decision_function(xy).reshape(XX.shape)\n",
    "\n",
    "# plot decision boundary and margins\n",
    "ax.contour(XX, YY, Z, colors='k', levels=[-1, 0, 1], alpha=0.5,\n",
    "           linestyles=['--', '-', '--'])\n",
    "\n",
    "# Establish the class for each point in the contour\n",
    "Z = model.predict(xy).reshape(XX.shape)\n",
    "\n",
    "# Visualization of the contour\n",
    "ax.contourf(XX, YY, Z, cmap='bwr', alpha=0.3)\n",
    "\n",
    "# plot support vectors, whose are responsible for building the margins\n",
    "ax.scatter(model.support_vectors_[:, 0], model.support_vectors_[:, 1], s=100,\n",
    "           linewidth=1, facecolors='none', edgecolors='k', marker='s')\n",
    "\n",
    "ax.axis([x1_min, x1_max, x2_min, x2_max])\n",
    "plt.axis('tight')\n",
    "plt.title('RBF kernel SVM')\n",
    "plt.show()"
   ]
  },
  {
   "cell_type": "markdown",
   "metadata": {},
   "source": [
    "<p><font color='#770a0a'>When should a RBF kernel be used over a linear kernel? Motivate your answer.</font></p>\n",
    "\n",
    "When the data cannot be seperated using a linear function, one should explore other kernels which can split the data samples using a non-linear function. So a RBF kernel should be used when the decision boundaries between the classes are curve-shaped.\n",
    "\n",
    "<p><font color='#770a0a'>Do we need to normalize the data before using a kernel function? Motivate your answer.\n",
    "</font></p>\n",
    "\n",
    "Yes, because the kernel uses distance between two points. If the range between the samples of one feature is much larger than the differences of another, the larger differences will have a bigger influence on the kernel and thus overshadow the smaller differences. By not normalizing some features will be given a larger importance than others. To prevent that one should normalize the data, before using a kernel function."
   ]
  },
  {
   "cell_type": "markdown",
   "metadata": {},
   "source": [
    "## Predicting drug response on cell lines from gene expression data with SVMs\n",
    "\n",
    "Explore the hyper-parameter space of an SVM classifier with cross-validation for the Genomics of Drug Sensitivity in Cancer (GDSC) dataset. The`GridSearchCV` function can be used to specify a grid of parameter values with the `param_grid` parameter.\n",
    "\n",
    "Calculate the precision of your predictions, and compare your calculations with the results of `classification_report`, which displays many classification metrics.\n",
    "\n",
    "\n",
    "\n",
    "\n",
    "\n",
    "\n"
   ]
  },
  {
   "cell_type": "code",
   "execution_count": 7,
   "metadata": {},
   "outputs": [],
   "source": [
    "#---import/prepare dataset\n",
    "#calculate z-score and threshold z-score < 0 to label 1 (sensitive) and z-score > 0 to label 0 (resistant) \n",
    "DR = drug_response.squeeze()\n",
    "DR_zscore = stats.zscore(DR)\n",
    "\n",
    "DR_zscore[DR_zscore > 0] = 0\n",
    "DR_zscore[DR_zscore < 0] = 1\n",
    "\n",
    "X_train, X_test, y_train, y_test = train_test_split(gene_expression, DR_zscore, random_state=2)\n"
   ]
  },
  {
   "cell_type": "code",
   "execution_count": 8,
   "metadata": {},
   "outputs": [
    {
     "name": "stdout",
     "output_type": "stream",
     "text": [
      "Fitting 5 folds for each of 6505 candidates, totalling 32525 fits\n"
     ]
    },
    {
     "name": "stderr",
     "output_type": "stream",
     "text": [
      "<<<<<<< local\n"
     ]
    },
    {
     "name": "stderr",
     "output_type": "stream",
     "text": [
      "[Parallel(n_jobs=-1)]: Using backend LokyBackend with 8 concurrent workers.\n",
      "[Parallel(n_jobs=-1)]: Done  25 tasks      | elapsed:    1.6s\n",
      "[Parallel(n_jobs=-1)]: Done 672 tasks      | elapsed:    3.9s\n",
      "[Parallel(n_jobs=-1)]: Done 2296 tasks      | elapsed:    9.3s\n",
      "[Parallel(n_jobs=-1)]: Done 4560 tasks      | elapsed:   16.1s\n",
      "[Parallel(n_jobs=-1)]: Done 7480 tasks      | elapsed:   26.4s\n",
      "[Parallel(n_jobs=-1)]: Done 11040 tasks      | elapsed:   40.6s\n",
      "[Parallel(n_jobs=-1)]: Done 14928 tasks      | elapsed:   57.1s\n",
      "[Parallel(n_jobs=-1)]: Done 19456 tasks      | elapsed:  1.3min\n",
      "[Parallel(n_jobs=-1)]: Done 24640 tasks      | elapsed:  1.8min\n",
      "[Parallel(n_jobs=-1)]: Done 30136 tasks      | elapsed:  2.4min\n",
      "[Parallel(n_jobs=-1)]: Done 32525 out of 32525 | elapsed:  2.8min finished\n"
     ]
    },
    {
     "name": "stderr",
     "output_type": "stream",
     "text": [
      "=======\n"
     ]
    },
    {
     "name": "stderr",
     "output_type": "stream",
     "text": [
      "[Parallel(n_jobs=-1)]: Using backend LokyBackend with 12 concurrent workers.\n",
      "[Parallel(n_jobs=-1)]: Done  26 tasks      | elapsed:    2.9s\n",
      "[Parallel(n_jobs=-1)]: Done 664 tasks      | elapsed:    5.0s\n",
      "[Parallel(n_jobs=-1)]: Done 2664 tasks      | elapsed:   10.8s\n",
      "[Parallel(n_jobs=-1)]: Done 5464 tasks      | elapsed:   18.2s\n",
      "[Parallel(n_jobs=-1)]: Done 9064 tasks      | elapsed:   28.0s\n",
      "[Parallel(n_jobs=-1)]: Done 12295 tasks      | elapsed:  1.2min\n",
      "[Parallel(n_jobs=-1)]: Done 12952 tasks      | elapsed:  1.4min\n",
      "[Parallel(n_jobs=-1)]: Done 14428 tasks      | elapsed:  1.8min\n",
      "[Parallel(n_jobs=-1)]: Done 16140 tasks      | elapsed:  2.1min\n",
      "[Parallel(n_jobs=-1)]: Done 18046 tasks      | elapsed:  2.4min\n",
      "[Parallel(n_jobs=-1)]: Done 20146 tasks      | elapsed:  2.7min\n"
     ]
    },
    {
     "name": "stderr",
     "output_type": "stream",
     "text": [
      ">>>>>>> remote\n"
     ]
    }
   ],
   "source": [
    "import numpy as np\n",
    "from sklearn.preprocessing import StandardScaler\n",
    "from sklearn.model_selection import GridSearchCV\n",
    "from sklearn.pipeline import Pipeline \n",
    "from sklearn.svm import SVC\n",
    "\n",
    "# Create the pipeline\n",
    "model = Pipeline([\n",
    "    ('scaler', StandardScaler()),\n",
    "    ('svc', SVC())\n",
    "])\n",
    "\n",
    "# Create the parameter space\n",
    "degrees = np.arange(1,5,1)\n",
    "gammas = np.logspace(-5 -1, 5)\n",
    "Cs = np.logspace(-2, -1, 5)\n",
    "Coef0s = np.logspace(0, 4, 5)\n",
    "model_param_grid = [\n",
    "    {'svc__kernel': ['rbf'],'svc__gamma': gammas, 'svc__C': Cs},\n",
    "    {'svc__kernel': ['poly'], 'svc__degree': degrees, 'svc__gamma': gammas, 'svc__C': Cs, 'svc__coef0': Coef0s},\n",
    "    {'svc__kernel': ['linear'], 'svc__C': Cs},\n",
    "    {'svc__kernel': ['sigmoid'], 'svc__gamma': gammas, 'svc__C': Cs, 'svc__coef0': Coef0s}\n",
    "]\n",
    "\n",
    "# Instantiate GridSearchCV\n",
    "search = GridSearchCV(\n",
    "    model,\n",
    "    model_param_grid,\n",
    "    cv=5,\n",
    "    n_jobs=-1,\n",
    "    scoring='precision',\n",
    "    verbose=2\n",
    "\n",
    ")\n",
    "\n",
    "# and find the best parameters\n",
    "fitted = search.fit(X_train, y_train)\n"
   ]
  },
  {
   "cell_type": "code",
   "execution_count": 9,
   "metadata": {},
   "outputs": [
    {
     "name": "stdout",
     "output_type": "stream",
     "text": [
      "Pipeline(steps=[('scaler', StandardScaler()),\n",
      "                ('svc',\n",
      "                 SVC(C=0.01, coef0=1000.0, gamma=2.811768697974231e-06,\n",
      "                     kernel='poly'))])\n",
      "0.7712131006248654\n",
      "{'svc__C': 0.01, 'svc__coef0': 1000.0, 'svc__degree': 3, 'svc__gamma': 2.811768697974231e-06, 'svc__kernel': 'poly'}\n"
     ]
    }
   ],
   "source": [
    "print(fitted.best_estimator_)\n",
    "print(fitted.best_score_)\n",
    "print(fitted.best_params_)"
   ]
  },
  {
   "cell_type": "code",
   "execution_count": 21,
   "metadata": {},
   "outputs": [
    {
     "name": "stdout",
     "output_type": "stream",
     "text": [
      "Precision is: 0.7083333333333334\n",
      "\n",
      "Accuracy is: 0.6756756756756757\n",
      "\n",
      "              precision    recall  f1-score   support\n",
      "\n",
      "         0.0       0.53      0.62      0.57        13\n",
      "         1.0       0.77      0.71      0.74        24\n",
      "\n",
      "    accuracy                           0.68        37\n",
      "   macro avg       0.65      0.66      0.66        37\n",
      "weighted avg       0.69      0.68      0.68        37\n",
      "\n"
     ]
    }
   ],
   "source": [
    "from sklearn.metrics import classification_report\n",
    "from sklearn.metrics import accuracy_score, precision_score\n",
    "\n",
    "# predict\n",
    "y_pred = fitted.best_estimator_.predict(X_test)\n",
    "\n",
    "print(\"Precision is: {0}\\n\".format(precision_score(y_pred, y_test)))\n",
    "print(\"Accuracy is: {0}\\n\".format(accuracy_score(y_pred, y_test)))\n",
    "\n",
    "# get classification report\n",
    "report = classification_report(\n",
    "    y_test, \n",
    "    y_pred\n",
    ")\n",
    "\n",
    "print(report)"
   ]
  },
  {
   "cell_type": "markdown",
   "metadata": {},
   "source": [
    "## Random forests\n",
    "\n",
    "Follow the same steps as for SVM. Compare the two algorithms and report which one has better performance.\n",
    "\n",
    "The random forests classifiers allows to perform feature selection. Evaluate the importance of features extracting the top 50 informative features. A bar plot (`plt.bar()`) can be a useful tool to visualize this. \n",
    "\n",
    "\n"
   ]
  },
  {
   "cell_type": "code",
   "execution_count": 16,
   "metadata": {},
   "outputs": [],
   "source": [
    "#---Gridsearch\n",
    "#parameters\n",
    "\n",
    "model_param_grid = {#sqrt(num_features)=15.43\n",
    "    'n_estimators': [10,50,100,300,500,1000],\n",
    "    'max_depth': [10,20,30,60,100],\n",
    "    'max_features': [5,15,30,50,100],\n",
    "    'min_samples_leaf': [2,4,5,10,20],\n",
    "    'min_samples_split': [5,8,10,15,30],\n",
    "}\n",
    "# sqrt(p)=15.43\n",
    "# only be considered if it leaves at least min_samples_leaf training\n",
    "# samples in each of the left and right branches. \n",
    "\n",
    "#model\n",
    "model=RandomForestClassifier(verbose=1,bootstrap=True, oob_score=True)#default criterion='gini'\n",
    "\n",
    "\n",
    "#search\n",
    "grid_search = GridSearchCV(\n",
    "        estimator=model,\n",
    "        param_grid=model_param_grid,\n",
    "        cv=5,\n",
    "        scoring='precision', \n",
    "        verbose=2,\n",
    "        n_jobs=-1\n",
    ")"
   ]
  },
  {
   "cell_type": "code",
   "execution_count": 17,
   "metadata": {
    "scrolled": true
   },
   "outputs": [
    {
     "name": "stdout",
     "output_type": "stream",
     "text": [
      "Fitting 5 folds for each of 3750 candidates, totalling 18750 fits\n"
     ]
    },
    {
     "name": "stderr",
     "output_type": "stream",
     "text": [
      "[Parallel(n_jobs=-1)]: Using backend LokyBackend with 8 concurrent workers.\n",
      "[Parallel(n_jobs=-1)]: Done  25 tasks      | elapsed:    3.4s\n",
      "[Parallel(n_jobs=-1)]: Done 146 tasks      | elapsed:   16.8s\n",
      "[Parallel(n_jobs=-1)]: Done 349 tasks      | elapsed:   39.1s\n",
      "[Parallel(n_jobs=-1)]: Done 632 tasks      | elapsed:  1.2min\n",
      "[Parallel(n_jobs=-1)]: Done 997 tasks      | elapsed:  1.8min\n",
      "[Parallel(n_jobs=-1)]: Done 1442 tasks      | elapsed:  2.7min\n",
      "[Parallel(n_jobs=-1)]: Done 1969 tasks      | elapsed:  3.8min\n",
      "[Parallel(n_jobs=-1)]: Done 2576 tasks      | elapsed:  5.1min\n",
      "[Parallel(n_jobs=-1)]: Done 3265 tasks      | elapsed:  6.7min\n",
      "[Parallel(n_jobs=-1)]: Done 4034 tasks      | elapsed:  8.4min\n",
      "[Parallel(n_jobs=-1)]: Done 4885 tasks      | elapsed: 10.0min\n",
      "[Parallel(n_jobs=-1)]: Done 5816 tasks      | elapsed: 11.8min\n",
      "[Parallel(n_jobs=-1)]: Done 6829 tasks      | elapsed: 14.0min\n",
      "[Parallel(n_jobs=-1)]: Done 7922 tasks      | elapsed: 16.4min\n",
      "[Parallel(n_jobs=-1)]: Done 9097 tasks      | elapsed: 18.6min\n",
      "[Parallel(n_jobs=-1)]: Done 10352 tasks      | elapsed: 21.2min\n",
      "[Parallel(n_jobs=-1)]: Done 11689 tasks      | elapsed: 24.1min\n",
      "[Parallel(n_jobs=-1)]: Done 13106 tasks      | elapsed: 26.8min\n",
      "[Parallel(n_jobs=-1)]: Done 14605 tasks      | elapsed: 30.1min\n",
      "[Parallel(n_jobs=-1)]: Done 16184 tasks      | elapsed: 33.2min\n",
      "[Parallel(n_jobs=-1)]: Done 17845 tasks      | elapsed: 36.6min\n",
      "[Parallel(n_jobs=-1)]: Done 18750 out of 18750 | elapsed: 38.8min finished\n",
      "[Parallel(n_jobs=1)]: Using backend SequentialBackend with 1 concurrent workers.\n",
      "[Parallel(n_jobs=1)]: Done  10 out of  10 | elapsed:    0.0s finished\n",
      "/home/dirk/anaconda3/envs/8dm50/lib/python3.6/site-packages/sklearn/ensemble/_forest.py:540: UserWarning: Some inputs do not have OOB scores. This probably means too few trees were used to compute any reliable oob estimates.\n",
      "  warn(\"Some inputs do not have OOB scores. \"\n",
      "/home/dirk/anaconda3/envs/8dm50/lib/python3.6/site-packages/sklearn/ensemble/_forest.py:545: RuntimeWarning: invalid value encountered in true_divide\n",
      "  predictions[k].sum(axis=1)[:, np.newaxis])\n"
     ]
    },
    {
     "data": {
      "text/plain": [
       "GridSearchCV(cv=5, estimator=RandomForestClassifier(oob_score=True, verbose=1),\n",
       "             n_jobs=-1,\n",
       "             param_grid={'max_depth': [10, 20, 30, 60, 100],\n",
       "                         'max_features': [5, 15, 30, 50, 100],\n",
       "                         'min_samples_leaf': [2, 4, 5, 10, 20],\n",
       "                         'min_samples_split': [5, 8, 10, 15, 30],\n",
       "                         'n_estimators': [10, 50, 100, 300, 500, 1000]},\n",
       "             scoring='precision', verbose=2)"
      ]
     },
     "execution_count": 17,
     "metadata": {},
     "output_type": "execute_result"
    }
   ],
   "source": [
    "##fit\n",
    "grid_search.fit(X_train, y_train)"
   ]
  },
  {
   "cell_type": "code",
   "execution_count": 18,
   "metadata": {},
   "outputs": [
    {
     "name": "stdout",
     "output_type": "stream",
     "text": [
      "The Best Parameters: {'max_depth': 30, 'max_features': 100, 'min_samples_leaf': 2, 'min_samples_split': 5, 'n_estimators': 10}\n"
     ]
    }
   ],
   "source": [
    "#---best estimator\n",
    "print('The Best Parameters:',grid_search.best_params_)"
   ]
  },
  {
   "cell_type": "code",
   "execution_count": 23,
   "metadata": {},
   "outputs": [
    {
     "name": "stdout",
     "output_type": "stream",
     "text": [
      "Accuracy on test data: 0.59\n",
      "Accuracy: 0.5945945945945946\n",
      "\n",
      "Precision: 0.7647058823529411\n",
      "\n",
      "              precision    recall  f1-score   support\n",
      "\n",
      "         0.0       0.45      0.69      0.55        13\n",
      "         1.0       0.76      0.54      0.63        24\n",
      "\n",
      "    accuracy                           0.59        37\n",
      "   macro avg       0.61      0.62      0.59        37\n",
      "weighted avg       0.65      0.59      0.60        37\n",
      "\n",
      "Prediction genearlisation error: 0.39639639639639634\n"
     ]
    },
    {
     "name": "stderr",
     "output_type": "stream",
     "text": [
      "[Parallel(n_jobs=1)]: Using backend SequentialBackend with 1 concurrent workers.\n",
      "[Parallel(n_jobs=1)]: Done  10 out of  10 | elapsed:    0.0s finished\n",
      "[Parallel(n_jobs=1)]: Using backend SequentialBackend with 1 concurrent workers.\n",
      "[Parallel(n_jobs=1)]: Done  10 out of  10 | elapsed:    0.0s finished\n"
     ]
    }
   ],
   "source": [
    "#---precision of predictors\n",
    "from sklearn.metrics import accuracy_score, precision_score\n",
    "\n",
    "y_pred=grid_search.best_estimator_.predict(X_test)#Call predict on the estimator with the best found parameters.  \n",
    "\n",
    "#Accuracy    \n",
    "print(\"Accuracy on test data: {:.2f}\".format(grid_search.best_estimator_.score(X_test, y_test)))\n",
    "print(\"Accuracy: {0}\\n\".format(accuracy_score(y_test, y_pred)))\n",
    "\n",
    "#Precision\n",
    "print(\"Precision: {0}\\n\".format(precision_score(y_test, y_pred)))\n",
    "\n",
    "# Classification Report\n",
    "report = classification_report(\n",
    "    y_test, \n",
    "    y_pred\n",
    ")\n",
    "print(report)\n",
    "\n",
    "#prediction generalisation error\n",
    "oob_error = 1 - grid_search.best_estimator_.oob_score_\n",
    "print('Prediction genearlisation error:',oob_error)\n"
   ]
  },
  {
   "cell_type": "code",
   "execution_count": 24,
   "metadata": {},
   "outputs": [
    {
     "data": {
      "image/png": "[encoded data removed]",
      "text/plain": [
       "<Figure size 720x720 with 1 Axes>"
      ]
     },
     "metadata": {
      "needs_background": "light"
     },
     "output_type": "display_data"
    }
   ],
   "source": [
    " #---visualise top 50 informative features\n",
    "import numpy as np\n",
    "import matplotlib.pyplot as plt\n",
    "top50=50\n",
    "importent=grid_search.best_estimator_.feature_importances_\n",
    "tree_importance_sorted_idx = np.argsort(importent)[::-1]\n",
    "tree_indices = np.arange(top50) \n",
    "plt.figure(figsize=(10, 10))\n",
    "best50idx=tree_importance_sorted_idx[0:50]\n",
    "best=importent[best50idx]\n",
    "names=list(gene_expression.columns[best50idx])\n",
    "plt.barh(tree_indices,best[::-1])\n",
    "plt.yticks(tree_indices,names[::-1])\n",
    "plt.ylabel('Features')\n",
    "plt.xlabel('Feature importance')\n",
    "plt.show()      \n"
   ]
  },
  {
   "cell_type": "markdown",
   "metadata": {},
   "source": [
    "## Biomedical applications\n",
    "\n",
    "Driven by technological advances, there has recently been a dramatic increase in availability of biomedical data. Machine learning approaches are well suited to take advantage of this data and have been widely applied to many areas of biology. \n",
    "\n",
    "Example of these applications are genome annotation, biomarker identification, systems biology, genome data analysis, protein  function  prediction, protein  structure prediction, protein localization prediction, identification of protein interactions and drug discovery.\n",
    "\n",
    "SVM and RF methods are among the most popular machine learning methods applied in bioinformatics or computational biology.\n",
    "\n",
    "Perform a literature search and find a biomedical study in which SVM or RF is applied to obtain certain insights. <p><font color='#770a0a'>Explain the motivation behind using that specific algorithm in the study.\n",
    "</font></p>"
   ]
  },
  {
   "cell_type": "markdown",
   "metadata": {},
   "source": [
    "Study found: [\"Structure-based prediction of protein– peptide binding regions using Random Forest\"](https://academic.oup.com/bioinformatics/article/34/3/477/4237510)\n",
    "\n",
    "This study proposes a model for predicting putative protein–peptide-binding residues and binding sites. Since this is challenging to study experimentally due to small peptide sizes, weak binding affinity and peptide flexibility, it is desirable to have reliable computational methods to complement experimental studies. Computational models will be useful to improve efficiency and cost effectiveness of experimental studies. \n",
    "Both structural and sequence-based information were integrated by a Random Forest (RF) classifier for prediction of binding residues, which was then employed to infer-binding sites using Density-Based Spatial Clustering of Applications with Noise (DBSCAN) algorithm.\n",
    "Random Forest is a preferred method because of it's ability to deal with very complex data structures and recognizing the important elements in protein sequences as used in this study.\n",
    "\n",
    "First of they choose to use SVM, however, by employing all features they found RF has better performance. Thus, the RF model was selected for further study.\n",
    "The results section shows the improvement by using RF: In the 10-fold CV, SVM model obtained an AUC value of 0.73 which is less than the AUC value of 0.757 achieved by RF. After feature selection for RF model, the AUCs for the 10-fold CV and independent test set increase to 0.775 and 0.782, with an MCC of 0.27 and 0.293, respectively."
   ]
  }
 ],
 "metadata": {
  "kernelspec": {
   "display_name": "Python 3",
   "language": "python",
   "name": "python3"
  },
  "language_info": {
   "codemirror_mode": {
    "name": "ipython",
    "version": 3
   },
   "file_extension": ".py",
   "mimetype": "text/x-python",
   "name": "python",
   "nbconvert_exporter": "python",
   "pygments_lexer": "ipython3",
   "version": "3.6.10"
  }
 },
 "nbformat": 4,
 "nbformat_minor": 2
}
